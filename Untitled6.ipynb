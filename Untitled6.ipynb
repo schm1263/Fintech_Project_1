{
 "cells": [
  {
   "cell_type": "code",
   "execution_count": 2,
   "id": "04f0eae0",
   "metadata": {},
   "outputs": [],
   "source": [
    "import pandas as pd\n",
    "import datetime as dt\n"
   ]
  },
  {
   "cell_type": "code",
   "execution_count": 3,
   "id": "642c61e4",
   "metadata": {},
   "outputs": [],
   "source": [
    "# Start and end\n",
    "start = dt.datetime(1980,1,1)\n",
    "end = dt.datetime(2021,7,31)"
   ]
  },
  {
   "cell_type": "code",
   "execution_count": null,
   "id": "56068508",
   "metadata": {},
   "outputs": [],
   "source": [
    "# Obtain Money supply"
   ]
  }
 ],
 "metadata": {
  "kernelspec": {
   "display_name": "Python [conda env:pyvizenv] *",
   "language": "python",
   "name": "conda-env-pyvizenv-py"
  },
  "language_info": {
   "codemirror_mode": {
    "name": "ipython",
    "version": 3
   },
   "file_extension": ".py",
   "mimetype": "text/x-python",
   "name": "python",
   "nbconvert_exporter": "python",
   "pygments_lexer": "ipython3",
   "version": "3.7.10"
  }
 },
 "nbformat": 4,
 "nbformat_minor": 5
}
