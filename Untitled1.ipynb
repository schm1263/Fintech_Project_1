{
 "cells": [
  {
   "cell_type": "code",
   "execution_count": null,
   "id": "7ba1d8f4",
   "metadata": {},
   "outputs": [],
   "source": []
  },
  {
   "cell_type": "code",
   "execution_count": 4,
   "id": "0638dfa9",
   "metadata": {},
   "outputs": [
    {
     "name": "stdout",
     "output_type": "stream",
     "text": [
      "Collecting pandas-datareader\n",
      "  Downloading pandas_datareader-0.10.0-py3-none-any.whl (109 kB)\n",
      "Requirement already satisfied: requests>=2.19.0 in c:\\users\\prade\\anaconda3\\envs\\pyvizenv\\lib\\site-packages (from pandas-datareader) (2.25.1)\n",
      "Requirement already satisfied: pandas>=0.23 in c:\\users\\prade\\anaconda3\\envs\\pyvizenv\\lib\\site-packages (from pandas-datareader) (0.24.2)\n",
      "Requirement already satisfied: lxml in c:\\users\\prade\\anaconda3\\envs\\pyvizenv\\lib\\site-packages (from pandas-datareader) (4.6.3)\n",
      "Requirement already satisfied: python-dateutil>=2.5.0 in c:\\users\\prade\\anaconda3\\envs\\pyvizenv\\lib\\site-packages (from pandas>=0.23->pandas-datareader) (2.8.1)\n",
      "Requirement already satisfied: pytz>=2011k in c:\\users\\prade\\anaconda3\\envs\\pyvizenv\\lib\\site-packages (from pandas>=0.23->pandas-datareader) (2021.1)\n",
      "Requirement already satisfied: numpy>=1.12.0 in c:\\users\\prade\\anaconda3\\envs\\pyvizenv\\lib\\site-packages (from pandas>=0.23->pandas-datareader) (1.21.1)\n",
      "Requirement already satisfied: six>=1.5 in c:\\users\\prade\\anaconda3\\envs\\pyvizenv\\lib\\site-packages (from python-dateutil>=2.5.0->pandas>=0.23->pandas-datareader) (1.15.0)\n",
      "Requirement already satisfied: chardet<5,>=3.0.2 in c:\\users\\prade\\anaconda3\\envs\\pyvizenv\\lib\\site-packages (from requests>=2.19.0->pandas-datareader) (4.0.0)\n",
      "Requirement already satisfied: certifi>=2017.4.17 in c:\\users\\prade\\anaconda3\\envs\\pyvizenv\\lib\\site-packages (from requests>=2.19.0->pandas-datareader) (2020.6.20)\n",
      "Requirement already satisfied: idna<3,>=2.5 in c:\\users\\prade\\anaconda3\\envs\\pyvizenv\\lib\\site-packages (from requests>=2.19.0->pandas-datareader) (2.10)\n",
      "Requirement already satisfied: urllib3<1.27,>=1.21.1 in c:\\users\\prade\\anaconda3\\envs\\pyvizenv\\lib\\site-packages (from requests>=2.19.0->pandas-datareader) (1.26.4)\n",
      "Installing collected packages: pandas-datareader\n",
      "Successfully installed pandas-datareader-0.10.0\n",
      "Note: you may need to restart the kernel to use updated packages.\n"
     ]
    }
   ],
   "source": [
    "pip install pandas-datareader"
   ]
  },
  {
   "cell_type": "code",
   "execution_count": 3,
   "id": "0ff7a291",
   "metadata": {},
   "outputs": [
    {
     "ename": "ModuleNotFoundError",
     "evalue": "No module named 'pandas_datareader'",
     "output_type": "error",
     "traceback": [
      "\u001b[1;31m---------------------------------------------------------------------------\u001b[0m",
      "\u001b[1;31mModuleNotFoundError\u001b[0m                       Traceback (most recent call last)",
      "\u001b[1;32m<ipython-input-3-5a36e368a302>\u001b[0m in \u001b[0;36m<module>\u001b[1;34m\u001b[0m\n\u001b[1;32m----> 1\u001b[1;33m \u001b[1;32mimport\u001b[0m \u001b[0mpandas_datareader\u001b[0m \u001b[1;32mas\u001b[0m \u001b[0mpdr\u001b[0m\u001b[1;33m\u001b[0m\u001b[1;33m\u001b[0m\u001b[0m\n\u001b[0m\u001b[0;32m      2\u001b[0m \u001b[1;32mimport\u001b[0m \u001b[0mpandas\u001b[0m \u001b[1;32mas\u001b[0m \u001b[0mpd\u001b[0m\u001b[1;33m\u001b[0m\u001b[1;33m\u001b[0m\u001b[0m\n\u001b[0;32m      3\u001b[0m \u001b[1;32mimport\u001b[0m \u001b[0mdatetime\u001b[0m\u001b[1;33m\u001b[0m\u001b[1;33m\u001b[0m\u001b[0m\n",
      "\u001b[1;31mModuleNotFoundError\u001b[0m: No module named 'pandas_datareader'"
     ]
    }
   ],
   "source": [
    "import pandas_datareader as pdr\n",
    "import pandas as pd\n",
    "import datetime"
   ]
  },
  {
   "cell_type": "code",
   "execution_count": null,
   "id": "9275ea49",
   "metadata": {},
   "outputs": [],
   "source": [
    "start = datetime.datetime (2005, 5, 1)\n",
    "end = datetime.datetime (2020, 6, 1)\n",
    "\n",
    "df = pdr.DataReader('PAYEMS', 'fred', start, end)"
   ]
  }
 ],
 "metadata": {
  "kernelspec": {
   "display_name": "Python [conda env:pyvizenv] *",
   "language": "python",
   "name": "conda-env-pyvizenv-py"
  },
  "language_info": {
   "codemirror_mode": {
    "name": "ipython",
    "version": 3
   },
   "file_extension": ".py",
   "mimetype": "text/x-python",
   "name": "python",
   "nbconvert_exporter": "python",
   "pygments_lexer": "ipython3",
   "version": "3.7.10"
  }
 },
 "nbformat": 4,
 "nbformat_minor": 5
}
