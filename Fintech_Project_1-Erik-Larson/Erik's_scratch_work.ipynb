{
 "cells": [
  {
   "cell_type": "code",
   "execution_count": 1,
   "id": "add5cd56-0bb1-4d64-946a-44514bfe3846",
   "metadata": {},
   "outputs": [],
   "source": [
    "# Initial imports\n",
    "import pandas as pd\n",
    "import numpy as np\n",
    "import seaborn as sns\n",
    "import requests\n",
    "from dotenv import load_dotenv\n",
    "import os\n",
    "from fredapi import Fred"
   ]
  },
  {
   "cell_type": "code",
   "execution_count": 2,
   "id": "5afa5f12-69ea-4f70-bc98-2b0f1871f29f",
   "metadata": {},
   "outputs": [
    {
     "data": {
      "text/plain": [
       "True"
      ]
     },
     "execution_count": 2,
     "metadata": {},
     "output_type": "execute_result"
    }
   ],
   "source": [
    "load_dotenv()"
   ]
  },
  {
   "cell_type": "code",
   "execution_count": 3,
   "id": "93c9d8fa-955e-446f-ac89-92448ce749ff",
   "metadata": {},
   "outputs": [],
   "source": [
    "api_key=os.getenv(\"FRED_API_KEY\")"
   ]
  },
  {
   "cell_type": "code",
   "execution_count": 4,
   "id": "dc0ddd26-3d6b-43e5-a6cd-566b047b9922",
   "metadata": {},
   "outputs": [
    {
     "data": {
      "text/plain": [
       "str"
      ]
     },
     "execution_count": 4,
     "metadata": {},
     "output_type": "execute_result"
    }
   ],
   "source": [
    "# Use the type function to confirm the retrieval of the API key\n",
    "type(api_key)"
   ]
  },
  {
   "cell_type": "code",
   "execution_count": 5,
   "id": "4112194d-d220-4cf8-af63-b1ce6cab280f",
   "metadata": {},
   "outputs": [],
   "source": [
    "fred = Fred(api_key)\n"
   ]
  },
  {
   "cell_type": "code",
   "execution_count": 6,
   "id": "63c5bac4-7b42-4036-9713-8fd7af5809d5",
   "metadata": {},
   "outputs": [],
   "source": [
    "data = fred.get_series('SP500')"
   ]
  },
  {
   "cell_type": "code",
   "execution_count": 7,
   "id": "b83ea570-ea40-4aa8-86b2-f64f175d7a89",
   "metadata": {},
   "outputs": [
    {
     "data": {
      "text/plain": [
       "2011-08-05    1199.38\n",
       "2011-08-08    1119.46\n",
       "2011-08-09    1172.53\n",
       "2011-08-10    1120.76\n",
       "2011-08-11    1172.64\n",
       "dtype: float64"
      ]
     },
     "execution_count": 7,
     "metadata": {},
     "output_type": "execute_result"
    }
   ],
   "source": [
    "data.head()"
   ]
  },
  {
   "cell_type": "code",
   "execution_count": 8,
   "id": "453607df-d7cd-4ec4-9465-e0667a2a7fbb",
   "metadata": {},
   "outputs": [],
   "source": [
    "# sp500_df = fred.get_series_all_releases('SP500')\n",
    "# sp500_df.head()"
   ]
  },
  {
   "cell_type": "markdown",
   "id": "a48a5505-89d8-4f48-8b0a-895c792f01d6",
   "metadata": {},
   "source": [
    "## Pulling M2 Data,\n",
    "##### With example of converting monthly series to quarterly"
   ]
  },
  {
   "cell_type": "code",
   "execution_count": 9,
   "id": "959a2144-b709-4cf1-9963-e9d1132237af",
   "metadata": {},
   "outputs": [
    {
     "data": {
      "text/plain": [
       "1959-01-01    286.6\n",
       "1959-02-01    287.7\n",
       "1959-03-01    289.2\n",
       "1959-04-01    290.1\n",
       "1959-05-01    292.2\n",
       "dtype: float64"
      ]
     },
     "execution_count": 9,
     "metadata": {},
     "output_type": "execute_result"
    }
   ],
   "source": [
    "m2_data = fred.get_series('M2SL')\n",
    "m2_data.head()"
   ]
  },
  {
   "cell_type": "code",
   "execution_count": 10,
   "id": "67010d31-2195-4c7c-ac3c-416d5597c2d1",
   "metadata": {},
   "outputs": [
    {
     "data": {
      "text/plain": [
       "(750,)"
      ]
     },
     "execution_count": 10,
     "metadata": {},
     "output_type": "execute_result"
    }
   ],
   "source": [
    "m2_data.shape"
   ]
  },
  {
   "cell_type": "markdown",
   "id": "30ae955c-ca31-41a0-b97c-8d6876315b8e",
   "metadata": {},
   "source": [
    "##### Example of converting monthly series to quarterly"
   ]
  },
  {
   "cell_type": "code",
   "execution_count": 11,
   "id": "d09c158b-0774-421e-a578-8cfbad5a7773",
   "metadata": {},
   "outputs": [
    {
     "data": {
      "text/html": [
       "<div>\n",
       "<style scoped>\n",
       "    .dataframe tbody tr th:only-of-type {\n",
       "        vertical-align: middle;\n",
       "    }\n",
       "\n",
       "    .dataframe tbody tr th {\n",
       "        vertical-align: top;\n",
       "    }\n",
       "\n",
       "    .dataframe thead th {\n",
       "        text-align: right;\n",
       "    }\n",
       "</style>\n",
       "<table border=\"1\" class=\"dataframe\">\n",
       "  <thead>\n",
       "    <tr style=\"text-align: right;\">\n",
       "      <th></th>\n",
       "      <th>0</th>\n",
       "    </tr>\n",
       "  </thead>\n",
       "  <tbody>\n",
       "    <tr>\n",
       "      <th>1959-01-01</th>\n",
       "      <td>286.6</td>\n",
       "    </tr>\n",
       "    <tr>\n",
       "      <th>1959-02-01</th>\n",
       "      <td>287.7</td>\n",
       "    </tr>\n",
       "    <tr>\n",
       "      <th>1959-03-01</th>\n",
       "      <td>289.2</td>\n",
       "    </tr>\n",
       "    <tr>\n",
       "      <th>1959-04-01</th>\n",
       "      <td>290.1</td>\n",
       "    </tr>\n",
       "    <tr>\n",
       "      <th>1959-05-01</th>\n",
       "      <td>292.2</td>\n",
       "    </tr>\n",
       "  </tbody>\n",
       "</table>\n",
       "</div>"
      ],
      "text/plain": [
       "                0\n",
       "1959-01-01  286.6\n",
       "1959-02-01  287.7\n",
       "1959-03-01  289.2\n",
       "1959-04-01  290.1\n",
       "1959-05-01  292.2"
      ]
     },
     "execution_count": 11,
     "metadata": {},
     "output_type": "execute_result"
    }
   ],
   "source": [
    "# Changing Datetime index to Quarterly:\n",
    "m2_quarterly = m2_data.to_frame()\n",
    "# m2_quarterly = m2_data.resample(rule = 'Q')\n",
    "m2_quarterly.head()"
   ]
  },
  {
   "cell_type": "code",
   "execution_count": 12,
   "id": "eff6bf4e-fd08-41bb-aa7d-fcfb67ee7f38",
   "metadata": {},
   "outputs": [
    {
     "data": {
      "text/html": [
       "<div>\n",
       "<style scoped>\n",
       "    .dataframe tbody tr th:only-of-type {\n",
       "        vertical-align: middle;\n",
       "    }\n",
       "\n",
       "    .dataframe tbody tr th {\n",
       "        vertical-align: top;\n",
       "    }\n",
       "\n",
       "    .dataframe thead th {\n",
       "        text-align: right;\n",
       "    }\n",
       "</style>\n",
       "<table border=\"1\" class=\"dataframe\">\n",
       "  <thead>\n",
       "    <tr style=\"text-align: right;\">\n",
       "      <th></th>\n",
       "      <th>M2</th>\n",
       "    </tr>\n",
       "  </thead>\n",
       "  <tbody>\n",
       "    <tr>\n",
       "      <th>1959-01-01</th>\n",
       "      <td>286.6</td>\n",
       "    </tr>\n",
       "    <tr>\n",
       "      <th>1959-02-01</th>\n",
       "      <td>287.7</td>\n",
       "    </tr>\n",
       "    <tr>\n",
       "      <th>1959-03-01</th>\n",
       "      <td>289.2</td>\n",
       "    </tr>\n",
       "    <tr>\n",
       "      <th>1959-04-01</th>\n",
       "      <td>290.1</td>\n",
       "    </tr>\n",
       "    <tr>\n",
       "      <th>1959-05-01</th>\n",
       "      <td>292.2</td>\n",
       "    </tr>\n",
       "  </tbody>\n",
       "</table>\n",
       "</div>"
      ],
      "text/plain": [
       "               M2\n",
       "1959-01-01  286.6\n",
       "1959-02-01  287.7\n",
       "1959-03-01  289.2\n",
       "1959-04-01  290.1\n",
       "1959-05-01  292.2"
      ]
     },
     "execution_count": 12,
     "metadata": {},
     "output_type": "execute_result"
    }
   ],
   "source": [
    "m2_quarterly.index = pd.to_datetime(m2_quarterly.index) \n",
    "m2_quarterly.rename(columns = {0:'M2'}, inplace = True)\n",
    "m2_quarterly.head()"
   ]
  },
  {
   "cell_type": "code",
   "execution_count": 13,
   "id": "2d1c5808-5997-43ab-9a73-764ce77d4710",
   "metadata": {},
   "outputs": [
    {
     "data": {
      "text/plain": [
       "DatetimeIndex(['1959-01-01', '1959-02-01', '1959-03-01', '1959-04-01',\n",
       "               '1959-05-01', '1959-06-01', '1959-07-01', '1959-08-01',\n",
       "               '1959-09-01', '1959-10-01',\n",
       "               ...\n",
       "               '2020-09-01', '2020-10-01', '2020-11-01', '2020-12-01',\n",
       "               '2021-01-01', '2021-02-01', '2021-03-01', '2021-04-01',\n",
       "               '2021-05-01', '2021-06-01'],\n",
       "              dtype='datetime64[ns]', length=750, freq=None)"
      ]
     },
     "execution_count": 13,
     "metadata": {},
     "output_type": "execute_result"
    }
   ],
   "source": [
    "# Make sure that the index is a \"DatetimeIndex\"\n",
    "m2_quarterly.index"
   ]
  },
  {
   "cell_type": "code",
   "execution_count": 14,
   "id": "5564571d-202f-4d16-9481-cd8169639909",
   "metadata": {},
   "outputs": [
    {
     "data": {
      "text/html": [
       "<div>\n",
       "<style scoped>\n",
       "    .dataframe tbody tr th:only-of-type {\n",
       "        vertical-align: middle;\n",
       "    }\n",
       "\n",
       "    .dataframe tbody tr th {\n",
       "        vertical-align: top;\n",
       "    }\n",
       "\n",
       "    .dataframe thead th {\n",
       "        text-align: right;\n",
       "    }\n",
       "</style>\n",
       "<table border=\"1\" class=\"dataframe\">\n",
       "  <thead>\n",
       "    <tr style=\"text-align: right;\">\n",
       "      <th></th>\n",
       "      <th>M2</th>\n",
       "    </tr>\n",
       "  </thead>\n",
       "  <tbody>\n",
       "    <tr>\n",
       "      <th>1959-03-31</th>\n",
       "      <td>289.2</td>\n",
       "    </tr>\n",
       "    <tr>\n",
       "      <th>1959-06-30</th>\n",
       "      <td>294.1</td>\n",
       "    </tr>\n",
       "    <tr>\n",
       "      <th>1959-09-30</th>\n",
       "      <td>296.7</td>\n",
       "    </tr>\n",
       "    <tr>\n",
       "      <th>1959-12-31</th>\n",
       "      <td>297.8</td>\n",
       "    </tr>\n",
       "    <tr>\n",
       "      <th>1960-03-31</th>\n",
       "      <td>299.3</td>\n",
       "    </tr>\n",
       "  </tbody>\n",
       "</table>\n",
       "</div>"
      ],
      "text/plain": [
       "               M2\n",
       "1959-03-31  289.2\n",
       "1959-06-30  294.1\n",
       "1959-09-30  296.7\n",
       "1959-12-31  297.8\n",
       "1960-03-31  299.3"
      ]
     },
     "execution_count": 14,
     "metadata": {},
     "output_type": "execute_result"
    }
   ],
   "source": [
    "# Using \"resample\" requires an aggregator for the time period like \"mean()\".  In this case we just want the last value.\n",
    "m2_quarterly = m2_quarterly.resample(rule = 'Q').last()\n",
    "m2_quarterly.head()"
   ]
  },
  {
   "cell_type": "markdown",
   "id": "376184e3-b20d-4b2a-99e2-07e750eb6b56",
   "metadata": {},
   "source": [
    "<hr>"
   ]
  },
  {
   "cell_type": "code",
   "execution_count": null,
   "id": "b5969d4c-5112-4fff-8211-6012efd9b0f2",
   "metadata": {},
   "outputs": [],
   "source": []
  },
  {
   "cell_type": "code",
   "execution_count": 15,
   "id": "57581d6f-2b34-458f-9cbc-a9ec0fb39e24",
   "metadata": {},
   "outputs": [],
   "source": [
    "# m2_dataframe = fred.get_series_all_releases('M2SL')\n",
    "# m2_dataframe.head()"
   ]
  },
  {
   "cell_type": "code",
   "execution_count": 16,
   "id": "5e9e4345-eb54-47e1-ad34-211069c45c4f",
   "metadata": {},
   "outputs": [],
   "source": [
    "# # Define the base request URL\n",
    "# request_url = \"https://api.stlouisfed.org/fred/series/search?api_key=\"\n",
    "# # Concatenate request_url and api_key.  Store as new variable\n",
    "# request_url = request_url + api_key"
   ]
  },
  {
   "cell_type": "code",
   "execution_count": 17,
   "id": "f58241b0-8938-4e35-b85b-c38f19d1acdb",
   "metadata": {},
   "outputs": [],
   "source": [
    "# # Execute get request\n",
    "# response_data = requests.get(request_url + \"&search_text=M2SL\")"
   ]
  },
  {
   "cell_type": "code",
   "execution_count": 18,
   "id": "2c646606-e21c-4d6a-868d-0d7b97e29786",
   "metadata": {},
   "outputs": [],
   "source": [
    "# # Display Output data with content attribute:\n",
    "# response_data.content"
   ]
  },
  {
   "cell_type": "code",
   "execution_count": 19,
   "id": "1e7adaea-1a48-4953-a74e-e28aca01ffc3",
   "metadata": {},
   "outputs": [],
   "source": [
    "# real_GDP_df = fred.get_series_all_releases('GDPC1')\n",
    "# real_GDP_df.head()"
   ]
  },
  {
   "cell_type": "code",
   "execution_count": 20,
   "id": "65abbe0c-a8a2-4ae8-a9ad-c1d851ebd31b",
   "metadata": {},
   "outputs": [
    {
     "data": {
      "text/plain": [
       "1947-01-01    2034.450\n",
       "1947-04-01    2029.024\n",
       "1947-07-01    2024.834\n",
       "1947-10-01    2056.508\n",
       "1948-01-01    2087.442\n",
       "dtype: float64"
      ]
     },
     "execution_count": 20,
     "metadata": {},
     "output_type": "execute_result"
    }
   ],
   "source": [
    "real_GDP_data = fred.get_series('GDPC1')\n",
    "real_GDP_data.head()"
   ]
  },
  {
   "cell_type": "markdown",
   "id": "dffac0e2-ebdc-453a-b613-8e00f6298d59",
   "metadata": {},
   "source": [
    "# FRED API Work:\n",
    "### EXAMPLE JSON REQUEST (HTTPS GET):\n",
    "https://api.stlouisfed.org/fred/category?category_id=125&api_key=abcdefghijklmnopqrstuvwxyz123456&file_type=json"
   ]
  },
  {
   "cell_type": "code",
   "execution_count": 21,
   "id": "6da83633-fff4-4197-85b3-ee44e887c76f",
   "metadata": {},
   "outputs": [],
   "source": [
    "# Define the base request URL: NOTE - This returned the webpage.\n",
    "request_url = \"https://api.stlouisfed.org/fred/series/search?api_key=\"\n",
    "# Concatenate request_url and api_key.  Store as new variable\n",
    "request_url = request_url + api_key"
   ]
  },
  {
   "cell_type": "code",
   "execution_count": 22,
   "id": "4f52a45a-b8fa-4bcb-918d-1f8acd1653b9",
   "metadata": {},
   "outputs": [],
   "source": [
    "# Execute get request:  NOTE - This returned the webpage.\n",
    "response_data = requests.get(request_url + \"&search_text=M2SL\")"
   ]
  },
  {
   "cell_type": "code",
   "execution_count": 23,
   "id": "cf5acd8f-576d-48dc-8e68-aa06ba148869",
   "metadata": {},
   "outputs": [],
   "source": [
    "# # Display Output data with content attribute: NOTE - This returned the webpage.\n",
    "# response_data.content"
   ]
  },
  {
   "cell_type": "code",
   "execution_count": null,
   "id": "f04f133f-ea67-4b10-ab40-639e04edf54d",
   "metadata": {},
   "outputs": [],
   "source": []
  },
  {
   "cell_type": "code",
   "execution_count": 24,
   "id": "4f6f31d4-0018-4fdd-a244-43f9260b247e",
   "metadata": {},
   "outputs": [],
   "source": [
    "# Define the base request URL: NOTE - This returned the webpage.\n",
    "request_url_base = \"https://api.stlouisfed.org/fred/\"\n",
    "\n",
    "# Set API Variables:\n",
    "category_id = \"125\"\n",
    "file_type = 'json'\n",
    "\n",
    "# Set URL Variables:\n",
    "category_id_url = \"category?category_id=\" + category_id\n",
    "file_type_url = \"&file_type=\" + file_type\n",
    "\n",
    "# Concatenate request_url and api_key.  Store as new variable\n",
    "request_url = request_url_base + category_id_url + \"&api_key=\" + api_key + file_type_url"
   ]
  },
  {
   "cell_type": "code",
   "execution_count": 25,
   "id": "187114c3-8608-48e1-be70-7cbb096632d9",
   "metadata": {},
   "outputs": [],
   "source": [
    "response_data = requests.get(request_url)"
   ]
  },
  {
   "cell_type": "code",
   "execution_count": 26,
   "id": "b2ee9e3f-8ec9-4b9e-af39-9771a8bfd0a7",
   "metadata": {},
   "outputs": [
    {
     "data": {
      "text/plain": [
       "b'{\"categories\":[{\"id\":125,\"name\":\"Trade Balance\",\"parent_id\":13}]}'"
      ]
     },
     "execution_count": 26,
     "metadata": {},
     "output_type": "execute_result"
    }
   ],
   "source": [
    "response_data.content"
   ]
  },
  {
   "cell_type": "markdown",
   "id": "cb9ff418-7182-470d-a665-5d03e80e05a9",
   "metadata": {},
   "source": [
    "<hr>"
   ]
  },
  {
   "cell_type": "markdown",
   "id": "958292b1-18da-4561-89e7-6797e09a4574",
   "metadata": {},
   "source": [
    "# M2 DATA:"
   ]
  },
  {
   "cell_type": "code",
   "execution_count": 27,
   "id": "fc58bf16-d95d-4d85-9c0b-3de67d54e764",
   "metadata": {},
   "outputs": [
    {
     "data": {
      "text/plain": [
       "1947-01-01    2034.450\n",
       "1947-04-01    2029.024\n",
       "1947-07-01    2024.834\n",
       "1947-10-01    2056.508\n",
       "1948-01-01    2087.442\n",
       "dtype: float64"
      ]
     },
     "execution_count": 27,
     "metadata": {},
     "output_type": "execute_result"
    }
   ],
   "source": [
    "# Pull M2 data from January 1, 1980 - July 31, 2021,  Clean data, & put into a data frame\n",
    "# M2: In Billions of Dollars, Calculated Monthly\n",
    "m2_data.head()\n",
    "# Real GDP: In Billions of Dollars, Calculated Quarterly\n",
    "real_GDP_data.head()"
   ]
  },
  {
   "cell_type": "code",
   "execution_count": 28,
   "id": "76aef559-1b90-408f-9b8f-277365f67377",
   "metadata": {},
   "outputs": [
    {
     "data": {
      "text/html": [
       "<div>\n",
       "<style scoped>\n",
       "    .dataframe tbody tr th:only-of-type {\n",
       "        vertical-align: middle;\n",
       "    }\n",
       "\n",
       "    .dataframe tbody tr th {\n",
       "        vertical-align: top;\n",
       "    }\n",
       "\n",
       "    .dataframe thead th {\n",
       "        text-align: right;\n",
       "    }\n",
       "</style>\n",
       "<table border=\"1\" class=\"dataframe\">\n",
       "  <thead>\n",
       "    <tr style=\"text-align: right;\">\n",
       "      <th></th>\n",
       "      <th>0</th>\n",
       "      <th>1</th>\n",
       "    </tr>\n",
       "  </thead>\n",
       "  <tbody>\n",
       "    <tr>\n",
       "      <th>1959-01-01</th>\n",
       "      <td>3123.978</td>\n",
       "      <td>286.6</td>\n",
       "    </tr>\n",
       "    <tr>\n",
       "      <th>1959-04-01</th>\n",
       "      <td>3194.429</td>\n",
       "      <td>290.1</td>\n",
       "    </tr>\n",
       "    <tr>\n",
       "      <th>1959-07-01</th>\n",
       "      <td>3196.683</td>\n",
       "      <td>295.2</td>\n",
       "    </tr>\n",
       "    <tr>\n",
       "      <th>1959-10-01</th>\n",
       "      <td>3205.790</td>\n",
       "      <td>296.5</td>\n",
       "    </tr>\n",
       "    <tr>\n",
       "      <th>1960-01-01</th>\n",
       "      <td>3277.847</td>\n",
       "      <td>298.2</td>\n",
       "    </tr>\n",
       "  </tbody>\n",
       "</table>\n",
       "</div>"
      ],
      "text/plain": [
       "                   0      1\n",
       "1959-01-01  3123.978  286.6\n",
       "1959-04-01  3194.429  290.1\n",
       "1959-07-01  3196.683  295.2\n",
       "1959-10-01  3205.790  296.5\n",
       "1960-01-01  3277.847  298.2"
      ]
     },
     "execution_count": 28,
     "metadata": {},
     "output_type": "execute_result"
    }
   ],
   "source": [
    "m2_real_gdp = pd.concat([real_GDP_data, m2_data], axis=1, join='inner')\n",
    "m2_real_gdp.head()"
   ]
  },
  {
   "cell_type": "code",
   "execution_count": 29,
   "id": "c6158e39-f18d-470c-a163-d425b0d61239",
   "metadata": {},
   "outputs": [
    {
     "data": {
      "text/html": [
       "<div>\n",
       "<style scoped>\n",
       "    .dataframe tbody tr th:only-of-type {\n",
       "        vertical-align: middle;\n",
       "    }\n",
       "\n",
       "    .dataframe tbody tr th {\n",
       "        vertical-align: top;\n",
       "    }\n",
       "\n",
       "    .dataframe thead th {\n",
       "        text-align: right;\n",
       "    }\n",
       "</style>\n",
       "<table border=\"1\" class=\"dataframe\">\n",
       "  <thead>\n",
       "    <tr style=\"text-align: right;\">\n",
       "      <th></th>\n",
       "      <th>Real GDP</th>\n",
       "      <th>M2</th>\n",
       "    </tr>\n",
       "  </thead>\n",
       "  <tbody>\n",
       "    <tr>\n",
       "      <th>1959-01-01</th>\n",
       "      <td>3123.978</td>\n",
       "      <td>286.6</td>\n",
       "    </tr>\n",
       "    <tr>\n",
       "      <th>1959-04-01</th>\n",
       "      <td>3194.429</td>\n",
       "      <td>290.1</td>\n",
       "    </tr>\n",
       "    <tr>\n",
       "      <th>1959-07-01</th>\n",
       "      <td>3196.683</td>\n",
       "      <td>295.2</td>\n",
       "    </tr>\n",
       "    <tr>\n",
       "      <th>1959-10-01</th>\n",
       "      <td>3205.790</td>\n",
       "      <td>296.5</td>\n",
       "    </tr>\n",
       "    <tr>\n",
       "      <th>1960-01-01</th>\n",
       "      <td>3277.847</td>\n",
       "      <td>298.2</td>\n",
       "    </tr>\n",
       "  </tbody>\n",
       "</table>\n",
       "</div>"
      ],
      "text/plain": [
       "            Real GDP     M2\n",
       "1959-01-01  3123.978  286.6\n",
       "1959-04-01  3194.429  290.1\n",
       "1959-07-01  3196.683  295.2\n",
       "1959-10-01  3205.790  296.5\n",
       "1960-01-01  3277.847  298.2"
      ]
     },
     "execution_count": 29,
     "metadata": {},
     "output_type": "execute_result"
    }
   ],
   "source": [
    "m2_real_gdp.rename(columns = {0:'Real GDP', 1: 'M2'}, inplace = True)\n",
    "m2_real_gdp.head()"
   ]
  },
  {
   "cell_type": "code",
   "execution_count": 30,
   "id": "573b5dbe-5d09-46e3-82ed-1914589d9577",
   "metadata": {},
   "outputs": [
    {
     "name": "stdout",
     "output_type": "stream",
     "text": [
      "<class 'pandas.core.frame.DataFrame'>\n",
      "DatetimeIndex: 250 entries, 1959-01-01 to 2021-04-01\n",
      "Freq: QS-OCT\n",
      "Data columns (total 2 columns):\n",
      "Real GDP    250 non-null float64\n",
      "M2          250 non-null float64\n",
      "dtypes: float64(2)\n",
      "memory usage: 5.9 KB\n"
     ]
    }
   ],
   "source": [
    "# Note:  Index is already a \"DatetimeIndex\"\n",
    "m2_real_gdp.info()"
   ]
  },
  {
   "cell_type": "code",
   "execution_count": null,
   "id": "d0fa43fc-7df0-4f5c-8d62-2e032eeb396a",
   "metadata": {},
   "outputs": [],
   "source": []
  },
  {
   "cell_type": "markdown",
   "id": "cd2fea87-8da6-492d-a327-68b267425c00",
   "metadata": {},
   "source": [
    "# Pull Stock S&P 500 data from January 1, 1980 - July 31, 2021, Clean data, & put into a data frame\n",
    "\n",
    "##### Setting to datetime format:\n",
    "whale_df.set_index(pd.to_datetime(whale_df['Date'], infer_datetime_format=True), inplace=True)\n",
    "whale_df.head()\n",
    "\n",
    "##### Count nulls\n",
    "whale_df.isnull().sum()\n",
    "\n",
    "##### Drop nulls\n",
    "whale_df.dropna(inplace=True)\n"
   ]
  },
  {
   "cell_type": "markdown",
   "id": "9d39ef50-5e7e-47b4-9d40-32efe5f8d744",
   "metadata": {},
   "source": [
    "##### Convert existing Date Index to Datetime - NOT NEEDED!\n",
    "m2_real_gdp.index = pd.to_datetime(m2_real_gdp.index)\n",
    "m2_real_gdp.head()"
   ]
  },
  {
   "cell_type": "code",
   "execution_count": 31,
   "id": "baf4db32-c953-44e8-9a06-a800ebe30dae",
   "metadata": {},
   "outputs": [
    {
     "data": {
      "text/plain": [
       "Real GDP    0\n",
       "M2          0\n",
       "dtype: int64"
      ]
     },
     "execution_count": 31,
     "metadata": {},
     "output_type": "execute_result"
    }
   ],
   "source": [
    "# Check for null values:\n",
    "m2_real_gdp.isnull().sum()"
   ]
  },
  {
   "cell_type": "code",
   "execution_count": null,
   "id": "84c880ed-a5fb-43fd-8197-666ab2bf0912",
   "metadata": {},
   "outputs": [],
   "source": []
  },
  {
   "cell_type": "code",
   "execution_count": 32,
   "id": "6e9311a7-9788-45da-8e4e-f9c81322c2c2",
   "metadata": {},
   "outputs": [
    {
     "data": {
      "text/html": [
       "<div>\n",
       "<style scoped>\n",
       "    .dataframe tbody tr th:only-of-type {\n",
       "        vertical-align: middle;\n",
       "    }\n",
       "\n",
       "    .dataframe tbody tr th {\n",
       "        vertical-align: top;\n",
       "    }\n",
       "\n",
       "    .dataframe thead th {\n",
       "        text-align: right;\n",
       "    }\n",
       "</style>\n",
       "<table border=\"1\" class=\"dataframe\">\n",
       "  <thead>\n",
       "    <tr style=\"text-align: right;\">\n",
       "      <th></th>\n",
       "      <th>Real GDP</th>\n",
       "      <th>M2</th>\n",
       "      <th>Real GDP Pct Chng</th>\n",
       "    </tr>\n",
       "  </thead>\n",
       "  <tbody>\n",
       "    <tr>\n",
       "      <th>1959-01-01</th>\n",
       "      <td>3123.978</td>\n",
       "      <td>286.6</td>\n",
       "      <td>NaN</td>\n",
       "    </tr>\n",
       "    <tr>\n",
       "      <th>1959-04-01</th>\n",
       "      <td>3194.429</td>\n",
       "      <td>290.1</td>\n",
       "      <td>0.022552</td>\n",
       "    </tr>\n",
       "    <tr>\n",
       "      <th>1959-07-01</th>\n",
       "      <td>3196.683</td>\n",
       "      <td>295.2</td>\n",
       "      <td>0.000706</td>\n",
       "    </tr>\n",
       "    <tr>\n",
       "      <th>1959-10-01</th>\n",
       "      <td>3205.790</td>\n",
       "      <td>296.5</td>\n",
       "      <td>0.002849</td>\n",
       "    </tr>\n",
       "    <tr>\n",
       "      <th>1960-01-01</th>\n",
       "      <td>3277.847</td>\n",
       "      <td>298.2</td>\n",
       "      <td>0.022477</td>\n",
       "    </tr>\n",
       "  </tbody>\n",
       "</table>\n",
       "</div>"
      ],
      "text/plain": [
       "            Real GDP     M2  Real GDP Pct Chng\n",
       "1959-01-01  3123.978  286.6                NaN\n",
       "1959-04-01  3194.429  290.1           0.022552\n",
       "1959-07-01  3196.683  295.2           0.000706\n",
       "1959-10-01  3205.790  296.5           0.002849\n",
       "1960-01-01  3277.847  298.2           0.022477"
      ]
     },
     "execution_count": 32,
     "metadata": {},
     "output_type": "execute_result"
    }
   ],
   "source": [
    "# Calculate % Yearly Change for each set of data.\n",
    "\n",
    "# Calculate Daily Returns (Refer to HW_4, Whale of a Portfolio)\n",
    "m2_real_gdp['Real GDP Pct Chng'] = m2_real_gdp['Real GDP'].pct_change()\n",
    "m2_real_gdp.head()"
   ]
  },
  {
   "cell_type": "code",
   "execution_count": 33,
   "id": "c8faf62a-e47b-47fd-8f14-89c4c697c9d9",
   "metadata": {},
   "outputs": [
    {
     "data": {
      "text/html": [
       "<div>\n",
       "<style scoped>\n",
       "    .dataframe tbody tr th:only-of-type {\n",
       "        vertical-align: middle;\n",
       "    }\n",
       "\n",
       "    .dataframe tbody tr th {\n",
       "        vertical-align: top;\n",
       "    }\n",
       "\n",
       "    .dataframe thead th {\n",
       "        text-align: right;\n",
       "    }\n",
       "</style>\n",
       "<table border=\"1\" class=\"dataframe\">\n",
       "  <thead>\n",
       "    <tr style=\"text-align: right;\">\n",
       "      <th></th>\n",
       "      <th>Real GDP</th>\n",
       "      <th>M2</th>\n",
       "      <th>Real GDP Pct Chng</th>\n",
       "      <th>M2 Pct Chng</th>\n",
       "    </tr>\n",
       "  </thead>\n",
       "  <tbody>\n",
       "    <tr>\n",
       "      <th>1959-01-01</th>\n",
       "      <td>3123.978</td>\n",
       "      <td>286.6</td>\n",
       "      <td>NaN</td>\n",
       "      <td>NaN</td>\n",
       "    </tr>\n",
       "    <tr>\n",
       "      <th>1959-04-01</th>\n",
       "      <td>3194.429</td>\n",
       "      <td>290.1</td>\n",
       "      <td>0.022552</td>\n",
       "      <td>0.012212</td>\n",
       "    </tr>\n",
       "    <tr>\n",
       "      <th>1959-07-01</th>\n",
       "      <td>3196.683</td>\n",
       "      <td>295.2</td>\n",
       "      <td>0.000706</td>\n",
       "      <td>0.017580</td>\n",
       "    </tr>\n",
       "    <tr>\n",
       "      <th>1959-10-01</th>\n",
       "      <td>3205.790</td>\n",
       "      <td>296.5</td>\n",
       "      <td>0.002849</td>\n",
       "      <td>0.004404</td>\n",
       "    </tr>\n",
       "    <tr>\n",
       "      <th>1960-01-01</th>\n",
       "      <td>3277.847</td>\n",
       "      <td>298.2</td>\n",
       "      <td>0.022477</td>\n",
       "      <td>0.005734</td>\n",
       "    </tr>\n",
       "  </tbody>\n",
       "</table>\n",
       "</div>"
      ],
      "text/plain": [
       "            Real GDP     M2  Real GDP Pct Chng  M2 Pct Chng\n",
       "1959-01-01  3123.978  286.6                NaN          NaN\n",
       "1959-04-01  3194.429  290.1           0.022552     0.012212\n",
       "1959-07-01  3196.683  295.2           0.000706     0.017580\n",
       "1959-10-01  3205.790  296.5           0.002849     0.004404\n",
       "1960-01-01  3277.847  298.2           0.022477     0.005734"
      ]
     },
     "execution_count": 33,
     "metadata": {},
     "output_type": "execute_result"
    }
   ],
   "source": [
    "m2_real_gdp['M2 Pct Chng'] = m2_real_gdp['M2'].pct_change()\n",
    "m2_real_gdp.head()"
   ]
  },
  {
   "cell_type": "code",
   "execution_count": 34,
   "id": "f1e32101-c67d-4b15-837f-2e71775b76a9",
   "metadata": {
    "tags": []
   },
   "outputs": [],
   "source": [
    "# # Join Whale Returns, Algorithmic Returns, and the S&P 500 Returns into a single DataFrame with columns for each portfolio's returns.\n",
    "# combined_rtrns = pd.concat([sp500_rt, algo_df, whale_df], axis=\"columns\", join='inner')\n",
    "# combined_rtrns.sort_index(inplace=True)"
   ]
  },
  {
   "cell_type": "code",
   "execution_count": 35,
   "id": "4b615a17-354f-441b-b3c5-90dfcacc4b1e",
   "metadata": {},
   "outputs": [
    {
     "data": {
      "text/html": [
       "<div>\n",
       "<style scoped>\n",
       "    .dataframe tbody tr th:only-of-type {\n",
       "        vertical-align: middle;\n",
       "    }\n",
       "\n",
       "    .dataframe tbody tr th {\n",
       "        vertical-align: top;\n",
       "    }\n",
       "\n",
       "    .dataframe thead th {\n",
       "        text-align: right;\n",
       "    }\n",
       "</style>\n",
       "<table border=\"1\" class=\"dataframe\">\n",
       "  <thead>\n",
       "    <tr style=\"text-align: right;\">\n",
       "      <th></th>\n",
       "      <th>M2 Pct Chng</th>\n",
       "      <th>Real GDP Pct Chng</th>\n",
       "    </tr>\n",
       "  </thead>\n",
       "  <tbody>\n",
       "    <tr>\n",
       "      <th>1959-01-01</th>\n",
       "      <td>NaN</td>\n",
       "      <td>NaN</td>\n",
       "    </tr>\n",
       "    <tr>\n",
       "      <th>1959-04-01</th>\n",
       "      <td>0.012212</td>\n",
       "      <td>0.022552</td>\n",
       "    </tr>\n",
       "    <tr>\n",
       "      <th>1959-07-01</th>\n",
       "      <td>0.017580</td>\n",
       "      <td>0.000706</td>\n",
       "    </tr>\n",
       "    <tr>\n",
       "      <th>1959-10-01</th>\n",
       "      <td>0.004404</td>\n",
       "      <td>0.002849</td>\n",
       "    </tr>\n",
       "    <tr>\n",
       "      <th>1960-01-01</th>\n",
       "      <td>0.005734</td>\n",
       "      <td>0.022477</td>\n",
       "    </tr>\n",
       "  </tbody>\n",
       "</table>\n",
       "</div>"
      ],
      "text/plain": [
       "            M2 Pct Chng  Real GDP Pct Chng\n",
       "1959-01-01          NaN                NaN\n",
       "1959-04-01     0.012212           0.022552\n",
       "1959-07-01     0.017580           0.000706\n",
       "1959-10-01     0.004404           0.002849\n",
       "1960-01-01     0.005734           0.022477"
      ]
     },
     "execution_count": 35,
     "metadata": {},
     "output_type": "execute_result"
    }
   ],
   "source": [
    "# Calculate & show Correlation: USING SEABORN FOR THE HEATMAP from from January 1, 1980 - July 31, 2021\n",
    "pct_chng_M2gdp = m2_real_gdp[['M2 Pct Chng', 'Real GDP Pct Chng']]\n",
    "pct_chng_M2gdp.head()"
   ]
  },
  {
   "cell_type": "code",
   "execution_count": 36,
   "id": "1a4469f2-8f7d-4e9a-957a-cf74d0e4a9a8",
   "metadata": {},
   "outputs": [
    {
     "data": {
      "text/html": [
       "<div>\n",
       "<style scoped>\n",
       "    .dataframe tbody tr th:only-of-type {\n",
       "        vertical-align: middle;\n",
       "    }\n",
       "\n",
       "    .dataframe tbody tr th {\n",
       "        vertical-align: top;\n",
       "    }\n",
       "\n",
       "    .dataframe thead th {\n",
       "        text-align: right;\n",
       "    }\n",
       "</style>\n",
       "<table border=\"1\" class=\"dataframe\">\n",
       "  <thead>\n",
       "    <tr style=\"text-align: right;\">\n",
       "      <th></th>\n",
       "      <th>M2 Pct Chng</th>\n",
       "      <th>Real GDP Pct Chng</th>\n",
       "    </tr>\n",
       "  </thead>\n",
       "  <tbody>\n",
       "    <tr>\n",
       "      <th>2020-04-01</th>\n",
       "      <td>0.105964</td>\n",
       "      <td>-0.089373</td>\n",
       "    </tr>\n",
       "    <tr>\n",
       "      <th>2020-07-01</th>\n",
       "      <td>0.074934</td>\n",
       "      <td>0.075475</td>\n",
       "    </tr>\n",
       "    <tr>\n",
       "      <th>2020-10-01</th>\n",
       "      <td>0.023532</td>\n",
       "      <td>0.011153</td>\n",
       "    </tr>\n",
       "    <tr>\n",
       "      <th>2021-01-01</th>\n",
       "      <td>0.034419</td>\n",
       "      <td>0.015339</td>\n",
       "    </tr>\n",
       "    <tr>\n",
       "      <th>2021-04-01</th>\n",
       "      <td>0.037295</td>\n",
       "      <td>0.015876</td>\n",
       "    </tr>\n",
       "  </tbody>\n",
       "</table>\n",
       "</div>"
      ],
      "text/plain": [
       "            M2 Pct Chng  Real GDP Pct Chng\n",
       "2020-04-01     0.105964          -0.089373\n",
       "2020-07-01     0.074934           0.075475\n",
       "2020-10-01     0.023532           0.011153\n",
       "2021-01-01     0.034419           0.015339\n",
       "2021-04-01     0.037295           0.015876"
      ]
     },
     "execution_count": 36,
     "metadata": {},
     "output_type": "execute_result"
    }
   ],
   "source": [
    "# Change Return data to desired time frame: from January 1, 1980 - July 31, 2021\n",
    "pct_chng_M2gdp['1980-01-01':'2021-07-31'].tail()"
   ]
  },
  {
   "cell_type": "code",
   "execution_count": 37,
   "id": "ef654b27-a933-46fa-8e4f-67a9e616b93b",
   "metadata": {},
   "outputs": [
    {
     "data": {
      "text/html": [
       "<div>\n",
       "<style scoped>\n",
       "    .dataframe tbody tr th:only-of-type {\n",
       "        vertical-align: middle;\n",
       "    }\n",
       "\n",
       "    .dataframe tbody tr th {\n",
       "        vertical-align: top;\n",
       "    }\n",
       "\n",
       "    .dataframe thead th {\n",
       "        text-align: right;\n",
       "    }\n",
       "</style>\n",
       "<table border=\"1\" class=\"dataframe\">\n",
       "  <thead>\n",
       "    <tr style=\"text-align: right;\">\n",
       "      <th></th>\n",
       "      <th>M2 Pct Chng</th>\n",
       "      <th>Real GDP Pct Chng</th>\n",
       "    </tr>\n",
       "  </thead>\n",
       "  <tbody>\n",
       "    <tr>\n",
       "      <th>1980-01-01</th>\n",
       "      <td>0.015270</td>\n",
       "      <td>0.003145</td>\n",
       "    </tr>\n",
       "    <tr>\n",
       "      <th>1980-04-01</th>\n",
       "      <td>0.013152</td>\n",
       "      <td>-0.020605</td>\n",
       "    </tr>\n",
       "    <tr>\n",
       "      <th>1980-07-01</th>\n",
       "      <td>0.028824</td>\n",
       "      <td>-0.001188</td>\n",
       "    </tr>\n",
       "    <tr>\n",
       "      <th>1980-10-01</th>\n",
       "      <td>0.025429</td>\n",
       "      <td>0.018649</td>\n",
       "    </tr>\n",
       "    <tr>\n",
       "      <th>1981-01-01</th>\n",
       "      <td>0.013945</td>\n",
       "      <td>0.019594</td>\n",
       "    </tr>\n",
       "  </tbody>\n",
       "</table>\n",
       "</div>"
      ],
      "text/plain": [
       "            M2 Pct Chng  Real GDP Pct Chng\n",
       "1980-01-01     0.015270           0.003145\n",
       "1980-04-01     0.013152          -0.020605\n",
       "1980-07-01     0.028824          -0.001188\n",
       "1980-10-01     0.025429           0.018649\n",
       "1981-01-01     0.013945           0.019594"
      ]
     },
     "execution_count": 37,
     "metadata": {},
     "output_type": "execute_result"
    }
   ],
   "source": [
    "pct_chng_M2gdp = pct_chng_M2gdp['1980-01-01':'2021-07-31']\n",
    "pct_chng_M2gdp.head()"
   ]
  },
  {
   "cell_type": "code",
   "execution_count": 40,
   "id": "0fc504bc-713b-4abe-8e3a-238f5bf54d49",
   "metadata": {
    "tags": []
   },
   "outputs": [
    {
     "name": "stdout",
     "output_type": "stream",
     "text": [
      "                   M2 Pct Chng  Real GDP Pct Chng\n",
      "M2 Pct Chng           1.000000          -0.202318\n",
      "Real GDP Pct Chng    -0.202318           1.000000\n"
     ]
    }
   ],
   "source": [
    "# Calculate the correlation\n",
    "corr_m2_real_gdp = pct_chng_M2gdp.corr()\n",
    "\n",
    "print(corr_m2_real_gdp)"
   ]
  },
  {
   "cell_type": "code",
   "execution_count": 48,
   "id": "5c682d19-d957-4480-93bb-dff481ea2763",
   "metadata": {},
   "outputs": [
    {
     "data": {
      "text/plain": [
       "[Text(0, 0.5, 'M2 Pct Chng'), Text(0, 1.5, 'Real GDP Pct Chng')]"
      ]
     },
     "execution_count": 48,
     "metadata": {},
     "output_type": "execute_result"
    },
    {
     "data": {
      "image/png": "[encoded data removed]",
      "text/plain": [
       "<Figure size 432x288 with 2 Axes>"
      ]
     },
     "metadata": {
      "needs_background": "light"
     },
     "output_type": "display_data"
    }
   ],
   "source": [
    "# Display de correlation matrix\n",
    "corr_chart = sns.heatmap(corr_m2_real_gdp, annot=True, vmin=-1, vmax=1)\n",
    "corr_chart.set_yticklabels(corr_chart.get_yticklabels(), rotation = 45)"
   ]
  },
  {
   "cell_type": "code",
   "execution_count": 52,
   "id": "7a6f253f-cf4b-4906-857d-fa7004c8ed6b",
   "metadata": {
    "tags": []
   },
   "outputs": [
    {
     "data": {
      "text/plain": [
       "[Text(0, 0.5, 'M2 Pct Chng'), Text(0, 1.5, 'Real GDP Pct Chng')]"
      ]
     },
     "execution_count": 52,
     "metadata": {},
     "output_type": "execute_result"
    },
    {
     "data": {
      "image/png": "[encoded data removed]",
      "text/plain": [
       "<Figure size 432x288 with 2 Axes>"
      ]
     },
     "metadata": {
      "needs_background": "light"
     },
     "output_type": "display_data"
    }
   ],
   "source": [
    "# Display de correlation matrix\n",
    "corr_chart = sns.heatmap(corr_m2_real_gdp, annot=True, vmin=-1, vmax=1)\n",
    "corr_chart.set_yticklabels(corr_chart.get_yticklabels(), verticalalignment='center')"
   ]
  },
  {
   "cell_type": "code",
   "execution_count": null,
   "id": "8e2604f1-cdf7-434a-bbf9-491702910145",
   "metadata": {},
   "outputs": [],
   "source": []
  },
  {
   "cell_type": "code",
   "execution_count": null,
   "id": "202011bb-f13e-4f27-9799-a8b57ac2d916",
   "metadata": {},
   "outputs": [],
   "source": []
  },
  {
   "cell_type": "code",
   "execution_count": null,
   "id": "256a5132-c966-4c24-a4d6-e2da1c243713",
   "metadata": {},
   "outputs": [],
   "source": []
  },
  {
   "cell_type": "code",
   "execution_count": 39,
   "id": "9ded5b06-b554-4e29-86f3-1aced0a7c127",
   "metadata": {},
   "outputs": [
    {
     "ename": "NameError",
     "evalue": "name 'combined_rtrns' is not defined",
     "output_type": "error",
     "traceback": [
      "\u001b[1;31m---------------------------------------------------------------------------\u001b[0m",
      "\u001b[1;31mNameError\u001b[0m                                 Traceback (most recent call last)",
      "\u001b[1;32m<ipython-input-39-f9215a78548f>\u001b[0m in \u001b[0;36m<module>\u001b[1;34m\u001b[0m\n\u001b[0;32m      1\u001b[0m \u001b[1;31m# Calculate & Line Plot cumulative returns:\u001b[0m\u001b[1;33m\u001b[0m\u001b[1;33m\u001b[0m\u001b[1;33m\u001b[0m\u001b[0m\n\u001b[0;32m      2\u001b[0m \u001b[1;31m# Calculate cumulative returns of all portfolios\u001b[0m\u001b[1;33m\u001b[0m\u001b[1;33m\u001b[0m\u001b[1;33m\u001b[0m\u001b[0m\n\u001b[1;32m----> 3\u001b[1;33m \u001b[0mcumulative_returns\u001b[0m \u001b[1;33m=\u001b[0m \u001b[1;33m(\u001b[0m\u001b[1;36m1\u001b[0m \u001b[1;33m+\u001b[0m \u001b[0mcombined_rtrns\u001b[0m\u001b[1;33m)\u001b[0m\u001b[1;33m.\u001b[0m\u001b[0mcumprod\u001b[0m\u001b[1;33m(\u001b[0m\u001b[1;33m)\u001b[0m \u001b[1;33m-\u001b[0m \u001b[1;36m1\u001b[0m\u001b[1;33m\u001b[0m\u001b[1;33m\u001b[0m\u001b[0m\n\u001b[0m\u001b[0;32m      4\u001b[0m \u001b[1;31m# Plot cumulative returns\u001b[0m\u001b[1;33m\u001b[0m\u001b[1;33m\u001b[0m\u001b[1;33m\u001b[0m\u001b[0m\n\u001b[0;32m      5\u001b[0m \u001b[0mcumulative_returns\u001b[0m\u001b[1;33m.\u001b[0m\u001b[0mplot\u001b[0m\u001b[1;33m(\u001b[0m\u001b[0mfigsize\u001b[0m \u001b[1;33m=\u001b[0m \u001b[1;33m(\u001b[0m\u001b[1;36m20\u001b[0m\u001b[1;33m,\u001b[0m\u001b[1;36m10\u001b[0m\u001b[1;33m)\u001b[0m\u001b[1;33m)\u001b[0m\u001b[1;33m\u001b[0m\u001b[1;33m\u001b[0m\u001b[0m\n",
      "\u001b[1;31mNameError\u001b[0m: name 'combined_rtrns' is not defined"
     ]
    }
   ],
   "source": [
    "# Calculate & Line Plot cumulative returns:\n",
    "# Calculate cumulative returns of all portfolios\n",
    "cumulative_returns = (1 + combined_rtrns).cumprod() - 1\n",
    "# Plot cumulative returns\n",
    "cumulative_returns.plot(figsize = (20,10))"
   ]
  },
  {
   "cell_type": "code",
   "execution_count": null,
   "id": "e83a2e42-9c50-4b13-9a7e-64a638fef7cf",
   "metadata": {},
   "outputs": [],
   "source": [
    "# Adding Markers for Notable Dates to Line Plots:\n",
    "# https://towardsdatascience.com/pyviz-simplifying-the-data-visualisation-process-in-python-1b6d2cb728f1\n",
    "import holoviews as hv\n",
    "vline = hv.VLine(1963).options(color='red')\n",
    "vaccination_introduced = diseases_by_year.hvplot() * vline * \\\n",
    "    hv.Text(1963, 27000, \"Measles Vaccine Introduced\", halign='left')\n",
    "vaccination_introduced"
   ]
  },
  {
   "cell_type": "code",
   "execution_count": null,
   "id": "5de2ed0f-7a88-436e-9cb1-85ba4ee0c3cd",
   "metadata": {
    "tags": []
   },
   "outputs": [],
   "source": [
    "# Parallel Categories & Parallel Coordinates.  \n",
    "# EXAMPLE:  https://plotly.com/python/parallel-coordinates-plot/\n",
    "import plotly.graph_objects as go\n",
    "import pandas as pd\n",
    "df = pd.read_csv(\"https://raw.githubusercontent.com/bcdunbar/datasets/master/parcoords_data.csv\")\n",
    "fig = go.Figure(data=\n",
    "    go.Parcoords(\n",
    "        line = dict(color = df['colorVal'],\n",
    "                   colorscale = 'Electric',\n",
    "                   showscale = True,\n",
    "                   cmin = -4000,\n",
    "                   cmax = -100),\n",
    "        dimensions = list([\n",
    "            dict(range = [32000,227900],\n",
    "                 constraintrange = [100000,150000],\n",
    "                 label = \"Block Height\", values = df['blockHeight']),\n",
    "            dict(range = [0,700000],\n",
    "                 label = 'Block Width', values = df['blockWidth']),\n",
    "            dict(tickvals = [0,0.5,1,2,3],\n",
    "                 ticktext = ['A','AB','B','Y','Z'],\n",
    "                 label = 'Cyclinder Material', values = df['cycMaterial']),\n",
    "            dict(range = [-1,4],\n",
    "                 tickvals = [0,1,2,3],\n",
    "                 label = 'Block Material', values = df['blockMaterial']),\n",
    "            dict(range = [134,3154],\n",
    "                 visible = True,\n",
    "                 label = 'Total Weight', values = df['totalWeight']),\n",
    "            dict(range = [9,19984],\n",
    "                 label = 'Assembly Penalty Wt', values = df['assemblyPW']),\n",
    "            dict(range = [49000,568000],\n",
    "                 label = 'Height st Width', values = df['HstW'])])\n",
    "    )\n",
    ")\n",
    "fig.show()"
   ]
  }
 ],
 "metadata": {
  "kernelspec": {
   "display_name": "Python [conda env:alpacaenv]",
   "language": "python",
   "name": "conda-env-alpacaenv-py"
  },
  "language_info": {
   "codemirror_mode": {
    "name": "ipython",
    "version": 3
   },
   "file_extension": ".py",
   "mimetype": "text/x-python",
   "name": "python",
   "nbconvert_exporter": "python",
   "pygments_lexer": "ipython3",
   "version": "3.7.10"
  }
 },
 "nbformat": 4,
 "nbformat_minor": 5
}
