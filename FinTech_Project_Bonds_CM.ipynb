{
 "cells": [
  {
   "cell_type": "code",
   "execution_count": 60,
   "id": "d685dcbd-865e-4389-a156-256b285acab2",
   "metadata": {},
   "outputs": [],
   "source": [
    "#Imports\n",
    "import os\n",
    "import requests\n",
    "import pandas as pd\n",
    "from dotenv import load_dotenv\n",
    "import alpaca_trade_api as tradeapi\n",
    "import numpy as np\n",
    "import pytz\n",
    "from fredapi import Fred\n",
    "\n",
    "%matplotlib inline"
   ]
  },
  {
   "cell_type": "code",
   "execution_count": 61,
   "id": "2f6420b5-e635-4bdb-a0bc-9b41c6b1c057",
   "metadata": {
    "tags": []
   },
   "outputs": [
    {
     "data": {
      "text/plain": [
       "True"
      ]
     },
     "execution_count": 61,
     "metadata": {},
     "output_type": "execute_result"
    }
   ],
   "source": [
    "load_dotenv()"
   ]
  },
  {
   "cell_type": "code",
   "execution_count": 62,
   "id": "502b7bd4-d859-4bd2-9781-a694a2312160",
   "metadata": {},
   "outputs": [],
   "source": [
    "api_key = os.getenv(\"FRED_API_KEY\")"
   ]
  },
  {
   "cell_type": "code",
   "execution_count": 63,
   "id": "7fc9479c-88e3-4a4a-a98a-2637b17535d5",
   "metadata": {},
   "outputs": [
    {
     "data": {
      "text/plain": [
       "str"
      ]
     },
     "execution_count": 63,
     "metadata": {},
     "output_type": "execute_result"
    }
   ],
   "source": [
    "type(api_key)"
   ]
  },
  {
   "cell_type": "code",
   "execution_count": 64,
   "id": "494617f7-8976-45a5-9e03-035c946fbf22",
   "metadata": {},
   "outputs": [],
   "source": [
    "fred = Fred(api_key)"
   ]
  },
  {
   "cell_type": "code",
   "execution_count": 44,
   "id": "2054f695-f829-4cb6-8655-77d982d01d53",
   "metadata": {},
   "outputs": [],
   "source": [
    "#realtime_start = \"1980-01-01\"\n",
    "#realtime_end = \"2021-07-31\""
   ]
  },
  {
   "cell_type": "code",
   "execution_count": 113,
   "id": "f2182cc9-4b25-4487-a651-ae0cec6a0b83",
   "metadata": {},
   "outputs": [
    {
     "data": {
      "text/plain": [
       "1919-01-01    5.35\n",
       "1919-02-01    5.35\n",
       "1919-03-01    5.39\n",
       "1919-04-01    5.44\n",
       "1919-05-01    5.39\n",
       "1919-06-01    5.40\n",
       "1919-07-01    5.44\n",
       "1919-08-01    5.56\n",
       "1919-09-01    5.60\n",
       "1919-10-01    5.54\n",
       "dtype: float64"
      ]
     },
     "execution_count": 113,
     "metadata": {},
     "output_type": "execute_result"
    }
   ],
   "source": [
    "# Corporate Bond data set\n",
    "bond_data = fred.get_series(\"AAA\")\n",
    "bond_data.dropna(inplace=True)\n",
    "bond_data.head(10)"
   ]
  },
  {
   "cell_type": "code",
   "execution_count": 114,
   "id": "a57a46e4-e969-4bc5-ae06-9383f64c970c",
   "metadata": {},
   "outputs": [
    {
     "data": {
      "text/plain": [
       "1959-01-01    286.6\n",
       "1959-02-01    287.7\n",
       "1959-03-01    289.2\n",
       "1959-04-01    290.1\n",
       "1959-05-01    292.2\n",
       "dtype: float64"
      ]
     },
     "execution_count": 114,
     "metadata": {},
     "output_type": "execute_result"
    }
   ],
   "source": [
    "# Money Supply data set\n",
    "m2sl_data = fred.get_series(\"M2SL\")\n",
    "m2sl_data.dropna(inplace=True)\n",
    "#m2sl_data.drop(columns=['Unnamed: 0'], inplace=True)\n",
    "#m2sl_data.isnull()\n",
    "m2sl_data.head()"
   ]
  },
  {
   "cell_type": "code",
   "execution_count": 123,
   "id": "45a0ede0-1fe4-440c-b8a4-918fdd4d2e66",
   "metadata": {},
   "outputs": [
    {
     "data": {
      "text/plain": [
       "2011-08-05    1199.38\n",
       "2011-08-08    1119.46\n",
       "2011-08-09    1172.53\n",
       "2011-08-10    1120.76\n",
       "2011-08-11    1172.64\n",
       "2011-08-12    1178.81\n",
       "2011-08-15    1204.49\n",
       "2011-08-16    1192.76\n",
       "2011-08-17    1193.89\n",
       "2011-08-18    1140.65\n",
       "dtype: float64"
      ]
     },
     "execution_count": 123,
     "metadata": {},
     "output_type": "execute_result"
    }
   ],
   "source": [
    "# S&P 500 data set\n",
    "sp500_data = fred.get_series(\"SP500\")\n",
    "sp500_data.dropna(inplace=True)\n",
    "sp500_data.head(10)"
   ]
  },
  {
   "cell_type": "code",
   "execution_count": 124,
   "id": "36e981e6-a74c-439d-859b-105196f4f5d2",
   "metadata": {},
   "outputs": [
    {
     "data": {
      "text/plain": [
       "1947-01-01    2034.450\n",
       "1947-04-01    2029.024\n",
       "1947-07-01    2024.834\n",
       "1947-10-01    2056.508\n",
       "1948-01-01    2087.442\n",
       "1948-04-01    2121.899\n",
       "1948-07-01    2134.056\n",
       "1948-10-01    2136.440\n",
       "1949-01-01    2107.001\n",
       "1949-04-01    2099.814\n",
       "dtype: float64"
      ]
     },
     "execution_count": 124,
     "metadata": {},
     "output_type": "execute_result"
    }
   ],
   "source": [
    "# GDP data set\n",
    "gdp_data = fred.get_series(\"GDPC1\")\n",
    "gdp_data.dropna(inplace=True)\n",
    "gdp_data.head(10)"
   ]
  },
  {
   "cell_type": "code",
   "execution_count": 121,
   "id": "0e9227cc-8c31-4eca-839a-6792dae9f0a9",
   "metadata": {},
   "outputs": [],
   "source": [
    "# Initializing percentage change variables for each data set\n",
    "gdp_change = gdp_data.pct_change()\n",
    "sp500_change = sp500_data.pct_change()\n",
    "m2sl_change = m2sl_data.pct_change()\n",
    "bond_change = bond_data.pct_change()"
   ]
  },
  {
   "cell_type": "code",
   "execution_count": 119,
   "id": "6882aff5-f7d5-46c3-b743-82eef8a5212f",
   "metadata": {},
   "outputs": [
    {
     "data": {
      "text/html": [
       "<div>\n",
       "<style scoped>\n",
       "    .dataframe tbody tr th:only-of-type {\n",
       "        vertical-align: middle;\n",
       "    }\n",
       "\n",
       "    .dataframe tbody tr th {\n",
       "        vertical-align: top;\n",
       "    }\n",
       "\n",
       "    .dataframe thead th {\n",
       "        text-align: right;\n",
       "    }\n",
       "</style>\n",
       "<table border=\"1\" class=\"dataframe\">\n",
       "  <thead>\n",
       "    <tr style=\"text-align: right;\">\n",
       "      <th></th>\n",
       "      <th>M2SL</th>\n",
       "      <th>S&amp;P 500</th>\n",
       "      <th>GDP</th>\n",
       "      <th>Corporate Bonds</th>\n",
       "    </tr>\n",
       "  </thead>\n",
       "  <tbody>\n",
       "    <tr>\n",
       "      <th>2021-04-01</th>\n",
       "      <td>20119.9</td>\n",
       "      <td>4019.87</td>\n",
       "      <td>19358.176</td>\n",
       "      <td>2.90</td>\n",
       "    </tr>\n",
       "    <tr>\n",
       "      <th>2020-10-01</th>\n",
       "      <td>18751.1</td>\n",
       "      <td>3380.80</td>\n",
       "      <td>18767.778</td>\n",
       "      <td>2.35</td>\n",
       "    </tr>\n",
       "    <tr>\n",
       "      <th>2020-07-01</th>\n",
       "      <td>18320.0</td>\n",
       "      <td>3115.86</td>\n",
       "      <td>18560.774</td>\n",
       "      <td>2.14</td>\n",
       "    </tr>\n",
       "    <tr>\n",
       "      <th>2020-04-01</th>\n",
       "      <td>17042.9</td>\n",
       "      <td>2470.50</td>\n",
       "      <td>17258.205</td>\n",
       "      <td>2.43</td>\n",
       "    </tr>\n",
       "    <tr>\n",
       "      <th>2019-10-01</th>\n",
       "      <td>15156.7</td>\n",
       "      <td>2940.25</td>\n",
       "      <td>19202.310</td>\n",
       "      <td>3.01</td>\n",
       "    </tr>\n",
       "    <tr>\n",
       "      <th>2019-07-01</th>\n",
       "      <td>14862.1</td>\n",
       "      <td>2964.33</td>\n",
       "      <td>19112.653</td>\n",
       "      <td>3.29</td>\n",
       "    </tr>\n",
       "    <tr>\n",
       "      <th>2019-04-01</th>\n",
       "      <td>14572.7</td>\n",
       "      <td>2867.19</td>\n",
       "      <td>18982.528</td>\n",
       "      <td>3.69</td>\n",
       "    </tr>\n",
       "    <tr>\n",
       "      <th>2018-10-01</th>\n",
       "      <td>14239.7</td>\n",
       "      <td>2924.59</td>\n",
       "      <td>18721.281</td>\n",
       "      <td>4.14</td>\n",
       "    </tr>\n",
       "    <tr>\n",
       "      <th>2016-07-01</th>\n",
       "      <td>12894.0</td>\n",
       "      <td>2102.95</td>\n",
       "      <td>17724.489</td>\n",
       "      <td>3.28</td>\n",
       "    </tr>\n",
       "    <tr>\n",
       "      <th>2016-04-01</th>\n",
       "      <td>12701.5</td>\n",
       "      <td>2072.78</td>\n",
       "      <td>17618.581</td>\n",
       "      <td>3.62</td>\n",
       "    </tr>\n",
       "    <tr>\n",
       "      <th>2015-10-01</th>\n",
       "      <td>12196.5</td>\n",
       "      <td>1923.82</td>\n",
       "      <td>17462.579</td>\n",
       "      <td>3.95</td>\n",
       "    </tr>\n",
       "    <tr>\n",
       "      <th>2015-07-01</th>\n",
       "      <td>12055.9</td>\n",
       "      <td>2077.42</td>\n",
       "      <td>17437.080</td>\n",
       "      <td>4.15</td>\n",
       "    </tr>\n",
       "    <tr>\n",
       "      <th>2015-04-01</th>\n",
       "      <td>11931.1</td>\n",
       "      <td>2059.69</td>\n",
       "      <td>17380.875</td>\n",
       "      <td>3.52</td>\n",
       "    </tr>\n",
       "    <tr>\n",
       "      <th>2014-10-01</th>\n",
       "      <td>11562.1</td>\n",
       "      <td>1946.16</td>\n",
       "      <td>17141.235</td>\n",
       "      <td>3.92</td>\n",
       "    </tr>\n",
       "    <tr>\n",
       "      <th>2014-07-01</th>\n",
       "      <td>11437.4</td>\n",
       "      <td>1973.32</td>\n",
       "      <td>17064.616</td>\n",
       "      <td>4.16</td>\n",
       "    </tr>\n",
       "    <tr>\n",
       "      <th>2014-04-01</th>\n",
       "      <td>11263.1</td>\n",
       "      <td>1885.52</td>\n",
       "      <td>16868.109</td>\n",
       "      <td>4.24</td>\n",
       "    </tr>\n",
       "    <tr>\n",
       "      <th>2013-10-01</th>\n",
       "      <td>10952.1</td>\n",
       "      <td>1695.00</td>\n",
       "      <td>16712.760</td>\n",
       "      <td>4.53</td>\n",
       "    </tr>\n",
       "    <tr>\n",
       "      <th>2013-07-01</th>\n",
       "      <td>10732.4</td>\n",
       "      <td>1614.96</td>\n",
       "      <td>16594.743</td>\n",
       "      <td>4.34</td>\n",
       "    </tr>\n",
       "    <tr>\n",
       "      <th>2013-04-01</th>\n",
       "      <td>10593.7</td>\n",
       "      <td>1562.17</td>\n",
       "      <td>16464.402</td>\n",
       "      <td>3.73</td>\n",
       "    </tr>\n",
       "    <tr>\n",
       "      <th>2012-10-01</th>\n",
       "      <td>10260.8</td>\n",
       "      <td>1444.49</td>\n",
       "      <td>16300.035</td>\n",
       "      <td>3.47</td>\n",
       "    </tr>\n",
       "  </tbody>\n",
       "</table>\n",
       "</div>"
      ],
      "text/plain": [
       "               M2SL  S&P 500        GDP  Corporate Bonds\n",
       "2021-04-01  20119.9  4019.87  19358.176             2.90\n",
       "2020-10-01  18751.1  3380.80  18767.778             2.35\n",
       "2020-07-01  18320.0  3115.86  18560.774             2.14\n",
       "2020-04-01  17042.9  2470.50  17258.205             2.43\n",
       "2019-10-01  15156.7  2940.25  19202.310             3.01\n",
       "2019-07-01  14862.1  2964.33  19112.653             3.29\n",
       "2019-04-01  14572.7  2867.19  18982.528             3.69\n",
       "2018-10-01  14239.7  2924.59  18721.281             4.14\n",
       "2016-07-01  12894.0  2102.95  17724.489             3.28\n",
       "2016-04-01  12701.5  2072.78  17618.581             3.62\n",
       "2015-10-01  12196.5  1923.82  17462.579             3.95\n",
       "2015-07-01  12055.9  2077.42  17437.080             4.15\n",
       "2015-04-01  11931.1  2059.69  17380.875             3.52\n",
       "2014-10-01  11562.1  1946.16  17141.235             3.92\n",
       "2014-07-01  11437.4  1973.32  17064.616             4.16\n",
       "2014-04-01  11263.1  1885.52  16868.109             4.24\n",
       "2013-10-01  10952.1  1695.00  16712.760             4.53\n",
       "2013-07-01  10732.4  1614.96  16594.743             4.34\n",
       "2013-04-01  10593.7  1562.17  16464.402             3.73\n",
       "2012-10-01  10260.8  1444.49  16300.035             3.47"
      ]
     },
     "execution_count": 119,
     "metadata": {},
     "output_type": "execute_result"
    }
   ],
   "source": [
    "# Concatinating the individual data sets into one Dataframe\n",
    "m2_df = pd.concat([m2sl_data, sp500_data, gdp_data, bond_data], axis=\"columns\", join=\"inner\")\n",
    "m2_df[\"1980-01-01\" : \"2021-07-31\"]\n",
    "#m2_df = pd.DataFrame({\"M2SL\": [m2sl_data], \"S&P 500\": [sp500_data], \"GDP\": [gdp_data]})\n",
    "m2_df.sort_index(inplace=True, ascending=False)\n",
    "m2_df.rename(columns = {0 : \"M2SL\", 1 : \"S&P 500\", 2 : \"GDP\", 3: \"Corporate Bonds\"}, inplace=True)\n",
    "m2_df.head(20)"
   ]
  },
  {
   "cell_type": "code",
   "execution_count": 122,
   "id": "e5f45a08-22e1-4666-8078-75fdc98829ee",
   "metadata": {},
   "outputs": [
    {
     "data": {
      "text/html": [
       "<div>\n",
       "<style scoped>\n",
       "    .dataframe tbody tr th:only-of-type {\n",
       "        vertical-align: middle;\n",
       "    }\n",
       "\n",
       "    .dataframe tbody tr th {\n",
       "        vertical-align: top;\n",
       "    }\n",
       "\n",
       "    .dataframe thead th {\n",
       "        text-align: right;\n",
       "    }\n",
       "</style>\n",
       "<table border=\"1\" class=\"dataframe\">\n",
       "  <thead>\n",
       "    <tr style=\"text-align: right;\">\n",
       "      <th></th>\n",
       "      <th>M2SL</th>\n",
       "      <th>S&amp;P 500</th>\n",
       "      <th>GDP</th>\n",
       "      <th>Corporate Bonds</th>\n",
       "    </tr>\n",
       "  </thead>\n",
       "  <tbody>\n",
       "    <tr>\n",
       "      <th>2021-04-01</th>\n",
       "      <td>0.010339</td>\n",
       "      <td>0.011825</td>\n",
       "      <td>0.015876</td>\n",
       "      <td>-0.046053</td>\n",
       "    </tr>\n",
       "    <tr>\n",
       "      <th>2020-10-01</th>\n",
       "      <td>0.007853</td>\n",
       "      <td>0.005293</td>\n",
       "      <td>0.011153</td>\n",
       "      <td>0.017316</td>\n",
       "    </tr>\n",
       "    <tr>\n",
       "      <th>2020-07-01</th>\n",
       "      <td>0.007723</td>\n",
       "      <td>0.005022</td>\n",
       "      <td>0.075475</td>\n",
       "      <td>-0.122951</td>\n",
       "    </tr>\n",
       "    <tr>\n",
       "      <th>2020-04-01</th>\n",
       "      <td>0.064230</td>\n",
       "      <td>-0.044142</td>\n",
       "      <td>-0.089373</td>\n",
       "      <td>-0.195364</td>\n",
       "    </tr>\n",
       "    <tr>\n",
       "      <th>2019-10-01</th>\n",
       "      <td>0.008423</td>\n",
       "      <td>-0.012258</td>\n",
       "      <td>0.004691</td>\n",
       "      <td>-0.006601</td>\n",
       "    </tr>\n",
       "    <tr>\n",
       "      <th>2019-07-01</th>\n",
       "      <td>0.004793</td>\n",
       "      <td>0.007672</td>\n",
       "      <td>0.006855</td>\n",
       "      <td>-0.038012</td>\n",
       "    </tr>\n",
       "    <tr>\n",
       "      <th>2019-04-01</th>\n",
       "      <td>0.002476</td>\n",
       "      <td>0.011569</td>\n",
       "      <td>0.007929</td>\n",
       "      <td>-0.021220</td>\n",
       "    </tr>\n",
       "    <tr>\n",
       "      <th>2018-10-01</th>\n",
       "      <td>0.000513</td>\n",
       "      <td>0.003641</td>\n",
       "      <td>0.002231</td>\n",
       "      <td>0.040201</td>\n",
       "    </tr>\n",
       "    <tr>\n",
       "      <th>2016-07-01</th>\n",
       "      <td>0.004565</td>\n",
       "      <td>0.001949</td>\n",
       "      <td>0.006011</td>\n",
       "      <td>-0.062857</td>\n",
       "    </tr>\n",
       "    <tr>\n",
       "      <th>2016-04-01</th>\n",
       "      <td>0.006370</td>\n",
       "      <td>0.006331</td>\n",
       "      <td>0.003024</td>\n",
       "      <td>-0.052356</td>\n",
       "    </tr>\n",
       "    <tr>\n",
       "      <th>2015-10-01</th>\n",
       "      <td>0.003117</td>\n",
       "      <td>0.001974</td>\n",
       "      <td>0.001462</td>\n",
       "      <td>-0.029484</td>\n",
       "    </tr>\n",
       "    <tr>\n",
       "      <th>2015-07-01</th>\n",
       "      <td>0.004114</td>\n",
       "      <td>0.006936</td>\n",
       "      <td>0.003234</td>\n",
       "      <td>-0.009547</td>\n",
       "    </tr>\n",
       "    <tr>\n",
       "      <th>2015-04-01</th>\n",
       "      <td>0.003305</td>\n",
       "      <td>-0.003965</td>\n",
       "      <td>0.005800</td>\n",
       "      <td>-0.032967</td>\n",
       "    </tr>\n",
       "    <tr>\n",
       "      <th>2014-10-01</th>\n",
       "      <td>0.005383</td>\n",
       "      <td>-0.013249</td>\n",
       "      <td>0.004490</td>\n",
       "      <td>-0.046229</td>\n",
       "    </tr>\n",
       "    <tr>\n",
       "      <th>2014-07-01</th>\n",
       "      <td>0.005009</td>\n",
       "      <td>0.006678</td>\n",
       "      <td>0.011650</td>\n",
       "      <td>-0.021176</td>\n",
       "    </tr>\n",
       "    <tr>\n",
       "      <th>2014-04-01</th>\n",
       "      <td>0.004665</td>\n",
       "      <td>0.007039</td>\n",
       "      <td>0.012841</td>\n",
       "      <td>-0.031963</td>\n",
       "    </tr>\n",
       "    <tr>\n",
       "      <th>2013-10-01</th>\n",
       "      <td>0.010472</td>\n",
       "      <td>0.007999</td>\n",
       "      <td>0.007112</td>\n",
       "      <td>-0.023707</td>\n",
       "    </tr>\n",
       "    <tr>\n",
       "      <th>2013-07-01</th>\n",
       "      <td>0.004342</td>\n",
       "      <td>0.005404</td>\n",
       "      <td>0.007917</td>\n",
       "      <td>0.016393</td>\n",
       "    </tr>\n",
       "    <tr>\n",
       "      <th>2013-04-01</th>\n",
       "      <td>0.003258</td>\n",
       "      <td>-0.004474</td>\n",
       "      <td>0.001394</td>\n",
       "      <td>-0.050891</td>\n",
       "    </tr>\n",
       "    <tr>\n",
       "      <th>2012-10-01</th>\n",
       "      <td>0.006217</td>\n",
       "      <td>0.002652</td>\n",
       "      <td>0.001098</td>\n",
       "      <td>-0.005731</td>\n",
       "    </tr>\n",
       "  </tbody>\n",
       "</table>\n",
       "</div>"
      ],
      "text/plain": [
       "                M2SL   S&P 500       GDP  Corporate Bonds\n",
       "2021-04-01  0.010339  0.011825  0.015876        -0.046053\n",
       "2020-10-01  0.007853  0.005293  0.011153         0.017316\n",
       "2020-07-01  0.007723  0.005022  0.075475        -0.122951\n",
       "2020-04-01  0.064230 -0.044142 -0.089373        -0.195364\n",
       "2019-10-01  0.008423 -0.012258  0.004691        -0.006601\n",
       "2019-07-01  0.004793  0.007672  0.006855        -0.038012\n",
       "2019-04-01  0.002476  0.011569  0.007929        -0.021220\n",
       "2018-10-01  0.000513  0.003641  0.002231         0.040201\n",
       "2016-07-01  0.004565  0.001949  0.006011        -0.062857\n",
       "2016-04-01  0.006370  0.006331  0.003024        -0.052356\n",
       "2015-10-01  0.003117  0.001974  0.001462        -0.029484\n",
       "2015-07-01  0.004114  0.006936  0.003234        -0.009547\n",
       "2015-04-01  0.003305 -0.003965  0.005800        -0.032967\n",
       "2014-10-01  0.005383 -0.013249  0.004490        -0.046229\n",
       "2014-07-01  0.005009  0.006678  0.011650        -0.021176\n",
       "2014-04-01  0.004665  0.007039  0.012841        -0.031963\n",
       "2013-10-01  0.010472  0.007999  0.007112        -0.023707\n",
       "2013-07-01  0.004342  0.005404  0.007917         0.016393\n",
       "2013-04-01  0.003258 -0.004474  0.001394        -0.050891\n",
       "2012-10-01  0.006217  0.002652  0.001098        -0.005731"
      ]
     },
     "execution_count": 122,
     "metadata": {},
     "output_type": "execute_result"
    }
   ],
   "source": [
    "# Creating a percentage change Dataframe of each data set\n",
    "m2_change_df = pd.concat([m2sl_change, sp500_change, gdp_change, bond_change], axis=\"columns\", join=\"inner\")\n",
    "m2_change_df[\"1980-01-01\" : \"2021-07-31\"]\n",
    "#m2_df = pd.DataFrame({\"M2SL\": [m2sl_data], \"S&P 500\": [sp500_data], \"GDP\": [gdp_data]})\n",
    "m2_change_df.sort_index(inplace=True, ascending=False)\n",
    "m2_change_df.rename(columns = {0 : \"M2SL\", 1 : \"S&P 500\", 2 : \"GDP\", 3: \"Corporate Bonds\"}, inplace=True)\n",
    "m2_change_df.head(20)"
   ]
  },
  {
   "cell_type": "code",
   "execution_count": 126,
   "id": "7e04edd0-9567-4c18-8dd4-dbb47d5597ec",
   "metadata": {},
   "outputs": [
    {
     "data": {
      "text/plain": [
       "M2SL               float64\n",
       "S&P 500            float64\n",
       "GDP                float64\n",
       "Corporate Bonds    float64\n",
       "dtype: object"
      ]
     },
     "execution_count": 126,
     "metadata": {},
     "output_type": "execute_result"
    }
   ],
   "source": [
    "# Checking the percentage change data frame\n",
    "m2_change_df.dtypes"
   ]
  },
  {
   "cell_type": "code",
   "execution_count": 127,
   "id": "935e5a7e-f3b1-4e91-8842-edd188c2b1a6",
   "metadata": {},
   "outputs": [
    {
     "data": {
      "text/plain": [
       "M2SL               float64\n",
       "S&P 500            float64\n",
       "GDP                float64\n",
       "Corporate Bonds    float64\n",
       "dtype: object"
      ]
     },
     "execution_count": 127,
     "metadata": {},
     "output_type": "execute_result"
    }
   ],
   "source": [
    "# Checking the concatenated data frame\n",
    "m2_df.dtypes"
   ]
  },
  {
   "cell_type": "code",
   "execution_count": null,
   "id": "1c548f4f-3187-4536-8568-d7a39bfb3e84",
   "metadata": {},
   "outputs": [],
   "source": [
    "bond_data"
   ]
  }
 ],
 "metadata": {
  "kernelspec": {
   "display_name": "Python 3",
   "language": "python",
   "name": "python3"
  },
  "language_info": {
   "codemirror_mode": {
    "name": "ipython",
    "version": 3
   },
   "file_extension": ".py",
   "mimetype": "text/x-python",
   "name": "python",
   "nbconvert_exporter": "python",
   "pygments_lexer": "ipython3",
   "version": "3.7.10"
  }
 },
 "nbformat": 4,
 "nbformat_minor": 5
}
