{
 "cells": [
  {
   "cell_type": "code",
   "execution_count": 1,
   "id": "24483480",
   "metadata": {},
   "outputs": [],
   "source": [
    "# First install the Quandl package in Python using Git Bash or Terminal with the following commamds:\n",
    "# pip install quandl"
   ]
  },
  {
   "cell_type": "code",
   "execution_count": 2,
   "id": "ec3d43ae",
   "metadata": {},
   "outputs": [
    {
     "data": {
      "text/plain": [
       "True"
      ]
     },
     "execution_count": 2,
     "metadata": {},
     "output_type": "execute_result"
    }
   ],
   "source": [
    "# Initial imports\n",
    "import requests\n",
    "from dotenv import load_dotenv\n",
    "import os \n",
    "import quandl\n",
    "import pandas as pd\n",
    "import numpy as np\n",
    "from fredapi import Fred\n",
    "\n",
    "# Load .env enviroment variables\n",
    "load_dotenv()"
   ]
  },
  {
   "cell_type": "code",
   "execution_count": 3,
   "id": "d6e49f68",
   "metadata": {},
   "outputs": [],
   "source": [
    "# Use the os.getenv function to retrieve the environment variable named QUANDL_API_KEY. Store as a Python variable named api_key\n",
    "api_key = os.getenv(\"QUANDL_API_KEY\") "
   ]
  },
  {
   "cell_type": "code",
   "execution_count": 4,
   "id": "cf7d0e97",
   "metadata": {},
   "outputs": [
    {
     "data": {
      "text/plain": [
       "str"
      ]
     },
     "execution_count": 4,
     "metadata": {},
     "output_type": "execute_result"
    }
   ],
   "source": [
    "# Use the type function to confirm the retrieval of the API key\n",
    "type(api_key)"
   ]
  },
  {
   "cell_type": "code",
   "execution_count": 5,
   "id": "74a7de01",
   "metadata": {},
   "outputs": [],
   "source": [
    "# # # Define the base request URL\n",
    "# request_url = \"https://www.quandl.com/api/v3/datatables/ZILLOW/DATA?indicator_id=ZALL&region_id=99999&api_key=\"\n",
    "# # Concatenate request_url and api_key. Store as new variable\n",
    "# request_url = request_url + api_key"
   ]
  },
  {
   "cell_type": "code",
   "execution_count": 6,
   "id": "51bf87ad",
   "metadata": {},
   "outputs": [],
   "source": [
    "# # Execute get request\n",
    "# response_data = requests.get(request_url)"
   ]
  },
  {
   "cell_type": "code",
   "execution_count": 7,
   "id": "619e6881",
   "metadata": {},
   "outputs": [],
   "source": [
    "# Output data\n",
    "# response_data.content"
   ]
  },
  {
   "cell_type": "code",
   "execution_count": 8,
   "id": "0e5b3e95",
   "metadata": {},
   "outputs": [],
   "source": [
    "# request_url2 = \"https://www.quandl.com/api/v3/datatables/ZILLOW/DATA?indicator_id=ZALL&api_key=\"\n",
    "# # Concatenate request_url and api_key. Store as new variable\n",
    "# request_url2 = request_url2 + api_key"
   ]
  },
  {
   "cell_type": "code",
   "execution_count": 9,
   "id": "ea247bba",
   "metadata": {},
   "outputs": [],
   "source": [
    "# # Execute get request\n",
    "# response_data2 = requests.get(request_url2)"
   ]
  },
  {
   "cell_type": "code",
   "execution_count": 10,
   "id": "e960749a",
   "metadata": {},
   "outputs": [],
   "source": [
    "# Output data (It's wprking)\n",
    "# response_data2.content"
   ]
  },
  {
   "cell_type": "code",
   "execution_count": 11,
   "id": "59c3a3c6",
   "metadata": {},
   "outputs": [],
   "source": [
    "# import json\n",
    "# data_zillow = response_data2.json()\n",
    "# print(json.dumps(data_zillow, indent=4))"
   ]
  },
  {
   "cell_type": "code",
   "execution_count": 12,
   "id": "a8cd8a24",
   "metadata": {},
   "outputs": [],
   "source": [
    "# Zillow uses three datasets in Quandl to organize the information:\n",
    "\n",
    "# ZILLOW/DATA that has 56 indicators related to the real estate market: House purchases, etc and uses the indicator_id as the primary key and the region_id to connect with the other datasets.\n",
    "# ZILLOW/INDICATORS provides the name of each indicator variable via the indicator_id \n",
    "# ZILLOW/REGIONS has all the names and IDs of all regions (the ids range from the neighborhood level up to the state level)\n",
    "\n",
    "# These 3 datasets were combined to obtain the main dataset for the analysis. The indicator used are based on the ZHVI that reflects the typical value for homes in the 35th to 65th percentile range:\n",
    "# - ZALL which is the ZHVI estimated home value for all homes in the 35th to 65th percentile: Includes Single Family Residences, condominimums and co-ops\n",
    "# - ZATT typical value for all the homes within the 65th to 95th percentile range for a given region \n",
    "# - ZABT typical value for homes that fall within the 5th to 35th percentile range for a given region\n",
    "# - ZSFH which is the estimated home value for single family residences in the middle tier (mid-market) of their region\n",
    "# - ZCON which is the estimated home value for Condos and co-ops in the middle tier (mid-market) of their region\n",
    "# - IRAM For-Sale Inventory (All Homes, Monthly) --- not enough data only October 2017 to May 2021\n",
    "# - IRSM For-sale Inventory (SFR only, Monthly) --- not enough data only October 2017 to May 2021"
   ]
  },
  {
   "cell_type": "code",
   "execution_count": 13,
   "id": "cc606baa",
   "metadata": {},
   "outputs": [],
   "source": [
    "# Call the API key for Quandl\n",
    "\n",
    "quandl.ApiConfig.api_key = api_key"
   ]
  },
  {
   "cell_type": "code",
   "execution_count": 14,
   "id": "fc3f4b60",
   "metadata": {},
   "outputs": [],
   "source": [
    "# Pulling the regions information from the ZILLOW/REGIONS dataset \n",
    "# The region_id will be used to connet this dataset with the other two datasets: prices (ZILLOW/DATA) and indicators (ZILLOW/INDICATORS)\n",
    "zillow_regions_states_db = quandl.get_table('ZILLOW/REGIONS', region_type='state')\n",
    "\n",
    "# zillow_regions_states_db"
   ]
  },
  {
   "cell_type": "code",
   "execution_count": 15,
   "id": "d58421c8",
   "metadata": {},
   "outputs": [],
   "source": [
    "list_of_states = zillow_regions_states_db['region_id'].values.tolist()"
   ]
  },
  {
   "cell_type": "code",
   "execution_count": 16,
   "id": "f63fa68c",
   "metadata": {},
   "outputs": [
    {
     "name": "stdout",
     "output_type": "stream",
     "text": [
      "List of States:  ['9', '8', '62', '61', '60', '6', '59', '58', '56', '55', '54', '53', '52', '51', '50', '47', '46', '45', '44', '43', '42', '41', '40', '4', '39', '38', '37', '36', '35', '34', '32', '31', '30', '3', '28', '27', '26', '25', '24', '23', '22', '21', '20', '19', '18', '16', '14', '13', '12', '11', '10']\n"
     ]
    }
   ],
   "source": [
    "print('List of States: ', list_of_states)"
   ]
  },
  {
   "cell_type": "code",
   "execution_count": 17,
   "id": "92c98d41",
   "metadata": {},
   "outputs": [
    {
     "name": "stderr",
     "output_type": "stream",
     "text": [
      "C:\\Users\\frank\\anaconda3\\lib\\site-packages\\quandl\\get_table.py:38: UserWarning: To request more pages, please set paginate=True in your         quandl.get_table() call. For more information see our documentation:         https://github.com/quandl/quandl-python/blob/master/FOR_ANALYSTS.md#things-to-note\n",
      "  warnings.warn(Message.WARN_PAGE_LIMIT_EXCEEDED, UserWarning)\n"
     ]
    },
    {
     "data": {
      "text/html": [
       "<div>\n",
       "<style scoped>\n",
       "    .dataframe tbody tr th:only-of-type {\n",
       "        vertical-align: middle;\n",
       "    }\n",
       "\n",
       "    .dataframe tbody tr th {\n",
       "        vertical-align: top;\n",
       "    }\n",
       "\n",
       "    .dataframe thead th {\n",
       "        text-align: right;\n",
       "    }\n",
       "</style>\n",
       "<table border=\"1\" class=\"dataframe\">\n",
       "  <thead>\n",
       "    <tr style=\"text-align: right;\">\n",
       "      <th></th>\n",
       "      <th>indicator_id</th>\n",
       "      <th>region_id</th>\n",
       "      <th>date</th>\n",
       "      <th>value</th>\n",
       "    </tr>\n",
       "    <tr>\n",
       "      <th>None</th>\n",
       "      <th></th>\n",
       "      <th></th>\n",
       "      <th></th>\n",
       "      <th></th>\n",
       "    </tr>\n",
       "  </thead>\n",
       "  <tbody>\n",
       "    <tr>\n",
       "      <th>0</th>\n",
       "      <td>ZALL</td>\n",
       "      <td>9</td>\n",
       "      <td>2021-05-31</td>\n",
       "      <td>668300.0</td>\n",
       "    </tr>\n",
       "    <tr>\n",
       "      <th>1</th>\n",
       "      <td>ZALL</td>\n",
       "      <td>9</td>\n",
       "      <td>2021-04-30</td>\n",
       "      <td>652490.0</td>\n",
       "    </tr>\n",
       "    <tr>\n",
       "      <th>2</th>\n",
       "      <td>ZALL</td>\n",
       "      <td>9</td>\n",
       "      <td>2021-03-31</td>\n",
       "      <td>640937.0</td>\n",
       "    </tr>\n",
       "    <tr>\n",
       "      <th>3</th>\n",
       "      <td>ZALL</td>\n",
       "      <td>9</td>\n",
       "      <td>2021-02-28</td>\n",
       "      <td>637108.0</td>\n",
       "    </tr>\n",
       "    <tr>\n",
       "      <th>4</th>\n",
       "      <td>ZALL</td>\n",
       "      <td>9</td>\n",
       "      <td>2021-01-31</td>\n",
       "      <td>630371.0</td>\n",
       "    </tr>\n",
       "    <tr>\n",
       "      <th>...</th>\n",
       "      <td>...</td>\n",
       "      <td>...</td>\n",
       "      <td>...</td>\n",
       "      <td>...</td>\n",
       "    </tr>\n",
       "    <tr>\n",
       "      <th>9995</th>\n",
       "      <td>ZALL</td>\n",
       "      <td>3</td>\n",
       "      <td>2008-08-31</td>\n",
       "      <td>266191.0</td>\n",
       "    </tr>\n",
       "    <tr>\n",
       "      <th>9996</th>\n",
       "      <td>ZALL</td>\n",
       "      <td>3</td>\n",
       "      <td>2008-07-31</td>\n",
       "      <td>265958.0</td>\n",
       "    </tr>\n",
       "    <tr>\n",
       "      <th>9997</th>\n",
       "      <td>ZALL</td>\n",
       "      <td>3</td>\n",
       "      <td>2008-06-30</td>\n",
       "      <td>265796.0</td>\n",
       "    </tr>\n",
       "    <tr>\n",
       "      <th>9998</th>\n",
       "      <td>ZALL</td>\n",
       "      <td>3</td>\n",
       "      <td>2008-05-31</td>\n",
       "      <td>265727.0</td>\n",
       "    </tr>\n",
       "    <tr>\n",
       "      <th>9999</th>\n",
       "      <td>ZALL</td>\n",
       "      <td>3</td>\n",
       "      <td>2008-04-30</td>\n",
       "      <td>265402.0</td>\n",
       "    </tr>\n",
       "  </tbody>\n",
       "</table>\n",
       "<p>10000 rows × 4 columns</p>\n",
       "</div>"
      ],
      "text/plain": [
       "     indicator_id region_id       date     value\n",
       "None                                            \n",
       "0            ZALL         9 2021-05-31  668300.0\n",
       "1            ZALL         9 2021-04-30  652490.0\n",
       "2            ZALL         9 2021-03-31  640937.0\n",
       "3            ZALL         9 2021-02-28  637108.0\n",
       "4            ZALL         9 2021-01-31  630371.0\n",
       "...           ...       ...        ...       ...\n",
       "9995         ZALL         3 2008-08-31  266191.0\n",
       "9996         ZALL         3 2008-07-31  265958.0\n",
       "9997         ZALL         3 2008-06-30  265796.0\n",
       "9998         ZALL         3 2008-05-31  265727.0\n",
       "9999         ZALL         3 2008-04-30  265402.0\n",
       "\n",
       "[10000 rows x 4 columns]"
      ]
     },
     "execution_count": 17,
     "metadata": {},
     "output_type": "execute_result"
    }
   ],
   "source": [
    "quandl.get_table('ZILLOW/DATA', indicator_id='ZALL', region_id=['9', '8', '62', '61', '60', '6', '59', '58', '56', '55', '54', '53', '52', '51', '50', '47', '46', '45', '44', '43', '42', '41', '40', '4', '39', '38', '37', '36', '35', '34', '32', '31', '30', '3', '28', '27', '26', '25', '24', '23', '22', '21', '20', '19', '18', '16', '14', '13', '12', '11', '10'])"
   ]
  },
  {
   "cell_type": "markdown",
   "id": "44ccbf75",
   "metadata": {},
   "source": [
    "## Mid Tier Home Values"
   ]
  },
  {
   "cell_type": "code",
   "execution_count": 18,
   "id": "c8b9f975",
   "metadata": {},
   "outputs": [],
   "source": [
    "# Mid Tier Home Values 1/2\n",
    "# One of two Zillow prices datatets for 26 states (Quandl has limitations and does not let pull the prices for all states at once, it's over 10,000 rows)\n",
    "# Using Quandl package:\n",
    "One_of_two_states_mid_tier_home_values = quandl.get_table('ZILLOW/DATA', indicator_id='ZALL', region_id=['9', '8', '62', '61', '60', '6', '59', '58', '56', '55', '54', '53', '52', '51', '50', '47', '46', '45', '44', '43', '42', '41', '40', '4', '39', '38'])\n",
    "\n",
    "# One_of_two_states_mid_tier_home_values"
   ]
  },
  {
   "cell_type": "code",
   "execution_count": 19,
   "id": "3c46d570",
   "metadata": {},
   "outputs": [],
   "source": [
    "# Mid Tier Home Values 2/2\n",
    "# Two of two Zillow prices datatets for 26 states (Quandl has limitations and does not let pull the prices for all states at once, it's over 10,000 rows)\n",
    "# Using Quandl package:\n",
    "Two_of_two_states_mid_tier_home_values = quandl.get_table('ZILLOW/DATA', indicator_id='ZALL', region_id=['37', '36', '35', '34', '32', '31', '30', '3', '28', '27', '26', '25', '24', '23', '22', '21', '20', '19', '18', '16', '14', '13', '12', '11', '10'])\n",
    "\n",
    "# Two_of_two_states_mid_tier_home_values"
   ]
  },
  {
   "cell_type": "code",
   "execution_count": 20,
   "id": "127edec2",
   "metadata": {},
   "outputs": [],
   "source": [
    "# Joining Mid Tier Home Values \n",
    "\n",
    "# Joining the Zillow mid-tier home values datasets for all the states\n",
    "All_states_mid_tier_home_values = pd.concat([One_of_two_states_mid_tier_home_values, Two_of_two_states_mid_tier_home_values])\n",
    "\n",
    "# Renaming the value column as mid_tier_home_values\n",
    "All_states_mid_tier_home_values = All_states_mid_tier_home_values.rename(columns = {'value': 'mid_tier_home_value'})\n",
    "\n",
    "# Dropping the indicator_id column\n",
    "All_states_mid_tier_home_values = All_states_mid_tier_home_values.drop(columns=['indicator_id'])\n",
    "All_states_mid_tier_home_values = All_states_mid_tier_home_values.reset_index(drop=True)\n",
    "\n",
    "# All_states_mid_tier_home_values"
   ]
  },
  {
   "cell_type": "markdown",
   "id": "4587862a",
   "metadata": {},
   "source": [
    "## Top Tier Home Values"
   ]
  },
  {
   "cell_type": "code",
   "execution_count": 21,
   "id": "98acc670",
   "metadata": {},
   "outputs": [],
   "source": [
    "# Top Tier Home Values 1/2\n",
    "\n",
    "# One of two Zillow prices datatets for 26 states (Quandl has limitations and does not let pull the prices for all states at once, it's over 10,000 rows)\n",
    "# Using Quandl package:\n",
    "One_of_two_states_top_tier_home_values = quandl.get_table('ZILLOW/DATA', indicator_id='ZATT', region_id=['9', '8', '62', '61', '60', '6', '59', '58', '56', '55', '54', '53', '52', '51', '50', '47', '46', '45', '44', '43', '42', '41', '40', '4', '39', '38'])\n",
    "\n",
    "# One_of_two_states_top_tier_home_values"
   ]
  },
  {
   "cell_type": "code",
   "execution_count": 22,
   "id": "f92e9fd1",
   "metadata": {},
   "outputs": [],
   "source": [
    "# Top Tier Home Values 2/2\n",
    "\n",
    "# Two of two Zillow prices datatets for 26 states (Quandl has limitations and does not let pull the prices for all states at once, it's over 10,000 rows)\n",
    "# Using Quandl package:\n",
    "Two_of_two_states_top_tier_home_values = quandl.get_table('ZILLOW/DATA', indicator_id='ZATT', region_id=['37', '36', '35', '34', '32', '31', '30', '3', '28', '27', '26', '25', '24', '23', '22', '21', '20', '19', '18', '16', '14', '13', '12', '11', '10'])\n",
    "\n",
    "# Two_of_two_states_top_tier_home_values"
   ]
  },
  {
   "cell_type": "code",
   "execution_count": 23,
   "id": "250db77c",
   "metadata": {},
   "outputs": [],
   "source": [
    "# Joining Top Tier Home Values\n",
    "# Joining the Zillow top-tier home values datasets for all the states\n",
    "All_states_top_tier_home_values = pd.concat([One_of_two_states_top_tier_home_values, Two_of_two_states_top_tier_home_values])\n",
    "\n",
    "# Renaming the value column as top_tier_home_values\n",
    "All_states_top_tier_home_values = All_states_top_tier_home_values.rename(columns = {'value': 'top_tier_home_value'})\n",
    "\n",
    "# Dropping the indicator_id column\n",
    "All_states_top_tier_home_values = All_states_top_tier_home_values.drop(columns=['indicator_id'])\n",
    "All_states_top_tier_home_values = All_states_top_tier_home_values.reset_index(drop=True)\n",
    "\n",
    "# All_states_top_tier_home_values"
   ]
  },
  {
   "cell_type": "markdown",
   "id": "370addb3",
   "metadata": {},
   "source": [
    "## Bottom Tier Home Values"
   ]
  },
  {
   "cell_type": "code",
   "execution_count": 24,
   "id": "c54200e3",
   "metadata": {},
   "outputs": [],
   "source": [
    "# Botton tier 1/2\n",
    "\n",
    "# One of two Zillow prices datatets for 26 states (Quandl has limitations and does not let pull the prices for all states at once, it's over 10,000 rows)\n",
    "# Using Quandl package:\n",
    "One_of_two_states_bottom_tier_home_values = quandl.get_table('ZILLOW/DATA', indicator_id='ZABT', region_id=['9', '8', '62', '61', '60', '6', '59', '58', '56', '55', '54', '53', '52', '51', '50', '47', '46', '45', '44', '43', '42', '41', '40', '4', '39', '38'])\n",
    "\n",
    "# One_of_two_states_bottom_tier_home_values"
   ]
  },
  {
   "cell_type": "code",
   "execution_count": 25,
   "id": "c52b1d91",
   "metadata": {},
   "outputs": [],
   "source": [
    "# Bottom Tier Home Values 2/2\n",
    "\n",
    "# Two of two Zillow prices datatets for 25 states (Quandl has limitations and does not let pull the prices for all states at once, it's over 10,000 rows)\n",
    "# Using Quandl package:\n",
    "Two_of_two_states_bottom_tier_home_values = quandl.get_table('ZILLOW/DATA', indicator_id='ZABT', region_id=['37', '36', '35', '34', '32', '31', '30', '3', '28', '27', '26', '25', '24', '23', '22', '21', '20', '19', '18', '16', '14', '13', '12', '11', '10'])\n",
    "\n",
    "# Two_of_two_states_bottom_tier_home_values"
   ]
  },
  {
   "cell_type": "code",
   "execution_count": 26,
   "id": "436ff6ef",
   "metadata": {},
   "outputs": [],
   "source": [
    "# Joining Bottom Tier Home Values\n",
    "# Joining the Zillow bottom-tier home values datasets for all the states\n",
    "All_states_bottom_tier_home_values = pd.concat([One_of_two_states_bottom_tier_home_values, Two_of_two_states_bottom_tier_home_values])\n",
    "\n",
    "# Renaming the value column as bottom_tier_home_values\n",
    "All_states_bottom_tier_home_values = All_states_bottom_tier_home_values.rename(columns = {'value': 'bottom_tier_home_value'})\n",
    "\n",
    "# Dropping the indicator_id column\n",
    "All_states_bottom_tier_home_values = All_states_bottom_tier_home_values.drop(columns=['indicator_id'])\n",
    "All_states_bottom_tier_home_values = All_states_bottom_tier_home_values.reset_index(drop=True)\n",
    "\n",
    "# All_states_bottom_tier_home_values"
   ]
  },
  {
   "cell_type": "markdown",
   "id": "3fa44e97",
   "metadata": {},
   "source": [
    "## Single Family Homes Values"
   ]
  },
  {
   "cell_type": "code",
   "execution_count": 27,
   "id": "e08a78b5",
   "metadata": {},
   "outputs": [],
   "source": [
    "# Single Family Homes 1/2\n",
    "\n",
    "# One of two Zillow prices datatets for 26 states (Quandl has limitations and does not let pull the prices for all states at once, it's over 10,000 rows)\n",
    "# Using Quandl package:\n",
    "One_of_two_single_family_home_values = quandl.get_table('ZILLOW/DATA', indicator_id='ZSFH', region_id=['9', '8', '62', '61', '60', '6', '59', '58', '56', '55', '54', '53', '52', '51', '50', '47', '46', '45', '44', '43', '42', '41', '40', '4', '39', '38'])\n",
    "\n",
    "# One_of_two_single_family_home_values"
   ]
  },
  {
   "cell_type": "code",
   "execution_count": 28,
   "id": "fc1951ef",
   "metadata": {},
   "outputs": [],
   "source": [
    "# Single Family Homes 2/2\n",
    "\n",
    "# Two of two Zillow prices datatets for 25 states (Quandl has limitations and does not let pull the prices for all states at once, it's over 10,000 rows)\n",
    "# Using Quandl package:\n",
    "Two_of_two_single_family_home_values = quandl.get_table('ZILLOW/DATA', indicator_id='ZSFH', region_id=['37', '36', '35', '34', '32', '31', '30', '3', '28', '27', '26', '25', '24', '23', '22', '21', '20', '19', '18', '16', '14', '13', '12', '11', '10'])\n",
    "\n",
    "# Two_of_two_single_family_home_values"
   ]
  },
  {
   "cell_type": "code",
   "execution_count": 29,
   "id": "d0575d46",
   "metadata": {},
   "outputs": [],
   "source": [
    "# Joining Single Family Home Values\n",
    "# Joining the Zillow single family home values datasets for all the states\n",
    "All_states_single_family_home_values = pd.concat([One_of_two_single_family_home_values, Two_of_two_single_family_home_values])\n",
    "\n",
    "# Renaming the value column as single_family_home_values\n",
    "All_states_single_family_home_values = All_states_single_family_home_values.rename(columns = {'value': 'single_family_home_value'})\n",
    "\n",
    "# Dropping the indicator_id column\n",
    "All_states_single_family_home_values = All_states_single_family_home_values.drop(columns=['indicator_id'])\n",
    "All_states_single_family_home_values = All_states_single_family_home_values.reset_index(drop=True)\n",
    "\n",
    "# All_states_single_family_home_values"
   ]
  },
  {
   "cell_type": "markdown",
   "id": "720fb63c",
   "metadata": {},
   "source": [
    "## Condos and Co-Ops Values"
   ]
  },
  {
   "cell_type": "code",
   "execution_count": 30,
   "id": "d35e8d12",
   "metadata": {},
   "outputs": [],
   "source": [
    "# Condos and Co-Ops 1/2\n",
    "\n",
    "# One of two Zillow prices datatets for 26 states (Quandl has limitations and does not let pull the prices for all states at once, it's over 10,000 rows)\n",
    "# Using Quandl package:\n",
    "One_of_two_condo_coop_values = quandl.get_table('ZILLOW/DATA', indicator_id='ZCON', region_id=['9', '8', '62', '61', '60', '6', '59', '58', '56', '55', '54', '53', '52', '51', '50', '47', '46', '45', '44', '43', '42', '41', '40', '4', '39', '38'])\n",
    "\n",
    "# One_of_two_condo_coop_values"
   ]
  },
  {
   "cell_type": "code",
   "execution_count": 31,
   "id": "bb1fd65c",
   "metadata": {},
   "outputs": [],
   "source": [
    "# Condos and Co-Ops 2/2\n",
    "\n",
    "# Two of two Zillow prices datatets for 25 states (Quandl has limitations and does not let pull the prices for all states at once, it's over 10,000 rows)\n",
    "# Using Quandl package:\n",
    "Two_of_two_condo_coop_values = quandl.get_table('ZILLOW/DATA', indicator_id='ZCON', region_id=['37', '36', '35', '34', '32', '31', '30', '3', '28', '27', '26', '25', '24', '23', '22', '21', '20', '19', '18', '16', '14', '13', '12', '11', '10'])\n",
    "\n",
    "# Two_of_two_condo_coop_values"
   ]
  },
  {
   "cell_type": "code",
   "execution_count": 32,
   "id": "faba9b5c",
   "metadata": {},
   "outputs": [],
   "source": [
    "# Joining Condo Coops Values\n",
    "# Joining the Zillow condo/coops values datasets for all the states\n",
    "All_states_condo_coop_values = pd.concat([One_of_two_condo_coop_values, Two_of_two_condo_coop_values])\n",
    "\n",
    "# Renaming the value column as single_family_home_values\n",
    "All_states_condo_coop_values = All_states_condo_coop_values.rename(columns = {'value': 'condo_coop_value'})\n",
    "\n",
    "# Dropping the indicator_id column\n",
    "All_states_condo_coop_values = All_states_condo_coop_values.drop(columns=['indicator_id'])\n",
    "All_states_condo_coop_values = All_states_condo_coop_values.reset_index(drop=True)\n",
    "\n",
    "# All_states_condo_coop_values"
   ]
  },
  {
   "cell_type": "code",
   "execution_count": 33,
   "id": "35448dc5",
   "metadata": {},
   "outputs": [],
   "source": [
    "# Joining the monthly value datasets for all the states and tiers\n",
    "prices_all_tiers_states = pd.merge(All_states_top_tier_home_values, All_states_mid_tier_home_values)\n",
    "prices_all_tiers_states = pd.merge(prices_all_tiers_states, All_states_bottom_tier_home_values)\n",
    "prices_all_tiers_states = pd.merge(prices_all_tiers_states, All_states_single_family_home_values)\n",
    "prices_all_tiers_states = pd.merge(prices_all_tiers_states, All_states_condo_coop_values)\n",
    "\n",
    "# prices_all_tiers_states"
   ]
  },
  {
   "cell_type": "code",
   "execution_count": 34,
   "id": "1a531ab4",
   "metadata": {},
   "outputs": [],
   "source": [
    "# Merging the prices for all states with their names from the Zillow/regions dataset\n",
    "prices_all_tiers_states = pd.merge(zillow_regions_states_db, prices_all_tiers_states)\n",
    "\n",
    "# prices_all_tiers_states"
   ]
  },
  {
   "cell_type": "markdown",
   "id": "5e1eca86",
   "metadata": {},
   "source": [
    "## Cleaning up the data"
   ]
  },
  {
   "cell_type": "code",
   "execution_count": 35,
   "id": "11522e43",
   "metadata": {},
   "outputs": [
    {
     "data": {
      "text/html": [
       "<div>\n",
       "<style scoped>\n",
       "    .dataframe tbody tr th:only-of-type {\n",
       "        vertical-align: middle;\n",
       "    }\n",
       "\n",
       "    .dataframe tbody tr th {\n",
       "        vertical-align: top;\n",
       "    }\n",
       "\n",
       "    .dataframe thead th {\n",
       "        text-align: right;\n",
       "    }\n",
       "</style>\n",
       "<table border=\"1\" class=\"dataframe\">\n",
       "  <thead>\n",
       "    <tr style=\"text-align: right;\">\n",
       "      <th></th>\n",
       "      <th>region</th>\n",
       "      <th>date</th>\n",
       "      <th>top_tier_home_value</th>\n",
       "      <th>mid_tier_home_value</th>\n",
       "      <th>bottom_tier_home_value</th>\n",
       "      <th>single_family_home_value</th>\n",
       "      <th>condo_coop_value</th>\n",
       "    </tr>\n",
       "  </thead>\n",
       "  <tbody>\n",
       "    <tr>\n",
       "      <th>0</th>\n",
       "      <td>California; CA</td>\n",
       "      <td>2021-05-31</td>\n",
       "      <td>1219370.0</td>\n",
       "      <td>668300.0</td>\n",
       "      <td>404829.0</td>\n",
       "      <td>682099.0</td>\n",
       "      <td>578589.0</td>\n",
       "    </tr>\n",
       "    <tr>\n",
       "      <th>1</th>\n",
       "      <td>California; CA</td>\n",
       "      <td>2021-04-30</td>\n",
       "      <td>1189314.0</td>\n",
       "      <td>652490.0</td>\n",
       "      <td>395453.0</td>\n",
       "      <td>665666.0</td>\n",
       "      <td>566595.0</td>\n",
       "    </tr>\n",
       "    <tr>\n",
       "      <th>2</th>\n",
       "      <td>California; CA</td>\n",
       "      <td>2021-03-31</td>\n",
       "      <td>1168234.0</td>\n",
       "      <td>640937.0</td>\n",
       "      <td>388370.0</td>\n",
       "      <td>653538.0</td>\n",
       "      <td>558604.0</td>\n",
       "    </tr>\n",
       "    <tr>\n",
       "      <th>3</th>\n",
       "      <td>California; CA</td>\n",
       "      <td>2021-02-28</td>\n",
       "      <td>1163739.0</td>\n",
       "      <td>637108.0</td>\n",
       "      <td>385333.0</td>\n",
       "      <td>648792.0</td>\n",
       "      <td>561410.0</td>\n",
       "    </tr>\n",
       "    <tr>\n",
       "      <th>4</th>\n",
       "      <td>California; CA</td>\n",
       "      <td>2021-01-31</td>\n",
       "      <td>1151620.0</td>\n",
       "      <td>630371.0</td>\n",
       "      <td>380844.0</td>\n",
       "      <td>641656.0</td>\n",
       "      <td>557018.0</td>\n",
       "    </tr>\n",
       "    <tr>\n",
       "      <th>...</th>\n",
       "      <td>...</td>\n",
       "      <td>...</td>\n",
       "      <td>...</td>\n",
       "      <td>...</td>\n",
       "      <td>...</td>\n",
       "      <td>...</td>\n",
       "      <td>...</td>\n",
       "    </tr>\n",
       "    <tr>\n",
       "      <th>15244</th>\n",
       "      <td>Colorado; CO</td>\n",
       "      <td>1996-05-31</td>\n",
       "      <td>234723.0</td>\n",
       "      <td>142279.0</td>\n",
       "      <td>89224.0</td>\n",
       "      <td>146264.0</td>\n",
       "      <td>108752.0</td>\n",
       "    </tr>\n",
       "    <tr>\n",
       "      <th>15245</th>\n",
       "      <td>Colorado; CO</td>\n",
       "      <td>1996-04-30</td>\n",
       "      <td>233811.0</td>\n",
       "      <td>141600.0</td>\n",
       "      <td>88698.0</td>\n",
       "      <td>145574.0</td>\n",
       "      <td>108298.0</td>\n",
       "    </tr>\n",
       "    <tr>\n",
       "      <th>15246</th>\n",
       "      <td>Colorado; CO</td>\n",
       "      <td>1996-03-31</td>\n",
       "      <td>232761.0</td>\n",
       "      <td>140830.0</td>\n",
       "      <td>88119.0</td>\n",
       "      <td>144786.0</td>\n",
       "      <td>107763.0</td>\n",
       "    </tr>\n",
       "    <tr>\n",
       "      <th>15247</th>\n",
       "      <td>Colorado; CO</td>\n",
       "      <td>1996-02-29</td>\n",
       "      <td>232240.0</td>\n",
       "      <td>140451.0</td>\n",
       "      <td>87837.0</td>\n",
       "      <td>144396.0</td>\n",
       "      <td>107501.0</td>\n",
       "    </tr>\n",
       "    <tr>\n",
       "      <th>15248</th>\n",
       "      <td>Colorado; CO</td>\n",
       "      <td>1996-01-31</td>\n",
       "      <td>231594.0</td>\n",
       "      <td>139990.0</td>\n",
       "      <td>87510.0</td>\n",
       "      <td>143923.0</td>\n",
       "      <td>107172.0</td>\n",
       "    </tr>\n",
       "  </tbody>\n",
       "</table>\n",
       "<p>15249 rows × 7 columns</p>\n",
       "</div>"
      ],
      "text/plain": [
       "               region       date  top_tier_home_value  mid_tier_home_value  \\\n",
       "0      California; CA 2021-05-31            1219370.0             668300.0   \n",
       "1      California; CA 2021-04-30            1189314.0             652490.0   \n",
       "2      California; CA 2021-03-31            1168234.0             640937.0   \n",
       "3      California; CA 2021-02-28            1163739.0             637108.0   \n",
       "4      California; CA 2021-01-31            1151620.0             630371.0   \n",
       "...               ...        ...                  ...                  ...   \n",
       "15244    Colorado; CO 1996-05-31             234723.0             142279.0   \n",
       "15245    Colorado; CO 1996-04-30             233811.0             141600.0   \n",
       "15246    Colorado; CO 1996-03-31             232761.0             140830.0   \n",
       "15247    Colorado; CO 1996-02-29             232240.0             140451.0   \n",
       "15248    Colorado; CO 1996-01-31             231594.0             139990.0   \n",
       "\n",
       "       bottom_tier_home_value  single_family_home_value  condo_coop_value  \n",
       "0                    404829.0                  682099.0          578589.0  \n",
       "1                    395453.0                  665666.0          566595.0  \n",
       "2                    388370.0                  653538.0          558604.0  \n",
       "3                    385333.0                  648792.0          561410.0  \n",
       "4                    380844.0                  641656.0          557018.0  \n",
       "...                       ...                       ...               ...  \n",
       "15244                 89224.0                  146264.0          108752.0  \n",
       "15245                 88698.0                  145574.0          108298.0  \n",
       "15246                 88119.0                  144786.0          107763.0  \n",
       "15247                 87837.0                  144396.0          107501.0  \n",
       "15248                 87510.0                  143923.0          107172.0  \n",
       "\n",
       "[15249 rows x 7 columns]"
      ]
     },
     "execution_count": 35,
     "metadata": {},
     "output_type": "execute_result"
    }
   ],
   "source": [
    "# Removing null values\n",
    "prices_all_tiers_states = prices_all_tiers_states.dropna()\n",
    "\n",
    "# Dropping the region_type column\n",
    "prices_all_tiers_states = prices_all_tiers_states.drop(columns=['region_type', 'region_id'])\n",
    "\n",
    "prices_all_tiers_states"
   ]
  },
  {
   "cell_type": "code",
   "execution_count": 36,
   "id": "f59bd943",
   "metadata": {},
   "outputs": [],
   "source": [
    "# Exporting the data as a csv file\n",
    "prices_all_tiers_states.to_csv (r'prices_all_tiers_states.csv', index = False, header=True)"
   ]
  },
  {
   "cell_type": "code",
   "execution_count": null,
   "id": "e1e7dee2",
   "metadata": {},
   "outputs": [],
   "source": []
  },
  {
   "cell_type": "code",
   "execution_count": null,
   "id": "583508e5",
   "metadata": {},
   "outputs": [],
   "source": [
    "# - ZALL which is the ZHVI estimated home value for all homes in the 35th to 65th percentile: Includes Single Family Residences, condominimums and co-ops\n",
    "# - ZATT typical value for all the homes within the 65th to 95th percentile range for a given region \n",
    "# - ZABT typical value for homes that fall within the 5th to 35th percentile range for a given region\n",
    "# - ZSFH which is the estimated home value for single family residences in the middle tier (mid-market) of their region\n",
    "# - ZCON which is the estimated home value for Condos and co-ops in the middle tier (mid-market) of their region\n",
    "# - IRAM For-Sale Inventory (All Homes, Monthly) --- not enough data only October 2017 to May 2021\n",
    "# - IRSM For-sale Inventory (SFR only, Monthly) --- not enough data only October 2017 to May 2021"
   ]
  },
  {
   "cell_type": "code",
   "execution_count": null,
   "id": "4dcbdf53",
   "metadata": {},
   "outputs": [],
   "source": []
  },
  {
   "cell_type": "markdown",
   "id": "7baf95e6",
   "metadata": {},
   "source": [
    "### Money Supply Data"
   ]
  },
  {
   "cell_type": "code",
   "execution_count": 37,
   "id": "96446173",
   "metadata": {},
   "outputs": [],
   "source": [
    "# Use the os.getenv function to retrieve the environment variable named FRED_API_KEY. Store as a Python variable named api_key\n",
    "FRED_api_key = os.getenv(\"FRED_API_KEY\") "
   ]
  },
  {
   "cell_type": "code",
   "execution_count": 38,
   "id": "0a31512d",
   "metadata": {},
   "outputs": [
    {
     "data": {
      "text/plain": [
       "str"
      ]
     },
     "execution_count": 38,
     "metadata": {},
     "output_type": "execute_result"
    }
   ],
   "source": [
    "# Use the type function to confirm the retrieval of the API key\n",
    "type(FRED_api_key)"
   ]
  },
  {
   "cell_type": "code",
   "execution_count": 39,
   "id": "19745a93",
   "metadata": {},
   "outputs": [],
   "source": [
    "# Call the API key for FRED\n",
    "fred = Fred(FRED_api_key)"
   ]
  },
  {
   "cell_type": "code",
   "execution_count": 40,
   "id": "45bd018f",
   "metadata": {},
   "outputs": [
    {
     "data": {
      "text/plain": [
       "1959-01-01    286.6\n",
       "1959-02-01    287.7\n",
       "1959-03-01    289.2\n",
       "1959-04-01    290.1\n",
       "1959-05-01    292.2\n",
       "dtype: float64"
      ]
     },
     "execution_count": 40,
     "metadata": {},
     "output_type": "execute_result"
    }
   ],
   "source": [
    "# Pull the data for Monetary Supply (M2) from FRED - Federal Reserve Bank of Saint Louis\n",
    "m2_data = fred.get_series('M2SL')\n",
    "m2_data.head()"
   ]
  },
  {
   "cell_type": "code",
   "execution_count": 41,
   "id": "135b9d05",
   "metadata": {},
   "outputs": [],
   "source": [
    "# Changing Datetime index to Quarterly:\n",
    "\n",
    "# First convert the dataset into a dataframe\n",
    "m2_quarterly = m2_data.to_frame()"
   ]
  },
  {
   "cell_type": "code",
   "execution_count": 42,
   "id": "2eb8e07c",
   "metadata": {},
   "outputs": [
    {
     "data": {
      "text/html": [
       "<div>\n",
       "<style scoped>\n",
       "    .dataframe tbody tr th:only-of-type {\n",
       "        vertical-align: middle;\n",
       "    }\n",
       "\n",
       "    .dataframe tbody tr th {\n",
       "        vertical-align: top;\n",
       "    }\n",
       "\n",
       "    .dataframe thead th {\n",
       "        text-align: right;\n",
       "    }\n",
       "</style>\n",
       "<table border=\"1\" class=\"dataframe\">\n",
       "  <thead>\n",
       "    <tr style=\"text-align: right;\">\n",
       "      <th></th>\n",
       "      <th>0</th>\n",
       "    </tr>\n",
       "  </thead>\n",
       "  <tbody>\n",
       "    <tr>\n",
       "      <th>1959-01-01</th>\n",
       "      <td>286.6</td>\n",
       "    </tr>\n",
       "    <tr>\n",
       "      <th>1959-02-01</th>\n",
       "      <td>287.7</td>\n",
       "    </tr>\n",
       "    <tr>\n",
       "      <th>1959-03-01</th>\n",
       "      <td>289.2</td>\n",
       "    </tr>\n",
       "    <tr>\n",
       "      <th>1959-04-01</th>\n",
       "      <td>290.1</td>\n",
       "    </tr>\n",
       "    <tr>\n",
       "      <th>1959-05-01</th>\n",
       "      <td>292.2</td>\n",
       "    </tr>\n",
       "  </tbody>\n",
       "</table>\n",
       "</div>"
      ],
      "text/plain": [
       "                0\n",
       "1959-01-01  286.6\n",
       "1959-02-01  287.7\n",
       "1959-03-01  289.2\n",
       "1959-04-01  290.1\n",
       "1959-05-01  292.2"
      ]
     },
     "execution_count": 42,
     "metadata": {},
     "output_type": "execute_result"
    }
   ],
   "source": [
    "m2_quarterly.head()"
   ]
  },
  {
   "cell_type": "code",
   "execution_count": 43,
   "id": "9f4e87cb",
   "metadata": {},
   "outputs": [
    {
     "data": {
      "text/html": [
       "<div>\n",
       "<style scoped>\n",
       "    .dataframe tbody tr th:only-of-type {\n",
       "        vertical-align: middle;\n",
       "    }\n",
       "\n",
       "    .dataframe tbody tr th {\n",
       "        vertical-align: top;\n",
       "    }\n",
       "\n",
       "    .dataframe thead th {\n",
       "        text-align: right;\n",
       "    }\n",
       "</style>\n",
       "<table border=\"1\" class=\"dataframe\">\n",
       "  <thead>\n",
       "    <tr style=\"text-align: right;\">\n",
       "      <th></th>\n",
       "      <th>0</th>\n",
       "    </tr>\n",
       "  </thead>\n",
       "  <tbody>\n",
       "    <tr>\n",
       "      <th>1959-03-31</th>\n",
       "      <td>289.2</td>\n",
       "    </tr>\n",
       "    <tr>\n",
       "      <th>1959-06-30</th>\n",
       "      <td>294.1</td>\n",
       "    </tr>\n",
       "    <tr>\n",
       "      <th>1959-09-30</th>\n",
       "      <td>296.7</td>\n",
       "    </tr>\n",
       "    <tr>\n",
       "      <th>1959-12-31</th>\n",
       "      <td>297.8</td>\n",
       "    </tr>\n",
       "    <tr>\n",
       "      <th>1960-03-31</th>\n",
       "      <td>299.3</td>\n",
       "    </tr>\n",
       "  </tbody>\n",
       "</table>\n",
       "</div>"
      ],
      "text/plain": [
       "                0\n",
       "1959-03-31  289.2\n",
       "1959-06-30  294.1\n",
       "1959-09-30  296.7\n",
       "1959-12-31  297.8\n",
       "1960-03-31  299.3"
      ]
     },
     "execution_count": 43,
     "metadata": {},
     "output_type": "execute_result"
    }
   ],
   "source": [
    "# Using \"resample\" requires an aggregator for the time period like \"mean()\".  In this case we just want the last value.\n",
    "m2_quarterly = m2_quarterly.resample(rule = 'Q').last()\n",
    "m2_quarterly.head()"
   ]
  },
  {
   "cell_type": "code",
   "execution_count": null,
   "id": "435b3b87",
   "metadata": {},
   "outputs": [],
   "source": []
  },
  {
   "cell_type": "markdown",
   "id": "57933c42",
   "metadata": {},
   "source": [
    "## Inventory for Sale  --- Not enough data just 4 yrs."
   ]
  },
  {
   "cell_type": "code",
   "execution_count": null,
   "id": "90bd1be6",
   "metadata": {},
   "outputs": [],
   "source": [
    "# Inventory all homes data is available from 2017-10-31 to 2021-05-21\n",
    "\n",
    "# One of two Zillow prices datatets for 26 states (Quandl has limitations and does not let pull the prices for all states at once, it's over 10,000 rows)\n",
    "# Using Quandl package:\n",
    "One_of_two_inventory_for_sale_all = quandl.get_table('ZILLOW/DATA', indicator_id='IRAM')\n",
    "# , region_id=['9', '8', '62', '61', '60', '6', '59', '58', '56', '55', '54', '53', '52', '51', '50', '47', '46', '45', '44', '43', '42', '41', '40', '4', '39', '38']\n",
    "One_of_two_inventory_for_sale_all"
   ]
  },
  {
   "cell_type": "code",
   "execution_count": null,
   "id": "aefbeeb3",
   "metadata": {},
   "outputs": [],
   "source": [
    "# Oldest (minimum) date available\n",
    "One_of_two_inventory_for_sale_all['date'].min()"
   ]
  },
  {
   "cell_type": "code",
   "execution_count": null,
   "id": "dc1419b3",
   "metadata": {},
   "outputs": [],
   "source": [
    "# Newest (minimum) date available\n",
    "One_of_two_inventory_for_sale_all['date'].max()"
   ]
  },
  {
   "cell_type": "code",
   "execution_count": null,
   "id": "d327d68c",
   "metadata": {},
   "outputs": [],
   "source": []
  },
  {
   "cell_type": "code",
   "execution_count": null,
   "id": "e06435e2",
   "metadata": {},
   "outputs": [],
   "source": []
  },
  {
   "cell_type": "code",
   "execution_count": null,
   "id": "d569189d",
   "metadata": {},
   "outputs": [],
   "source": [
    "df = pd.read_json (r'Path where the JSON file is saved\\File Name.json')\n",
    "df.to_csv (r'Path where the new CSV file will be stored\\New File Name.csv', index = None)"
   ]
  },
  {
   "cell_type": "code",
   "execution_count": null,
   "id": "d0e5baec",
   "metadata": {},
   "outputs": [],
   "source": [
    "df = pd.read_json (r'responszall.json')"
   ]
  },
  {
   "cell_type": "code",
   "execution_count": null,
   "id": "a7a5d6ce",
   "metadata": {},
   "outputs": [],
   "source": []
  },
  {
   "cell_type": "code",
   "execution_count": null,
   "id": "c4ad1873",
   "metadata": {},
   "outputs": [],
   "source": []
  },
  {
   "cell_type": "code",
   "execution_count": null,
   "id": "e4d62bd7",
   "metadata": {},
   "outputs": [],
   "source": [
    "# # Define the base request URL\n",
    "request_url = \"https://www.quandl.com/api/v3/datatables/ZILLOW/DATA?indicator_id=ZALL&region_id=8&api_key=\"\n",
    "# Concatenate request_url and api_key. Store as new variable\n",
    "request_url = request_url + api_key\n",
    "# Execute get request\n",
    "response_data3 = requests.get(request_url)\n",
    "# Output data\n",
    "response_data3.content"
   ]
  },
  {
   "cell_type": "code",
   "execution_count": null,
   "id": "73084fcb",
   "metadata": {},
   "outputs": [],
   "source": []
  },
  {
   "cell_type": "code",
   "execution_count": null,
   "id": "e5766131",
   "metadata": {},
   "outputs": [],
   "source": []
  },
  {
   "cell_type": "code",
   "execution_count": null,
   "id": "17c96c23",
   "metadata": {},
   "outputs": [],
   "source": []
  },
  {
   "cell_type": "code",
   "execution_count": null,
   "id": "1974f5f6",
   "metadata": {},
   "outputs": [],
   "source": [
    "# # Define the base request URL\n",
    "request_url = \"https://www.quandl.com/api/v3/datatables/ZILLOW/DATA?indicator_id=ZALL&api_key=\"\n",
    "# Concatenate request_url and api_key. Store as new variable\n",
    "request_url = request_url + api_key"
   ]
  },
  {
   "cell_type": "code",
   "execution_count": null,
   "id": "04b785e3",
   "metadata": {},
   "outputs": [],
   "source": [
    "# Execute get request\n",
    "response_data = requests.get(request_url)"
   ]
  },
  {
   "cell_type": "code",
   "execution_count": null,
   "id": "dd84165a",
   "metadata": {},
   "outputs": [],
   "source": [
    "# Output data\n",
    "response_data.content"
   ]
  },
  {
   "cell_type": "code",
   "execution_count": null,
   "id": "62ac588d",
   "metadata": {},
   "outputs": [],
   "source": []
  }
 ],
 "metadata": {
  "kernelspec": {
   "display_name": "Python [conda env:root]",
   "language": "python",
   "name": "conda-root-py"
  },
  "language_info": {
   "codemirror_mode": {
    "name": "ipython",
    "version": 3
   },
   "file_extension": ".py",
   "mimetype": "text/x-python",
   "name": "python",
   "nbconvert_exporter": "python",
   "pygments_lexer": "ipython3",
   "version": "3.8.8"
  }
 },
 "nbformat": 4,
 "nbformat_minor": 5
}
