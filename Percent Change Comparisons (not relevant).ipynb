{
 "cells": [
  {
   "cell_type": "code",
   "execution_count": null,
   "id": "eb3f03c6",
   "metadata": {},
   "outputs": [],
   "source": []
  },
  {
   "cell_type": "code",
   "execution_count": null,
   "id": "8d41ad3d",
   "metadata": {},
   "outputs": [],
   "source": []
  },
  {
   "cell_type": "code",
   "execution_count": null,
   "id": "e4d280f0",
   "metadata": {},
   "outputs": [],
   "source": [
    "#Calculate percent change\n",
    "pct_change_comparison = comparison_df.pct_change()\n",
    "#Drop null\n",
    "pct_change_comparison = pct_change_comparison.dropna()\n",
    "pct_change_comparison\n",
    "#Write percent change comparison to a csv\n",
    "pct_change_comparison.to_csv(\"Stock Index Percent Change Comparison.csv\", index = True, header = True)"
   ]
  },
  {
   "cell_type": "code",
   "execution_count": null,
   "id": "d5ea05f2",
   "metadata": {},
   "outputs": [],
   "source": [
    "#Plot percent change comparison\n",
    "pct_change_comparison.plot(title = \"Percent Change in Money Supply v.s. Major Stock Indices\", figsize = [15,10])"
   ]
  },
  {
   "cell_type": "code",
   "execution_count": null,
   "id": "09b886c7",
   "metadata": {},
   "outputs": [],
   "source": [
    "#Financial crisis percent change\n",
    "pct_change_financial_crisis = pct_change_comparison['2006-2-1':'2011-2-1']\n",
    "pct_change_financial_crisis .plot(title = \"Percent Change of Money Supply v.s. Major Stock Indices During the Financial Crisis\", figsize = [15, 10])"
   ]
  },
  {
   "cell_type": "code",
   "execution_count": null,
   "id": "4e81c2f1",
   "metadata": {},
   "outputs": [],
   "source": [
    "#9/11 percent change\n",
    "pct_change_nine_eleven = pct_change_comparison['2001-2-1':'2002-2-1']\n",
    "pct_change_nine_eleven.plot(title = \"Percent Change of Money Supply v.s. Major Stock Indices During 9/11\", figsize = [15, 10])"
   ]
  },
  {
   "cell_type": "code",
   "execution_count": null,
   "id": "25a9d128",
   "metadata": {},
   "outputs": [],
   "source": [
    "#Pandemic percent change\n",
    "pct_change_pandemic = pct_change_comparison['2020-2-1':'2021-6-1']\n",
    "pct_change_pandemic.plot(title = \"Percent Change of Money Supply v.s. Major Stock Indices During the Pandemic\", figsize = [15, 10])"
   ]
  },
  {
   "cell_type": "code",
   "execution_count": null,
   "id": "cab9186f",
   "metadata": {},
   "outputs": [],
   "source": [
    "#Create correlation table for all percent change\n",
    "pct_change_correlation = pct_change_comparison.corr()\n",
    "pct_change_correlation"
   ]
  },
  {
   "cell_type": "code",
   "execution_count": null,
   "id": "4faa76ce",
   "metadata": {},
   "outputs": [],
   "source": [
    "#Create correlation graph for all percent change\n",
    "sns.heatmap(pct_change_correlation)"
   ]
  },
  {
   "cell_type": "code",
   "execution_count": null,
   "id": "46123246",
   "metadata": {},
   "outputs": [],
   "source": [
    "#Create correlation table for percent change during the financial crisis\n",
    "pct_change_financial_crisis_correlation = pct_change_financial_crisis.corr()\n",
    "pct_change_financial_crisis_correlation"
   ]
  },
  {
   "cell_type": "code",
   "execution_count": null,
   "id": "44e6129b",
   "metadata": {},
   "outputs": [],
   "source": [
    "#Create correlation graph for percent change during the fincancial crisis\n",
    "sns.heatmap(pct_change_financial_crisis_correlation)"
   ]
  },
  {
   "cell_type": "code",
   "execution_count": null,
   "id": "c9c1bbf5",
   "metadata": {},
   "outputs": [],
   "source": [
    "#Create correlation table for percent change during 9/11\n",
    "pct_change_nine_eleven_correlation = pct_change_nine_eleven.corr()\n",
    "pct_change_nine_eleven_correlation"
   ]
  },
  {
   "cell_type": "code",
   "execution_count": null,
   "id": "3dd54732",
   "metadata": {},
   "outputs": [],
   "source": [
    "#Create correlation graph for percent change during 9/11\n",
    "sns.heatmap(pct_change_nine_eleven_correlation)"
   ]
  },
  {
   "cell_type": "code",
   "execution_count": null,
   "id": "6d85cbad",
   "metadata": {},
   "outputs": [],
   "source": [
    "#Create correlation table for percenet change during the pandemic\n",
    "pct_change_pandemic_correlation = pct_change_pandemic.corr()\n",
    "pct_change_pandemic_correlation"
   ]
  },
  {
   "cell_type": "code",
   "execution_count": null,
   "id": "db1cbda9",
   "metadata": {},
   "outputs": [],
   "source": [
    "#Create correlation graph for percent change during the pandemic\n",
    "sns.heatmap(pct_change_pandemic_correlation)"
   ]
  },
  {
   "cell_type": "code",
   "execution_count": null,
   "id": "a9e89fcc",
   "metadata": {},
   "outputs": [],
   "source": []
  }
 ],
 "metadata": {
  "kernelspec": {
   "display_name": "Python [conda env:dev]",
   "language": "python",
   "name": "conda-env-dev-py"
  },
  "language_info": {
   "codemirror_mode": {
    "name": "ipython",
    "version": 3
   },
   "file_extension": ".py",
   "mimetype": "text/x-python",
   "name": "python",
   "nbconvert_exporter": "python",
   "pygments_lexer": "ipython3",
   "version": "3.7.10"
  }
 },
 "nbformat": 4,
 "nbformat_minor": 5
}
