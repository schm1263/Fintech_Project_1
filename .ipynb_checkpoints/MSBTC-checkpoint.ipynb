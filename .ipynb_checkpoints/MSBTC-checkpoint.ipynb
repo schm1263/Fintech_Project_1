{
 "cells": [
  {
   "cell_type": "markdown",
   "id": "97abeb23",
   "metadata": {},
   "source": [
    "# Importing packages/dependencies"
   ]
  },
  {
   "cell_type": "code",
   "execution_count": 28,
   "id": "21fa302d",
   "metadata": {},
   "outputs": [],
   "source": [
    "# Import packages/modules\n",
    "import pandas as pd\n",
    "import requests\n",
    "from dotenv import load_dotenv\n",
    "import os\n",
    "import requests\n",
    "from fredapi import Fred\n",
    "import pandas_datareader.data as pdr\n",
    "import datetime as dt\n",
    "import seaborn as sns\n",
    "import plotly.express as px\n",
    "import hvplot.pandas\n",
    "import holoviews as hv\n",
    "import numpy as np\n"
   ]
  },
  {
   "cell_type": "markdown",
   "id": "c6fa3b6b",
   "metadata": {},
   "source": [
    "# Obtaining M2 Money supply from Fedral Reserve Economic Data site using API key"
   ]
  },
  {
   "cell_type": "code",
   "execution_count": 2,
   "id": "e8784275",
   "metadata": {},
   "outputs": [
    {
     "data": {
      "text/plain": [
       "True"
      ]
     },
     "execution_count": 2,
     "metadata": {},
     "output_type": "execute_result"
    }
   ],
   "source": [
    "# load Env\n",
    "load_dotenv()"
   ]
  },
  {
   "cell_type": "code",
   "execution_count": 3,
   "id": "dd6ed97a",
   "metadata": {},
   "outputs": [],
   "source": [
    "# Assign variable to API\n",
    "api_key=os.getenv(\"FRED_API_KEY\")"
   ]
  },
  {
   "cell_type": "code",
   "execution_count": 4,
   "id": "bc720847",
   "metadata": {},
   "outputs": [
    {
     "data": {
      "text/plain": [
       "str"
      ]
     },
     "execution_count": 4,
     "metadata": {},
     "output_type": "execute_result"
    }
   ],
   "source": [
    "# Confirm the retrievel of the API Key\n",
    "type(api_key)"
   ]
  },
  {
   "cell_type": "code",
   "execution_count": 5,
   "id": "2f2cd730",
   "metadata": {},
   "outputs": [],
   "source": [
    "fred = Fred(api_key)"
   ]
  },
  {
   "cell_type": "code",
   "execution_count": 6,
   "id": "f63c6e09",
   "metadata": {},
   "outputs": [
    {
     "data": {
      "text/plain": [
       "1959-01-01    286.6\n",
       "1959-02-01    287.7\n",
       "1959-03-01    289.2\n",
       "1959-04-01    290.1\n",
       "1959-05-01    292.2\n",
       "dtype: float64"
      ]
     },
     "execution_count": 6,
     "metadata": {},
     "output_type": "execute_result"
    }
   ],
   "source": [
    "m2sl = fred.get_series('M2SL')\n",
    "m2sl.head()"
   ]
  },
  {
   "cell_type": "code",
   "execution_count": 7,
   "id": "ff306087",
   "metadata": {},
   "outputs": [
    {
     "data": {
      "text/html": [
       "<div>\n",
       "<style scoped>\n",
       "    .dataframe tbody tr th:only-of-type {\n",
       "        vertical-align: middle;\n",
       "    }\n",
       "\n",
       "    .dataframe tbody tr th {\n",
       "        vertical-align: top;\n",
       "    }\n",
       "\n",
       "    .dataframe thead th {\n",
       "        text-align: right;\n",
       "    }\n",
       "</style>\n",
       "<table border=\"1\" class=\"dataframe\">\n",
       "  <thead>\n",
       "    <tr style=\"text-align: right;\">\n",
       "      <th></th>\n",
       "      <th>0</th>\n",
       "    </tr>\n",
       "  </thead>\n",
       "  <tbody>\n",
       "    <tr>\n",
       "      <th>1959-01-01</th>\n",
       "      <td>286.6</td>\n",
       "    </tr>\n",
       "    <tr>\n",
       "      <th>1959-02-01</th>\n",
       "      <td>287.7</td>\n",
       "    </tr>\n",
       "    <tr>\n",
       "      <th>1959-03-01</th>\n",
       "      <td>289.2</td>\n",
       "    </tr>\n",
       "    <tr>\n",
       "      <th>1959-04-01</th>\n",
       "      <td>290.1</td>\n",
       "    </tr>\n",
       "    <tr>\n",
       "      <th>1959-05-01</th>\n",
       "      <td>292.2</td>\n",
       "    </tr>\n",
       "  </tbody>\n",
       "</table>\n",
       "</div>"
      ],
      "text/plain": [
       "                0\n",
       "1959-01-01  286.6\n",
       "1959-02-01  287.7\n",
       "1959-03-01  289.2\n",
       "1959-04-01  290.1\n",
       "1959-05-01  292.2"
      ]
     },
     "execution_count": 7,
     "metadata": {},
     "output_type": "execute_result"
    }
   ],
   "source": [
    "m2sl = pd.DataFrame(m2sl)\n",
    "m2sl.head()"
   ]
  },
  {
   "cell_type": "markdown",
   "id": "ec062e9f",
   "metadata": {},
   "source": [
    "m2sl_df.reset_index"
   ]
  },
  {
   "cell_type": "code",
   "execution_count": 8,
   "id": "6b8a6346",
   "metadata": {},
   "outputs": [
    {
     "data": {
      "text/html": [
       "<div>\n",
       "<style scoped>\n",
       "    .dataframe tbody tr th:only-of-type {\n",
       "        vertical-align: middle;\n",
       "    }\n",
       "\n",
       "    .dataframe tbody tr th {\n",
       "        vertical-align: top;\n",
       "    }\n",
       "\n",
       "    .dataframe thead th {\n",
       "        text-align: right;\n",
       "    }\n",
       "</style>\n",
       "<table border=\"1\" class=\"dataframe\">\n",
       "  <thead>\n",
       "    <tr style=\"text-align: right;\">\n",
       "      <th></th>\n",
       "      <th>m2_supply</th>\n",
       "    </tr>\n",
       "  </thead>\n",
       "  <tbody>\n",
       "    <tr>\n",
       "      <th>1959-01-01</th>\n",
       "      <td>286.6</td>\n",
       "    </tr>\n",
       "    <tr>\n",
       "      <th>1959-02-01</th>\n",
       "      <td>287.7</td>\n",
       "    </tr>\n",
       "    <tr>\n",
       "      <th>1959-03-01</th>\n",
       "      <td>289.2</td>\n",
       "    </tr>\n",
       "    <tr>\n",
       "      <th>1959-04-01</th>\n",
       "      <td>290.1</td>\n",
       "    </tr>\n",
       "    <tr>\n",
       "      <th>1959-05-01</th>\n",
       "      <td>292.2</td>\n",
       "    </tr>\n",
       "  </tbody>\n",
       "</table>\n",
       "</div>"
      ],
      "text/plain": [
       "            m2_supply\n",
       "1959-01-01      286.6\n",
       "1959-02-01      287.7\n",
       "1959-03-01      289.2\n",
       "1959-04-01      290.1\n",
       "1959-05-01      292.2"
      ]
     },
     "execution_count": 8,
     "metadata": {},
     "output_type": "execute_result"
    }
   ],
   "source": [
    "m2sl.rename(columns={0:\"m2_supply\"},inplace=True)\n",
    "m2sl.head()"
   ]
  },
  {
   "cell_type": "code",
   "execution_count": 9,
   "id": "02419056",
   "metadata": {},
   "outputs": [
    {
     "data": {
      "text/html": [
       "<div>\n",
       "<style scoped>\n",
       "    .dataframe tbody tr th:only-of-type {\n",
       "        vertical-align: middle;\n",
       "    }\n",
       "\n",
       "    .dataframe tbody tr th {\n",
       "        vertical-align: top;\n",
       "    }\n",
       "\n",
       "    .dataframe thead th {\n",
       "        text-align: right;\n",
       "    }\n",
       "</style>\n",
       "<table border=\"1\" class=\"dataframe\">\n",
       "  <thead>\n",
       "    <tr style=\"text-align: right;\">\n",
       "      <th></th>\n",
       "      <th>m2_supply</th>\n",
       "    </tr>\n",
       "  </thead>\n",
       "  <tbody>\n",
       "    <tr>\n",
       "      <th>1959-01-01</th>\n",
       "      <td>286.6</td>\n",
       "    </tr>\n",
       "    <tr>\n",
       "      <th>1959-02-01</th>\n",
       "      <td>287.7</td>\n",
       "    </tr>\n",
       "    <tr>\n",
       "      <th>1959-03-01</th>\n",
       "      <td>289.2</td>\n",
       "    </tr>\n",
       "    <tr>\n",
       "      <th>1959-04-01</th>\n",
       "      <td>290.1</td>\n",
       "    </tr>\n",
       "    <tr>\n",
       "      <th>1959-05-01</th>\n",
       "      <td>292.2</td>\n",
       "    </tr>\n",
       "  </tbody>\n",
       "</table>\n",
       "</div>"
      ],
      "text/plain": [
       "            m2_supply\n",
       "1959-01-01      286.6\n",
       "1959-02-01      287.7\n",
       "1959-03-01      289.2\n",
       "1959-04-01      290.1\n",
       "1959-05-01      292.2"
      ]
     },
     "execution_count": 9,
     "metadata": {},
     "output_type": "execute_result"
    }
   ],
   "source": [
    "# Dropping null value\n",
    "m2sl.dropna()\n",
    "m2sl.head()"
   ]
  },
  {
   "cell_type": "markdown",
   "id": "2610b148",
   "metadata": {},
   "source": [
    "# Obtaining BTC data from Yahoo finance using DataReader function"
   ]
  },
  {
   "cell_type": "code",
   "execution_count": 10,
   "id": "71b14c61",
   "metadata": {},
   "outputs": [
    {
     "data": {
      "text/html": [
       "<div>\n",
       "<style scoped>\n",
       "    .dataframe tbody tr th:only-of-type {\n",
       "        vertical-align: middle;\n",
       "    }\n",
       "\n",
       "    .dataframe tbody tr th {\n",
       "        vertical-align: top;\n",
       "    }\n",
       "\n",
       "    .dataframe thead th {\n",
       "        text-align: right;\n",
       "    }\n",
       "</style>\n",
       "<table border=\"1\" class=\"dataframe\">\n",
       "  <thead>\n",
       "    <tr style=\"text-align: right;\">\n",
       "      <th></th>\n",
       "      <th>High</th>\n",
       "      <th>Low</th>\n",
       "      <th>Open</th>\n",
       "      <th>Close</th>\n",
       "      <th>Volume</th>\n",
       "      <th>Adj Close</th>\n",
       "    </tr>\n",
       "    <tr>\n",
       "      <th>Date</th>\n",
       "      <th></th>\n",
       "      <th></th>\n",
       "      <th></th>\n",
       "      <th></th>\n",
       "      <th></th>\n",
       "      <th></th>\n",
       "    </tr>\n",
       "  </thead>\n",
       "  <tbody>\n",
       "    <tr>\n",
       "      <th>2014-09-16</th>\n",
       "      <td>468.174011</td>\n",
       "      <td>452.421997</td>\n",
       "      <td>465.864014</td>\n",
       "      <td>457.334015</td>\n",
       "      <td>21056800.0</td>\n",
       "      <td>457.334015</td>\n",
       "    </tr>\n",
       "    <tr>\n",
       "      <th>2014-09-17</th>\n",
       "      <td>456.859985</td>\n",
       "      <td>413.104004</td>\n",
       "      <td>456.859985</td>\n",
       "      <td>424.440002</td>\n",
       "      <td>34483200.0</td>\n",
       "      <td>424.440002</td>\n",
       "    </tr>\n",
       "    <tr>\n",
       "      <th>2014-09-18</th>\n",
       "      <td>427.834991</td>\n",
       "      <td>384.532013</td>\n",
       "      <td>424.102997</td>\n",
       "      <td>394.795990</td>\n",
       "      <td>37919700.0</td>\n",
       "      <td>394.795990</td>\n",
       "    </tr>\n",
       "    <tr>\n",
       "      <th>2014-09-19</th>\n",
       "      <td>423.295990</td>\n",
       "      <td>389.882996</td>\n",
       "      <td>394.673004</td>\n",
       "      <td>408.903992</td>\n",
       "      <td>36863600.0</td>\n",
       "      <td>408.903992</td>\n",
       "    </tr>\n",
       "    <tr>\n",
       "      <th>2014-09-20</th>\n",
       "      <td>412.425995</td>\n",
       "      <td>393.181000</td>\n",
       "      <td>408.084991</td>\n",
       "      <td>398.821014</td>\n",
       "      <td>26580100.0</td>\n",
       "      <td>398.821014</td>\n",
       "    </tr>\n",
       "  </tbody>\n",
       "</table>\n",
       "</div>"
      ],
      "text/plain": [
       "                  High         Low        Open       Close      Volume  \\\n",
       "Date                                                                     \n",
       "2014-09-16  468.174011  452.421997  465.864014  457.334015  21056800.0   \n",
       "2014-09-17  456.859985  413.104004  456.859985  424.440002  34483200.0   \n",
       "2014-09-18  427.834991  384.532013  424.102997  394.795990  37919700.0   \n",
       "2014-09-19  423.295990  389.882996  394.673004  408.903992  36863600.0   \n",
       "2014-09-20  412.425995  393.181000  408.084991  398.821014  26580100.0   \n",
       "\n",
       "             Adj Close  \n",
       "Date                    \n",
       "2014-09-16  457.334015  \n",
       "2014-09-17  424.440002  \n",
       "2014-09-18  394.795990  \n",
       "2014-09-19  408.903992  \n",
       "2014-09-20  398.821014  "
      ]
     },
     "execution_count": 10,
     "metadata": {},
     "output_type": "execute_result"
    }
   ],
   "source": [
    "start = dt.datetime(2010,1,1)\n",
    "end = dt.datetime(2021,7,31)\n",
    "btc_df = pdr.DataReader('BTC-USD','yahoo',start,end)\n",
    "btc_df.head()"
   ]
  },
  {
   "cell_type": "code",
   "execution_count": 11,
   "id": "6788ca0b",
   "metadata": {},
   "outputs": [
    {
     "data": {
      "text/html": [
       "<div>\n",
       "<style scoped>\n",
       "    .dataframe tbody tr th:only-of-type {\n",
       "        vertical-align: middle;\n",
       "    }\n",
       "\n",
       "    .dataframe tbody tr th {\n",
       "        vertical-align: top;\n",
       "    }\n",
       "\n",
       "    .dataframe thead th {\n",
       "        text-align: right;\n",
       "    }\n",
       "</style>\n",
       "<table border=\"1\" class=\"dataframe\">\n",
       "  <thead>\n",
       "    <tr style=\"text-align: right;\">\n",
       "      <th></th>\n",
       "      <th>High</th>\n",
       "      <th>Low</th>\n",
       "      <th>Open</th>\n",
       "      <th>Close</th>\n",
       "      <th>Volume</th>\n",
       "      <th>Adj Close</th>\n",
       "    </tr>\n",
       "    <tr>\n",
       "      <th>Date</th>\n",
       "      <th></th>\n",
       "      <th></th>\n",
       "      <th></th>\n",
       "      <th></th>\n",
       "      <th></th>\n",
       "      <th></th>\n",
       "    </tr>\n",
       "  </thead>\n",
       "  <tbody>\n",
       "    <tr>\n",
       "      <th>2014-09-16</th>\n",
       "      <td>468.174011</td>\n",
       "      <td>452.421997</td>\n",
       "      <td>465.864014</td>\n",
       "      <td>457.334015</td>\n",
       "      <td>2.105680e+07</td>\n",
       "      <td>457.334015</td>\n",
       "    </tr>\n",
       "    <tr>\n",
       "      <th>2014-09-17</th>\n",
       "      <td>456.859985</td>\n",
       "      <td>413.104004</td>\n",
       "      <td>456.859985</td>\n",
       "      <td>424.440002</td>\n",
       "      <td>3.448320e+07</td>\n",
       "      <td>424.440002</td>\n",
       "    </tr>\n",
       "    <tr>\n",
       "      <th>2014-09-18</th>\n",
       "      <td>427.834991</td>\n",
       "      <td>384.532013</td>\n",
       "      <td>424.102997</td>\n",
       "      <td>394.795990</td>\n",
       "      <td>3.791970e+07</td>\n",
       "      <td>394.795990</td>\n",
       "    </tr>\n",
       "    <tr>\n",
       "      <th>2014-09-19</th>\n",
       "      <td>423.295990</td>\n",
       "      <td>389.882996</td>\n",
       "      <td>394.673004</td>\n",
       "      <td>408.903992</td>\n",
       "      <td>3.686360e+07</td>\n",
       "      <td>408.903992</td>\n",
       "    </tr>\n",
       "    <tr>\n",
       "      <th>2014-09-20</th>\n",
       "      <td>412.425995</td>\n",
       "      <td>393.181000</td>\n",
       "      <td>408.084991</td>\n",
       "      <td>398.821014</td>\n",
       "      <td>2.658010e+07</td>\n",
       "      <td>398.821014</td>\n",
       "    </tr>\n",
       "    <tr>\n",
       "      <th>...</th>\n",
       "      <td>...</td>\n",
       "      <td>...</td>\n",
       "      <td>...</td>\n",
       "      <td>...</td>\n",
       "      <td>...</td>\n",
       "      <td>...</td>\n",
       "    </tr>\n",
       "    <tr>\n",
       "      <th>2021-07-27</th>\n",
       "      <td>40816.070312</td>\n",
       "      <td>38862.437500</td>\n",
       "      <td>39503.187500</td>\n",
       "      <td>39995.906250</td>\n",
       "      <td>3.870240e+10</td>\n",
       "      <td>39995.906250</td>\n",
       "    </tr>\n",
       "    <tr>\n",
       "      <th>2021-07-28</th>\n",
       "      <td>40593.070312</td>\n",
       "      <td>39352.058594</td>\n",
       "      <td>39995.453125</td>\n",
       "      <td>40008.421875</td>\n",
       "      <td>2.716715e+10</td>\n",
       "      <td>40008.421875</td>\n",
       "    </tr>\n",
       "    <tr>\n",
       "      <th>2021-07-29</th>\n",
       "      <td>42235.546875</td>\n",
       "      <td>38397.355469</td>\n",
       "      <td>40027.484375</td>\n",
       "      <td>42235.546875</td>\n",
       "      <td>3.307278e+10</td>\n",
       "      <td>42235.546875</td>\n",
       "    </tr>\n",
       "    <tr>\n",
       "      <th>2021-07-30</th>\n",
       "      <td>42231.449219</td>\n",
       "      <td>41110.832031</td>\n",
       "      <td>42196.304688</td>\n",
       "      <td>41626.195312</td>\n",
       "      <td>2.580285e+10</td>\n",
       "      <td>41626.195312</td>\n",
       "    </tr>\n",
       "    <tr>\n",
       "      <th>2021-07-31</th>\n",
       "      <td>42541.679688</td>\n",
       "      <td>39540.941406</td>\n",
       "      <td>41460.843750</td>\n",
       "      <td>39974.894531</td>\n",
       "      <td>2.668844e+10</td>\n",
       "      <td>39974.894531</td>\n",
       "    </tr>\n",
       "  </tbody>\n",
       "</table>\n",
       "<p>2507 rows × 6 columns</p>\n",
       "</div>"
      ],
      "text/plain": [
       "                    High           Low          Open         Close  \\\n",
       "Date                                                                 \n",
       "2014-09-16    468.174011    452.421997    465.864014    457.334015   \n",
       "2014-09-17    456.859985    413.104004    456.859985    424.440002   \n",
       "2014-09-18    427.834991    384.532013    424.102997    394.795990   \n",
       "2014-09-19    423.295990    389.882996    394.673004    408.903992   \n",
       "2014-09-20    412.425995    393.181000    408.084991    398.821014   \n",
       "...                  ...           ...           ...           ...   \n",
       "2021-07-27  40816.070312  38862.437500  39503.187500  39995.906250   \n",
       "2021-07-28  40593.070312  39352.058594  39995.453125  40008.421875   \n",
       "2021-07-29  42235.546875  38397.355469  40027.484375  42235.546875   \n",
       "2021-07-30  42231.449219  41110.832031  42196.304688  41626.195312   \n",
       "2021-07-31  42541.679688  39540.941406  41460.843750  39974.894531   \n",
       "\n",
       "                  Volume     Adj Close  \n",
       "Date                                    \n",
       "2014-09-16  2.105680e+07    457.334015  \n",
       "2014-09-17  3.448320e+07    424.440002  \n",
       "2014-09-18  3.791970e+07    394.795990  \n",
       "2014-09-19  3.686360e+07    408.903992  \n",
       "2014-09-20  2.658010e+07    398.821014  \n",
       "...                  ...           ...  \n",
       "2021-07-27  3.870240e+10  39995.906250  \n",
       "2021-07-28  2.716715e+10  40008.421875  \n",
       "2021-07-29  3.307278e+10  42235.546875  \n",
       "2021-07-30  2.580285e+10  41626.195312  \n",
       "2021-07-31  2.668844e+10  39974.894531  \n",
       "\n",
       "[2507 rows x 6 columns]"
      ]
     },
     "execution_count": 11,
     "metadata": {},
     "output_type": "execute_result"
    }
   ],
   "source": [
    "# Drop null value if any\n",
    "btc_df.dropna()"
   ]
  },
  {
   "cell_type": "code",
   "execution_count": 12,
   "id": "149754e5",
   "metadata": {},
   "outputs": [
    {
     "data": {
      "text/html": [
       "<div>\n",
       "<style scoped>\n",
       "    .dataframe tbody tr th:only-of-type {\n",
       "        vertical-align: middle;\n",
       "    }\n",
       "\n",
       "    .dataframe tbody tr th {\n",
       "        vertical-align: top;\n",
       "    }\n",
       "\n",
       "    .dataframe thead th {\n",
       "        text-align: right;\n",
       "    }\n",
       "</style>\n",
       "<table border=\"1\" class=\"dataframe\">\n",
       "  <thead>\n",
       "    <tr style=\"text-align: right;\">\n",
       "      <th></th>\n",
       "      <th>Close</th>\n",
       "      <th>Volume</th>\n",
       "      <th>Adj Close</th>\n",
       "    </tr>\n",
       "    <tr>\n",
       "      <th>Date</th>\n",
       "      <th></th>\n",
       "      <th></th>\n",
       "      <th></th>\n",
       "    </tr>\n",
       "  </thead>\n",
       "  <tbody>\n",
       "    <tr>\n",
       "      <th>2014-09-16</th>\n",
       "      <td>457.334015</td>\n",
       "      <td>21056800.0</td>\n",
       "      <td>457.334015</td>\n",
       "    </tr>\n",
       "    <tr>\n",
       "      <th>2014-09-17</th>\n",
       "      <td>424.440002</td>\n",
       "      <td>34483200.0</td>\n",
       "      <td>424.440002</td>\n",
       "    </tr>\n",
       "    <tr>\n",
       "      <th>2014-09-18</th>\n",
       "      <td>394.795990</td>\n",
       "      <td>37919700.0</td>\n",
       "      <td>394.795990</td>\n",
       "    </tr>\n",
       "    <tr>\n",
       "      <th>2014-09-19</th>\n",
       "      <td>408.903992</td>\n",
       "      <td>36863600.0</td>\n",
       "      <td>408.903992</td>\n",
       "    </tr>\n",
       "    <tr>\n",
       "      <th>2014-09-20</th>\n",
       "      <td>398.821014</td>\n",
       "      <td>26580100.0</td>\n",
       "      <td>398.821014</td>\n",
       "    </tr>\n",
       "  </tbody>\n",
       "</table>\n",
       "</div>"
      ],
      "text/plain": [
       "                 Close      Volume   Adj Close\n",
       "Date                                          \n",
       "2014-09-16  457.334015  21056800.0  457.334015\n",
       "2014-09-17  424.440002  34483200.0  424.440002\n",
       "2014-09-18  394.795990  37919700.0  394.795990\n",
       "2014-09-19  408.903992  36863600.0  408.903992\n",
       "2014-09-20  398.821014  26580100.0  398.821014"
      ]
     },
     "execution_count": 12,
     "metadata": {},
     "output_type": "execute_result"
    }
   ],
   "source": [
    "# Dropping columns High, Low, and Open\n",
    "btc_df.drop(['High','Low','Open'], axis=1, inplace=True)\n",
    "btc_df.head()"
   ]
  },
  {
   "cell_type": "code",
   "execution_count": 13,
   "id": "07eec607",
   "metadata": {},
   "outputs": [
    {
     "data": {
      "text/html": [
       "<div>\n",
       "<style scoped>\n",
       "    .dataframe tbody tr th:only-of-type {\n",
       "        vertical-align: middle;\n",
       "    }\n",
       "\n",
       "    .dataframe tbody tr th {\n",
       "        vertical-align: top;\n",
       "    }\n",
       "\n",
       "    .dataframe thead th {\n",
       "        text-align: right;\n",
       "    }\n",
       "</style>\n",
       "<table border=\"1\" class=\"dataframe\">\n",
       "  <thead>\n",
       "    <tr style=\"text-align: right;\">\n",
       "      <th></th>\n",
       "      <th>Close</th>\n",
       "    </tr>\n",
       "    <tr>\n",
       "      <th>Date</th>\n",
       "      <th></th>\n",
       "    </tr>\n",
       "  </thead>\n",
       "  <tbody>\n",
       "    <tr>\n",
       "      <th>2014-09-16</th>\n",
       "      <td>457.334015</td>\n",
       "    </tr>\n",
       "    <tr>\n",
       "      <th>2014-09-17</th>\n",
       "      <td>424.440002</td>\n",
       "    </tr>\n",
       "    <tr>\n",
       "      <th>2014-09-18</th>\n",
       "      <td>394.795990</td>\n",
       "    </tr>\n",
       "    <tr>\n",
       "      <th>2014-09-19</th>\n",
       "      <td>408.903992</td>\n",
       "    </tr>\n",
       "    <tr>\n",
       "      <th>2014-09-20</th>\n",
       "      <td>398.821014</td>\n",
       "    </tr>\n",
       "  </tbody>\n",
       "</table>\n",
       "</div>"
      ],
      "text/plain": [
       "                 Close\n",
       "Date                  \n",
       "2014-09-16  457.334015\n",
       "2014-09-17  424.440002\n",
       "2014-09-18  394.795990\n",
       "2014-09-19  408.903992\n",
       "2014-09-20  398.821014"
      ]
     },
     "execution_count": 13,
     "metadata": {},
     "output_type": "execute_result"
    }
   ],
   "source": [
    "# Dropping columns Volume, and Adj Close\n",
    "btc_df.drop(['Volume','Adj Close'], axis=1, inplace=True)\n",
    "btc_df.head()"
   ]
  },
  {
   "cell_type": "markdown",
   "id": "c2a77141",
   "metadata": {},
   "source": [
    "# Merging Money supply and BTC price to single Dataframe"
   ]
  },
  {
   "cell_type": "code",
   "execution_count": 14,
   "id": "dc28556b",
   "metadata": {},
   "outputs": [
    {
     "data": {
      "text/html": [
       "<div>\n",
       "<style scoped>\n",
       "    .dataframe tbody tr th:only-of-type {\n",
       "        vertical-align: middle;\n",
       "    }\n",
       "\n",
       "    .dataframe tbody tr th {\n",
       "        vertical-align: top;\n",
       "    }\n",
       "\n",
       "    .dataframe thead th {\n",
       "        text-align: right;\n",
       "    }\n",
       "</style>\n",
       "<table border=\"1\" class=\"dataframe\">\n",
       "  <thead>\n",
       "    <tr style=\"text-align: right;\">\n",
       "      <th></th>\n",
       "      <th>m2_supply</th>\n",
       "      <th>Close</th>\n",
       "    </tr>\n",
       "  </thead>\n",
       "  <tbody>\n",
       "    <tr>\n",
       "      <th>2014-10-01</th>\n",
       "      <td>11562.1</td>\n",
       "      <td>375.071991</td>\n",
       "    </tr>\n",
       "    <tr>\n",
       "      <th>2014-11-01</th>\n",
       "      <td>11598.2</td>\n",
       "      <td>325.748993</td>\n",
       "    </tr>\n",
       "    <tr>\n",
       "      <th>2014-12-01</th>\n",
       "      <td>11677.5</td>\n",
       "      <td>379.244995</td>\n",
       "    </tr>\n",
       "    <tr>\n",
       "      <th>2015-01-01</th>\n",
       "      <td>11747.4</td>\n",
       "      <td>314.248993</td>\n",
       "    </tr>\n",
       "    <tr>\n",
       "      <th>2015-02-01</th>\n",
       "      <td>11875.2</td>\n",
       "      <td>226.972000</td>\n",
       "    </tr>\n",
       "  </tbody>\n",
       "</table>\n",
       "</div>"
      ],
      "text/plain": [
       "            m2_supply       Close\n",
       "2014-10-01    11562.1  375.071991\n",
       "2014-11-01    11598.2  325.748993\n",
       "2014-12-01    11677.5  379.244995\n",
       "2015-01-01    11747.4  314.248993\n",
       "2015-02-01    11875.2  226.972000"
      ]
     },
     "execution_count": 14,
     "metadata": {},
     "output_type": "execute_result"
    }
   ],
   "source": [
    "m2sl_btc = pd.concat([m2sl,btc_df], axis=1, join='inner')\n",
    "m2sl_btc.head()"
   ]
  },
  {
   "cell_type": "code",
   "execution_count": 15,
   "id": "322dd191",
   "metadata": {},
   "outputs": [
    {
     "data": {
      "text/html": [
       "<div>\n",
       "<style scoped>\n",
       "    .dataframe tbody tr th:only-of-type {\n",
       "        vertical-align: middle;\n",
       "    }\n",
       "\n",
       "    .dataframe tbody tr th {\n",
       "        vertical-align: top;\n",
       "    }\n",
       "\n",
       "    .dataframe thead th {\n",
       "        text-align: right;\n",
       "    }\n",
       "</style>\n",
       "<table border=\"1\" class=\"dataframe\">\n",
       "  <thead>\n",
       "    <tr style=\"text-align: right;\">\n",
       "      <th></th>\n",
       "      <th>m2_supply</th>\n",
       "      <th>Close</th>\n",
       "    </tr>\n",
       "  </thead>\n",
       "  <tbody>\n",
       "    <tr>\n",
       "      <th>2014-10-01</th>\n",
       "      <td>11562.1</td>\n",
       "      <td>375.071991</td>\n",
       "    </tr>\n",
       "    <tr>\n",
       "      <th>2014-11-01</th>\n",
       "      <td>11598.2</td>\n",
       "      <td>325.748993</td>\n",
       "    </tr>\n",
       "    <tr>\n",
       "      <th>2014-12-01</th>\n",
       "      <td>11677.5</td>\n",
       "      <td>379.244995</td>\n",
       "    </tr>\n",
       "    <tr>\n",
       "      <th>2015-01-01</th>\n",
       "      <td>11747.4</td>\n",
       "      <td>314.248993</td>\n",
       "    </tr>\n",
       "    <tr>\n",
       "      <th>2015-02-01</th>\n",
       "      <td>11875.2</td>\n",
       "      <td>226.972000</td>\n",
       "    </tr>\n",
       "  </tbody>\n",
       "</table>\n",
       "</div>"
      ],
      "text/plain": [
       "            m2_supply       Close\n",
       "2014-10-01    11562.1  375.071991\n",
       "2014-11-01    11598.2  325.748993\n",
       "2014-12-01    11677.5  379.244995\n",
       "2015-01-01    11747.4  314.248993\n",
       "2015-02-01    11875.2  226.972000"
      ]
     },
     "execution_count": 15,
     "metadata": {},
     "output_type": "execute_result"
    }
   ],
   "source": [
    "m2sl_btc.rename(columns={0:\"m2_supply\"}, inplace=True)\n",
    "m2sl_btc.head()"
   ]
  },
  {
   "cell_type": "code",
   "execution_count": 16,
   "id": "d7b0433c",
   "metadata": {},
   "outputs": [
    {
     "data": {
      "text/html": [
       "<div>\n",
       "<style scoped>\n",
       "    .dataframe tbody tr th:only-of-type {\n",
       "        vertical-align: middle;\n",
       "    }\n",
       "\n",
       "    .dataframe tbody tr th {\n",
       "        vertical-align: top;\n",
       "    }\n",
       "\n",
       "    .dataframe thead th {\n",
       "        text-align: right;\n",
       "    }\n",
       "</style>\n",
       "<table border=\"1\" class=\"dataframe\">\n",
       "  <thead>\n",
       "    <tr style=\"text-align: right;\">\n",
       "      <th></th>\n",
       "      <th>m2_supply</th>\n",
       "      <th>btc_price</th>\n",
       "    </tr>\n",
       "  </thead>\n",
       "  <tbody>\n",
       "    <tr>\n",
       "      <th>2014-10-01</th>\n",
       "      <td>11562.1</td>\n",
       "      <td>375.071991</td>\n",
       "    </tr>\n",
       "    <tr>\n",
       "      <th>2014-11-01</th>\n",
       "      <td>11598.2</td>\n",
       "      <td>325.748993</td>\n",
       "    </tr>\n",
       "    <tr>\n",
       "      <th>2014-12-01</th>\n",
       "      <td>11677.5</td>\n",
       "      <td>379.244995</td>\n",
       "    </tr>\n",
       "    <tr>\n",
       "      <th>2015-01-01</th>\n",
       "      <td>11747.4</td>\n",
       "      <td>314.248993</td>\n",
       "    </tr>\n",
       "    <tr>\n",
       "      <th>2015-02-01</th>\n",
       "      <td>11875.2</td>\n",
       "      <td>226.972000</td>\n",
       "    </tr>\n",
       "  </tbody>\n",
       "</table>\n",
       "</div>"
      ],
      "text/plain": [
       "            m2_supply   btc_price\n",
       "2014-10-01    11562.1  375.071991\n",
       "2014-11-01    11598.2  325.748993\n",
       "2014-12-01    11677.5  379.244995\n",
       "2015-01-01    11747.4  314.248993\n",
       "2015-02-01    11875.2  226.972000"
      ]
     },
     "execution_count": 16,
     "metadata": {},
     "output_type": "execute_result"
    }
   ],
   "source": [
    "# Changing column name from close to btc_price\n",
    "m2sl_btc = m2sl_btc.rename(columns={\"Close\":\"btc_price\"})\n",
    "m2sl_btc.head()"
   ]
  },
  {
   "cell_type": "code",
   "execution_count": 17,
   "id": "95307114",
   "metadata": {},
   "outputs": [
    {
     "data": {
      "text/html": [
       "<div>\n",
       "<style scoped>\n",
       "    .dataframe tbody tr th:only-of-type {\n",
       "        vertical-align: middle;\n",
       "    }\n",
       "\n",
       "    .dataframe tbody tr th {\n",
       "        vertical-align: top;\n",
       "    }\n",
       "\n",
       "    .dataframe thead th {\n",
       "        text-align: right;\n",
       "    }\n",
       "</style>\n",
       "<table border=\"1\" class=\"dataframe\">\n",
       "  <thead>\n",
       "    <tr style=\"text-align: right;\">\n",
       "      <th></th>\n",
       "      <th>m2_supply</th>\n",
       "      <th>btc_price</th>\n",
       "    </tr>\n",
       "  </thead>\n",
       "  <tbody>\n",
       "    <tr>\n",
       "      <th>2014-10-01</th>\n",
       "      <td>11562.1</td>\n",
       "      <td>375.071991</td>\n",
       "    </tr>\n",
       "    <tr>\n",
       "      <th>2014-11-01</th>\n",
       "      <td>11598.2</td>\n",
       "      <td>325.748993</td>\n",
       "    </tr>\n",
       "    <tr>\n",
       "      <th>2014-12-01</th>\n",
       "      <td>11677.5</td>\n",
       "      <td>379.244995</td>\n",
       "    </tr>\n",
       "    <tr>\n",
       "      <th>2015-01-01</th>\n",
       "      <td>11747.4</td>\n",
       "      <td>314.248993</td>\n",
       "    </tr>\n",
       "    <tr>\n",
       "      <th>2015-02-01</th>\n",
       "      <td>11875.2</td>\n",
       "      <td>226.972000</td>\n",
       "    </tr>\n",
       "    <tr>\n",
       "      <th>...</th>\n",
       "      <td>...</td>\n",
       "      <td>...</td>\n",
       "    </tr>\n",
       "    <tr>\n",
       "      <th>2021-02-01</th>\n",
       "      <td>19667.9</td>\n",
       "      <td>33537.175781</td>\n",
       "    </tr>\n",
       "    <tr>\n",
       "      <th>2021-03-01</th>\n",
       "      <td>19914.0</td>\n",
       "      <td>49631.242188</td>\n",
       "    </tr>\n",
       "    <tr>\n",
       "      <th>2021-04-01</th>\n",
       "      <td>20119.9</td>\n",
       "      <td>59384.312500</td>\n",
       "    </tr>\n",
       "    <tr>\n",
       "      <th>2021-05-01</th>\n",
       "      <td>20371.9</td>\n",
       "      <td>56631.078125</td>\n",
       "    </tr>\n",
       "    <tr>\n",
       "      <th>2021-06-01</th>\n",
       "      <td>20388.9</td>\n",
       "      <td>37575.179688</td>\n",
       "    </tr>\n",
       "  </tbody>\n",
       "</table>\n",
       "<p>81 rows × 2 columns</p>\n",
       "</div>"
      ],
      "text/plain": [
       "            m2_supply     btc_price\n",
       "2014-10-01    11562.1    375.071991\n",
       "2014-11-01    11598.2    325.748993\n",
       "2014-12-01    11677.5    379.244995\n",
       "2015-01-01    11747.4    314.248993\n",
       "2015-02-01    11875.2    226.972000\n",
       "...               ...           ...\n",
       "2021-02-01    19667.9  33537.175781\n",
       "2021-03-01    19914.0  49631.242188\n",
       "2021-04-01    20119.9  59384.312500\n",
       "2021-05-01    20371.9  56631.078125\n",
       "2021-06-01    20388.9  37575.179688\n",
       "\n",
       "[81 rows x 2 columns]"
      ]
     },
     "execution_count": 17,
     "metadata": {},
     "output_type": "execute_result"
    }
   ],
   "source": [
    "# Dropping null value\n",
    "m2sl_btc.dropna()"
   ]
  },
  {
   "cell_type": "markdown",
   "id": "652efc72",
   "metadata": {},
   "source": [
    "# Data Visualization"
   ]
  },
  {
   "cell_type": "code",
   "execution_count": 33,
   "id": "876b27a6",
   "metadata": {},
   "outputs": [
    {
     "data": {},
     "metadata": {},
     "output_type": "display_data"
    },
    {
     "data": {
      "application/vnd.holoviews_exec.v0+json": "",
      "text/html": [
       "<div id='1785'>\n",
       "\n",
       "\n",
       "\n",
       "\n",
       "\n",
       "  <div class=\"bk-root\" id=\"f5e05c3c-7cb3-4e49-b7fc-5d01a05b0741\" data-root-id=\"1785\"></div>\n",
       "</div>\n",
       "<script type=\"application/javascript\">(function(root) {\n",
       "  function embed_document(root) {\n",
       "    var docs_json = {\"e100e00a-d66a-46d2-8793-5ba0208e2c85\":{\"defs\":[],\"roots\":{\"references\":[{\"attributes\":{\"bottom_units\":\"screen\",\"fill_alpha\":0.5,\"fill_color\":\"lightgrey\",\"left_units\":\"screen\",\"level\":\"overlay\",\"line_alpha\":1.0,\"line_color\":\"black\",\"line_dash\":[4,4],\"line_width\":2,\"right_units\":\"screen\",\"syncable\":false,\"top_units\":\"screen\"},\"id\":\"1813\",\"type\":\"BoxAnnotation\"},{\"attributes\":{\"text_color\":\"black\",\"text_font_size\":\"12pt\"},\"id\":\"1792\",\"type\":\"Title\"},{\"attributes\":{\"axis\":{\"id\":\"1804\"},\"dimension\":1,\"grid_line_color\":null,\"ticker\":null},\"id\":\"1807\",\"type\":\"Grid\"},{\"attributes\":{},\"id\":\"1826\",\"type\":\"BasicTickFormatter\"},{\"attributes\":{\"label\":{\"value\":\"m2_supply\"},\"renderers\":[{\"id\":\"1833\"}]},\"id\":\"1858\",\"type\":\"LegendItem\"},{\"attributes\":{\"data_source\":{\"id\":\"1860\"},\"glyph\":{\"id\":\"1863\"},\"hover_glyph\":null,\"muted_glyph\":{\"id\":\"1865\"},\"nonselection_glyph\":{\"id\":\"1864\"},\"selection_glyph\":{\"id\":\"1893\"},\"view\":{\"id\":\"1867\"}},\"id\":\"1866\",\"type\":\"GlyphRenderer\"},{\"attributes\":{\"days\":[1,4,7,10,13,16,19,22,25,28]},\"id\":\"1849\",\"type\":\"DaysTicker\"},{\"attributes\":{\"months\":[0,1,2,3,4,5,6,7,8,9,10,11]},\"id\":\"1852\",\"type\":\"MonthsTicker\"},{\"attributes\":{\"line_color\":\"#fc4f30\",\"line_width\":2,\"x\":{\"field\":\"index\"},\"y\":{\"field\":\"value\"}},\"id\":\"1863\",\"type\":\"Line\"},{\"attributes\":{},\"id\":\"1861\",\"type\":\"Selection\"},{\"attributes\":{\"mantissas\":[1,2,5],\"max_interval\":500.0,\"num_minor_ticks\":0},\"id\":\"1845\",\"type\":\"AdaptiveTicker\"},{\"attributes\":{\"days\":[1,2,3,4,5,6,7,8,9,10,11,12,13,14,15,16,17,18,19,20,21,22,23,24,25,26,27,28,29,30,31]},\"id\":\"1848\",\"type\":\"DaysTicker\"},{\"attributes\":{\"days\":[1,15]},\"id\":\"1851\",\"type\":\"DaysTicker\"},{\"attributes\":{},\"id\":\"1808\",\"type\":\"SaveTool\"},{\"attributes\":{},\"id\":\"1821\",\"type\":\"AllLabels\"},{\"attributes\":{\"months\":[0,6]},\"id\":\"1855\",\"type\":\"MonthsTicker\"},{\"attributes\":{\"children\":[{\"id\":\"1786\"},{\"id\":\"1791\"},{\"id\":\"2110\"}],\"margin\":[0,0,0,0],\"name\":\"Row02719\",\"tags\":[\"embedded\"]},\"id\":\"1785\",\"type\":\"Row\"},{\"attributes\":{},\"id\":\"1796\",\"type\":\"LinearScale\"},{\"attributes\":{},\"id\":\"1809\",\"type\":\"PanTool\"},{\"attributes\":{\"click_policy\":\"mute\",\"items\":[{\"id\":\"1858\"},{\"id\":\"1892\"}],\"location\":[0,0],\"title\":\"Variable\"},\"id\":\"1857\",\"type\":\"Legend\"},{\"attributes\":{},\"id\":\"1812\",\"type\":\"ResetTool\"},{\"attributes\":{\"margin\":[5,5,5,5],\"name\":\"HSpacer02723\",\"sizing_mode\":\"stretch_width\"},\"id\":\"1786\",\"type\":\"Spacer\"},{\"attributes\":{\"end\":1622505600000.0,\"reset_end\":1622505600000.0,\"reset_start\":1412121600000.0,\"start\":1412121600000.0,\"tags\":[[[\"index\",\"index\",null]]]},\"id\":\"1787\",\"type\":\"Range1d\"},{\"attributes\":{},\"id\":\"1810\",\"type\":\"WheelZoomTool\"},{\"attributes\":{\"months\":[0,4,8]},\"id\":\"1854\",\"type\":\"MonthsTicker\"},{\"attributes\":{\"data\":{\"Variable\":[\"btc_price\",\"btc_price\",\"btc_price\",\"btc_price\",\"btc_price\",\"btc_price\",\"btc_price\",\"btc_price\",\"btc_price\",\"btc_price\",\"btc_price\",\"btc_price\",\"btc_price\",\"btc_price\",\"btc_price\",\"btc_price\",\"btc_price\",\"btc_price\",\"btc_price\",\"btc_price\",\"btc_price\",\"btc_price\",\"btc_price\",\"btc_price\",\"btc_price\",\"btc_price\",\"btc_price\",\"btc_price\",\"btc_price\",\"btc_price\",\"btc_price\",\"btc_price\",\"btc_price\",\"btc_price\",\"btc_price\",\"btc_price\",\"btc_price\",\"btc_price\",\"btc_price\",\"btc_price\",\"btc_price\",\"btc_price\",\"btc_price\",\"btc_price\",\"btc_price\",\"btc_price\",\"btc_price\",\"btc_price\",\"btc_price\",\"btc_price\",\"btc_price\",\"btc_price\",\"btc_price\",\"btc_price\",\"btc_price\",\"btc_price\",\"btc_price\",\"btc_price\",\"btc_price\",\"btc_price\",\"btc_price\",\"btc_price\",\"btc_price\",\"btc_price\",\"btc_price\",\"btc_price\",\"btc_price\",\"btc_price\",\"btc_price\",\"btc_price\",\"btc_price\",\"btc_price\",\"btc_price\",\"btc_price\",\"btc_price\",\"btc_price\",\"btc_price\",\"btc_price\",\"btc_price\",\"btc_price\",\"btc_price\"],\"index\":{\"__ndarray__\":\"AAAAGpCMdEIAAEBsipZ0QgAAwFgyoHRCAAAAqyyqdEIAAED9JrR0QgAAQB4qvXRCAACAcCTHdEIAAABdzNB0QgAAQK/G2nRCAADAm27kdEIAAADuaO50QgAAQEBj+HRCAADALAsCdUIAAAB/BQx1QgAAgGutFXVCAADAvacfdUIAAAAQoil1QgAAwJb3MnVCAAAA6fE8dUIAAIDVmUZ1QgAAwCeUUHVCAABAFDxadUIAAIBmNmR1QgAAwLgwbnVCAABApdh3dUIAAID30oF1QgAAAOR6i3VCAABANnWVdUIAAICIb591QgAAgKlyqHVCAADA+2yydUIAAEDoFLx1QgAAgDoPxnVCAAAAJ7fPdUIAAEB5sdl1QgAAgMur43VCAAAAuFPtdUIAAEAKTvd1QgAAwPb1AHZCAAAASfAKdkIAAECb6hR2QgAAQLztHXZCAACADugndkIAAAD7jzF2QgAAQE2KO3ZCAADAOTJFdkIAAACMLE92QgAAQN4mWXZCAADAys5idkIAAAAdyWx2QgAAgAlxdnZCAADAW2uAdkIAAACuZYp2QgAAAM9ok3ZCAABAIWOddkIAAMANC6d2QgAAAGAFsXZCAACATK26dkIAAMCep8R2QgAAAPGhznZCAACA3UnYdkIAAMAvROJ2QgAAQBzs63ZCAACAbub1dkIAAMDA4P92QgAAgEc2CXdCAADAmTATd0IAAECG2Bx3QgAAgNjSJndCAAAAxXowd0IAAEAXdTp3QgAAgGlvRHdCAAAAVhdOd0IAAECoEVh3QgAAwJS5YXdCAAAA57Nrd0IAAEA5rnV3QgAAQFqxfndCAACArKuId0IAAACZU5J3QgAAQOtNnHdC\",\"dtype\":\"float64\",\"order\":\"little\",\"shape\":[81]},\"value\":{\"__ndarray__\":\"AAAA4CZxd0AAAADg+1t0QAAAAIDrs3dAAAAA4Pujc0AAAACgGl9sQAAAAGA7Q3BAAAAAACmgb0AAAACAwl1tQAAAACCyOWxAAAAAIC/tb0AAAAAA06lxQAAAAIAWqWxAAAAAQGCpbUAAAABg5VZ0QAAAAODOp3ZAAAAAIFgle0AAAABg5VB3QAAAAMD3MXtAAAAAwPdNekAAAABAtMp7QAAAAKDGz4BAAAAAwJ39hUAAAABguBuBQAAAAMBL/IFAAAAA4CIXg0AAAAAgWM6GQAAAACAxpodAAAAAoJkyj0AAAAAgL+iOQAAAAAAAGpNAAAAAIK44kUAAAACgR7OWQAAAAKAZcaNAAAAAoPCUo0AAAAAAVy2lQAAAACDF4rFAAAAA4FE5sUAAAABgT2+6QAAAAMDMb8VAAAAAoJmsykAAAAAgRenBQAAAAACAY8VAAAAAwMyru0AAAADA9QnCQAAAAEBz271AAAAAIC7WuUAAAABgJo+9QAAAAGC4aLxAAAAAoBmcuUAAAACgx+m4QAAAAACsdrBAAAAAQAoHrkAAAAAA5D+rQAAAAOAqJ65AAAAAwOAPs0AAAACgSIG1QAAAAKB6E8FAAAAAwNYYxUAAAABgFovEQAAAAGBhNcRAAAAAYIVkwEAAAABgjRbCQAAAAOBKAL1AAAAAoCwgvEAAAAAAcFjCQAAAACA6ucBAAAAA4J+JukAAAABgTI7BQAAAAODmnMJAAAAAgLTRwUAAAACgzpbFQAAAAGAES8ZAAAAAAJWsxEAAAAAAjtTKQAAAAOC/XNJAAAAAwImv3EAAAACgJWDgQAAAAMDnO+hAAAAAAAr/7EAAAACA4qbrQAAAAMDlWOJA\",\"dtype\":\"float64\",\"order\":\"little\",\"shape\":[81]}},\"selected\":{\"id\":\"1861\"},\"selection_policy\":{\"id\":\"1878\"}},\"id\":\"1860\",\"type\":\"ColumnDataSource\"},{\"attributes\":{\"overlay\":{\"id\":\"1813\"}},\"id\":\"1811\",\"type\":\"BoxZoomTool\"},{\"attributes\":{\"line_color\":\"#30a2da\",\"line_width\":2,\"x\":{\"field\":\"index\"},\"y\":{\"field\":\"value\"}},\"id\":\"1830\",\"type\":\"Line\"},{\"attributes\":{\"below\":[{\"id\":\"1800\"}],\"center\":[{\"id\":\"1803\"},{\"id\":\"1807\"}],\"height\":300,\"left\":[{\"id\":\"1804\"}],\"margin\":[5,5,5,5],\"min_border_bottom\":10,\"min_border_left\":10,\"min_border_right\":10,\"min_border_top\":10,\"renderers\":[{\"id\":\"1833\"},{\"id\":\"1866\"}],\"right\":[{\"id\":\"1857\"}],\"sizing_mode\":\"fixed\",\"title\":{\"id\":\"1792\"},\"toolbar\":{\"id\":\"1814\"},\"width\":700,\"x_range\":{\"id\":\"1787\"},\"x_scale\":{\"id\":\"1796\"},\"y_range\":{\"id\":\"1788\"},\"y_scale\":{\"id\":\"1798\"}},\"id\":\"1791\",\"subtype\":\"Figure\",\"type\":\"Plot\"},{\"attributes\":{\"end\":65300.16345062256,\"reset_end\":65300.16345062256,\"reset_start\":-5690.047956848145,\"start\":-5690.047956848145,\"tags\":[[[\"value\",\"value\",null]]]},\"id\":\"1788\",\"type\":\"Range1d\"},{\"attributes\":{\"label\":{\"value\":\"btc_price\"},\"renderers\":[{\"id\":\"1866\"}]},\"id\":\"1892\",\"type\":\"LegendItem\"},{\"attributes\":{\"line_alpha\":0.2,\"line_color\":\"#fc4f30\",\"line_width\":2,\"x\":{\"field\":\"index\"},\"y\":{\"field\":\"value\"}},\"id\":\"1865\",\"type\":\"Line\"},{\"attributes\":{},\"id\":\"1843\",\"type\":\"UnionRenderers\"},{\"attributes\":{\"num_minor_ticks\":5,\"tickers\":[{\"id\":\"1845\"},{\"id\":\"1846\"},{\"id\":\"1847\"},{\"id\":\"1848\"},{\"id\":\"1849\"},{\"id\":\"1850\"},{\"id\":\"1851\"},{\"id\":\"1852\"},{\"id\":\"1853\"},{\"id\":\"1854\"},{\"id\":\"1855\"},{\"id\":\"1856\"}]},\"id\":\"1801\",\"type\":\"DatetimeTicker\"},{\"attributes\":{\"months\":[0,2,4,6,8,10]},\"id\":\"1853\",\"type\":\"MonthsTicker\"},{\"attributes\":{\"line_alpha\":0.1,\"line_color\":\"#30a2da\",\"line_width\":2,\"x\":{\"field\":\"index\"},\"y\":{\"field\":\"value\"}},\"id\":\"1831\",\"type\":\"Line\"},{\"attributes\":{\"line_color\":\"#30a2da\",\"line_width\":2,\"x\":{\"field\":\"index\"},\"y\":{\"field\":\"value\"}},\"id\":\"1859\",\"type\":\"Line\"},{\"attributes\":{\"margin\":[5,5,5,5],\"name\":\"HSpacer02724\",\"sizing_mode\":\"stretch_width\"},\"id\":\"2110\",\"type\":\"Spacer\"},{\"attributes\":{\"axis_label\":\"\",\"formatter\":{\"id\":\"1823\"},\"major_label_policy\":{\"id\":\"1821\"},\"ticker\":{\"id\":\"1801\"}},\"id\":\"1800\",\"type\":\"DatetimeAxis\"},{\"attributes\":{\"line_alpha\":0.1,\"line_color\":\"#fc4f30\",\"line_width\":2,\"x\":{\"field\":\"index\"},\"y\":{\"field\":\"value\"}},\"id\":\"1864\",\"type\":\"Line\"},{\"attributes\":{},\"id\":\"1878\",\"type\":\"UnionRenderers\"},{\"attributes\":{\"base\":60,\"mantissas\":[1,2,5,10,15,20,30],\"max_interval\":1800000.0,\"min_interval\":1000.0,\"num_minor_ticks\":0},\"id\":\"1846\",\"type\":\"AdaptiveTicker\"},{\"attributes\":{\"source\":{\"id\":\"1860\"}},\"id\":\"1867\",\"type\":\"CDSView\"},{\"attributes\":{},\"id\":\"1828\",\"type\":\"Selection\"},{\"attributes\":{\"days\":[1,8,15,22]},\"id\":\"1850\",\"type\":\"DaysTicker\"},{\"attributes\":{},\"id\":\"1798\",\"type\":\"LinearScale\"},{\"attributes\":{\"callback\":null,\"formatters\":{\"@{index}\":\"datetime\"},\"renderers\":[{\"id\":\"1833\"},{\"id\":\"1866\"}],\"tags\":[\"hv_created\"],\"tooltips\":[[\"Variable\",\"@{Variable}\"],[\"index\",\"@{index}{%F %T}\"],[\"value\",\"@{value}\"]]},\"id\":\"1789\",\"type\":\"HoverTool\"},{\"attributes\":{\"axis_label\":\"\",\"formatter\":{\"id\":\"1826\"},\"major_label_policy\":{\"id\":\"1824\"},\"ticker\":{\"id\":\"1805\"}},\"id\":\"1804\",\"type\":\"LinearAxis\"},{\"attributes\":{\"base\":24,\"mantissas\":[1,2,4,6,8,12],\"max_interval\":43200000.0,\"min_interval\":3600000.0,\"num_minor_ticks\":0},\"id\":\"1847\",\"type\":\"AdaptiveTicker\"},{\"attributes\":{},\"id\":\"1856\",\"type\":\"YearsTicker\"},{\"attributes\":{\"axis\":{\"id\":\"1800\"},\"grid_line_color\":null,\"ticker\":null},\"id\":\"1803\",\"type\":\"Grid\"},{\"attributes\":{\"data_source\":{\"id\":\"1827\"},\"glyph\":{\"id\":\"1830\"},\"hover_glyph\":null,\"muted_glyph\":{\"id\":\"1832\"},\"nonselection_glyph\":{\"id\":\"1831\"},\"selection_glyph\":{\"id\":\"1859\"},\"view\":{\"id\":\"1834\"}},\"id\":\"1833\",\"type\":\"GlyphRenderer\"},{\"attributes\":{},\"id\":\"1824\",\"type\":\"AllLabels\"},{\"attributes\":{\"source\":{\"id\":\"1827\"}},\"id\":\"1834\",\"type\":\"CDSView\"},{\"attributes\":{\"line_color\":\"#fc4f30\",\"line_width\":2,\"x\":{\"field\":\"index\"},\"y\":{\"field\":\"value\"}},\"id\":\"1893\",\"type\":\"Line\"},{\"attributes\":{},\"id\":\"1805\",\"type\":\"BasicTicker\"},{\"attributes\":{\"active_multi\":null,\"tools\":[{\"id\":\"1789\"},{\"id\":\"1808\"},{\"id\":\"1809\"},{\"id\":\"1810\"},{\"id\":\"1811\"},{\"id\":\"1812\"}]},\"id\":\"1814\",\"type\":\"Toolbar\"},{\"attributes\":{\"line_alpha\":0.2,\"line_color\":\"#30a2da\",\"line_width\":2,\"x\":{\"field\":\"index\"},\"y\":{\"field\":\"value\"}},\"id\":\"1832\",\"type\":\"Line\"},{\"attributes\":{},\"id\":\"1823\",\"type\":\"DatetimeTickFormatter\"},{\"attributes\":{\"data\":{\"Variable\":[\"m2_supply\",\"m2_supply\",\"m2_supply\",\"m2_supply\",\"m2_supply\",\"m2_supply\",\"m2_supply\",\"m2_supply\",\"m2_supply\",\"m2_supply\",\"m2_supply\",\"m2_supply\",\"m2_supply\",\"m2_supply\",\"m2_supply\",\"m2_supply\",\"m2_supply\",\"m2_supply\",\"m2_supply\",\"m2_supply\",\"m2_supply\",\"m2_supply\",\"m2_supply\",\"m2_supply\",\"m2_supply\",\"m2_supply\",\"m2_supply\",\"m2_supply\",\"m2_supply\",\"m2_supply\",\"m2_supply\",\"m2_supply\",\"m2_supply\",\"m2_supply\",\"m2_supply\",\"m2_supply\",\"m2_supply\",\"m2_supply\",\"m2_supply\",\"m2_supply\",\"m2_supply\",\"m2_supply\",\"m2_supply\",\"m2_supply\",\"m2_supply\",\"m2_supply\",\"m2_supply\",\"m2_supply\",\"m2_supply\",\"m2_supply\",\"m2_supply\",\"m2_supply\",\"m2_supply\",\"m2_supply\",\"m2_supply\",\"m2_supply\",\"m2_supply\",\"m2_supply\",\"m2_supply\",\"m2_supply\",\"m2_supply\",\"m2_supply\",\"m2_supply\",\"m2_supply\",\"m2_supply\",\"m2_supply\",\"m2_supply\",\"m2_supply\",\"m2_supply\",\"m2_supply\",\"m2_supply\",\"m2_supply\",\"m2_supply\",\"m2_supply\",\"m2_supply\",\"m2_supply\",\"m2_supply\",\"m2_supply\",\"m2_supply\",\"m2_supply\",\"m2_supply\"],\"index\":{\"__ndarray__\":\"AAAAGpCMdEIAAEBsipZ0QgAAwFgyoHRCAAAAqyyqdEIAAED9JrR0QgAAQB4qvXRCAACAcCTHdEIAAABdzNB0QgAAQK/G2nRCAADAm27kdEIAAADuaO50QgAAQEBj+HRCAADALAsCdUIAAAB/BQx1QgAAgGutFXVCAADAvacfdUIAAAAQoil1QgAAwJb3MnVCAAAA6fE8dUIAAIDVmUZ1QgAAwCeUUHVCAABAFDxadUIAAIBmNmR1QgAAwLgwbnVCAABApdh3dUIAAID30oF1QgAAAOR6i3VCAABANnWVdUIAAICIb591QgAAgKlyqHVCAADA+2yydUIAAEDoFLx1QgAAgDoPxnVCAAAAJ7fPdUIAAEB5sdl1QgAAgMur43VCAAAAuFPtdUIAAEAKTvd1QgAAwPb1AHZCAAAASfAKdkIAAECb6hR2QgAAQLztHXZCAACADugndkIAAAD7jzF2QgAAQE2KO3ZCAADAOTJFdkIAAACMLE92QgAAQN4mWXZCAADAys5idkIAAAAdyWx2QgAAgAlxdnZCAADAW2uAdkIAAACuZYp2QgAAAM9ok3ZCAABAIWOddkIAAMANC6d2QgAAAGAFsXZCAACATK26dkIAAMCep8R2QgAAAPGhznZCAACA3UnYdkIAAMAvROJ2QgAAQBzs63ZCAACAbub1dkIAAMDA4P92QgAAgEc2CXdCAADAmTATd0IAAECG2Bx3QgAAgNjSJndCAAAAxXowd0IAAEAXdTp3QgAAgGlvRHdCAAAAVhdOd0IAAECoEVh3QgAAwJS5YXdCAAAA57Nrd0IAAEA5rnV3QgAAQFqxfndCAACArKuId0IAAACZU5J3QgAAQOtNnHdC\",\"dtype\":\"float64\",\"order\":\"little\",\"shape\":[81]},\"value\":{\"__ndarray__\":\"zczMzAyVxkCamZmZGafGQAAAAADAzsZAMzMzM7PxxkCamZmZmTHHQGZmZmbmOcdAzczMzIxNx0AzMzMzs1zHQAAAAABAc8dAMzMzM/OLx0DNzMzMTKTHQM3MzMxMv8dAAAAAAEDSx0AzMzMzc/zHQGZmZmYmHMhAMzMzM/NdyEAzMzMzc4bIQM3MzMyMpshAAAAAAMDOyEBmZmZmJvDIQDMzMzOzEclAAAAAAAAvyUAAAAAAwFbJQGZmZmZmdMlAzczMzMyYyUCamZmZGb7JQGZmZmYm0slAZmZmZqb3yUAzMzMz8xrKQJqZmZmZPcpAmpmZmZlaykAAAAAAAHTKQGZmZmamgcpAzczMzAyeykDNzMzMjLbKQJqZmZlZy8pAmpmZmdnlykDNzMzMDPfKQJqZmZlZEctAzczMzAway0CamZmZWS/LQM3MzMyMS8tAAAAAAMBay0DNzMzMTHvLQGZmZmYmmctAMzMzM7Ony0BmZmZm5rzLQDMzMzMzzMtAmpmZmdnPy0BmZmZmJtnLQJqZmZmZFMxAZmZmZmY3zEBmZmZm5kzMQJqZmZlZZMxAmpmZmVl2zEAAAAAAQKjMQJqZmZmZ48xAzczMzAwHzUBmZmZmZi3NQM3MzMwMW81AmpmZmVmazUAzMzMzM8vNQM3MzMyM8M1AAAAAAAAZzkAzMzMzszjOQGZmZmYmR89AmpmZmbmk0EAAAAAAQHnRQGZmZmbmwNFAAAAAAADk0UAzMzMzc/PRQAAAAABAK9JAZmZmZsZP0kDNzMzMDITSQJqZmZnZrtJAAAAAACDx0kCamZmZ+TTTQAAAAACActNAmpmZmfml00CamZmZ+eTTQJqZmZk56dNA\",\"dtype\":\"float64\",\"order\":\"little\",\"shape\":[81]}},\"selected\":{\"id\":\"1828\"},\"selection_policy\":{\"id\":\"1843\"}},\"id\":\"1827\",\"type\":\"ColumnDataSource\"}],\"root_ids\":[\"1785\"]},\"title\":\"Bokeh Application\",\"version\":\"2.3.2\"}};\n",
       "    var render_items = [{\"docid\":\"e100e00a-d66a-46d2-8793-5ba0208e2c85\",\"root_ids\":[\"1785\"],\"roots\":{\"1785\":\"f5e05c3c-7cb3-4e49-b7fc-5d01a05b0741\"}}];\n",
       "    root.Bokeh.embed.embed_items_notebook(docs_json, render_items);\n",
       "  }\n",
       "  if (root.Bokeh !== undefined && root.Bokeh.Panel !== undefined) {\n",
       "    embed_document(root);\n",
       "  } else {\n",
       "    var attempts = 0;\n",
       "    var timer = setInterval(function(root) {\n",
       "      if (root.Bokeh !== undefined && root.Bokeh.Panel !== undefined) {\n",
       "        clearInterval(timer);\n",
       "        embed_document(root);\n",
       "      } else if (document.readyState == \"complete\") {\n",
       "        attempts++;\n",
       "        if (attempts > 100) {\n",
       "          clearInterval(timer);\n",
       "          console.log(\"Bokeh: ERROR: Unable to run BokehJS code because BokehJS library is missing\");\n",
       "        }\n",
       "      }\n",
       "    }, 10, root)\n",
       "  }\n",
       "})(window);</script>"
      ],
      "text/plain": [
       ":NdOverlay   [Variable]\n",
       "   :Curve   [index]   (value)"
      ]
     },
     "execution_count": 33,
     "metadata": {
      "application/vnd.holoviews_exec.v0+json": {
       "id": "1785"
      }
     },
     "output_type": "execute_result"
    }
   ],
   "source": [
    "# Plot the data trends of the two variables over time\n",
    "m2sl_btc_plot = m2sl_btc.hvplot()\n",
    "m2sl_btc_plot"
   ]
  },
  {
   "cell_type": "code",
   "execution_count": 35,
   "id": "5fbfd1ae",
   "metadata": {},
   "outputs": [
    {
     "data": {},
     "metadata": {},
     "output_type": "display_data"
    },
    {
     "data": {
      "application/vnd.holoviews_exec.v0+json": "",
      "text/html": [
       "<div id='2354'>\n",
       "\n",
       "\n",
       "\n",
       "\n",
       "\n",
       "  <div class=\"bk-root\" id=\"49d6e501-cf32-4d8a-9ae9-8fde173ee519\" data-root-id=\"2354\"></div>\n",
       "</div>\n",
       "<script type=\"application/javascript\">(function(root) {\n",
       "  function embed_document(root) {\n",
       "    var docs_json = {\"0e1f90f7-b8a9-46b6-a680-14a60bd85317\":{\"defs\":[],\"roots\":{\"references\":[{\"attributes\":{\"bottom_units\":\"screen\",\"fill_alpha\":0.5,\"fill_color\":\"lightgrey\",\"left_units\":\"screen\",\"level\":\"overlay\",\"line_alpha\":1.0,\"line_color\":\"black\",\"line_dash\":[4,4],\"line_width\":2,\"right_units\":\"screen\",\"syncable\":false,\"top_units\":\"screen\"},\"id\":\"2381\",\"type\":\"BoxAnnotation\"},{\"attributes\":{\"end\":20767.19142857143,\"reset_end\":20767.19142857143,\"reset_start\":11183.808571428572,\"start\":11183.808571428572,\"tags\":[[[\"m2_supply\",\"m2_supply\",null]]]},\"id\":\"2356\",\"type\":\"Range1d\"},{\"attributes\":{\"source\":{\"id\":\"2389\"}},\"id\":\"2396\",\"type\":\"CDSView\"},{\"attributes\":{\"data_source\":{\"id\":\"2389\"},\"glyph\":{\"id\":\"2392\"},\"hover_glyph\":null,\"muted_glyph\":{\"id\":\"2394\"},\"nonselection_glyph\":{\"id\":\"2393\"},\"selection_glyph\":{\"id\":\"2397\"},\"view\":{\"id\":\"2396\"}},\"id\":\"2395\",\"type\":\"GlyphRenderer\"},{\"attributes\":{\"fill_color\":{\"value\":\"#30a2da\"},\"line_color\":{\"value\":\"#30a2da\"},\"size\":{\"value\":5.477225575051661},\"x\":{\"field\":\"m2_supply\"},\"y\":{\"field\":\"btc_price\"}},\"id\":\"2392\",\"type\":\"Scatter\"},{\"attributes\":{},\"id\":\"2390\",\"type\":\"Selection\"},{\"attributes\":{\"below\":[{\"id\":\"2368\"}],\"center\":[{\"id\":\"2371\"},{\"id\":\"2375\"}],\"height\":300,\"left\":[{\"id\":\"2372\"}],\"margin\":[5,5,5,5],\"min_border_bottom\":10,\"min_border_left\":10,\"min_border_right\":10,\"min_border_top\":10,\"renderers\":[{\"id\":\"2395\"}],\"sizing_mode\":\"fixed\",\"title\":{\"id\":\"2360\"},\"toolbar\":{\"id\":\"2382\"},\"width\":700,\"x_range\":{\"id\":\"2356\"},\"x_scale\":{\"id\":\"2364\"},\"y_range\":{\"id\":\"2357\"},\"y_scale\":{\"id\":\"2366\"}},\"id\":\"2359\",\"subtype\":\"Figure\",\"type\":\"Plot\"},{\"attributes\":{\"active_multi\":null,\"tools\":[{\"id\":\"2358\"},{\"id\":\"2376\"},{\"id\":\"2377\"},{\"id\":\"2378\"},{\"id\":\"2379\"},{\"id\":\"2380\"}]},\"id\":\"2382\",\"type\":\"Toolbar\"},{\"attributes\":{\"children\":[{\"id\":\"2355\"},{\"id\":\"2359\"},{\"id\":\"2424\"}],\"margin\":[0,0,0,0],\"name\":\"Row03320\",\"tags\":[\"embedded\"]},\"id\":\"2354\",\"type\":\"Row\"},{\"attributes\":{\"margin\":[5,5,5,5],\"name\":\"HSpacer03325\",\"sizing_mode\":\"stretch_width\"},\"id\":\"2424\",\"type\":\"Spacer\"},{\"attributes\":{},\"id\":\"2376\",\"type\":\"SaveTool\"},{\"attributes\":{},\"id\":\"2377\",\"type\":\"PanTool\"},{\"attributes\":{\"fill_alpha\":{\"value\":0.2},\"fill_color\":{\"value\":\"#30a2da\"},\"line_alpha\":{\"value\":0.2},\"line_color\":{\"value\":\"#30a2da\"},\"size\":{\"value\":5.477225575051661},\"x\":{\"field\":\"m2_supply\"},\"y\":{\"field\":\"btc_price\"}},\"id\":\"2394\",\"type\":\"Scatter\"},{\"attributes\":{},\"id\":\"2412\",\"type\":\"UnionRenderers\"},{\"attributes\":{},\"id\":\"2380\",\"type\":\"ResetTool\"},{\"attributes\":{\"data\":{\"btc_price\":{\"__ndarray__\":\"AAAA4CZxd0AAAADg+1t0QAAAAIDrs3dAAAAA4Pujc0AAAACgGl9sQAAAAGA7Q3BAAAAAACmgb0AAAACAwl1tQAAAACCyOWxAAAAAIC/tb0AAAAAA06lxQAAAAIAWqWxAAAAAQGCpbUAAAABg5VZ0QAAAAODOp3ZAAAAAIFgle0AAAABg5VB3QAAAAMD3MXtAAAAAwPdNekAAAABAtMp7QAAAAKDGz4BAAAAAwJ39hUAAAABguBuBQAAAAMBL/IFAAAAA4CIXg0AAAAAgWM6GQAAAACAxpodAAAAAoJkyj0AAAAAgL+iOQAAAAAAAGpNAAAAAIK44kUAAAACgR7OWQAAAAKAZcaNAAAAAoPCUo0AAAAAAVy2lQAAAACDF4rFAAAAA4FE5sUAAAABgT2+6QAAAAMDMb8VAAAAAoJmsykAAAAAgRenBQAAAAACAY8VAAAAAwMyru0AAAADA9QnCQAAAAEBz271AAAAAIC7WuUAAAABgJo+9QAAAAGC4aLxAAAAAoBmcuUAAAACgx+m4QAAAAACsdrBAAAAAQAoHrkAAAAAA5D+rQAAAAOAqJ65AAAAAwOAPs0AAAACgSIG1QAAAAKB6E8FAAAAAwNYYxUAAAABgFovEQAAAAGBhNcRAAAAAYIVkwEAAAABgjRbCQAAAAOBKAL1AAAAAoCwgvEAAAAAAcFjCQAAAACA6ucBAAAAA4J+JukAAAABgTI7BQAAAAODmnMJAAAAAgLTRwUAAAACgzpbFQAAAAGAES8ZAAAAAAJWsxEAAAAAAjtTKQAAAAOC/XNJAAAAAwImv3EAAAACgJWDgQAAAAMDnO+hAAAAAAAr/7EAAAACA4qbrQAAAAMDlWOJA\",\"dtype\":\"float64\",\"order\":\"little\",\"shape\":[81]},\"m2_supply\":{\"__ndarray__\":\"zczMzAyVxkCamZmZGafGQAAAAADAzsZAMzMzM7PxxkCamZmZmTHHQGZmZmbmOcdAzczMzIxNx0AzMzMzs1zHQAAAAABAc8dAMzMzM/OLx0DNzMzMTKTHQM3MzMxMv8dAAAAAAEDSx0AzMzMzc/zHQGZmZmYmHMhAMzMzM/NdyEAzMzMzc4bIQM3MzMyMpshAAAAAAMDOyEBmZmZmJvDIQDMzMzOzEclAAAAAAAAvyUAAAAAAwFbJQGZmZmZmdMlAzczMzMyYyUCamZmZGb7JQGZmZmYm0slAZmZmZqb3yUAzMzMz8xrKQJqZmZmZPcpAmpmZmZlaykAAAAAAAHTKQGZmZmamgcpAzczMzAyeykDNzMzMjLbKQJqZmZlZy8pAmpmZmdnlykDNzMzMDPfKQJqZmZlZEctAzczMzAway0CamZmZWS/LQM3MzMyMS8tAAAAAAMBay0DNzMzMTHvLQGZmZmYmmctAMzMzM7Ony0BmZmZm5rzLQDMzMzMzzMtAmpmZmdnPy0BmZmZmJtnLQJqZmZmZFMxAZmZmZmY3zEBmZmZm5kzMQJqZmZlZZMxAmpmZmVl2zEAAAAAAQKjMQJqZmZmZ48xAzczMzAwHzUBmZmZmZi3NQM3MzMwMW81AmpmZmVmazUAzMzMzM8vNQM3MzMyM8M1AAAAAAAAZzkAzMzMzszjOQGZmZmYmR89AmpmZmbmk0EAAAAAAQHnRQGZmZmbmwNFAAAAAAADk0UAzMzMzc/PRQAAAAABAK9JAZmZmZsZP0kDNzMzMDITSQJqZmZnZrtJAAAAAACDx0kCamZmZ+TTTQAAAAACActNAmpmZmfml00CamZmZ+eTTQJqZmZk56dNA\",\"dtype\":\"float64\",\"order\":\"little\",\"shape\":[81]}},\"selected\":{\"id\":\"2390\"},\"selection_policy\":{\"id\":\"2412\"}},\"id\":\"2389\",\"type\":\"ColumnDataSource\"},{\"attributes\":{},\"id\":\"2403\",\"type\":\"BasicTickFormatter\"},{\"attributes\":{},\"id\":\"2378\",\"type\":\"WheelZoomTool\"},{\"attributes\":{},\"id\":\"2369\",\"type\":\"BasicTicker\"},{\"attributes\":{},\"id\":\"2400\",\"type\":\"BasicTickFormatter\"},{\"attributes\":{\"margin\":[5,5,5,5],\"name\":\"HSpacer03324\",\"sizing_mode\":\"stretch_width\"},\"id\":\"2355\",\"type\":\"Spacer\"},{\"attributes\":{\"text_color\":\"black\",\"text_font_size\":\"12pt\"},\"id\":\"2360\",\"type\":\"Title\"},{\"attributes\":{\"overlay\":{\"id\":\"2381\"}},\"id\":\"2379\",\"type\":\"BoxZoomTool\"},{\"attributes\":{\"axis\":{\"id\":\"2368\"},\"grid_line_color\":null,\"ticker\":null},\"id\":\"2371\",\"type\":\"Grid\"},{\"attributes\":{},\"id\":\"2364\",\"type\":\"LinearScale\"},{\"attributes\":{\"fill_alpha\":{\"value\":0.1},\"fill_color\":{\"value\":\"#30a2da\"},\"line_alpha\":{\"value\":0.1},\"line_color\":{\"value\":\"#30a2da\"},\"size\":{\"value\":5.477225575051661},\"x\":{\"field\":\"m2_supply\"},\"y\":{\"field\":\"btc_price\"}},\"id\":\"2393\",\"type\":\"Scatter\"},{\"attributes\":{\"angle\":{\"value\":0.0},\"fill_alpha\":{\"value\":1.0},\"fill_color\":{\"value\":\"#30a2da\"},\"hatch_alpha\":{\"value\":1.0},\"hatch_color\":{\"value\":\"black\"},\"hatch_scale\":{\"value\":12.0},\"hatch_weight\":{\"value\":1.0},\"line_alpha\":{\"value\":1.0},\"line_cap\":{\"value\":\"butt\"},\"line_color\":{\"value\":\"#30a2da\"},\"line_dash\":{\"value\":[]},\"line_dash_offset\":{\"value\":0},\"line_join\":{\"value\":\"bevel\"},\"line_width\":{\"value\":1},\"marker\":{\"value\":\"circle\"},\"size\":{\"value\":5.477225575051661},\"x\":{\"field\":\"m2_supply\"},\"y\":{\"field\":\"btc_price\"}},\"id\":\"2397\",\"type\":\"Scatter\"},{\"attributes\":{},\"id\":\"2366\",\"type\":\"LinearScale\"},{\"attributes\":{\"end\":65300.16345062256,\"reset_end\":65300.16345062256,\"reset_start\":-5690.047956848145,\"start\":-5690.047956848145,\"tags\":[[[\"btc_price\",\"btc_price\",null]]]},\"id\":\"2357\",\"type\":\"Range1d\"},{\"attributes\":{\"axis\":{\"id\":\"2372\"},\"dimension\":1,\"grid_line_color\":null,\"ticker\":null},\"id\":\"2375\",\"type\":\"Grid\"},{\"attributes\":{\"axis_label\":\"m2_supply\",\"formatter\":{\"id\":\"2400\"},\"major_label_policy\":{\"id\":\"2398\"},\"ticker\":{\"id\":\"2369\"}},\"id\":\"2368\",\"type\":\"LinearAxis\"},{\"attributes\":{\"callback\":null,\"renderers\":[{\"id\":\"2395\"}],\"tags\":[\"hv_created\"],\"tooltips\":[[\"m2_supply\",\"@{m2_supply}\"],[\"btc_price\",\"@{btc_price}\"]]},\"id\":\"2358\",\"type\":\"HoverTool\"},{\"attributes\":{},\"id\":\"2401\",\"type\":\"AllLabels\"},{\"attributes\":{},\"id\":\"2373\",\"type\":\"BasicTicker\"},{\"attributes\":{\"axis_label\":\"btc_price\",\"formatter\":{\"id\":\"2403\"},\"major_label_policy\":{\"id\":\"2401\"},\"ticker\":{\"id\":\"2373\"}},\"id\":\"2372\",\"type\":\"LinearAxis\"},{\"attributes\":{},\"id\":\"2398\",\"type\":\"AllLabels\"}],\"root_ids\":[\"2354\"]},\"title\":\"Bokeh Application\",\"version\":\"2.3.2\"}};\n",
       "    var render_items = [{\"docid\":\"0e1f90f7-b8a9-46b6-a680-14a60bd85317\",\"root_ids\":[\"2354\"],\"roots\":{\"2354\":\"49d6e501-cf32-4d8a-9ae9-8fde173ee519\"}}];\n",
       "    root.Bokeh.embed.embed_items_notebook(docs_json, render_items);\n",
       "  }\n",
       "  if (root.Bokeh !== undefined && root.Bokeh.Panel !== undefined) {\n",
       "    embed_document(root);\n",
       "  } else {\n",
       "    var attempts = 0;\n",
       "    var timer = setInterval(function(root) {\n",
       "      if (root.Bokeh !== undefined && root.Bokeh.Panel !== undefined) {\n",
       "        clearInterval(timer);\n",
       "        embed_document(root);\n",
       "      } else if (document.readyState == \"complete\") {\n",
       "        attempts++;\n",
       "        if (attempts > 100) {\n",
       "          clearInterval(timer);\n",
       "          console.log(\"Bokeh: ERROR: Unable to run BokehJS code because BokehJS library is missing\");\n",
       "        }\n",
       "      }\n",
       "    }, 10, root)\n",
       "  }\n",
       "})(window);</script>"
      ],
      "text/plain": [
       ":Scatter   [m2_supply]   (btc_price)"
      ]
     },
     "execution_count": 35,
     "metadata": {
      "application/vnd.holoviews_exec.v0+json": {
       "id": "2354"
      }
     },
     "output_type": "execute_result"
    }
   ],
   "source": [
    "m2sl_btc_scatter = m2sl_btc.hvplot(kind='scatter', x='m2_supply', y='btc_price')\n",
    "m2sl_btc_scatter"
   ]
  },
  {
   "cell_type": "code",
   "execution_count": 29,
   "id": "78f9338a",
   "metadata": {},
   "outputs": [
    {
     "data": {
      "text/html": [
       "<div>\n",
       "<style scoped>\n",
       "    .dataframe tbody tr th:only-of-type {\n",
       "        vertical-align: middle;\n",
       "    }\n",
       "\n",
       "    .dataframe tbody tr th {\n",
       "        vertical-align: top;\n",
       "    }\n",
       "\n",
       "    .dataframe thead th {\n",
       "        text-align: right;\n",
       "    }\n",
       "</style>\n",
       "<table border=\"1\" class=\"dataframe\">\n",
       "  <thead>\n",
       "    <tr style=\"text-align: right;\">\n",
       "      <th></th>\n",
       "      <th>m2_supply</th>\n",
       "      <th>btc_price</th>\n",
       "    </tr>\n",
       "  </thead>\n",
       "  <tbody>\n",
       "    <tr>\n",
       "      <th>m2_supply</th>\n",
       "      <td>1.000000</td>\n",
       "      <td>0.808573</td>\n",
       "    </tr>\n",
       "    <tr>\n",
       "      <th>btc_price</th>\n",
       "      <td>0.808573</td>\n",
       "      <td>1.000000</td>\n",
       "    </tr>\n",
       "  </tbody>\n",
       "</table>\n",
       "</div>"
      ],
      "text/plain": [
       "           m2_supply  btc_price\n",
       "m2_supply   1.000000   0.808573\n",
       "btc_price   0.808573   1.000000"
      ]
     },
     "execution_count": 29,
     "metadata": {},
     "output_type": "execute_result"
    }
   ],
   "source": [
    "# Calculate the correlation between money supply and BTC price\n",
    "m2sl_btc_corr = m2sl_btc.corr()\n",
    "m2sl_btc_corr"
   ]
  },
  {
   "cell_type": "code",
   "execution_count": 30,
   "id": "f138acb8",
   "metadata": {},
   "outputs": [
    {
     "data": {},
     "metadata": {},
     "output_type": "display_data"
    },
    {
     "data": {
      "application/vnd.holoviews_exec.v0+json": "",
      "text/html": [
       "<div id='1656'>\n",
       "\n",
       "\n",
       "\n",
       "\n",
       "\n",
       "  <div class=\"bk-root\" id=\"cb6e049e-2214-4b02-aef7-9c6478771584\" data-root-id=\"1656\"></div>\n",
       "</div>\n",
       "<script type=\"application/javascript\">(function(root) {\n",
       "  function embed_document(root) {\n",
       "    var docs_json = {\"23c66e84-1a95-4c8f-921f-99e4743966d2\":{\"defs\":[],\"roots\":{\"references\":[{\"attributes\":{},\"id\":\"1680\",\"type\":\"ResetTool\"},{\"attributes\":{\"fill_color\":{\"field\":\"zvalues\",\"transform\":{\"id\":\"1689\"}},\"height\":{\"value\":1},\"line_alpha\":{\"value\":0},\"line_color\":{\"value\":\"#1f77b4\"},\"width\":{\"value\":1},\"x\":{\"field\":\"columns\"},\"y\":{\"field\":\"index\"}},\"id\":\"1695\",\"type\":\"Rect\"},{\"attributes\":{\"margin\":[5,5,5,5],\"name\":\"HSpacer02331\",\"sizing_mode\":\"stretch_width\"},\"id\":\"1657\",\"type\":\"Spacer\"},{\"attributes\":{},\"id\":\"1678\",\"type\":\"WheelZoomTool\"},{\"attributes\":{\"source\":{\"id\":\"1690\"}},\"id\":\"1697\",\"type\":\"CDSView\"},{\"attributes\":{\"axis\":{\"id\":\"1670\"},\"grid_line_color\":null,\"ticker\":null},\"id\":\"1672\",\"type\":\"Grid\"},{\"attributes\":{\"overlay\":{\"id\":\"1681\"}},\"id\":\"1679\",\"type\":\"BoxZoomTool\"},{\"attributes\":{\"fill_alpha\":{\"value\":0.1},\"fill_color\":{\"field\":\"zvalues\",\"transform\":{\"id\":\"1689\"}},\"height\":{\"value\":1},\"line_alpha\":{\"value\":0},\"line_color\":{\"value\":\"#1f77b4\"},\"width\":{\"value\":1},\"x\":{\"field\":\"columns\"},\"y\":{\"field\":\"index\"}},\"id\":\"1694\",\"type\":\"Rect\"},{\"attributes\":{\"high\":1.0,\"low\":0.8085729170618393,\"nan_color\":\"white\",\"palette\":[\"#b3fef5\",\"#b0fef5\",\"#adfdf5\",\"#a9fcf5\",\"#a6fbf6\",\"#a3faf6\",\"#a0faf6\",\"#9df9f6\",\"#9af8f6\",\"#97f7f6\",\"#93f7f6\",\"#90f6f6\",\"#8df5f6\",\"#8af4f7\",\"#87f3f7\",\"#83f2f7\",\"#80f2f7\",\"#7df1f7\",\"#79f0f7\",\"#76eff7\",\"#73eef7\",\"#6fedf8\",\"#6cecf8\",\"#68ecf8\",\"#65ebf8\",\"#61eaf8\",\"#5ee9f8\",\"#5ae8f8\",\"#57e7f8\",\"#53e6f8\",\"#50e5f9\",\"#4ce4f9\",\"#49e3f9\",\"#45e2f9\",\"#42e1f9\",\"#3ee0f9\",\"#3bdff9\",\"#38def9\",\"#35ddf9\",\"#32dcf9\",\"#30dbfa\",\"#2ed9fa\",\"#2dd8fa\",\"#2cd7fa\",\"#2bd6fa\",\"#2bd5fa\",\"#2ad3fa\",\"#2ad2fa\",\"#29d1fa\",\"#29d0fb\",\"#29cffb\",\"#28cdfb\",\"#28ccfb\",\"#28cbfb\",\"#28cafb\",\"#28c8fb\",\"#28c7fb\",\"#29c6fb\",\"#29c5fb\",\"#29c4fb\",\"#29c2fb\",\"#2ac1fb\",\"#2ac0fb\",\"#2bbffb\",\"#2bbdfc\",\"#2cbcfc\",\"#2dbbfc\",\"#2db9fc\",\"#2eb8fc\",\"#2fb7fc\",\"#2fb6fc\",\"#30b4fc\",\"#31b3fc\",\"#32b2fc\",\"#32b0fc\",\"#33affc\",\"#33aefc\",\"#34adfc\",\"#34abfc\",\"#34aafc\",\"#35a9fc\",\"#35a8fc\",\"#35a6fc\",\"#35a5fc\",\"#35a4fc\",\"#35a3fc\",\"#35a1fc\",\"#35a0fc\",\"#359ffc\",\"#359dfc\",\"#359cfc\",\"#359bfc\",\"#349afd\",\"#3498fd\",\"#3497fd\",\"#3396fd\",\"#3395fd\",\"#3293fd\",\"#3292fd\",\"#3191fd\",\"#3090fd\",\"#308ffd\",\"#2f8dfd\",\"#2f8cfd\",\"#2e8bfd\",\"#2e8afd\",\"#2d88fd\",\"#2d87fd\",\"#2c86fd\",\"#2c84fd\",\"#2c83fd\",\"#2c82fd\",\"#2b81fd\",\"#2b7ffd\",\"#2b7efd\",\"#2b7dfd\",\"#2b7bfd\",\"#2b7afd\",\"#2b79fd\",\"#2b77fd\",\"#2b76fd\",\"#2b75fd\",\"#2b73fd\",\"#2c72fd\",\"#2c71fd\",\"#2c6ffd\",\"#2c6efd\",\"#2d6cfd\",\"#2d6bfd\",\"#2d6afc\",\"#2e68fc\",\"#2e67fc\",\"#2e65fc\",\"#2e64fc\",\"#2f62fc\",\"#2f61fc\",\"#2f5ffc\",\"#2f5efc\",\"#2f5dfc\",\"#2f5bfc\",\"#2f5afc\",\"#2f58fb\",\"#2f57fb\",\"#2f55fb\",\"#2f53fb\",\"#2f52fb\",\"#2f50fb\",\"#2f4ffb\",\"#2f4dfb\",\"#2e4cfb\",\"#2e4afb\",\"#2e48fb\",\"#2e47fa\",\"#2d45fa\",\"#2d43fa\",\"#2d42fa\",\"#2d40fa\",\"#2c3efa\",\"#2c3dfa\",\"#2b3bf9\",\"#2b39f9\",\"#2a37f9\",\"#2a36f8\",\"#2934f8\",\"#2832f7\",\"#2831f7\",\"#272ff6\",\"#262ef5\",\"#252cf5\",\"#252af4\",\"#2429f3\",\"#2327f2\",\"#2226f1\",\"#2124f0\",\"#2023ef\",\"#1f22ee\",\"#1e20ed\",\"#1d1feb\",\"#1c1eea\",\"#1b1ce9\",\"#1a1be7\",\"#181ae6\",\"#1719e5\",\"#1618e3\",\"#1417e1\",\"#1316e0\",\"#1215de\",\"#1014dc\",\"#0f13db\",\"#0e12d9\",\"#0d11d7\",\"#0c10d5\",\"#0b0fd3\",\"#0a0ed1\",\"#090dd0\",\"#080dce\",\"#080ccc\",\"#070bca\",\"#070ac8\",\"#0709c6\",\"#0708c4\",\"#0707c2\",\"#0707bf\",\"#0806bd\",\"#0806bb\",\"#0905b9\",\"#0904b7\",\"#0a04b5\",\"#0a04b2\",\"#0b03b0\",\"#0c03ae\",\"#0d02ab\",\"#0e02a9\",\"#0e02a7\",\"#0f02a4\",\"#0f01a2\",\"#1001a0\",\"#10019d\",\"#10019b\",\"#100199\",\"#100197\",\"#100194\",\"#0f0192\",\"#0f0190\",\"#0f018e\",\"#0e018b\",\"#0e0189\",\"#0d0187\",\"#0d0185\",\"#0c0183\",\"#0b0181\",\"#0b017e\",\"#0a017c\",\"#09017a\",\"#090178\",\"#080276\",\"#070274\",\"#060272\",\"#060270\",\"#05026e\",\"#04026c\",\"#030269\",\"#030267\",\"#020265\",\"#010263\",\"#010261\",\"#00025f\",\"#00025d\",\"#00025b\",\"#000259\",\"#000257\",\"#000255\",\"#000154\",\"#000152\",\"#000150\",\"#00004e\"]},\"id\":\"1689\",\"type\":\"LinearColorMapper\"},{\"attributes\":{\"text_color\":\"black\",\"text_font_size\":\"12pt\"},\"id\":\"1662\",\"type\":\"Title\"},{\"attributes\":{\"bar_line_color\":\"black\",\"color_mapper\":{\"id\":\"1689\"},\"label_standoff\":8,\"location\":[0,0],\"major_label_policy\":{\"id\":\"1707\"},\"major_tick_line_color\":\"black\",\"ticker\":{\"id\":\"1698\"}},\"id\":\"1699\",\"type\":\"ColorBar\"},{\"attributes\":{},\"id\":\"1698\",\"type\":\"BasicTicker\"},{\"attributes\":{\"children\":[{\"id\":\"1657\"},{\"id\":\"1661\"},{\"id\":\"1728\"}],\"margin\":[0,0,0,0],\"name\":\"Row02327\",\"tags\":[\"embedded\"]},\"id\":\"1656\",\"type\":\"Row\"},{\"attributes\":{\"axis_label\":\"\",\"formatter\":{\"id\":\"1702\"},\"major_label_policy\":{\"id\":\"1700\"},\"ticker\":{\"id\":\"1671\"}},\"id\":\"1670\",\"type\":\"CategoricalAxis\"},{\"attributes\":{\"axis_label\":\"\",\"formatter\":{\"id\":\"1705\"},\"major_label_policy\":{\"id\":\"1703\"},\"ticker\":{\"id\":\"1674\"}},\"id\":\"1673\",\"type\":\"CategoricalAxis\"},{\"attributes\":{\"data\":{\"columns\":[\"btc_price\",\"btc_price\",\"m2_supply\",\"m2_supply\"],\"index\":[\"btc_price\",\"m2_supply\",\"btc_price\",\"m2_supply\"],\"value\":[\"1\",\"0.80857\",\"0.80857\",\"1\"],\"zvalues\":{\"__ndarray__\":\"AAAAAAAA8D8NyGZP1N/pPw3IZk/U3+k/AAAAAAAA8D8=\",\"dtype\":\"float64\",\"order\":\"little\",\"shape\":[4]}},\"selected\":{\"id\":\"1691\"},\"selection_policy\":{\"id\":\"1715\"}},\"id\":\"1690\",\"type\":\"ColumnDataSource\"},{\"attributes\":{},\"id\":\"1666\",\"type\":\"CategoricalScale\"},{\"attributes\":{},\"id\":\"1700\",\"type\":\"AllLabels\"},{\"attributes\":{\"margin\":[5,5,5,5],\"name\":\"HSpacer02332\",\"sizing_mode\":\"stretch_width\"},\"id\":\"1728\",\"type\":\"Spacer\"},{\"attributes\":{},\"id\":\"1705\",\"type\":\"CategoricalTickFormatter\"},{\"attributes\":{},\"id\":\"1668\",\"type\":\"CategoricalScale\"},{\"attributes\":{},\"id\":\"1707\",\"type\":\"NoOverlap\"},{\"attributes\":{},\"id\":\"1691\",\"type\":\"Selection\"},{\"attributes\":{},\"id\":\"1671\",\"type\":\"CategoricalTicker\"},{\"attributes\":{},\"id\":\"1703\",\"type\":\"AllLabels\"},{\"attributes\":{},\"id\":\"1674\",\"type\":\"CategoricalTicker\"},{\"attributes\":{\"active_multi\":null,\"tools\":[{\"id\":\"1660\"},{\"id\":\"1676\"},{\"id\":\"1677\"},{\"id\":\"1678\"},{\"id\":\"1679\"},{\"id\":\"1680\"}]},\"id\":\"1682\",\"type\":\"Toolbar\"},{\"attributes\":{\"factors\":[\"btc_price\",\"m2_supply\"],\"tags\":[[[\"index\",\"index\",null]]]},\"id\":\"1659\",\"type\":\"FactorRange\"},{\"attributes\":{\"axis\":{\"id\":\"1673\"},\"dimension\":1,\"grid_line_color\":null,\"ticker\":null},\"id\":\"1675\",\"type\":\"Grid\"},{\"attributes\":{},\"id\":\"1702\",\"type\":\"CategoricalTickFormatter\"},{\"attributes\":{\"bottom_units\":\"screen\",\"fill_alpha\":0.5,\"fill_color\":\"lightgrey\",\"left_units\":\"screen\",\"level\":\"overlay\",\"line_alpha\":1.0,\"line_color\":\"black\",\"line_dash\":[4,4],\"line_width\":2,\"right_units\":\"screen\",\"syncable\":false,\"top_units\":\"screen\"},\"id\":\"1681\",\"type\":\"BoxAnnotation\"},{\"attributes\":{\"factors\":[\"btc_price\",\"m2_supply\"],\"tags\":[[[\"columns\",\"columns\",null]]]},\"id\":\"1658\",\"type\":\"FactorRange\"},{\"attributes\":{\"callback\":null,\"renderers\":[{\"id\":\"1696\"}],\"tags\":[\"hv_created\"],\"tooltips\":[[\"columns\",\"@{columns}\"],[\"index\",\"@{index}\"],[\"value\",\"@{value}\"]]},\"id\":\"1660\",\"type\":\"HoverTool\"},{\"attributes\":{\"below\":[{\"id\":\"1670\"}],\"center\":[{\"id\":\"1672\"},{\"id\":\"1675\"}],\"height\":300,\"left\":[{\"id\":\"1673\"}],\"margin\":[5,5,5,5],\"min_border_bottom\":10,\"min_border_left\":10,\"min_border_right\":10,\"min_border_top\":10,\"renderers\":[{\"id\":\"1696\"}],\"right\":[{\"id\":\"1699\"}],\"sizing_mode\":\"fixed\",\"title\":{\"id\":\"1662\"},\"toolbar\":{\"id\":\"1682\"},\"width\":700,\"x_range\":{\"id\":\"1658\"},\"x_scale\":{\"id\":\"1666\"},\"y_range\":{\"id\":\"1659\"},\"y_scale\":{\"id\":\"1668\"}},\"id\":\"1661\",\"subtype\":\"Figure\",\"type\":\"Plot\"},{\"attributes\":{},\"id\":\"1677\",\"type\":\"PanTool\"},{\"attributes\":{\"fill_color\":{\"field\":\"zvalues\",\"transform\":{\"id\":\"1689\"}},\"height\":{\"value\":1},\"line_alpha\":{\"value\":0},\"line_color\":{\"value\":\"#1f77b4\"},\"width\":{\"value\":1},\"x\":{\"field\":\"columns\"},\"y\":{\"field\":\"index\"}},\"id\":\"1693\",\"type\":\"Rect\"},{\"attributes\":{},\"id\":\"1715\",\"type\":\"UnionRenderers\"},{\"attributes\":{},\"id\":\"1676\",\"type\":\"SaveTool\"},{\"attributes\":{\"data_source\":{\"id\":\"1690\"},\"glyph\":{\"id\":\"1693\"},\"hover_glyph\":null,\"muted_glyph\":null,\"nonselection_glyph\":{\"id\":\"1694\"},\"selection_glyph\":{\"id\":\"1695\"},\"view\":{\"id\":\"1697\"}},\"id\":\"1696\",\"type\":\"GlyphRenderer\"}],\"root_ids\":[\"1656\"]},\"title\":\"Bokeh Application\",\"version\":\"2.3.2\"}};\n",
       "    var render_items = [{\"docid\":\"23c66e84-1a95-4c8f-921f-99e4743966d2\",\"root_ids\":[\"1656\"],\"roots\":{\"1656\":\"cb6e049e-2214-4b02-aef7-9c6478771584\"}}];\n",
       "    root.Bokeh.embed.embed_items_notebook(docs_json, render_items);\n",
       "  }\n",
       "  if (root.Bokeh !== undefined && root.Bokeh.Panel !== undefined) {\n",
       "    embed_document(root);\n",
       "  } else {\n",
       "    var attempts = 0;\n",
       "    var timer = setInterval(function(root) {\n",
       "      if (root.Bokeh !== undefined && root.Bokeh.Panel !== undefined) {\n",
       "        clearInterval(timer);\n",
       "        embed_document(root);\n",
       "      } else if (document.readyState == \"complete\") {\n",
       "        attempts++;\n",
       "        if (attempts > 100) {\n",
       "          clearInterval(timer);\n",
       "          console.log(\"Bokeh: ERROR: Unable to run BokehJS code because BokehJS library is missing\");\n",
       "        }\n",
       "      }\n",
       "    }, 10, root)\n",
       "  }\n",
       "})(window);</script>"
      ],
      "text/plain": [
       ":HeatMap   [columns,index]   (value)"
      ]
     },
     "execution_count": 30,
     "metadata": {
      "application/vnd.holoviews_exec.v0+json": {
       "id": "1656"
      }
     },
     "output_type": "execute_result"
    }
   ],
   "source": [
    "# Use the `heatmap` function from the Seaborn library to visualize correlations\n",
    "m2sl_btc_corr.hvplot.heatmap()"
   ]
  },
  {
   "cell_type": "markdown",
   "id": "3c178fd9",
   "metadata": {},
   "source": []
  },
  {
   "cell_type": "code",
   "execution_count": 36,
   "id": "a0423e7b",
   "metadata": {},
   "outputs": [
    {
     "data": {},
     "metadata": {},
     "output_type": "display_data"
    },
    {
     "data": {
      "application/vnd.holoviews_exec.v0+json": "",
      "text/html": [
       "<div id='2476'>\n",
       "\n",
       "\n",
       "\n",
       "\n",
       "\n",
       "  <div class=\"bk-root\" id=\"2483dfd4-387c-4fe2-9482-f26754604462\" data-root-id=\"2476\"></div>\n",
       "</div>\n",
       "<script type=\"application/javascript\">(function(root) {\n",
       "  function embed_document(root) {\n",
       "    var docs_json = {\"02bd4c60-1a47-42b1-a9d4-50aebc41dd70\":{\"defs\":[],\"roots\":{\"references\":[{\"attributes\":{\"line_color\":\"#fc4f30\",\"line_width\":2,\"x\":{\"field\":\"index\"},\"y\":{\"field\":\"value\"}},\"id\":\"2554\",\"type\":\"Line\"},{\"attributes\":{},\"id\":\"2517\",\"type\":\"BasicTickFormatter\"},{\"attributes\":{\"bottom_units\":\"screen\",\"fill_alpha\":0.5,\"fill_color\":\"lightgrey\",\"left_units\":\"screen\",\"level\":\"overlay\",\"line_alpha\":1.0,\"line_color\":\"black\",\"line_dash\":[4,4],\"line_width\":2,\"right_units\":\"screen\",\"syncable\":false,\"top_units\":\"screen\"},\"id\":\"2504\",\"type\":\"BoxAnnotation\"},{\"attributes\":{\"label\":{\"value\":\"m2_supply\"},\"renderers\":[{\"id\":\"2524\"}]},\"id\":\"2549\",\"type\":\"LegendItem\"},{\"attributes\":{},\"id\":\"2487\",\"type\":\"LinearScale\"},{\"attributes\":{\"active_multi\":null,\"tools\":[{\"id\":\"2480\"},{\"id\":\"2499\"},{\"id\":\"2500\"},{\"id\":\"2501\"},{\"id\":\"2502\"},{\"id\":\"2503\"}]},\"id\":\"2505\",\"type\":\"Toolbar\"},{\"attributes\":{\"line_alpha\":0.2,\"line_color\":\"#fc4f30\",\"line_width\":2,\"x\":{\"field\":\"index\"},\"y\":{\"field\":\"value\"}},\"id\":\"2556\",\"type\":\"Line\"},{\"attributes\":{\"text_align\":{\"value\":\"center\"},\"text_alpha\":{\"value\":0.1},\"text_baseline\":{\"value\":\"middle\"},\"text_color\":{\"value\":\"black\"},\"text_font_size\":{\"value\":\"12Pt\"},\"x\":{\"field\":\"x\"},\"y\":{\"field\":\"y\"}},\"id\":\"2760\",\"type\":\"Text\"},{\"attributes\":{\"line_alpha\":0.2,\"line_color\":\"#30a2da\",\"line_width\":2,\"x\":{\"field\":\"index\"},\"y\":{\"field\":\"value\"}},\"id\":\"2523\",\"type\":\"Line\"},{\"attributes\":{},\"id\":\"2512\",\"type\":\"AllLabels\"},{\"attributes\":{\"data_source\":{\"id\":\"2756\"},\"glyph\":{\"id\":\"2759\"},\"hover_glyph\":null,\"muted_glyph\":null,\"nonselection_glyph\":{\"id\":\"2760\"},\"selection_glyph\":{\"id\":\"2763\"},\"view\":{\"id\":\"2762\"}},\"id\":\"2761\",\"type\":\"GlyphRenderer\"},{\"attributes\":{},\"id\":\"2519\",\"type\":\"Selection\"},{\"attributes\":{},\"id\":\"2514\",\"type\":\"DatetimeTickFormatter\"},{\"attributes\":{\"text_color\":\"black\",\"text_font_size\":\"12pt\"},\"id\":\"2483\",\"type\":\"Title\"},{\"attributes\":{\"fill_alpha\":0.5,\"fill_color\":\"gray\",\"left\":1577836800000.0,\"level\":\"glyph\",\"line_alpha\":0.5,\"line_color\":\"gray\",\"right\":1625097600000.0},\"id\":\"2755\",\"type\":\"BoxAnnotation\"},{\"attributes\":{},\"id\":\"2776\",\"type\":\"UnionRenderers\"},{\"attributes\":{\"axis_label\":\"\",\"formatter\":{\"id\":\"2514\"},\"major_label_policy\":{\"id\":\"2512\"},\"ticker\":{\"id\":\"2492\"}},\"id\":\"2491\",\"type\":\"DatetimeAxis\"},{\"attributes\":{\"num_minor_ticks\":5,\"tickers\":[{\"id\":\"2536\"},{\"id\":\"2537\"},{\"id\":\"2538\"},{\"id\":\"2539\"},{\"id\":\"2540\"},{\"id\":\"2541\"},{\"id\":\"2542\"},{\"id\":\"2543\"},{\"id\":\"2544\"},{\"id\":\"2545\"},{\"id\":\"2546\"},{\"id\":\"2547\"}]},\"id\":\"2492\",\"type\":\"DatetimeTicker\"},{\"attributes\":{\"data\":{\"Variable\":[\"btc_price\",\"btc_price\",\"btc_price\",\"btc_price\",\"btc_price\",\"btc_price\",\"btc_price\",\"btc_price\",\"btc_price\",\"btc_price\",\"btc_price\",\"btc_price\",\"btc_price\",\"btc_price\",\"btc_price\",\"btc_price\",\"btc_price\",\"btc_price\",\"btc_price\",\"btc_price\",\"btc_price\",\"btc_price\",\"btc_price\",\"btc_price\",\"btc_price\",\"btc_price\",\"btc_price\",\"btc_price\",\"btc_price\",\"btc_price\",\"btc_price\",\"btc_price\",\"btc_price\",\"btc_price\",\"btc_price\",\"btc_price\",\"btc_price\",\"btc_price\",\"btc_price\",\"btc_price\",\"btc_price\",\"btc_price\",\"btc_price\",\"btc_price\",\"btc_price\",\"btc_price\",\"btc_price\",\"btc_price\",\"btc_price\",\"btc_price\",\"btc_price\",\"btc_price\",\"btc_price\",\"btc_price\",\"btc_price\",\"btc_price\",\"btc_price\",\"btc_price\",\"btc_price\",\"btc_price\",\"btc_price\",\"btc_price\",\"btc_price\",\"btc_price\",\"btc_price\",\"btc_price\",\"btc_price\",\"btc_price\",\"btc_price\",\"btc_price\",\"btc_price\",\"btc_price\",\"btc_price\",\"btc_price\",\"btc_price\",\"btc_price\",\"btc_price\",\"btc_price\",\"btc_price\",\"btc_price\",\"btc_price\"],\"index\":{\"__ndarray__\":\"AAAAGpCMdEIAAEBsipZ0QgAAwFgyoHRCAAAAqyyqdEIAAED9JrR0QgAAQB4qvXRCAACAcCTHdEIAAABdzNB0QgAAQK/G2nRCAADAm27kdEIAAADuaO50QgAAQEBj+HRCAADALAsCdUIAAAB/BQx1QgAAgGutFXVCAADAvacfdUIAAAAQoil1QgAAwJb3MnVCAAAA6fE8dUIAAIDVmUZ1QgAAwCeUUHVCAABAFDxadUIAAIBmNmR1QgAAwLgwbnVCAABApdh3dUIAAID30oF1QgAAAOR6i3VCAABANnWVdUIAAICIb591QgAAgKlyqHVCAADA+2yydUIAAEDoFLx1QgAAgDoPxnVCAAAAJ7fPdUIAAEB5sdl1QgAAgMur43VCAAAAuFPtdUIAAEAKTvd1QgAAwPb1AHZCAAAASfAKdkIAAECb6hR2QgAAQLztHXZCAACADugndkIAAAD7jzF2QgAAQE2KO3ZCAADAOTJFdkIAAACMLE92QgAAQN4mWXZCAADAys5idkIAAAAdyWx2QgAAgAlxdnZCAADAW2uAdkIAAACuZYp2QgAAAM9ok3ZCAABAIWOddkIAAMANC6d2QgAAAGAFsXZCAACATK26dkIAAMCep8R2QgAAAPGhznZCAACA3UnYdkIAAMAvROJ2QgAAQBzs63ZCAACAbub1dkIAAMDA4P92QgAAgEc2CXdCAADAmTATd0IAAECG2Bx3QgAAgNjSJndCAAAAxXowd0IAAEAXdTp3QgAAgGlvRHdCAAAAVhdOd0IAAECoEVh3QgAAwJS5YXdCAAAA57Nrd0IAAEA5rnV3QgAAQFqxfndCAACArKuId0IAAACZU5J3QgAAQOtNnHdC\",\"dtype\":\"float64\",\"order\":\"little\",\"shape\":[81]},\"value\":{\"__ndarray__\":\"AAAA4CZxd0AAAADg+1t0QAAAAIDrs3dAAAAA4Pujc0AAAACgGl9sQAAAAGA7Q3BAAAAAACmgb0AAAACAwl1tQAAAACCyOWxAAAAAIC/tb0AAAAAA06lxQAAAAIAWqWxAAAAAQGCpbUAAAABg5VZ0QAAAAODOp3ZAAAAAIFgle0AAAABg5VB3QAAAAMD3MXtAAAAAwPdNekAAAABAtMp7QAAAAKDGz4BAAAAAwJ39hUAAAABguBuBQAAAAMBL/IFAAAAA4CIXg0AAAAAgWM6GQAAAACAxpodAAAAAoJkyj0AAAAAgL+iOQAAAAAAAGpNAAAAAIK44kUAAAACgR7OWQAAAAKAZcaNAAAAAoPCUo0AAAAAAVy2lQAAAACDF4rFAAAAA4FE5sUAAAABgT2+6QAAAAMDMb8VAAAAAoJmsykAAAAAgRenBQAAAAACAY8VAAAAAwMyru0AAAADA9QnCQAAAAEBz271AAAAAIC7WuUAAAABgJo+9QAAAAGC4aLxAAAAAoBmcuUAAAACgx+m4QAAAAACsdrBAAAAAQAoHrkAAAAAA5D+rQAAAAOAqJ65AAAAAwOAPs0AAAACgSIG1QAAAAKB6E8FAAAAAwNYYxUAAAABgFovEQAAAAGBhNcRAAAAAYIVkwEAAAABgjRbCQAAAAOBKAL1AAAAAoCwgvEAAAAAAcFjCQAAAACA6ucBAAAAA4J+JukAAAABgTI7BQAAAAODmnMJAAAAAgLTRwUAAAACgzpbFQAAAAGAES8ZAAAAAAJWsxEAAAAAAjtTKQAAAAOC/XNJAAAAAwImv3EAAAACgJWDgQAAAAMDnO+hAAAAAAAr/7EAAAACA4qbrQAAAAMDlWOJA\",\"dtype\":\"float64\",\"order\":\"little\",\"shape\":[81]}},\"selected\":{\"id\":\"2552\"},\"selection_policy\":{\"id\":\"2569\"}},\"id\":\"2551\",\"type\":\"ColumnDataSource\"},{\"attributes\":{\"data_source\":{\"id\":\"2551\"},\"glyph\":{\"id\":\"2554\"},\"hover_glyph\":null,\"muted_glyph\":{\"id\":\"2556\"},\"nonselection_glyph\":{\"id\":\"2555\"},\"selection_glyph\":{\"id\":\"2584\"},\"view\":{\"id\":\"2558\"}},\"id\":\"2557\",\"type\":\"GlyphRenderer\"},{\"attributes\":{\"margin\":[5,5,5,5],\"name\":\"HSpacer03555\",\"sizing_mode\":\"stretch_width\"},\"id\":\"2998\",\"type\":\"Spacer\"},{\"attributes\":{},\"id\":\"2489\",\"type\":\"LinearScale\"},{\"attributes\":{\"source\":{\"id\":\"2551\"}},\"id\":\"2558\",\"type\":\"CDSView\"},{\"attributes\":{\"base\":60,\"mantissas\":[1,2,5,10,15,20,30],\"max_interval\":1800000.0,\"min_interval\":1000.0,\"num_minor_ticks\":0},\"id\":\"2537\",\"type\":\"AdaptiveTicker\"},{\"attributes\":{\"axis_label\":\"\",\"formatter\":{\"id\":\"2517\"},\"major_label_policy\":{\"id\":\"2515\"},\"ticker\":{\"id\":\"2496\"}},\"id\":\"2495\",\"type\":\"LinearAxis\"},{\"attributes\":{},\"id\":\"2534\",\"type\":\"UnionRenderers\"},{\"attributes\":{\"axis\":{\"id\":\"2491\"},\"grid_line_color\":null,\"ticker\":null},\"id\":\"2494\",\"type\":\"Grid\"},{\"attributes\":{\"source\":{\"id\":\"2756\"}},\"id\":\"2762\",\"type\":\"CDSView\"},{\"attributes\":{\"days\":[1,2,3,4,5,6,7,8,9,10,11,12,13,14,15,16,17,18,19,20,21,22,23,24,25,26,27,28,29,30,31]},\"id\":\"2539\",\"type\":\"DaysTicker\"},{\"attributes\":{\"source\":{\"id\":\"2518\"}},\"id\":\"2525\",\"type\":\"CDSView\"},{\"attributes\":{\"data\":{\"text\":[\"Pandemic\"],\"x\":[1577836800000.0],\"y\":[21000]},\"selected\":{\"id\":\"2757\"},\"selection_policy\":{\"id\":\"2776\"}},\"id\":\"2756\",\"type\":\"ColumnDataSource\"},{\"attributes\":{\"line_color\":\"#30a2da\",\"line_width\":2,\"x\":{\"field\":\"index\"},\"y\":{\"field\":\"value\"}},\"id\":\"2521\",\"type\":\"Line\"},{\"attributes\":{},\"id\":\"2496\",\"type\":\"BasicTicker\"},{\"attributes\":{\"mantissas\":[1,2,5],\"max_interval\":500.0,\"num_minor_ticks\":0},\"id\":\"2536\",\"type\":\"AdaptiveTicker\"},{\"attributes\":{\"axis\":{\"id\":\"2495\"},\"dimension\":1,\"grid_line_color\":null,\"ticker\":null},\"id\":\"2498\",\"type\":\"Grid\"},{\"attributes\":{\"base\":24,\"mantissas\":[1,2,4,6,8,12],\"max_interval\":43200000.0,\"min_interval\":3600000.0,\"num_minor_ticks\":0},\"id\":\"2538\",\"type\":\"AdaptiveTicker\"},{\"attributes\":{\"text_align\":{\"value\":\"center\"},\"text_baseline\":{\"value\":\"middle\"},\"text_color\":{\"value\":\"black\"},\"text_font_size\":{\"value\":\"12Pt\"},\"x\":{\"field\":\"x\"},\"y\":{\"field\":\"y\"}},\"id\":\"2759\",\"type\":\"Text\"},{\"attributes\":{},\"id\":\"2515\",\"type\":\"AllLabels\"},{\"attributes\":{\"days\":[1,4,7,10,13,16,19,22,25,28]},\"id\":\"2540\",\"type\":\"DaysTicker\"},{\"attributes\":{\"months\":[0,1,2,3,4,5,6,7,8,9,10,11]},\"id\":\"2543\",\"type\":\"MonthsTicker\"},{\"attributes\":{\"children\":[{\"id\":\"2477\"},{\"id\":\"2482\"},{\"id\":\"2998\"}],\"margin\":[0,0,0,0],\"name\":\"Row03550\",\"tags\":[\"embedded\"]},\"id\":\"2476\",\"type\":\"Row\"},{\"attributes\":{\"label\":{\"value\":\"btc_price\"},\"renderers\":[{\"id\":\"2557\"}]},\"id\":\"2583\",\"type\":\"LegendItem\"},{\"attributes\":{\"days\":[1,8,15,22]},\"id\":\"2541\",\"type\":\"DaysTicker\"},{\"attributes\":{\"end\":65300.16345062256,\"reset_end\":65300.16345062256,\"reset_start\":-5690.047956848145,\"start\":-5690.047956848145,\"tags\":[[[\"value\",\"value\",null]]]},\"id\":\"2479\",\"type\":\"Range1d\"},{\"attributes\":{},\"id\":\"2552\",\"type\":\"Selection\"},{\"attributes\":{\"days\":[1,15]},\"id\":\"2542\",\"type\":\"DaysTicker\"},{\"attributes\":{\"line_color\":\"#fc4f30\",\"line_width\":2,\"x\":{\"field\":\"index\"},\"y\":{\"field\":\"value\"}},\"id\":\"2584\",\"type\":\"Line\"},{\"attributes\":{\"end\":1622505600000.0,\"reset_end\":1622505600000.0,\"reset_start\":1412121600000.0,\"start\":1412121600000.0,\"tags\":[[[\"index\",\"index\",null]]]},\"id\":\"2478\",\"type\":\"Range1d\"},{\"attributes\":{},\"id\":\"2499\",\"type\":\"SaveTool\"},{\"attributes\":{},\"id\":\"2500\",\"type\":\"PanTool\"},{\"attributes\":{\"data\":{\"Variable\":[\"m2_supply\",\"m2_supply\",\"m2_supply\",\"m2_supply\",\"m2_supply\",\"m2_supply\",\"m2_supply\",\"m2_supply\",\"m2_supply\",\"m2_supply\",\"m2_supply\",\"m2_supply\",\"m2_supply\",\"m2_supply\",\"m2_supply\",\"m2_supply\",\"m2_supply\",\"m2_supply\",\"m2_supply\",\"m2_supply\",\"m2_supply\",\"m2_supply\",\"m2_supply\",\"m2_supply\",\"m2_supply\",\"m2_supply\",\"m2_supply\",\"m2_supply\",\"m2_supply\",\"m2_supply\",\"m2_supply\",\"m2_supply\",\"m2_supply\",\"m2_supply\",\"m2_supply\",\"m2_supply\",\"m2_supply\",\"m2_supply\",\"m2_supply\",\"m2_supply\",\"m2_supply\",\"m2_supply\",\"m2_supply\",\"m2_supply\",\"m2_supply\",\"m2_supply\",\"m2_supply\",\"m2_supply\",\"m2_supply\",\"m2_supply\",\"m2_supply\",\"m2_supply\",\"m2_supply\",\"m2_supply\",\"m2_supply\",\"m2_supply\",\"m2_supply\",\"m2_supply\",\"m2_supply\",\"m2_supply\",\"m2_supply\",\"m2_supply\",\"m2_supply\",\"m2_supply\",\"m2_supply\",\"m2_supply\",\"m2_supply\",\"m2_supply\",\"m2_supply\",\"m2_supply\",\"m2_supply\",\"m2_supply\",\"m2_supply\",\"m2_supply\",\"m2_supply\",\"m2_supply\",\"m2_supply\",\"m2_supply\",\"m2_supply\",\"m2_supply\",\"m2_supply\"],\"index\":{\"__ndarray__\":\"AAAAGpCMdEIAAEBsipZ0QgAAwFgyoHRCAAAAqyyqdEIAAED9JrR0QgAAQB4qvXRCAACAcCTHdEIAAABdzNB0QgAAQK/G2nRCAADAm27kdEIAAADuaO50QgAAQEBj+HRCAADALAsCdUIAAAB/BQx1QgAAgGutFXVCAADAvacfdUIAAAAQoil1QgAAwJb3MnVCAAAA6fE8dUIAAIDVmUZ1QgAAwCeUUHVCAABAFDxadUIAAIBmNmR1QgAAwLgwbnVCAABApdh3dUIAAID30oF1QgAAAOR6i3VCAABANnWVdUIAAICIb591QgAAgKlyqHVCAADA+2yydUIAAEDoFLx1QgAAgDoPxnVCAAAAJ7fPdUIAAEB5sdl1QgAAgMur43VCAAAAuFPtdUIAAEAKTvd1QgAAwPb1AHZCAAAASfAKdkIAAECb6hR2QgAAQLztHXZCAACADugndkIAAAD7jzF2QgAAQE2KO3ZCAADAOTJFdkIAAACMLE92QgAAQN4mWXZCAADAys5idkIAAAAdyWx2QgAAgAlxdnZCAADAW2uAdkIAAACuZYp2QgAAAM9ok3ZCAABAIWOddkIAAMANC6d2QgAAAGAFsXZCAACATK26dkIAAMCep8R2QgAAAPGhznZCAACA3UnYdkIAAMAvROJ2QgAAQBzs63ZCAACAbub1dkIAAMDA4P92QgAAgEc2CXdCAADAmTATd0IAAECG2Bx3QgAAgNjSJndCAAAAxXowd0IAAEAXdTp3QgAAgGlvRHdCAAAAVhdOd0IAAECoEVh3QgAAwJS5YXdCAAAA57Nrd0IAAEA5rnV3QgAAQFqxfndCAACArKuId0IAAACZU5J3QgAAQOtNnHdC\",\"dtype\":\"float64\",\"order\":\"little\",\"shape\":[81]},\"value\":{\"__ndarray__\":\"zczMzAyVxkCamZmZGafGQAAAAADAzsZAMzMzM7PxxkCamZmZmTHHQGZmZmbmOcdAzczMzIxNx0AzMzMzs1zHQAAAAABAc8dAMzMzM/OLx0DNzMzMTKTHQM3MzMxMv8dAAAAAAEDSx0AzMzMzc/zHQGZmZmYmHMhAMzMzM/NdyEAzMzMzc4bIQM3MzMyMpshAAAAAAMDOyEBmZmZmJvDIQDMzMzOzEclAAAAAAAAvyUAAAAAAwFbJQGZmZmZmdMlAzczMzMyYyUCamZmZGb7JQGZmZmYm0slAZmZmZqb3yUAzMzMz8xrKQJqZmZmZPcpAmpmZmZlaykAAAAAAAHTKQGZmZmamgcpAzczMzAyeykDNzMzMjLbKQJqZmZlZy8pAmpmZmdnlykDNzMzMDPfKQJqZmZlZEctAzczMzAway0CamZmZWS/LQM3MzMyMS8tAAAAAAMBay0DNzMzMTHvLQGZmZmYmmctAMzMzM7Ony0BmZmZm5rzLQDMzMzMzzMtAmpmZmdnPy0BmZmZmJtnLQJqZmZmZFMxAZmZmZmY3zEBmZmZm5kzMQJqZmZlZZMxAmpmZmVl2zEAAAAAAQKjMQJqZmZmZ48xAzczMzAwHzUBmZmZmZi3NQM3MzMwMW81AmpmZmVmazUAzMzMzM8vNQM3MzMyM8M1AAAAAAAAZzkAzMzMzszjOQGZmZmYmR89AmpmZmbmk0EAAAAAAQHnRQGZmZmbmwNFAAAAAAADk0UAzMzMzc/PRQAAAAABAK9JAZmZmZsZP0kDNzMzMDITSQJqZmZnZrtJAAAAAACDx0kCamZmZ+TTTQAAAAACActNAmpmZmfml00CamZmZ+eTTQJqZmZk56dNA\",\"dtype\":\"float64\",\"order\":\"little\",\"shape\":[81]}},\"selected\":{\"id\":\"2519\"},\"selection_policy\":{\"id\":\"2534\"}},\"id\":\"2518\",\"type\":\"ColumnDataSource\"},{\"attributes\":{\"margin\":[5,5,5,5],\"name\":\"HSpacer03554\",\"sizing_mode\":\"stretch_width\"},\"id\":\"2477\",\"type\":\"Spacer\"},{\"attributes\":{},\"id\":\"2503\",\"type\":\"ResetTool\"},{\"attributes\":{\"months\":[0,2,4,6,8,10]},\"id\":\"2544\",\"type\":\"MonthsTicker\"},{\"attributes\":{\"below\":[{\"id\":\"2491\"}],\"center\":[{\"id\":\"2494\"},{\"id\":\"2498\"}],\"height\":300,\"left\":[{\"id\":\"2495\"}],\"margin\":[5,5,5,5],\"min_border_bottom\":10,\"min_border_left\":10,\"min_border_right\":10,\"min_border_top\":10,\"renderers\":[{\"id\":\"2524\"},{\"id\":\"2557\"},{\"id\":\"2755\"},{\"id\":\"2761\"}],\"right\":[{\"id\":\"2548\"}],\"sizing_mode\":\"fixed\",\"title\":{\"id\":\"2483\"},\"toolbar\":{\"id\":\"2505\"},\"width\":700,\"x_range\":{\"id\":\"2478\"},\"x_scale\":{\"id\":\"2487\"},\"y_range\":{\"id\":\"2479\"},\"y_scale\":{\"id\":\"2489\"}},\"id\":\"2482\",\"subtype\":\"Figure\",\"type\":\"Plot\"},{\"attributes\":{},\"id\":\"2501\",\"type\":\"WheelZoomTool\"},{\"attributes\":{\"overlay\":{\"id\":\"2504\"}},\"id\":\"2502\",\"type\":\"BoxZoomTool\"},{\"attributes\":{\"months\":[0,4,8]},\"id\":\"2545\",\"type\":\"MonthsTicker\"},{\"attributes\":{\"data_source\":{\"id\":\"2518\"},\"glyph\":{\"id\":\"2521\"},\"hover_glyph\":null,\"muted_glyph\":{\"id\":\"2523\"},\"nonselection_glyph\":{\"id\":\"2522\"},\"selection_glyph\":{\"id\":\"2550\"},\"view\":{\"id\":\"2525\"}},\"id\":\"2524\",\"type\":\"GlyphRenderer\"},{\"attributes\":{\"months\":[0,6]},\"id\":\"2546\",\"type\":\"MonthsTicker\"},{\"attributes\":{\"callback\":null,\"formatters\":{\"@{index}\":\"datetime\"},\"renderers\":[{\"id\":\"2524\"},{\"id\":\"2557\"}],\"tags\":[\"hv_created\"],\"tooltips\":[[\"Variable\",\"@{Variable}\"],[\"index\",\"@{index}{%F %T}\"],[\"value\",\"@{value}\"]]},\"id\":\"2480\",\"type\":\"HoverTool\"},{\"attributes\":{},\"id\":\"2569\",\"type\":\"UnionRenderers\"},{\"attributes\":{\"angle\":{\"value\":0.0},\"text\":{\"field\":\"text\"},\"text_align\":{\"value\":\"center\"},\"text_alpha\":{\"value\":1.0},\"text_baseline\":{\"value\":\"middle\"},\"text_color\":{\"value\":\"black\"},\"text_font_size\":{\"value\":\"12Pt\"},\"text_font_style\":{\"value\":\"normal\"},\"text_line_height\":{\"value\":1.2},\"x\":{\"field\":\"x\"},\"x_offset\":{\"value\":0},\"y\":{\"field\":\"y\"},\"y_offset\":{\"value\":0}},\"id\":\"2763\",\"type\":\"Text\"},{\"attributes\":{\"line_alpha\":0.1,\"line_color\":\"#30a2da\",\"line_width\":2,\"x\":{\"field\":\"index\"},\"y\":{\"field\":\"value\"}},\"id\":\"2522\",\"type\":\"Line\"},{\"attributes\":{},\"id\":\"2547\",\"type\":\"YearsTicker\"},{\"attributes\":{\"click_policy\":\"mute\",\"items\":[{\"id\":\"2549\"},{\"id\":\"2583\"}],\"location\":[0,0]},\"id\":\"2548\",\"type\":\"Legend\"},{\"attributes\":{\"line_alpha\":0.1,\"line_color\":\"#fc4f30\",\"line_width\":2,\"x\":{\"field\":\"index\"},\"y\":{\"field\":\"value\"}},\"id\":\"2555\",\"type\":\"Line\"},{\"attributes\":{},\"id\":\"2757\",\"type\":\"Selection\"},{\"attributes\":{\"line_color\":\"#30a2da\",\"line_width\":2,\"x\":{\"field\":\"index\"},\"y\":{\"field\":\"value\"}},\"id\":\"2550\",\"type\":\"Line\"}],\"root_ids\":[\"2476\"]},\"title\":\"Bokeh Application\",\"version\":\"2.3.2\"}};\n",
       "    var render_items = [{\"docid\":\"02bd4c60-1a47-42b1-a9d4-50aebc41dd70\",\"root_ids\":[\"2476\"],\"roots\":{\"2476\":\"2483dfd4-387c-4fe2-9482-f26754604462\"}}];\n",
       "    root.Bokeh.embed.embed_items_notebook(docs_json, render_items);\n",
       "  }\n",
       "  if (root.Bokeh !== undefined && root.Bokeh.Panel !== undefined) {\n",
       "    embed_document(root);\n",
       "  } else {\n",
       "    var attempts = 0;\n",
       "    var timer = setInterval(function(root) {\n",
       "      if (root.Bokeh !== undefined && root.Bokeh.Panel !== undefined) {\n",
       "        clearInterval(timer);\n",
       "        embed_document(root);\n",
       "      } else if (document.readyState == \"complete\") {\n",
       "        attempts++;\n",
       "        if (attempts > 100) {\n",
       "          clearInterval(timer);\n",
       "          console.log(\"Bokeh: ERROR: Unable to run BokehJS code because BokehJS library is missing\");\n",
       "        }\n",
       "      }\n",
       "    }, 10, root)\n",
       "  }\n",
       "})(window);</script>"
      ],
      "text/plain": [
       ":Overlay\n",
       "   .NdOverlay.I :NdOverlay   [Variable]\n",
       "      :Curve   [index]   (value)\n",
       "   .VSpan.I     :VSpan   [x,y]\n",
       "   .Text.I      :Text   [x,y]"
      ]
     },
     "execution_count": 36,
     "metadata": {
      "application/vnd.holoviews_exec.v0+json": {
       "id": "2476"
      }
     },
     "output_type": "execute_result"
    }
   ],
   "source": [
    "pandemic_startLine = hv.VSpan(dt.datetime(2020, 1, 1),dt.datetime(2021, 7, 1)).options(color='gray')\n",
    "m2sl_btc_pandemic = m2sl_btc.hvplot() * pandemic_startLine * hv.Text(dt.datetime(2020, 1, 1), 21000, \"Pandemic\")\n",
    "m2sl_btc_pandemic"
   ]
  },
  {
   "cell_type": "code",
   "execution_count": 24,
   "id": "8bef9508",
   "metadata": {},
   "outputs": [
    {
     "data": {
      "text/plain": [
       "<AxesSubplot:xlabel='m2_supply'>"
      ]
     },
     "execution_count": 24,
     "metadata": {},
     "output_type": "execute_result"
    },
    {
     "data": {
      "image/png": "[encoded data removed]",
      "text/plain": [
       "<Figure size 432x288 with 1 Axes>"
      ]
     },
     "metadata": {
      "needs_background": "light"
     },
     "output_type": "display_data"
    }
   ],
   "source": [
    "# You can plot one column versus another using the x and y keywords in plot():\n",
    "\n",
    "df3 = pd.DataFrame(np.random.randn(1000, 2), columns=[\"m2_supply\", \"btc_price\"]).cumsum()\n",
    "df3.plot(x=\"m2_supply\", y=\"btc_price\")"
   ]
  },
  {
   "cell_type": "code",
   "execution_count": null,
   "id": "094bded3",
   "metadata": {},
   "outputs": [],
   "source": []
  },
  {
   "cell_type": "code",
   "execution_count": null,
   "id": "330d6b3a",
   "metadata": {},
   "outputs": [],
   "source": []
  }
 ],
 "metadata": {
  "kernelspec": {
   "display_name": "Python [conda env:pyvizenv] *",
   "language": "python",
   "name": "conda-env-pyvizenv-py"
  },
  "language_info": {
   "codemirror_mode": {
    "name": "ipython",
    "version": 3
   },
   "file_extension": ".py",
   "mimetype": "text/x-python",
   "name": "python",
   "nbconvert_exporter": "python",
   "pygments_lexer": "ipython3",
   "version": "3.7.10"
  }
 },
 "nbformat": 4,
 "nbformat_minor": 5
}
