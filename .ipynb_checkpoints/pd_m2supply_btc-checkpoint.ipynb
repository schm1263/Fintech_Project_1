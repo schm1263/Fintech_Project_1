{
 "cells": [
  {
   "cell_type": "markdown",
   "id": "1eb00c22",
   "metadata": {},
   "source": [
    "# Importing packages/dependencies"
   ]
  },
  {
   "cell_type": "code",
   "execution_count": 46,
   "id": "b94b3e93",
   "metadata": {},
   "outputs": [],
   "source": [
    "# Import packages/modules\n",
    "import pandas as pd\n",
    "import requests\n",
    "from dotenv import load_dotenv\n",
    "import os\n",
    "import requests\n",
    "from fredapi import Fred\n",
    "import pandas_datareader.data as pdr\n",
    "import datetime as dt\n",
    "import seaborn as sns\n",
    "import plotly.express as px\n",
    "import hvplot.pandas\n",
    "import holoviews as hv\n",
    "import numpy as np"
   ]
  },
  {
   "cell_type": "markdown",
   "id": "e95060c6",
   "metadata": {},
   "source": [
    "# Obtaining M2 Money supply from Fedral Reserve Economic Data site using API key"
   ]
  },
  {
   "cell_type": "code",
   "execution_count": 47,
   "id": "80f6ef30",
   "metadata": {},
   "outputs": [
    {
     "data": {
      "text/plain": [
       "True"
      ]
     },
     "execution_count": 47,
     "metadata": {},
     "output_type": "execute_result"
    }
   ],
   "source": [
    "# load Env\n",
    "load_dotenv()"
   ]
  },
  {
   "cell_type": "code",
   "execution_count": 48,
   "id": "5e7e6125",
   "metadata": {},
   "outputs": [],
   "source": [
    "# Assign variable to API\n",
    "api_key=os.getenv(\"FRED_API_KEY\")"
   ]
  },
  {
   "cell_type": "code",
   "execution_count": 49,
   "id": "49ae51ee",
   "metadata": {},
   "outputs": [
    {
     "data": {
      "text/plain": [
       "str"
      ]
     },
     "execution_count": 49,
     "metadata": {},
     "output_type": "execute_result"
    }
   ],
   "source": [
    "# Confirm the retrievel of the API Key\n",
    "type(api_key)"
   ]
  },
  {
   "cell_type": "code",
   "execution_count": 50,
   "id": "b03a7774",
   "metadata": {},
   "outputs": [],
   "source": [
    "fred = Fred(api_key)"
   ]
  },
  {
   "cell_type": "code",
   "execution_count": 51,
   "id": "a3d9a823",
   "metadata": {},
   "outputs": [
    {
     "data": {
      "text/plain": [
       "1959-01-01    286.6\n",
       "1959-02-01    287.7\n",
       "1959-03-01    289.2\n",
       "1959-04-01    290.1\n",
       "1959-05-01    292.2\n",
       "dtype: float64"
      ]
     },
     "execution_count": 51,
     "metadata": {},
     "output_type": "execute_result"
    }
   ],
   "source": [
    "m2sl = fred.get_series('M2SL')\n",
    "m2sl.head()"
   ]
  },
  {
   "cell_type": "code",
   "execution_count": 52,
   "id": "14ca9b27",
   "metadata": {},
   "outputs": [
    {
     "data": {
      "text/html": [
       "<div>\n",
       "<style scoped>\n",
       "    .dataframe tbody tr th:only-of-type {\n",
       "        vertical-align: middle;\n",
       "    }\n",
       "\n",
       "    .dataframe tbody tr th {\n",
       "        vertical-align: top;\n",
       "    }\n",
       "\n",
       "    .dataframe thead th {\n",
       "        text-align: right;\n",
       "    }\n",
       "</style>\n",
       "<table border=\"1\" class=\"dataframe\">\n",
       "  <thead>\n",
       "    <tr style=\"text-align: right;\">\n",
       "      <th></th>\n",
       "      <th>0</th>\n",
       "    </tr>\n",
       "  </thead>\n",
       "  <tbody>\n",
       "    <tr>\n",
       "      <th>1959-01-01</th>\n",
       "      <td>286.6</td>\n",
       "    </tr>\n",
       "    <tr>\n",
       "      <th>1959-02-01</th>\n",
       "      <td>287.7</td>\n",
       "    </tr>\n",
       "    <tr>\n",
       "      <th>1959-03-01</th>\n",
       "      <td>289.2</td>\n",
       "    </tr>\n",
       "    <tr>\n",
       "      <th>1959-04-01</th>\n",
       "      <td>290.1</td>\n",
       "    </tr>\n",
       "    <tr>\n",
       "      <th>1959-05-01</th>\n",
       "      <td>292.2</td>\n",
       "    </tr>\n",
       "  </tbody>\n",
       "</table>\n",
       "</div>"
      ],
      "text/plain": [
       "                0\n",
       "1959-01-01  286.6\n",
       "1959-02-01  287.7\n",
       "1959-03-01  289.2\n",
       "1959-04-01  290.1\n",
       "1959-05-01  292.2"
      ]
     },
     "execution_count": 52,
     "metadata": {},
     "output_type": "execute_result"
    }
   ],
   "source": [
    "m2sl = pd.DataFrame(m2sl)\n",
    "m2sl.head()"
   ]
  },
  {
   "cell_type": "markdown",
   "id": "2e889293",
   "metadata": {},
   "source": [
    "m2sl_df.reset_index"
   ]
  },
  {
   "cell_type": "code",
   "execution_count": 53,
   "id": "59f80348",
   "metadata": {},
   "outputs": [
    {
     "data": {
      "text/html": [
       "<div>\n",
       "<style scoped>\n",
       "    .dataframe tbody tr th:only-of-type {\n",
       "        vertical-align: middle;\n",
       "    }\n",
       "\n",
       "    .dataframe tbody tr th {\n",
       "        vertical-align: top;\n",
       "    }\n",
       "\n",
       "    .dataframe thead th {\n",
       "        text-align: right;\n",
       "    }\n",
       "</style>\n",
       "<table border=\"1\" class=\"dataframe\">\n",
       "  <thead>\n",
       "    <tr style=\"text-align: right;\">\n",
       "      <th></th>\n",
       "      <th>m2_supply</th>\n",
       "    </tr>\n",
       "  </thead>\n",
       "  <tbody>\n",
       "    <tr>\n",
       "      <th>1959-01-01</th>\n",
       "      <td>286.6</td>\n",
       "    </tr>\n",
       "    <tr>\n",
       "      <th>1959-02-01</th>\n",
       "      <td>287.7</td>\n",
       "    </tr>\n",
       "    <tr>\n",
       "      <th>1959-03-01</th>\n",
       "      <td>289.2</td>\n",
       "    </tr>\n",
       "    <tr>\n",
       "      <th>1959-04-01</th>\n",
       "      <td>290.1</td>\n",
       "    </tr>\n",
       "    <tr>\n",
       "      <th>1959-05-01</th>\n",
       "      <td>292.2</td>\n",
       "    </tr>\n",
       "  </tbody>\n",
       "</table>\n",
       "</div>"
      ],
      "text/plain": [
       "            m2_supply\n",
       "1959-01-01      286.6\n",
       "1959-02-01      287.7\n",
       "1959-03-01      289.2\n",
       "1959-04-01      290.1\n",
       "1959-05-01      292.2"
      ]
     },
     "execution_count": 53,
     "metadata": {},
     "output_type": "execute_result"
    }
   ],
   "source": [
    "m2sl.rename(columns={0:\"m2_supply\"},inplace=True)\n",
    "m2sl.head()"
   ]
  },
  {
   "cell_type": "code",
   "execution_count": 54,
   "id": "cafcd522",
   "metadata": {},
   "outputs": [
    {
     "data": {
      "text/html": [
       "<div>\n",
       "<style scoped>\n",
       "    .dataframe tbody tr th:only-of-type {\n",
       "        vertical-align: middle;\n",
       "    }\n",
       "\n",
       "    .dataframe tbody tr th {\n",
       "        vertical-align: top;\n",
       "    }\n",
       "\n",
       "    .dataframe thead th {\n",
       "        text-align: right;\n",
       "    }\n",
       "</style>\n",
       "<table border=\"1\" class=\"dataframe\">\n",
       "  <thead>\n",
       "    <tr style=\"text-align: right;\">\n",
       "      <th></th>\n",
       "      <th>m2_supply</th>\n",
       "    </tr>\n",
       "  </thead>\n",
       "  <tbody>\n",
       "    <tr>\n",
       "      <th>1959-01-01</th>\n",
       "      <td>286.6</td>\n",
       "    </tr>\n",
       "    <tr>\n",
       "      <th>1959-02-01</th>\n",
       "      <td>287.7</td>\n",
       "    </tr>\n",
       "    <tr>\n",
       "      <th>1959-03-01</th>\n",
       "      <td>289.2</td>\n",
       "    </tr>\n",
       "    <tr>\n",
       "      <th>1959-04-01</th>\n",
       "      <td>290.1</td>\n",
       "    </tr>\n",
       "    <tr>\n",
       "      <th>1959-05-01</th>\n",
       "      <td>292.2</td>\n",
       "    </tr>\n",
       "  </tbody>\n",
       "</table>\n",
       "</div>"
      ],
      "text/plain": [
       "            m2_supply\n",
       "1959-01-01      286.6\n",
       "1959-02-01      287.7\n",
       "1959-03-01      289.2\n",
       "1959-04-01      290.1\n",
       "1959-05-01      292.2"
      ]
     },
     "execution_count": 54,
     "metadata": {},
     "output_type": "execute_result"
    }
   ],
   "source": [
    "# Dropping null value\n",
    "m2sl.dropna()\n",
    "m2sl.head()"
   ]
  },
  {
   "cell_type": "markdown",
   "id": "f02f1253",
   "metadata": {},
   "source": [
    "# Obtaining BTC data from Yahoo finance using DataReader function"
   ]
  },
  {
   "cell_type": "code",
   "execution_count": 55,
   "id": "55b7a33d",
   "metadata": {},
   "outputs": [
    {
     "data": {
      "text/html": [
       "<div>\n",
       "<style scoped>\n",
       "    .dataframe tbody tr th:only-of-type {\n",
       "        vertical-align: middle;\n",
       "    }\n",
       "\n",
       "    .dataframe tbody tr th {\n",
       "        vertical-align: top;\n",
       "    }\n",
       "\n",
       "    .dataframe thead th {\n",
       "        text-align: right;\n",
       "    }\n",
       "</style>\n",
       "<table border=\"1\" class=\"dataframe\">\n",
       "  <thead>\n",
       "    <tr style=\"text-align: right;\">\n",
       "      <th></th>\n",
       "      <th>High</th>\n",
       "      <th>Low</th>\n",
       "      <th>Open</th>\n",
       "      <th>Close</th>\n",
       "      <th>Volume</th>\n",
       "      <th>Adj Close</th>\n",
       "    </tr>\n",
       "    <tr>\n",
       "      <th>Date</th>\n",
       "      <th></th>\n",
       "      <th></th>\n",
       "      <th></th>\n",
       "      <th></th>\n",
       "      <th></th>\n",
       "      <th></th>\n",
       "    </tr>\n",
       "  </thead>\n",
       "  <tbody>\n",
       "    <tr>\n",
       "      <th>2014-09-16</th>\n",
       "      <td>468.174011</td>\n",
       "      <td>452.421997</td>\n",
       "      <td>465.864014</td>\n",
       "      <td>457.334015</td>\n",
       "      <td>21056800.0</td>\n",
       "      <td>457.334015</td>\n",
       "    </tr>\n",
       "    <tr>\n",
       "      <th>2014-09-17</th>\n",
       "      <td>456.859985</td>\n",
       "      <td>413.104004</td>\n",
       "      <td>456.859985</td>\n",
       "      <td>424.440002</td>\n",
       "      <td>34483200.0</td>\n",
       "      <td>424.440002</td>\n",
       "    </tr>\n",
       "    <tr>\n",
       "      <th>2014-09-18</th>\n",
       "      <td>427.834991</td>\n",
       "      <td>384.532013</td>\n",
       "      <td>424.102997</td>\n",
       "      <td>394.795990</td>\n",
       "      <td>37919700.0</td>\n",
       "      <td>394.795990</td>\n",
       "    </tr>\n",
       "    <tr>\n",
       "      <th>2014-09-19</th>\n",
       "      <td>423.295990</td>\n",
       "      <td>389.882996</td>\n",
       "      <td>394.673004</td>\n",
       "      <td>408.903992</td>\n",
       "      <td>36863600.0</td>\n",
       "      <td>408.903992</td>\n",
       "    </tr>\n",
       "    <tr>\n",
       "      <th>2014-09-20</th>\n",
       "      <td>412.425995</td>\n",
       "      <td>393.181000</td>\n",
       "      <td>408.084991</td>\n",
       "      <td>398.821014</td>\n",
       "      <td>26580100.0</td>\n",
       "      <td>398.821014</td>\n",
       "    </tr>\n",
       "  </tbody>\n",
       "</table>\n",
       "</div>"
      ],
      "text/plain": [
       "                  High         Low        Open       Close      Volume  \\\n",
       "Date                                                                     \n",
       "2014-09-16  468.174011  452.421997  465.864014  457.334015  21056800.0   \n",
       "2014-09-17  456.859985  413.104004  456.859985  424.440002  34483200.0   \n",
       "2014-09-18  427.834991  384.532013  424.102997  394.795990  37919700.0   \n",
       "2014-09-19  423.295990  389.882996  394.673004  408.903992  36863600.0   \n",
       "2014-09-20  412.425995  393.181000  408.084991  398.821014  26580100.0   \n",
       "\n",
       "             Adj Close  \n",
       "Date                    \n",
       "2014-09-16  457.334015  \n",
       "2014-09-17  424.440002  \n",
       "2014-09-18  394.795990  \n",
       "2014-09-19  408.903992  \n",
       "2014-09-20  398.821014  "
      ]
     },
     "execution_count": 55,
     "metadata": {},
     "output_type": "execute_result"
    }
   ],
   "source": [
    "start = dt.datetime(2010,1,1)\n",
    "end = dt.datetime(2021,7,31)\n",
    "btc_df = pdr.DataReader('BTC-USD','yahoo',start,end)\n",
    "btc_df.head()"
   ]
  },
  {
   "cell_type": "code",
   "execution_count": 56,
   "id": "49178cf3",
   "metadata": {},
   "outputs": [
    {
     "data": {
      "text/html": [
       "<div>\n",
       "<style scoped>\n",
       "    .dataframe tbody tr th:only-of-type {\n",
       "        vertical-align: middle;\n",
       "    }\n",
       "\n",
       "    .dataframe tbody tr th {\n",
       "        vertical-align: top;\n",
       "    }\n",
       "\n",
       "    .dataframe thead th {\n",
       "        text-align: right;\n",
       "    }\n",
       "</style>\n",
       "<table border=\"1\" class=\"dataframe\">\n",
       "  <thead>\n",
       "    <tr style=\"text-align: right;\">\n",
       "      <th></th>\n",
       "      <th>High</th>\n",
       "      <th>Low</th>\n",
       "      <th>Open</th>\n",
       "      <th>Close</th>\n",
       "      <th>Volume</th>\n",
       "      <th>Adj Close</th>\n",
       "    </tr>\n",
       "    <tr>\n",
       "      <th>Date</th>\n",
       "      <th></th>\n",
       "      <th></th>\n",
       "      <th></th>\n",
       "      <th></th>\n",
       "      <th></th>\n",
       "      <th></th>\n",
       "    </tr>\n",
       "  </thead>\n",
       "  <tbody>\n",
       "    <tr>\n",
       "      <th>2014-09-16</th>\n",
       "      <td>468.174011</td>\n",
       "      <td>452.421997</td>\n",
       "      <td>465.864014</td>\n",
       "      <td>457.334015</td>\n",
       "      <td>21056800.0</td>\n",
       "      <td>457.334015</td>\n",
       "    </tr>\n",
       "    <tr>\n",
       "      <th>2014-09-17</th>\n",
       "      <td>456.859985</td>\n",
       "      <td>413.104004</td>\n",
       "      <td>456.859985</td>\n",
       "      <td>424.440002</td>\n",
       "      <td>34483200.0</td>\n",
       "      <td>424.440002</td>\n",
       "    </tr>\n",
       "    <tr>\n",
       "      <th>2014-09-18</th>\n",
       "      <td>427.834991</td>\n",
       "      <td>384.532013</td>\n",
       "      <td>424.102997</td>\n",
       "      <td>394.795990</td>\n",
       "      <td>37919700.0</td>\n",
       "      <td>394.795990</td>\n",
       "    </tr>\n",
       "    <tr>\n",
       "      <th>2014-09-19</th>\n",
       "      <td>423.295990</td>\n",
       "      <td>389.882996</td>\n",
       "      <td>394.673004</td>\n",
       "      <td>408.903992</td>\n",
       "      <td>36863600.0</td>\n",
       "      <td>408.903992</td>\n",
       "    </tr>\n",
       "    <tr>\n",
       "      <th>2014-09-20</th>\n",
       "      <td>412.425995</td>\n",
       "      <td>393.181000</td>\n",
       "      <td>408.084991</td>\n",
       "      <td>398.821014</td>\n",
       "      <td>26580100.0</td>\n",
       "      <td>398.821014</td>\n",
       "    </tr>\n",
       "  </tbody>\n",
       "</table>\n",
       "</div>"
      ],
      "text/plain": [
       "                  High         Low        Open       Close      Volume  \\\n",
       "Date                                                                     \n",
       "2014-09-16  468.174011  452.421997  465.864014  457.334015  21056800.0   \n",
       "2014-09-17  456.859985  413.104004  456.859985  424.440002  34483200.0   \n",
       "2014-09-18  427.834991  384.532013  424.102997  394.795990  37919700.0   \n",
       "2014-09-19  423.295990  389.882996  394.673004  408.903992  36863600.0   \n",
       "2014-09-20  412.425995  393.181000  408.084991  398.821014  26580100.0   \n",
       "\n",
       "             Adj Close  \n",
       "Date                    \n",
       "2014-09-16  457.334015  \n",
       "2014-09-17  424.440002  \n",
       "2014-09-18  394.795990  \n",
       "2014-09-19  408.903992  \n",
       "2014-09-20  398.821014  "
      ]
     },
     "execution_count": 56,
     "metadata": {},
     "output_type": "execute_result"
    }
   ],
   "source": [
    "# Drop null value if any\n",
    "btc_df.dropna()\n",
    "btc_df.head()"
   ]
  },
  {
   "cell_type": "code",
   "execution_count": 57,
   "id": "a05142fc",
   "metadata": {},
   "outputs": [
    {
     "data": {
      "text/html": [
       "<div>\n",
       "<style scoped>\n",
       "    .dataframe tbody tr th:only-of-type {\n",
       "        vertical-align: middle;\n",
       "    }\n",
       "\n",
       "    .dataframe tbody tr th {\n",
       "        vertical-align: top;\n",
       "    }\n",
       "\n",
       "    .dataframe thead th {\n",
       "        text-align: right;\n",
       "    }\n",
       "</style>\n",
       "<table border=\"1\" class=\"dataframe\">\n",
       "  <thead>\n",
       "    <tr style=\"text-align: right;\">\n",
       "      <th></th>\n",
       "      <th>Close</th>\n",
       "      <th>Volume</th>\n",
       "      <th>Adj Close</th>\n",
       "    </tr>\n",
       "    <tr>\n",
       "      <th>Date</th>\n",
       "      <th></th>\n",
       "      <th></th>\n",
       "      <th></th>\n",
       "    </tr>\n",
       "  </thead>\n",
       "  <tbody>\n",
       "    <tr>\n",
       "      <th>2014-09-16</th>\n",
       "      <td>457.334015</td>\n",
       "      <td>21056800.0</td>\n",
       "      <td>457.334015</td>\n",
       "    </tr>\n",
       "    <tr>\n",
       "      <th>2014-09-17</th>\n",
       "      <td>424.440002</td>\n",
       "      <td>34483200.0</td>\n",
       "      <td>424.440002</td>\n",
       "    </tr>\n",
       "    <tr>\n",
       "      <th>2014-09-18</th>\n",
       "      <td>394.795990</td>\n",
       "      <td>37919700.0</td>\n",
       "      <td>394.795990</td>\n",
       "    </tr>\n",
       "    <tr>\n",
       "      <th>2014-09-19</th>\n",
       "      <td>408.903992</td>\n",
       "      <td>36863600.0</td>\n",
       "      <td>408.903992</td>\n",
       "    </tr>\n",
       "    <tr>\n",
       "      <th>2014-09-20</th>\n",
       "      <td>398.821014</td>\n",
       "      <td>26580100.0</td>\n",
       "      <td>398.821014</td>\n",
       "    </tr>\n",
       "  </tbody>\n",
       "</table>\n",
       "</div>"
      ],
      "text/plain": [
       "                 Close      Volume   Adj Close\n",
       "Date                                          \n",
       "2014-09-16  457.334015  21056800.0  457.334015\n",
       "2014-09-17  424.440002  34483200.0  424.440002\n",
       "2014-09-18  394.795990  37919700.0  394.795990\n",
       "2014-09-19  408.903992  36863600.0  408.903992\n",
       "2014-09-20  398.821014  26580100.0  398.821014"
      ]
     },
     "execution_count": 57,
     "metadata": {},
     "output_type": "execute_result"
    }
   ],
   "source": [
    "# Dropping columns High, Low, and Open\n",
    "btc_df.drop(['High','Low','Open'], axis=1, inplace=True)\n",
    "btc_df.head()"
   ]
  },
  {
   "cell_type": "code",
   "execution_count": 58,
   "id": "b2479e90",
   "metadata": {},
   "outputs": [
    {
     "data": {
      "text/html": [
       "<div>\n",
       "<style scoped>\n",
       "    .dataframe tbody tr th:only-of-type {\n",
       "        vertical-align: middle;\n",
       "    }\n",
       "\n",
       "    .dataframe tbody tr th {\n",
       "        vertical-align: top;\n",
       "    }\n",
       "\n",
       "    .dataframe thead th {\n",
       "        text-align: right;\n",
       "    }\n",
       "</style>\n",
       "<table border=\"1\" class=\"dataframe\">\n",
       "  <thead>\n",
       "    <tr style=\"text-align: right;\">\n",
       "      <th></th>\n",
       "      <th>Close</th>\n",
       "    </tr>\n",
       "    <tr>\n",
       "      <th>Date</th>\n",
       "      <th></th>\n",
       "    </tr>\n",
       "  </thead>\n",
       "  <tbody>\n",
       "    <tr>\n",
       "      <th>2014-09-16</th>\n",
       "      <td>457.334015</td>\n",
       "    </tr>\n",
       "    <tr>\n",
       "      <th>2014-09-17</th>\n",
       "      <td>424.440002</td>\n",
       "    </tr>\n",
       "    <tr>\n",
       "      <th>2014-09-18</th>\n",
       "      <td>394.795990</td>\n",
       "    </tr>\n",
       "    <tr>\n",
       "      <th>2014-09-19</th>\n",
       "      <td>408.903992</td>\n",
       "    </tr>\n",
       "    <tr>\n",
       "      <th>2014-09-20</th>\n",
       "      <td>398.821014</td>\n",
       "    </tr>\n",
       "  </tbody>\n",
       "</table>\n",
       "</div>"
      ],
      "text/plain": [
       "                 Close\n",
       "Date                  \n",
       "2014-09-16  457.334015\n",
       "2014-09-17  424.440002\n",
       "2014-09-18  394.795990\n",
       "2014-09-19  408.903992\n",
       "2014-09-20  398.821014"
      ]
     },
     "execution_count": 58,
     "metadata": {},
     "output_type": "execute_result"
    }
   ],
   "source": [
    "# Dropping columns Volume, and Adj Close\n",
    "btc_df.drop(['Volume','Adj Close'], axis=1, inplace=True)\n",
    "btc_df.head()"
   ]
  },
  {
   "cell_type": "markdown",
   "id": "ee28e095",
   "metadata": {},
   "source": [
    "# Merging Money supply and BTC price to single Dataframe"
   ]
  },
  {
   "cell_type": "code",
   "execution_count": 59,
   "id": "f604aa88",
   "metadata": {},
   "outputs": [
    {
     "data": {
      "text/html": [
       "<div>\n",
       "<style scoped>\n",
       "    .dataframe tbody tr th:only-of-type {\n",
       "        vertical-align: middle;\n",
       "    }\n",
       "\n",
       "    .dataframe tbody tr th {\n",
       "        vertical-align: top;\n",
       "    }\n",
       "\n",
       "    .dataframe thead th {\n",
       "        text-align: right;\n",
       "    }\n",
       "</style>\n",
       "<table border=\"1\" class=\"dataframe\">\n",
       "  <thead>\n",
       "    <tr style=\"text-align: right;\">\n",
       "      <th></th>\n",
       "      <th>m2_supply</th>\n",
       "      <th>Close</th>\n",
       "    </tr>\n",
       "  </thead>\n",
       "  <tbody>\n",
       "    <tr>\n",
       "      <th>2014-10-01</th>\n",
       "      <td>11562.1</td>\n",
       "      <td>375.071991</td>\n",
       "    </tr>\n",
       "    <tr>\n",
       "      <th>2014-11-01</th>\n",
       "      <td>11598.2</td>\n",
       "      <td>325.748993</td>\n",
       "    </tr>\n",
       "    <tr>\n",
       "      <th>2014-12-01</th>\n",
       "      <td>11677.5</td>\n",
       "      <td>379.244995</td>\n",
       "    </tr>\n",
       "    <tr>\n",
       "      <th>2015-01-01</th>\n",
       "      <td>11747.4</td>\n",
       "      <td>314.248993</td>\n",
       "    </tr>\n",
       "    <tr>\n",
       "      <th>2015-02-01</th>\n",
       "      <td>11875.2</td>\n",
       "      <td>226.972000</td>\n",
       "    </tr>\n",
       "  </tbody>\n",
       "</table>\n",
       "</div>"
      ],
      "text/plain": [
       "            m2_supply       Close\n",
       "2014-10-01    11562.1  375.071991\n",
       "2014-11-01    11598.2  325.748993\n",
       "2014-12-01    11677.5  379.244995\n",
       "2015-01-01    11747.4  314.248993\n",
       "2015-02-01    11875.2  226.972000"
      ]
     },
     "execution_count": 59,
     "metadata": {},
     "output_type": "execute_result"
    }
   ],
   "source": [
    "m2sl_btc = pd.concat([m2sl,btc_df], axis=1, join='inner')\n",
    "m2sl_btc.head()"
   ]
  },
  {
   "cell_type": "markdown",
   "id": "7b5eacbe",
   "metadata": {},
   "source": [
    "## Exporting Dataframe to .csv file"
   ]
  },
  {
   "cell_type": "code",
   "execution_count": 60,
   "id": "360247c8",
   "metadata": {},
   "outputs": [],
   "source": [
    "m2sl_btc.to_csv(r'Resources/pd_m2sl_btc.csv', index = False, header=True)"
   ]
  },
  {
   "cell_type": "markdown",
   "id": "f8a85904",
   "metadata": {},
   "source": [
    "## Cleaning up data"
   ]
  },
  {
   "cell_type": "code",
   "execution_count": 61,
   "id": "b78a9ef8",
   "metadata": {},
   "outputs": [
    {
     "data": {
      "text/html": [
       "<div>\n",
       "<style scoped>\n",
       "    .dataframe tbody tr th:only-of-type {\n",
       "        vertical-align: middle;\n",
       "    }\n",
       "\n",
       "    .dataframe tbody tr th {\n",
       "        vertical-align: top;\n",
       "    }\n",
       "\n",
       "    .dataframe thead th {\n",
       "        text-align: right;\n",
       "    }\n",
       "</style>\n",
       "<table border=\"1\" class=\"dataframe\">\n",
       "  <thead>\n",
       "    <tr style=\"text-align: right;\">\n",
       "      <th></th>\n",
       "      <th>m2_supply</th>\n",
       "      <th>Close</th>\n",
       "    </tr>\n",
       "  </thead>\n",
       "  <tbody>\n",
       "    <tr>\n",
       "      <th>2014-10-01</th>\n",
       "      <td>11562.1</td>\n",
       "      <td>375.071991</td>\n",
       "    </tr>\n",
       "    <tr>\n",
       "      <th>2014-11-01</th>\n",
       "      <td>11598.2</td>\n",
       "      <td>325.748993</td>\n",
       "    </tr>\n",
       "    <tr>\n",
       "      <th>2014-12-01</th>\n",
       "      <td>11677.5</td>\n",
       "      <td>379.244995</td>\n",
       "    </tr>\n",
       "    <tr>\n",
       "      <th>2015-01-01</th>\n",
       "      <td>11747.4</td>\n",
       "      <td>314.248993</td>\n",
       "    </tr>\n",
       "    <tr>\n",
       "      <th>2015-02-01</th>\n",
       "      <td>11875.2</td>\n",
       "      <td>226.972000</td>\n",
       "    </tr>\n",
       "  </tbody>\n",
       "</table>\n",
       "</div>"
      ],
      "text/plain": [
       "            m2_supply       Close\n",
       "2014-10-01    11562.1  375.071991\n",
       "2014-11-01    11598.2  325.748993\n",
       "2014-12-01    11677.5  379.244995\n",
       "2015-01-01    11747.4  314.248993\n",
       "2015-02-01    11875.2  226.972000"
      ]
     },
     "execution_count": 61,
     "metadata": {},
     "output_type": "execute_result"
    }
   ],
   "source": [
    "m2sl_btc.rename(columns={0:\"m2_supply\"}, inplace=True)\n",
    "m2sl_btc.head()"
   ]
  },
  {
   "cell_type": "code",
   "execution_count": 62,
   "id": "edc009a4",
   "metadata": {},
   "outputs": [
    {
     "data": {
      "text/html": [
       "<div>\n",
       "<style scoped>\n",
       "    .dataframe tbody tr th:only-of-type {\n",
       "        vertical-align: middle;\n",
       "    }\n",
       "\n",
       "    .dataframe tbody tr th {\n",
       "        vertical-align: top;\n",
       "    }\n",
       "\n",
       "    .dataframe thead th {\n",
       "        text-align: right;\n",
       "    }\n",
       "</style>\n",
       "<table border=\"1\" class=\"dataframe\">\n",
       "  <thead>\n",
       "    <tr style=\"text-align: right;\">\n",
       "      <th></th>\n",
       "      <th>m2_supply</th>\n",
       "      <th>btc_price</th>\n",
       "    </tr>\n",
       "  </thead>\n",
       "  <tbody>\n",
       "    <tr>\n",
       "      <th>2014-10-01</th>\n",
       "      <td>11562.1</td>\n",
       "      <td>375.071991</td>\n",
       "    </tr>\n",
       "    <tr>\n",
       "      <th>2014-11-01</th>\n",
       "      <td>11598.2</td>\n",
       "      <td>325.748993</td>\n",
       "    </tr>\n",
       "    <tr>\n",
       "      <th>2014-12-01</th>\n",
       "      <td>11677.5</td>\n",
       "      <td>379.244995</td>\n",
       "    </tr>\n",
       "    <tr>\n",
       "      <th>2015-01-01</th>\n",
       "      <td>11747.4</td>\n",
       "      <td>314.248993</td>\n",
       "    </tr>\n",
       "    <tr>\n",
       "      <th>2015-02-01</th>\n",
       "      <td>11875.2</td>\n",
       "      <td>226.972000</td>\n",
       "    </tr>\n",
       "  </tbody>\n",
       "</table>\n",
       "</div>"
      ],
      "text/plain": [
       "            m2_supply   btc_price\n",
       "2014-10-01    11562.1  375.071991\n",
       "2014-11-01    11598.2  325.748993\n",
       "2014-12-01    11677.5  379.244995\n",
       "2015-01-01    11747.4  314.248993\n",
       "2015-02-01    11875.2  226.972000"
      ]
     },
     "execution_count": 62,
     "metadata": {},
     "output_type": "execute_result"
    }
   ],
   "source": [
    "# Changing column name from close to btc_price\n",
    "m2sl_btc = m2sl_btc.rename(columns={\"Close\":\"btc_price\"})\n",
    "m2sl_btc.head()"
   ]
  },
  {
   "cell_type": "code",
   "execution_count": 63,
   "id": "3d0fcdfa",
   "metadata": {},
   "outputs": [
    {
     "data": {
      "text/html": [
       "<div>\n",
       "<style scoped>\n",
       "    .dataframe tbody tr th:only-of-type {\n",
       "        vertical-align: middle;\n",
       "    }\n",
       "\n",
       "    .dataframe tbody tr th {\n",
       "        vertical-align: top;\n",
       "    }\n",
       "\n",
       "    .dataframe thead th {\n",
       "        text-align: right;\n",
       "    }\n",
       "</style>\n",
       "<table border=\"1\" class=\"dataframe\">\n",
       "  <thead>\n",
       "    <tr style=\"text-align: right;\">\n",
       "      <th></th>\n",
       "      <th>m2_supply</th>\n",
       "      <th>btc_price</th>\n",
       "    </tr>\n",
       "  </thead>\n",
       "  <tbody>\n",
       "    <tr>\n",
       "      <th>2014-10-01</th>\n",
       "      <td>11562.1</td>\n",
       "      <td>375.071991</td>\n",
       "    </tr>\n",
       "    <tr>\n",
       "      <th>2014-11-01</th>\n",
       "      <td>11598.2</td>\n",
       "      <td>325.748993</td>\n",
       "    </tr>\n",
       "    <tr>\n",
       "      <th>2014-12-01</th>\n",
       "      <td>11677.5</td>\n",
       "      <td>379.244995</td>\n",
       "    </tr>\n",
       "    <tr>\n",
       "      <th>2015-01-01</th>\n",
       "      <td>11747.4</td>\n",
       "      <td>314.248993</td>\n",
       "    </tr>\n",
       "    <tr>\n",
       "      <th>2015-02-01</th>\n",
       "      <td>11875.2</td>\n",
       "      <td>226.972000</td>\n",
       "    </tr>\n",
       "  </tbody>\n",
       "</table>\n",
       "</div>"
      ],
      "text/plain": [
       "            m2_supply   btc_price\n",
       "2014-10-01    11562.1  375.071991\n",
       "2014-11-01    11598.2  325.748993\n",
       "2014-12-01    11677.5  379.244995\n",
       "2015-01-01    11747.4  314.248993\n",
       "2015-02-01    11875.2  226.972000"
      ]
     },
     "execution_count": 63,
     "metadata": {},
     "output_type": "execute_result"
    }
   ],
   "source": [
    "# Dropping null value\n",
    "m2sl_btc.dropna()\n",
    "m2sl_btc.head()"
   ]
  },
  {
   "cell_type": "markdown",
   "id": "4c51a9af",
   "metadata": {},
   "source": [
    "# Data Visualization"
   ]
  },
  {
   "cell_type": "code",
   "execution_count": 64,
   "id": "99cfaa62",
   "metadata": {},
   "outputs": [
    {
     "data": {},
     "metadata": {},
     "output_type": "display_data"
    },
    {
     "data": {
      "application/vnd.holoviews_exec.v0+json": "",
      "text/html": [
       "<div id='1002'>\n",
       "\n",
       "\n",
       "\n",
       "\n",
       "\n",
       "  <div class=\"bk-root\" id=\"03d25fd9-235b-44df-bca4-dd3ddc5a1f5d\" data-root-id=\"1002\"></div>\n",
       "</div>\n",
       "<script type=\"application/javascript\">(function(root) {\n",
       "  function embed_document(root) {\n",
       "    var docs_json = {\"0cd320ae-0134-423d-b640-2118a4a5d590\":{\"defs\":[{\"extends\":null,\"module\":null,\"name\":\"ReactiveHTML1\",\"overrides\":[],\"properties\":[]},{\"extends\":null,\"module\":null,\"name\":\"FlexBox1\",\"overrides\":[],\"properties\":[{\"default\":\"flex-start\",\"kind\":null,\"name\":\"align_content\"},{\"default\":\"flex-start\",\"kind\":null,\"name\":\"align_items\"},{\"default\":\"row\",\"kind\":null,\"name\":\"flex_direction\"},{\"default\":\"wrap\",\"kind\":null,\"name\":\"flex_wrap\"},{\"default\":\"flex-start\",\"kind\":null,\"name\":\"justify_content\"}]},{\"extends\":null,\"module\":null,\"name\":\"TemplateActions1\",\"overrides\":[],\"properties\":[{\"default\":0,\"kind\":null,\"name\":\"open_modal\"},{\"default\":0,\"kind\":null,\"name\":\"close_modal\"}]},{\"extends\":null,\"module\":null,\"name\":\"MaterialTemplateActions1\",\"overrides\":[],\"properties\":[{\"default\":0,\"kind\":null,\"name\":\"open_modal\"},{\"default\":0,\"kind\":null,\"name\":\"close_modal\"}]}],\"roots\":{\"references\":[{\"attributes\":{},\"id\":\"1072\",\"type\":\"UnionRenderers\"},{\"attributes\":{},\"id\":\"1027\",\"type\":\"WheelZoomTool\"},{\"attributes\":{\"base\":24,\"mantissas\":[1,2,4,6,8,12],\"max_interval\":43200000.0,\"min_interval\":3600000.0,\"num_minor_ticks\":0},\"id\":\"1061\",\"type\":\"AdaptiveTicker\"},{\"attributes\":{},\"id\":\"1039\",\"type\":\"AllLabels\"},{\"attributes\":{},\"id\":\"1029\",\"type\":\"ResetTool\"},{\"attributes\":{\"overlay\":{\"id\":\"1030\"}},\"id\":\"1028\",\"type\":\"BoxZoomTool\"},{\"attributes\":{},\"id\":\"1078\",\"type\":\"Selection\"},{\"attributes\":{\"margin\":[5,5,5,5],\"name\":\"HSpacer01654\",\"sizing_mode\":\"stretch_width\"},\"id\":\"1327\",\"type\":\"Spacer\"},{\"attributes\":{\"line_color\":\"#30a2da\",\"line_width\":2,\"x\":{\"field\":\"index\"},\"y\":{\"field\":\"value\"}},\"id\":\"1076\",\"type\":\"Line\"},{\"attributes\":{\"line_color\":\"#fc4f30\",\"line_width\":2,\"x\":{\"field\":\"index\"},\"y\":{\"field\":\"value\"}},\"id\":\"1110\",\"type\":\"Line\"},{\"attributes\":{\"base\":60,\"mantissas\":[1,2,5,10,15,20,30],\"max_interval\":1800000.0,\"min_interval\":1000.0,\"num_minor_ticks\":0},\"id\":\"1060\",\"type\":\"AdaptiveTicker\"},{\"attributes\":{\"label\":{\"value\":\"btc_price\"},\"renderers\":[{\"id\":\"1083\"}]},\"id\":\"1109\",\"type\":\"LegendItem\"},{\"attributes\":{\"months\":[0,1,2,3,4,5,6,7,8,9,10,11]},\"id\":\"1066\",\"type\":\"MonthsTicker\"},{\"attributes\":{\"num_minor_ticks\":5,\"tickers\":[{\"id\":\"1059\"},{\"id\":\"1060\"},{\"id\":\"1061\"},{\"id\":\"1062\"},{\"id\":\"1063\"},{\"id\":\"1064\"},{\"id\":\"1065\"},{\"id\":\"1066\"},{\"id\":\"1067\"},{\"id\":\"1068\"},{\"id\":\"1069\"},{\"id\":\"1070\"}]},\"id\":\"1018\",\"type\":\"DatetimeTicker\"},{\"attributes\":{\"days\":[1,4,7,10,13,16,19,22,25,28]},\"id\":\"1063\",\"type\":\"DaysTicker\"},{\"attributes\":{\"days\":[1,8,15,22]},\"id\":\"1064\",\"type\":\"DaysTicker\"},{\"attributes\":{\"end\":65300.16345062256,\"reset_end\":65300.16345062256,\"reset_start\":-5690.047956848145,\"start\":-5690.047956848145,\"tags\":[[[\"value\",\"value\",null]]]},\"id\":\"1005\",\"type\":\"Range1d\"},{\"attributes\":{\"line_alpha\":0.1,\"line_color\":\"#30a2da\",\"line_width\":2,\"x\":{\"field\":\"index\"},\"y\":{\"field\":\"value\"}},\"id\":\"1048\",\"type\":\"Line\"},{\"attributes\":{\"days\":[1,15]},\"id\":\"1065\",\"type\":\"DaysTicker\"},{\"attributes\":{\"axis_label\":\"\",\"formatter\":{\"id\":\"1040\"},\"major_label_policy\":{\"id\":\"1039\"},\"ticker\":{\"id\":\"1018\"}},\"id\":\"1017\",\"type\":\"DatetimeAxis\"},{\"attributes\":{},\"id\":\"1015\",\"type\":\"LinearScale\"},{\"attributes\":{\"click_policy\":\"mute\",\"items\":[{\"id\":\"1075\"},{\"id\":\"1109\"}],\"location\":[0,0],\"title\":\"Variable\"},\"id\":\"1074\",\"type\":\"Legend\"},{\"attributes\":{\"line_alpha\":0.2,\"line_color\":\"#fc4f30\",\"line_width\":2,\"x\":{\"field\":\"index\"},\"y\":{\"field\":\"value\"}},\"id\":\"1082\",\"type\":\"Line\"},{\"attributes\":{\"axis_label\":\"\",\"formatter\":{\"id\":\"1043\"},\"major_label_policy\":{\"id\":\"1042\"},\"ticker\":{\"id\":\"1022\"}},\"id\":\"1021\",\"type\":\"LinearAxis\"},{\"attributes\":{},\"id\":\"1026\",\"type\":\"PanTool\"},{\"attributes\":{\"below\":[{\"id\":\"1017\"}],\"center\":[{\"id\":\"1020\"},{\"id\":\"1024\"}],\"height\":300,\"left\":[{\"id\":\"1021\"}],\"margin\":[5,5,5,5],\"min_border_bottom\":10,\"min_border_left\":10,\"min_border_right\":10,\"min_border_top\":10,\"renderers\":[{\"id\":\"1050\"},{\"id\":\"1083\"}],\"right\":[{\"id\":\"1074\"}],\"sizing_mode\":\"fixed\",\"title\":{\"id\":\"1009\"},\"toolbar\":{\"id\":\"1031\"},\"width\":700,\"x_range\":{\"id\":\"1004\"},\"x_scale\":{\"id\":\"1013\"},\"y_range\":{\"id\":\"1005\"},\"y_scale\":{\"id\":\"1015\"}},\"id\":\"1008\",\"subtype\":\"Figure\",\"type\":\"Plot\"},{\"attributes\":{\"axis\":{\"id\":\"1017\"},\"grid_line_color\":null,\"ticker\":null},\"id\":\"1020\",\"type\":\"Grid\"},{\"attributes\":{\"months\":[0,2,4,6,8,10]},\"id\":\"1067\",\"type\":\"MonthsTicker\"},{\"attributes\":{\"children\":[{\"id\":\"1003\"},{\"id\":\"1008\"},{\"id\":\"1327\"}],\"margin\":[0,0,0,0],\"name\":\"Row01649\",\"tags\":[\"embedded\"]},\"id\":\"1002\",\"type\":\"Row\"},{\"attributes\":{\"end\":1622505600000.0,\"reset_end\":1622505600000.0,\"reset_start\":1412121600000.0,\"start\":1412121600000.0,\"tags\":[[[\"index\",\"index\",null]]]},\"id\":\"1004\",\"type\":\"Range1d\"},{\"attributes\":{},\"id\":\"1022\",\"type\":\"BasicTicker\"},{\"attributes\":{},\"id\":\"1040\",\"type\":\"DatetimeTickFormatter\"},{\"attributes\":{\"data_source\":{\"id\":\"1044\"},\"glyph\":{\"id\":\"1047\"},\"hover_glyph\":null,\"muted_glyph\":{\"id\":\"1049\"},\"nonselection_glyph\":{\"id\":\"1048\"},\"selection_glyph\":{\"id\":\"1076\"},\"view\":{\"id\":\"1051\"}},\"id\":\"1050\",\"type\":\"GlyphRenderer\"},{\"attributes\":{\"axis\":{\"id\":\"1021\"},\"dimension\":1,\"grid_line_color\":null,\"ticker\":null},\"id\":\"1024\",\"type\":\"Grid\"},{\"attributes\":{\"line_alpha\":0.2,\"line_color\":\"#30a2da\",\"line_width\":2,\"x\":{\"field\":\"index\"},\"y\":{\"field\":\"value\"}},\"id\":\"1049\",\"type\":\"Line\"},{\"attributes\":{\"months\":[0,4,8]},\"id\":\"1068\",\"type\":\"MonthsTicker\"},{\"attributes\":{\"line_alpha\":0.1,\"line_color\":\"#fc4f30\",\"line_width\":2,\"x\":{\"field\":\"index\"},\"y\":{\"field\":\"value\"}},\"id\":\"1081\",\"type\":\"Line\"},{\"attributes\":{\"callback\":null,\"formatters\":{\"@{index}\":\"datetime\"},\"renderers\":[{\"id\":\"1050\"},{\"id\":\"1083\"}],\"tags\":[\"hv_created\"],\"tooltips\":[[\"Variable\",\"@{Variable}\"],[\"index\",\"@{index}{%F %T}\"],[\"value\",\"@{value}\"]]},\"id\":\"1006\",\"type\":\"HoverTool\"},{\"attributes\":{},\"id\":\"1107\",\"type\":\"UnionRenderers\"},{\"attributes\":{\"bottom_units\":\"screen\",\"fill_alpha\":0.5,\"fill_color\":\"lightgrey\",\"left_units\":\"screen\",\"level\":\"overlay\",\"line_alpha\":1.0,\"line_color\":\"black\",\"line_dash\":[4,4],\"line_width\":2,\"right_units\":\"screen\",\"syncable\":false,\"top_units\":\"screen\"},\"id\":\"1030\",\"type\":\"BoxAnnotation\"},{\"attributes\":{},\"id\":\"1013\",\"type\":\"LinearScale\"},{\"attributes\":{\"days\":[1,2,3,4,5,6,7,8,9,10,11,12,13,14,15,16,17,18,19,20,21,22,23,24,25,26,27,28,29,30,31]},\"id\":\"1062\",\"type\":\"DaysTicker\"},{\"attributes\":{\"months\":[0,6]},\"id\":\"1069\",\"type\":\"MonthsTicker\"},{\"attributes\":{\"line_color\":\"#30a2da\",\"line_width\":2,\"x\":{\"field\":\"index\"},\"y\":{\"field\":\"value\"}},\"id\":\"1047\",\"type\":\"Line\"},{\"attributes\":{\"source\":{\"id\":\"1077\"}},\"id\":\"1084\",\"type\":\"CDSView\"},{\"attributes\":{\"source\":{\"id\":\"1044\"}},\"id\":\"1051\",\"type\":\"CDSView\"},{\"attributes\":{\"data\":{\"Variable\":[\"btc_price\",\"btc_price\",\"btc_price\",\"btc_price\",\"btc_price\",\"btc_price\",\"btc_price\",\"btc_price\",\"btc_price\",\"btc_price\",\"btc_price\",\"btc_price\",\"btc_price\",\"btc_price\",\"btc_price\",\"btc_price\",\"btc_price\",\"btc_price\",\"btc_price\",\"btc_price\",\"btc_price\",\"btc_price\",\"btc_price\",\"btc_price\",\"btc_price\",\"btc_price\",\"btc_price\",\"btc_price\",\"btc_price\",\"btc_price\",\"btc_price\",\"btc_price\",\"btc_price\",\"btc_price\",\"btc_price\",\"btc_price\",\"btc_price\",\"btc_price\",\"btc_price\",\"btc_price\",\"btc_price\",\"btc_price\",\"btc_price\",\"btc_price\",\"btc_price\",\"btc_price\",\"btc_price\",\"btc_price\",\"btc_price\",\"btc_price\",\"btc_price\",\"btc_price\",\"btc_price\",\"btc_price\",\"btc_price\",\"btc_price\",\"btc_price\",\"btc_price\",\"btc_price\",\"btc_price\",\"btc_price\",\"btc_price\",\"btc_price\",\"btc_price\",\"btc_price\",\"btc_price\",\"btc_price\",\"btc_price\",\"btc_price\",\"btc_price\",\"btc_price\",\"btc_price\",\"btc_price\",\"btc_price\",\"btc_price\",\"btc_price\",\"btc_price\",\"btc_price\",\"btc_price\",\"btc_price\",\"btc_price\"],\"index\":{\"__ndarray__\":\"AAAAGpCMdEIAAEBsipZ0QgAAwFgyoHRCAAAAqyyqdEIAAED9JrR0QgAAQB4qvXRCAACAcCTHdEIAAABdzNB0QgAAQK/G2nRCAADAm27kdEIAAADuaO50QgAAQEBj+HRCAADALAsCdUIAAAB/BQx1QgAAgGutFXVCAADAvacfdUIAAAAQoil1QgAAwJb3MnVCAAAA6fE8dUIAAIDVmUZ1QgAAwCeUUHVCAABAFDxadUIAAIBmNmR1QgAAwLgwbnVCAABApdh3dUIAAID30oF1QgAAAOR6i3VCAABANnWVdUIAAICIb591QgAAgKlyqHVCAADA+2yydUIAAEDoFLx1QgAAgDoPxnVCAAAAJ7fPdUIAAEB5sdl1QgAAgMur43VCAAAAuFPtdUIAAEAKTvd1QgAAwPb1AHZCAAAASfAKdkIAAECb6hR2QgAAQLztHXZCAACADugndkIAAAD7jzF2QgAAQE2KO3ZCAADAOTJFdkIAAACMLE92QgAAQN4mWXZCAADAys5idkIAAAAdyWx2QgAAgAlxdnZCAADAW2uAdkIAAACuZYp2QgAAAM9ok3ZCAABAIWOddkIAAMANC6d2QgAAAGAFsXZCAACATK26dkIAAMCep8R2QgAAAPGhznZCAACA3UnYdkIAAMAvROJ2QgAAQBzs63ZCAACAbub1dkIAAMDA4P92QgAAgEc2CXdCAADAmTATd0IAAECG2Bx3QgAAgNjSJndCAAAAxXowd0IAAEAXdTp3QgAAgGlvRHdCAAAAVhdOd0IAAECoEVh3QgAAwJS5YXdCAAAA57Nrd0IAAEA5rnV3QgAAQFqxfndCAACArKuId0IAAACZU5J3QgAAQOtNnHdC\",\"dtype\":\"float64\",\"order\":\"little\",\"shape\":[81]},\"value\":{\"__ndarray__\":\"AAAA4CZxd0AAAADg+1t0QAAAAIDrs3dAAAAA4Pujc0AAAACgGl9sQAAAAGA7Q3BAAAAAACmgb0AAAACAwl1tQAAAACCyOWxAAAAAIC/tb0AAAAAA06lxQAAAAIAWqWxAAAAAQGCpbUAAAABg5VZ0QAAAAODOp3ZAAAAAIFgle0AAAABg5VB3QAAAAMD3MXtAAAAAwPdNekAAAABAtMp7QAAAAKDGz4BAAAAAwJ39hUAAAABguBuBQAAAAMBL/IFAAAAA4CIXg0AAAAAgWM6GQAAAACAxpodAAAAAoJkyj0AAAAAgL+iOQAAAAAAAGpNAAAAAIK44kUAAAACgR7OWQAAAAKAZcaNAAAAAoPCUo0AAAAAAVy2lQAAAACDF4rFAAAAA4FE5sUAAAABgT2+6QAAAAMDMb8VAAAAAoJmsykAAAAAgRenBQAAAAACAY8VAAAAAwMyru0AAAADA9QnCQAAAAEBz271AAAAAIC7WuUAAAABgJo+9QAAAAGC4aLxAAAAAoBmcuUAAAACgx+m4QAAAAACsdrBAAAAAQAoHrkAAAAAA5D+rQAAAAOAqJ65AAAAAwOAPs0AAAACgSIG1QAAAAKB6E8FAAAAAwNYYxUAAAABgFovEQAAAAGBhNcRAAAAAYIVkwEAAAABgjRbCQAAAAOBKAL1AAAAAoCwgvEAAAAAAcFjCQAAAACA6ucBAAAAA4J+JukAAAABgTI7BQAAAAODmnMJAAAAAgLTRwUAAAACgzpbFQAAAAGAES8ZAAAAAAJWsxEAAAAAAjtTKQAAAAOC/XNJAAAAAwImv3EAAAACgJWDgQAAAAMDnO+hAAAAAAAr/7EAAAACA4qbrQAAAAMDlWOJA\",\"dtype\":\"float64\",\"order\":\"little\",\"shape\":[81]}},\"selected\":{\"id\":\"1078\"},\"selection_policy\":{\"id\":\"1107\"}},\"id\":\"1077\",\"type\":\"ColumnDataSource\"},{\"attributes\":{\"line_color\":\"#fc4f30\",\"line_width\":2,\"x\":{\"field\":\"index\"},\"y\":{\"field\":\"value\"}},\"id\":\"1080\",\"type\":\"Line\"},{\"attributes\":{\"mantissas\":[1,2,5],\"max_interval\":500.0,\"num_minor_ticks\":0},\"id\":\"1059\",\"type\":\"AdaptiveTicker\"},{\"attributes\":{\"margin\":[5,5,5,5],\"name\":\"HSpacer01653\",\"sizing_mode\":\"stretch_width\"},\"id\":\"1003\",\"type\":\"Spacer\"},{\"attributes\":{},\"id\":\"1070\",\"type\":\"YearsTicker\"},{\"attributes\":{},\"id\":\"1043\",\"type\":\"BasicTickFormatter\"},{\"attributes\":{},\"id\":\"1045\",\"type\":\"Selection\"},{\"attributes\":{\"text_color\":\"black\",\"text_font_size\":\"12pt\"},\"id\":\"1009\",\"type\":\"Title\"},{\"attributes\":{\"active_multi\":null,\"tools\":[{\"id\":\"1006\"},{\"id\":\"1025\"},{\"id\":\"1026\"},{\"id\":\"1027\"},{\"id\":\"1028\"},{\"id\":\"1029\"}]},\"id\":\"1031\",\"type\":\"Toolbar\"},{\"attributes\":{},\"id\":\"1042\",\"type\":\"AllLabels\"},{\"attributes\":{\"label\":{\"value\":\"m2_supply\"},\"renderers\":[{\"id\":\"1050\"}]},\"id\":\"1075\",\"type\":\"LegendItem\"},{\"attributes\":{},\"id\":\"1025\",\"type\":\"SaveTool\"},{\"attributes\":{\"data_source\":{\"id\":\"1077\"},\"glyph\":{\"id\":\"1080\"},\"hover_glyph\":null,\"muted_glyph\":{\"id\":\"1082\"},\"nonselection_glyph\":{\"id\":\"1081\"},\"selection_glyph\":{\"id\":\"1110\"},\"view\":{\"id\":\"1084\"}},\"id\":\"1083\",\"type\":\"GlyphRenderer\"},{\"attributes\":{\"data\":{\"Variable\":[\"m2_supply\",\"m2_supply\",\"m2_supply\",\"m2_supply\",\"m2_supply\",\"m2_supply\",\"m2_supply\",\"m2_supply\",\"m2_supply\",\"m2_supply\",\"m2_supply\",\"m2_supply\",\"m2_supply\",\"m2_supply\",\"m2_supply\",\"m2_supply\",\"m2_supply\",\"m2_supply\",\"m2_supply\",\"m2_supply\",\"m2_supply\",\"m2_supply\",\"m2_supply\",\"m2_supply\",\"m2_supply\",\"m2_supply\",\"m2_supply\",\"m2_supply\",\"m2_supply\",\"m2_supply\",\"m2_supply\",\"m2_supply\",\"m2_supply\",\"m2_supply\",\"m2_supply\",\"m2_supply\",\"m2_supply\",\"m2_supply\",\"m2_supply\",\"m2_supply\",\"m2_supply\",\"m2_supply\",\"m2_supply\",\"m2_supply\",\"m2_supply\",\"m2_supply\",\"m2_supply\",\"m2_supply\",\"m2_supply\",\"m2_supply\",\"m2_supply\",\"m2_supply\",\"m2_supply\",\"m2_supply\",\"m2_supply\",\"m2_supply\",\"m2_supply\",\"m2_supply\",\"m2_supply\",\"m2_supply\",\"m2_supply\",\"m2_supply\",\"m2_supply\",\"m2_supply\",\"m2_supply\",\"m2_supply\",\"m2_supply\",\"m2_supply\",\"m2_supply\",\"m2_supply\",\"m2_supply\",\"m2_supply\",\"m2_supply\",\"m2_supply\",\"m2_supply\",\"m2_supply\",\"m2_supply\",\"m2_supply\",\"m2_supply\",\"m2_supply\",\"m2_supply\"],\"index\":{\"__ndarray__\":\"AAAAGpCMdEIAAEBsipZ0QgAAwFgyoHRCAAAAqyyqdEIAAED9JrR0QgAAQB4qvXRCAACAcCTHdEIAAABdzNB0QgAAQK/G2nRCAADAm27kdEIAAADuaO50QgAAQEBj+HRCAADALAsCdUIAAAB/BQx1QgAAgGutFXVCAADAvacfdUIAAAAQoil1QgAAwJb3MnVCAAAA6fE8dUIAAIDVmUZ1QgAAwCeUUHVCAABAFDxadUIAAIBmNmR1QgAAwLgwbnVCAABApdh3dUIAAID30oF1QgAAAOR6i3VCAABANnWVdUIAAICIb591QgAAgKlyqHVCAADA+2yydUIAAEDoFLx1QgAAgDoPxnVCAAAAJ7fPdUIAAEB5sdl1QgAAgMur43VCAAAAuFPtdUIAAEAKTvd1QgAAwPb1AHZCAAAASfAKdkIAAECb6hR2QgAAQLztHXZCAACADugndkIAAAD7jzF2QgAAQE2KO3ZCAADAOTJFdkIAAACMLE92QgAAQN4mWXZCAADAys5idkIAAAAdyWx2QgAAgAlxdnZCAADAW2uAdkIAAACuZYp2QgAAAM9ok3ZCAABAIWOddkIAAMANC6d2QgAAAGAFsXZCAACATK26dkIAAMCep8R2QgAAAPGhznZCAACA3UnYdkIAAMAvROJ2QgAAQBzs63ZCAACAbub1dkIAAMDA4P92QgAAgEc2CXdCAADAmTATd0IAAECG2Bx3QgAAgNjSJndCAAAAxXowd0IAAEAXdTp3QgAAgGlvRHdCAAAAVhdOd0IAAECoEVh3QgAAwJS5YXdCAAAA57Nrd0IAAEA5rnV3QgAAQFqxfndCAACArKuId0IAAACZU5J3QgAAQOtNnHdC\",\"dtype\":\"float64\",\"order\":\"little\",\"shape\":[81]},\"value\":{\"__ndarray__\":\"zczMzAyVxkCamZmZGafGQAAAAADAzsZAMzMzM7PxxkCamZmZmTHHQGZmZmbmOcdAzczMzIxNx0AzMzMzs1zHQAAAAABAc8dAMzMzM/OLx0DNzMzMTKTHQM3MzMxMv8dAAAAAAEDSx0AzMzMzc/zHQGZmZmYmHMhAMzMzM/NdyEAzMzMzc4bIQM3MzMyMpshAAAAAAMDOyEBmZmZmJvDIQDMzMzOzEclAAAAAAAAvyUAAAAAAwFbJQGZmZmZmdMlAzczMzMyYyUCamZmZGb7JQGZmZmYm0slAZmZmZqb3yUAzMzMz8xrKQJqZmZmZPcpAmpmZmZlaykAAAAAAAHTKQGZmZmamgcpAzczMzAyeykDNzMzMjLbKQJqZmZlZy8pAmpmZmdnlykDNzMzMDPfKQJqZmZlZEctAzczMzAway0CamZmZWS/LQM3MzMyMS8tAAAAAAMBay0DNzMzMTHvLQGZmZmYmmctAMzMzM7Ony0BmZmZm5rzLQDMzMzMzzMtAmpmZmdnPy0BmZmZmJtnLQJqZmZmZFMxAZmZmZmY3zEBmZmZm5kzMQJqZmZlZZMxAmpmZmVl2zEAAAAAAQKjMQJqZmZmZ48xAzczMzAwHzUBmZmZmZi3NQM3MzMwMW81AmpmZmVmazUAzMzMzM8vNQM3MzMyM8M1AAAAAAAAZzkAzMzMzszjOQGZmZmYmR89AmpmZmbmk0EAAAAAAQHnRQGZmZmbmwNFAAAAAAADk0UAzMzMzc/PRQAAAAABAK9JAZmZmZsZP0kDNzMzMDITSQJqZmZnZrtJAAAAAACDx0kCamZmZ+TTTQAAAAACActNAmpmZmfml00CamZmZ+eTTQJqZmZk56dNA\",\"dtype\":\"float64\",\"order\":\"little\",\"shape\":[81]}},\"selected\":{\"id\":\"1045\"},\"selection_policy\":{\"id\":\"1072\"}},\"id\":\"1044\",\"type\":\"ColumnDataSource\"}],\"root_ids\":[\"1002\"]},\"title\":\"Bokeh Application\",\"version\":\"2.3.2\"}};\n",
       "    var render_items = [{\"docid\":\"0cd320ae-0134-423d-b640-2118a4a5d590\",\"root_ids\":[\"1002\"],\"roots\":{\"1002\":\"03d25fd9-235b-44df-bca4-dd3ddc5a1f5d\"}}];\n",
       "    root.Bokeh.embed.embed_items_notebook(docs_json, render_items);\n",
       "  }\n",
       "  if (root.Bokeh !== undefined && root.Bokeh.Panel !== undefined) {\n",
       "    embed_document(root);\n",
       "  } else {\n",
       "    var attempts = 0;\n",
       "    var timer = setInterval(function(root) {\n",
       "      if (root.Bokeh !== undefined && root.Bokeh.Panel !== undefined) {\n",
       "        clearInterval(timer);\n",
       "        embed_document(root);\n",
       "      } else if (document.readyState == \"complete\") {\n",
       "        attempts++;\n",
       "        if (attempts > 200) {\n",
       "          clearInterval(timer);\n",
       "          console.log(\"Bokeh: ERROR: Unable to run BokehJS code because BokehJS library is missing\");\n",
       "        }\n",
       "      }\n",
       "    }, 25, root)\n",
       "  }\n",
       "})(window);</script>"
      ],
      "text/plain": [
       ":NdOverlay   [Variable]\n",
       "   :Curve   [index]   (value)"
      ]
     },
     "execution_count": 64,
     "metadata": {
      "application/vnd.holoviews_exec.v0+json": {
       "id": "1002"
      }
     },
     "output_type": "execute_result"
    }
   ],
   "source": [
    "# Plot the data trends of the two variables over time\n",
    "m2sl_btc_plot = m2sl_btc.hvplot()\n",
    "m2sl_btc_plot"
   ]
  },
  {
   "cell_type": "code",
   "execution_count": 65,
   "id": "42eacc7f",
   "metadata": {},
   "outputs": [
    {
     "data": {},
     "metadata": {},
     "output_type": "display_data"
    },
    {
     "data": {
      "application/vnd.holoviews_exec.v0+json": "",
      "text/html": [
       "<div id='1449'>\n",
       "\n",
       "\n",
       "\n",
       "\n",
       "\n",
       "  <div class=\"bk-root\" id=\"6f9c6165-06cb-409b-8de2-c5ae27c04e16\" data-root-id=\"1449\"></div>\n",
       "</div>\n",
       "<script type=\"application/javascript\">(function(root) {\n",
       "  function embed_document(root) {\n",
       "    var docs_json = {\"c1d15e08-64fb-4cf3-b9ab-f317c187f3a9\":{\"defs\":[{\"extends\":null,\"module\":null,\"name\":\"ReactiveHTML1\",\"overrides\":[],\"properties\":[]},{\"extends\":null,\"module\":null,\"name\":\"FlexBox1\",\"overrides\":[],\"properties\":[{\"default\":\"flex-start\",\"kind\":null,\"name\":\"align_content\"},{\"default\":\"flex-start\",\"kind\":null,\"name\":\"align_items\"},{\"default\":\"row\",\"kind\":null,\"name\":\"flex_direction\"},{\"default\":\"wrap\",\"kind\":null,\"name\":\"flex_wrap\"},{\"default\":\"flex-start\",\"kind\":null,\"name\":\"justify_content\"}]},{\"extends\":null,\"module\":null,\"name\":\"TemplateActions1\",\"overrides\":[],\"properties\":[{\"default\":0,\"kind\":null,\"name\":\"open_modal\"},{\"default\":0,\"kind\":null,\"name\":\"close_modal\"}]},{\"extends\":null,\"module\":null,\"name\":\"MaterialTemplateActions1\",\"overrides\":[],\"properties\":[{\"default\":0,\"kind\":null,\"name\":\"open_modal\"},{\"default\":0,\"kind\":null,\"name\":\"close_modal\"}]}],\"roots\":{\"references\":[{\"attributes\":{\"margin\":[5,5,5,5],\"name\":\"HSpacer02077\",\"sizing_mode\":\"stretch_width\"},\"id\":\"1519\",\"type\":\"Spacer\"},{\"attributes\":{},\"id\":\"1461\",\"type\":\"LinearScale\"},{\"attributes\":{\"axis_label\":\"btc_price\",\"formatter\":{\"id\":\"1498\"},\"major_label_policy\":{\"id\":\"1497\"},\"ticker\":{\"id\":\"1468\"}},\"id\":\"1467\",\"type\":\"LinearAxis\"},{\"attributes\":{\"end\":65300.16345062256,\"reset_end\":65300.16345062256,\"reset_start\":-5690.047956848145,\"start\":-5690.047956848145,\"tags\":[[[\"btc_price\",\"btc_price\",null]]]},\"id\":\"1452\",\"type\":\"Range1d\"},{\"attributes\":{},\"id\":\"1468\",\"type\":\"BasicTicker\"},{\"attributes\":{\"axis\":{\"id\":\"1467\"},\"dimension\":1,\"grid_line_color\":null,\"ticker\":null},\"id\":\"1470\",\"type\":\"Grid\"},{\"attributes\":{\"data\":{\"btc_price\":{\"__ndarray__\":\"AAAA4CZxd0AAAADg+1t0QAAAAIDrs3dAAAAA4Pujc0AAAACgGl9sQAAAAGA7Q3BAAAAAACmgb0AAAACAwl1tQAAAACCyOWxAAAAAIC/tb0AAAAAA06lxQAAAAIAWqWxAAAAAQGCpbUAAAABg5VZ0QAAAAODOp3ZAAAAAIFgle0AAAABg5VB3QAAAAMD3MXtAAAAAwPdNekAAAABAtMp7QAAAAKDGz4BAAAAAwJ39hUAAAABguBuBQAAAAMBL/IFAAAAA4CIXg0AAAAAgWM6GQAAAACAxpodAAAAAoJkyj0AAAAAgL+iOQAAAAAAAGpNAAAAAIK44kUAAAACgR7OWQAAAAKAZcaNAAAAAoPCUo0AAAAAAVy2lQAAAACDF4rFAAAAA4FE5sUAAAABgT2+6QAAAAMDMb8VAAAAAoJmsykAAAAAgRenBQAAAAACAY8VAAAAAwMyru0AAAADA9QnCQAAAAEBz271AAAAAIC7WuUAAAABgJo+9QAAAAGC4aLxAAAAAoBmcuUAAAACgx+m4QAAAAACsdrBAAAAAQAoHrkAAAAAA5D+rQAAAAOAqJ65AAAAAwOAPs0AAAACgSIG1QAAAAKB6E8FAAAAAwNYYxUAAAABgFovEQAAAAGBhNcRAAAAAYIVkwEAAAABgjRbCQAAAAOBKAL1AAAAAoCwgvEAAAAAAcFjCQAAAACA6ucBAAAAA4J+JukAAAABgTI7BQAAAAODmnMJAAAAAgLTRwUAAAACgzpbFQAAAAGAES8ZAAAAAAJWsxEAAAAAAjtTKQAAAAOC/XNJAAAAAwImv3EAAAACgJWDgQAAAAMDnO+hAAAAAAAr/7EAAAACA4qbrQAAAAMDlWOJA\",\"dtype\":\"float64\",\"order\":\"little\",\"shape\":[81]},\"m2_supply\":{\"__ndarray__\":\"zczMzAyVxkCamZmZGafGQAAAAADAzsZAMzMzM7PxxkCamZmZmTHHQGZmZmbmOcdAzczMzIxNx0AzMzMzs1zHQAAAAABAc8dAMzMzM/OLx0DNzMzMTKTHQM3MzMxMv8dAAAAAAEDSx0AzMzMzc/zHQGZmZmYmHMhAMzMzM/NdyEAzMzMzc4bIQM3MzMyMpshAAAAAAMDOyEBmZmZmJvDIQDMzMzOzEclAAAAAAAAvyUAAAAAAwFbJQGZmZmZmdMlAzczMzMyYyUCamZmZGb7JQGZmZmYm0slAZmZmZqb3yUAzMzMz8xrKQJqZmZmZPcpAmpmZmZlaykAAAAAAAHTKQGZmZmamgcpAzczMzAyeykDNzMzMjLbKQJqZmZlZy8pAmpmZmdnlykDNzMzMDPfKQJqZmZlZEctAzczMzAway0CamZmZWS/LQM3MzMyMS8tAAAAAAMBay0DNzMzMTHvLQGZmZmYmmctAMzMzM7Ony0BmZmZm5rzLQDMzMzMzzMtAmpmZmdnPy0BmZmZmJtnLQJqZmZmZFMxAZmZmZmY3zEBmZmZm5kzMQJqZmZlZZMxAmpmZmVl2zEAAAAAAQKjMQJqZmZmZ48xAzczMzAwHzUBmZmZmZi3NQM3MzMwMW81AmpmZmVmazUAzMzMzM8vNQM3MzMyM8M1AAAAAAAAZzkAzMzMzszjOQGZmZmYmR89AmpmZmbmk0EAAAAAAQHnRQGZmZmbmwNFAAAAAAADk0UAzMzMzc/PRQAAAAABAK9JAZmZmZsZP0kDNzMzMDITSQJqZmZnZrtJAAAAAACDx0kCamZmZ+TTTQAAAAACActNAmpmZmfml00CamZmZ+eTTQJqZmZk56dNA\",\"dtype\":\"float64\",\"order\":\"little\",\"shape\":[81]}},\"selected\":{\"id\":\"1485\"},\"selection_policy\":{\"id\":\"1507\"}},\"id\":\"1484\",\"type\":\"ColumnDataSource\"},{\"attributes\":{\"fill_alpha\":{\"value\":0.1},\"fill_color\":{\"value\":\"#30a2da\"},\"line_alpha\":{\"value\":0.1},\"line_color\":{\"value\":\"#30a2da\"},\"size\":{\"value\":5.477225575051661},\"x\":{\"field\":\"m2_supply\"},\"y\":{\"field\":\"btc_price\"}},\"id\":\"1488\",\"type\":\"Scatter\"},{\"attributes\":{},\"id\":\"1507\",\"type\":\"UnionRenderers\"},{\"attributes\":{\"data_source\":{\"id\":\"1484\"},\"glyph\":{\"id\":\"1487\"},\"hover_glyph\":null,\"muted_glyph\":{\"id\":\"1489\"},\"nonselection_glyph\":{\"id\":\"1488\"},\"selection_glyph\":{\"id\":\"1492\"},\"view\":{\"id\":\"1491\"}},\"id\":\"1490\",\"type\":\"GlyphRenderer\"},{\"attributes\":{\"angle\":{\"value\":0.0},\"fill_alpha\":{\"value\":1.0},\"fill_color\":{\"value\":\"#30a2da\"},\"hatch_alpha\":{\"value\":1.0},\"hatch_color\":{\"value\":\"black\"},\"hatch_scale\":{\"value\":12.0},\"hatch_weight\":{\"value\":1.0},\"line_alpha\":{\"value\":1.0},\"line_cap\":{\"value\":\"butt\"},\"line_color\":{\"value\":\"#30a2da\"},\"line_dash\":{\"value\":[]},\"line_dash_offset\":{\"value\":0},\"line_join\":{\"value\":\"bevel\"},\"line_width\":{\"value\":1},\"marker\":{\"value\":\"circle\"},\"size\":{\"value\":5.477225575051661},\"x\":{\"field\":\"m2_supply\"},\"y\":{\"field\":\"btc_price\"}},\"id\":\"1492\",\"type\":\"Scatter\"},{\"attributes\":{\"bottom_units\":\"screen\",\"fill_alpha\":0.5,\"fill_color\":\"lightgrey\",\"left_units\":\"screen\",\"level\":\"overlay\",\"line_alpha\":1.0,\"line_color\":\"black\",\"line_dash\":[4,4],\"line_width\":2,\"right_units\":\"screen\",\"syncable\":false,\"top_units\":\"screen\"},\"id\":\"1476\",\"type\":\"BoxAnnotation\"},{\"attributes\":{\"fill_alpha\":{\"value\":0.2},\"fill_color\":{\"value\":\"#30a2da\"},\"line_alpha\":{\"value\":0.2},\"line_color\":{\"value\":\"#30a2da\"},\"size\":{\"value\":5.477225575051661},\"x\":{\"field\":\"m2_supply\"},\"y\":{\"field\":\"btc_price\"}},\"id\":\"1489\",\"type\":\"Scatter\"},{\"attributes\":{\"children\":[{\"id\":\"1450\"},{\"id\":\"1454\"},{\"id\":\"1519\"}],\"margin\":[0,0,0,0],\"name\":\"Row02072\",\"tags\":[\"embedded\"]},\"id\":\"1449\",\"type\":\"Row\"},{\"attributes\":{\"active_multi\":null,\"tools\":[{\"id\":\"1453\"},{\"id\":\"1471\"},{\"id\":\"1472\"},{\"id\":\"1473\"},{\"id\":\"1474\"},{\"id\":\"1475\"}]},\"id\":\"1477\",\"type\":\"Toolbar\"},{\"attributes\":{\"below\":[{\"id\":\"1463\"}],\"center\":[{\"id\":\"1466\"},{\"id\":\"1470\"}],\"height\":300,\"left\":[{\"id\":\"1467\"}],\"margin\":[5,5,5,5],\"min_border_bottom\":10,\"min_border_left\":10,\"min_border_right\":10,\"min_border_top\":10,\"renderers\":[{\"id\":\"1490\"}],\"sizing_mode\":\"fixed\",\"title\":{\"id\":\"1455\"},\"toolbar\":{\"id\":\"1477\"},\"width\":700,\"x_range\":{\"id\":\"1451\"},\"x_scale\":{\"id\":\"1459\"},\"y_range\":{\"id\":\"1452\"},\"y_scale\":{\"id\":\"1461\"}},\"id\":\"1454\",\"subtype\":\"Figure\",\"type\":\"Plot\"},{\"attributes\":{\"margin\":[5,5,5,5],\"name\":\"HSpacer02076\",\"sizing_mode\":\"stretch_width\"},\"id\":\"1450\",\"type\":\"Spacer\"},{\"attributes\":{\"callback\":null,\"renderers\":[{\"id\":\"1490\"}],\"tags\":[\"hv_created\"],\"tooltips\":[[\"m2_supply\",\"@{m2_supply}\"],[\"btc_price\",\"@{btc_price}\"]]},\"id\":\"1453\",\"type\":\"HoverTool\"},{\"attributes\":{\"source\":{\"id\":\"1484\"}},\"id\":\"1491\",\"type\":\"CDSView\"},{\"attributes\":{\"end\":20767.19142857143,\"reset_end\":20767.19142857143,\"reset_start\":11183.808571428572,\"start\":11183.808571428572,\"tags\":[[[\"m2_supply\",\"m2_supply\",null]]]},\"id\":\"1451\",\"type\":\"Range1d\"},{\"attributes\":{},\"id\":\"1471\",\"type\":\"SaveTool\"},{\"attributes\":{},\"id\":\"1497\",\"type\":\"AllLabels\"},{\"attributes\":{},\"id\":\"1472\",\"type\":\"PanTool\"},{\"attributes\":{},\"id\":\"1494\",\"type\":\"AllLabels\"},{\"attributes\":{},\"id\":\"1475\",\"type\":\"ResetTool\"},{\"attributes\":{},\"id\":\"1498\",\"type\":\"BasicTickFormatter\"},{\"attributes\":{},\"id\":\"1473\",\"type\":\"WheelZoomTool\"},{\"attributes\":{},\"id\":\"1495\",\"type\":\"BasicTickFormatter\"},{\"attributes\":{\"text_color\":\"black\",\"text_font_size\":\"12pt\"},\"id\":\"1455\",\"type\":\"Title\"},{\"attributes\":{\"overlay\":{\"id\":\"1476\"}},\"id\":\"1474\",\"type\":\"BoxZoomTool\"},{\"attributes\":{},\"id\":\"1485\",\"type\":\"Selection\"},{\"attributes\":{},\"id\":\"1459\",\"type\":\"LinearScale\"},{\"attributes\":{\"axis\":{\"id\":\"1463\"},\"grid_line_color\":null,\"ticker\":null},\"id\":\"1466\",\"type\":\"Grid\"},{\"attributes\":{\"fill_color\":{\"value\":\"#30a2da\"},\"line_color\":{\"value\":\"#30a2da\"},\"size\":{\"value\":5.477225575051661},\"x\":{\"field\":\"m2_supply\"},\"y\":{\"field\":\"btc_price\"}},\"id\":\"1487\",\"type\":\"Scatter\"},{\"attributes\":{},\"id\":\"1464\",\"type\":\"BasicTicker\"},{\"attributes\":{\"axis_label\":\"m2_supply\",\"formatter\":{\"id\":\"1495\"},\"major_label_policy\":{\"id\":\"1494\"},\"ticker\":{\"id\":\"1464\"}},\"id\":\"1463\",\"type\":\"LinearAxis\"}],\"root_ids\":[\"1449\"]},\"title\":\"Bokeh Application\",\"version\":\"2.3.2\"}};\n",
       "    var render_items = [{\"docid\":\"c1d15e08-64fb-4cf3-b9ab-f317c187f3a9\",\"root_ids\":[\"1449\"],\"roots\":{\"1449\":\"6f9c6165-06cb-409b-8de2-c5ae27c04e16\"}}];\n",
       "    root.Bokeh.embed.embed_items_notebook(docs_json, render_items);\n",
       "  }\n",
       "  if (root.Bokeh !== undefined && root.Bokeh.Panel !== undefined) {\n",
       "    embed_document(root);\n",
       "  } else {\n",
       "    var attempts = 0;\n",
       "    var timer = setInterval(function(root) {\n",
       "      if (root.Bokeh !== undefined && root.Bokeh.Panel !== undefined) {\n",
       "        clearInterval(timer);\n",
       "        embed_document(root);\n",
       "      } else if (document.readyState == \"complete\") {\n",
       "        attempts++;\n",
       "        if (attempts > 200) {\n",
       "          clearInterval(timer);\n",
       "          console.log(\"Bokeh: ERROR: Unable to run BokehJS code because BokehJS library is missing\");\n",
       "        }\n",
       "      }\n",
       "    }, 25, root)\n",
       "  }\n",
       "})(window);</script>"
      ],
      "text/plain": [
       ":Scatter   [m2_supply]   (btc_price)"
      ]
     },
     "execution_count": 65,
     "metadata": {
      "application/vnd.holoviews_exec.v0+json": {
       "id": "1449"
      }
     },
     "output_type": "execute_result"
    }
   ],
   "source": [
    "m2sl_btc_scatter = m2sl_btc.hvplot(kind='scatter', x='m2_supply', y='btc_price')\n",
    "m2sl_btc_scatter"
   ]
  },
  {
   "cell_type": "code",
   "execution_count": 66,
   "id": "d1265a2c",
   "metadata": {},
   "outputs": [
    {
     "data": {
      "text/html": [
       "<div>\n",
       "<style scoped>\n",
       "    .dataframe tbody tr th:only-of-type {\n",
       "        vertical-align: middle;\n",
       "    }\n",
       "\n",
       "    .dataframe tbody tr th {\n",
       "        vertical-align: top;\n",
       "    }\n",
       "\n",
       "    .dataframe thead th {\n",
       "        text-align: right;\n",
       "    }\n",
       "</style>\n",
       "<table border=\"1\" class=\"dataframe\">\n",
       "  <thead>\n",
       "    <tr style=\"text-align: right;\">\n",
       "      <th></th>\n",
       "      <th>m2_supply</th>\n",
       "      <th>btc_price</th>\n",
       "    </tr>\n",
       "  </thead>\n",
       "  <tbody>\n",
       "    <tr>\n",
       "      <th>m2_supply</th>\n",
       "      <td>1.000000</td>\n",
       "      <td>0.808573</td>\n",
       "    </tr>\n",
       "    <tr>\n",
       "      <th>btc_price</th>\n",
       "      <td>0.808573</td>\n",
       "      <td>1.000000</td>\n",
       "    </tr>\n",
       "  </tbody>\n",
       "</table>\n",
       "</div>"
      ],
      "text/plain": [
       "           m2_supply  btc_price\n",
       "m2_supply   1.000000   0.808573\n",
       "btc_price   0.808573   1.000000"
      ]
     },
     "execution_count": 66,
     "metadata": {},
     "output_type": "execute_result"
    }
   ],
   "source": [
    "# Calculate the correlation between money supply and BTC price\n",
    "m2sl_btc_corr = m2sl_btc.corr()\n",
    "m2sl_btc_corr"
   ]
  },
  {
   "cell_type": "code",
   "execution_count": 67,
   "id": "c8139c8a",
   "metadata": {},
   "outputs": [
    {
     "data": {},
     "metadata": {},
     "output_type": "display_data"
    },
    {
     "data": {
      "application/vnd.holoviews_exec.v0+json": "",
      "text/html": [
       "<div id='1571'>\n",
       "\n",
       "\n",
       "\n",
       "\n",
       "\n",
       "  <div class=\"bk-root\" id=\"7737e964-00c5-4ca7-87de-cba02ecc8148\" data-root-id=\"1571\"></div>\n",
       "</div>\n",
       "<script type=\"application/javascript\">(function(root) {\n",
       "  function embed_document(root) {\n",
       "    var docs_json = {\"031ab4c9-5e5f-4b1a-87a1-f0bc33e582ca\":{\"defs\":[{\"extends\":null,\"module\":null,\"name\":\"ReactiveHTML1\",\"overrides\":[],\"properties\":[]},{\"extends\":null,\"module\":null,\"name\":\"FlexBox1\",\"overrides\":[],\"properties\":[{\"default\":\"flex-start\",\"kind\":null,\"name\":\"align_content\"},{\"default\":\"flex-start\",\"kind\":null,\"name\":\"align_items\"},{\"default\":\"row\",\"kind\":null,\"name\":\"flex_direction\"},{\"default\":\"wrap\",\"kind\":null,\"name\":\"flex_wrap\"},{\"default\":\"flex-start\",\"kind\":null,\"name\":\"justify_content\"}]},{\"extends\":null,\"module\":null,\"name\":\"TemplateActions1\",\"overrides\":[],\"properties\":[{\"default\":0,\"kind\":null,\"name\":\"open_modal\"},{\"default\":0,\"kind\":null,\"name\":\"close_modal\"}]},{\"extends\":null,\"module\":null,\"name\":\"MaterialTemplateActions1\",\"overrides\":[],\"properties\":[{\"default\":0,\"kind\":null,\"name\":\"open_modal\"},{\"default\":0,\"kind\":null,\"name\":\"close_modal\"}]}],\"roots\":{\"references\":[{\"attributes\":{},\"id\":\"1618\",\"type\":\"AllLabels\"},{\"attributes\":{},\"id\":\"1586\",\"type\":\"CategoricalTicker\"},{\"attributes\":{\"callback\":null,\"renderers\":[{\"id\":\"1611\"}],\"tags\":[\"hv_created\"],\"tooltips\":[[\"columns\",\"@{columns}\"],[\"index\",\"@{index}\"],[\"value\",\"@{value}\"]]},\"id\":\"1575\",\"type\":\"HoverTool\"},{\"attributes\":{\"axis_label\":\"\",\"formatter\":{\"id\":\"1619\"},\"major_label_policy\":{\"id\":\"1618\"},\"ticker\":{\"id\":\"1589\"}},\"id\":\"1588\",\"type\":\"CategoricalAxis\"},{\"attributes\":{\"axis\":{\"id\":\"1585\"},\"grid_line_color\":null,\"ticker\":null},\"id\":\"1587\",\"type\":\"Grid\"},{\"attributes\":{},\"id\":\"1630\",\"type\":\"UnionRenderers\"},{\"attributes\":{},\"id\":\"1628\",\"type\":\"NoOverlap\"},{\"attributes\":{},\"id\":\"1589\",\"type\":\"CategoricalTicker\"},{\"attributes\":{\"active_multi\":null,\"tools\":[{\"id\":\"1575\"},{\"id\":\"1591\"},{\"id\":\"1592\"},{\"id\":\"1593\"},{\"id\":\"1594\"},{\"id\":\"1595\"}]},\"id\":\"1597\",\"type\":\"Toolbar\"},{\"attributes\":{},\"id\":\"1615\",\"type\":\"AllLabels\"},{\"attributes\":{\"axis\":{\"id\":\"1588\"},\"dimension\":1,\"grid_line_color\":null,\"ticker\":null},\"id\":\"1590\",\"type\":\"Grid\"},{\"attributes\":{\"bottom_units\":\"screen\",\"fill_alpha\":0.5,\"fill_color\":\"lightgrey\",\"left_units\":\"screen\",\"level\":\"overlay\",\"line_alpha\":1.0,\"line_color\":\"black\",\"line_dash\":[4,4],\"line_width\":2,\"right_units\":\"screen\",\"syncable\":false,\"top_units\":\"screen\"},\"id\":\"1596\",\"type\":\"BoxAnnotation\"},{\"attributes\":{\"margin\":[5,5,5,5],\"name\":\"HSpacer02237\",\"sizing_mode\":\"stretch_width\"},\"id\":\"1643\",\"type\":\"Spacer\"},{\"attributes\":{\"source\":{\"id\":\"1605\"}},\"id\":\"1612\",\"type\":\"CDSView\"},{\"attributes\":{\"margin\":[5,5,5,5],\"name\":\"HSpacer02236\",\"sizing_mode\":\"stretch_width\"},\"id\":\"1572\",\"type\":\"Spacer\"},{\"attributes\":{\"fill_alpha\":{\"value\":0.1},\"fill_color\":{\"field\":\"zvalues\",\"transform\":{\"id\":\"1604\"}},\"height\":{\"value\":1},\"line_alpha\":{\"value\":0},\"line_color\":{\"value\":\"#1f77b4\"},\"width\":{\"value\":1},\"x\":{\"field\":\"columns\"},\"y\":{\"field\":\"index\"}},\"id\":\"1609\",\"type\":\"Rect\"},{\"attributes\":{\"high\":1.0,\"low\":0.8085729170618393,\"nan_color\":\"white\",\"palette\":[\"#b3fef5\",\"#b0fef5\",\"#adfdf5\",\"#a9fcf5\",\"#a6fbf6\",\"#a3faf6\",\"#a0faf6\",\"#9df9f6\",\"#9af8f6\",\"#97f7f6\",\"#93f7f6\",\"#90f6f6\",\"#8df5f6\",\"#8af4f7\",\"#87f3f7\",\"#83f2f7\",\"#80f2f7\",\"#7df1f7\",\"#79f0f7\",\"#76eff7\",\"#73eef7\",\"#6fedf8\",\"#6cecf8\",\"#68ecf8\",\"#65ebf8\",\"#61eaf8\",\"#5ee9f8\",\"#5ae8f8\",\"#57e7f8\",\"#53e6f8\",\"#50e5f9\",\"#4ce4f9\",\"#49e3f9\",\"#45e2f9\",\"#42e1f9\",\"#3ee0f9\",\"#3bdff9\",\"#38def9\",\"#35ddf9\",\"#32dcf9\",\"#30dbfa\",\"#2ed9fa\",\"#2dd8fa\",\"#2cd7fa\",\"#2bd6fa\",\"#2bd5fa\",\"#2ad3fa\",\"#2ad2fa\",\"#29d1fa\",\"#29d0fb\",\"#29cffb\",\"#28cdfb\",\"#28ccfb\",\"#28cbfb\",\"#28cafb\",\"#28c8fb\",\"#28c7fb\",\"#29c6fb\",\"#29c5fb\",\"#29c4fb\",\"#29c2fb\",\"#2ac1fb\",\"#2ac0fb\",\"#2bbffb\",\"#2bbdfc\",\"#2cbcfc\",\"#2dbbfc\",\"#2db9fc\",\"#2eb8fc\",\"#2fb7fc\",\"#2fb6fc\",\"#30b4fc\",\"#31b3fc\",\"#32b2fc\",\"#32b0fc\",\"#33affc\",\"#33aefc\",\"#34adfc\",\"#34abfc\",\"#34aafc\",\"#35a9fc\",\"#35a8fc\",\"#35a6fc\",\"#35a5fc\",\"#35a4fc\",\"#35a3fc\",\"#35a1fc\",\"#35a0fc\",\"#359ffc\",\"#359dfc\",\"#359cfc\",\"#359bfc\",\"#349afd\",\"#3498fd\",\"#3497fd\",\"#3396fd\",\"#3395fd\",\"#3293fd\",\"#3292fd\",\"#3191fd\",\"#3090fd\",\"#308ffd\",\"#2f8dfd\",\"#2f8cfd\",\"#2e8bfd\",\"#2e8afd\",\"#2d88fd\",\"#2d87fd\",\"#2c86fd\",\"#2c84fd\",\"#2c83fd\",\"#2c82fd\",\"#2b81fd\",\"#2b7ffd\",\"#2b7efd\",\"#2b7dfd\",\"#2b7bfd\",\"#2b7afd\",\"#2b79fd\",\"#2b77fd\",\"#2b76fd\",\"#2b75fd\",\"#2b73fd\",\"#2c72fd\",\"#2c71fd\",\"#2c6ffd\",\"#2c6efd\",\"#2d6cfd\",\"#2d6bfd\",\"#2d6afc\",\"#2e68fc\",\"#2e67fc\",\"#2e65fc\",\"#2e64fc\",\"#2f62fc\",\"#2f61fc\",\"#2f5ffc\",\"#2f5efc\",\"#2f5dfc\",\"#2f5bfc\",\"#2f5afc\",\"#2f58fb\",\"#2f57fb\",\"#2f55fb\",\"#2f53fb\",\"#2f52fb\",\"#2f50fb\",\"#2f4ffb\",\"#2f4dfb\",\"#2e4cfb\",\"#2e4afb\",\"#2e48fb\",\"#2e47fa\",\"#2d45fa\",\"#2d43fa\",\"#2d42fa\",\"#2d40fa\",\"#2c3efa\",\"#2c3dfa\",\"#2b3bf9\",\"#2b39f9\",\"#2a37f9\",\"#2a36f8\",\"#2934f8\",\"#2832f7\",\"#2831f7\",\"#272ff6\",\"#262ef5\",\"#252cf5\",\"#252af4\",\"#2429f3\",\"#2327f2\",\"#2226f1\",\"#2124f0\",\"#2023ef\",\"#1f22ee\",\"#1e20ed\",\"#1d1feb\",\"#1c1eea\",\"#1b1ce9\",\"#1a1be7\",\"#181ae6\",\"#1719e5\",\"#1618e3\",\"#1417e1\",\"#1316e0\",\"#1215de\",\"#1014dc\",\"#0f13db\",\"#0e12d9\",\"#0d11d7\",\"#0c10d5\",\"#0b0fd3\",\"#0a0ed1\",\"#090dd0\",\"#080dce\",\"#080ccc\",\"#070bca\",\"#070ac8\",\"#0709c6\",\"#0708c4\",\"#0707c2\",\"#0707bf\",\"#0806bd\",\"#0806bb\",\"#0905b9\",\"#0904b7\",\"#0a04b5\",\"#0a04b2\",\"#0b03b0\",\"#0c03ae\",\"#0d02ab\",\"#0e02a9\",\"#0e02a7\",\"#0f02a4\",\"#0f01a2\",\"#1001a0\",\"#10019d\",\"#10019b\",\"#100199\",\"#100197\",\"#100194\",\"#0f0192\",\"#0f0190\",\"#0f018e\",\"#0e018b\",\"#0e0189\",\"#0d0187\",\"#0d0185\",\"#0c0183\",\"#0b0181\",\"#0b017e\",\"#0a017c\",\"#09017a\",\"#090178\",\"#080276\",\"#070274\",\"#060272\",\"#060270\",\"#05026e\",\"#04026c\",\"#030269\",\"#030267\",\"#020265\",\"#010263\",\"#010261\",\"#00025f\",\"#00025d\",\"#00025b\",\"#000259\",\"#000257\",\"#000255\",\"#000154\",\"#000152\",\"#000150\",\"#00004e\"]},\"id\":\"1604\",\"type\":\"LinearColorMapper\"},{\"attributes\":{\"data_source\":{\"id\":\"1605\"},\"glyph\":{\"id\":\"1608\"},\"hover_glyph\":null,\"muted_glyph\":null,\"nonselection_glyph\":{\"id\":\"1609\"},\"selection_glyph\":{\"id\":\"1610\"},\"view\":{\"id\":\"1612\"}},\"id\":\"1611\",\"type\":\"GlyphRenderer\"},{\"attributes\":{\"children\":[{\"id\":\"1572\"},{\"id\":\"1576\"},{\"id\":\"1643\"}],\"margin\":[0,0,0,0],\"name\":\"Row02232\",\"tags\":[\"embedded\"]},\"id\":\"1571\",\"type\":\"Row\"},{\"attributes\":{\"fill_color\":{\"field\":\"zvalues\",\"transform\":{\"id\":\"1604\"}},\"height\":{\"value\":1},\"line_alpha\":{\"value\":0},\"line_color\":{\"value\":\"#1f77b4\"},\"width\":{\"value\":1},\"x\":{\"field\":\"columns\"},\"y\":{\"field\":\"index\"}},\"id\":\"1608\",\"type\":\"Rect\"},{\"attributes\":{\"fill_color\":{\"field\":\"zvalues\",\"transform\":{\"id\":\"1604\"}},\"height\":{\"value\":1},\"line_alpha\":{\"value\":0},\"line_color\":{\"value\":\"#1f77b4\"},\"width\":{\"value\":1},\"x\":{\"field\":\"columns\"},\"y\":{\"field\":\"index\"}},\"id\":\"1610\",\"type\":\"Rect\"},{\"attributes\":{\"data\":{\"columns\":[\"btc_price\",\"btc_price\",\"m2_supply\",\"m2_supply\"],\"index\":[\"btc_price\",\"m2_supply\",\"btc_price\",\"m2_supply\"],\"value\":[\"1\",\"0.80857\",\"0.80857\",\"1\"],\"zvalues\":{\"__ndarray__\":\"AAAAAAAA8D8NyGZP1N/pPw3IZk/U3+k/AAAAAAAA8D8=\",\"dtype\":\"float64\",\"order\":\"little\",\"shape\":[4]}},\"selected\":{\"id\":\"1606\"},\"selection_policy\":{\"id\":\"1630\"}},\"id\":\"1605\",\"type\":\"ColumnDataSource\"},{\"attributes\":{\"factors\":[\"btc_price\",\"m2_supply\"],\"tags\":[[[\"index\",\"index\",null]]]},\"id\":\"1574\",\"type\":\"FactorRange\"},{\"attributes\":{\"below\":[{\"id\":\"1585\"}],\"center\":[{\"id\":\"1587\"},{\"id\":\"1590\"}],\"height\":300,\"left\":[{\"id\":\"1588\"}],\"margin\":[5,5,5,5],\"min_border_bottom\":10,\"min_border_left\":10,\"min_border_right\":10,\"min_border_top\":10,\"renderers\":[{\"id\":\"1611\"}],\"right\":[{\"id\":\"1614\"}],\"sizing_mode\":\"fixed\",\"title\":{\"id\":\"1577\"},\"toolbar\":{\"id\":\"1597\"},\"width\":700,\"x_range\":{\"id\":\"1573\"},\"x_scale\":{\"id\":\"1581\"},\"y_range\":{\"id\":\"1574\"},\"y_scale\":{\"id\":\"1583\"}},\"id\":\"1576\",\"subtype\":\"Figure\",\"type\":\"Plot\"},{\"attributes\":{},\"id\":\"1616\",\"type\":\"CategoricalTickFormatter\"},{\"attributes\":{},\"id\":\"1591\",\"type\":\"SaveTool\"},{\"attributes\":{},\"id\":\"1581\",\"type\":\"CategoricalScale\"},{\"attributes\":{},\"id\":\"1619\",\"type\":\"CategoricalTickFormatter\"},{\"attributes\":{},\"id\":\"1592\",\"type\":\"PanTool\"},{\"attributes\":{\"text_color\":\"black\",\"text_font_size\":\"12pt\"},\"id\":\"1577\",\"type\":\"Title\"},{\"attributes\":{},\"id\":\"1595\",\"type\":\"ResetTool\"},{\"attributes\":{},\"id\":\"1593\",\"type\":\"WheelZoomTool\"},{\"attributes\":{\"overlay\":{\"id\":\"1596\"}},\"id\":\"1594\",\"type\":\"BoxZoomTool\"},{\"attributes\":{},\"id\":\"1613\",\"type\":\"BasicTicker\"},{\"attributes\":{\"factors\":[\"btc_price\",\"m2_supply\"],\"tags\":[[[\"columns\",\"columns\",null]]]},\"id\":\"1573\",\"type\":\"FactorRange\"},{\"attributes\":{},\"id\":\"1606\",\"type\":\"Selection\"},{\"attributes\":{\"bar_line_color\":\"black\",\"color_mapper\":{\"id\":\"1604\"},\"label_standoff\":8,\"location\":[0,0],\"major_label_policy\":{\"id\":\"1628\"},\"major_tick_line_color\":\"black\",\"ticker\":{\"id\":\"1613\"}},\"id\":\"1614\",\"type\":\"ColorBar\"},{\"attributes\":{\"axis_label\":\"\",\"formatter\":{\"id\":\"1616\"},\"major_label_policy\":{\"id\":\"1615\"},\"ticker\":{\"id\":\"1586\"}},\"id\":\"1585\",\"type\":\"CategoricalAxis\"},{\"attributes\":{},\"id\":\"1583\",\"type\":\"CategoricalScale\"}],\"root_ids\":[\"1571\"]},\"title\":\"Bokeh Application\",\"version\":\"2.3.2\"}};\n",
       "    var render_items = [{\"docid\":\"031ab4c9-5e5f-4b1a-87a1-f0bc33e582ca\",\"root_ids\":[\"1571\"],\"roots\":{\"1571\":\"7737e964-00c5-4ca7-87de-cba02ecc8148\"}}];\n",
       "    root.Bokeh.embed.embed_items_notebook(docs_json, render_items);\n",
       "  }\n",
       "  if (root.Bokeh !== undefined && root.Bokeh.Panel !== undefined) {\n",
       "    embed_document(root);\n",
       "  } else {\n",
       "    var attempts = 0;\n",
       "    var timer = setInterval(function(root) {\n",
       "      if (root.Bokeh !== undefined && root.Bokeh.Panel !== undefined) {\n",
       "        clearInterval(timer);\n",
       "        embed_document(root);\n",
       "      } else if (document.readyState == \"complete\") {\n",
       "        attempts++;\n",
       "        if (attempts > 200) {\n",
       "          clearInterval(timer);\n",
       "          console.log(\"Bokeh: ERROR: Unable to run BokehJS code because BokehJS library is missing\");\n",
       "        }\n",
       "      }\n",
       "    }, 25, root)\n",
       "  }\n",
       "})(window);</script>"
      ],
      "text/plain": [
       ":HeatMap   [columns,index]   (value)"
      ]
     },
     "execution_count": 67,
     "metadata": {
      "application/vnd.holoviews_exec.v0+json": {
       "id": "1571"
      }
     },
     "output_type": "execute_result"
    }
   ],
   "source": [
    "# Use the `heatmap` function from the Seaborn library to visualize correlations\n",
    "m2sl_btc_corr.hvplot.heatmap()"
   ]
  },
  {
   "cell_type": "markdown",
   "id": "7a02c760",
   "metadata": {},
   "source": [
    "## Data visualization for Pandemic period"
   ]
  },
  {
   "cell_type": "code",
   "execution_count": 68,
   "id": "0da69b45",
   "metadata": {},
   "outputs": [
    {
     "data": {},
     "metadata": {},
     "output_type": "display_data"
    },
    {
     "data": {
      "application/vnd.holoviews_exec.v0+json": "",
      "text/html": [
       "<div id='1700'>\n",
       "\n",
       "\n",
       "\n",
       "\n",
       "\n",
       "  <div class=\"bk-root\" id=\"4fcfae7d-c1b3-4b3f-962a-7d9c79b433e3\" data-root-id=\"1700\"></div>\n",
       "</div>\n",
       "<script type=\"application/javascript\">(function(root) {\n",
       "  function embed_document(root) {\n",
       "    var docs_json = {\"51dd0600-c8ce-4412-b0b6-7f9dd76aa983\":{\"defs\":[{\"extends\":null,\"module\":null,\"name\":\"ReactiveHTML1\",\"overrides\":[],\"properties\":[]},{\"extends\":null,\"module\":null,\"name\":\"FlexBox1\",\"overrides\":[],\"properties\":[{\"default\":\"flex-start\",\"kind\":null,\"name\":\"align_content\"},{\"default\":\"flex-start\",\"kind\":null,\"name\":\"align_items\"},{\"default\":\"row\",\"kind\":null,\"name\":\"flex_direction\"},{\"default\":\"wrap\",\"kind\":null,\"name\":\"flex_wrap\"},{\"default\":\"flex-start\",\"kind\":null,\"name\":\"justify_content\"}]},{\"extends\":null,\"module\":null,\"name\":\"TemplateActions1\",\"overrides\":[],\"properties\":[{\"default\":0,\"kind\":null,\"name\":\"open_modal\"},{\"default\":0,\"kind\":null,\"name\":\"close_modal\"}]},{\"extends\":null,\"module\":null,\"name\":\"MaterialTemplateActions1\",\"overrides\":[],\"properties\":[{\"default\":0,\"kind\":null,\"name\":\"open_modal\"},{\"default\":0,\"kind\":null,\"name\":\"close_modal\"}]}],\"roots\":{\"references\":[{\"attributes\":{\"line_alpha\":0.1,\"line_color\":\"#fc4f30\",\"line_width\":2,\"x\":{\"field\":\"index\"},\"y\":{\"field\":\"value\"}},\"id\":\"1779\",\"type\":\"Line\"},{\"attributes\":{\"callback\":null,\"formatters\":{\"@{index}\":\"datetime\"},\"renderers\":[{\"id\":\"1748\"},{\"id\":\"1781\"}],\"tags\":[\"hv_created\"],\"tooltips\":[[\"Variable\",\"@{Variable}\"],[\"index\",\"@{index}{%F %T}\"],[\"value\",\"@{value}\"]]},\"id\":\"1704\",\"type\":\"HoverTool\"},{\"attributes\":{\"overlay\":{\"id\":\"1728\"}},\"id\":\"1726\",\"type\":\"BoxZoomTool\"},{\"attributes\":{},\"id\":\"1727\",\"type\":\"ResetTool\"},{\"attributes\":{\"data\":{\"Variable\":[\"m2_supply\",\"m2_supply\",\"m2_supply\",\"m2_supply\",\"m2_supply\",\"m2_supply\",\"m2_supply\",\"m2_supply\",\"m2_supply\",\"m2_supply\",\"m2_supply\",\"m2_supply\",\"m2_supply\",\"m2_supply\",\"m2_supply\",\"m2_supply\",\"m2_supply\",\"m2_supply\",\"m2_supply\",\"m2_supply\",\"m2_supply\",\"m2_supply\",\"m2_supply\",\"m2_supply\",\"m2_supply\",\"m2_supply\",\"m2_supply\",\"m2_supply\",\"m2_supply\",\"m2_supply\",\"m2_supply\",\"m2_supply\",\"m2_supply\",\"m2_supply\",\"m2_supply\",\"m2_supply\",\"m2_supply\",\"m2_supply\",\"m2_supply\",\"m2_supply\",\"m2_supply\",\"m2_supply\",\"m2_supply\",\"m2_supply\",\"m2_supply\",\"m2_supply\",\"m2_supply\",\"m2_supply\",\"m2_supply\",\"m2_supply\",\"m2_supply\",\"m2_supply\",\"m2_supply\",\"m2_supply\",\"m2_supply\",\"m2_supply\",\"m2_supply\",\"m2_supply\",\"m2_supply\",\"m2_supply\",\"m2_supply\",\"m2_supply\",\"m2_supply\",\"m2_supply\",\"m2_supply\",\"m2_supply\",\"m2_supply\",\"m2_supply\",\"m2_supply\",\"m2_supply\",\"m2_supply\",\"m2_supply\",\"m2_supply\",\"m2_supply\",\"m2_supply\",\"m2_supply\",\"m2_supply\",\"m2_supply\",\"m2_supply\",\"m2_supply\",\"m2_supply\"],\"index\":{\"__ndarray__\":\"AAAAGpCMdEIAAEBsipZ0QgAAwFgyoHRCAAAAqyyqdEIAAED9JrR0QgAAQB4qvXRCAACAcCTHdEIAAABdzNB0QgAAQK/G2nRCAADAm27kdEIAAADuaO50QgAAQEBj+HRCAADALAsCdUIAAAB/BQx1QgAAgGutFXVCAADAvacfdUIAAAAQoil1QgAAwJb3MnVCAAAA6fE8dUIAAIDVmUZ1QgAAwCeUUHVCAABAFDxadUIAAIBmNmR1QgAAwLgwbnVCAABApdh3dUIAAID30oF1QgAAAOR6i3VCAABANnWVdUIAAICIb591QgAAgKlyqHVCAADA+2yydUIAAEDoFLx1QgAAgDoPxnVCAAAAJ7fPdUIAAEB5sdl1QgAAgMur43VCAAAAuFPtdUIAAEAKTvd1QgAAwPb1AHZCAAAASfAKdkIAAECb6hR2QgAAQLztHXZCAACADugndkIAAAD7jzF2QgAAQE2KO3ZCAADAOTJFdkIAAACMLE92QgAAQN4mWXZCAADAys5idkIAAAAdyWx2QgAAgAlxdnZCAADAW2uAdkIAAACuZYp2QgAAAM9ok3ZCAABAIWOddkIAAMANC6d2QgAAAGAFsXZCAACATK26dkIAAMCep8R2QgAAAPGhznZCAACA3UnYdkIAAMAvROJ2QgAAQBzs63ZCAACAbub1dkIAAMDA4P92QgAAgEc2CXdCAADAmTATd0IAAECG2Bx3QgAAgNjSJndCAAAAxXowd0IAAEAXdTp3QgAAgGlvRHdCAAAAVhdOd0IAAECoEVh3QgAAwJS5YXdCAAAA57Nrd0IAAEA5rnV3QgAAQFqxfndCAACArKuId0IAAACZU5J3QgAAQOtNnHdC\",\"dtype\":\"float64\",\"order\":\"little\",\"shape\":[81]},\"value\":{\"__ndarray__\":\"zczMzAyVxkCamZmZGafGQAAAAADAzsZAMzMzM7PxxkCamZmZmTHHQGZmZmbmOcdAzczMzIxNx0AzMzMzs1zHQAAAAABAc8dAMzMzM/OLx0DNzMzMTKTHQM3MzMxMv8dAAAAAAEDSx0AzMzMzc/zHQGZmZmYmHMhAMzMzM/NdyEAzMzMzc4bIQM3MzMyMpshAAAAAAMDOyEBmZmZmJvDIQDMzMzOzEclAAAAAAAAvyUAAAAAAwFbJQGZmZmZmdMlAzczMzMyYyUCamZmZGb7JQGZmZmYm0slAZmZmZqb3yUAzMzMz8xrKQJqZmZmZPcpAmpmZmZlaykAAAAAAAHTKQGZmZmamgcpAzczMzAyeykDNzMzMjLbKQJqZmZlZy8pAmpmZmdnlykDNzMzMDPfKQJqZmZlZEctAzczMzAway0CamZmZWS/LQM3MzMyMS8tAAAAAAMBay0DNzMzMTHvLQGZmZmYmmctAMzMzM7Ony0BmZmZm5rzLQDMzMzMzzMtAmpmZmdnPy0BmZmZmJtnLQJqZmZmZFMxAZmZmZmY3zEBmZmZm5kzMQJqZmZlZZMxAmpmZmVl2zEAAAAAAQKjMQJqZmZmZ48xAzczMzAwHzUBmZmZmZi3NQM3MzMwMW81AmpmZmVmazUAzMzMzM8vNQM3MzMyM8M1AAAAAAAAZzkAzMzMzszjOQGZmZmYmR89AmpmZmbmk0EAAAAAAQHnRQGZmZmbmwNFAAAAAAADk0UAzMzMzc/PRQAAAAABAK9JAZmZmZsZP0kDNzMzMDITSQJqZmZnZrtJAAAAAACDx0kCamZmZ+TTTQAAAAACActNAmpmZmfml00CamZmZ+eTTQJqZmZk56dNA\",\"dtype\":\"float64\",\"order\":\"little\",\"shape\":[81]}},\"selected\":{\"id\":\"1743\"},\"selection_policy\":{\"id\":\"1770\"}},\"id\":\"1742\",\"type\":\"ColumnDataSource\"},{\"attributes\":{\"line_color\":\"#30a2da\",\"line_width\":2,\"x\":{\"field\":\"index\"},\"y\":{\"field\":\"value\"}},\"id\":\"1745\",\"type\":\"Line\"},{\"attributes\":{},\"id\":\"1740\",\"type\":\"AllLabels\"},{\"attributes\":{\"angle\":{\"value\":0.0},\"text\":{\"field\":\"text\"},\"text_align\":{\"value\":\"center\"},\"text_alpha\":{\"value\":1.0},\"text_baseline\":{\"value\":\"middle\"},\"text_color\":{\"value\":\"black\"},\"text_font_size\":{\"value\":\"12Pt\"},\"text_font_style\":{\"value\":\"normal\"},\"text_line_height\":{\"value\":1.2},\"x\":{\"field\":\"x\"},\"x_offset\":{\"value\":0},\"y\":{\"field\":\"y\"},\"y_offset\":{\"value\":0}},\"id\":\"1987\",\"type\":\"Text\"},{\"attributes\":{},\"id\":\"2012\",\"type\":\"UnionRenderers\"},{\"attributes\":{\"click_policy\":\"mute\",\"items\":[{\"id\":\"1773\"},{\"id\":\"1807\"}],\"location\":[0,0]},\"id\":\"1772\",\"type\":\"Legend\"},{\"attributes\":{\"margin\":[5,5,5,5],\"name\":\"HSpacer02467\",\"sizing_mode\":\"stretch_width\"},\"id\":\"2222\",\"type\":\"Spacer\"},{\"attributes\":{\"label\":{\"value\":\"m2_supply\"},\"renderers\":[{\"id\":\"1748\"}]},\"id\":\"1773\",\"type\":\"LegendItem\"},{\"attributes\":{},\"id\":\"1711\",\"type\":\"LinearScale\"},{\"attributes\":{\"end\":65300.16345062256,\"reset_end\":65300.16345062256,\"reset_start\":-5690.047956848145,\"start\":-5690.047956848145,\"tags\":[[[\"value\",\"value\",null]]]},\"id\":\"1703\",\"type\":\"Range1d\"},{\"attributes\":{},\"id\":\"1768\",\"type\":\"YearsTicker\"},{\"attributes\":{\"line_alpha\":0.2,\"line_color\":\"#30a2da\",\"line_width\":2,\"x\":{\"field\":\"index\"},\"y\":{\"field\":\"value\"}},\"id\":\"1747\",\"type\":\"Line\"},{\"attributes\":{\"line_color\":\"#30a2da\",\"line_width\":2,\"x\":{\"field\":\"index\"},\"y\":{\"field\":\"value\"}},\"id\":\"1774\",\"type\":\"Line\"},{\"attributes\":{\"data\":{\"text\":[\"Pandemic\"],\"x\":[1577836800000.0],\"y\":[21000]},\"selected\":{\"id\":\"1981\"},\"selection_policy\":{\"id\":\"2012\"}},\"id\":\"1980\",\"type\":\"ColumnDataSource\"},{\"attributes\":{\"months\":[0,4,8]},\"id\":\"1766\",\"type\":\"MonthsTicker\"},{\"attributes\":{\"months\":[0,6]},\"id\":\"1767\",\"type\":\"MonthsTicker\"},{\"attributes\":{},\"id\":\"1776\",\"type\":\"Selection\"},{\"attributes\":{\"active_multi\":null,\"tools\":[{\"id\":\"1704\"},{\"id\":\"1723\"},{\"id\":\"1724\"},{\"id\":\"1725\"},{\"id\":\"1726\"},{\"id\":\"1727\"}]},\"id\":\"1729\",\"type\":\"Toolbar\"},{\"attributes\":{\"num_minor_ticks\":5,\"tickers\":[{\"id\":\"1757\"},{\"id\":\"1758\"},{\"id\":\"1759\"},{\"id\":\"1760\"},{\"id\":\"1761\"},{\"id\":\"1762\"},{\"id\":\"1763\"},{\"id\":\"1764\"},{\"id\":\"1765\"},{\"id\":\"1766\"},{\"id\":\"1767\"},{\"id\":\"1768\"}]},\"id\":\"1716\",\"type\":\"DatetimeTicker\"},{\"attributes\":{\"children\":[{\"id\":\"1701\"},{\"id\":\"1706\"},{\"id\":\"2222\"}],\"margin\":[0,0,0,0],\"name\":\"Row02462\",\"tags\":[\"embedded\"]},\"id\":\"1700\",\"type\":\"Row\"},{\"attributes\":{},\"id\":\"1738\",\"type\":\"DatetimeTickFormatter\"},{\"attributes\":{},\"id\":\"1770\",\"type\":\"UnionRenderers\"},{\"attributes\":{\"line_color\":\"#fc4f30\",\"line_width\":2,\"x\":{\"field\":\"index\"},\"y\":{\"field\":\"value\"}},\"id\":\"1778\",\"type\":\"Line\"},{\"attributes\":{\"bottom_units\":\"screen\",\"fill_alpha\":0.5,\"fill_color\":\"lightgrey\",\"left_units\":\"screen\",\"level\":\"overlay\",\"line_alpha\":1.0,\"line_color\":\"black\",\"line_dash\":[4,4],\"line_width\":2,\"right_units\":\"screen\",\"syncable\":false,\"top_units\":\"screen\"},\"id\":\"1728\",\"type\":\"BoxAnnotation\"},{\"attributes\":{\"source\":{\"id\":\"1742\"}},\"id\":\"1749\",\"type\":\"CDSView\"},{\"attributes\":{\"days\":[1,2,3,4,5,6,7,8,9,10,11,12,13,14,15,16,17,18,19,20,21,22,23,24,25,26,27,28,29,30,31]},\"id\":\"1760\",\"type\":\"DaysTicker\"},{\"attributes\":{\"line_alpha\":0.2,\"line_color\":\"#fc4f30\",\"line_width\":2,\"x\":{\"field\":\"index\"},\"y\":{\"field\":\"value\"}},\"id\":\"1780\",\"type\":\"Line\"},{\"attributes\":{\"text_align\":{\"value\":\"center\"},\"text_alpha\":{\"value\":0.1},\"text_baseline\":{\"value\":\"middle\"},\"text_color\":{\"value\":\"black\"},\"text_font_size\":{\"value\":\"12Pt\"},\"x\":{\"field\":\"x\"},\"y\":{\"field\":\"y\"}},\"id\":\"1984\",\"type\":\"Text\"},{\"attributes\":{},\"id\":\"1805\",\"type\":\"UnionRenderers\"},{\"attributes\":{\"months\":[0,2,4,6,8,10]},\"id\":\"1765\",\"type\":\"MonthsTicker\"},{\"attributes\":{\"data_source\":{\"id\":\"1980\"},\"glyph\":{\"id\":\"1983\"},\"hover_glyph\":null,\"muted_glyph\":null,\"nonselection_glyph\":{\"id\":\"1984\"},\"selection_glyph\":{\"id\":\"1987\"},\"view\":{\"id\":\"1986\"}},\"id\":\"1985\",\"type\":\"GlyphRenderer\"},{\"attributes\":{\"data\":{\"Variable\":[\"btc_price\",\"btc_price\",\"btc_price\",\"btc_price\",\"btc_price\",\"btc_price\",\"btc_price\",\"btc_price\",\"btc_price\",\"btc_price\",\"btc_price\",\"btc_price\",\"btc_price\",\"btc_price\",\"btc_price\",\"btc_price\",\"btc_price\",\"btc_price\",\"btc_price\",\"btc_price\",\"btc_price\",\"btc_price\",\"btc_price\",\"btc_price\",\"btc_price\",\"btc_price\",\"btc_price\",\"btc_price\",\"btc_price\",\"btc_price\",\"btc_price\",\"btc_price\",\"btc_price\",\"btc_price\",\"btc_price\",\"btc_price\",\"btc_price\",\"btc_price\",\"btc_price\",\"btc_price\",\"btc_price\",\"btc_price\",\"btc_price\",\"btc_price\",\"btc_price\",\"btc_price\",\"btc_price\",\"btc_price\",\"btc_price\",\"btc_price\",\"btc_price\",\"btc_price\",\"btc_price\",\"btc_price\",\"btc_price\",\"btc_price\",\"btc_price\",\"btc_price\",\"btc_price\",\"btc_price\",\"btc_price\",\"btc_price\",\"btc_price\",\"btc_price\",\"btc_price\",\"btc_price\",\"btc_price\",\"btc_price\",\"btc_price\",\"btc_price\",\"btc_price\",\"btc_price\",\"btc_price\",\"btc_price\",\"btc_price\",\"btc_price\",\"btc_price\",\"btc_price\",\"btc_price\",\"btc_price\",\"btc_price\"],\"index\":{\"__ndarray__\":\"AAAAGpCMdEIAAEBsipZ0QgAAwFgyoHRCAAAAqyyqdEIAAED9JrR0QgAAQB4qvXRCAACAcCTHdEIAAABdzNB0QgAAQK/G2nRCAADAm27kdEIAAADuaO50QgAAQEBj+HRCAADALAsCdUIAAAB/BQx1QgAAgGutFXVCAADAvacfdUIAAAAQoil1QgAAwJb3MnVCAAAA6fE8dUIAAIDVmUZ1QgAAwCeUUHVCAABAFDxadUIAAIBmNmR1QgAAwLgwbnVCAABApdh3dUIAAID30oF1QgAAAOR6i3VCAABANnWVdUIAAICIb591QgAAgKlyqHVCAADA+2yydUIAAEDoFLx1QgAAgDoPxnVCAAAAJ7fPdUIAAEB5sdl1QgAAgMur43VCAAAAuFPtdUIAAEAKTvd1QgAAwPb1AHZCAAAASfAKdkIAAECb6hR2QgAAQLztHXZCAACADugndkIAAAD7jzF2QgAAQE2KO3ZCAADAOTJFdkIAAACMLE92QgAAQN4mWXZCAADAys5idkIAAAAdyWx2QgAAgAlxdnZCAADAW2uAdkIAAACuZYp2QgAAAM9ok3ZCAABAIWOddkIAAMANC6d2QgAAAGAFsXZCAACATK26dkIAAMCep8R2QgAAAPGhznZCAACA3UnYdkIAAMAvROJ2QgAAQBzs63ZCAACAbub1dkIAAMDA4P92QgAAgEc2CXdCAADAmTATd0IAAECG2Bx3QgAAgNjSJndCAAAAxXowd0IAAEAXdTp3QgAAgGlvRHdCAAAAVhdOd0IAAECoEVh3QgAAwJS5YXdCAAAA57Nrd0IAAEA5rnV3QgAAQFqxfndCAACArKuId0IAAACZU5J3QgAAQOtNnHdC\",\"dtype\":\"float64\",\"order\":\"little\",\"shape\":[81]},\"value\":{\"__ndarray__\":\"AAAA4CZxd0AAAADg+1t0QAAAAIDrs3dAAAAA4Pujc0AAAACgGl9sQAAAAGA7Q3BAAAAAACmgb0AAAACAwl1tQAAAACCyOWxAAAAAIC/tb0AAAAAA06lxQAAAAIAWqWxAAAAAQGCpbUAAAABg5VZ0QAAAAODOp3ZAAAAAIFgle0AAAABg5VB3QAAAAMD3MXtAAAAAwPdNekAAAABAtMp7QAAAAKDGz4BAAAAAwJ39hUAAAABguBuBQAAAAMBL/IFAAAAA4CIXg0AAAAAgWM6GQAAAACAxpodAAAAAoJkyj0AAAAAgL+iOQAAAAAAAGpNAAAAAIK44kUAAAACgR7OWQAAAAKAZcaNAAAAAoPCUo0AAAAAAVy2lQAAAACDF4rFAAAAA4FE5sUAAAABgT2+6QAAAAMDMb8VAAAAAoJmsykAAAAAgRenBQAAAAACAY8VAAAAAwMyru0AAAADA9QnCQAAAAEBz271AAAAAIC7WuUAAAABgJo+9QAAAAGC4aLxAAAAAoBmcuUAAAACgx+m4QAAAAACsdrBAAAAAQAoHrkAAAAAA5D+rQAAAAOAqJ65AAAAAwOAPs0AAAACgSIG1QAAAAKB6E8FAAAAAwNYYxUAAAABgFovEQAAAAGBhNcRAAAAAYIVkwEAAAABgjRbCQAAAAOBKAL1AAAAAoCwgvEAAAAAAcFjCQAAAACA6ucBAAAAA4J+JukAAAABgTI7BQAAAAODmnMJAAAAAgLTRwUAAAACgzpbFQAAAAGAES8ZAAAAAAJWsxEAAAAAAjtTKQAAAAOC/XNJAAAAAwImv3EAAAACgJWDgQAAAAMDnO+hAAAAAAAr/7EAAAACA4qbrQAAAAMDlWOJA\",\"dtype\":\"float64\",\"order\":\"little\",\"shape\":[81]}},\"selected\":{\"id\":\"1776\"},\"selection_policy\":{\"id\":\"1805\"}},\"id\":\"1775\",\"type\":\"ColumnDataSource\"},{\"attributes\":{\"source\":{\"id\":\"1775\"}},\"id\":\"1782\",\"type\":\"CDSView\"},{\"attributes\":{\"text_align\":{\"value\":\"center\"},\"text_baseline\":{\"value\":\"middle\"},\"text_color\":{\"value\":\"black\"},\"text_font_size\":{\"value\":\"12Pt\"},\"x\":{\"field\":\"x\"},\"y\":{\"field\":\"y\"}},\"id\":\"1983\",\"type\":\"Text\"},{\"attributes\":{\"end\":1622505600000.0,\"reset_end\":1622505600000.0,\"reset_start\":1412121600000.0,\"start\":1412121600000.0,\"tags\":[[[\"index\",\"index\",null]]]},\"id\":\"1702\",\"type\":\"Range1d\"},{\"attributes\":{\"days\":[1,15]},\"id\":\"1763\",\"type\":\"DaysTicker\"},{\"attributes\":{\"source\":{\"id\":\"1980\"}},\"id\":\"1986\",\"type\":\"CDSView\"},{\"attributes\":{},\"id\":\"1743\",\"type\":\"Selection\"},{\"attributes\":{\"data_source\":{\"id\":\"1775\"},\"glyph\":{\"id\":\"1778\"},\"hover_glyph\":null,\"muted_glyph\":{\"id\":\"1780\"},\"nonselection_glyph\":{\"id\":\"1779\"},\"selection_glyph\":{\"id\":\"1808\"},\"view\":{\"id\":\"1782\"}},\"id\":\"1781\",\"type\":\"GlyphRenderer\"},{\"attributes\":{\"fill_alpha\":0.5,\"fill_color\":\"gray\",\"left\":1577836800000.0,\"level\":\"glyph\",\"line_alpha\":0.5,\"line_color\":\"gray\",\"right\":1625097600000.0},\"id\":\"1979\",\"type\":\"BoxAnnotation\"},{\"attributes\":{\"line_color\":\"#fc4f30\",\"line_width\":2,\"x\":{\"field\":\"index\"},\"y\":{\"field\":\"value\"}},\"id\":\"1808\",\"type\":\"Line\"},{\"attributes\":{},\"id\":\"1981\",\"type\":\"Selection\"},{\"attributes\":{\"text_color\":\"black\",\"text_font_size\":\"12pt\"},\"id\":\"1707\",\"type\":\"Title\"},{\"attributes\":{},\"id\":\"1741\",\"type\":\"BasicTickFormatter\"},{\"attributes\":{\"days\":[1,8,15,22]},\"id\":\"1762\",\"type\":\"DaysTicker\"},{\"attributes\":{\"axis\":{\"id\":\"1719\"},\"dimension\":1,\"grid_line_color\":null,\"ticker\":null},\"id\":\"1722\",\"type\":\"Grid\"},{\"attributes\":{\"months\":[0,1,2,3,4,5,6,7,8,9,10,11]},\"id\":\"1764\",\"type\":\"MonthsTicker\"},{\"attributes\":{},\"id\":\"1720\",\"type\":\"BasicTicker\"},{\"attributes\":{\"axis_label\":\"\",\"formatter\":{\"id\":\"1741\"},\"major_label_policy\":{\"id\":\"1740\"},\"ticker\":{\"id\":\"1720\"}},\"id\":\"1719\",\"type\":\"LinearAxis\"},{\"attributes\":{\"axis\":{\"id\":\"1715\"},\"grid_line_color\":null,\"ticker\":null},\"id\":\"1718\",\"type\":\"Grid\"},{\"attributes\":{\"line_alpha\":0.1,\"line_color\":\"#30a2da\",\"line_width\":2,\"x\":{\"field\":\"index\"},\"y\":{\"field\":\"value\"}},\"id\":\"1746\",\"type\":\"Line\"},{\"attributes\":{},\"id\":\"1713\",\"type\":\"LinearScale\"},{\"attributes\":{\"axis_label\":\"\",\"formatter\":{\"id\":\"1738\"},\"major_label_policy\":{\"id\":\"1737\"},\"ticker\":{\"id\":\"1716\"}},\"id\":\"1715\",\"type\":\"DatetimeAxis\"},{\"attributes\":{\"below\":[{\"id\":\"1715\"}],\"center\":[{\"id\":\"1718\"},{\"id\":\"1722\"}],\"height\":300,\"left\":[{\"id\":\"1719\"}],\"margin\":[5,5,5,5],\"min_border_bottom\":10,\"min_border_left\":10,\"min_border_right\":10,\"min_border_top\":10,\"renderers\":[{\"id\":\"1748\"},{\"id\":\"1781\"},{\"id\":\"1979\"},{\"id\":\"1985\"}],\"right\":[{\"id\":\"1772\"}],\"sizing_mode\":\"fixed\",\"title\":{\"id\":\"1707\"},\"toolbar\":{\"id\":\"1729\"},\"width\":700,\"x_range\":{\"id\":\"1702\"},\"x_scale\":{\"id\":\"1711\"},\"y_range\":{\"id\":\"1703\"},\"y_scale\":{\"id\":\"1713\"}},\"id\":\"1706\",\"subtype\":\"Figure\",\"type\":\"Plot\"},{\"attributes\":{\"label\":{\"value\":\"btc_price\"},\"renderers\":[{\"id\":\"1781\"}]},\"id\":\"1807\",\"type\":\"LegendItem\"},{\"attributes\":{\"days\":[1,4,7,10,13,16,19,22,25,28]},\"id\":\"1761\",\"type\":\"DaysTicker\"},{\"attributes\":{\"base\":24,\"mantissas\":[1,2,4,6,8,12],\"max_interval\":43200000.0,\"min_interval\":3600000.0,\"num_minor_ticks\":0},\"id\":\"1759\",\"type\":\"AdaptiveTicker\"},{\"attributes\":{\"margin\":[5,5,5,5],\"name\":\"HSpacer02466\",\"sizing_mode\":\"stretch_width\"},\"id\":\"1701\",\"type\":\"Spacer\"},{\"attributes\":{},\"id\":\"1723\",\"type\":\"SaveTool\"},{\"attributes\":{\"base\":60,\"mantissas\":[1,2,5,10,15,20,30],\"max_interval\":1800000.0,\"min_interval\":1000.0,\"num_minor_ticks\":0},\"id\":\"1758\",\"type\":\"AdaptiveTicker\"},{\"attributes\":{},\"id\":\"1737\",\"type\":\"AllLabels\"},{\"attributes\":{},\"id\":\"1724\",\"type\":\"PanTool\"},{\"attributes\":{\"mantissas\":[1,2,5],\"max_interval\":500.0,\"num_minor_ticks\":0},\"id\":\"1757\",\"type\":\"AdaptiveTicker\"},{\"attributes\":{},\"id\":\"1725\",\"type\":\"WheelZoomTool\"},{\"attributes\":{\"data_source\":{\"id\":\"1742\"},\"glyph\":{\"id\":\"1745\"},\"hover_glyph\":null,\"muted_glyph\":{\"id\":\"1747\"},\"nonselection_glyph\":{\"id\":\"1746\"},\"selection_glyph\":{\"id\":\"1774\"},\"view\":{\"id\":\"1749\"}},\"id\":\"1748\",\"type\":\"GlyphRenderer\"}],\"root_ids\":[\"1700\"]},\"title\":\"Bokeh Application\",\"version\":\"2.3.2\"}};\n",
       "    var render_items = [{\"docid\":\"51dd0600-c8ce-4412-b0b6-7f9dd76aa983\",\"root_ids\":[\"1700\"],\"roots\":{\"1700\":\"4fcfae7d-c1b3-4b3f-962a-7d9c79b433e3\"}}];\n",
       "    root.Bokeh.embed.embed_items_notebook(docs_json, render_items);\n",
       "  }\n",
       "  if (root.Bokeh !== undefined && root.Bokeh.Panel !== undefined) {\n",
       "    embed_document(root);\n",
       "  } else {\n",
       "    var attempts = 0;\n",
       "    var timer = setInterval(function(root) {\n",
       "      if (root.Bokeh !== undefined && root.Bokeh.Panel !== undefined) {\n",
       "        clearInterval(timer);\n",
       "        embed_document(root);\n",
       "      } else if (document.readyState == \"complete\") {\n",
       "        attempts++;\n",
       "        if (attempts > 200) {\n",
       "          clearInterval(timer);\n",
       "          console.log(\"Bokeh: ERROR: Unable to run BokehJS code because BokehJS library is missing\");\n",
       "        }\n",
       "      }\n",
       "    }, 25, root)\n",
       "  }\n",
       "})(window);</script>"
      ],
      "text/plain": [
       ":Overlay\n",
       "   .NdOverlay.I :NdOverlay   [Variable]\n",
       "      :Curve   [index]   (value)\n",
       "   .VSpan.I     :VSpan   [x,y]\n",
       "   .Text.I      :Text   [x,y]"
      ]
     },
     "execution_count": 68,
     "metadata": {
      "application/vnd.holoviews_exec.v0+json": {
       "id": "1700"
      }
     },
     "output_type": "execute_result"
    }
   ],
   "source": [
    "pandemic_startLine = hv.VSpan(dt.datetime(2020, 1, 1),dt.datetime(2021, 7, 1)).options(color='gray')\n",
    "m2sl_btc_pandemic = m2sl_btc.hvplot() * pandemic_startLine * hv.Text(dt.datetime(2020, 1, 1), 21000, \"Pandemic\")\n",
    "m2sl_btc_pandemic"
   ]
  },
  {
   "cell_type": "markdown",
   "id": "8e767455",
   "metadata": {},
   "source": [
    "## Calculating Z score"
   ]
  },
  {
   "cell_type": "code",
   "execution_count": 70,
   "id": "0cf6b814",
   "metadata": {},
   "outputs": [
    {
     "data": {
      "text/html": [
       "<div>\n",
       "<style scoped>\n",
       "    .dataframe tbody tr th:only-of-type {\n",
       "        vertical-align: middle;\n",
       "    }\n",
       "\n",
       "    .dataframe tbody tr th {\n",
       "        vertical-align: top;\n",
       "    }\n",
       "\n",
       "    .dataframe thead th {\n",
       "        text-align: right;\n",
       "    }\n",
       "</style>\n",
       "<table border=\"1\" class=\"dataframe\">\n",
       "  <thead>\n",
       "    <tr style=\"text-align: right;\">\n",
       "      <th></th>\n",
       "      <th>m2_supply</th>\n",
       "      <th>btc_price</th>\n",
       "    </tr>\n",
       "  </thead>\n",
       "  <tbody>\n",
       "    <tr>\n",
       "      <th>2014-10-01</th>\n",
       "      <td>11562.1</td>\n",
       "      <td>375.071991</td>\n",
       "    </tr>\n",
       "    <tr>\n",
       "      <th>2014-11-01</th>\n",
       "      <td>11598.2</td>\n",
       "      <td>325.748993</td>\n",
       "    </tr>\n",
       "    <tr>\n",
       "      <th>2014-12-01</th>\n",
       "      <td>11677.5</td>\n",
       "      <td>379.244995</td>\n",
       "    </tr>\n",
       "    <tr>\n",
       "      <th>2015-01-01</th>\n",
       "      <td>11747.4</td>\n",
       "      <td>314.248993</td>\n",
       "    </tr>\n",
       "    <tr>\n",
       "      <th>2015-02-01</th>\n",
       "      <td>11875.2</td>\n",
       "      <td>226.972000</td>\n",
       "    </tr>\n",
       "  </tbody>\n",
       "</table>\n",
       "</div>"
      ],
      "text/plain": [
       "            m2_supply   btc_price\n",
       "2014-10-01    11562.1  375.071991\n",
       "2014-11-01    11598.2  325.748993\n",
       "2014-12-01    11677.5  379.244995\n",
       "2015-01-01    11747.4  314.248993\n",
       "2015-02-01    11875.2  226.972000"
      ]
     },
     "execution_count": 70,
     "metadata": {},
     "output_type": "execute_result"
    }
   ],
   "source": [
    "z_score_m2sl_btc = m2sl_btc.copy(deep=True)\n",
    "z_score_m2sl_btc.head()"
   ]
  },
  {
   "cell_type": "code",
   "execution_count": 71,
   "id": "51dc49c1",
   "metadata": {},
   "outputs": [
    {
     "data": {
      "text/html": [
       "<div>\n",
       "<style scoped>\n",
       "    .dataframe tbody tr th:only-of-type {\n",
       "        vertical-align: middle;\n",
       "    }\n",
       "\n",
       "    .dataframe tbody tr th {\n",
       "        vertical-align: top;\n",
       "    }\n",
       "\n",
       "    .dataframe thead th {\n",
       "        text-align: right;\n",
       "    }\n",
       "</style>\n",
       "<table border=\"1\" class=\"dataframe\">\n",
       "  <thead>\n",
       "    <tr style=\"text-align: right;\">\n",
       "      <th></th>\n",
       "      <th>m2_supply</th>\n",
       "      <th>btc_price</th>\n",
       "      <th>m2_supply_zscore</th>\n",
       "    </tr>\n",
       "  </thead>\n",
       "  <tbody>\n",
       "    <tr>\n",
       "      <th>2014-10-01</th>\n",
       "      <td>11562.1</td>\n",
       "      <td>375.071991</td>\n",
       "      <td>-1.225845</td>\n",
       "    </tr>\n",
       "    <tr>\n",
       "      <th>2014-11-01</th>\n",
       "      <td>11598.2</td>\n",
       "      <td>325.748993</td>\n",
       "      <td>-1.210906</td>\n",
       "    </tr>\n",
       "    <tr>\n",
       "      <th>2014-12-01</th>\n",
       "      <td>11677.5</td>\n",
       "      <td>379.244995</td>\n",
       "      <td>-1.178089</td>\n",
       "    </tr>\n",
       "    <tr>\n",
       "      <th>2015-01-01</th>\n",
       "      <td>11747.4</td>\n",
       "      <td>314.248993</td>\n",
       "      <td>-1.149163</td>\n",
       "    </tr>\n",
       "    <tr>\n",
       "      <th>2015-02-01</th>\n",
       "      <td>11875.2</td>\n",
       "      <td>226.972000</td>\n",
       "      <td>-1.096276</td>\n",
       "    </tr>\n",
       "  </tbody>\n",
       "</table>\n",
       "</div>"
      ],
      "text/plain": [
       "            m2_supply   btc_price  m2_supply_zscore\n",
       "2014-10-01    11562.1  375.071991         -1.225845\n",
       "2014-11-01    11598.2  325.748993         -1.210906\n",
       "2014-12-01    11677.5  379.244995         -1.178089\n",
       "2015-01-01    11747.4  314.248993         -1.149163\n",
       "2015-02-01    11875.2  226.972000         -1.096276"
      ]
     },
     "execution_count": 71,
     "metadata": {},
     "output_type": "execute_result"
    }
   ],
   "source": [
    "z_score_m2sl_btc['m2_supply_zscore'] = (z_score_m2sl_btc['m2_supply'] - z_score_m2sl_btc['m2_supply'].mean()) /z_score_m2sl_btc['m2_supply'].std()\n",
    "z_score_m2sl_btc.head()"
   ]
  },
  {
   "cell_type": "code",
   "execution_count": 72,
   "id": "888cf275",
   "metadata": {},
   "outputs": [
    {
     "data": {
      "text/html": [
       "<div>\n",
       "<style scoped>\n",
       "    .dataframe tbody tr th:only-of-type {\n",
       "        vertical-align: middle;\n",
       "    }\n",
       "\n",
       "    .dataframe tbody tr th {\n",
       "        vertical-align: top;\n",
       "    }\n",
       "\n",
       "    .dataframe thead th {\n",
       "        text-align: right;\n",
       "    }\n",
       "</style>\n",
       "<table border=\"1\" class=\"dataframe\">\n",
       "  <thead>\n",
       "    <tr style=\"text-align: right;\">\n",
       "      <th></th>\n",
       "      <th>m2_supply</th>\n",
       "      <th>btc_price</th>\n",
       "      <th>m2_supply_zscore</th>\n",
       "      <th>btc_price_zscore</th>\n",
       "    </tr>\n",
       "  </thead>\n",
       "  <tbody>\n",
       "    <tr>\n",
       "      <th>2014-10-01</th>\n",
       "      <td>11562.1</td>\n",
       "      <td>375.071991</td>\n",
       "      <td>-1.225845</td>\n",
       "      <td>-0.627466</td>\n",
       "    </tr>\n",
       "    <tr>\n",
       "      <th>2014-11-01</th>\n",
       "      <td>11598.2</td>\n",
       "      <td>325.748993</td>\n",
       "      <td>-1.210906</td>\n",
       "      <td>-0.631676</td>\n",
       "    </tr>\n",
       "    <tr>\n",
       "      <th>2014-12-01</th>\n",
       "      <td>11677.5</td>\n",
       "      <td>379.244995</td>\n",
       "      <td>-1.178089</td>\n",
       "      <td>-0.627110</td>\n",
       "    </tr>\n",
       "    <tr>\n",
       "      <th>2015-01-01</th>\n",
       "      <td>11747.4</td>\n",
       "      <td>314.248993</td>\n",
       "      <td>-1.149163</td>\n",
       "      <td>-0.632658</td>\n",
       "    </tr>\n",
       "    <tr>\n",
       "      <th>2015-02-01</th>\n",
       "      <td>11875.2</td>\n",
       "      <td>226.972000</td>\n",
       "      <td>-1.096276</td>\n",
       "      <td>-0.640108</td>\n",
       "    </tr>\n",
       "  </tbody>\n",
       "</table>\n",
       "</div>"
      ],
      "text/plain": [
       "            m2_supply   btc_price  m2_supply_zscore  btc_price_zscore\n",
       "2014-10-01    11562.1  375.071991         -1.225845         -0.627466\n",
       "2014-11-01    11598.2  325.748993         -1.210906         -0.631676\n",
       "2014-12-01    11677.5  379.244995         -1.178089         -0.627110\n",
       "2015-01-01    11747.4  314.248993         -1.149163         -0.632658\n",
       "2015-02-01    11875.2  226.972000         -1.096276         -0.640108"
      ]
     },
     "execution_count": 72,
     "metadata": {},
     "output_type": "execute_result"
    }
   ],
   "source": [
    "z_score_m2sl_btc['btc_price_zscore'] = (z_score_m2sl_btc['btc_price'] - z_score_m2sl_btc['btc_price'].mean()) /z_score_m2sl_btc['btc_price'].std()\n",
    "z_score_m2sl_btc.head()"
   ]
  },
  {
   "cell_type": "code",
   "execution_count": 73,
   "id": "8d6aa6af",
   "metadata": {},
   "outputs": [
    {
     "data": {
      "text/html": [
       "<div>\n",
       "<style scoped>\n",
       "    .dataframe tbody tr th:only-of-type {\n",
       "        vertical-align: middle;\n",
       "    }\n",
       "\n",
       "    .dataframe tbody tr th {\n",
       "        vertical-align: top;\n",
       "    }\n",
       "\n",
       "    .dataframe thead th {\n",
       "        text-align: right;\n",
       "    }\n",
       "</style>\n",
       "<table border=\"1\" class=\"dataframe\">\n",
       "  <thead>\n",
       "    <tr style=\"text-align: right;\">\n",
       "      <th></th>\n",
       "      <th>m2_supply_zscore</th>\n",
       "      <th>btc_price_zscore</th>\n",
       "    </tr>\n",
       "  </thead>\n",
       "  <tbody>\n",
       "    <tr>\n",
       "      <th>2014-10-01</th>\n",
       "      <td>-1.225845</td>\n",
       "      <td>-0.627466</td>\n",
       "    </tr>\n",
       "    <tr>\n",
       "      <th>2014-11-01</th>\n",
       "      <td>-1.210906</td>\n",
       "      <td>-0.631676</td>\n",
       "    </tr>\n",
       "    <tr>\n",
       "      <th>2014-12-01</th>\n",
       "      <td>-1.178089</td>\n",
       "      <td>-0.627110</td>\n",
       "    </tr>\n",
       "    <tr>\n",
       "      <th>2015-01-01</th>\n",
       "      <td>-1.149163</td>\n",
       "      <td>-0.632658</td>\n",
       "    </tr>\n",
       "    <tr>\n",
       "      <th>2015-02-01</th>\n",
       "      <td>-1.096276</td>\n",
       "      <td>-0.640108</td>\n",
       "    </tr>\n",
       "  </tbody>\n",
       "</table>\n",
       "</div>"
      ],
      "text/plain": [
       "            m2_supply_zscore  btc_price_zscore\n",
       "2014-10-01         -1.225845         -0.627466\n",
       "2014-11-01         -1.210906         -0.631676\n",
       "2014-12-01         -1.178089         -0.627110\n",
       "2015-01-01         -1.149163         -0.632658\n",
       "2015-02-01         -1.096276         -0.640108"
      ]
     },
     "execution_count": 73,
     "metadata": {},
     "output_type": "execute_result"
    }
   ],
   "source": [
    "# Create DataFrame only containing z-Scores:\n",
    "z_score_m2sl_btc.drop(columns = ['m2_supply', 'btc_price'], inplace = True)\n",
    "z_score_m2sl_btc.head()"
   ]
  },
  {
   "cell_type": "markdown",
   "id": "9e10d401",
   "metadata": {},
   "source": [
    "## Exporting Dataframe to .csv file"
   ]
  },
  {
   "cell_type": "code",
   "execution_count": 74,
   "id": "23a466d9",
   "metadata": {},
   "outputs": [],
   "source": [
    "z_score_m2sl_btc.to_csv(r'Resources/pd_z-score_m2sl_btc.csv', index = False, header=True)"
   ]
  },
  {
   "cell_type": "markdown",
   "id": "d1643506",
   "metadata": {},
   "source": [
    "## Plotting Z Score line plot and scatter plot"
   ]
  },
  {
   "cell_type": "code",
   "execution_count": 75,
   "id": "e0e159e0",
   "metadata": {},
   "outputs": [
    {
     "data": {},
     "metadata": {},
     "output_type": "display_data"
    },
    {
     "data": {
      "application/vnd.holoviews_exec.v0+json": "",
      "text/html": [
       "<div id='2354'>\n",
       "\n",
       "\n",
       "\n",
       "\n",
       "\n",
       "  <div class=\"bk-root\" id=\"f19b455a-c310-45a2-ba41-9f6b4c3fca06\" data-root-id=\"2354\"></div>\n",
       "</div>\n",
       "<script type=\"application/javascript\">(function(root) {\n",
       "  function embed_document(root) {\n",
       "    var docs_json = {\"6ecc2908-3874-4d52-9eb6-12582c6da7b7\":{\"defs\":[{\"extends\":null,\"module\":null,\"name\":\"ReactiveHTML1\",\"overrides\":[],\"properties\":[]},{\"extends\":null,\"module\":null,\"name\":\"FlexBox1\",\"overrides\":[],\"properties\":[{\"default\":\"flex-start\",\"kind\":null,\"name\":\"align_content\"},{\"default\":\"flex-start\",\"kind\":null,\"name\":\"align_items\"},{\"default\":\"row\",\"kind\":null,\"name\":\"flex_direction\"},{\"default\":\"wrap\",\"kind\":null,\"name\":\"flex_wrap\"},{\"default\":\"flex-start\",\"kind\":null,\"name\":\"justify_content\"}]},{\"extends\":null,\"module\":null,\"name\":\"TemplateActions1\",\"overrides\":[],\"properties\":[{\"default\":0,\"kind\":null,\"name\":\"open_modal\"},{\"default\":0,\"kind\":null,\"name\":\"close_modal\"}]},{\"extends\":null,\"module\":null,\"name\":\"MaterialTemplateActions1\",\"overrides\":[],\"properties\":[{\"default\":0,\"kind\":null,\"name\":\"open_modal\"},{\"default\":0,\"kind\":null,\"name\":\"close_modal\"}]}],\"roots\":{\"references\":[{\"attributes\":{\"axis\":{\"id\":\"2369\"},\"grid_line_color\":null,\"ticker\":null},\"id\":\"2372\",\"type\":\"Grid\"},{\"attributes\":{\"axis_label\":\"\",\"formatter\":{\"id\":\"2395\"},\"major_label_policy\":{\"id\":\"2394\"},\"ticker\":{\"id\":\"2374\"}},\"id\":\"2373\",\"type\":\"LinearAxis\"},{\"attributes\":{\"months\":[0,6]},\"id\":\"2421\",\"type\":\"MonthsTicker\"},{\"attributes\":{\"line_alpha\":0.1,\"line_color\":\"#30a2da\",\"line_width\":2,\"x\":{\"field\":\"index\"},\"y\":{\"field\":\"value\"}},\"id\":\"2400\",\"type\":\"Line\"},{\"attributes\":{},\"id\":\"2374\",\"type\":\"BasicTicker\"},{\"attributes\":{\"axis\":{\"id\":\"2373\"},\"dimension\":1,\"grid_line_color\":null,\"ticker\":null},\"id\":\"2376\",\"type\":\"Grid\"},{\"attributes\":{\"source\":{\"id\":\"2396\"}},\"id\":\"2403\",\"type\":\"CDSView\"},{\"attributes\":{},\"id\":\"2422\",\"type\":\"YearsTicker\"},{\"attributes\":{\"bottom_units\":\"screen\",\"fill_alpha\":0.5,\"fill_color\":\"lightgrey\",\"left_units\":\"screen\",\"level\":\"overlay\",\"line_alpha\":1.0,\"line_color\":\"black\",\"line_dash\":[4,4],\"line_width\":2,\"right_units\":\"screen\",\"syncable\":false,\"top_units\":\"screen\"},\"id\":\"2382\",\"type\":\"BoxAnnotation\"},{\"attributes\":{\"data_source\":{\"id\":\"2396\"},\"glyph\":{\"id\":\"2399\"},\"hover_glyph\":null,\"muted_glyph\":{\"id\":\"2401\"},\"nonselection_glyph\":{\"id\":\"2400\"},\"selection_glyph\":{\"id\":\"2428\"},\"view\":{\"id\":\"2403\"}},\"id\":\"2402\",\"type\":\"GlyphRenderer\"},{\"attributes\":{},\"id\":\"2430\",\"type\":\"Selection\"},{\"attributes\":{\"data\":{\"Variable\":[\"btc_price_zscore\",\"btc_price_zscore\",\"btc_price_zscore\",\"btc_price_zscore\",\"btc_price_zscore\",\"btc_price_zscore\",\"btc_price_zscore\",\"btc_price_zscore\",\"btc_price_zscore\",\"btc_price_zscore\",\"btc_price_zscore\",\"btc_price_zscore\",\"btc_price_zscore\",\"btc_price_zscore\",\"btc_price_zscore\",\"btc_price_zscore\",\"btc_price_zscore\",\"btc_price_zscore\",\"btc_price_zscore\",\"btc_price_zscore\",\"btc_price_zscore\",\"btc_price_zscore\",\"btc_price_zscore\",\"btc_price_zscore\",\"btc_price_zscore\",\"btc_price_zscore\",\"btc_price_zscore\",\"btc_price_zscore\",\"btc_price_zscore\",\"btc_price_zscore\",\"btc_price_zscore\",\"btc_price_zscore\",\"btc_price_zscore\",\"btc_price_zscore\",\"btc_price_zscore\",\"btc_price_zscore\",\"btc_price_zscore\",\"btc_price_zscore\",\"btc_price_zscore\",\"btc_price_zscore\",\"btc_price_zscore\",\"btc_price_zscore\",\"btc_price_zscore\",\"btc_price_zscore\",\"btc_price_zscore\",\"btc_price_zscore\",\"btc_price_zscore\",\"btc_price_zscore\",\"btc_price_zscore\",\"btc_price_zscore\",\"btc_price_zscore\",\"btc_price_zscore\",\"btc_price_zscore\",\"btc_price_zscore\",\"btc_price_zscore\",\"btc_price_zscore\",\"btc_price_zscore\",\"btc_price_zscore\",\"btc_price_zscore\",\"btc_price_zscore\",\"btc_price_zscore\",\"btc_price_zscore\",\"btc_price_zscore\",\"btc_price_zscore\",\"btc_price_zscore\",\"btc_price_zscore\",\"btc_price_zscore\",\"btc_price_zscore\",\"btc_price_zscore\",\"btc_price_zscore\",\"btc_price_zscore\",\"btc_price_zscore\",\"btc_price_zscore\",\"btc_price_zscore\",\"btc_price_zscore\",\"btc_price_zscore\",\"btc_price_zscore\",\"btc_price_zscore\",\"btc_price_zscore\",\"btc_price_zscore\",\"btc_price_zscore\"],\"index\":{\"__ndarray__\":\"AAAAGpCMdEIAAEBsipZ0QgAAwFgyoHRCAAAAqyyqdEIAAED9JrR0QgAAQB4qvXRCAACAcCTHdEIAAABdzNB0QgAAQK/G2nRCAADAm27kdEIAAADuaO50QgAAQEBj+HRCAADALAsCdUIAAAB/BQx1QgAAgGutFXVCAADAvacfdUIAAAAQoil1QgAAwJb3MnVCAAAA6fE8dUIAAIDVmUZ1QgAAwCeUUHVCAABAFDxadUIAAIBmNmR1QgAAwLgwbnVCAABApdh3dUIAAID30oF1QgAAAOR6i3VCAABANnWVdUIAAICIb591QgAAgKlyqHVCAADA+2yydUIAAEDoFLx1QgAAgDoPxnVCAAAAJ7fPdUIAAEB5sdl1QgAAgMur43VCAAAAuFPtdUIAAEAKTvd1QgAAwPb1AHZCAAAASfAKdkIAAECb6hR2QgAAQLztHXZCAACADugndkIAAAD7jzF2QgAAQE2KO3ZCAADAOTJFdkIAAACMLE92QgAAQN4mWXZCAADAys5idkIAAAAdyWx2QgAAgAlxdnZCAADAW2uAdkIAAACuZYp2QgAAAM9ok3ZCAABAIWOddkIAAMANC6d2QgAAAGAFsXZCAACATK26dkIAAMCep8R2QgAAAPGhznZCAACA3UnYdkIAAMAvROJ2QgAAQBzs63ZCAACAbub1dkIAAMDA4P92QgAAgEc2CXdCAADAmTATd0IAAECG2Bx3QgAAgNjSJndCAAAAxXowd0IAAEAXdTp3QgAAgGlvRHdCAAAAVhdOd0IAAECoEVh3QgAAwJS5YXdCAAAA57Nrd0IAAEA5rnV3QgAAQFqxfndCAACArKuId0IAAACZU5J3QgAAQOtNnHdC\",\"dtype\":\"float64\",\"order\":\"little\",\"shape\":[81]},\"value\":{\"__ndarray__\":\"4AZ44TMU5L8sxaSDsTbkv7/aCNhIEeS/NU1mNLw+5L8rb1c7xHvkv2s9IoOHZOS/gX+P5I9p5L/9OI2eM3bkv0g32ICVfOS/0Q8YAOFn5L8KWM9j21Tkv4wbnVgmeuS/N4gemox05L9+57Vw6jbkv7EPUp8AHeS/zPQ7/8Lq47+DFczGnBXkv2ylFcI16uO/QOR/viz0478W3sTciOPjv4xtghVKouO/ODxzqWUu479GJhusppvjv0w7k1MFiOO/IJ5CMExv47+lWbHwJhzjv6+N7eZICeO/hgOmRF9g4r9f8gV74Gbiv++QlTucw+G/N8ClScEX4r81r+MljSLhvzbiEp2QnNy/3BYgsICD3L87B4dX6mXbv7gRmKFAMdG/7cvpaT0e0r+oFzc7u/G0v6UITT0kwdE/HzTzCMUz4D/B3qCAlJK/P2SitsO8ntE/8QiJ92cOrL+/zRCUKoDAPz3e2Z/nxXy/gOvzgmFKuL98HhHXtLmLv3UUO9qpzKO/beHd4EuPub9zSP4w3nS9v/5QpNN3LtO/zA8AfIw11b8+ecYB2CbXv3uG6iMVH9W/dJZRDUQYz7+Cn88Y7ELIvyO1PWKSOrY/V6CQcubN0D/XAFEEzoLOP3acXzFWo8w/5L0ilBgqrT87JylmnMbAP6LK1HCVWZq/c8dWh1j4pr/L7c3PMDfCP22WDeDISLI/f9ezcoVetL+bQp6BvZi7P/6J7NYytsM/ZVAdROyKvj+ThE8RQC7SP2lxa1ZSJtQ/7VBcwy4+zz8brfwZpmvgPzLDFRIkQu4/SfpK4S+R/T98cJZ5YKABQHBrpJT0nQxA3L7FbX+jEUAosC0c1rIQQLHiRN5NYgRA\",\"dtype\":\"float64\",\"order\":\"little\",\"shape\":[81]}},\"selected\":{\"id\":\"2430\"},\"selection_policy\":{\"id\":\"2459\"}},\"id\":\"2429\",\"type\":\"ColumnDataSource\"},{\"attributes\":{},\"id\":\"2365\",\"type\":\"LinearScale\"},{\"attributes\":{\"callback\":null,\"formatters\":{\"@{index}\":\"datetime\"},\"renderers\":[{\"id\":\"2402\"},{\"id\":\"2435\"}],\"tags\":[\"hv_created\"],\"tooltips\":[[\"Variable\",\"@{Variable}\"],[\"index\",\"@{index}{%F %T}\"],[\"value\",\"@{value}\"]]},\"id\":\"2358\",\"type\":\"HoverTool\"},{\"attributes\":{\"label\":{\"value\":\"btc_price_zscore\"},\"renderers\":[{\"id\":\"2435\"}]},\"id\":\"2461\",\"type\":\"LegendItem\"},{\"attributes\":{\"days\":[1,2,3,4,5,6,7,8,9,10,11,12,13,14,15,16,17,18,19,20,21,22,23,24,25,26,27,28,29,30,31]},\"id\":\"2414\",\"type\":\"DaysTicker\"},{\"attributes\":{\"margin\":[5,5,5,5],\"name\":\"HSpacer03156\",\"sizing_mode\":\"stretch_width\"},\"id\":\"2355\",\"type\":\"Spacer\"},{\"attributes\":{},\"id\":\"2392\",\"type\":\"DatetimeTickFormatter\"},{\"attributes\":{\"base\":24,\"mantissas\":[1,2,4,6,8,12],\"max_interval\":43200000.0,\"min_interval\":3600000.0,\"num_minor_ticks\":0},\"id\":\"2413\",\"type\":\"AdaptiveTicker\"},{\"attributes\":{\"line_alpha\":0.2,\"line_color\":\"#30a2da\",\"line_width\":2,\"x\":{\"field\":\"index\"},\"y\":{\"field\":\"value\"}},\"id\":\"2401\",\"type\":\"Line\"},{\"attributes\":{},\"id\":\"2424\",\"type\":\"UnionRenderers\"},{\"attributes\":{\"children\":[{\"id\":\"2355\"},{\"id\":\"2360\"},{\"id\":\"2679\"}],\"margin\":[0,0,0,0],\"name\":\"Row03152\",\"tags\":[\"embedded\"]},\"id\":\"2354\",\"type\":\"Row\"},{\"attributes\":{\"base\":60,\"mantissas\":[1,2,5,10,15,20,30],\"max_interval\":1800000.0,\"min_interval\":1000.0,\"num_minor_ticks\":0},\"id\":\"2412\",\"type\":\"AdaptiveTicker\"},{\"attributes\":{\"click_policy\":\"mute\",\"items\":[{\"id\":\"2427\"},{\"id\":\"2461\"}],\"location\":[0,0],\"title\":\"Variable\"},\"id\":\"2426\",\"type\":\"Legend\"},{\"attributes\":{\"line_color\":\"#fc4f30\",\"line_width\":2,\"x\":{\"field\":\"index\"},\"y\":{\"field\":\"value\"}},\"id\":\"2462\",\"type\":\"Line\"},{\"attributes\":{\"mantissas\":[1,2,5],\"max_interval\":500.0,\"num_minor_ticks\":0},\"id\":\"2411\",\"type\":\"AdaptiveTicker\"},{\"attributes\":{\"label\":{\"value\":\"m2_supply_zscore\"},\"renderers\":[{\"id\":\"2402\"}]},\"id\":\"2427\",\"type\":\"LegendItem\"},{\"attributes\":{},\"id\":\"2377\",\"type\":\"SaveTool\"},{\"attributes\":{\"days\":[1,4,7,10,13,16,19,22,25,28]},\"id\":\"2415\",\"type\":\"DaysTicker\"},{\"attributes\":{},\"id\":\"2395\",\"type\":\"BasicTickFormatter\"},{\"attributes\":{\"line_color\":\"#fc4f30\",\"line_width\":2,\"x\":{\"field\":\"index\"},\"y\":{\"field\":\"value\"}},\"id\":\"2432\",\"type\":\"Line\"},{\"attributes\":{},\"id\":\"2378\",\"type\":\"PanTool\"},{\"attributes\":{\"axis_label\":\"\",\"formatter\":{\"id\":\"2392\"},\"major_label_policy\":{\"id\":\"2391\"},\"ticker\":{\"id\":\"2370\"}},\"id\":\"2369\",\"type\":\"DatetimeAxis\"},{\"attributes\":{\"active_multi\":null,\"tools\":[{\"id\":\"2358\"},{\"id\":\"2377\"},{\"id\":\"2378\"},{\"id\":\"2379\"},{\"id\":\"2380\"},{\"id\":\"2381\"}]},\"id\":\"2383\",\"type\":\"Toolbar\"},{\"attributes\":{\"end\":1622505600000.0,\"reset_end\":1622505600000.0,\"reset_start\":1412121600000.0,\"start\":1412121600000.0,\"tags\":[[[\"index\",\"index\",null]]]},\"id\":\"2356\",\"type\":\"Range1d\"},{\"attributes\":{},\"id\":\"2381\",\"type\":\"ResetTool\"},{\"attributes\":{},\"id\":\"2391\",\"type\":\"AllLabels\"},{\"attributes\":{\"data\":{\"Variable\":[\"m2_supply_zscore\",\"m2_supply_zscore\",\"m2_supply_zscore\",\"m2_supply_zscore\",\"m2_supply_zscore\",\"m2_supply_zscore\",\"m2_supply_zscore\",\"m2_supply_zscore\",\"m2_supply_zscore\",\"m2_supply_zscore\",\"m2_supply_zscore\",\"m2_supply_zscore\",\"m2_supply_zscore\",\"m2_supply_zscore\",\"m2_supply_zscore\",\"m2_supply_zscore\",\"m2_supply_zscore\",\"m2_supply_zscore\",\"m2_supply_zscore\",\"m2_supply_zscore\",\"m2_supply_zscore\",\"m2_supply_zscore\",\"m2_supply_zscore\",\"m2_supply_zscore\",\"m2_supply_zscore\",\"m2_supply_zscore\",\"m2_supply_zscore\",\"m2_supply_zscore\",\"m2_supply_zscore\",\"m2_supply_zscore\",\"m2_supply_zscore\",\"m2_supply_zscore\",\"m2_supply_zscore\",\"m2_supply_zscore\",\"m2_supply_zscore\",\"m2_supply_zscore\",\"m2_supply_zscore\",\"m2_supply_zscore\",\"m2_supply_zscore\",\"m2_supply_zscore\",\"m2_supply_zscore\",\"m2_supply_zscore\",\"m2_supply_zscore\",\"m2_supply_zscore\",\"m2_supply_zscore\",\"m2_supply_zscore\",\"m2_supply_zscore\",\"m2_supply_zscore\",\"m2_supply_zscore\",\"m2_supply_zscore\",\"m2_supply_zscore\",\"m2_supply_zscore\",\"m2_supply_zscore\",\"m2_supply_zscore\",\"m2_supply_zscore\",\"m2_supply_zscore\",\"m2_supply_zscore\",\"m2_supply_zscore\",\"m2_supply_zscore\",\"m2_supply_zscore\",\"m2_supply_zscore\",\"m2_supply_zscore\",\"m2_supply_zscore\",\"m2_supply_zscore\",\"m2_supply_zscore\",\"m2_supply_zscore\",\"m2_supply_zscore\",\"m2_supply_zscore\",\"m2_supply_zscore\",\"m2_supply_zscore\",\"m2_supply_zscore\",\"m2_supply_zscore\",\"m2_supply_zscore\",\"m2_supply_zscore\",\"m2_supply_zscore\",\"m2_supply_zscore\",\"m2_supply_zscore\",\"m2_supply_zscore\",\"m2_supply_zscore\",\"m2_supply_zscore\",\"m2_supply_zscore\"],\"index\":{\"__ndarray__\":\"AAAAGpCMdEIAAEBsipZ0QgAAwFgyoHRCAAAAqyyqdEIAAED9JrR0QgAAQB4qvXRCAACAcCTHdEIAAABdzNB0QgAAQK/G2nRCAADAm27kdEIAAADuaO50QgAAQEBj+HRCAADALAsCdUIAAAB/BQx1QgAAgGutFXVCAADAvacfdUIAAAAQoil1QgAAwJb3MnVCAAAA6fE8dUIAAIDVmUZ1QgAAwCeUUHVCAABAFDxadUIAAIBmNmR1QgAAwLgwbnVCAABApdh3dUIAAID30oF1QgAAAOR6i3VCAABANnWVdUIAAICIb591QgAAgKlyqHVCAADA+2yydUIAAEDoFLx1QgAAgDoPxnVCAAAAJ7fPdUIAAEB5sdl1QgAAgMur43VCAAAAuFPtdUIAAEAKTvd1QgAAwPb1AHZCAAAASfAKdkIAAECb6hR2QgAAQLztHXZCAACADugndkIAAAD7jzF2QgAAQE2KO3ZCAADAOTJFdkIAAACMLE92QgAAQN4mWXZCAADAys5idkIAAAAdyWx2QgAAgAlxdnZCAADAW2uAdkIAAACuZYp2QgAAAM9ok3ZCAABAIWOddkIAAMANC6d2QgAAAGAFsXZCAACATK26dkIAAMCep8R2QgAAAPGhznZCAACA3UnYdkIAAMAvROJ2QgAAQBzs63ZCAACAbub1dkIAAMDA4P92QgAAgEc2CXdCAADAmTATd0IAAECG2Bx3QgAAgNjSJndCAAAAxXowd0IAAEAXdTp3QgAAgGlvRHdCAAAAVhdOd0IAAECoEVh3QgAAwJS5YXdCAAAA57Nrd0IAAEA5rnV3QgAAQFqxfndCAACArKuId0IAAACZU5J3QgAAQOtNnHdC\",\"dtype\":\"float64\",\"order\":\"little\",\"shape\":[81]},\"value\":{\"__ndarray__\":\"t0X+UA+d87+n/t6L3l/zv9bspB902fK/qD20nfhi8r8q+wS6WIrxv2khN4k1bvG/gmz5Mpgr8b+GTOE0PPjwv41wnBfKq/C//7BWFw5Y8L91mc/WgQXwvwY43IvzU++/V25b3nfT7r+dTFb3WLXtv3SMAAFr3uy/n8L5YEkg679JSlUusQ3qvzJTcO8MNOm/DUQ3c30j6L+A2oDICEHnv1e8lMKPXea/rEWaf+eW5b9PVAIVZYnkv5qNilJdwOO/Jgiih5HJ4r8lR3eZq8zhv3WmbKS6ROG//0n6kXlG4L8nNzcdRq7ev8VMS4Jp2Ny/0jEtaSpP279l8yBqvPbZv1eP8pGjPdm/HBmCUoe817/KUfqZTXDWv2wCzB9AVtW/7xWskefu078Xo48xqwXTv4Lt/usIodG/ohiplw8r0b/5vxRoOgrQv2gBZ+KoF82/D2ZezW17y7+XEkaLqAjIv/aJSPAc38S/iNPisoJUw78sWUmcjhXBv7sNY3067b6/rGSMzD8nvr9Mfn4Uzy68v+LbqCZgLK+/6D/umzVtoL+EDUdrZ0ONvwyoaw9g+HQ/V9JvKXB/lD8eF1jR9WSvP/+tt1itRbw/BGOtJkLkwT+VJzjZU/TFPzWVmTxgyso/zy9c04y/0D87VQCO91XTP/ukefxwUNU/6ceez/N01z87SEq8zyLZP8sOZEEWu+M/HBBXlwyt8D8iuhIP/k32PxwHSJTJM/g/FBpf88Qh+T89w/qlhYr5PyYwBTDaBPs/vXaa8X78+z+0zzYc7V79P9HDEnAdgf4/bc8hwzshAEASMRStPwcBQIRIWmnS1wFAFT4ZNlOGAkDJYicI5lsDQIg2oGlOagNA\",\"dtype\":\"float64\",\"order\":\"little\",\"shape\":[81]}},\"selected\":{\"id\":\"2397\"},\"selection_policy\":{\"id\":\"2424\"}},\"id\":\"2396\",\"type\":\"ColumnDataSource\"},{\"attributes\":{},\"id\":\"2379\",\"type\":\"WheelZoomTool\"},{\"attributes\":{\"months\":[0,1,2,3,4,5,6,7,8,9,10,11]},\"id\":\"2418\",\"type\":\"MonthsTicker\"},{\"attributes\":{\"line_color\":\"#30a2da\",\"line_width\":2,\"x\":{\"field\":\"index\"},\"y\":{\"field\":\"value\"}},\"id\":\"2428\",\"type\":\"Line\"},{\"attributes\":{\"overlay\":{\"id\":\"2382\"}},\"id\":\"2380\",\"type\":\"BoxZoomTool\"},{\"attributes\":{\"days\":[1,8,15,22]},\"id\":\"2416\",\"type\":\"DaysTicker\"},{\"attributes\":{\"months\":[0,4,8]},\"id\":\"2420\",\"type\":\"MonthsTicker\"},{\"attributes\":{},\"id\":\"2397\",\"type\":\"Selection\"},{\"attributes\":{\"line_color\":\"#30a2da\",\"line_width\":2,\"x\":{\"field\":\"index\"},\"y\":{\"field\":\"value\"}},\"id\":\"2399\",\"type\":\"Line\"},{\"attributes\":{\"days\":[1,15]},\"id\":\"2417\",\"type\":\"DaysTicker\"},{\"attributes\":{},\"id\":\"2459\",\"type\":\"UnionRenderers\"},{\"attributes\":{\"text_color\":\"black\",\"text_font_size\":\"12pt\"},\"id\":\"2361\",\"type\":\"Title\"},{\"attributes\":{\"source\":{\"id\":\"2429\"}},\"id\":\"2436\",\"type\":\"CDSView\"},{\"attributes\":{\"below\":[{\"id\":\"2369\"}],\"center\":[{\"id\":\"2372\"},{\"id\":\"2376\"}],\"height\":300,\"left\":[{\"id\":\"2373\"}],\"margin\":[5,5,5,5],\"min_border_bottom\":10,\"min_border_left\":10,\"min_border_right\":10,\"min_border_top\":10,\"renderers\":[{\"id\":\"2402\"},{\"id\":\"2435\"}],\"right\":[{\"id\":\"2426\"}],\"sizing_mode\":\"fixed\",\"title\":{\"id\":\"2361\"},\"toolbar\":{\"id\":\"2383\"},\"width\":700,\"x_range\":{\"id\":\"2356\"},\"x_scale\":{\"id\":\"2365\"},\"y_range\":{\"id\":\"2357\"},\"y_scale\":{\"id\":\"2367\"}},\"id\":\"2360\",\"subtype\":\"Figure\",\"type\":\"Plot\"},{\"attributes\":{\"data_source\":{\"id\":\"2429\"},\"glyph\":{\"id\":\"2432\"},\"hover_glyph\":null,\"muted_glyph\":{\"id\":\"2434\"},\"nonselection_glyph\":{\"id\":\"2433\"},\"selection_glyph\":{\"id\":\"2462\"},\"view\":{\"id\":\"2436\"}},\"id\":\"2435\",\"type\":\"GlyphRenderer\"},{\"attributes\":{\"line_alpha\":0.1,\"line_color\":\"#fc4f30\",\"line_width\":2,\"x\":{\"field\":\"index\"},\"y\":{\"field\":\"value\"}},\"id\":\"2433\",\"type\":\"Line\"},{\"attributes\":{\"end\":4.973216837264883,\"reset_end\":4.973216837264883,\"reset_start\":-1.7893957324383922,\"start\":-1.7893957324383922,\"tags\":[[[\"value\",\"value\",null]]]},\"id\":\"2357\",\"type\":\"Range1d\"},{\"attributes\":{},\"id\":\"2394\",\"type\":\"AllLabels\"},{\"attributes\":{\"line_alpha\":0.2,\"line_color\":\"#fc4f30\",\"line_width\":2,\"x\":{\"field\":\"index\"},\"y\":{\"field\":\"value\"}},\"id\":\"2434\",\"type\":\"Line\"},{\"attributes\":{\"months\":[0,2,4,6,8,10]},\"id\":\"2419\",\"type\":\"MonthsTicker\"},{\"attributes\":{\"num_minor_ticks\":5,\"tickers\":[{\"id\":\"2411\"},{\"id\":\"2412\"},{\"id\":\"2413\"},{\"id\":\"2414\"},{\"id\":\"2415\"},{\"id\":\"2416\"},{\"id\":\"2417\"},{\"id\":\"2418\"},{\"id\":\"2419\"},{\"id\":\"2420\"},{\"id\":\"2421\"},{\"id\":\"2422\"}]},\"id\":\"2370\",\"type\":\"DatetimeTicker\"},{\"attributes\":{},\"id\":\"2367\",\"type\":\"LinearScale\"},{\"attributes\":{\"margin\":[5,5,5,5],\"name\":\"HSpacer03157\",\"sizing_mode\":\"stretch_width\"},\"id\":\"2679\",\"type\":\"Spacer\"}],\"root_ids\":[\"2354\"]},\"title\":\"Bokeh Application\",\"version\":\"2.3.2\"}};\n",
       "    var render_items = [{\"docid\":\"6ecc2908-3874-4d52-9eb6-12582c6da7b7\",\"root_ids\":[\"2354\"],\"roots\":{\"2354\":\"f19b455a-c310-45a2-ba41-9f6b4c3fca06\"}}];\n",
       "    root.Bokeh.embed.embed_items_notebook(docs_json, render_items);\n",
       "  }\n",
       "  if (root.Bokeh !== undefined && root.Bokeh.Panel !== undefined) {\n",
       "    embed_document(root);\n",
       "  } else {\n",
       "    var attempts = 0;\n",
       "    var timer = setInterval(function(root) {\n",
       "      if (root.Bokeh !== undefined && root.Bokeh.Panel !== undefined) {\n",
       "        clearInterval(timer);\n",
       "        embed_document(root);\n",
       "      } else if (document.readyState == \"complete\") {\n",
       "        attempts++;\n",
       "        if (attempts > 200) {\n",
       "          clearInterval(timer);\n",
       "          console.log(\"Bokeh: ERROR: Unable to run BokehJS code because BokehJS library is missing\");\n",
       "        }\n",
       "      }\n",
       "    }, 25, root)\n",
       "  }\n",
       "})(window);</script>"
      ],
      "text/plain": [
       ":NdOverlay   [Variable]\n",
       "   :Curve   [index]   (value)"
      ]
     },
     "execution_count": 75,
     "metadata": {
      "application/vnd.holoviews_exec.v0+json": {
       "id": "2354"
      }
     },
     "output_type": "execute_result"
    }
   ],
   "source": [
    "z_score_m2sl_btc_plot = z_score_m2sl_btc.hvplot()\n",
    "z_score_m2sl_btc_plot"
   ]
  },
  {
   "cell_type": "code",
   "execution_count": 76,
   "id": "d4d3c499",
   "metadata": {},
   "outputs": [
    {
     "data": {},
     "metadata": {},
     "output_type": "display_data"
    },
    {
     "data": {
      "application/vnd.holoviews_exec.v0+json": "",
      "text/html": [
       "<div id='2801'>\n",
       "\n",
       "\n",
       "\n",
       "\n",
       "\n",
       "  <div class=\"bk-root\" id=\"ae103c6a-8620-4f33-8af7-b16e8c5c663a\" data-root-id=\"2801\"></div>\n",
       "</div>\n",
       "<script type=\"application/javascript\">(function(root) {\n",
       "  function embed_document(root) {\n",
       "    var docs_json = {\"af95a308-b3e9-4263-ae26-be1f3d8336dd\":{\"defs\":[{\"extends\":null,\"module\":null,\"name\":\"ReactiveHTML1\",\"overrides\":[],\"properties\":[]},{\"extends\":null,\"module\":null,\"name\":\"FlexBox1\",\"overrides\":[],\"properties\":[{\"default\":\"flex-start\",\"kind\":null,\"name\":\"align_content\"},{\"default\":\"flex-start\",\"kind\":null,\"name\":\"align_items\"},{\"default\":\"row\",\"kind\":null,\"name\":\"flex_direction\"},{\"default\":\"wrap\",\"kind\":null,\"name\":\"flex_wrap\"},{\"default\":\"flex-start\",\"kind\":null,\"name\":\"justify_content\"}]},{\"extends\":null,\"module\":null,\"name\":\"TemplateActions1\",\"overrides\":[],\"properties\":[{\"default\":0,\"kind\":null,\"name\":\"open_modal\"},{\"default\":0,\"kind\":null,\"name\":\"close_modal\"}]},{\"extends\":null,\"module\":null,\"name\":\"MaterialTemplateActions1\",\"overrides\":[],\"properties\":[{\"default\":0,\"kind\":null,\"name\":\"open_modal\"},{\"default\":0,\"kind\":null,\"name\":\"close_modal\"}]}],\"roots\":{\"references\":[{\"attributes\":{},\"id\":\"2847\",\"type\":\"BasicTickFormatter\"},{\"attributes\":{},\"id\":\"2823\",\"type\":\"SaveTool\"},{\"attributes\":{\"below\":[{\"id\":\"2815\"}],\"center\":[{\"id\":\"2818\"},{\"id\":\"2822\"}],\"height\":300,\"left\":[{\"id\":\"2819\"}],\"margin\":[5,5,5,5],\"min_border_bottom\":10,\"min_border_left\":10,\"min_border_right\":10,\"min_border_top\":10,\"renderers\":[{\"id\":\"2842\"}],\"sizing_mode\":\"fixed\",\"title\":{\"id\":\"2807\"},\"toolbar\":{\"id\":\"2829\"},\"width\":700,\"x_range\":{\"id\":\"2803\"},\"x_scale\":{\"id\":\"2811\"},\"y_range\":{\"id\":\"2804\"},\"y_scale\":{\"id\":\"2813\"}},\"id\":\"2806\",\"subtype\":\"Figure\",\"type\":\"Plot\"},{\"attributes\":{},\"id\":\"2849\",\"type\":\"AllLabels\"},{\"attributes\":{},\"id\":\"2824\",\"type\":\"PanTool\"},{\"attributes\":{\"text_color\":\"black\",\"text_font_size\":\"12pt\"},\"id\":\"2807\",\"type\":\"Title\"},{\"attributes\":{},\"id\":\"2827\",\"type\":\"ResetTool\"},{\"attributes\":{\"axis_label\":\"btc_price\",\"formatter\":{\"id\":\"2850\"},\"major_label_policy\":{\"id\":\"2849\"},\"ticker\":{\"id\":\"2820\"}},\"id\":\"2819\",\"type\":\"LinearAxis\"},{\"attributes\":{\"callback\":null,\"renderers\":[{\"id\":\"2842\"}],\"tags\":[\"hv_created\"],\"tooltips\":[[\"m2_supply\",\"@{m2_supply}\"],[\"btc_price\",\"@{btc_price}\"]]},\"id\":\"2805\",\"type\":\"HoverTool\"},{\"attributes\":{},\"id\":\"2825\",\"type\":\"WheelZoomTool\"},{\"attributes\":{},\"id\":\"2859\",\"type\":\"UnionRenderers\"},{\"attributes\":{},\"id\":\"2816\",\"type\":\"BasicTicker\"},{\"attributes\":{\"overlay\":{\"id\":\"2828\"}},\"id\":\"2826\",\"type\":\"BoxZoomTool\"},{\"attributes\":{},\"id\":\"2850\",\"type\":\"BasicTickFormatter\"},{\"attributes\":{\"angle\":{\"value\":0.0},\"fill_alpha\":{\"value\":1.0},\"fill_color\":{\"value\":\"#30a2da\"},\"hatch_alpha\":{\"value\":1.0},\"hatch_color\":{\"value\":\"black\"},\"hatch_scale\":{\"value\":12.0},\"hatch_weight\":{\"value\":1.0},\"line_alpha\":{\"value\":1.0},\"line_cap\":{\"value\":\"butt\"},\"line_color\":{\"value\":\"#30a2da\"},\"line_dash\":{\"value\":[]},\"line_dash_offset\":{\"value\":0},\"line_join\":{\"value\":\"bevel\"},\"line_width\":{\"value\":1},\"marker\":{\"value\":\"circle\"},\"size\":{\"value\":5.477225575051661},\"x\":{\"field\":\"m2_supply\"},\"y\":{\"field\":\"btc_price\"}},\"id\":\"2844\",\"type\":\"Scatter\"},{\"attributes\":{},\"id\":\"2811\",\"type\":\"LinearScale\"},{\"attributes\":{\"end\":20767.19142857143,\"reset_end\":20767.19142857143,\"reset_start\":11183.808571428572,\"start\":11183.808571428572,\"tags\":[[[\"m2_supply\",\"m2_supply\",null]]]},\"id\":\"2803\",\"type\":\"Range1d\"},{\"attributes\":{\"fill_alpha\":{\"value\":0.1},\"fill_color\":{\"value\":\"#30a2da\"},\"line_alpha\":{\"value\":0.1},\"line_color\":{\"value\":\"#30a2da\"},\"size\":{\"value\":5.477225575051661},\"x\":{\"field\":\"m2_supply\"},\"y\":{\"field\":\"btc_price\"}},\"id\":\"2840\",\"type\":\"Scatter\"},{\"attributes\":{\"axis\":{\"id\":\"2815\"},\"grid_line_color\":null,\"ticker\":null},\"id\":\"2818\",\"type\":\"Grid\"},{\"attributes\":{\"axis_label\":\"m2_supply\",\"formatter\":{\"id\":\"2847\"},\"major_label_policy\":{\"id\":\"2846\"},\"ticker\":{\"id\":\"2816\"}},\"id\":\"2815\",\"type\":\"LinearAxis\"},{\"attributes\":{\"data\":{\"btc_price\":{\"__ndarray__\":\"AAAA4CZxd0AAAADg+1t0QAAAAIDrs3dAAAAA4Pujc0AAAACgGl9sQAAAAGA7Q3BAAAAAACmgb0AAAACAwl1tQAAAACCyOWxAAAAAIC/tb0AAAAAA06lxQAAAAIAWqWxAAAAAQGCpbUAAAABg5VZ0QAAAAODOp3ZAAAAAIFgle0AAAABg5VB3QAAAAMD3MXtAAAAAwPdNekAAAABAtMp7QAAAAKDGz4BAAAAAwJ39hUAAAABguBuBQAAAAMBL/IFAAAAA4CIXg0AAAAAgWM6GQAAAACAxpodAAAAAoJkyj0AAAAAgL+iOQAAAAAAAGpNAAAAAIK44kUAAAACgR7OWQAAAAKAZcaNAAAAAoPCUo0AAAAAAVy2lQAAAACDF4rFAAAAA4FE5sUAAAABgT2+6QAAAAMDMb8VAAAAAoJmsykAAAAAgRenBQAAAAACAY8VAAAAAwMyru0AAAADA9QnCQAAAAEBz271AAAAAIC7WuUAAAABgJo+9QAAAAGC4aLxAAAAAoBmcuUAAAACgx+m4QAAAAACsdrBAAAAAQAoHrkAAAAAA5D+rQAAAAOAqJ65AAAAAwOAPs0AAAACgSIG1QAAAAKB6E8FAAAAAwNYYxUAAAABgFovEQAAAAGBhNcRAAAAAYIVkwEAAAABgjRbCQAAAAOBKAL1AAAAAoCwgvEAAAAAAcFjCQAAAACA6ucBAAAAA4J+JukAAAABgTI7BQAAAAODmnMJAAAAAgLTRwUAAAACgzpbFQAAAAGAES8ZAAAAAAJWsxEAAAAAAjtTKQAAAAOC/XNJAAAAAwImv3EAAAACgJWDgQAAAAMDnO+hAAAAAAAr/7EAAAACA4qbrQAAAAMDlWOJA\",\"dtype\":\"float64\",\"order\":\"little\",\"shape\":[81]},\"m2_supply\":{\"__ndarray__\":\"zczMzAyVxkCamZmZGafGQAAAAADAzsZAMzMzM7PxxkCamZmZmTHHQGZmZmbmOcdAzczMzIxNx0AzMzMzs1zHQAAAAABAc8dAMzMzM/OLx0DNzMzMTKTHQM3MzMxMv8dAAAAAAEDSx0AzMzMzc/zHQGZmZmYmHMhAMzMzM/NdyEAzMzMzc4bIQM3MzMyMpshAAAAAAMDOyEBmZmZmJvDIQDMzMzOzEclAAAAAAAAvyUAAAAAAwFbJQGZmZmZmdMlAzczMzMyYyUCamZmZGb7JQGZmZmYm0slAZmZmZqb3yUAzMzMz8xrKQJqZmZmZPcpAmpmZmZlaykAAAAAAAHTKQGZmZmamgcpAzczMzAyeykDNzMzMjLbKQJqZmZlZy8pAmpmZmdnlykDNzMzMDPfKQJqZmZlZEctAzczMzAway0CamZmZWS/LQM3MzMyMS8tAAAAAAMBay0DNzMzMTHvLQGZmZmYmmctAMzMzM7Ony0BmZmZm5rzLQDMzMzMzzMtAmpmZmdnPy0BmZmZmJtnLQJqZmZmZFMxAZmZmZmY3zEBmZmZm5kzMQJqZmZlZZMxAmpmZmVl2zEAAAAAAQKjMQJqZmZmZ48xAzczMzAwHzUBmZmZmZi3NQM3MzMwMW81AmpmZmVmazUAzMzMzM8vNQM3MzMyM8M1AAAAAAAAZzkAzMzMzszjOQGZmZmYmR89AmpmZmbmk0EAAAAAAQHnRQGZmZmbmwNFAAAAAAADk0UAzMzMzc/PRQAAAAABAK9JAZmZmZsZP0kDNzMzMDITSQJqZmZnZrtJAAAAAACDx0kCamZmZ+TTTQAAAAACActNAmpmZmfml00CamZmZ+eTTQJqZmZk56dNA\",\"dtype\":\"float64\",\"order\":\"little\",\"shape\":[81]}},\"selected\":{\"id\":\"2837\"},\"selection_policy\":{\"id\":\"2859\"}},\"id\":\"2836\",\"type\":\"ColumnDataSource\"},{\"attributes\":{},\"id\":\"2813\",\"type\":\"LinearScale\"},{\"attributes\":{\"children\":[{\"id\":\"2802\"},{\"id\":\"2806\"},{\"id\":\"2871\"}],\"margin\":[0,0,0,0],\"name\":\"Row03575\",\"tags\":[\"embedded\"]},\"id\":\"2801\",\"type\":\"Row\"},{\"attributes\":{},\"id\":\"2820\",\"type\":\"BasicTicker\"},{\"attributes\":{\"margin\":[5,5,5,5],\"name\":\"HSpacer03579\",\"sizing_mode\":\"stretch_width\"},\"id\":\"2802\",\"type\":\"Spacer\"},{\"attributes\":{},\"id\":\"2837\",\"type\":\"Selection\"},{\"attributes\":{\"active_multi\":null,\"tools\":[{\"id\":\"2805\"},{\"id\":\"2823\"},{\"id\":\"2824\"},{\"id\":\"2825\"},{\"id\":\"2826\"},{\"id\":\"2827\"}]},\"id\":\"2829\",\"type\":\"Toolbar\"},{\"attributes\":{\"fill_color\":{\"value\":\"#30a2da\"},\"line_color\":{\"value\":\"#30a2da\"},\"size\":{\"value\":5.477225575051661},\"x\":{\"field\":\"m2_supply\"},\"y\":{\"field\":\"btc_price\"}},\"id\":\"2839\",\"type\":\"Scatter\"},{\"attributes\":{\"axis\":{\"id\":\"2819\"},\"dimension\":1,\"grid_line_color\":null,\"ticker\":null},\"id\":\"2822\",\"type\":\"Grid\"},{\"attributes\":{\"source\":{\"id\":\"2836\"}},\"id\":\"2843\",\"type\":\"CDSView\"},{\"attributes\":{},\"id\":\"2846\",\"type\":\"AllLabels\"},{\"attributes\":{\"bottom_units\":\"screen\",\"fill_alpha\":0.5,\"fill_color\":\"lightgrey\",\"left_units\":\"screen\",\"level\":\"overlay\",\"line_alpha\":1.0,\"line_color\":\"black\",\"line_dash\":[4,4],\"line_width\":2,\"right_units\":\"screen\",\"syncable\":false,\"top_units\":\"screen\"},\"id\":\"2828\",\"type\":\"BoxAnnotation\"},{\"attributes\":{\"fill_alpha\":{\"value\":0.2},\"fill_color\":{\"value\":\"#30a2da\"},\"line_alpha\":{\"value\":0.2},\"line_color\":{\"value\":\"#30a2da\"},\"size\":{\"value\":5.477225575051661},\"x\":{\"field\":\"m2_supply\"},\"y\":{\"field\":\"btc_price\"}},\"id\":\"2841\",\"type\":\"Scatter\"},{\"attributes\":{\"end\":65300.16345062256,\"reset_end\":65300.16345062256,\"reset_start\":-5690.047956848145,\"start\":-5690.047956848145,\"tags\":[[[\"btc_price\",\"btc_price\",null]]]},\"id\":\"2804\",\"type\":\"Range1d\"},{\"attributes\":{\"data_source\":{\"id\":\"2836\"},\"glyph\":{\"id\":\"2839\"},\"hover_glyph\":null,\"muted_glyph\":{\"id\":\"2841\"},\"nonselection_glyph\":{\"id\":\"2840\"},\"selection_glyph\":{\"id\":\"2844\"},\"view\":{\"id\":\"2843\"}},\"id\":\"2842\",\"type\":\"GlyphRenderer\"},{\"attributes\":{\"margin\":[5,5,5,5],\"name\":\"HSpacer03580\",\"sizing_mode\":\"stretch_width\"},\"id\":\"2871\",\"type\":\"Spacer\"}],\"root_ids\":[\"2801\"]},\"title\":\"Bokeh Application\",\"version\":\"2.3.2\"}};\n",
       "    var render_items = [{\"docid\":\"af95a308-b3e9-4263-ae26-be1f3d8336dd\",\"root_ids\":[\"2801\"],\"roots\":{\"2801\":\"ae103c6a-8620-4f33-8af7-b16e8c5c663a\"}}];\n",
       "    root.Bokeh.embed.embed_items_notebook(docs_json, render_items);\n",
       "  }\n",
       "  if (root.Bokeh !== undefined && root.Bokeh.Panel !== undefined) {\n",
       "    embed_document(root);\n",
       "  } else {\n",
       "    var attempts = 0;\n",
       "    var timer = setInterval(function(root) {\n",
       "      if (root.Bokeh !== undefined && root.Bokeh.Panel !== undefined) {\n",
       "        clearInterval(timer);\n",
       "        embed_document(root);\n",
       "      } else if (document.readyState == \"complete\") {\n",
       "        attempts++;\n",
       "        if (attempts > 200) {\n",
       "          clearInterval(timer);\n",
       "          console.log(\"Bokeh: ERROR: Unable to run BokehJS code because BokehJS library is missing\");\n",
       "        }\n",
       "      }\n",
       "    }, 25, root)\n",
       "  }\n",
       "})(window);</script>"
      ],
      "text/plain": [
       ":Scatter   [m2_supply]   (btc_price)"
      ]
     },
     "execution_count": 76,
     "metadata": {
      "application/vnd.holoviews_exec.v0+json": {
       "id": "2801"
      }
     },
     "output_type": "execute_result"
    }
   ],
   "source": [
    "z_score_m2sl_btc_scatter = z_score_m2sl_btc.hvplot(kind='scatter', x='m2_supply_zscore', y='btc_price_zscore')\n",
    "m2sl_btc_scatter"
   ]
  },
  {
   "cell_type": "markdown",
   "id": "8949a8d2",
   "metadata": {},
   "source": [
    "## Plot z-Score correlation:"
   ]
  },
  {
   "cell_type": "code",
   "execution_count": 77,
   "id": "d9d4c9e6",
   "metadata": {},
   "outputs": [
    {
     "data": {
      "text/html": [
       "<div>\n",
       "<style scoped>\n",
       "    .dataframe tbody tr th:only-of-type {\n",
       "        vertical-align: middle;\n",
       "    }\n",
       "\n",
       "    .dataframe tbody tr th {\n",
       "        vertical-align: top;\n",
       "    }\n",
       "\n",
       "    .dataframe thead th {\n",
       "        text-align: right;\n",
       "    }\n",
       "</style>\n",
       "<table border=\"1\" class=\"dataframe\">\n",
       "  <thead>\n",
       "    <tr style=\"text-align: right;\">\n",
       "      <th></th>\n",
       "      <th>m2_supply_zscore</th>\n",
       "      <th>btc_price_zscore</th>\n",
       "    </tr>\n",
       "  </thead>\n",
       "  <tbody>\n",
       "    <tr>\n",
       "      <th>m2_supply_zscore</th>\n",
       "      <td>1.000000</td>\n",
       "      <td>0.808573</td>\n",
       "    </tr>\n",
       "    <tr>\n",
       "      <th>btc_price_zscore</th>\n",
       "      <td>0.808573</td>\n",
       "      <td>1.000000</td>\n",
       "    </tr>\n",
       "  </tbody>\n",
       "</table>\n",
       "</div>"
      ],
      "text/plain": [
       "                  m2_supply_zscore  btc_price_zscore\n",
       "m2_supply_zscore          1.000000          0.808573\n",
       "btc_price_zscore          0.808573          1.000000"
      ]
     },
     "execution_count": 77,
     "metadata": {},
     "output_type": "execute_result"
    }
   ],
   "source": [
    "z_score_m2sl_btc_corr = z_score_m2sl_btc.corr()\n",
    "z_score_m2sl_btc_corr"
   ]
  },
  {
   "cell_type": "code",
   "execution_count": 78,
   "id": "749ace0a",
   "metadata": {},
   "outputs": [
    {
     "data": {},
     "metadata": {},
     "output_type": "display_data"
    },
    {
     "data": {
      "application/vnd.holoviews_exec.v0+json": "",
      "text/html": [
       "<div id='2923'>\n",
       "\n",
       "\n",
       "\n",
       "\n",
       "\n",
       "  <div class=\"bk-root\" id=\"cdbdfc34-24d7-41e0-bd62-87a0f996109f\" data-root-id=\"2923\"></div>\n",
       "</div>\n",
       "<script type=\"application/javascript\">(function(root) {\n",
       "  function embed_document(root) {\n",
       "    var docs_json = {\"40f52fd3-f46c-4d94-a651-72231384828a\":{\"defs\":[{\"extends\":null,\"module\":null,\"name\":\"ReactiveHTML1\",\"overrides\":[],\"properties\":[]},{\"extends\":null,\"module\":null,\"name\":\"FlexBox1\",\"overrides\":[],\"properties\":[{\"default\":\"flex-start\",\"kind\":null,\"name\":\"align_content\"},{\"default\":\"flex-start\",\"kind\":null,\"name\":\"align_items\"},{\"default\":\"row\",\"kind\":null,\"name\":\"flex_direction\"},{\"default\":\"wrap\",\"kind\":null,\"name\":\"flex_wrap\"},{\"default\":\"flex-start\",\"kind\":null,\"name\":\"justify_content\"}]},{\"extends\":null,\"module\":null,\"name\":\"TemplateActions1\",\"overrides\":[],\"properties\":[{\"default\":0,\"kind\":null,\"name\":\"open_modal\"},{\"default\":0,\"kind\":null,\"name\":\"close_modal\"}]},{\"extends\":null,\"module\":null,\"name\":\"MaterialTemplateActions1\",\"overrides\":[],\"properties\":[{\"default\":0,\"kind\":null,\"name\":\"open_modal\"},{\"default\":0,\"kind\":null,\"name\":\"close_modal\"}]}],\"roots\":{\"references\":[{\"attributes\":{},\"id\":\"2933\",\"type\":\"CategoricalScale\"},{\"attributes\":{\"text_color\":\"black\",\"text_font_size\":\"12pt\"},\"id\":\"2929\",\"type\":\"Title\"},{\"attributes\":{},\"id\":\"2965\",\"type\":\"BasicTicker\"},{\"attributes\":{\"margin\":[5,5,5,5],\"name\":\"HSpacer03740\",\"sizing_mode\":\"stretch_width\"},\"id\":\"2995\",\"type\":\"Spacer\"},{\"attributes\":{},\"id\":\"2971\",\"type\":\"CategoricalTickFormatter\"},{\"attributes\":{\"axis\":{\"id\":\"2937\"},\"grid_line_color\":null,\"ticker\":null},\"id\":\"2939\",\"type\":\"Grid\"},{\"attributes\":{},\"id\":\"2941\",\"type\":\"CategoricalTicker\"},{\"attributes\":{\"margin\":[5,5,5,5],\"name\":\"HSpacer03739\",\"sizing_mode\":\"stretch_width\"},\"id\":\"2924\",\"type\":\"Spacer\"},{\"attributes\":{\"bar_line_color\":\"black\",\"color_mapper\":{\"id\":\"2956\"},\"label_standoff\":8,\"location\":[0,0],\"major_label_policy\":{\"id\":\"2980\"},\"major_tick_line_color\":\"black\",\"ticker\":{\"id\":\"2965\"}},\"id\":\"2966\",\"type\":\"ColorBar\"},{\"attributes\":{\"callback\":null,\"renderers\":[{\"id\":\"2963\"}],\"tags\":[\"hv_created\"],\"tooltips\":[[\"columns\",\"@{columns}\"],[\"index\",\"@{index}\"],[\"value\",\"@{value}\"]]},\"id\":\"2927\",\"type\":\"HoverTool\"},{\"attributes\":{},\"id\":\"2938\",\"type\":\"CategoricalTicker\"},{\"attributes\":{\"overlay\":{\"id\":\"2948\"}},\"id\":\"2946\",\"type\":\"BoxZoomTool\"},{\"attributes\":{},\"id\":\"2970\",\"type\":\"AllLabels\"},{\"attributes\":{},\"id\":\"2958\",\"type\":\"Selection\"},{\"attributes\":{\"axis_label\":\"\",\"formatter\":{\"id\":\"2971\"},\"major_label_policy\":{\"id\":\"2970\"},\"ticker\":{\"id\":\"2941\"}},\"id\":\"2940\",\"type\":\"CategoricalAxis\"},{\"attributes\":{\"active_multi\":null,\"tools\":[{\"id\":\"2927\"},{\"id\":\"2943\"},{\"id\":\"2944\"},{\"id\":\"2945\"},{\"id\":\"2946\"},{\"id\":\"2947\"}]},\"id\":\"2949\",\"type\":\"Toolbar\"},{\"attributes\":{},\"id\":\"2968\",\"type\":\"CategoricalTickFormatter\"},{\"attributes\":{\"children\":[{\"id\":\"2924\"},{\"id\":\"2928\"},{\"id\":\"2995\"}],\"margin\":[0,0,0,0],\"name\":\"Row03735\",\"tags\":[\"embedded\"]},\"id\":\"2923\",\"type\":\"Row\"},{\"attributes\":{\"axis\":{\"id\":\"2940\"},\"dimension\":1,\"grid_line_color\":null,\"ticker\":null},\"id\":\"2942\",\"type\":\"Grid\"},{\"attributes\":{},\"id\":\"2982\",\"type\":\"UnionRenderers\"},{\"attributes\":{},\"id\":\"2980\",\"type\":\"NoOverlap\"},{\"attributes\":{\"bottom_units\":\"screen\",\"fill_alpha\":0.5,\"fill_color\":\"lightgrey\",\"left_units\":\"screen\",\"level\":\"overlay\",\"line_alpha\":1.0,\"line_color\":\"black\",\"line_dash\":[4,4],\"line_width\":2,\"right_units\":\"screen\",\"syncable\":false,\"top_units\":\"screen\"},\"id\":\"2948\",\"type\":\"BoxAnnotation\"},{\"attributes\":{\"high\":1.0,\"low\":0.8085729170618393,\"nan_color\":\"white\",\"palette\":[\"#b3fef5\",\"#b0fef5\",\"#adfdf5\",\"#a9fcf5\",\"#a6fbf6\",\"#a3faf6\",\"#a0faf6\",\"#9df9f6\",\"#9af8f6\",\"#97f7f6\",\"#93f7f6\",\"#90f6f6\",\"#8df5f6\",\"#8af4f7\",\"#87f3f7\",\"#83f2f7\",\"#80f2f7\",\"#7df1f7\",\"#79f0f7\",\"#76eff7\",\"#73eef7\",\"#6fedf8\",\"#6cecf8\",\"#68ecf8\",\"#65ebf8\",\"#61eaf8\",\"#5ee9f8\",\"#5ae8f8\",\"#57e7f8\",\"#53e6f8\",\"#50e5f9\",\"#4ce4f9\",\"#49e3f9\",\"#45e2f9\",\"#42e1f9\",\"#3ee0f9\",\"#3bdff9\",\"#38def9\",\"#35ddf9\",\"#32dcf9\",\"#30dbfa\",\"#2ed9fa\",\"#2dd8fa\",\"#2cd7fa\",\"#2bd6fa\",\"#2bd5fa\",\"#2ad3fa\",\"#2ad2fa\",\"#29d1fa\",\"#29d0fb\",\"#29cffb\",\"#28cdfb\",\"#28ccfb\",\"#28cbfb\",\"#28cafb\",\"#28c8fb\",\"#28c7fb\",\"#29c6fb\",\"#29c5fb\",\"#29c4fb\",\"#29c2fb\",\"#2ac1fb\",\"#2ac0fb\",\"#2bbffb\",\"#2bbdfc\",\"#2cbcfc\",\"#2dbbfc\",\"#2db9fc\",\"#2eb8fc\",\"#2fb7fc\",\"#2fb6fc\",\"#30b4fc\",\"#31b3fc\",\"#32b2fc\",\"#32b0fc\",\"#33affc\",\"#33aefc\",\"#34adfc\",\"#34abfc\",\"#34aafc\",\"#35a9fc\",\"#35a8fc\",\"#35a6fc\",\"#35a5fc\",\"#35a4fc\",\"#35a3fc\",\"#35a1fc\",\"#35a0fc\",\"#359ffc\",\"#359dfc\",\"#359cfc\",\"#359bfc\",\"#349afd\",\"#3498fd\",\"#3497fd\",\"#3396fd\",\"#3395fd\",\"#3293fd\",\"#3292fd\",\"#3191fd\",\"#3090fd\",\"#308ffd\",\"#2f8dfd\",\"#2f8cfd\",\"#2e8bfd\",\"#2e8afd\",\"#2d88fd\",\"#2d87fd\",\"#2c86fd\",\"#2c84fd\",\"#2c83fd\",\"#2c82fd\",\"#2b81fd\",\"#2b7ffd\",\"#2b7efd\",\"#2b7dfd\",\"#2b7bfd\",\"#2b7afd\",\"#2b79fd\",\"#2b77fd\",\"#2b76fd\",\"#2b75fd\",\"#2b73fd\",\"#2c72fd\",\"#2c71fd\",\"#2c6ffd\",\"#2c6efd\",\"#2d6cfd\",\"#2d6bfd\",\"#2d6afc\",\"#2e68fc\",\"#2e67fc\",\"#2e65fc\",\"#2e64fc\",\"#2f62fc\",\"#2f61fc\",\"#2f5ffc\",\"#2f5efc\",\"#2f5dfc\",\"#2f5bfc\",\"#2f5afc\",\"#2f58fb\",\"#2f57fb\",\"#2f55fb\",\"#2f53fb\",\"#2f52fb\",\"#2f50fb\",\"#2f4ffb\",\"#2f4dfb\",\"#2e4cfb\",\"#2e4afb\",\"#2e48fb\",\"#2e47fa\",\"#2d45fa\",\"#2d43fa\",\"#2d42fa\",\"#2d40fa\",\"#2c3efa\",\"#2c3dfa\",\"#2b3bf9\",\"#2b39f9\",\"#2a37f9\",\"#2a36f8\",\"#2934f8\",\"#2832f7\",\"#2831f7\",\"#272ff6\",\"#262ef5\",\"#252cf5\",\"#252af4\",\"#2429f3\",\"#2327f2\",\"#2226f1\",\"#2124f0\",\"#2023ef\",\"#1f22ee\",\"#1e20ed\",\"#1d1feb\",\"#1c1eea\",\"#1b1ce9\",\"#1a1be7\",\"#181ae6\",\"#1719e5\",\"#1618e3\",\"#1417e1\",\"#1316e0\",\"#1215de\",\"#1014dc\",\"#0f13db\",\"#0e12d9\",\"#0d11d7\",\"#0c10d5\",\"#0b0fd3\",\"#0a0ed1\",\"#090dd0\",\"#080dce\",\"#080ccc\",\"#070bca\",\"#070ac8\",\"#0709c6\",\"#0708c4\",\"#0707c2\",\"#0707bf\",\"#0806bd\",\"#0806bb\",\"#0905b9\",\"#0904b7\",\"#0a04b5\",\"#0a04b2\",\"#0b03b0\",\"#0c03ae\",\"#0d02ab\",\"#0e02a9\",\"#0e02a7\",\"#0f02a4\",\"#0f01a2\",\"#1001a0\",\"#10019d\",\"#10019b\",\"#100199\",\"#100197\",\"#100194\",\"#0f0192\",\"#0f0190\",\"#0f018e\",\"#0e018b\",\"#0e0189\",\"#0d0187\",\"#0d0185\",\"#0c0183\",\"#0b0181\",\"#0b017e\",\"#0a017c\",\"#09017a\",\"#090178\",\"#080276\",\"#070274\",\"#060272\",\"#060270\",\"#05026e\",\"#04026c\",\"#030269\",\"#030267\",\"#020265\",\"#010263\",\"#010261\",\"#00025f\",\"#00025d\",\"#00025b\",\"#000259\",\"#000257\",\"#000255\",\"#000154\",\"#000152\",\"#000150\",\"#00004e\"]},\"id\":\"2956\",\"type\":\"LinearColorMapper\"},{\"attributes\":{\"below\":[{\"id\":\"2937\"}],\"center\":[{\"id\":\"2939\"},{\"id\":\"2942\"}],\"height\":300,\"left\":[{\"id\":\"2940\"}],\"margin\":[5,5,5,5],\"min_border_bottom\":10,\"min_border_left\":10,\"min_border_right\":10,\"min_border_top\":10,\"renderers\":[{\"id\":\"2963\"}],\"right\":[{\"id\":\"2966\"}],\"sizing_mode\":\"fixed\",\"title\":{\"id\":\"2929\"},\"toolbar\":{\"id\":\"2949\"},\"width\":700,\"x_range\":{\"id\":\"2925\"},\"x_scale\":{\"id\":\"2933\"},\"y_range\":{\"id\":\"2926\"},\"y_scale\":{\"id\":\"2935\"}},\"id\":\"2928\",\"subtype\":\"Figure\",\"type\":\"Plot\"},{\"attributes\":{\"fill_alpha\":{\"value\":0.1},\"fill_color\":{\"field\":\"zvalues\",\"transform\":{\"id\":\"2956\"}},\"height\":{\"value\":1},\"line_alpha\":{\"value\":0},\"line_color\":{\"value\":\"#1f77b4\"},\"width\":{\"value\":1},\"x\":{\"field\":\"columns\"},\"y\":{\"field\":\"index\"}},\"id\":\"2961\",\"type\":\"Rect\"},{\"attributes\":{},\"id\":\"2935\",\"type\":\"CategoricalScale\"},{\"attributes\":{\"data\":{\"columns\":[\"btc_price_zscore\",\"btc_price_zscore\",\"m2_supply_zscore\",\"m2_supply_zscore\"],\"index\":[\"btc_price_zscore\",\"m2_supply_zscore\",\"btc_price_zscore\",\"m2_supply_zscore\"],\"value\":[\"1\",\"0.80857\",\"0.80857\",\"1\"],\"zvalues\":{\"__ndarray__\":\"AAAAAAAA8D8NyGZP1N/pPw3IZk/U3+k/AAAAAAAA8D8=\",\"dtype\":\"float64\",\"order\":\"little\",\"shape\":[4]}},\"selected\":{\"id\":\"2958\"},\"selection_policy\":{\"id\":\"2982\"}},\"id\":\"2957\",\"type\":\"ColumnDataSource\"},{\"attributes\":{\"fill_color\":{\"field\":\"zvalues\",\"transform\":{\"id\":\"2956\"}},\"height\":{\"value\":1},\"line_alpha\":{\"value\":0},\"line_color\":{\"value\":\"#1f77b4\"},\"width\":{\"value\":1},\"x\":{\"field\":\"columns\"},\"y\":{\"field\":\"index\"}},\"id\":\"2962\",\"type\":\"Rect\"},{\"attributes\":{},\"id\":\"2943\",\"type\":\"SaveTool\"},{\"attributes\":{\"axis_label\":\"\",\"formatter\":{\"id\":\"2968\"},\"major_label_policy\":{\"id\":\"2967\"},\"ticker\":{\"id\":\"2938\"}},\"id\":\"2937\",\"type\":\"CategoricalAxis\"},{\"attributes\":{},\"id\":\"2944\",\"type\":\"PanTool\"},{\"attributes\":{},\"id\":\"2967\",\"type\":\"AllLabels\"},{\"attributes\":{},\"id\":\"2947\",\"type\":\"ResetTool\"},{\"attributes\":{\"data_source\":{\"id\":\"2957\"},\"glyph\":{\"id\":\"2960\"},\"hover_glyph\":null,\"muted_glyph\":null,\"nonselection_glyph\":{\"id\":\"2961\"},\"selection_glyph\":{\"id\":\"2962\"},\"view\":{\"id\":\"2964\"}},\"id\":\"2963\",\"type\":\"GlyphRenderer\"},{\"attributes\":{\"factors\":[\"btc_price_zscore\",\"m2_supply_zscore\"],\"tags\":[[[\"columns\",\"columns\",null]]]},\"id\":\"2925\",\"type\":\"FactorRange\"},{\"attributes\":{\"source\":{\"id\":\"2957\"}},\"id\":\"2964\",\"type\":\"CDSView\"},{\"attributes\":{},\"id\":\"2945\",\"type\":\"WheelZoomTool\"},{\"attributes\":{\"factors\":[\"btc_price_zscore\",\"m2_supply_zscore\"],\"tags\":[[[\"index\",\"index\",null]]]},\"id\":\"2926\",\"type\":\"FactorRange\"},{\"attributes\":{\"fill_color\":{\"field\":\"zvalues\",\"transform\":{\"id\":\"2956\"}},\"height\":{\"value\":1},\"line_alpha\":{\"value\":0},\"line_color\":{\"value\":\"#1f77b4\"},\"width\":{\"value\":1},\"x\":{\"field\":\"columns\"},\"y\":{\"field\":\"index\"}},\"id\":\"2960\",\"type\":\"Rect\"}],\"root_ids\":[\"2923\"]},\"title\":\"Bokeh Application\",\"version\":\"2.3.2\"}};\n",
       "    var render_items = [{\"docid\":\"40f52fd3-f46c-4d94-a651-72231384828a\",\"root_ids\":[\"2923\"],\"roots\":{\"2923\":\"cdbdfc34-24d7-41e0-bd62-87a0f996109f\"}}];\n",
       "    root.Bokeh.embed.embed_items_notebook(docs_json, render_items);\n",
       "  }\n",
       "  if (root.Bokeh !== undefined && root.Bokeh.Panel !== undefined) {\n",
       "    embed_document(root);\n",
       "  } else {\n",
       "    var attempts = 0;\n",
       "    var timer = setInterval(function(root) {\n",
       "      if (root.Bokeh !== undefined && root.Bokeh.Panel !== undefined) {\n",
       "        clearInterval(timer);\n",
       "        embed_document(root);\n",
       "      } else if (document.readyState == \"complete\") {\n",
       "        attempts++;\n",
       "        if (attempts > 200) {\n",
       "          clearInterval(timer);\n",
       "          console.log(\"Bokeh: ERROR: Unable to run BokehJS code because BokehJS library is missing\");\n",
       "        }\n",
       "      }\n",
       "    }, 25, root)\n",
       "  }\n",
       "})(window);</script>"
      ],
      "text/plain": [
       ":HeatMap   [columns,index]   (value)"
      ]
     },
     "execution_count": 78,
     "metadata": {
      "application/vnd.holoviews_exec.v0+json": {
       "id": "2923"
      }
     },
     "output_type": "execute_result"
    }
   ],
   "source": [
    "z_score_m2sl_btc_corr.hvplot.heatmap()"
   ]
  },
  {
   "cell_type": "markdown",
   "id": "6ced7b01",
   "metadata": {},
   "source": [
    "## Rolling 3 year data:"
   ]
  },
  {
   "cell_type": "code",
   "execution_count": 79,
   "id": "f346f4cd",
   "metadata": {},
   "outputs": [
    {
     "data": {
      "text/html": [
       "<div>\n",
       "<style scoped>\n",
       "    .dataframe tbody tr th:only-of-type {\n",
       "        vertical-align: middle;\n",
       "    }\n",
       "\n",
       "    .dataframe tbody tr th {\n",
       "        vertical-align: top;\n",
       "    }\n",
       "\n",
       "    .dataframe thead th {\n",
       "        text-align: right;\n",
       "    }\n",
       "</style>\n",
       "<table border=\"1\" class=\"dataframe\">\n",
       "  <thead>\n",
       "    <tr style=\"text-align: right;\">\n",
       "      <th></th>\n",
       "      <th>m2_supply_zscore</th>\n",
       "      <th>btc_price_zscore</th>\n",
       "    </tr>\n",
       "  </thead>\n",
       "  <tbody>\n",
       "    <tr>\n",
       "      <th>2014-10-01</th>\n",
       "      <td>-1.225845</td>\n",
       "      <td>-0.627466</td>\n",
       "    </tr>\n",
       "    <tr>\n",
       "      <th>2014-11-01</th>\n",
       "      <td>-1.210906</td>\n",
       "      <td>-0.631676</td>\n",
       "    </tr>\n",
       "    <tr>\n",
       "      <th>2014-12-01</th>\n",
       "      <td>-1.178089</td>\n",
       "      <td>-0.627110</td>\n",
       "    </tr>\n",
       "    <tr>\n",
       "      <th>2015-01-01</th>\n",
       "      <td>-1.149163</td>\n",
       "      <td>-0.632658</td>\n",
       "    </tr>\n",
       "    <tr>\n",
       "      <th>2015-02-01</th>\n",
       "      <td>-1.096276</td>\n",
       "      <td>-0.640108</td>\n",
       "    </tr>\n",
       "  </tbody>\n",
       "</table>\n",
       "</div>"
      ],
      "text/plain": [
       "            m2_supply_zscore  btc_price_zscore\n",
       "2014-10-01         -1.225845         -0.627466\n",
       "2014-11-01         -1.210906         -0.631676\n",
       "2014-12-01         -1.178089         -0.627110\n",
       "2015-01-01         -1.149163         -0.632658\n",
       "2015-02-01         -1.096276         -0.640108"
      ]
     },
     "execution_count": 79,
     "metadata": {},
     "output_type": "execute_result"
    }
   ],
   "source": [
    "rolling_z_score_m2sl_btc = z_score_m2sl_btc.copy(deep=True)\n",
    "rolling_z_score_m2sl_btc.head()"
   ]
  },
  {
   "cell_type": "code",
   "execution_count": 80,
   "id": "0c6a8b33",
   "metadata": {},
   "outputs": [
    {
     "data": {
      "text/html": [
       "<div>\n",
       "<style scoped>\n",
       "    .dataframe tbody tr th:only-of-type {\n",
       "        vertical-align: middle;\n",
       "    }\n",
       "\n",
       "    .dataframe tbody tr th {\n",
       "        vertical-align: top;\n",
       "    }\n",
       "\n",
       "    .dataframe thead th {\n",
       "        text-align: right;\n",
       "    }\n",
       "</style>\n",
       "<table border=\"1\" class=\"dataframe\">\n",
       "  <thead>\n",
       "    <tr style=\"text-align: right;\">\n",
       "      <th></th>\n",
       "      <th>m2_supply_zscore</th>\n",
       "      <th>btc_price_zscore</th>\n",
       "      <th>rolling_m2_supply_zscore</th>\n",
       "    </tr>\n",
       "  </thead>\n",
       "  <tbody>\n",
       "    <tr>\n",
       "      <th>2021-02-01</th>\n",
       "      <td>2.128539</td>\n",
       "      <td>2.203309</td>\n",
       "      <td>1.981255</td>\n",
       "    </tr>\n",
       "    <tr>\n",
       "      <th>2021-03-01</th>\n",
       "      <td>2.230382</td>\n",
       "      <td>3.577127</td>\n",
       "      <td>1.936298</td>\n",
       "    </tr>\n",
       "    <tr>\n",
       "      <th>2021-04-01</th>\n",
       "      <td>2.315588</td>\n",
       "      <td>4.409666</td>\n",
       "      <td>1.878282</td>\n",
       "    </tr>\n",
       "    <tr>\n",
       "      <th>2021-05-01</th>\n",
       "      <td>2.419872</td>\n",
       "      <td>4.174645</td>\n",
       "      <td>1.845022</td>\n",
       "    </tr>\n",
       "    <tr>\n",
       "      <th>2021-06-01</th>\n",
       "      <td>2.426907</td>\n",
       "      <td>2.548000</td>\n",
       "      <td>1.720977</td>\n",
       "    </tr>\n",
       "  </tbody>\n",
       "</table>\n",
       "</div>"
      ],
      "text/plain": [
       "            m2_supply_zscore  btc_price_zscore  rolling_m2_supply_zscore\n",
       "2021-02-01          2.128539          2.203309                  1.981255\n",
       "2021-03-01          2.230382          3.577127                  1.936298\n",
       "2021-04-01          2.315588          4.409666                  1.878282\n",
       "2021-05-01          2.419872          4.174645                  1.845022\n",
       "2021-06-01          2.426907          2.548000                  1.720977"
      ]
     },
     "execution_count": 80,
     "metadata": {},
     "output_type": "execute_result"
    }
   ],
   "source": [
    "rolling_z_score_m2sl_btc['rolling_m2_supply_zscore'] = \\\n",
    "(rolling_z_score_m2sl_btc['m2_supply_zscore'] - rolling_z_score_m2sl_btc['m2_supply_zscore'].rolling(window=36).mean()) / rolling_z_score_m2sl_btc['m2_supply_zscore'].rolling(window=36).std()\n",
    "rolling_z_score_m2sl_btc.tail()"
   ]
  },
  {
   "cell_type": "code",
   "execution_count": 81,
   "id": "47e5c670",
   "metadata": {},
   "outputs": [
    {
     "data": {
      "text/html": [
       "<div>\n",
       "<style scoped>\n",
       "    .dataframe tbody tr th:only-of-type {\n",
       "        vertical-align: middle;\n",
       "    }\n",
       "\n",
       "    .dataframe tbody tr th {\n",
       "        vertical-align: top;\n",
       "    }\n",
       "\n",
       "    .dataframe thead th {\n",
       "        text-align: right;\n",
       "    }\n",
       "</style>\n",
       "<table border=\"1\" class=\"dataframe\">\n",
       "  <thead>\n",
       "    <tr style=\"text-align: right;\">\n",
       "      <th></th>\n",
       "      <th>m2_supply_zscore</th>\n",
       "      <th>btc_price_zscore</th>\n",
       "      <th>rolling_m2_supply_zscore</th>\n",
       "      <th>rolling_btc_price_zscore</th>\n",
       "    </tr>\n",
       "  </thead>\n",
       "  <tbody>\n",
       "    <tr>\n",
       "      <th>2021-02-01</th>\n",
       "      <td>2.128539</td>\n",
       "      <td>2.203309</td>\n",
       "      <td>1.981255</td>\n",
       "      <td>3.885515</td>\n",
       "    </tr>\n",
       "    <tr>\n",
       "      <th>2021-03-01</th>\n",
       "      <td>2.230382</td>\n",
       "      <td>3.577127</td>\n",
       "      <td>1.936298</td>\n",
       "      <td>4.291574</td>\n",
       "    </tr>\n",
       "    <tr>\n",
       "      <th>2021-04-01</th>\n",
       "      <td>2.315588</td>\n",
       "      <td>4.409666</td>\n",
       "      <td>1.878282</td>\n",
       "      <td>3.890181</td>\n",
       "    </tr>\n",
       "    <tr>\n",
       "      <th>2021-05-01</th>\n",
       "      <td>2.419872</td>\n",
       "      <td>4.174645</td>\n",
       "      <td>1.845022</td>\n",
       "      <td>3.037371</td>\n",
       "    </tr>\n",
       "    <tr>\n",
       "      <th>2021-06-01</th>\n",
       "      <td>2.426907</td>\n",
       "      <td>2.548000</td>\n",
       "      <td>1.720977</td>\n",
       "      <td>1.578853</td>\n",
       "    </tr>\n",
       "  </tbody>\n",
       "</table>\n",
       "</div>"
      ],
      "text/plain": [
       "            m2_supply_zscore  btc_price_zscore  rolling_m2_supply_zscore  \\\n",
       "2021-02-01          2.128539          2.203309                  1.981255   \n",
       "2021-03-01          2.230382          3.577127                  1.936298   \n",
       "2021-04-01          2.315588          4.409666                  1.878282   \n",
       "2021-05-01          2.419872          4.174645                  1.845022   \n",
       "2021-06-01          2.426907          2.548000                  1.720977   \n",
       "\n",
       "            rolling_btc_price_zscore  \n",
       "2021-02-01                  3.885515  \n",
       "2021-03-01                  4.291574  \n",
       "2021-04-01                  3.890181  \n",
       "2021-05-01                  3.037371  \n",
       "2021-06-01                  1.578853  "
      ]
     },
     "execution_count": 81,
     "metadata": {},
     "output_type": "execute_result"
    }
   ],
   "source": [
    "rolling_z_score_m2sl_btc['rolling_btc_price_zscore'] = \\\n",
    "(rolling_z_score_m2sl_btc['btc_price_zscore'] - rolling_z_score_m2sl_btc['btc_price_zscore'].rolling(window=36).mean()) / rolling_z_score_m2sl_btc['btc_price_zscore'].rolling(window=36).std()\n",
    "rolling_z_score_m2sl_btc.tail()"
   ]
  },
  {
   "cell_type": "code",
   "execution_count": 82,
   "id": "ffcd86db",
   "metadata": {},
   "outputs": [
    {
     "data": {
      "text/html": [
       "<div>\n",
       "<style scoped>\n",
       "    .dataframe tbody tr th:only-of-type {\n",
       "        vertical-align: middle;\n",
       "    }\n",
       "\n",
       "    .dataframe tbody tr th {\n",
       "        vertical-align: top;\n",
       "    }\n",
       "\n",
       "    .dataframe thead th {\n",
       "        text-align: right;\n",
       "    }\n",
       "</style>\n",
       "<table border=\"1\" class=\"dataframe\">\n",
       "  <thead>\n",
       "    <tr style=\"text-align: right;\">\n",
       "      <th></th>\n",
       "      <th>rolling_m2_supply_zscore</th>\n",
       "      <th>rolling_btc_price_zscore</th>\n",
       "    </tr>\n",
       "  </thead>\n",
       "  <tbody>\n",
       "    <tr>\n",
       "      <th>2021-02-01</th>\n",
       "      <td>1.981255</td>\n",
       "      <td>3.885515</td>\n",
       "    </tr>\n",
       "    <tr>\n",
       "      <th>2021-03-01</th>\n",
       "      <td>1.936298</td>\n",
       "      <td>4.291574</td>\n",
       "    </tr>\n",
       "    <tr>\n",
       "      <th>2021-04-01</th>\n",
       "      <td>1.878282</td>\n",
       "      <td>3.890181</td>\n",
       "    </tr>\n",
       "    <tr>\n",
       "      <th>2021-05-01</th>\n",
       "      <td>1.845022</td>\n",
       "      <td>3.037371</td>\n",
       "    </tr>\n",
       "    <tr>\n",
       "      <th>2021-06-01</th>\n",
       "      <td>1.720977</td>\n",
       "      <td>1.578853</td>\n",
       "    </tr>\n",
       "  </tbody>\n",
       "</table>\n",
       "</div>"
      ],
      "text/plain": [
       "            rolling_m2_supply_zscore  rolling_btc_price_zscore\n",
       "2021-02-01                  1.981255                  3.885515\n",
       "2021-03-01                  1.936298                  4.291574\n",
       "2021-04-01                  1.878282                  3.890181\n",
       "2021-05-01                  1.845022                  3.037371\n",
       "2021-06-01                  1.720977                  1.578853"
      ]
     },
     "execution_count": 82,
     "metadata": {},
     "output_type": "execute_result"
    }
   ],
   "source": [
    "rolling_z_score_m2sl_btc.drop(columns=['m2_supply_zscore', 'btc_price_zscore'], inplace = True)\n",
    "rolling_z_score_m2sl_btc.tail()"
   ]
  },
  {
   "cell_type": "markdown",
   "id": "148e516b",
   "metadata": {},
   "source": [
    "## Data Visulization with Line plot and scatter plot"
   ]
  },
  {
   "cell_type": "code",
   "execution_count": 87,
   "id": "3199f8ff",
   "metadata": {},
   "outputs": [
    {
     "data": {},
     "metadata": {},
     "output_type": "display_data"
    },
    {
     "data": {
      "application/vnd.holoviews_exec.v0+json": "",
      "text/html": [
       "<div id='3706'>\n",
       "\n",
       "\n",
       "\n",
       "\n",
       "\n",
       "  <div class=\"bk-root\" id=\"8ba476f1-f65d-41f7-a1cc-06f1f30b5564\" data-root-id=\"3706\"></div>\n",
       "</div>\n",
       "<script type=\"application/javascript\">(function(root) {\n",
       "  function embed_document(root) {\n",
       "    var docs_json = {\"7730d3a5-8a66-4f8c-b227-58b58ce69f65\":{\"defs\":[{\"extends\":null,\"module\":null,\"name\":\"ReactiveHTML1\",\"overrides\":[],\"properties\":[]},{\"extends\":null,\"module\":null,\"name\":\"FlexBox1\",\"overrides\":[],\"properties\":[{\"default\":\"flex-start\",\"kind\":null,\"name\":\"align_content\"},{\"default\":\"flex-start\",\"kind\":null,\"name\":\"align_items\"},{\"default\":\"row\",\"kind\":null,\"name\":\"flex_direction\"},{\"default\":\"wrap\",\"kind\":null,\"name\":\"flex_wrap\"},{\"default\":\"flex-start\",\"kind\":null,\"name\":\"justify_content\"}]},{\"extends\":null,\"module\":null,\"name\":\"TemplateActions1\",\"overrides\":[],\"properties\":[{\"default\":0,\"kind\":null,\"name\":\"open_modal\"},{\"default\":0,\"kind\":null,\"name\":\"close_modal\"}]},{\"extends\":null,\"module\":null,\"name\":\"MaterialTemplateActions1\",\"overrides\":[],\"properties\":[{\"default\":0,\"kind\":null,\"name\":\"open_modal\"},{\"default\":0,\"kind\":null,\"name\":\"close_modal\"}]}],\"roots\":{\"references\":[{\"attributes\":{\"below\":[{\"id\":\"3721\"}],\"center\":[{\"id\":\"3724\"},{\"id\":\"3728\"}],\"height\":300,\"left\":[{\"id\":\"3725\"}],\"margin\":[5,5,5,5],\"min_border_bottom\":10,\"min_border_left\":10,\"min_border_right\":10,\"min_border_top\":10,\"renderers\":[{\"id\":\"3754\"},{\"id\":\"3787\"}],\"right\":[{\"id\":\"3778\"}],\"sizing_mode\":\"fixed\",\"title\":{\"id\":\"3713\"},\"toolbar\":{\"id\":\"3735\"},\"width\":700,\"x_range\":{\"id\":\"3708\"},\"x_scale\":{\"id\":\"3717\"},\"y_range\":{\"id\":\"3709\"},\"y_scale\":{\"id\":\"3719\"}},\"id\":\"3712\",\"subtype\":\"Figure\",\"type\":\"Plot\"},{\"attributes\":{\"label\":{\"value\":\"btc_price\"},\"renderers\":[{\"id\":\"3787\"}]},\"id\":\"3813\",\"type\":\"LegendItem\"},{\"attributes\":{\"base\":60,\"mantissas\":[1,2,5,10,15,20,30],\"max_interval\":1800000.0,\"min_interval\":1000.0,\"num_minor_ticks\":0},\"id\":\"3764\",\"type\":\"AdaptiveTicker\"},{\"attributes\":{},\"id\":\"3746\",\"type\":\"AllLabels\"},{\"attributes\":{},\"id\":\"3729\",\"type\":\"SaveTool\"},{\"attributes\":{\"mantissas\":[1,2,5],\"max_interval\":500.0,\"num_minor_ticks\":0},\"id\":\"3763\",\"type\":\"AdaptiveTicker\"},{\"attributes\":{},\"id\":\"3743\",\"type\":\"AllLabels\"},{\"attributes\":{\"line_alpha\":0.2,\"line_color\":\"#30a2da\",\"line_width\":2,\"x\":{\"field\":\"index\"},\"y\":{\"field\":\"value\"}},\"id\":\"3753\",\"type\":\"Line\"},{\"attributes\":{},\"id\":\"3730\",\"type\":\"PanTool\"},{\"attributes\":{\"axis_label\":\"\",\"formatter\":{\"id\":\"3744\"},\"major_label_policy\":{\"id\":\"3743\"},\"ticker\":{\"id\":\"3722\"}},\"id\":\"3721\",\"type\":\"DatetimeAxis\"},{\"attributes\":{},\"id\":\"3733\",\"type\":\"ResetTool\"},{\"attributes\":{\"days\":[1,2,3,4,5,6,7,8,9,10,11,12,13,14,15,16,17,18,19,20,21,22,23,24,25,26,27,28,29,30,31]},\"id\":\"3766\",\"type\":\"DaysTicker\"},{\"attributes\":{},\"id\":\"3776\",\"type\":\"UnionRenderers\"},{\"attributes\":{},\"id\":\"3731\",\"type\":\"WheelZoomTool\"},{\"attributes\":{\"base\":24,\"mantissas\":[1,2,4,6,8,12],\"max_interval\":43200000.0,\"min_interval\":3600000.0,\"num_minor_ticks\":0},\"id\":\"3765\",\"type\":\"AdaptiveTicker\"},{\"attributes\":{\"margin\":[5,5,5,5],\"name\":\"HSpacer04659\",\"sizing_mode\":\"stretch_width\"},\"id\":\"3707\",\"type\":\"Spacer\"},{\"attributes\":{\"line_color\":\"#30a2da\",\"line_width\":2,\"x\":{\"field\":\"index\"},\"y\":{\"field\":\"value\"}},\"id\":\"3780\",\"type\":\"Line\"},{\"attributes\":{\"line_color\":\"#fc4f30\",\"line_width\":2,\"x\":{\"field\":\"index\"},\"y\":{\"field\":\"value\"}},\"id\":\"3814\",\"type\":\"Line\"},{\"attributes\":{\"overlay\":{\"id\":\"3734\"}},\"id\":\"3732\",\"type\":\"BoxZoomTool\"},{\"attributes\":{\"text_color\":\"black\",\"text_font_size\":\"12pt\"},\"id\":\"3713\",\"type\":\"Title\"},{\"attributes\":{\"days\":[1,4,7,10,13,16,19,22,25,28]},\"id\":\"3767\",\"type\":\"DaysTicker\"},{\"attributes\":{},\"id\":\"3774\",\"type\":\"YearsTicker\"},{\"attributes\":{\"num_minor_ticks\":5,\"tickers\":[{\"id\":\"3763\"},{\"id\":\"3764\"},{\"id\":\"3765\"},{\"id\":\"3766\"},{\"id\":\"3767\"},{\"id\":\"3768\"},{\"id\":\"3769\"},{\"id\":\"3770\"},{\"id\":\"3771\"},{\"id\":\"3772\"},{\"id\":\"3773\"},{\"id\":\"3774\"}]},\"id\":\"3722\",\"type\":\"DatetimeTicker\"},{\"attributes\":{\"callback\":null,\"formatters\":{\"@{index}\":\"datetime\"},\"renderers\":[{\"id\":\"3754\"},{\"id\":\"3787\"}],\"tags\":[\"hv_created\"],\"tooltips\":[[\"Variable\",\"@{Variable}\"],[\"index\",\"@{index}{%F %T}\"],[\"value\",\"@{value}\"]]},\"id\":\"3710\",\"type\":\"HoverTool\"},{\"attributes\":{},\"id\":\"3717\",\"type\":\"LinearScale\"},{\"attributes\":{\"months\":[0,1,2,3,4,5,6,7,8,9,10,11]},\"id\":\"3770\",\"type\":\"MonthsTicker\"},{\"attributes\":{\"line_alpha\":0.2,\"line_color\":\"#fc4f30\",\"line_width\":2,\"x\":{\"field\":\"index\"},\"y\":{\"field\":\"value\"}},\"id\":\"3786\",\"type\":\"Line\"},{\"attributes\":{\"children\":[{\"id\":\"3707\"},{\"id\":\"3712\"},{\"id\":\"4031\"}],\"margin\":[0,0,0,0],\"name\":\"Row04655\",\"tags\":[\"embedded\"]},\"id\":\"3706\",\"type\":\"Row\"},{\"attributes\":{\"days\":[1,8,15,22]},\"id\":\"3768\",\"type\":\"DaysTicker\"},{\"attributes\":{\"label\":{\"value\":\"m2_supply\"},\"renderers\":[{\"id\":\"3754\"}]},\"id\":\"3779\",\"type\":\"LegendItem\"},{\"attributes\":{\"days\":[1,15]},\"id\":\"3769\",\"type\":\"DaysTicker\"},{\"attributes\":{},\"id\":\"3719\",\"type\":\"LinearScale\"},{\"attributes\":{\"end\":65300.16345062256,\"reset_end\":65300.16345062256,\"reset_start\":-5690.047956848145,\"start\":-5690.047956848145,\"tags\":[[[\"value\",\"value\",null]]]},\"id\":\"3709\",\"type\":\"Range1d\"},{\"attributes\":{},\"id\":\"3782\",\"type\":\"Selection\"},{\"attributes\":{\"axis_label\":\"\",\"formatter\":{\"id\":\"3747\"},\"major_label_policy\":{\"id\":\"3746\"},\"ticker\":{\"id\":\"3726\"}},\"id\":\"3725\",\"type\":\"LinearAxis\"},{\"attributes\":{\"axis\":{\"id\":\"3721\"},\"grid_line_color\":null,\"ticker\":null},\"id\":\"3724\",\"type\":\"Grid\"},{\"attributes\":{\"end\":1622505600000.0,\"reset_end\":1622505600000.0,\"reset_start\":1412121600000.0,\"start\":1412121600000.0,\"tags\":[[[\"index\",\"index\",null]]]},\"id\":\"3708\",\"type\":\"Range1d\"},{\"attributes\":{\"line_color\":\"#30a2da\",\"line_width\":2,\"x\":{\"field\":\"index\"},\"y\":{\"field\":\"value\"}},\"id\":\"3751\",\"type\":\"Line\"},{\"attributes\":{\"months\":[0,2,4,6,8,10]},\"id\":\"3771\",\"type\":\"MonthsTicker\"},{\"attributes\":{},\"id\":\"3811\",\"type\":\"UnionRenderers\"},{\"attributes\":{},\"id\":\"3747\",\"type\":\"BasicTickFormatter\"},{\"attributes\":{\"line_alpha\":0.1,\"line_color\":\"#fc4f30\",\"line_width\":2,\"x\":{\"field\":\"index\"},\"y\":{\"field\":\"value\"}},\"id\":\"3785\",\"type\":\"Line\"},{\"attributes\":{\"active_multi\":null,\"tools\":[{\"id\":\"3710\"},{\"id\":\"3729\"},{\"id\":\"3730\"},{\"id\":\"3731\"},{\"id\":\"3732\"},{\"id\":\"3733\"}]},\"id\":\"3735\",\"type\":\"Toolbar\"},{\"attributes\":{},\"id\":\"3726\",\"type\":\"BasicTicker\"},{\"attributes\":{\"axis\":{\"id\":\"3725\"},\"dimension\":1,\"grid_line_color\":null,\"ticker\":null},\"id\":\"3728\",\"type\":\"Grid\"},{\"attributes\":{\"source\":{\"id\":\"3781\"}},\"id\":\"3788\",\"type\":\"CDSView\"},{\"attributes\":{\"months\":[0,4,8]},\"id\":\"3772\",\"type\":\"MonthsTicker\"},{\"attributes\":{\"data\":{\"Variable\":[\"m2_supply\",\"m2_supply\",\"m2_supply\",\"m2_supply\",\"m2_supply\",\"m2_supply\",\"m2_supply\",\"m2_supply\",\"m2_supply\",\"m2_supply\",\"m2_supply\",\"m2_supply\",\"m2_supply\",\"m2_supply\",\"m2_supply\",\"m2_supply\",\"m2_supply\",\"m2_supply\",\"m2_supply\",\"m2_supply\",\"m2_supply\",\"m2_supply\",\"m2_supply\",\"m2_supply\",\"m2_supply\",\"m2_supply\",\"m2_supply\",\"m2_supply\",\"m2_supply\",\"m2_supply\",\"m2_supply\",\"m2_supply\",\"m2_supply\",\"m2_supply\",\"m2_supply\",\"m2_supply\",\"m2_supply\",\"m2_supply\",\"m2_supply\",\"m2_supply\",\"m2_supply\",\"m2_supply\",\"m2_supply\",\"m2_supply\",\"m2_supply\",\"m2_supply\",\"m2_supply\",\"m2_supply\",\"m2_supply\",\"m2_supply\",\"m2_supply\",\"m2_supply\",\"m2_supply\",\"m2_supply\",\"m2_supply\",\"m2_supply\",\"m2_supply\",\"m2_supply\",\"m2_supply\",\"m2_supply\",\"m2_supply\",\"m2_supply\",\"m2_supply\",\"m2_supply\",\"m2_supply\",\"m2_supply\",\"m2_supply\",\"m2_supply\",\"m2_supply\",\"m2_supply\",\"m2_supply\",\"m2_supply\",\"m2_supply\",\"m2_supply\",\"m2_supply\",\"m2_supply\",\"m2_supply\",\"m2_supply\",\"m2_supply\",\"m2_supply\",\"m2_supply\"],\"index\":{\"__ndarray__\":\"AAAAGpCMdEIAAEBsipZ0QgAAwFgyoHRCAAAAqyyqdEIAAED9JrR0QgAAQB4qvXRCAACAcCTHdEIAAABdzNB0QgAAQK/G2nRCAADAm27kdEIAAADuaO50QgAAQEBj+HRCAADALAsCdUIAAAB/BQx1QgAAgGutFXVCAADAvacfdUIAAAAQoil1QgAAwJb3MnVCAAAA6fE8dUIAAIDVmUZ1QgAAwCeUUHVCAABAFDxadUIAAIBmNmR1QgAAwLgwbnVCAABApdh3dUIAAID30oF1QgAAAOR6i3VCAABANnWVdUIAAICIb591QgAAgKlyqHVCAADA+2yydUIAAEDoFLx1QgAAgDoPxnVCAAAAJ7fPdUIAAEB5sdl1QgAAgMur43VCAAAAuFPtdUIAAEAKTvd1QgAAwPb1AHZCAAAASfAKdkIAAECb6hR2QgAAQLztHXZCAACADugndkIAAAD7jzF2QgAAQE2KO3ZCAADAOTJFdkIAAACMLE92QgAAQN4mWXZCAADAys5idkIAAAAdyWx2QgAAgAlxdnZCAADAW2uAdkIAAACuZYp2QgAAAM9ok3ZCAABAIWOddkIAAMANC6d2QgAAAGAFsXZCAACATK26dkIAAMCep8R2QgAAAPGhznZCAACA3UnYdkIAAMAvROJ2QgAAQBzs63ZCAACAbub1dkIAAMDA4P92QgAAgEc2CXdCAADAmTATd0IAAECG2Bx3QgAAgNjSJndCAAAAxXowd0IAAEAXdTp3QgAAgGlvRHdCAAAAVhdOd0IAAECoEVh3QgAAwJS5YXdCAAAA57Nrd0IAAEA5rnV3QgAAQFqxfndCAACArKuId0IAAACZU5J3QgAAQOtNnHdC\",\"dtype\":\"float64\",\"order\":\"little\",\"shape\":[81]},\"value\":{\"__ndarray__\":\"zczMzAyVxkCamZmZGafGQAAAAADAzsZAMzMzM7PxxkCamZmZmTHHQGZmZmbmOcdAzczMzIxNx0AzMzMzs1zHQAAAAABAc8dAMzMzM/OLx0DNzMzMTKTHQM3MzMxMv8dAAAAAAEDSx0AzMzMzc/zHQGZmZmYmHMhAMzMzM/NdyEAzMzMzc4bIQM3MzMyMpshAAAAAAMDOyEBmZmZmJvDIQDMzMzOzEclAAAAAAAAvyUAAAAAAwFbJQGZmZmZmdMlAzczMzMyYyUCamZmZGb7JQGZmZmYm0slAZmZmZqb3yUAzMzMz8xrKQJqZmZmZPcpAmpmZmZlaykAAAAAAAHTKQGZmZmamgcpAzczMzAyeykDNzMzMjLbKQJqZmZlZy8pAmpmZmdnlykDNzMzMDPfKQJqZmZlZEctAzczMzAway0CamZmZWS/LQM3MzMyMS8tAAAAAAMBay0DNzMzMTHvLQGZmZmYmmctAMzMzM7Ony0BmZmZm5rzLQDMzMzMzzMtAmpmZmdnPy0BmZmZmJtnLQJqZmZmZFMxAZmZmZmY3zEBmZmZm5kzMQJqZmZlZZMxAmpmZmVl2zEAAAAAAQKjMQJqZmZmZ48xAzczMzAwHzUBmZmZmZi3NQM3MzMwMW81AmpmZmVmazUAzMzMzM8vNQM3MzMyM8M1AAAAAAAAZzkAzMzMzszjOQGZmZmYmR89AmpmZmbmk0EAAAAAAQHnRQGZmZmbmwNFAAAAAAADk0UAzMzMzc/PRQAAAAABAK9JAZmZmZsZP0kDNzMzMDITSQJqZmZnZrtJAAAAAACDx0kCamZmZ+TTTQAAAAACActNAmpmZmfml00CamZmZ+eTTQJqZmZk56dNA\",\"dtype\":\"float64\",\"order\":\"little\",\"shape\":[81]}},\"selected\":{\"id\":\"3749\"},\"selection_policy\":{\"id\":\"3776\"}},\"id\":\"3748\",\"type\":\"ColumnDataSource\"},{\"attributes\":{},\"id\":\"3749\",\"type\":\"Selection\"},{\"attributes\":{\"line_color\":\"#fc4f30\",\"line_width\":2,\"x\":{\"field\":\"index\"},\"y\":{\"field\":\"value\"}},\"id\":\"3784\",\"type\":\"Line\"},{\"attributes\":{\"months\":[0,6]},\"id\":\"3773\",\"type\":\"MonthsTicker\"},{\"attributes\":{\"bottom_units\":\"screen\",\"fill_alpha\":0.5,\"fill_color\":\"lightgrey\",\"left_units\":\"screen\",\"level\":\"overlay\",\"line_alpha\":1.0,\"line_color\":\"black\",\"line_dash\":[4,4],\"line_width\":2,\"right_units\":\"screen\",\"syncable\":false,\"top_units\":\"screen\"},\"id\":\"3734\",\"type\":\"BoxAnnotation\"},{\"attributes\":{\"data\":{\"Variable\":[\"btc_price\",\"btc_price\",\"btc_price\",\"btc_price\",\"btc_price\",\"btc_price\",\"btc_price\",\"btc_price\",\"btc_price\",\"btc_price\",\"btc_price\",\"btc_price\",\"btc_price\",\"btc_price\",\"btc_price\",\"btc_price\",\"btc_price\",\"btc_price\",\"btc_price\",\"btc_price\",\"btc_price\",\"btc_price\",\"btc_price\",\"btc_price\",\"btc_price\",\"btc_price\",\"btc_price\",\"btc_price\",\"btc_price\",\"btc_price\",\"btc_price\",\"btc_price\",\"btc_price\",\"btc_price\",\"btc_price\",\"btc_price\",\"btc_price\",\"btc_price\",\"btc_price\",\"btc_price\",\"btc_price\",\"btc_price\",\"btc_price\",\"btc_price\",\"btc_price\",\"btc_price\",\"btc_price\",\"btc_price\",\"btc_price\",\"btc_price\",\"btc_price\",\"btc_price\",\"btc_price\",\"btc_price\",\"btc_price\",\"btc_price\",\"btc_price\",\"btc_price\",\"btc_price\",\"btc_price\",\"btc_price\",\"btc_price\",\"btc_price\",\"btc_price\",\"btc_price\",\"btc_price\",\"btc_price\",\"btc_price\",\"btc_price\",\"btc_price\",\"btc_price\",\"btc_price\",\"btc_price\",\"btc_price\",\"btc_price\",\"btc_price\",\"btc_price\",\"btc_price\",\"btc_price\",\"btc_price\",\"btc_price\"],\"index\":{\"__ndarray__\":\"AAAAGpCMdEIAAEBsipZ0QgAAwFgyoHRCAAAAqyyqdEIAAED9JrR0QgAAQB4qvXRCAACAcCTHdEIAAABdzNB0QgAAQK/G2nRCAADAm27kdEIAAADuaO50QgAAQEBj+HRCAADALAsCdUIAAAB/BQx1QgAAgGutFXVCAADAvacfdUIAAAAQoil1QgAAwJb3MnVCAAAA6fE8dUIAAIDVmUZ1QgAAwCeUUHVCAABAFDxadUIAAIBmNmR1QgAAwLgwbnVCAABApdh3dUIAAID30oF1QgAAAOR6i3VCAABANnWVdUIAAICIb591QgAAgKlyqHVCAADA+2yydUIAAEDoFLx1QgAAgDoPxnVCAAAAJ7fPdUIAAEB5sdl1QgAAgMur43VCAAAAuFPtdUIAAEAKTvd1QgAAwPb1AHZCAAAASfAKdkIAAECb6hR2QgAAQLztHXZCAACADugndkIAAAD7jzF2QgAAQE2KO3ZCAADAOTJFdkIAAACMLE92QgAAQN4mWXZCAADAys5idkIAAAAdyWx2QgAAgAlxdnZCAADAW2uAdkIAAACuZYp2QgAAAM9ok3ZCAABAIWOddkIAAMANC6d2QgAAAGAFsXZCAACATK26dkIAAMCep8R2QgAAAPGhznZCAACA3UnYdkIAAMAvROJ2QgAAQBzs63ZCAACAbub1dkIAAMDA4P92QgAAgEc2CXdCAADAmTATd0IAAECG2Bx3QgAAgNjSJndCAAAAxXowd0IAAEAXdTp3QgAAgGlvRHdCAAAAVhdOd0IAAECoEVh3QgAAwJS5YXdCAAAA57Nrd0IAAEA5rnV3QgAAQFqxfndCAACArKuId0IAAACZU5J3QgAAQOtNnHdC\",\"dtype\":\"float64\",\"order\":\"little\",\"shape\":[81]},\"value\":{\"__ndarray__\":\"AAAA4CZxd0AAAADg+1t0QAAAAIDrs3dAAAAA4Pujc0AAAACgGl9sQAAAAGA7Q3BAAAAAACmgb0AAAACAwl1tQAAAACCyOWxAAAAAIC/tb0AAAAAA06lxQAAAAIAWqWxAAAAAQGCpbUAAAABg5VZ0QAAAAODOp3ZAAAAAIFgle0AAAABg5VB3QAAAAMD3MXtAAAAAwPdNekAAAABAtMp7QAAAAKDGz4BAAAAAwJ39hUAAAABguBuBQAAAAMBL/IFAAAAA4CIXg0AAAAAgWM6GQAAAACAxpodAAAAAoJkyj0AAAAAgL+iOQAAAAAAAGpNAAAAAIK44kUAAAACgR7OWQAAAAKAZcaNAAAAAoPCUo0AAAAAAVy2lQAAAACDF4rFAAAAA4FE5sUAAAABgT2+6QAAAAMDMb8VAAAAAoJmsykAAAAAgRenBQAAAAACAY8VAAAAAwMyru0AAAADA9QnCQAAAAEBz271AAAAAIC7WuUAAAABgJo+9QAAAAGC4aLxAAAAAoBmcuUAAAACgx+m4QAAAAACsdrBAAAAAQAoHrkAAAAAA5D+rQAAAAOAqJ65AAAAAwOAPs0AAAACgSIG1QAAAAKB6E8FAAAAAwNYYxUAAAABgFovEQAAAAGBhNcRAAAAAYIVkwEAAAABgjRbCQAAAAOBKAL1AAAAAoCwgvEAAAAAAcFjCQAAAACA6ucBAAAAA4J+JukAAAABgTI7BQAAAAODmnMJAAAAAgLTRwUAAAACgzpbFQAAAAGAES8ZAAAAAAJWsxEAAAAAAjtTKQAAAAOC/XNJAAAAAwImv3EAAAACgJWDgQAAAAMDnO+hAAAAAAAr/7EAAAACA4qbrQAAAAMDlWOJA\",\"dtype\":\"float64\",\"order\":\"little\",\"shape\":[81]}},\"selected\":{\"id\":\"3782\"},\"selection_policy\":{\"id\":\"3811\"}},\"id\":\"3781\",\"type\":\"ColumnDataSource\"},{\"attributes\":{\"margin\":[5,5,5,5],\"name\":\"HSpacer04660\",\"sizing_mode\":\"stretch_width\"},\"id\":\"4031\",\"type\":\"Spacer\"},{\"attributes\":{\"line_alpha\":0.1,\"line_color\":\"#30a2da\",\"line_width\":2,\"x\":{\"field\":\"index\"},\"y\":{\"field\":\"value\"}},\"id\":\"3752\",\"type\":\"Line\"},{\"attributes\":{\"click_policy\":\"mute\",\"items\":[{\"id\":\"3779\"},{\"id\":\"3813\"}],\"location\":[0,0],\"title\":\"Variable\"},\"id\":\"3778\",\"type\":\"Legend\"},{\"attributes\":{},\"id\":\"3744\",\"type\":\"DatetimeTickFormatter\"},{\"attributes\":{\"source\":{\"id\":\"3748\"}},\"id\":\"3755\",\"type\":\"CDSView\"},{\"attributes\":{\"data_source\":{\"id\":\"3748\"},\"glyph\":{\"id\":\"3751\"},\"hover_glyph\":null,\"muted_glyph\":{\"id\":\"3753\"},\"nonselection_glyph\":{\"id\":\"3752\"},\"selection_glyph\":{\"id\":\"3780\"},\"view\":{\"id\":\"3755\"}},\"id\":\"3754\",\"type\":\"GlyphRenderer\"},{\"attributes\":{\"data_source\":{\"id\":\"3781\"},\"glyph\":{\"id\":\"3784\"},\"hover_glyph\":null,\"muted_glyph\":{\"id\":\"3786\"},\"nonselection_glyph\":{\"id\":\"3785\"},\"selection_glyph\":{\"id\":\"3814\"},\"view\":{\"id\":\"3788\"}},\"id\":\"3787\",\"type\":\"GlyphRenderer\"}],\"root_ids\":[\"3706\"]},\"title\":\"Bokeh Application\",\"version\":\"2.3.2\"}};\n",
       "    var render_items = [{\"docid\":\"7730d3a5-8a66-4f8c-b227-58b58ce69f65\",\"root_ids\":[\"3706\"],\"roots\":{\"3706\":\"8ba476f1-f65d-41f7-a1cc-06f1f30b5564\"}}];\n",
       "    root.Bokeh.embed.embed_items_notebook(docs_json, render_items);\n",
       "  }\n",
       "  if (root.Bokeh !== undefined && root.Bokeh.Panel !== undefined) {\n",
       "    embed_document(root);\n",
       "  } else {\n",
       "    var attempts = 0;\n",
       "    var timer = setInterval(function(root) {\n",
       "      if (root.Bokeh !== undefined && root.Bokeh.Panel !== undefined) {\n",
       "        clearInterval(timer);\n",
       "        embed_document(root);\n",
       "      } else if (document.readyState == \"complete\") {\n",
       "        attempts++;\n",
       "        if (attempts > 200) {\n",
       "          clearInterval(timer);\n",
       "          console.log(\"Bokeh: ERROR: Unable to run BokehJS code because BokehJS library is missing\");\n",
       "        }\n",
       "      }\n",
       "    }, 25, root)\n",
       "  }\n",
       "})(window);</script>"
      ],
      "text/plain": [
       ":NdOverlay   [Variable]\n",
       "   :Curve   [index]   (value)"
      ]
     },
     "execution_count": 87,
     "metadata": {
      "application/vnd.holoviews_exec.v0+json": {
       "id": "3706"
      }
     },
     "output_type": "execute_result"
    }
   ],
   "source": [
    "# Plot the data trends of the two variables over time\n",
    "rolling_z_score_m2sl_btc_plot = m2sl_btc.hvplot()\n",
    "rolling_z_score_m2sl_btc_plot"
   ]
  },
  {
   "cell_type": "code",
   "execution_count": 88,
   "id": "98d09c74",
   "metadata": {},
   "outputs": [
    {
     "data": {},
     "metadata": {},
     "output_type": "display_data"
    },
    {
     "data": {
      "application/vnd.holoviews_exec.v0+json": "",
      "text/html": [
       "<div id='4153'>\n",
       "\n",
       "\n",
       "\n",
       "\n",
       "\n",
       "  <div class=\"bk-root\" id=\"910046b9-7178-4f46-a56a-6d24a2b9c01e\" data-root-id=\"4153\"></div>\n",
       "</div>\n",
       "<script type=\"application/javascript\">(function(root) {\n",
       "  function embed_document(root) {\n",
       "    var docs_json = {\"d744547d-8ab1-4696-9beb-aaf6f9e12fae\":{\"defs\":[{\"extends\":null,\"module\":null,\"name\":\"ReactiveHTML1\",\"overrides\":[],\"properties\":[]},{\"extends\":null,\"module\":null,\"name\":\"FlexBox1\",\"overrides\":[],\"properties\":[{\"default\":\"flex-start\",\"kind\":null,\"name\":\"align_content\"},{\"default\":\"flex-start\",\"kind\":null,\"name\":\"align_items\"},{\"default\":\"row\",\"kind\":null,\"name\":\"flex_direction\"},{\"default\":\"wrap\",\"kind\":null,\"name\":\"flex_wrap\"},{\"default\":\"flex-start\",\"kind\":null,\"name\":\"justify_content\"}]},{\"extends\":null,\"module\":null,\"name\":\"TemplateActions1\",\"overrides\":[],\"properties\":[{\"default\":0,\"kind\":null,\"name\":\"open_modal\"},{\"default\":0,\"kind\":null,\"name\":\"close_modal\"}]},{\"extends\":null,\"module\":null,\"name\":\"MaterialTemplateActions1\",\"overrides\":[],\"properties\":[{\"default\":0,\"kind\":null,\"name\":\"open_modal\"},{\"default\":0,\"kind\":null,\"name\":\"close_modal\"}]}],\"roots\":{\"references\":[{\"attributes\":{\"fill_alpha\":{\"value\":0.2},\"fill_color\":{\"value\":\"#30a2da\"},\"line_alpha\":{\"value\":0.2},\"line_color\":{\"value\":\"#30a2da\"},\"size\":{\"value\":5.477225575051661},\"x\":{\"field\":\"m2_supply\"},\"y\":{\"field\":\"btc_price\"}},\"id\":\"4193\",\"type\":\"Scatter\"},{\"attributes\":{\"active_multi\":null,\"tools\":[{\"id\":\"4157\"},{\"id\":\"4175\"},{\"id\":\"4176\"},{\"id\":\"4177\"},{\"id\":\"4178\"},{\"id\":\"4179\"}]},\"id\":\"4181\",\"type\":\"Toolbar\"},{\"attributes\":{},\"id\":\"4172\",\"type\":\"BasicTicker\"},{\"attributes\":{},\"id\":\"4168\",\"type\":\"BasicTicker\"},{\"attributes\":{\"axis\":{\"id\":\"4171\"},\"dimension\":1,\"grid_line_color\":null,\"ticker\":null},\"id\":\"4174\",\"type\":\"Grid\"},{\"attributes\":{\"margin\":[5,5,5,5],\"name\":\"HSpacer05082\",\"sizing_mode\":\"stretch_width\"},\"id\":\"4154\",\"type\":\"Spacer\"},{\"attributes\":{\"source\":{\"id\":\"4188\"}},\"id\":\"4195\",\"type\":\"CDSView\"},{\"attributes\":{\"bottom_units\":\"screen\",\"fill_alpha\":0.5,\"fill_color\":\"lightgrey\",\"left_units\":\"screen\",\"level\":\"overlay\",\"line_alpha\":1.0,\"line_color\":\"black\",\"line_dash\":[4,4],\"line_width\":2,\"right_units\":\"screen\",\"syncable\":false,\"top_units\":\"screen\"},\"id\":\"4180\",\"type\":\"BoxAnnotation\"},{\"attributes\":{\"fill_alpha\":{\"value\":0.1},\"fill_color\":{\"value\":\"#30a2da\"},\"line_alpha\":{\"value\":0.1},\"line_color\":{\"value\":\"#30a2da\"},\"size\":{\"value\":5.477225575051661},\"x\":{\"field\":\"m2_supply\"},\"y\":{\"field\":\"btc_price\"}},\"id\":\"4192\",\"type\":\"Scatter\"},{\"attributes\":{\"children\":[{\"id\":\"4154\"},{\"id\":\"4158\"},{\"id\":\"4223\"}],\"margin\":[0,0,0,0],\"name\":\"Row05078\",\"tags\":[\"embedded\"]},\"id\":\"4153\",\"type\":\"Row\"},{\"attributes\":{\"below\":[{\"id\":\"4167\"}],\"center\":[{\"id\":\"4170\"},{\"id\":\"4174\"}],\"height\":300,\"left\":[{\"id\":\"4171\"}],\"margin\":[5,5,5,5],\"min_border_bottom\":10,\"min_border_left\":10,\"min_border_right\":10,\"min_border_top\":10,\"renderers\":[{\"id\":\"4194\"}],\"sizing_mode\":\"fixed\",\"title\":{\"id\":\"4159\"},\"toolbar\":{\"id\":\"4181\"},\"width\":700,\"x_range\":{\"id\":\"4155\"},\"x_scale\":{\"id\":\"4163\"},\"y_range\":{\"id\":\"4156\"},\"y_scale\":{\"id\":\"4165\"}},\"id\":\"4158\",\"subtype\":\"Figure\",\"type\":\"Plot\"},{\"attributes\":{\"data_source\":{\"id\":\"4188\"},\"glyph\":{\"id\":\"4191\"},\"hover_glyph\":null,\"muted_glyph\":{\"id\":\"4193\"},\"nonselection_glyph\":{\"id\":\"4192\"},\"selection_glyph\":{\"id\":\"4196\"},\"view\":{\"id\":\"4195\"}},\"id\":\"4194\",\"type\":\"GlyphRenderer\"},{\"attributes\":{\"angle\":{\"value\":0.0},\"fill_alpha\":{\"value\":1.0},\"fill_color\":{\"value\":\"#30a2da\"},\"hatch_alpha\":{\"value\":1.0},\"hatch_color\":{\"value\":\"black\"},\"hatch_scale\":{\"value\":12.0},\"hatch_weight\":{\"value\":1.0},\"line_alpha\":{\"value\":1.0},\"line_cap\":{\"value\":\"butt\"},\"line_color\":{\"value\":\"#30a2da\"},\"line_dash\":{\"value\":[]},\"line_dash_offset\":{\"value\":0},\"line_join\":{\"value\":\"bevel\"},\"line_width\":{\"value\":1},\"marker\":{\"value\":\"circle\"},\"size\":{\"value\":5.477225575051661},\"x\":{\"field\":\"m2_supply\"},\"y\":{\"field\":\"btc_price\"}},\"id\":\"4196\",\"type\":\"Scatter\"},{\"attributes\":{},\"id\":\"4175\",\"type\":\"SaveTool\"},{\"attributes\":{\"fill_color\":{\"value\":\"#30a2da\"},\"line_color\":{\"value\":\"#30a2da\"},\"size\":{\"value\":5.477225575051661},\"x\":{\"field\":\"m2_supply\"},\"y\":{\"field\":\"btc_price\"}},\"id\":\"4191\",\"type\":\"Scatter\"},{\"attributes\":{},\"id\":\"4176\",\"type\":\"PanTool\"},{\"attributes\":{},\"id\":\"4189\",\"type\":\"Selection\"},{\"attributes\":{},\"id\":\"4179\",\"type\":\"ResetTool\"},{\"attributes\":{},\"id\":\"4177\",\"type\":\"WheelZoomTool\"},{\"attributes\":{\"end\":20767.19142857143,\"reset_end\":20767.19142857143,\"reset_start\":11183.808571428572,\"start\":11183.808571428572,\"tags\":[[[\"m2_supply\",\"m2_supply\",null]]]},\"id\":\"4155\",\"type\":\"Range1d\"},{\"attributes\":{\"text_color\":\"black\",\"text_font_size\":\"12pt\"},\"id\":\"4159\",\"type\":\"Title\"},{\"attributes\":{\"overlay\":{\"id\":\"4180\"}},\"id\":\"4178\",\"type\":\"BoxZoomTool\"},{\"attributes\":{},\"id\":\"4202\",\"type\":\"BasicTickFormatter\"},{\"attributes\":{},\"id\":\"4201\",\"type\":\"AllLabels\"},{\"attributes\":{},\"id\":\"4198\",\"type\":\"AllLabels\"},{\"attributes\":{\"data\":{\"btc_price\":{\"__ndarray__\":\"AAAA4CZxd0AAAADg+1t0QAAAAIDrs3dAAAAA4Pujc0AAAACgGl9sQAAAAGA7Q3BAAAAAACmgb0AAAACAwl1tQAAAACCyOWxAAAAAIC/tb0AAAAAA06lxQAAAAIAWqWxAAAAAQGCpbUAAAABg5VZ0QAAAAODOp3ZAAAAAIFgle0AAAABg5VB3QAAAAMD3MXtAAAAAwPdNekAAAABAtMp7QAAAAKDGz4BAAAAAwJ39hUAAAABguBuBQAAAAMBL/IFAAAAA4CIXg0AAAAAgWM6GQAAAACAxpodAAAAAoJkyj0AAAAAgL+iOQAAAAAAAGpNAAAAAIK44kUAAAACgR7OWQAAAAKAZcaNAAAAAoPCUo0AAAAAAVy2lQAAAACDF4rFAAAAA4FE5sUAAAABgT2+6QAAAAMDMb8VAAAAAoJmsykAAAAAgRenBQAAAAACAY8VAAAAAwMyru0AAAADA9QnCQAAAAEBz271AAAAAIC7WuUAAAABgJo+9QAAAAGC4aLxAAAAAoBmcuUAAAACgx+m4QAAAAACsdrBAAAAAQAoHrkAAAAAA5D+rQAAAAOAqJ65AAAAAwOAPs0AAAACgSIG1QAAAAKB6E8FAAAAAwNYYxUAAAABgFovEQAAAAGBhNcRAAAAAYIVkwEAAAABgjRbCQAAAAOBKAL1AAAAAoCwgvEAAAAAAcFjCQAAAACA6ucBAAAAA4J+JukAAAABgTI7BQAAAAODmnMJAAAAAgLTRwUAAAACgzpbFQAAAAGAES8ZAAAAAAJWsxEAAAAAAjtTKQAAAAOC/XNJAAAAAwImv3EAAAACgJWDgQAAAAMDnO+hAAAAAAAr/7EAAAACA4qbrQAAAAMDlWOJA\",\"dtype\":\"float64\",\"order\":\"little\",\"shape\":[81]},\"m2_supply\":{\"__ndarray__\":\"zczMzAyVxkCamZmZGafGQAAAAADAzsZAMzMzM7PxxkCamZmZmTHHQGZmZmbmOcdAzczMzIxNx0AzMzMzs1zHQAAAAABAc8dAMzMzM/OLx0DNzMzMTKTHQM3MzMxMv8dAAAAAAEDSx0AzMzMzc/zHQGZmZmYmHMhAMzMzM/NdyEAzMzMzc4bIQM3MzMyMpshAAAAAAMDOyEBmZmZmJvDIQDMzMzOzEclAAAAAAAAvyUAAAAAAwFbJQGZmZmZmdMlAzczMzMyYyUCamZmZGb7JQGZmZmYm0slAZmZmZqb3yUAzMzMz8xrKQJqZmZmZPcpAmpmZmZlaykAAAAAAAHTKQGZmZmamgcpAzczMzAyeykDNzMzMjLbKQJqZmZlZy8pAmpmZmdnlykDNzMzMDPfKQJqZmZlZEctAzczMzAway0CamZmZWS/LQM3MzMyMS8tAAAAAAMBay0DNzMzMTHvLQGZmZmYmmctAMzMzM7Ony0BmZmZm5rzLQDMzMzMzzMtAmpmZmdnPy0BmZmZmJtnLQJqZmZmZFMxAZmZmZmY3zEBmZmZm5kzMQJqZmZlZZMxAmpmZmVl2zEAAAAAAQKjMQJqZmZmZ48xAzczMzAwHzUBmZmZmZi3NQM3MzMwMW81AmpmZmVmazUAzMzMzM8vNQM3MzMyM8M1AAAAAAAAZzkAzMzMzszjOQGZmZmYmR89AmpmZmbmk0EAAAAAAQHnRQGZmZmbmwNFAAAAAAADk0UAzMzMzc/PRQAAAAABAK9JAZmZmZsZP0kDNzMzMDITSQJqZmZnZrtJAAAAAACDx0kCamZmZ+TTTQAAAAACActNAmpmZmfml00CamZmZ+eTTQJqZmZk56dNA\",\"dtype\":\"float64\",\"order\":\"little\",\"shape\":[81]}},\"selected\":{\"id\":\"4189\"},\"selection_policy\":{\"id\":\"4211\"}},\"id\":\"4188\",\"type\":\"ColumnDataSource\"},{\"attributes\":{\"axis\":{\"id\":\"4167\"},\"grid_line_color\":null,\"ticker\":null},\"id\":\"4170\",\"type\":\"Grid\"},{\"attributes\":{\"callback\":null,\"renderers\":[{\"id\":\"4194\"}],\"tags\":[\"hv_created\"],\"tooltips\":[[\"m2_supply\",\"@{m2_supply}\"],[\"btc_price\",\"@{btc_price}\"]]},\"id\":\"4157\",\"type\":\"HoverTool\"},{\"attributes\":{\"margin\":[5,5,5,5],\"name\":\"HSpacer05083\",\"sizing_mode\":\"stretch_width\"},\"id\":\"4223\",\"type\":\"Spacer\"},{\"attributes\":{},\"id\":\"4211\",\"type\":\"UnionRenderers\"},{\"attributes\":{},\"id\":\"4165\",\"type\":\"LinearScale\"},{\"attributes\":{},\"id\":\"4199\",\"type\":\"BasicTickFormatter\"},{\"attributes\":{\"axis_label\":\"btc_price\",\"formatter\":{\"id\":\"4202\"},\"major_label_policy\":{\"id\":\"4201\"},\"ticker\":{\"id\":\"4172\"}},\"id\":\"4171\",\"type\":\"LinearAxis\"},{\"attributes\":{\"axis_label\":\"m2_supply\",\"formatter\":{\"id\":\"4199\"},\"major_label_policy\":{\"id\":\"4198\"},\"ticker\":{\"id\":\"4168\"}},\"id\":\"4167\",\"type\":\"LinearAxis\"},{\"attributes\":{},\"id\":\"4163\",\"type\":\"LinearScale\"},{\"attributes\":{\"end\":65300.16345062256,\"reset_end\":65300.16345062256,\"reset_start\":-5690.047956848145,\"start\":-5690.047956848145,\"tags\":[[[\"btc_price\",\"btc_price\",null]]]},\"id\":\"4156\",\"type\":\"Range1d\"}],\"root_ids\":[\"4153\"]},\"title\":\"Bokeh Application\",\"version\":\"2.3.2\"}};\n",
       "    var render_items = [{\"docid\":\"d744547d-8ab1-4696-9beb-aaf6f9e12fae\",\"root_ids\":[\"4153\"],\"roots\":{\"4153\":\"910046b9-7178-4f46-a56a-6d24a2b9c01e\"}}];\n",
       "    root.Bokeh.embed.embed_items_notebook(docs_json, render_items);\n",
       "  }\n",
       "  if (root.Bokeh !== undefined && root.Bokeh.Panel !== undefined) {\n",
       "    embed_document(root);\n",
       "  } else {\n",
       "    var attempts = 0;\n",
       "    var timer = setInterval(function(root) {\n",
       "      if (root.Bokeh !== undefined && root.Bokeh.Panel !== undefined) {\n",
       "        clearInterval(timer);\n",
       "        embed_document(root);\n",
       "      } else if (document.readyState == \"complete\") {\n",
       "        attempts++;\n",
       "        if (attempts > 200) {\n",
       "          clearInterval(timer);\n",
       "          console.log(\"Bokeh: ERROR: Unable to run BokehJS code because BokehJS library is missing\");\n",
       "        }\n",
       "      }\n",
       "    }, 25, root)\n",
       "  }\n",
       "})(window);</script>"
      ],
      "text/plain": [
       ":Scatter   [m2_supply]   (btc_price)"
      ]
     },
     "execution_count": 88,
     "metadata": {
      "application/vnd.holoviews_exec.v0+json": {
       "id": "4153"
      }
     },
     "output_type": "execute_result"
    }
   ],
   "source": [
    "rolling_z_score_m2sl_btc_scatter = m2sl_btc.hvplot(kind='scatter', x='m2_supply', y='btc_price')\n",
    "rolling_z_score_m2sl_btc_scatter"
   ]
  },
  {
   "cell_type": "code",
   "execution_count": 83,
   "id": "4e038445",
   "metadata": {},
   "outputs": [
    {
     "data": {
      "text/html": [
       "<div>\n",
       "<style scoped>\n",
       "    .dataframe tbody tr th:only-of-type {\n",
       "        vertical-align: middle;\n",
       "    }\n",
       "\n",
       "    .dataframe tbody tr th {\n",
       "        vertical-align: top;\n",
       "    }\n",
       "\n",
       "    .dataframe thead th {\n",
       "        text-align: right;\n",
       "    }\n",
       "</style>\n",
       "<table border=\"1\" class=\"dataframe\">\n",
       "  <thead>\n",
       "    <tr style=\"text-align: right;\">\n",
       "      <th></th>\n",
       "      <th>rolling_m2_supply_zscore</th>\n",
       "      <th>rolling_btc_price_zscore</th>\n",
       "    </tr>\n",
       "  </thead>\n",
       "  <tbody>\n",
       "    <tr>\n",
       "      <th>rolling_m2_supply_zscore</th>\n",
       "      <td>1.000000</td>\n",
       "      <td>-0.209896</td>\n",
       "    </tr>\n",
       "    <tr>\n",
       "      <th>rolling_btc_price_zscore</th>\n",
       "      <td>-0.209896</td>\n",
       "      <td>1.000000</td>\n",
       "    </tr>\n",
       "  </tbody>\n",
       "</table>\n",
       "</div>"
      ],
      "text/plain": [
       "                          rolling_m2_supply_zscore  rolling_btc_price_zscore\n",
       "rolling_m2_supply_zscore                  1.000000                 -0.209896\n",
       "rolling_btc_price_zscore                 -0.209896                  1.000000"
      ]
     },
     "execution_count": 83,
     "metadata": {},
     "output_type": "execute_result"
    }
   ],
   "source": [
    "rolling_z_score_m2sl_btc_corr = rolling_z_score_m2sl_btc.corr()\n",
    "rolling_z_score_m2sl_btc_corr"
   ]
  },
  {
   "cell_type": "code",
   "execution_count": 84,
   "id": "753f3bd1",
   "metadata": {},
   "outputs": [
    {
     "data": {
      "text/plain": [
       "[]"
      ]
     },
     "execution_count": 84,
     "metadata": {},
     "output_type": "execute_result"
    },
    {
     "data": {
      "image/png": "[encoded data removed]",
      "text/plain": [
       "<Figure size 432x288 with 2 Axes>"
      ]
     },
     "metadata": {
      "needs_background": "light"
     },
     "output_type": "display_data"
    }
   ],
   "source": [
    "# Display the correlation matrix\n",
    "rolling_z_score_m2sl_btc_corr_chart = sns.heatmap(rolling_z_score_m2sl_btc_corr, annot=True, vmin=-1, vmax=1)\n",
    "rolling_z_score_m2sl_btc_corr_chart.plot()"
   ]
  },
  {
   "cell_type": "markdown",
   "id": "6523cecd",
   "metadata": {},
   "source": [
    "### Plot of Rolling 3 Year \"z-score\", z-score enables a fair comparison between the different features"
   ]
  },
  {
   "cell_type": "code",
   "execution_count": 89,
   "id": "7a31bd8b",
   "metadata": {},
   "outputs": [
    {
     "data": {},
     "metadata": {},
     "output_type": "display_data"
    },
    {
     "data": {
      "application/vnd.holoviews_exec.v0+json": "",
      "text/html": [
       "<div id='4275'>\n",
       "\n",
       "\n",
       "\n",
       "\n",
       "\n",
       "  <div class=\"bk-root\" id=\"2c04b44e-f283-499c-bed1-735913ff7c6f\" data-root-id=\"4275\"></div>\n",
       "</div>\n",
       "<script type=\"application/javascript\">(function(root) {\n",
       "  function embed_document(root) {\n",
       "    var docs_json = {\"ea157068-8aad-4f33-8675-8fca6582e243\":{\"defs\":[{\"extends\":null,\"module\":null,\"name\":\"ReactiveHTML1\",\"overrides\":[],\"properties\":[]},{\"extends\":null,\"module\":null,\"name\":\"FlexBox1\",\"overrides\":[],\"properties\":[{\"default\":\"flex-start\",\"kind\":null,\"name\":\"align_content\"},{\"default\":\"flex-start\",\"kind\":null,\"name\":\"align_items\"},{\"default\":\"row\",\"kind\":null,\"name\":\"flex_direction\"},{\"default\":\"wrap\",\"kind\":null,\"name\":\"flex_wrap\"},{\"default\":\"flex-start\",\"kind\":null,\"name\":\"justify_content\"}]},{\"extends\":null,\"module\":null,\"name\":\"TemplateActions1\",\"overrides\":[],\"properties\":[{\"default\":0,\"kind\":null,\"name\":\"open_modal\"},{\"default\":0,\"kind\":null,\"name\":\"close_modal\"}]},{\"extends\":null,\"module\":null,\"name\":\"MaterialTemplateActions1\",\"overrides\":[],\"properties\":[{\"default\":0,\"kind\":null,\"name\":\"open_modal\"},{\"default\":0,\"kind\":null,\"name\":\"close_modal\"}]}],\"roots\":{\"references\":[{\"attributes\":{\"label\":{\"value\":\"btc_price\"},\"renderers\":[{\"id\":\"4356\"}]},\"id\":\"4382\",\"type\":\"LegendItem\"},{\"attributes\":{\"months\":[0,1,2,3,4,5,6,7,8,9,10,11]},\"id\":\"4339\",\"type\":\"MonthsTicker\"},{\"attributes\":{},\"id\":\"4302\",\"type\":\"ResetTool\"},{\"attributes\":{\"days\":[1,8,15,22]},\"id\":\"4337\",\"type\":\"DaysTicker\"},{\"attributes\":{\"days\":[1,15]},\"id\":\"4338\",\"type\":\"DaysTicker\"},{\"attributes\":{\"margin\":[5,5,5,5],\"name\":\"HSpacer05312\",\"sizing_mode\":\"stretch_width\"},\"id\":\"4276\",\"type\":\"Spacer\"},{\"attributes\":{},\"id\":\"4312\",\"type\":\"AllLabels\"},{\"attributes\":{\"months\":[0,2,4,6,8,10]},\"id\":\"4340\",\"type\":\"MonthsTicker\"},{\"attributes\":{},\"id\":\"4380\",\"type\":\"UnionRenderers\"},{\"attributes\":{\"months\":[0,4,8]},\"id\":\"4341\",\"type\":\"MonthsTicker\"},{\"attributes\":{},\"id\":\"4286\",\"type\":\"LinearScale\"},{\"attributes\":{\"active_multi\":null,\"tools\":[{\"id\":\"4279\"},{\"id\":\"4298\"},{\"id\":\"4299\"},{\"id\":\"4300\"},{\"id\":\"4301\"},{\"id\":\"4302\"}]},\"id\":\"4304\",\"type\":\"Toolbar\"},{\"attributes\":{\"months\":[0,6]},\"id\":\"4342\",\"type\":\"MonthsTicker\"},{\"attributes\":{\"source\":{\"id\":\"4555\"}},\"id\":\"4561\",\"type\":\"CDSView\"},{\"attributes\":{},\"id\":\"4298\",\"type\":\"SaveTool\"},{\"attributes\":{\"bottom_units\":\"screen\",\"fill_alpha\":0.5,\"fill_color\":\"lightgrey\",\"left_units\":\"screen\",\"level\":\"overlay\",\"line_alpha\":1.0,\"line_color\":\"black\",\"line_dash\":[4,4],\"line_width\":2,\"right_units\":\"screen\",\"syncable\":false,\"top_units\":\"screen\"},\"id\":\"4303\",\"type\":\"BoxAnnotation\"},{\"attributes\":{\"data_source\":{\"id\":\"4317\"},\"glyph\":{\"id\":\"4320\"},\"hover_glyph\":null,\"muted_glyph\":{\"id\":\"4322\"},\"nonselection_glyph\":{\"id\":\"4321\"},\"selection_glyph\":{\"id\":\"4349\"},\"view\":{\"id\":\"4324\"}},\"id\":\"4323\",\"type\":\"GlyphRenderer\"},{\"attributes\":{\"below\":[{\"id\":\"4290\"}],\"center\":[{\"id\":\"4293\"},{\"id\":\"4297\"}],\"height\":300,\"left\":[{\"id\":\"4294\"}],\"margin\":[5,5,5,5],\"min_border_bottom\":10,\"min_border_left\":10,\"min_border_right\":10,\"min_border_top\":10,\"renderers\":[{\"id\":\"4323\"},{\"id\":\"4356\"},{\"id\":\"4554\"},{\"id\":\"4560\"}],\"right\":[{\"id\":\"4347\"}],\"sizing_mode\":\"fixed\",\"title\":{\"id\":\"4282\"},\"toolbar\":{\"id\":\"4304\"},\"width\":700,\"x_range\":{\"id\":\"4277\"},\"x_scale\":{\"id\":\"4286\"},\"y_range\":{\"id\":\"4278\"},\"y_scale\":{\"id\":\"4288\"}},\"id\":\"4281\",\"subtype\":\"Figure\",\"type\":\"Plot\"},{\"attributes\":{\"text_align\":{\"value\":\"center\"},\"text_alpha\":{\"value\":0.1},\"text_baseline\":{\"value\":\"middle\"},\"text_color\":{\"value\":\"black\"},\"text_font_size\":{\"value\":\"12Pt\"},\"x\":{\"field\":\"x\"},\"y\":{\"field\":\"y\"}},\"id\":\"4559\",\"type\":\"Text\"},{\"attributes\":{\"click_policy\":\"mute\",\"items\":[{\"id\":\"4348\"},{\"id\":\"4382\"}],\"location\":[0,0]},\"id\":\"4347\",\"type\":\"Legend\"},{\"attributes\":{\"end\":65300.16345062256,\"reset_end\":65300.16345062256,\"reset_start\":-5690.047956848145,\"start\":-5690.047956848145,\"tags\":[[[\"value\",\"value\",null]]]},\"id\":\"4278\",\"type\":\"Range1d\"},{\"attributes\":{\"callback\":null,\"formatters\":{\"@{index}\":\"datetime\"},\"renderers\":[{\"id\":\"4323\"},{\"id\":\"4356\"}],\"tags\":[\"hv_created\"],\"tooltips\":[[\"Variable\",\"@{Variable}\"],[\"index\",\"@{index}{%F %T}\"],[\"value\",\"@{value}\"]]},\"id\":\"4279\",\"type\":\"HoverTool\"},{\"attributes\":{\"margin\":[5,5,5,5],\"name\":\"HSpacer05313\",\"sizing_mode\":\"stretch_width\"},\"id\":\"4797\",\"type\":\"Spacer\"},{\"attributes\":{\"line_alpha\":0.1,\"line_color\":\"#fc4f30\",\"line_width\":2,\"x\":{\"field\":\"index\"},\"y\":{\"field\":\"value\"}},\"id\":\"4354\",\"type\":\"Line\"},{\"attributes\":{\"data_source\":{\"id\":\"4555\"},\"glyph\":{\"id\":\"4558\"},\"hover_glyph\":null,\"muted_glyph\":null,\"nonselection_glyph\":{\"id\":\"4559\"},\"selection_glyph\":{\"id\":\"4562\"},\"view\":{\"id\":\"4561\"}},\"id\":\"4560\",\"type\":\"GlyphRenderer\"},{\"attributes\":{\"text_align\":{\"value\":\"center\"},\"text_baseline\":{\"value\":\"middle\"},\"text_color\":{\"value\":\"black\"},\"text_font_size\":{\"value\":\"12Pt\"},\"x\":{\"field\":\"x\"},\"y\":{\"field\":\"y\"}},\"id\":\"4558\",\"type\":\"Text\"},{\"attributes\":{\"label\":{\"value\":\"m2_supply\"},\"renderers\":[{\"id\":\"4323\"}]},\"id\":\"4348\",\"type\":\"LegendItem\"},{\"attributes\":{},\"id\":\"4345\",\"type\":\"UnionRenderers\"},{\"attributes\":{\"data\":{\"Variable\":[\"m2_supply\",\"m2_supply\",\"m2_supply\",\"m2_supply\",\"m2_supply\",\"m2_supply\",\"m2_supply\",\"m2_supply\",\"m2_supply\",\"m2_supply\",\"m2_supply\",\"m2_supply\",\"m2_supply\",\"m2_supply\",\"m2_supply\",\"m2_supply\",\"m2_supply\",\"m2_supply\",\"m2_supply\",\"m2_supply\",\"m2_supply\",\"m2_supply\",\"m2_supply\",\"m2_supply\",\"m2_supply\",\"m2_supply\",\"m2_supply\",\"m2_supply\",\"m2_supply\",\"m2_supply\",\"m2_supply\",\"m2_supply\",\"m2_supply\",\"m2_supply\",\"m2_supply\",\"m2_supply\",\"m2_supply\",\"m2_supply\",\"m2_supply\",\"m2_supply\",\"m2_supply\",\"m2_supply\",\"m2_supply\",\"m2_supply\",\"m2_supply\",\"m2_supply\",\"m2_supply\",\"m2_supply\",\"m2_supply\",\"m2_supply\",\"m2_supply\",\"m2_supply\",\"m2_supply\",\"m2_supply\",\"m2_supply\",\"m2_supply\",\"m2_supply\",\"m2_supply\",\"m2_supply\",\"m2_supply\",\"m2_supply\",\"m2_supply\",\"m2_supply\",\"m2_supply\",\"m2_supply\",\"m2_supply\",\"m2_supply\",\"m2_supply\",\"m2_supply\",\"m2_supply\",\"m2_supply\",\"m2_supply\",\"m2_supply\",\"m2_supply\",\"m2_supply\",\"m2_supply\",\"m2_supply\",\"m2_supply\",\"m2_supply\",\"m2_supply\",\"m2_supply\"],\"index\":{\"__ndarray__\":\"AAAAGpCMdEIAAEBsipZ0QgAAwFgyoHRCAAAAqyyqdEIAAED9JrR0QgAAQB4qvXRCAACAcCTHdEIAAABdzNB0QgAAQK/G2nRCAADAm27kdEIAAADuaO50QgAAQEBj+HRCAADALAsCdUIAAAB/BQx1QgAAgGutFXVCAADAvacfdUIAAAAQoil1QgAAwJb3MnVCAAAA6fE8dUIAAIDVmUZ1QgAAwCeUUHVCAABAFDxadUIAAIBmNmR1QgAAwLgwbnVCAABApdh3dUIAAID30oF1QgAAAOR6i3VCAABANnWVdUIAAICIb591QgAAgKlyqHVCAADA+2yydUIAAEDoFLx1QgAAgDoPxnVCAAAAJ7fPdUIAAEB5sdl1QgAAgMur43VCAAAAuFPtdUIAAEAKTvd1QgAAwPb1AHZCAAAASfAKdkIAAECb6hR2QgAAQLztHXZCAACADugndkIAAAD7jzF2QgAAQE2KO3ZCAADAOTJFdkIAAACMLE92QgAAQN4mWXZCAADAys5idkIAAAAdyWx2QgAAgAlxdnZCAADAW2uAdkIAAACuZYp2QgAAAM9ok3ZCAABAIWOddkIAAMANC6d2QgAAAGAFsXZCAACATK26dkIAAMCep8R2QgAAAPGhznZCAACA3UnYdkIAAMAvROJ2QgAAQBzs63ZCAACAbub1dkIAAMDA4P92QgAAgEc2CXdCAADAmTATd0IAAECG2Bx3QgAAgNjSJndCAAAAxXowd0IAAEAXdTp3QgAAgGlvRHdCAAAAVhdOd0IAAECoEVh3QgAAwJS5YXdCAAAA57Nrd0IAAEA5rnV3QgAAQFqxfndCAACArKuId0IAAACZU5J3QgAAQOtNnHdC\",\"dtype\":\"float64\",\"order\":\"little\",\"shape\":[81]},\"value\":{\"__ndarray__\":\"zczMzAyVxkCamZmZGafGQAAAAADAzsZAMzMzM7PxxkCamZmZmTHHQGZmZmbmOcdAzczMzIxNx0AzMzMzs1zHQAAAAABAc8dAMzMzM/OLx0DNzMzMTKTHQM3MzMxMv8dAAAAAAEDSx0AzMzMzc/zHQGZmZmYmHMhAMzMzM/NdyEAzMzMzc4bIQM3MzMyMpshAAAAAAMDOyEBmZmZmJvDIQDMzMzOzEclAAAAAAAAvyUAAAAAAwFbJQGZmZmZmdMlAzczMzMyYyUCamZmZGb7JQGZmZmYm0slAZmZmZqb3yUAzMzMz8xrKQJqZmZmZPcpAmpmZmZlaykAAAAAAAHTKQGZmZmamgcpAzczMzAyeykDNzMzMjLbKQJqZmZlZy8pAmpmZmdnlykDNzMzMDPfKQJqZmZlZEctAzczMzAway0CamZmZWS/LQM3MzMyMS8tAAAAAAMBay0DNzMzMTHvLQGZmZmYmmctAMzMzM7Ony0BmZmZm5rzLQDMzMzMzzMtAmpmZmdnPy0BmZmZmJtnLQJqZmZmZFMxAZmZmZmY3zEBmZmZm5kzMQJqZmZlZZMxAmpmZmVl2zEAAAAAAQKjMQJqZmZmZ48xAzczMzAwHzUBmZmZmZi3NQM3MzMwMW81AmpmZmVmazUAzMzMzM8vNQM3MzMyM8M1AAAAAAAAZzkAzMzMzszjOQGZmZmYmR89AmpmZmbmk0EAAAAAAQHnRQGZmZmbmwNFAAAAAAADk0UAzMzMzc/PRQAAAAABAK9JAZmZmZsZP0kDNzMzMDITSQJqZmZnZrtJAAAAAACDx0kCamZmZ+TTTQAAAAACActNAmpmZmfml00CamZmZ+eTTQJqZmZk56dNA\",\"dtype\":\"float64\",\"order\":\"little\",\"shape\":[81]}},\"selected\":{\"id\":\"4318\"},\"selection_policy\":{\"id\":\"4345\"}},\"id\":\"4317\",\"type\":\"ColumnDataSource\"},{\"attributes\":{\"line_alpha\":0.2,\"line_color\":\"#fc4f30\",\"line_width\":2,\"x\":{\"field\":\"index\"},\"y\":{\"field\":\"value\"}},\"id\":\"4355\",\"type\":\"Line\"},{\"attributes\":{},\"id\":\"4343\",\"type\":\"YearsTicker\"},{\"attributes\":{},\"id\":\"4313\",\"type\":\"DatetimeTickFormatter\"},{\"attributes\":{\"source\":{\"id\":\"4350\"}},\"id\":\"4357\",\"type\":\"CDSView\"},{\"attributes\":{\"angle\":{\"value\":0.0},\"text\":{\"field\":\"text\"},\"text_align\":{\"value\":\"center\"},\"text_alpha\":{\"value\":1.0},\"text_baseline\":{\"value\":\"middle\"},\"text_color\":{\"value\":\"black\"},\"text_font_size\":{\"value\":\"12Pt\"},\"text_font_style\":{\"value\":\"normal\"},\"text_line_height\":{\"value\":1.2},\"x\":{\"field\":\"x\"},\"x_offset\":{\"value\":0},\"y\":{\"field\":\"y\"},\"y_offset\":{\"value\":0}},\"id\":\"4562\",\"type\":\"Text\"},{\"attributes\":{\"data_source\":{\"id\":\"4350\"},\"glyph\":{\"id\":\"4353\"},\"hover_glyph\":null,\"muted_glyph\":{\"id\":\"4355\"},\"nonselection_glyph\":{\"id\":\"4354\"},\"selection_glyph\":{\"id\":\"4383\"},\"view\":{\"id\":\"4357\"}},\"id\":\"4356\",\"type\":\"GlyphRenderer\"},{\"attributes\":{\"fill_alpha\":0.5,\"fill_color\":\"gray\",\"left\":1577836800000.0,\"level\":\"glyph\",\"line_alpha\":0.5,\"line_color\":\"gray\",\"right\":1625097600000.0},\"id\":\"4554\",\"type\":\"BoxAnnotation\"},{\"attributes\":{},\"id\":\"4351\",\"type\":\"Selection\"},{\"attributes\":{\"text_color\":\"black\",\"text_font_size\":\"12pt\"},\"id\":\"4282\",\"type\":\"Title\"},{\"attributes\":{\"line_color\":\"#30a2da\",\"line_width\":2,\"x\":{\"field\":\"index\"},\"y\":{\"field\":\"value\"}},\"id\":\"4320\",\"type\":\"Line\"},{\"attributes\":{\"end\":1622505600000.0,\"reset_end\":1622505600000.0,\"reset_start\":1412121600000.0,\"start\":1412121600000.0,\"tags\":[[[\"index\",\"index\",null]]]},\"id\":\"4277\",\"type\":\"Range1d\"},{\"attributes\":{\"line_alpha\":0.2,\"line_color\":\"#30a2da\",\"line_width\":2,\"x\":{\"field\":\"index\"},\"y\":{\"field\":\"value\"}},\"id\":\"4322\",\"type\":\"Line\"},{\"attributes\":{\"days\":[1,2,3,4,5,6,7,8,9,10,11,12,13,14,15,16,17,18,19,20,21,22,23,24,25,26,27,28,29,30,31]},\"id\":\"4335\",\"type\":\"DaysTicker\"},{\"attributes\":{},\"id\":\"4587\",\"type\":\"UnionRenderers\"},{\"attributes\":{\"axis_label\":\"\",\"formatter\":{\"id\":\"4313\"},\"major_label_policy\":{\"id\":\"4312\"},\"ticker\":{\"id\":\"4291\"}},\"id\":\"4290\",\"type\":\"DatetimeAxis\"},{\"attributes\":{\"line_color\":\"#fc4f30\",\"line_width\":2,\"x\":{\"field\":\"index\"},\"y\":{\"field\":\"value\"}},\"id\":\"4353\",\"type\":\"Line\"},{\"attributes\":{\"line_alpha\":0.1,\"line_color\":\"#30a2da\",\"line_width\":2,\"x\":{\"field\":\"index\"},\"y\":{\"field\":\"value\"}},\"id\":\"4321\",\"type\":\"Line\"},{\"attributes\":{\"data\":{\"Variable\":[\"btc_price\",\"btc_price\",\"btc_price\",\"btc_price\",\"btc_price\",\"btc_price\",\"btc_price\",\"btc_price\",\"btc_price\",\"btc_price\",\"btc_price\",\"btc_price\",\"btc_price\",\"btc_price\",\"btc_price\",\"btc_price\",\"btc_price\",\"btc_price\",\"btc_price\",\"btc_price\",\"btc_price\",\"btc_price\",\"btc_price\",\"btc_price\",\"btc_price\",\"btc_price\",\"btc_price\",\"btc_price\",\"btc_price\",\"btc_price\",\"btc_price\",\"btc_price\",\"btc_price\",\"btc_price\",\"btc_price\",\"btc_price\",\"btc_price\",\"btc_price\",\"btc_price\",\"btc_price\",\"btc_price\",\"btc_price\",\"btc_price\",\"btc_price\",\"btc_price\",\"btc_price\",\"btc_price\",\"btc_price\",\"btc_price\",\"btc_price\",\"btc_price\",\"btc_price\",\"btc_price\",\"btc_price\",\"btc_price\",\"btc_price\",\"btc_price\",\"btc_price\",\"btc_price\",\"btc_price\",\"btc_price\",\"btc_price\",\"btc_price\",\"btc_price\",\"btc_price\",\"btc_price\",\"btc_price\",\"btc_price\",\"btc_price\",\"btc_price\",\"btc_price\",\"btc_price\",\"btc_price\",\"btc_price\",\"btc_price\",\"btc_price\",\"btc_price\",\"btc_price\",\"btc_price\",\"btc_price\",\"btc_price\"],\"index\":{\"__ndarray__\":\"AAAAGpCMdEIAAEBsipZ0QgAAwFgyoHRCAAAAqyyqdEIAAED9JrR0QgAAQB4qvXRCAACAcCTHdEIAAABdzNB0QgAAQK/G2nRCAADAm27kdEIAAADuaO50QgAAQEBj+HRCAADALAsCdUIAAAB/BQx1QgAAgGutFXVCAADAvacfdUIAAAAQoil1QgAAwJb3MnVCAAAA6fE8dUIAAIDVmUZ1QgAAwCeUUHVCAABAFDxadUIAAIBmNmR1QgAAwLgwbnVCAABApdh3dUIAAID30oF1QgAAAOR6i3VCAABANnWVdUIAAICIb591QgAAgKlyqHVCAADA+2yydUIAAEDoFLx1QgAAgDoPxnVCAAAAJ7fPdUIAAEB5sdl1QgAAgMur43VCAAAAuFPtdUIAAEAKTvd1QgAAwPb1AHZCAAAASfAKdkIAAECb6hR2QgAAQLztHXZCAACADugndkIAAAD7jzF2QgAAQE2KO3ZCAADAOTJFdkIAAACMLE92QgAAQN4mWXZCAADAys5idkIAAAAdyWx2QgAAgAlxdnZCAADAW2uAdkIAAACuZYp2QgAAAM9ok3ZCAABAIWOddkIAAMANC6d2QgAAAGAFsXZCAACATK26dkIAAMCep8R2QgAAAPGhznZCAACA3UnYdkIAAMAvROJ2QgAAQBzs63ZCAACAbub1dkIAAMDA4P92QgAAgEc2CXdCAADAmTATd0IAAECG2Bx3QgAAgNjSJndCAAAAxXowd0IAAEAXdTp3QgAAgGlvRHdCAAAAVhdOd0IAAECoEVh3QgAAwJS5YXdCAAAA57Nrd0IAAEA5rnV3QgAAQFqxfndCAACArKuId0IAAACZU5J3QgAAQOtNnHdC\",\"dtype\":\"float64\",\"order\":\"little\",\"shape\":[81]},\"value\":{\"__ndarray__\":\"AAAA4CZxd0AAAADg+1t0QAAAAIDrs3dAAAAA4Pujc0AAAACgGl9sQAAAAGA7Q3BAAAAAACmgb0AAAACAwl1tQAAAACCyOWxAAAAAIC/tb0AAAAAA06lxQAAAAIAWqWxAAAAAQGCpbUAAAABg5VZ0QAAAAODOp3ZAAAAAIFgle0AAAABg5VB3QAAAAMD3MXtAAAAAwPdNekAAAABAtMp7QAAAAKDGz4BAAAAAwJ39hUAAAABguBuBQAAAAMBL/IFAAAAA4CIXg0AAAAAgWM6GQAAAACAxpodAAAAAoJkyj0AAAAAgL+iOQAAAAAAAGpNAAAAAIK44kUAAAACgR7OWQAAAAKAZcaNAAAAAoPCUo0AAAAAAVy2lQAAAACDF4rFAAAAA4FE5sUAAAABgT2+6QAAAAMDMb8VAAAAAoJmsykAAAAAgRenBQAAAAACAY8VAAAAAwMyru0AAAADA9QnCQAAAAEBz271AAAAAIC7WuUAAAABgJo+9QAAAAGC4aLxAAAAAoBmcuUAAAACgx+m4QAAAAACsdrBAAAAAQAoHrkAAAAAA5D+rQAAAAOAqJ65AAAAAwOAPs0AAAACgSIG1QAAAAKB6E8FAAAAAwNYYxUAAAABgFovEQAAAAGBhNcRAAAAAYIVkwEAAAABgjRbCQAAAAOBKAL1AAAAAoCwgvEAAAAAAcFjCQAAAACA6ucBAAAAA4J+JukAAAABgTI7BQAAAAODmnMJAAAAAgLTRwUAAAACgzpbFQAAAAGAES8ZAAAAAAJWsxEAAAAAAjtTKQAAAAOC/XNJAAAAAwImv3EAAAACgJWDgQAAAAMDnO+hAAAAAAAr/7EAAAACA4qbrQAAAAMDlWOJA\",\"dtype\":\"float64\",\"order\":\"little\",\"shape\":[81]}},\"selected\":{\"id\":\"4351\"},\"selection_policy\":{\"id\":\"4380\"}},\"id\":\"4350\",\"type\":\"ColumnDataSource\"},{\"attributes\":{},\"id\":\"4556\",\"type\":\"Selection\"},{\"attributes\":{\"num_minor_ticks\":5,\"tickers\":[{\"id\":\"4332\"},{\"id\":\"4333\"},{\"id\":\"4334\"},{\"id\":\"4335\"},{\"id\":\"4336\"},{\"id\":\"4337\"},{\"id\":\"4338\"},{\"id\":\"4339\"},{\"id\":\"4340\"},{\"id\":\"4341\"},{\"id\":\"4342\"},{\"id\":\"4343\"}]},\"id\":\"4291\",\"type\":\"DatetimeTicker\"},{\"attributes\":{},\"id\":\"4316\",\"type\":\"BasicTickFormatter\"},{\"attributes\":{\"overlay\":{\"id\":\"4303\"}},\"id\":\"4301\",\"type\":\"BoxZoomTool\"},{\"attributes\":{},\"id\":\"4315\",\"type\":\"AllLabels\"},{\"attributes\":{},\"id\":\"4300\",\"type\":\"WheelZoomTool\"},{\"attributes\":{\"days\":[1,4,7,10,13,16,19,22,25,28]},\"id\":\"4336\",\"type\":\"DaysTicker\"},{\"attributes\":{},\"id\":\"4288\",\"type\":\"LinearScale\"},{\"attributes\":{\"base\":24,\"mantissas\":[1,2,4,6,8,12],\"max_interval\":43200000.0,\"min_interval\":3600000.0,\"num_minor_ticks\":0},\"id\":\"4334\",\"type\":\"AdaptiveTicker\"},{\"attributes\":{\"axis_label\":\"\",\"formatter\":{\"id\":\"4316\"},\"major_label_policy\":{\"id\":\"4315\"},\"ticker\":{\"id\":\"4295\"}},\"id\":\"4294\",\"type\":\"LinearAxis\"},{\"attributes\":{},\"id\":\"4299\",\"type\":\"PanTool\"},{\"attributes\":{\"base\":60,\"mantissas\":[1,2,5,10,15,20,30],\"max_interval\":1800000.0,\"min_interval\":1000.0,\"num_minor_ticks\":0},\"id\":\"4333\",\"type\":\"AdaptiveTicker\"},{\"attributes\":{\"axis\":{\"id\":\"4290\"},\"grid_line_color\":null,\"ticker\":null},\"id\":\"4293\",\"type\":\"Grid\"},{\"attributes\":{\"mantissas\":[1,2,5],\"max_interval\":500.0,\"num_minor_ticks\":0},\"id\":\"4332\",\"type\":\"AdaptiveTicker\"},{\"attributes\":{},\"id\":\"4318\",\"type\":\"Selection\"},{\"attributes\":{\"data\":{\"text\":[\"Pandemic\"],\"x\":[1577836800000.0],\"y\":[21000]},\"selected\":{\"id\":\"4556\"},\"selection_policy\":{\"id\":\"4587\"}},\"id\":\"4555\",\"type\":\"ColumnDataSource\"},{\"attributes\":{},\"id\":\"4295\",\"type\":\"BasicTicker\"},{\"attributes\":{\"line_color\":\"#fc4f30\",\"line_width\":2,\"x\":{\"field\":\"index\"},\"y\":{\"field\":\"value\"}},\"id\":\"4383\",\"type\":\"Line\"},{\"attributes\":{\"children\":[{\"id\":\"4276\"},{\"id\":\"4281\"},{\"id\":\"4797\"}],\"margin\":[0,0,0,0],\"name\":\"Row05308\",\"tags\":[\"embedded\"]},\"id\":\"4275\",\"type\":\"Row\"},{\"attributes\":{\"axis\":{\"id\":\"4294\"},\"dimension\":1,\"grid_line_color\":null,\"ticker\":null},\"id\":\"4297\",\"type\":\"Grid\"},{\"attributes\":{\"source\":{\"id\":\"4317\"}},\"id\":\"4324\",\"type\":\"CDSView\"},{\"attributes\":{\"line_color\":\"#30a2da\",\"line_width\":2,\"x\":{\"field\":\"index\"},\"y\":{\"field\":\"value\"}},\"id\":\"4349\",\"type\":\"Line\"}],\"root_ids\":[\"4275\"]},\"title\":\"Bokeh Application\",\"version\":\"2.3.2\"}};\n",
       "    var render_items = [{\"docid\":\"ea157068-8aad-4f33-8675-8fca6582e243\",\"root_ids\":[\"4275\"],\"roots\":{\"4275\":\"2c04b44e-f283-499c-bed1-735913ff7c6f\"}}];\n",
       "    root.Bokeh.embed.embed_items_notebook(docs_json, render_items);\n",
       "  }\n",
       "  if (root.Bokeh !== undefined && root.Bokeh.Panel !== undefined) {\n",
       "    embed_document(root);\n",
       "  } else {\n",
       "    var attempts = 0;\n",
       "    var timer = setInterval(function(root) {\n",
       "      if (root.Bokeh !== undefined && root.Bokeh.Panel !== undefined) {\n",
       "        clearInterval(timer);\n",
       "        embed_document(root);\n",
       "      } else if (document.readyState == \"complete\") {\n",
       "        attempts++;\n",
       "        if (attempts > 200) {\n",
       "          clearInterval(timer);\n",
       "          console.log(\"Bokeh: ERROR: Unable to run BokehJS code because BokehJS library is missing\");\n",
       "        }\n",
       "      }\n",
       "    }, 25, root)\n",
       "  }\n",
       "})(window);</script>"
      ],
      "text/plain": [
       ":Overlay\n",
       "   .NdOverlay.I :NdOverlay   [Variable]\n",
       "      :Curve   [index]   (value)\n",
       "   .VSpan.I     :VSpan   [x,y]\n",
       "   .Text.I      :Text   [x,y]"
      ]
     },
     "execution_count": 89,
     "metadata": {
      "application/vnd.holoviews_exec.v0+json": {
       "id": "4275"
      }
     },
     "output_type": "execute_result"
    }
   ],
   "source": [
    "pandemic_startLine = hv.VSpan(dt.datetime(2020, 1, 1),dt.datetime(2021, 7, 1)).options(color='gray')\n",
    "rolling_z_score_m2sl_btc_corr_pandemic = m2sl_btc.hvplot() * pandemic_startLine * hv.Text(dt.datetime(2020, 1, 1), 21000, \"Pandemic\")\n",
    "rolling_z_score_m2sl_btc_corr_pandemic"
   ]
  },
  {
   "cell_type": "code",
   "execution_count": null,
   "id": "9fe08615",
   "metadata": {},
   "outputs": [],
   "source": []
  }
 ],
 "metadata": {
  "kernelspec": {
   "display_name": "Python 3",
   "language": "python",
   "name": "python3"
  },
  "language_info": {
   "codemirror_mode": {
    "name": "ipython",
    "version": 3
   },
   "file_extension": ".py",
   "mimetype": "text/x-python",
   "name": "python",
   "nbconvert_exporter": "python",
   "pygments_lexer": "ipython3",
   "version": "3.7.10"
  }
 },
 "nbformat": 4,
 "nbformat_minor": 5
}
