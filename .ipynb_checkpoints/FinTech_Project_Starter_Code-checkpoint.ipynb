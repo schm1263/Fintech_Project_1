{
 "cells": [
  {
   "cell_type": "code",
   "execution_count": 2,
   "id": "00ad34a2",
   "metadata": {},
   "outputs": [
    {
     "ename": "ModuleNotFoundError",
     "evalue": "No module named 'fredapi'",
     "output_type": "error",
     "traceback": [
      "\u001b[1;31m---------------------------------------------------------------------------\u001b[0m",
      "\u001b[1;31mModuleNotFoundError\u001b[0m                       Traceback (most recent call last)",
      "\u001b[1;32m<ipython-input-2-e852e7f8ad40>\u001b[0m in \u001b[0;36m<module>\u001b[1;34m\u001b[0m\n\u001b[0;32m      8\u001b[0m \u001b[1;32mimport\u001b[0m \u001b[0mnumpy\u001b[0m \u001b[1;32mas\u001b[0m \u001b[0mnp\u001b[0m\u001b[1;33m\u001b[0m\u001b[1;33m\u001b[0m\u001b[0m\n\u001b[0;32m      9\u001b[0m \u001b[1;32mimport\u001b[0m \u001b[0mpytz\u001b[0m\u001b[1;33m\u001b[0m\u001b[1;33m\u001b[0m\u001b[0m\n\u001b[1;32m---> 10\u001b[1;33m \u001b[1;32mfrom\u001b[0m \u001b[0mfredapi\u001b[0m \u001b[1;32mimport\u001b[0m \u001b[0mFred\u001b[0m\u001b[1;33m\u001b[0m\u001b[1;33m\u001b[0m\u001b[0m\n\u001b[0m\u001b[0;32m     11\u001b[0m \u001b[1;32mimport\u001b[0m \u001b[0mseaborn\u001b[0m \u001b[1;32mas\u001b[0m \u001b[0msns\u001b[0m\u001b[1;33m\u001b[0m\u001b[1;33m\u001b[0m\u001b[0m\n\u001b[0;32m     12\u001b[0m \u001b[1;32mimport\u001b[0m \u001b[0mpanel\u001b[0m \u001b[1;32mas\u001b[0m \u001b[0mpn\u001b[0m\u001b[1;33m\u001b[0m\u001b[1;33m\u001b[0m\u001b[0m\n",
      "\u001b[1;31mModuleNotFoundError\u001b[0m: No module named 'fredapi'"
     ]
    }
   ],
   "source": [
    "#Imports\n",
    "import os\n",
    "import requests\n",
    "from pathlib import Path\n",
    "import pandas as pd\n",
    "from dotenv import load_dotenv\n",
    "import alpaca_trade_api as tradeapi\n",
    "import numpy as np\n",
    "import pytz\n",
    "from fredapi import Fred\n",
    "import seaborn as sns\n",
    "import panel as pn\n",
    "pn.extension('plotly')\n",
    "import plotly.express as px\n",
    "\n",
    "%matplotlib inline"
   ]
  },
  {
   "cell_type": "code",
   "execution_count": 2,
   "id": "42285283",
   "metadata": {
    "tags": []
   },
   "outputs": [
    {
     "data": {
      "text/plain": [
       "True"
      ]
     },
     "execution_count": 2,
     "metadata": {},
     "output_type": "execute_result"
    }
   ],
   "source": [
    "load_dotenv()"
   ]
  },
  {
   "cell_type": "code",
   "execution_count": 3,
   "id": "c74c3877",
   "metadata": {},
   "outputs": [],
   "source": [
    "api_key = os.getenv(\"FRED_API_KEY\")"
   ]
  },
  {
   "cell_type": "code",
   "execution_count": 4,
   "id": "b9d75c0f",
   "metadata": {},
   "outputs": [
    {
     "data": {
      "text/plain": [
       "str"
      ]
     },
     "execution_count": 4,
     "metadata": {},
     "output_type": "execute_result"
    }
   ],
   "source": [
    "type(api_key)"
   ]
  },
  {
   "cell_type": "code",
   "execution_count": 5,
   "id": "b7166326",
   "metadata": {},
   "outputs": [],
   "source": [
    "fred = Fred(api_key)"
   ]
  },
  {
   "cell_type": "code",
   "execution_count": 6,
   "id": "e512a42c",
   "metadata": {},
   "outputs": [],
   "source": [
    "#realtime_start = \"1980-01-01\"\n",
    "#realtime_end = \"2021-07-31\""
   ]
  },
  {
   "cell_type": "code",
   "execution_count": 8,
   "id": "3b142116",
   "metadata": {},
   "outputs": [
    {
     "data": {
      "text/plain": [
       "1959-01-01    286.6\n",
       "1959-02-01    287.7\n",
       "1959-03-01    289.2\n",
       "1959-04-01    290.1\n",
       "1959-05-01    292.2\n",
       "dtype: float64"
      ]
     },
     "execution_count": 8,
     "metadata": {},
     "output_type": "execute_result"
    }
   ],
   "source": [
    "# Money Supply data set\n",
    "m2sl_data = fred.get_series(\"M2SL\")\n",
    "m2sl_data.dropna(inplace=True)\n",
    "#m2sl_data.drop(columns=['Unnamed: 0'], inplace=True)\n",
    "#m2sl_data.isnull()\n",
    "m2sl_data.head()"
   ]
  },
  {
   "cell_type": "code",
   "execution_count": 10,
   "id": "65859b7f",
   "metadata": {},
   "outputs": [],
   "source": [
    "#Read csv data for Stock Index Comparison from resources folder\n",
    "stock_index_path = Path(\"Resources\\Stock Index Comparison.csv\")\n",
    "stock_index_comparison = pd.read_csv(stock_index_path) \n",
    "stock_index_zscore_path = Path(\"Resources\\Stock Index Z-Score Comparison.csv\")\n",
    "stock_index_zscore = pd.read_csv(stock_index_zscore_path) "
   ]
  },
  {
   "cell_type": "code",
   "execution_count": 11,
   "id": "601df99c",
   "metadata": {},
   "outputs": [
    {
     "data": {
      "text/html": [
       "<div>\n",
       "<style scoped>\n",
       "    .dataframe tbody tr th:only-of-type {\n",
       "        vertical-align: middle;\n",
       "    }\n",
       "\n",
       "    .dataframe tbody tr th {\n",
       "        vertical-align: top;\n",
       "    }\n",
       "\n",
       "    .dataframe thead th {\n",
       "        text-align: right;\n",
       "    }\n",
       "</style>\n",
       "<table border=\"1\" class=\"dataframe\">\n",
       "  <thead>\n",
       "    <tr style=\"text-align: right;\">\n",
       "      <th></th>\n",
       "      <th>Date</th>\n",
       "      <th>Money Supply</th>\n",
       "      <th>S&amp;P 500</th>\n",
       "      <th>DOW</th>\n",
       "      <th>NASDAQ</th>\n",
       "    </tr>\n",
       "  </thead>\n",
       "  <tbody>\n",
       "    <tr>\n",
       "      <th>0</th>\n",
       "      <td>1980-02-01</td>\n",
       "      <td>1494.6</td>\n",
       "      <td>115.12</td>\n",
       "      <td>881.48</td>\n",
       "      <td>162.30</td>\n",
       "    </tr>\n",
       "    <tr>\n",
       "      <th>1</th>\n",
       "      <td>1980-04-01</td>\n",
       "      <td>1502.2</td>\n",
       "      <td>102.18</td>\n",
       "      <td>784.47</td>\n",
       "      <td>133.14</td>\n",
       "    </tr>\n",
       "    <tr>\n",
       "      <th>2</th>\n",
       "      <td>1980-05-01</td>\n",
       "      <td>1512.3</td>\n",
       "      <td>105.46</td>\n",
       "      <td>808.79</td>\n",
       "      <td>139.68</td>\n",
       "    </tr>\n",
       "    <tr>\n",
       "      <th>3</th>\n",
       "      <td>1980-07-01</td>\n",
       "      <td>1545.5</td>\n",
       "      <td>114.93</td>\n",
       "      <td>872.27</td>\n",
       "      <td>158.17</td>\n",
       "    </tr>\n",
       "    <tr>\n",
       "      <th>4</th>\n",
       "      <td>1980-08-01</td>\n",
       "      <td>1561.5</td>\n",
       "      <td>121.21</td>\n",
       "      <td>931.48</td>\n",
       "      <td>172.49</td>\n",
       "    </tr>\n",
       "    <tr>\n",
       "      <th>...</th>\n",
       "      <td>...</td>\n",
       "      <td>...</td>\n",
       "      <td>...</td>\n",
       "      <td>...</td>\n",
       "      <td>...</td>\n",
       "    </tr>\n",
       "    <tr>\n",
       "      <th>311</th>\n",
       "      <td>2020-12-01</td>\n",
       "      <td>19131.4</td>\n",
       "      <td>3662.45</td>\n",
       "      <td>29823.92</td>\n",
       "      <td>12355.11</td>\n",
       "    </tr>\n",
       "    <tr>\n",
       "      <th>312</th>\n",
       "      <td>2021-02-01</td>\n",
       "      <td>19667.9</td>\n",
       "      <td>3773.86</td>\n",
       "      <td>30211.91</td>\n",
       "      <td>13403.39</td>\n",
       "    </tr>\n",
       "    <tr>\n",
       "      <th>313</th>\n",
       "      <td>2021-03-01</td>\n",
       "      <td>19914.0</td>\n",
       "      <td>3901.82</td>\n",
       "      <td>31535.51</td>\n",
       "      <td>13588.83</td>\n",
       "    </tr>\n",
       "    <tr>\n",
       "      <th>314</th>\n",
       "      <td>2021-04-01</td>\n",
       "      <td>20119.9</td>\n",
       "      <td>4019.87</td>\n",
       "      <td>33153.21</td>\n",
       "      <td>13480.11</td>\n",
       "    </tr>\n",
       "    <tr>\n",
       "      <th>315</th>\n",
       "      <td>2021-06-01</td>\n",
       "      <td>20388.9</td>\n",
       "      <td>4202.04</td>\n",
       "      <td>34575.31</td>\n",
       "      <td>13736.48</td>\n",
       "    </tr>\n",
       "  </tbody>\n",
       "</table>\n",
       "<p>316 rows × 5 columns</p>\n",
       "</div>"
      ],
      "text/plain": [
       "           Date  Money Supply  S&P 500       DOW    NASDAQ\n",
       "0    1980-02-01        1494.6   115.12    881.48    162.30\n",
       "1    1980-04-01        1502.2   102.18    784.47    133.14\n",
       "2    1980-05-01        1512.3   105.46    808.79    139.68\n",
       "3    1980-07-01        1545.5   114.93    872.27    158.17\n",
       "4    1980-08-01        1561.5   121.21    931.48    172.49\n",
       "..          ...           ...      ...       ...       ...\n",
       "311  2020-12-01       19131.4  3662.45  29823.92  12355.11\n",
       "312  2021-02-01       19667.9  3773.86  30211.91  13403.39\n",
       "313  2021-03-01       19914.0  3901.82  31535.51  13588.83\n",
       "314  2021-04-01       20119.9  4019.87  33153.21  13480.11\n",
       "315  2021-06-01       20388.9  4202.04  34575.31  13736.48\n",
       "\n",
       "[316 rows x 5 columns]"
      ]
     },
     "execution_count": 11,
     "metadata": {},
     "output_type": "execute_result"
    }
   ],
   "source": [
    "#Create data frame\n",
    "stock_index_comparison"
   ]
  },
  {
   "cell_type": "code",
   "execution_count": null,
   "id": "8dcdd3f4",
   "metadata": {},
   "outputs": [],
   "source": [
    "#Create Panel"
   ]
  },
  {
   "cell_type": "code",
   "execution_count": null,
   "id": "7cadd69f",
   "metadata": {},
   "outputs": [],
   "source": []
  },
  {
   "cell_type": "code",
   "execution_count": null,
   "id": "54898030",
   "metadata": {},
   "outputs": [],
   "source": []
  },
  {
   "cell_type": "code",
   "execution_count": null,
   "id": "50eb5d79",
   "metadata": {},
   "outputs": [],
   "source": []
  }
 ],
 "metadata": {
  "kernelspec": {
   "display_name": "Python 3",
   "language": "python",
   "name": "python3"
  },
  "language_info": {
   "codemirror_mode": {
    "name": "ipython",
    "version": 3
   },
   "file_extension": ".py",
   "mimetype": "text/x-python",
   "name": "python",
   "nbconvert_exporter": "python",
   "pygments_lexer": "ipython3",
   "version": "3.8.8"
  }
 },
 "nbformat": 4,
 "nbformat_minor": 5
}
