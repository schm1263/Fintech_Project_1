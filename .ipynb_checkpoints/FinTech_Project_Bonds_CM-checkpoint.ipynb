{
 "cells": [
  {
   "cell_type": "code",
   "execution_count": 13,
   "id": "d685dcbd-865e-4389-a156-256b285acab2",
   "metadata": {},
   "outputs": [],
   "source": [
    "#Imports\n",
    "import os\n",
    "import requests\n",
    "import pandas as pd\n",
    "from dotenv import load_dotenv\n",
    "import alpaca_trade_api as tradeapi\n",
    "import numpy as np\n",
    "import pytz\n",
    "from fredapi import Fred\n",
    "\n",
    "%matplotlib inline"
   ]
  },
  {
   "cell_type": "code",
   "execution_count": 14,
   "id": "2f6420b5-e635-4bdb-a0bc-9b41c6b1c057",
   "metadata": {
    "tags": []
   },
   "outputs": [
    {
     "data": {
      "text/plain": [
       "True"
      ]
     },
     "execution_count": 14,
     "metadata": {},
     "output_type": "execute_result"
    }
   ],
   "source": [
    "load_dotenv()"
   ]
  },
  {
   "cell_type": "code",
   "execution_count": 17,
   "id": "494617f7-8976-45a5-9e03-035c946fbf22",
   "metadata": {},
   "outputs": [],
   "source": [
    "fred = Fred(api_key = os.getenv(\"FRED_API_KEY\"))"
   ]
  },
  {
   "cell_type": "code",
   "execution_count": 18,
   "id": "7fc9479c-88e3-4a4a-a98a-2637b17535d5",
   "metadata": {},
   "outputs": [
    {
     "data": {
      "text/plain": [
       "str"
      ]
     },
     "execution_count": 18,
     "metadata": {},
     "output_type": "execute_result"
    }
   ],
   "source": [
    "type(api_key)"
   ]
  },
  {
   "cell_type": "code",
   "execution_count": 23,
   "id": "a57a46e4-e969-4bc5-ae06-9383f64c970c",
   "metadata": {},
   "outputs": [
    {
     "data": {
      "text/plain": [
       "2011-08-03    1260.34\n",
       "2011-08-04    1200.07\n",
       "2011-08-05    1199.38\n",
       "2011-08-08    1119.46\n",
       "2011-08-09    1172.53\n",
       "dtype: float64"
      ]
     },
     "execution_count": 23,
     "metadata": {},
     "output_type": "execute_result"
    }
   ],
   "source": [
    "m2sl_data = fred.get_series(\"M2SL\")\n",
    "m2sl_data.dropna(inplace=True)\n",
    "data.head()"
   ]
  },
  {
   "cell_type": "code",
   "execution_count": 20,
   "id": "45a0ede0-1fe4-440c-b8a4-918fdd4d2e66",
   "metadata": {},
   "outputs": [
    {
     "data": {
      "text/plain": [
       "2011-08-03    1260.34\n",
       "2011-08-04    1200.07\n",
       "2011-08-05    1199.38\n",
       "2011-08-08    1119.46\n",
       "2011-08-09    1172.53\n",
       "dtype: float64"
      ]
     },
     "execution_count": 20,
     "metadata": {},
     "output_type": "execute_result"
    }
   ],
   "source": [
    "sp500_data = fred.get_series(\"SP500\")\n",
    "sp500_data.dropna(inplace=True)\n",
    "data.head()"
   ]
  },
  {
   "cell_type": "code",
   "execution_count": 22,
   "id": "36e981e6-a74c-439d-859b-105196f4f5d2",
   "metadata": {},
   "outputs": [
    {
     "data": {
      "text/plain": [
       "2011-08-03    1260.34\n",
       "2011-08-04    1200.07\n",
       "2011-08-05    1199.38\n",
       "2011-08-08    1119.46\n",
       "2011-08-09    1172.53\n",
       "dtype: float64"
      ]
     },
     "execution_count": 22,
     "metadata": {},
     "output_type": "execute_result"
    }
   ],
   "source": [
    "gdp_data = fred.get_series(\"GDPC1\")\n",
    "gdp_data.dropna(inplace=True)\n",
    "data.head()"
   ]
  },
  {
   "cell_type": "code",
   "execution_count": null,
   "id": "4f537bde-d409-4821-aad4-e62f7b59be75",
   "metadata": {},
   "outputs": [],
   "source": [
    "#\"https://api.stlouisfed.org/fred/series/search?api_key=abcdefghijklmnopqrstuvwxyz123456&search_text=M2SL\"\n",
    "#\"https://fred.stlouisfed.org/series/M2SL\""
   ]
  }
 ],
 "metadata": {
  "kernelspec": {
   "display_name": "Python 3",
   "language": "python",
   "name": "python3"
  },
  "language_info": {
   "codemirror_mode": {
    "name": "ipython",
    "version": 3
   },
   "file_extension": ".py",
   "mimetype": "text/x-python",
   "name": "python",
   "nbconvert_exporter": "python",
   "pygments_lexer": "ipython3",
   "version": "3.7.10"
  }
 },
 "nbformat": 4,
 "nbformat_minor": 5
}
