{
 "cells": [
  {
   "cell_type": "markdown",
   "id": "fbf151ea-d6c6-472d-a7c3-aaf1b5eea7bd",
   "metadata": {},
   "source": [
    "# Setup:"
   ]
  },
  {
   "cell_type": "code",
   "execution_count": 38,
   "id": "d7469fae-68e3-4796-8d74-b8bf5da0f882",
   "metadata": {
    "tags": []
   },
   "outputs": [],
   "source": [
    "# Initial imports\n",
    "\n",
    "import numpy as np\n",
    "import seaborn as sns\n",
    "import requests\n",
    "from dotenv import load_dotenv\n",
    "import os\n",
    "from fredapi import Fred\n",
    "\n",
    "import panel as pn\n",
    "pn.extension('plotly')\n",
    "import plotly.express as px\n",
    "import pandas as pd\n",
    "import hvplot.pandas\n",
    "import holoviews as hv\n",
    "from holoviews import opts\n",
    "import matplotlib.pyplot as plt\n",
    "import datetime\n"
   ]
  },
  {
   "cell_type": "code",
   "execution_count": 2,
   "id": "bddcddcf-0213-4e26-aef1-c675307552ca",
   "metadata": {},
   "outputs": [
    {
     "data": {
      "text/plain": [
       "True"
      ]
     },
     "execution_count": 2,
     "metadata": {},
     "output_type": "execute_result"
    }
   ],
   "source": [
    "load_dotenv()"
   ]
  },
  {
   "cell_type": "code",
   "execution_count": 3,
   "id": "95c3e892-767d-467b-b3fd-08e08617502a",
   "metadata": {},
   "outputs": [],
   "source": [
    "api_key=os.getenv(\"FRED_API_KEY\")"
   ]
  },
  {
   "cell_type": "code",
   "execution_count": 4,
   "id": "9afa95b1-7956-4063-862b-89fdcd82c7fc",
   "metadata": {},
   "outputs": [
    {
     "data": {
      "text/plain": [
       "str"
      ]
     },
     "execution_count": 4,
     "metadata": {},
     "output_type": "execute_result"
    }
   ],
   "source": [
    "# Use the type function to confirm the retrieval of the API key\n",
    "type(api_key)"
   ]
  },
  {
   "cell_type": "markdown",
   "id": "d5167e6e-2c13-4de0-a56d-87b915eda32c",
   "metadata": {},
   "source": [
    "# Importing Data:"
   ]
  },
  {
   "cell_type": "code",
   "execution_count": 5,
   "id": "3ed131ac-f498-46ba-86bf-d09e461a31fd",
   "metadata": {},
   "outputs": [],
   "source": [
    "fred = Fred(api_key)"
   ]
  },
  {
   "cell_type": "markdown",
   "id": "ff12a4b8-ca79-4480-8699-1abd54e46725",
   "metadata": {},
   "source": [
    "### M2 Data:"
   ]
  },
  {
   "cell_type": "code",
   "execution_count": 6,
   "id": "7d83d1aa-c355-4340-9b37-d5c1a6836bb8",
   "metadata": {},
   "outputs": [
    {
     "data": {
      "text/plain": [
       "1959-01-01    286.6\n",
       "1959-02-01    287.7\n",
       "1959-03-01    289.2\n",
       "1959-04-01    290.1\n",
       "1959-05-01    292.2\n",
       "dtype: float64"
      ]
     },
     "execution_count": 6,
     "metadata": {},
     "output_type": "execute_result"
    }
   ],
   "source": [
    "# Pull M2 data from January 1, 1980 - July 31, 2021,  Clean data, & put into a data frame\n",
    "# M2: In Billions of Dollars, Calculated Monthly\n",
    "m2_data = fred.get_series('M2SL')\n",
    "m2_data.head()"
   ]
  },
  {
   "cell_type": "code",
   "execution_count": 7,
   "id": "1b4463dc-3bc8-4092-b34a-2a50be053d71",
   "metadata": {},
   "outputs": [
    {
     "data": {
      "text/plain": [
       "1947-01-01    2034.450\n",
       "1947-04-01    2029.024\n",
       "1947-07-01    2024.834\n",
       "1947-10-01    2056.508\n",
       "1948-01-01    2087.442\n",
       "dtype: float64"
      ]
     },
     "execution_count": 7,
     "metadata": {},
     "output_type": "execute_result"
    }
   ],
   "source": [
    "# Real GDP: In Billions of Dollars, Calculated Quarterly\n",
    "real_GDP_data = fred.get_series('GDPC1')\n",
    "real_GDP_data.head()"
   ]
  },
  {
   "cell_type": "code",
   "execution_count": 81,
   "id": "cf2b34c5-bd97-4682-a286-6b15661d227a",
   "metadata": {
    "tags": []
   },
   "outputs": [
    {
     "data": {
      "text/plain": [
       "1946-01-01   NaN\n",
       "1946-02-01   NaN\n",
       "1946-03-01   NaN\n",
       "1946-04-01   NaN\n",
       "1946-05-01   NaN\n",
       "dtype: float64"
      ]
     },
     "execution_count": 81,
     "metadata": {},
     "output_type": "execute_result"
    }
   ],
   "source": [
    "# Personal Income: In Billions of Dollars, Calculated Quarterly\n",
    "personal_inc_data = fred.get_series('PI')\n",
    "personal_inc_data.head()"
   ]
  },
  {
   "cell_type": "code",
   "execution_count": 83,
   "id": "36f2e733-f412-473b-bf13-ad60e7dd24ed",
   "metadata": {},
   "outputs": [
    {
     "data": {
      "text/plain": [
       "(906,)"
      ]
     },
     "execution_count": 83,
     "metadata": {},
     "output_type": "execute_result"
    }
   ],
   "source": [
    "personal_inc_data.shape"
   ]
  },
  {
   "cell_type": "code",
   "execution_count": 82,
   "id": "96ce87fc-46c4-48cf-a6c8-3798e387f073",
   "metadata": {},
   "outputs": [
    {
     "data": {
      "text/plain": [
       "156"
      ]
     },
     "execution_count": 82,
     "metadata": {},
     "output_type": "execute_result"
    }
   ],
   "source": [
    "personal_inc_data.isnull().sum()"
   ]
  },
  {
   "cell_type": "code",
   "execution_count": 87,
   "id": "abd000da-d6f1-4bfa-88cc-489790b0ef9b",
   "metadata": {},
   "outputs": [
    {
     "data": {
      "text/plain": [
       "(750,)"
      ]
     },
     "execution_count": 87,
     "metadata": {},
     "output_type": "execute_result"
    }
   ],
   "source": [
    "personal_inc_data.dropna(inplace=True)\n",
    "personal_inc_data.shape"
   ]
  },
  {
   "cell_type": "code",
   "execution_count": 85,
   "id": "0042d9c1-2d17-412d-8b3b-9bbf803824e0",
   "metadata": {},
   "outputs": [
    {
     "data": {
      "text/plain": [
       "(906,)"
      ]
     },
     "execution_count": 85,
     "metadata": {},
     "output_type": "execute_result"
    }
   ],
   "source": [
    "personal_inc_data.shape"
   ]
  },
  {
   "cell_type": "markdown",
   "id": "284a120d-6d9d-4fd0-8360-02a3c513bcc5",
   "metadata": {},
   "source": [
    "## Analyze Real GDP versus M2 (Money Supply)"
   ]
  },
  {
   "cell_type": "code",
   "execution_count": 8,
   "id": "69ec7317-74d8-4d90-91ad-3b7b4a833c76",
   "metadata": {},
   "outputs": [
    {
     "data": {
      "text/html": [
       "<div>\n",
       "<style scoped>\n",
       "    .dataframe tbody tr th:only-of-type {\n",
       "        vertical-align: middle;\n",
       "    }\n",
       "\n",
       "    .dataframe tbody tr th {\n",
       "        vertical-align: top;\n",
       "    }\n",
       "\n",
       "    .dataframe thead th {\n",
       "        text-align: right;\n",
       "    }\n",
       "</style>\n",
       "<table border=\"1\" class=\"dataframe\">\n",
       "  <thead>\n",
       "    <tr style=\"text-align: right;\">\n",
       "      <th></th>\n",
       "      <th>0</th>\n",
       "      <th>1</th>\n",
       "    </tr>\n",
       "  </thead>\n",
       "  <tbody>\n",
       "    <tr>\n",
       "      <th>1959-01-01</th>\n",
       "      <td>3123.978</td>\n",
       "      <td>286.6</td>\n",
       "    </tr>\n",
       "    <tr>\n",
       "      <th>1959-04-01</th>\n",
       "      <td>3194.429</td>\n",
       "      <td>290.1</td>\n",
       "    </tr>\n",
       "    <tr>\n",
       "      <th>1959-07-01</th>\n",
       "      <td>3196.683</td>\n",
       "      <td>295.2</td>\n",
       "    </tr>\n",
       "    <tr>\n",
       "      <th>1959-10-01</th>\n",
       "      <td>3205.790</td>\n",
       "      <td>296.5</td>\n",
       "    </tr>\n",
       "    <tr>\n",
       "      <th>1960-01-01</th>\n",
       "      <td>3277.847</td>\n",
       "      <td>298.2</td>\n",
       "    </tr>\n",
       "  </tbody>\n",
       "</table>\n",
       "</div>"
      ],
      "text/plain": [
       "                   0      1\n",
       "1959-01-01  3123.978  286.6\n",
       "1959-04-01  3194.429  290.1\n",
       "1959-07-01  3196.683  295.2\n",
       "1959-10-01  3205.790  296.5\n",
       "1960-01-01  3277.847  298.2"
      ]
     },
     "execution_count": 8,
     "metadata": {},
     "output_type": "execute_result"
    }
   ],
   "source": [
    "# Concatenate Data:\n",
    "m2_real_gdp = pd.concat([real_GDP_data, m2_data], axis=1, join='inner')\n",
    "m2_real_gdp.head()"
   ]
  },
  {
   "cell_type": "code",
   "execution_count": 10,
   "id": "7b18df35-77ff-4b56-916b-dde3a2a8079c",
   "metadata": {},
   "outputs": [
    {
     "data": {
      "text/html": [
       "<div>\n",
       "<style scoped>\n",
       "    .dataframe tbody tr th:only-of-type {\n",
       "        vertical-align: middle;\n",
       "    }\n",
       "\n",
       "    .dataframe tbody tr th {\n",
       "        vertical-align: top;\n",
       "    }\n",
       "\n",
       "    .dataframe thead th {\n",
       "        text-align: right;\n",
       "    }\n",
       "</style>\n",
       "<table border=\"1\" class=\"dataframe\">\n",
       "  <thead>\n",
       "    <tr style=\"text-align: right;\">\n",
       "      <th></th>\n",
       "      <th>Real GDP</th>\n",
       "      <th>M2</th>\n",
       "    </tr>\n",
       "  </thead>\n",
       "  <tbody>\n",
       "    <tr>\n",
       "      <th>1959-01-01</th>\n",
       "      <td>3123.978</td>\n",
       "      <td>286.6</td>\n",
       "    </tr>\n",
       "    <tr>\n",
       "      <th>1959-04-01</th>\n",
       "      <td>3194.429</td>\n",
       "      <td>290.1</td>\n",
       "    </tr>\n",
       "    <tr>\n",
       "      <th>1959-07-01</th>\n",
       "      <td>3196.683</td>\n",
       "      <td>295.2</td>\n",
       "    </tr>\n",
       "    <tr>\n",
       "      <th>1959-10-01</th>\n",
       "      <td>3205.790</td>\n",
       "      <td>296.5</td>\n",
       "    </tr>\n",
       "    <tr>\n",
       "      <th>1960-01-01</th>\n",
       "      <td>3277.847</td>\n",
       "      <td>298.2</td>\n",
       "    </tr>\n",
       "  </tbody>\n",
       "</table>\n",
       "</div>"
      ],
      "text/plain": [
       "            Real GDP     M2\n",
       "1959-01-01  3123.978  286.6\n",
       "1959-04-01  3194.429  290.1\n",
       "1959-07-01  3196.683  295.2\n",
       "1959-10-01  3205.790  296.5\n",
       "1960-01-01  3277.847  298.2"
      ]
     },
     "execution_count": 10,
     "metadata": {},
     "output_type": "execute_result"
    }
   ],
   "source": [
    "# Rename Columns:\n",
    "m2_real_gdp.rename(columns = {0:'Real GDP', 1: 'M2'}, inplace = True)\n",
    "m2_real_gdp.head()"
   ]
  },
  {
   "cell_type": "markdown",
   "id": "860aecf1-5b0a-4abf-972b-afe280dfa14f",
   "metadata": {},
   "source": [
    "## Clean Code:"
   ]
  },
  {
   "cell_type": "code",
   "execution_count": 11,
   "id": "cb161ca8-7057-43ba-bdd8-6be9529aa91c",
   "metadata": {},
   "outputs": [
    {
     "data": {
      "text/plain": [
       "Real GDP    0\n",
       "M2          0\n",
       "dtype: int64"
      ]
     },
     "execution_count": 11,
     "metadata": {},
     "output_type": "execute_result"
    }
   ],
   "source": [
    "# Check for null values:\n",
    "m2_real_gdp.isnull().sum()"
   ]
  },
  {
   "cell_type": "code",
   "execution_count": 12,
   "id": "38f380a6-3676-4981-9ae9-ae0ffe162e07",
   "metadata": {},
   "outputs": [
    {
     "data": {
      "text/html": [
       "<div>\n",
       "<style scoped>\n",
       "    .dataframe tbody tr th:only-of-type {\n",
       "        vertical-align: middle;\n",
       "    }\n",
       "\n",
       "    .dataframe tbody tr th {\n",
       "        vertical-align: top;\n",
       "    }\n",
       "\n",
       "    .dataframe thead th {\n",
       "        text-align: right;\n",
       "    }\n",
       "</style>\n",
       "<table border=\"1\" class=\"dataframe\">\n",
       "  <thead>\n",
       "    <tr style=\"text-align: right;\">\n",
       "      <th></th>\n",
       "      <th>Real GDP</th>\n",
       "      <th>M2</th>\n",
       "      <th>Real GDP Pct Chng</th>\n",
       "    </tr>\n",
       "  </thead>\n",
       "  <tbody>\n",
       "    <tr>\n",
       "      <th>1959-01-01</th>\n",
       "      <td>3123.978</td>\n",
       "      <td>286.6</td>\n",
       "      <td>NaN</td>\n",
       "    </tr>\n",
       "    <tr>\n",
       "      <th>1959-04-01</th>\n",
       "      <td>3194.429</td>\n",
       "      <td>290.1</td>\n",
       "      <td>0.022552</td>\n",
       "    </tr>\n",
       "    <tr>\n",
       "      <th>1959-07-01</th>\n",
       "      <td>3196.683</td>\n",
       "      <td>295.2</td>\n",
       "      <td>0.000706</td>\n",
       "    </tr>\n",
       "    <tr>\n",
       "      <th>1959-10-01</th>\n",
       "      <td>3205.790</td>\n",
       "      <td>296.5</td>\n",
       "      <td>0.002849</td>\n",
       "    </tr>\n",
       "    <tr>\n",
       "      <th>1960-01-01</th>\n",
       "      <td>3277.847</td>\n",
       "      <td>298.2</td>\n",
       "      <td>0.022477</td>\n",
       "    </tr>\n",
       "  </tbody>\n",
       "</table>\n",
       "</div>"
      ],
      "text/plain": [
       "            Real GDP     M2  Real GDP Pct Chng\n",
       "1959-01-01  3123.978  286.6                NaN\n",
       "1959-04-01  3194.429  290.1           0.022552\n",
       "1959-07-01  3196.683  295.2           0.000706\n",
       "1959-10-01  3205.790  296.5           0.002849\n",
       "1960-01-01  3277.847  298.2           0.022477"
      ]
     },
     "execution_count": 12,
     "metadata": {},
     "output_type": "execute_result"
    }
   ],
   "source": [
    "# Calculate % Yearly Change for each set of data.\n",
    "\n",
    "# Calculate Daily Returns (Refer to HW_4, Whale of a Portfolio) and add to new column in the dataframe:\n",
    "m2_real_gdp['Real GDP Pct Chng'] = m2_real_gdp['Real GDP'].pct_change()\n",
    "m2_real_gdp.head()"
   ]
  },
  {
   "cell_type": "code",
   "execution_count": 13,
   "id": "1593f5e5-0fb8-4210-be40-bab64f629497",
   "metadata": {},
   "outputs": [
    {
     "data": {
      "text/html": [
       "<div>\n",
       "<style scoped>\n",
       "    .dataframe tbody tr th:only-of-type {\n",
       "        vertical-align: middle;\n",
       "    }\n",
       "\n",
       "    .dataframe tbody tr th {\n",
       "        vertical-align: top;\n",
       "    }\n",
       "\n",
       "    .dataframe thead th {\n",
       "        text-align: right;\n",
       "    }\n",
       "</style>\n",
       "<table border=\"1\" class=\"dataframe\">\n",
       "  <thead>\n",
       "    <tr style=\"text-align: right;\">\n",
       "      <th></th>\n",
       "      <th>Real GDP</th>\n",
       "      <th>M2</th>\n",
       "      <th>Real GDP Pct Chng</th>\n",
       "      <th>M2 Pct Chng</th>\n",
       "    </tr>\n",
       "  </thead>\n",
       "  <tbody>\n",
       "    <tr>\n",
       "      <th>1959-01-01</th>\n",
       "      <td>3123.978</td>\n",
       "      <td>286.6</td>\n",
       "      <td>NaN</td>\n",
       "      <td>NaN</td>\n",
       "    </tr>\n",
       "    <tr>\n",
       "      <th>1959-04-01</th>\n",
       "      <td>3194.429</td>\n",
       "      <td>290.1</td>\n",
       "      <td>0.022552</td>\n",
       "      <td>0.012212</td>\n",
       "    </tr>\n",
       "    <tr>\n",
       "      <th>1959-07-01</th>\n",
       "      <td>3196.683</td>\n",
       "      <td>295.2</td>\n",
       "      <td>0.000706</td>\n",
       "      <td>0.017580</td>\n",
       "    </tr>\n",
       "    <tr>\n",
       "      <th>1959-10-01</th>\n",
       "      <td>3205.790</td>\n",
       "      <td>296.5</td>\n",
       "      <td>0.002849</td>\n",
       "      <td>0.004404</td>\n",
       "    </tr>\n",
       "    <tr>\n",
       "      <th>1960-01-01</th>\n",
       "      <td>3277.847</td>\n",
       "      <td>298.2</td>\n",
       "      <td>0.022477</td>\n",
       "      <td>0.005734</td>\n",
       "    </tr>\n",
       "  </tbody>\n",
       "</table>\n",
       "</div>"
      ],
      "text/plain": [
       "            Real GDP     M2  Real GDP Pct Chng  M2 Pct Chng\n",
       "1959-01-01  3123.978  286.6                NaN          NaN\n",
       "1959-04-01  3194.429  290.1           0.022552     0.012212\n",
       "1959-07-01  3196.683  295.2           0.000706     0.017580\n",
       "1959-10-01  3205.790  296.5           0.002849     0.004404\n",
       "1960-01-01  3277.847  298.2           0.022477     0.005734"
      ]
     },
     "execution_count": 13,
     "metadata": {},
     "output_type": "execute_result"
    }
   ],
   "source": [
    "m2_real_gdp['M2 Pct Chng'] = m2_real_gdp['M2'].pct_change()\n",
    "m2_real_gdp.head()"
   ]
  },
  {
   "cell_type": "markdown",
   "id": "77b57396-1811-48d4-a4dd-3a0dcd7ca1a5",
   "metadata": {},
   "source": [
    "# Visualizations:"
   ]
  },
  {
   "cell_type": "code",
   "execution_count": 14,
   "id": "f3471d3a-cbbf-454b-8590-4692caa145b9",
   "metadata": {},
   "outputs": [
    {
     "data": {
      "text/html": [
       "<div>\n",
       "<style scoped>\n",
       "    .dataframe tbody tr th:only-of-type {\n",
       "        vertical-align: middle;\n",
       "    }\n",
       "\n",
       "    .dataframe tbody tr th {\n",
       "        vertical-align: top;\n",
       "    }\n",
       "\n",
       "    .dataframe thead th {\n",
       "        text-align: right;\n",
       "    }\n",
       "</style>\n",
       "<table border=\"1\" class=\"dataframe\">\n",
       "  <thead>\n",
       "    <tr style=\"text-align: right;\">\n",
       "      <th></th>\n",
       "      <th>M2 Pct Chng</th>\n",
       "      <th>Real GDP Pct Chng</th>\n",
       "    </tr>\n",
       "  </thead>\n",
       "  <tbody>\n",
       "    <tr>\n",
       "      <th>1959-01-01</th>\n",
       "      <td>NaN</td>\n",
       "      <td>NaN</td>\n",
       "    </tr>\n",
       "    <tr>\n",
       "      <th>1959-04-01</th>\n",
       "      <td>0.012212</td>\n",
       "      <td>0.022552</td>\n",
       "    </tr>\n",
       "    <tr>\n",
       "      <th>1959-07-01</th>\n",
       "      <td>0.017580</td>\n",
       "      <td>0.000706</td>\n",
       "    </tr>\n",
       "    <tr>\n",
       "      <th>1959-10-01</th>\n",
       "      <td>0.004404</td>\n",
       "      <td>0.002849</td>\n",
       "    </tr>\n",
       "    <tr>\n",
       "      <th>1960-01-01</th>\n",
       "      <td>0.005734</td>\n",
       "      <td>0.022477</td>\n",
       "    </tr>\n",
       "  </tbody>\n",
       "</table>\n",
       "</div>"
      ],
      "text/plain": [
       "            M2 Pct Chng  Real GDP Pct Chng\n",
       "1959-01-01          NaN                NaN\n",
       "1959-04-01     0.012212           0.022552\n",
       "1959-07-01     0.017580           0.000706\n",
       "1959-10-01     0.004404           0.002849\n",
       "1960-01-01     0.005734           0.022477"
      ]
     },
     "execution_count": 14,
     "metadata": {},
     "output_type": "execute_result"
    }
   ],
   "source": [
    "# Calculate & show Correlation: USING SEABORN FOR THE HEATMAP from from January 1, 1980 - July 31, 2021\n",
    "# Reducing DataFrame to only show relevant data\n",
    "pct_chng_M2gdp = m2_real_gdp[['M2 Pct Chng', 'Real GDP Pct Chng']]\n",
    "pct_chng_M2gdp.head()"
   ]
  },
  {
   "cell_type": "code",
   "execution_count": 16,
   "id": "8bf1677f-d583-4148-ae82-5b7768bf63a2",
   "metadata": {},
   "outputs": [
    {
     "data": {
      "text/html": [
       "<div>\n",
       "<style scoped>\n",
       "    .dataframe tbody tr th:only-of-type {\n",
       "        vertical-align: middle;\n",
       "    }\n",
       "\n",
       "    .dataframe tbody tr th {\n",
       "        vertical-align: top;\n",
       "    }\n",
       "\n",
       "    .dataframe thead th {\n",
       "        text-align: right;\n",
       "    }\n",
       "</style>\n",
       "<table border=\"1\" class=\"dataframe\">\n",
       "  <thead>\n",
       "    <tr style=\"text-align: right;\">\n",
       "      <th></th>\n",
       "      <th>M2 Pct Chng</th>\n",
       "      <th>Real GDP Pct Chng</th>\n",
       "    </tr>\n",
       "  </thead>\n",
       "  <tbody>\n",
       "    <tr>\n",
       "      <th>1980-01-01</th>\n",
       "      <td>0.015270</td>\n",
       "      <td>0.003145</td>\n",
       "    </tr>\n",
       "    <tr>\n",
       "      <th>1980-04-01</th>\n",
       "      <td>0.013152</td>\n",
       "      <td>-0.020605</td>\n",
       "    </tr>\n",
       "    <tr>\n",
       "      <th>1980-07-01</th>\n",
       "      <td>0.028824</td>\n",
       "      <td>-0.001188</td>\n",
       "    </tr>\n",
       "    <tr>\n",
       "      <th>1980-10-01</th>\n",
       "      <td>0.025429</td>\n",
       "      <td>0.018649</td>\n",
       "    </tr>\n",
       "    <tr>\n",
       "      <th>1981-01-01</th>\n",
       "      <td>0.013945</td>\n",
       "      <td>0.019594</td>\n",
       "    </tr>\n",
       "  </tbody>\n",
       "</table>\n",
       "</div>"
      ],
      "text/plain": [
       "            M2 Pct Chng  Real GDP Pct Chng\n",
       "1980-01-01     0.015270           0.003145\n",
       "1980-04-01     0.013152          -0.020605\n",
       "1980-07-01     0.028824          -0.001188\n",
       "1980-10-01     0.025429           0.018649\n",
       "1981-01-01     0.013945           0.019594"
      ]
     },
     "execution_count": 16,
     "metadata": {},
     "output_type": "execute_result"
    }
   ],
   "source": [
    "# Change Return data to desired time frame: from January 1, 1980 - July 31, 2021\n",
    "pct_chng_M2gdp = pct_chng_M2gdp['1980-01-01':'2021-07-31']\n",
    "pct_chng_M2gdp.head()"
   ]
  },
  {
   "cell_type": "markdown",
   "id": "929b0f78-132d-438d-852b-70dea9febf4d",
   "metadata": {},
   "source": [
    "## Create Correlation Visualization:"
   ]
  },
  {
   "cell_type": "code",
   "execution_count": 17,
   "id": "fd0fa3bc-27d6-49ed-a172-bf4c19401ef0",
   "metadata": {},
   "outputs": [
    {
     "name": "stdout",
     "output_type": "stream",
     "text": [
      "                   M2 Pct Chng  Real GDP Pct Chng\n",
      "M2 Pct Chng           1.000000          -0.202318\n",
      "Real GDP Pct Chng    -0.202318           1.000000\n"
     ]
    }
   ],
   "source": [
    "# Calculate the correlation\n",
    "corr_m2_real_gdp = pct_chng_M2gdp.corr()\n",
    "\n",
    "print(corr_m2_real_gdp)"
   ]
  },
  {
   "cell_type": "code",
   "execution_count": 18,
   "id": "cdc3f448-a6ce-4db0-8350-b05e3384b0d3",
   "metadata": {},
   "outputs": [
    {
     "data": {
      "text/plain": [
       "[Text(0, 0.5, 'M2 Pct Chng'), Text(0, 1.5, 'Real GDP Pct Chng')]"
      ]
     },
     "execution_count": 18,
     "metadata": {},
     "output_type": "execute_result"
    },
    {
     "data": {
      "image/png": "[encoded data removed]",
      "text/plain": [
       "<Figure size 432x288 with 2 Axes>"
      ]
     },
     "metadata": {
      "needs_background": "light"
     },
     "output_type": "display_data"
    }
   ],
   "source": [
    "# Display de correlation matrix\n",
    "corr_chart = sns.heatmap(corr_m2_real_gdp, annot=True, vmin=-1, vmax=1)\n",
    "corr_chart.set_yticklabels(corr_chart.get_yticklabels(), rotation = 45)"
   ]
  },
  {
   "cell_type": "code",
   "execution_count": 19,
   "id": "84cf69a4-c295-4b9d-b1d9-4d00c916c99a",
   "metadata": {},
   "outputs": [
    {
     "data": {
      "text/plain": [
       "[Text(0, 0.5, 'M2 Pct Chng'), Text(0, 1.5, 'Real GDP Pct Chng')]"
      ]
     },
     "execution_count": 19,
     "metadata": {},
     "output_type": "execute_result"
    },
    {
     "data": {
      "image/png": "[encoded data removed]",
      "text/plain": [
       "<Figure size 432x288 with 2 Axes>"
      ]
     },
     "metadata": {
      "needs_background": "light"
     },
     "output_type": "display_data"
    }
   ],
   "source": [
    "# Display de correlation matrix\n",
    "corr_chart = sns.heatmap(corr_m2_real_gdp, annot=True, vmin=-1, vmax=1)\n",
    "corr_chart.set_yticklabels(corr_chart.get_yticklabels(), verticalalignment='center')"
   ]
  },
  {
   "cell_type": "markdown",
   "id": "d85f3fd1-78ed-4488-bcf9-5d36f14054cc",
   "metadata": {},
   "source": [
    "### Check correlation of original charts:"
   ]
  },
  {
   "cell_type": "code",
   "execution_count": 49,
   "id": "fded4478-de4e-490b-af48-e1b5d0bfa349",
   "metadata": {},
   "outputs": [
    {
     "data": {
      "text/html": [
       "<div>\n",
       "<style scoped>\n",
       "    .dataframe tbody tr th:only-of-type {\n",
       "        vertical-align: middle;\n",
       "    }\n",
       "\n",
       "    .dataframe tbody tr th {\n",
       "        vertical-align: top;\n",
       "    }\n",
       "\n",
       "    .dataframe thead th {\n",
       "        text-align: right;\n",
       "    }\n",
       "</style>\n",
       "<table border=\"1\" class=\"dataframe\">\n",
       "  <thead>\n",
       "    <tr style=\"text-align: right;\">\n",
       "      <th></th>\n",
       "      <th>Real GDP</th>\n",
       "      <th>M2</th>\n",
       "      <th>Real GDP Pct Chng</th>\n",
       "      <th>M2 Pct Chng</th>\n",
       "    </tr>\n",
       "  </thead>\n",
       "  <tbody>\n",
       "    <tr>\n",
       "      <th>Real GDP</th>\n",
       "      <td>1.000000</td>\n",
       "      <td>0.933843</td>\n",
       "      <td>-0.145430</td>\n",
       "      <td>-0.061701</td>\n",
       "    </tr>\n",
       "    <tr>\n",
       "      <th>M2</th>\n",
       "      <td>0.933843</td>\n",
       "      <td>1.000000</td>\n",
       "      <td>-0.133999</td>\n",
       "      <td>0.074811</td>\n",
       "    </tr>\n",
       "    <tr>\n",
       "      <th>Real GDP Pct Chng</th>\n",
       "      <td>-0.145430</td>\n",
       "      <td>-0.133999</td>\n",
       "      <td>1.000000</td>\n",
       "      <td>-0.080365</td>\n",
       "    </tr>\n",
       "    <tr>\n",
       "      <th>M2 Pct Chng</th>\n",
       "      <td>-0.061701</td>\n",
       "      <td>0.074811</td>\n",
       "      <td>-0.080365</td>\n",
       "      <td>1.000000</td>\n",
       "    </tr>\n",
       "  </tbody>\n",
       "</table>\n",
       "</div>"
      ],
      "text/plain": [
       "                   Real GDP        M2  Real GDP Pct Chng  M2 Pct Chng\n",
       "Real GDP           1.000000  0.933843          -0.145430    -0.061701\n",
       "M2                 0.933843  1.000000          -0.133999     0.074811\n",
       "Real GDP Pct Chng -0.145430 -0.133999           1.000000    -0.080365\n",
       "M2 Pct Chng       -0.061701  0.074811          -0.080365     1.000000"
      ]
     },
     "execution_count": 49,
     "metadata": {},
     "output_type": "execute_result"
    }
   ],
   "source": [
    "m2_real_gdp_corr = m2_real_gdp.corr()\n",
    "m2_real_gdp_corr"
   ]
  },
  {
   "cell_type": "code",
   "execution_count": 52,
   "id": "91ab3c0e-f80d-4f27-97e4-619c71a93021",
   "metadata": {},
   "outputs": [
    {
     "data": {
      "text/plain": [
       "<matplotlib.axes._subplots.AxesSubplot at 0x23092134988>"
      ]
     },
     "execution_count": 52,
     "metadata": {},
     "output_type": "execute_result"
    },
    {
     "data": {
      "image/png": "[encoded data removed]",
      "text/plain": [
       "<Figure size 432x288 with 2 Axes>"
      ]
     },
     "metadata": {
      "needs_background": "light"
     },
     "output_type": "display_data"
    }
   ],
   "source": [
    "# Display the correlation matrix\n",
    "all_corr_chart = sns.heatmap(m2_real_gdp_corr, annot=True, vmin=-1, vmax=1)\n",
    "all_corr_chart"
   ]
  },
  {
   "cell_type": "code",
   "execution_count": null,
   "id": "b93d8f6a-889b-4c48-a434-4d4a330ab3c9",
   "metadata": {},
   "outputs": [],
   "source": []
  },
  {
   "cell_type": "code",
   "execution_count": null,
   "id": "1a4e4365-aa5f-4bed-97b1-0fba64f9743d",
   "metadata": {},
   "outputs": [],
   "source": []
  },
  {
   "cell_type": "markdown",
   "id": "e66d4d93-d19d-448e-a94f-1b6df745030d",
   "metadata": {
    "tags": []
   },
   "source": [
    "## Make Line Plot, for entire timeframe\n",
    "- Make Line Plot\n",
    "- Include Marker for Important Dates"
   ]
  },
  {
   "cell_type": "code",
   "execution_count": 25,
   "id": "18792a8e-fef3-46a3-91d1-2f754da9f2a5",
   "metadata": {},
   "outputs": [],
   "source": [
    "# Get DataFrame w/out pct Change:\n",
    "m2_real_gdp_df = m2_real_gdp['1980-01-01':'2021-07-31'][['Real GDP', 'M2']]"
   ]
  },
  {
   "cell_type": "code",
   "execution_count": 32,
   "id": "30bb1f8d-5fe1-4bea-8367-ad5dd9a6d99f",
   "metadata": {
    "tags": []
   },
   "outputs": [
    {
     "data": {},
     "metadata": {},
     "output_type": "display_data"
    },
    {
     "data": {
      "application/vnd.holoviews_exec.v0+json": "",
      "text/html": [
       "<div id='2922'>\n",
       "\n",
       "\n",
       "\n",
       "\n",
       "\n",
       "  <div class=\"bk-root\" id=\"86177ae4-4293-40d9-87df-1c4b81e4a7e4\" data-root-id=\"2922\"></div>\n",
       "</div>\n",
       "<script type=\"application/javascript\">(function(root) {\n",
       "  function embed_document(root) {\n",
       "    var docs_json = {\"31a12973-d5bb-4340-b12f-aa4f6668b80c\":{\"defs\":[],\"roots\":{\"references\":[{\"attributes\":{\"active_multi\":null,\"tools\":[{\"id\":\"2926\"},{\"id\":\"2945\"},{\"id\":\"2946\"},{\"id\":\"2947\"},{\"id\":\"2948\"},{\"id\":\"2949\"}]},\"id\":\"2951\",\"type\":\"Toolbar\"},{\"attributes\":{\"label\":{\"value\":\"Real GDP\"},\"renderers\":[{\"id\":\"2970\"}]},\"id\":\"2995\",\"type\":\"LegendItem\"},{\"attributes\":{\"days\":[1,2,3,4,5,6,7,8,9,10,11,12,13,14,15,16,17,18,19,20,21,22,23,24,25,26,27,28,29,30,31]},\"id\":\"2983\",\"type\":\"DaysTicker\"},{\"attributes\":{\"children\":[{\"id\":\"2923\"},{\"id\":\"2928\"},{\"id\":\"3247\"}],\"margin\":[0,0,0,0],\"name\":\"Row03745\",\"tags\":[\"embedded\"]},\"id\":\"2922\",\"type\":\"Row\"},{\"attributes\":{\"days\":[1,4,7,10,13,16,19,22,25,28]},\"id\":\"2984\",\"type\":\"DaysTicker\"},{\"attributes\":{\"label\":{\"value\":\"M2\"},\"renderers\":[{\"id\":\"3003\"}]},\"id\":\"3029\",\"type\":\"LegendItem\"},{\"attributes\":{\"months\":[0,1,2,3,4,5,6,7,8,9,10,11]},\"id\":\"2987\",\"type\":\"MonthsTicker\"},{\"attributes\":{},\"id\":\"2965\",\"type\":\"Selection\"},{\"attributes\":{\"line_color\":\"#30a2da\",\"line_width\":2,\"x\":{\"field\":\"index\"},\"y\":{\"field\":\"value\"}},\"id\":\"2996\",\"type\":\"Line\"},{\"attributes\":{\"days\":[1,8,15,22]},\"id\":\"2985\",\"type\":\"DaysTicker\"},{\"attributes\":{\"days\":[1,15]},\"id\":\"2986\",\"type\":\"DaysTicker\"},{\"attributes\":{},\"id\":\"2945\",\"type\":\"SaveTool\"},{\"attributes\":{},\"id\":\"2958\",\"type\":\"DatetimeTickFormatter\"},{\"attributes\":{\"source\":{\"id\":\"2964\"}},\"id\":\"2971\",\"type\":\"CDSView\"},{\"attributes\":{\"line_color\":\"#fc4f30\",\"line_width\":2,\"x\":{\"field\":\"index\"},\"y\":{\"field\":\"value\"}},\"id\":\"3030\",\"type\":\"Line\"},{\"attributes\":{},\"id\":\"2946\",\"type\":\"PanTool\"},{\"attributes\":{},\"id\":\"2949\",\"type\":\"ResetTool\"},{\"attributes\":{\"num_minor_ticks\":5,\"tickers\":[{\"id\":\"2980\"},{\"id\":\"2981\"},{\"id\":\"2982\"},{\"id\":\"2983\"},{\"id\":\"2984\"},{\"id\":\"2985\"},{\"id\":\"2986\"},{\"id\":\"2987\"},{\"id\":\"2988\"},{\"id\":\"2989\"},{\"id\":\"2990\"},{\"id\":\"2991\"}]},\"id\":\"2938\",\"type\":\"DatetimeTicker\"},{\"attributes\":{\"line_color\":\"#30a2da\",\"line_width\":2,\"x\":{\"field\":\"index\"},\"y\":{\"field\":\"value\"}},\"id\":\"2967\",\"type\":\"Line\"},{\"attributes\":{},\"id\":\"3028\",\"type\":\"UnionRenderers\"},{\"attributes\":{},\"id\":\"2947\",\"type\":\"WheelZoomTool\"},{\"attributes\":{\"months\":[0,2,4,6,8,10]},\"id\":\"2988\",\"type\":\"MonthsTicker\"},{\"attributes\":{},\"id\":\"2961\",\"type\":\"BasicTickFormatter\"},{\"attributes\":{\"line_alpha\":0.2,\"line_color\":\"#30a2da\",\"line_width\":2,\"x\":{\"field\":\"index\"},\"y\":{\"field\":\"value\"}},\"id\":\"2969\",\"type\":\"Line\"},{\"attributes\":{\"line_alpha\":0.1,\"line_color\":\"#fc4f30\",\"line_width\":2,\"x\":{\"field\":\"index\"},\"y\":{\"field\":\"value\"}},\"id\":\"3001\",\"type\":\"Line\"},{\"attributes\":{\"overlay\":{\"id\":\"2950\"}},\"id\":\"2948\",\"type\":\"BoxZoomTool\"},{\"attributes\":{\"bottom_units\":\"screen\",\"fill_alpha\":0.5,\"fill_color\":\"lightgrey\",\"left_units\":\"screen\",\"level\":\"overlay\",\"line_alpha\":1.0,\"line_color\":\"black\",\"line_dash\":[4,4],\"line_width\":2,\"right_units\":\"screen\",\"syncable\":false,\"top_units\":\"screen\"},\"id\":\"2950\",\"type\":\"BoxAnnotation\"},{\"attributes\":{\"callback\":null,\"formatters\":{\"@{index}\":\"datetime\"},\"renderers\":[{\"id\":\"2970\"},{\"id\":\"3003\"}],\"tags\":[\"hv_created\"],\"tooltips\":[[\"Variable\",\"@{Variable}\"],[\"index\",\"@{index}{%F %T}\"],[\"value\",\"@{value}\"]]},\"id\":\"2926\",\"type\":\"HoverTool\"},{\"attributes\":{\"months\":[0,4,8]},\"id\":\"2989\",\"type\":\"MonthsTicker\"},{\"attributes\":{\"text_color\":\"black\",\"text_font_size\":\"12pt\"},\"id\":\"2929\",\"type\":\"Title\"},{\"attributes\":{\"line_alpha\":0.1,\"line_color\":\"#30a2da\",\"line_width\":2,\"x\":{\"field\":\"index\"},\"y\":{\"field\":\"value\"}},\"id\":\"2968\",\"type\":\"Line\"},{\"attributes\":{\"data\":{\"Variable\":[\"Real GDP\",\"Real GDP\",\"Real GDP\",\"Real GDP\",\"Real GDP\",\"Real GDP\",\"Real GDP\",\"Real GDP\",\"Real GDP\",\"Real GDP\",\"Real GDP\",\"Real GDP\",\"Real GDP\",\"Real GDP\",\"Real GDP\",\"Real GDP\",\"Real GDP\",\"Real GDP\",\"Real GDP\",\"Real GDP\",\"Real GDP\",\"Real GDP\",\"Real GDP\",\"Real GDP\",\"Real GDP\",\"Real GDP\",\"Real GDP\",\"Real GDP\",\"Real GDP\",\"Real GDP\",\"Real GDP\",\"Real GDP\",\"Real GDP\",\"Real GDP\",\"Real GDP\",\"Real GDP\",\"Real GDP\",\"Real GDP\",\"Real GDP\",\"Real GDP\",\"Real GDP\",\"Real GDP\",\"Real GDP\",\"Real GDP\",\"Real GDP\",\"Real GDP\",\"Real GDP\",\"Real GDP\",\"Real GDP\",\"Real GDP\",\"Real GDP\",\"Real GDP\",\"Real GDP\",\"Real GDP\",\"Real GDP\",\"Real GDP\",\"Real GDP\",\"Real GDP\",\"Real GDP\",\"Real GDP\",\"Real GDP\",\"Real GDP\",\"Real GDP\",\"Real GDP\",\"Real GDP\",\"Real GDP\",\"Real GDP\",\"Real GDP\",\"Real GDP\",\"Real GDP\",\"Real GDP\",\"Real GDP\",\"Real GDP\",\"Real GDP\",\"Real GDP\",\"Real GDP\",\"Real GDP\",\"Real GDP\",\"Real GDP\",\"Real GDP\",\"Real GDP\",\"Real GDP\",\"Real GDP\",\"Real GDP\",\"Real GDP\",\"Real GDP\",\"Real GDP\",\"Real GDP\",\"Real GDP\",\"Real GDP\",\"Real GDP\",\"Real GDP\",\"Real GDP\",\"Real GDP\",\"Real GDP\",\"Real GDP\",\"Real GDP\",\"Real GDP\",\"Real GDP\",\"Real GDP\",\"Real GDP\",\"Real GDP\",\"Real GDP\",\"Real GDP\",\"Real GDP\",\"Real GDP\",\"Real GDP\",\"Real GDP\",\"Real GDP\",\"Real GDP\",\"Real GDP\",\"Real GDP\",\"Real GDP\",\"Real GDP\",\"Real GDP\",\"Real GDP\",\"Real GDP\",\"Real GDP\",\"Real GDP\",\"Real GDP\",\"Real GDP\",\"Real GDP\",\"Real GDP\",\"Real GDP\",\"Real GDP\",\"Real GDP\",\"Real GDP\",\"Real GDP\",\"Real GDP\",\"Real GDP\",\"Real GDP\",\"Real GDP\",\"Real GDP\",\"Real GDP\",\"Real GDP\",\"Real GDP\",\"Real GDP\",\"Real GDP\",\"Real GDP\",\"Real GDP\",\"Real GDP\",\"Real GDP\",\"Real GDP\",\"Real GDP\",\"Real GDP\",\"Real GDP\",\"Real GDP\",\"Real GDP\",\"Real GDP\",\"Real GDP\",\"Real GDP\",\"Real GDP\",\"Real GDP\",\"Real GDP\",\"Real GDP\",\"Real GDP\",\"Real GDP\",\"Real GDP\",\"Real GDP\",\"Real GDP\",\"Real GDP\",\"Real GDP\",\"Real GDP\",\"Real GDP\",\"Real GDP\",\"Real GDP\"],\"index\":{\"__ndarray__\":\"AAAAHM5dUkIAAADJ9tJSQgAAAHYfSFNCAAAAupG+U0IAAAD+AzVUQgAAABTjqFRCAAAAwQseVUIAAAAFfpRVQgAAAEnwClZCAAAAX89+VkIAAAAM+PNWQgAAAFBqaldCAAAAlNzgV0IAAACqu1RYQgAAAFfkyVhCAAAAm1ZAWUIAAADfyLZZQgAAAIzxK1pCAAAAORqhWkIAAAB9jBdbQgAAAMH+jVtCAAAA190BXEIAAACEBndcQgAAAMh47VxCAAAADOtjXUIAAAAiytddQgAAAM/yTF5CAAAAE2XDXkIAAABX1zlfQgAAAG22rV9CAAAAjW8RYEIAAACvqExgQgAAANHhh2BCAACAJ3bCYEIAAAB+Cv1gQgAAAKBDOGFCAAAAwnxzYUIAAABNbK1hQgAAgKMA6GFCAACAxTkjYkIAAIDncl5iQgAAgHJimGJCAAAAyfbSYkIAAADrLw5jQgAAAA1pSWNCAAAAmFiDY0IAAIDu7L1jQgAAgBAm+WNCAACAMl80ZEIAAACJ825kQgAAgN+HqWRCAACAAcHkZEIAAIAj+h9lQgAAgK7pWWVCAAAABX6UZUIAAAAnt89lQgAAAEnwCmZCAAAA1N9EZkIAAIAqdH9mQgAAgEytumZCAACAbub1ZkIAAID51S9nQgAAAFBqamdCAAAAcqOlZ0IAAACU3OBnQgAAgOpwG2hCAAAAQQVWaEIAAABjPpFoQgAAAIV3zGhCAAAAEGcGaUIAAIBm+0BpQgAAgIg0fGlCAACAqm23aUIAAIA1XfFpQgAAAIzxK2pCAAAAripnakIAAADQY6JqQgAAAFtT3GpCAACAsecWa0IAAIDTIFJrQgAAgPVZjWtCAAAATO7Ha0IAAICiggJsQgAAgMS7PWxCAACA5vR4bEIAAIBx5LJsQgAAAMh47WxCAAAA6rEobUIAAAAM62NtQgAAAJfanW1CAACA7W7YbUIAAIAPqBNuQgAAgDHhTm5CAACAvNCIbkIAAAATZcNuQgAAADWe/m5CAAAAV9c5b0IAAICta3RvQgAAAAQAr29CAAAAJjnqb0IAAAAkuRJwQgAAgOmwL3BCAADAFPtMcEIAAMCll2pwQgAAwDY0iHBCAABA/CulcEIAAIAndsJwQgAAgLgS4HBCAACASa/9cEIAAAAPpxpxQgAAQDrxN3FCAABAy41VcUIAAEBcKnNxQgAAgId0kHFCAADAsr6tcUIAAMBDW8txQgAAwNT36HFCAABAmu8FckIAAIDFOSNyQgAAgFbWQHJCAACA53JeckIAAACtantyQgAAQNi0mHJCAABAaVG2ckIAAED67dNyQgAAwL/l8HJCAAAA6y8Oc0IAAAB8zCtzQgAAAA1pSXNCAABAOLNmc0IAAIBj/YNzQgAAgPSZoXNCAACAhTa/c0IAAABLLtxzQgAAQHZ4+XNCAABABxUXdEIAAECYsTR0QgAAwF2pUXRCAAAAifNudEIAAAAakIx0QgAAAKssqnRCAACAcCTHdEIAAMCbbuR0QgAAwCwLAnVCAADAvacfdUIAAADp8Tx1QgAAQBQ8WnVCAABApdh3dUIAAEA2dZV1QgAAwPtssnVCAAAAJ7fPdUIAAAC4U+11QgAAAEnwCnZCAACADugndkIAAMA5MkV2QgAAwMrOYnZCAADAW2uAdkIAAEAhY512QgAAgEytunZCAACA3UnYdkIAAIBu5vV2QgAAwJkwE3dCAAAAxXowd0IAAABWF053QgAAAOeza3dCAACArKuId0I=\",\"dtype\":\"float64\",\"order\":\"little\",\"shape\":[166]},\"value\":{\"__ndarray__\":\"Gy/dJAa6ukCe76fGCy26QEa28/0UJbpASgwCK+ehukCF61G4fie7QBSuR+H687pARIts55tGu0CWQ4tsh/q6QPhT46U7j7pATDeJQUCuukAlBoGVI5S6QKwcWmTblrpADi2ynY/wukAAAAAAgI27QC/dJAaBGrxAtvP91JiwvEBvEoPAKkC9QOkmMQiMwb1Aj8L1KPwKvkCiRbbzHUq+QPYoXI9Clb5Abef7qTHavkB3vp8az1K/QNejcD1qjr9AYhBYOdTZv0BkO99Pjf6/QOF6FK53JsBABoGVQ6s8wECNl24So1vAQD0K16PQiMBAmpmZmYmtwEC28/3U2PbAQLbz/dRIDcFAcT0K16NGwUBWDi2yjWDBQFTjpZvUm8FAeekmMajJwUDl0CLbaezBQMUgsHJoDsJAYhBYOYQXwkDVeOkmIUrCQHe+nxofW8JAHVpkOz9ewkCmm8QgcDPCQNnO91OjHcJA2/l+asxBwkBvEoPAalnCQH0/NV7KacJAtvP91DiiwkCq8dJN8tXCQOF6FK6XBcNA8tJNYmA4w0DhehSul0DDQB+F61FIXcNAtMh2vu90w0CTGARWrrjDQAaBlUOr6cNAw/UoXL8uxEDn+6nx8kzEQGDl0CJ7iMRAppvEICCbxECBlUOL3KrEQDm0yHbe18RAi2zn+xn8xEDByqFFViTFQJ7vp8abfsVA4XoUrvevxUA5tMh2nunFQOxRuB7VDcZA16NwPaprxkBU46WbdLPGQNv5fmpc5cZAppvEIPAfx0DRItv5vlbHQMUgsHKYocdAkxgEVl4DyEAlBoGVYz3IQGIQWDk0cchAGQRWDv3DyEAX2c73IyzJQEw3iUGgQ8lAWmQ731+5yUC4HoXr8b/JQAAAAAAg58lAppvEIKDRyUBQjZdusvrJQARWDi0S4MlA46WbxHDyyUCuR+F6dCnKQLByaJGtUspAK4cW2d5tykDP91PjtXbKQDvfT423mcpAVg4tso3WykC8dJMYFEnLQJhuEoOwmctAUrgehSvCy0AEVg4tgvnLQCPb+X7qPMxAj8L1KMyGzEA1XrpJ7NfMQCPb+X7a+8xAke18PyU2zUBWDi2ynWDNQAaBlUMLxs1AMzMzM8PYzUAEVg4tQuTNQKrx0k3SJM5AfT81Xno7zkDLoUW242zOQArXo3DNm85AnMQgsJLLzkAX2c73c6vOQOf7qfFi2M5ALbKd78euzkBWDi2yTQPOQM3MzMy8qc1AQmDl0OKczUBCYOXQUrjNQHE9CteTCc5AO99PjQcwzkDy0k1i0HrOQLx0kxgkt85Aw/UoXP/fzkBU46Wb9MzOQKwcWmRrAs9AO99PjVf/zkDl0CLbWVjPQESLbOf7mc9Ac2iR7dy+z0DZzvdTE83PQK5H4XoE1s9ApHA9Cl8O0EA/NV66GRTQQDvfT42vNNBAPQrXozBS0ECHFtnOj0PQQNEi2/kGedBAlkOLbCeq0ECkcD0KT73QQCGwcmgp4NBAAAAAADj50EDsUbgeRQfRQBkEVg6lDdFAKVyPwl0n0UC+nxovpTTRQPCnxksfT9FAcT0K1yNl0UBaZDvfJ3rRQNnO91Mzk9FAObTIdo6z0UBxPQrXK97RQOOlm8QQAdJATDeJQYAn0kCTGARW5j3SQIts5/tRSNJArkfhekxk0kASg8DKoYnSQBKDwMopqtJAcT0K15PA0kBoke18/4HSQOxRuB6N2tBAx0s3iTEg0kASg8DK8VPSQLgehevpm9JABoGVQ4vn0kA=\",\"dtype\":\"float64\",\"order\":\"little\",\"shape\":[166]}},\"selected\":{\"id\":\"2965\"},\"selection_policy\":{\"id\":\"2993\"}},\"id\":\"2964\",\"type\":\"ColumnDataSource\"},{\"attributes\":{\"months\":[0,6]},\"id\":\"2990\",\"type\":\"MonthsTicker\"},{\"attributes\":{\"base\":24,\"mantissas\":[1,2,4,6,8,12],\"max_interval\":43200000.0,\"min_interval\":3600000.0,\"num_minor_ticks\":0},\"id\":\"2982\",\"type\":\"AdaptiveTicker\"},{\"attributes\":{\"line_alpha\":0.2,\"line_color\":\"#fc4f30\",\"line_width\":2,\"x\":{\"field\":\"index\"},\"y\":{\"field\":\"value\"}},\"id\":\"3002\",\"type\":\"Line\"},{\"attributes\":{\"axis_label\":\"\",\"formatter\":{\"id\":\"2958\"},\"major_label_policy\":{\"id\":\"2960\"},\"ticker\":{\"id\":\"2938\"}},\"id\":\"2937\",\"type\":\"DatetimeAxis\"},{\"attributes\":{\"click_policy\":\"mute\",\"items\":[{\"id\":\"2995\"},{\"id\":\"3029\"}],\"location\":[0,0],\"title\":\"Variable\"},\"id\":\"2994\",\"type\":\"Legend\"},{\"attributes\":{\"source\":{\"id\":\"2997\"}},\"id\":\"3004\",\"type\":\"CDSView\"},{\"attributes\":{\"data\":{\"Variable\":[\"M2\",\"M2\",\"M2\",\"M2\",\"M2\",\"M2\",\"M2\",\"M2\",\"M2\",\"M2\",\"M2\",\"M2\",\"M2\",\"M2\",\"M2\",\"M2\",\"M2\",\"M2\",\"M2\",\"M2\",\"M2\",\"M2\",\"M2\",\"M2\",\"M2\",\"M2\",\"M2\",\"M2\",\"M2\",\"M2\",\"M2\",\"M2\",\"M2\",\"M2\",\"M2\",\"M2\",\"M2\",\"M2\",\"M2\",\"M2\",\"M2\",\"M2\",\"M2\",\"M2\",\"M2\",\"M2\",\"M2\",\"M2\",\"M2\",\"M2\",\"M2\",\"M2\",\"M2\",\"M2\",\"M2\",\"M2\",\"M2\",\"M2\",\"M2\",\"M2\",\"M2\",\"M2\",\"M2\",\"M2\",\"M2\",\"M2\",\"M2\",\"M2\",\"M2\",\"M2\",\"M2\",\"M2\",\"M2\",\"M2\",\"M2\",\"M2\",\"M2\",\"M2\",\"M2\",\"M2\",\"M2\",\"M2\",\"M2\",\"M2\",\"M2\",\"M2\",\"M2\",\"M2\",\"M2\",\"M2\",\"M2\",\"M2\",\"M2\",\"M2\",\"M2\",\"M2\",\"M2\",\"M2\",\"M2\",\"M2\",\"M2\",\"M2\",\"M2\",\"M2\",\"M2\",\"M2\",\"M2\",\"M2\",\"M2\",\"M2\",\"M2\",\"M2\",\"M2\",\"M2\",\"M2\",\"M2\",\"M2\",\"M2\",\"M2\",\"M2\",\"M2\",\"M2\",\"M2\",\"M2\",\"M2\",\"M2\",\"M2\",\"M2\",\"M2\",\"M2\",\"M2\",\"M2\",\"M2\",\"M2\",\"M2\",\"M2\",\"M2\",\"M2\",\"M2\",\"M2\",\"M2\",\"M2\",\"M2\",\"M2\",\"M2\",\"M2\",\"M2\",\"M2\",\"M2\",\"M2\",\"M2\",\"M2\",\"M2\",\"M2\",\"M2\",\"M2\",\"M2\",\"M2\",\"M2\",\"M2\",\"M2\",\"M2\",\"M2\",\"M2\",\"M2\",\"M2\"],\"index\":{\"__ndarray__\":\"AAAAHM5dUkIAAADJ9tJSQgAAAHYfSFNCAAAAupG+U0IAAAD+AzVUQgAAABTjqFRCAAAAwQseVUIAAAAFfpRVQgAAAEnwClZCAAAAX89+VkIAAAAM+PNWQgAAAFBqaldCAAAAlNzgV0IAAACqu1RYQgAAAFfkyVhCAAAAm1ZAWUIAAADfyLZZQgAAAIzxK1pCAAAAORqhWkIAAAB9jBdbQgAAAMH+jVtCAAAA190BXEIAAACEBndcQgAAAMh47VxCAAAADOtjXUIAAAAiytddQgAAAM/yTF5CAAAAE2XDXkIAAABX1zlfQgAAAG22rV9CAAAAjW8RYEIAAACvqExgQgAAANHhh2BCAACAJ3bCYEIAAAB+Cv1gQgAAAKBDOGFCAAAAwnxzYUIAAABNbK1hQgAAgKMA6GFCAACAxTkjYkIAAIDncl5iQgAAgHJimGJCAAAAyfbSYkIAAADrLw5jQgAAAA1pSWNCAAAAmFiDY0IAAIDu7L1jQgAAgBAm+WNCAACAMl80ZEIAAACJ825kQgAAgN+HqWRCAACAAcHkZEIAAIAj+h9lQgAAgK7pWWVCAAAABX6UZUIAAAAnt89lQgAAAEnwCmZCAAAA1N9EZkIAAIAqdH9mQgAAgEytumZCAACAbub1ZkIAAID51S9nQgAAAFBqamdCAAAAcqOlZ0IAAACU3OBnQgAAgOpwG2hCAAAAQQVWaEIAAABjPpFoQgAAAIV3zGhCAAAAEGcGaUIAAIBm+0BpQgAAgIg0fGlCAACAqm23aUIAAIA1XfFpQgAAAIzxK2pCAAAAripnakIAAADQY6JqQgAAAFtT3GpCAACAsecWa0IAAIDTIFJrQgAAgPVZjWtCAAAATO7Ha0IAAICiggJsQgAAgMS7PWxCAACA5vR4bEIAAIBx5LJsQgAAAMh47WxCAAAA6rEobUIAAAAM62NtQgAAAJfanW1CAACA7W7YbUIAAIAPqBNuQgAAgDHhTm5CAACAvNCIbkIAAAATZcNuQgAAADWe/m5CAAAAV9c5b0IAAICta3RvQgAAAAQAr29CAAAAJjnqb0IAAAAkuRJwQgAAgOmwL3BCAADAFPtMcEIAAMCll2pwQgAAwDY0iHBCAABA/CulcEIAAIAndsJwQgAAgLgS4HBCAACASa/9cEIAAAAPpxpxQgAAQDrxN3FCAABAy41VcUIAAEBcKnNxQgAAgId0kHFCAADAsr6tcUIAAMBDW8txQgAAwNT36HFCAABAmu8FckIAAIDFOSNyQgAAgFbWQHJCAACA53JeckIAAACtantyQgAAQNi0mHJCAABAaVG2ckIAAED67dNyQgAAwL/l8HJCAAAA6y8Oc0IAAAB8zCtzQgAAAA1pSXNCAABAOLNmc0IAAIBj/YNzQgAAgPSZoXNCAACAhTa/c0IAAABLLtxzQgAAQHZ4+XNCAABABxUXdEIAAECYsTR0QgAAwF2pUXRCAAAAifNudEIAAAAakIx0QgAAAKssqnRCAACAcCTHdEIAAMCbbuR0QgAAwCwLAnVCAADAvacfdUIAAADp8Tx1QgAAQBQ8WnVCAABApdh3dUIAAEA2dZV1QgAAwPtssnVCAAAAJ7fPdUIAAAC4U+11QgAAAEnwCnZCAACADugndkIAAMA5MkV2QgAAwMrOYnZCAADAW2uAdkIAAEAhY512QgAAgEytunZCAACA3UnYdkIAAIBu5vV2QgAAwJkwE3dCAAAAxXowd0IAAABWF053QgAAAOeza3dCAACArKuId0I=\",\"dtype\":\"float64\",\"order\":\"little\",\"shape\":[166]},\"value\":{\"__ndarray__\":\"zczMzMwql0DNzMzMzHiXQAAAAAAAJphAMzMzMzPDmECamZmZmRuZQM3MzMzM7JlAmpmZmZlHmkAzMzMzM+eaQJqZmZmZqZtAmpmZmZkvnEAAAAAAAJ6cQM3MzMzMNp1AmpmZmZmdnkBmZmZmZrKfQJqZmZmZIaBAZmZmZmZmoEBmZmZmZrSgQGZmZmZmH6FAAAAAAABfoUDNzMzMzKWhQM3MzMzMOKJAzczMzMyOokAAAAAAAPuiQAAAAAAASKNAMzMzMzOMo0CamZmZmfujQDMzMzMzhaRAzczMzMz+pEDNzMzMzG+lQGZmZmZmn6VAAAAAAAC2pUCamZmZmf2lQM3MzMzMPqZAZmZmZma9pkBmZmZmZganQJqZmZmZKqdAZmZmZmZfp0AAAAAAAHynQM3MzMzM2KdAMzMzMzNUqECamZmZmb2oQDMzMzMzA6lAAAAAAAAxqUCamZmZmXapQGZmZmZmr6lAzczMzMwIqkAzMzMzMziqQDMzMzMzQKpAZmZmZmZqqkBmZmZmZo+qQM3MzMzMg6pAmpmZmZm/qkAzMzMzM7aqQJqZmZmZpqpAAAAAAADkqkBmZmZmZgGrQM3MzMzMJatAmpmZmZkyq0BmZmZmZkCrQJqZmZmZOKtAzczMzMxIq0BmZmZmZlarQM3MzMzM3qtAzczMzMw6rEDNzMzMzH+sQJqZmZmZ46xAZmZmZmYyrUDNzMzMzHmtQGZmZmZm9a1AmpmZmZlKrkBmZmZmZqiuQGZmZmZmMa9AMzMzMzOxr0CamZmZmSywQGZmZmZmbLBAZmZmZmbUsEDNzMzMTDOxQGZmZmZmbbFAMzMzMzO3sUAzMzMzM/CxQGZmZmbmOrJAzczMzMyeskAAAAAAALayQDMzMzOzBbNAzczMzMxvs0BmZmZm5g+0QDMzMzMzU7RAzczMzMzYtEBmZmZm5k21QAAAAACAd7VAMzMzMzPVtUCamZmZmUS2QAAAAACArLZAzczMzMwKt0CamZmZmZq3QJqZmZmZr7dAAAAAAIC7t0CamZmZGS+4QGZmZmbmi7hAZmZmZubkuECamZmZGRi5QDMzMzOzN7lAmpmZmRmJuUCamZmZGe65QJqZmZmZQ7pAmpmZmZmPukDNzMzMzOW6QM3MzMzMULtAAAAAAIDEu0AAAAAAgD68QM3MzMzMi7xAmpmZmRn4vEDNzMzMzFC9QDMzMzMzEr5AMzMzMzNevkAzMzMzMx+/QGZmZmamKcBAmpmZmdlawEBmZmZm5n7AQAAAAADAi8BAAAAAAECFwEBmZmZm5qvAQDMzMzOz1cBAZmZmZuYWwUCamZmZmTvBQDMzMzNzlsFAAAAAAIAywkAAAAAAwK3CQM3MzMzMA8NAAAAAAABTw0AAAAAAwKXDQGZmZmZmCsRAzczMzIx4xECamZmZ2bDEQDMzMzMz9sRAzczMzAxkxUAzMzMz86PFQM3MzMyM/8VAMzMzM7NWxkDNzMzMDJXGQDMzMzOz8cZAzczMzIxNx0AzMzMz84vHQAAAAABA0sdAMzMzM/NdyEAAAAAAwM7IQAAAAAAAL8lAzczMzMyYyUBmZmZmpvfJQJqZmZmZWspAzczMzAyeykCamZmZ2eXKQM3MzMwMGstAAAAAAMBay0AzMzMzs6fLQJqZmZnZz8tAZmZmZmY3zECamZmZWXbMQM3MzMwMB81AmpmZmVmazUAAAAAAABnOQJqZmZm5pNBAAAAAAADk0UBmZmZmxk/SQAAAAAAg8dJAmpmZmfml00A=\",\"dtype\":\"float64\",\"order\":\"little\",\"shape\":[166]}},\"selected\":{\"id\":\"2998\"},\"selection_policy\":{\"id\":\"3028\"}},\"id\":\"2997\",\"type\":\"ColumnDataSource\"},{\"attributes\":{\"data_source\":{\"id\":\"2997\"},\"glyph\":{\"id\":\"3000\"},\"hover_glyph\":null,\"muted_glyph\":{\"id\":\"3002\"},\"nonselection_glyph\":{\"id\":\"3001\"},\"selection_glyph\":{\"id\":\"3030\"},\"view\":{\"id\":\"3004\"}},\"id\":\"3003\",\"type\":\"GlyphRenderer\"},{\"attributes\":{},\"id\":\"2935\",\"type\":\"LinearScale\"},{\"attributes\":{},\"id\":\"2991\",\"type\":\"YearsTicker\"},{\"attributes\":{\"margin\":[5,5,5,5],\"name\":\"HSpacer03749\",\"sizing_mode\":\"stretch_width\"},\"id\":\"2923\",\"type\":\"Spacer\"},{\"attributes\":{\"axis_label\":\"\",\"formatter\":{\"id\":\"2961\"},\"major_label_policy\":{\"id\":\"2963\"},\"ticker\":{\"id\":\"2942\"}},\"id\":\"2941\",\"type\":\"LinearAxis\"},{\"attributes\":{\"data_source\":{\"id\":\"2964\"},\"glyph\":{\"id\":\"2967\"},\"hover_glyph\":null,\"muted_glyph\":{\"id\":\"2969\"},\"nonselection_glyph\":{\"id\":\"2968\"},\"selection_glyph\":{\"id\":\"2996\"},\"view\":{\"id\":\"2971\"}},\"id\":\"2970\",\"type\":\"GlyphRenderer\"},{\"attributes\":{},\"id\":\"2993\",\"type\":\"UnionRenderers\"},{\"attributes\":{\"axis\":{\"id\":\"2937\"},\"grid_line_color\":null,\"ticker\":null},\"id\":\"2940\",\"type\":\"Grid\"},{\"attributes\":{\"below\":[{\"id\":\"2937\"}],\"center\":[{\"id\":\"2940\"},{\"id\":\"2944\"}],\"height\":300,\"left\":[{\"id\":\"2941\"}],\"margin\":[5,5,5,5],\"min_border_bottom\":10,\"min_border_left\":10,\"min_border_right\":10,\"min_border_top\":10,\"renderers\":[{\"id\":\"2970\"},{\"id\":\"3003\"}],\"right\":[{\"id\":\"2994\"}],\"sizing_mode\":\"fixed\",\"title\":{\"id\":\"2929\"},\"toolbar\":{\"id\":\"2951\"},\"width\":700,\"x_range\":{\"id\":\"2924\"},\"x_scale\":{\"id\":\"2933\"},\"y_range\":{\"id\":\"2925\"},\"y_scale\":{\"id\":\"2935\"}},\"id\":\"2928\",\"subtype\":\"Figure\",\"type\":\"Plot\"},{\"attributes\":{\"end\":21983.620000000003,\"reset_end\":21983.620000000003,\"reset_start\":-381.0200000000002,\"start\":-381.0200000000002,\"tags\":[[[\"value\",\"value\",null]]]},\"id\":\"2925\",\"type\":\"Range1d\"},{\"attributes\":{},\"id\":\"2960\",\"type\":\"AllLabels\"},{\"attributes\":{},\"id\":\"2963\",\"type\":\"AllLabels\"},{\"attributes\":{\"margin\":[5,5,5,5],\"name\":\"HSpacer03750\",\"sizing_mode\":\"stretch_width\"},\"id\":\"3247\",\"type\":\"Spacer\"},{\"attributes\":{\"axis\":{\"id\":\"2941\"},\"dimension\":1,\"grid_line_color\":null,\"ticker\":null},\"id\":\"2944\",\"type\":\"Grid\"},{\"attributes\":{},\"id\":\"2942\",\"type\":\"BasicTicker\"},{\"attributes\":{\"base\":60,\"mantissas\":[1,2,5,10,15,20,30],\"max_interval\":1800000.0,\"min_interval\":1000.0,\"num_minor_ticks\":0},\"id\":\"2981\",\"type\":\"AdaptiveTicker\"},{\"attributes\":{\"line_color\":\"#fc4f30\",\"line_width\":2,\"x\":{\"field\":\"index\"},\"y\":{\"field\":\"value\"}},\"id\":\"3000\",\"type\":\"Line\"},{\"attributes\":{\"mantissas\":[1,2,5],\"max_interval\":500.0,\"num_minor_ticks\":0},\"id\":\"2980\",\"type\":\"AdaptiveTicker\"},{\"attributes\":{},\"id\":\"2998\",\"type\":\"Selection\"},{\"attributes\":{\"end\":1617235200000.0,\"reset_end\":1617235200000.0,\"reset_start\":315532800000.0,\"start\":315532800000.0,\"tags\":[[[\"index\",\"index\",null]]]},\"id\":\"2924\",\"type\":\"Range1d\"},{\"attributes\":{},\"id\":\"2933\",\"type\":\"LinearScale\"}],\"root_ids\":[\"2922\"]},\"title\":\"Bokeh Application\",\"version\":\"2.3.2\"}};\n",
       "    var render_items = [{\"docid\":\"31a12973-d5bb-4340-b12f-aa4f6668b80c\",\"root_ids\":[\"2922\"],\"roots\":{\"2922\":\"86177ae4-4293-40d9-87df-1c4b81e4a7e4\"}}];\n",
       "    root.Bokeh.embed.embed_items_notebook(docs_json, render_items);\n",
       "  }\n",
       "  if (root.Bokeh !== undefined && root.Bokeh.Panel !== undefined && root['Plotly'] !== undefined ) {\n",
       "    embed_document(root);\n",
       "  } else {\n",
       "    var attempts = 0;\n",
       "    var timer = setInterval(function(root) {\n",
       "      if (root.Bokeh !== undefined && root.Bokeh.Panel !== undefined && root['Plotly'] !== undefined) {\n",
       "        clearInterval(timer);\n",
       "        embed_document(root);\n",
       "      } else if (document.readyState == \"complete\") {\n",
       "        attempts++;\n",
       "        if (attempts > 100) {\n",
       "          clearInterval(timer);\n",
       "          console.log(\"Bokeh: ERROR: Unable to run BokehJS code because BokehJS library is missing\");\n",
       "        }\n",
       "      }\n",
       "    }, 10, root)\n",
       "  }\n",
       "})(window);</script>"
      ],
      "text/plain": [
       ":NdOverlay   [Variable]\n",
       "   :Curve   [index]   (value)"
      ]
     },
     "execution_count": 32,
     "metadata": {
      "application/vnd.holoviews_exec.v0+json": {
       "id": "2922"
      }
     },
     "output_type": "execute_result"
    }
   ],
   "source": [
    "m2_real_gdp_df.hvplot()"
   ]
  },
  {
   "cell_type": "markdown",
   "id": "8a122d89-45aa-464b-baa7-87f9a5cbb265",
   "metadata": {},
   "source": [
    "## Make focused Line PLot for each event: Add Markers.\n",
    "- Pandemic: Jan. 1 2020 - 7.31.2021\n",
    "- Financial Crisis: June 2007 - Dec. 31, 2009\n",
    "- September 11: September 11, 2001"
   ]
  },
  {
   "cell_type": "markdown",
   "id": "3d358de7-b61a-41fe-bc6c-c92d20a00a64",
   "metadata": {},
   "source": [
    "### Get Documentation on VLine:\n",
    "hv.help(hv.VLine)"
   ]
  },
  {
   "cell_type": "code",
   "execution_count": 59,
   "id": "2f9d0cf0-f4c5-466b-aced-32cb7262cc7c",
   "metadata": {
    "tags": []
   },
   "outputs": [
    {
     "data": {},
     "metadata": {},
     "output_type": "display_data"
    },
    {
     "data": {
      "application/vnd.holoviews_exec.v0+json": "",
      "text/html": [
       "<div id='10813'>\n",
       "\n",
       "\n",
       "\n",
       "\n",
       "\n",
       "  <div class=\"bk-root\" id=\"ceb202c0-cf64-40b3-b60e-decb40ddce8e\" data-root-id=\"10813\"></div>\n",
       "</div>\n",
       "<script type=\"application/javascript\">(function(root) {\n",
       "  function embed_document(root) {\n",
       "    var docs_json = {\"3ae0d524-829f-489d-ab60-db47945059de\":{\"defs\":[],\"roots\":{\"references\":[{\"attributes\":{\"below\":[{\"id\":\"10828\"}],\"center\":[{\"id\":\"10831\"},{\"id\":\"10835\"}],\"height\":300,\"left\":[{\"id\":\"10832\"}],\"margin\":[5,5,5,5],\"min_border_bottom\":10,\"min_border_left\":10,\"min_border_right\":10,\"min_border_top\":10,\"renderers\":[{\"id\":\"10861\"},{\"id\":\"10894\"},{\"id\":\"11092\"},{\"id\":\"11098\"}],\"right\":[{\"id\":\"10885\"}],\"sizing_mode\":\"fixed\",\"title\":{\"id\":\"10820\"},\"toolbar\":{\"id\":\"10842\"},\"width\":700,\"x_range\":{\"id\":\"10815\"},\"x_scale\":{\"id\":\"10824\"},\"y_range\":{\"id\":\"10816\"},\"y_scale\":{\"id\":\"10826\"}},\"id\":\"10819\",\"subtype\":\"Figure\",\"type\":\"Plot\"},{\"attributes\":{\"line_color\":\"#30a2da\",\"line_width\":2,\"x\":{\"field\":\"index\"},\"y\":{\"field\":\"value\"}},\"id\":\"10858\",\"type\":\"Line\"},{\"attributes\":{\"end\":21983.620000000003,\"reset_end\":21983.620000000003,\"reset_start\":-381.0200000000002,\"start\":-381.0200000000002,\"tags\":[[[\"value\",\"value\",null]]]},\"id\":\"10816\",\"type\":\"Range1d\"},{\"attributes\":{\"active_multi\":null,\"tools\":[{\"id\":\"10817\"},{\"id\":\"10836\"},{\"id\":\"10837\"},{\"id\":\"10838\"},{\"id\":\"10839\"},{\"id\":\"10840\"}]},\"id\":\"10842\",\"type\":\"Toolbar\"},{\"attributes\":{\"angle\":{\"value\":0.0},\"text\":{\"field\":\"text\"},\"text_align\":{\"value\":\"center\"},\"text_alpha\":{\"value\":1.0},\"text_baseline\":{\"value\":\"middle\"},\"text_color\":{\"value\":\"black\"},\"text_font_size\":{\"value\":\"12Pt\"},\"text_font_style\":{\"value\":\"normal\"},\"text_line_height\":{\"value\":1.2},\"x\":{\"field\":\"x\"},\"x_offset\":{\"value\":0},\"y\":{\"field\":\"y\"},\"y_offset\":{\"value\":0}},\"id\":\"11100\",\"type\":\"Text\"},{\"attributes\":{\"bottom_units\":\"screen\",\"fill_alpha\":0.5,\"fill_color\":\"lightgrey\",\"left_units\":\"screen\",\"level\":\"overlay\",\"line_alpha\":1.0,\"line_color\":\"black\",\"line_dash\":[4,4],\"line_width\":2,\"right_units\":\"screen\",\"syncable\":false,\"top_units\":\"screen\"},\"id\":\"10841\",\"type\":\"BoxAnnotation\"},{\"attributes\":{\"days\":[1,2,3,4,5,6,7,8,9,10,11,12,13,14,15,16,17,18,19,20,21,22,23,24,25,26,27,28,29,30,31]},\"id\":\"10874\",\"type\":\"DaysTicker\"},{\"attributes\":{\"text_align\":{\"value\":\"center\"},\"text_alpha\":{\"value\":0.1},\"text_baseline\":{\"value\":\"middle\"},\"text_color\":{\"value\":\"black\"},\"text_font_size\":{\"value\":\"12Pt\"},\"x\":{\"field\":\"x\"},\"y\":{\"field\":\"y\"}},\"id\":\"11097\",\"type\":\"Text\"},{\"attributes\":{\"base\":60,\"mantissas\":[1,2,5,10,15,20,30],\"max_interval\":1800000.0,\"min_interval\":1000.0,\"num_minor_ticks\":0},\"id\":\"10872\",\"type\":\"AdaptiveTicker\"},{\"attributes\":{\"base\":24,\"mantissas\":[1,2,4,6,8,12],\"max_interval\":43200000.0,\"min_interval\":3600000.0,\"num_minor_ticks\":0},\"id\":\"10873\",\"type\":\"AdaptiveTicker\"},{\"attributes\":{\"line_color\":\"#fc4f30\",\"line_width\":2,\"x\":{\"field\":\"index\"},\"y\":{\"field\":\"value\"}},\"id\":\"10921\",\"type\":\"Line\"},{\"attributes\":{\"line_alpha\":0.1,\"line_color\":\"#fc4f30\",\"line_width\":2,\"x\":{\"field\":\"index\"},\"y\":{\"field\":\"value\"}},\"id\":\"10892\",\"type\":\"Line\"},{\"attributes\":{\"days\":[1,4,7,10,13,16,19,22,25,28]},\"id\":\"10875\",\"type\":\"DaysTicker\"},{\"attributes\":{\"label\":{\"value\":\"M2\"},\"renderers\":[{\"id\":\"10894\"}]},\"id\":\"10920\",\"type\":\"LegendItem\"},{\"attributes\":{\"text_color\":\"black\",\"text_font_size\":\"12pt\"},\"id\":\"10820\",\"type\":\"Title\"},{\"attributes\":{\"months\":[0,1,2,3,4,5,6,7,8,9,10,11]},\"id\":\"10878\",\"type\":\"MonthsTicker\"},{\"attributes\":{\"days\":[1,8,15,22]},\"id\":\"10876\",\"type\":\"DaysTicker\"},{\"attributes\":{\"days\":[1,15]},\"id\":\"10877\",\"type\":\"DaysTicker\"},{\"attributes\":{\"axis_label\":\"\",\"formatter\":{\"id\":\"10849\"},\"major_label_policy\":{\"id\":\"10851\"},\"ticker\":{\"id\":\"10829\"}},\"id\":\"10828\",\"type\":\"DatetimeAxis\"},{\"attributes\":{\"data\":{\"Variable\":[\"Real GDP\",\"Real GDP\",\"Real GDP\",\"Real GDP\",\"Real GDP\",\"Real GDP\",\"Real GDP\",\"Real GDP\",\"Real GDP\",\"Real GDP\",\"Real GDP\",\"Real GDP\",\"Real GDP\",\"Real GDP\",\"Real GDP\",\"Real GDP\",\"Real GDP\",\"Real GDP\",\"Real GDP\",\"Real GDP\",\"Real GDP\",\"Real GDP\",\"Real GDP\",\"Real GDP\",\"Real GDP\",\"Real GDP\",\"Real GDP\",\"Real GDP\",\"Real GDP\",\"Real GDP\",\"Real GDP\",\"Real GDP\",\"Real GDP\",\"Real GDP\",\"Real GDP\",\"Real GDP\",\"Real GDP\",\"Real GDP\",\"Real GDP\",\"Real GDP\",\"Real GDP\",\"Real GDP\",\"Real GDP\",\"Real GDP\",\"Real GDP\",\"Real GDP\",\"Real GDP\",\"Real GDP\",\"Real GDP\",\"Real GDP\",\"Real GDP\",\"Real GDP\",\"Real GDP\",\"Real GDP\",\"Real GDP\",\"Real GDP\",\"Real GDP\",\"Real GDP\",\"Real GDP\",\"Real GDP\",\"Real GDP\",\"Real GDP\",\"Real GDP\",\"Real GDP\",\"Real GDP\",\"Real GDP\",\"Real GDP\",\"Real GDP\",\"Real GDP\",\"Real GDP\",\"Real GDP\",\"Real GDP\",\"Real GDP\",\"Real GDP\",\"Real GDP\",\"Real GDP\",\"Real GDP\",\"Real GDP\",\"Real GDP\",\"Real GDP\",\"Real GDP\",\"Real GDP\",\"Real GDP\",\"Real GDP\",\"Real GDP\",\"Real GDP\",\"Real GDP\",\"Real GDP\",\"Real GDP\",\"Real GDP\",\"Real GDP\",\"Real GDP\",\"Real GDP\",\"Real GDP\",\"Real GDP\",\"Real GDP\",\"Real GDP\",\"Real GDP\",\"Real GDP\",\"Real GDP\",\"Real GDP\",\"Real GDP\",\"Real GDP\",\"Real GDP\",\"Real GDP\",\"Real GDP\",\"Real GDP\",\"Real GDP\",\"Real GDP\",\"Real GDP\",\"Real GDP\",\"Real GDP\",\"Real GDP\",\"Real GDP\",\"Real GDP\",\"Real GDP\",\"Real GDP\",\"Real GDP\",\"Real GDP\",\"Real GDP\",\"Real GDP\",\"Real GDP\",\"Real GDP\",\"Real GDP\",\"Real GDP\",\"Real GDP\",\"Real GDP\",\"Real GDP\",\"Real GDP\",\"Real GDP\",\"Real GDP\",\"Real GDP\",\"Real GDP\",\"Real GDP\",\"Real GDP\",\"Real GDP\",\"Real GDP\",\"Real GDP\",\"Real GDP\",\"Real GDP\",\"Real GDP\",\"Real GDP\",\"Real GDP\",\"Real GDP\",\"Real GDP\",\"Real GDP\",\"Real GDP\",\"Real GDP\",\"Real GDP\",\"Real GDP\",\"Real GDP\",\"Real GDP\",\"Real GDP\",\"Real GDP\",\"Real GDP\",\"Real GDP\",\"Real GDP\",\"Real GDP\",\"Real GDP\",\"Real GDP\",\"Real GDP\",\"Real GDP\",\"Real GDP\",\"Real GDP\",\"Real GDP\",\"Real GDP\"],\"index\":{\"__ndarray__\":\"AAAAHM5dUkIAAADJ9tJSQgAAAHYfSFNCAAAAupG+U0IAAAD+AzVUQgAAABTjqFRCAAAAwQseVUIAAAAFfpRVQgAAAEnwClZCAAAAX89+VkIAAAAM+PNWQgAAAFBqaldCAAAAlNzgV0IAAACqu1RYQgAAAFfkyVhCAAAAm1ZAWUIAAADfyLZZQgAAAIzxK1pCAAAAORqhWkIAAAB9jBdbQgAAAMH+jVtCAAAA190BXEIAAACEBndcQgAAAMh47VxCAAAADOtjXUIAAAAiytddQgAAAM/yTF5CAAAAE2XDXkIAAABX1zlfQgAAAG22rV9CAAAAjW8RYEIAAACvqExgQgAAANHhh2BCAACAJ3bCYEIAAAB+Cv1gQgAAAKBDOGFCAAAAwnxzYUIAAABNbK1hQgAAgKMA6GFCAACAxTkjYkIAAIDncl5iQgAAgHJimGJCAAAAyfbSYkIAAADrLw5jQgAAAA1pSWNCAAAAmFiDY0IAAIDu7L1jQgAAgBAm+WNCAACAMl80ZEIAAACJ825kQgAAgN+HqWRCAACAAcHkZEIAAIAj+h9lQgAAgK7pWWVCAAAABX6UZUIAAAAnt89lQgAAAEnwCmZCAAAA1N9EZkIAAIAqdH9mQgAAgEytumZCAACAbub1ZkIAAID51S9nQgAAAFBqamdCAAAAcqOlZ0IAAACU3OBnQgAAgOpwG2hCAAAAQQVWaEIAAABjPpFoQgAAAIV3zGhCAAAAEGcGaUIAAIBm+0BpQgAAgIg0fGlCAACAqm23aUIAAIA1XfFpQgAAAIzxK2pCAAAAripnakIAAADQY6JqQgAAAFtT3GpCAACAsecWa0IAAIDTIFJrQgAAgPVZjWtCAAAATO7Ha0IAAICiggJsQgAAgMS7PWxCAACA5vR4bEIAAIBx5LJsQgAAAMh47WxCAAAA6rEobUIAAAAM62NtQgAAAJfanW1CAACA7W7YbUIAAIAPqBNuQgAAgDHhTm5CAACAvNCIbkIAAAATZcNuQgAAADWe/m5CAAAAV9c5b0IAAICta3RvQgAAAAQAr29CAAAAJjnqb0IAAAAkuRJwQgAAgOmwL3BCAADAFPtMcEIAAMCll2pwQgAAwDY0iHBCAABA/CulcEIAAIAndsJwQgAAgLgS4HBCAACASa/9cEIAAAAPpxpxQgAAQDrxN3FCAABAy41VcUIAAEBcKnNxQgAAgId0kHFCAADAsr6tcUIAAMBDW8txQgAAwNT36HFCAABAmu8FckIAAIDFOSNyQgAAgFbWQHJCAACA53JeckIAAACtantyQgAAQNi0mHJCAABAaVG2ckIAAED67dNyQgAAwL/l8HJCAAAA6y8Oc0IAAAB8zCtzQgAAAA1pSXNCAABAOLNmc0IAAIBj/YNzQgAAgPSZoXNCAACAhTa/c0IAAABLLtxzQgAAQHZ4+XNCAABABxUXdEIAAECYsTR0QgAAwF2pUXRCAAAAifNudEIAAAAakIx0QgAAAKssqnRCAACAcCTHdEIAAMCbbuR0QgAAwCwLAnVCAADAvacfdUIAAADp8Tx1QgAAQBQ8WnVCAABApdh3dUIAAEA2dZV1QgAAwPtssnVCAAAAJ7fPdUIAAAC4U+11QgAAAEnwCnZCAACADugndkIAAMA5MkV2QgAAwMrOYnZCAADAW2uAdkIAAEAhY512QgAAgEytunZCAACA3UnYdkIAAIBu5vV2QgAAwJkwE3dCAAAAxXowd0IAAABWF053QgAAAOeza3dCAACArKuId0I=\",\"dtype\":\"float64\",\"order\":\"little\",\"shape\":[166]},\"value\":{\"__ndarray__\":\"Gy/dJAa6ukCe76fGCy26QEa28/0UJbpASgwCK+ehukCF61G4fie7QBSuR+H687pARIts55tGu0CWQ4tsh/q6QPhT46U7j7pATDeJQUCuukAlBoGVI5S6QKwcWmTblrpADi2ynY/wukAAAAAAgI27QC/dJAaBGrxAtvP91JiwvEBvEoPAKkC9QOkmMQiMwb1Aj8L1KPwKvkCiRbbzHUq+QPYoXI9Clb5Abef7qTHavkB3vp8az1K/QNejcD1qjr9AYhBYOdTZv0BkO99Pjf6/QOF6FK53JsBABoGVQ6s8wECNl24So1vAQD0K16PQiMBAmpmZmYmtwEC28/3U2PbAQLbz/dRIDcFAcT0K16NGwUBWDi2yjWDBQFTjpZvUm8FAeekmMajJwUDl0CLbaezBQMUgsHJoDsJAYhBYOYQXwkDVeOkmIUrCQHe+nxofW8JAHVpkOz9ewkCmm8QgcDPCQNnO91OjHcJA2/l+asxBwkBvEoPAalnCQH0/NV7KacJAtvP91DiiwkCq8dJN8tXCQOF6FK6XBcNA8tJNYmA4w0DhehSul0DDQB+F61FIXcNAtMh2vu90w0CTGARWrrjDQAaBlUOr6cNAw/UoXL8uxEDn+6nx8kzEQGDl0CJ7iMRAppvEICCbxECBlUOL3KrEQDm0yHbe18RAi2zn+xn8xEDByqFFViTFQJ7vp8abfsVA4XoUrvevxUA5tMh2nunFQOxRuB7VDcZA16NwPaprxkBU46WbdLPGQNv5fmpc5cZAppvEIPAfx0DRItv5vlbHQMUgsHKYocdAkxgEVl4DyEAlBoGVYz3IQGIQWDk0cchAGQRWDv3DyEAX2c73IyzJQEw3iUGgQ8lAWmQ731+5yUC4HoXr8b/JQAAAAAAg58lAppvEIKDRyUBQjZdusvrJQARWDi0S4MlA46WbxHDyyUCuR+F6dCnKQLByaJGtUspAK4cW2d5tykDP91PjtXbKQDvfT423mcpAVg4tso3WykC8dJMYFEnLQJhuEoOwmctAUrgehSvCy0AEVg4tgvnLQCPb+X7qPMxAj8L1KMyGzEA1XrpJ7NfMQCPb+X7a+8xAke18PyU2zUBWDi2ynWDNQAaBlUMLxs1AMzMzM8PYzUAEVg4tQuTNQKrx0k3SJM5AfT81Xno7zkDLoUW242zOQArXo3DNm85AnMQgsJLLzkAX2c73c6vOQOf7qfFi2M5ALbKd78euzkBWDi2yTQPOQM3MzMy8qc1AQmDl0OKczUBCYOXQUrjNQHE9CteTCc5AO99PjQcwzkDy0k1i0HrOQLx0kxgkt85Aw/UoXP/fzkBU46Wb9MzOQKwcWmRrAs9AO99PjVf/zkDl0CLbWVjPQESLbOf7mc9Ac2iR7dy+z0DZzvdTE83PQK5H4XoE1s9ApHA9Cl8O0EA/NV66GRTQQDvfT42vNNBAPQrXozBS0ECHFtnOj0PQQNEi2/kGedBAlkOLbCeq0ECkcD0KT73QQCGwcmgp4NBAAAAAADj50EDsUbgeRQfRQBkEVg6lDdFAKVyPwl0n0UC+nxovpTTRQPCnxksfT9FAcT0K1yNl0UBaZDvfJ3rRQNnO91Mzk9FAObTIdo6z0UBxPQrXK97RQOOlm8QQAdJATDeJQYAn0kCTGARW5j3SQIts5/tRSNJArkfhekxk0kASg8DKoYnSQBKDwMopqtJAcT0K15PA0kBoke18/4HSQOxRuB6N2tBAx0s3iTEg0kASg8DK8VPSQLgehevpm9JABoGVQ4vn0kA=\",\"dtype\":\"float64\",\"order\":\"little\",\"shape\":[166]}},\"selected\":{\"id\":\"10856\"},\"selection_policy\":{\"id\":\"10884\"}},\"id\":\"10855\",\"type\":\"ColumnDataSource\"},{\"attributes\":{\"num_minor_ticks\":5,\"tickers\":[{\"id\":\"10871\"},{\"id\":\"10872\"},{\"id\":\"10873\"},{\"id\":\"10874\"},{\"id\":\"10875\"},{\"id\":\"10876\"},{\"id\":\"10877\"},{\"id\":\"10878\"},{\"id\":\"10879\"},{\"id\":\"10880\"},{\"id\":\"10881\"},{\"id\":\"10882\"}]},\"id\":\"10829\",\"type\":\"DatetimeTicker\"},{\"attributes\":{\"data_source\":{\"id\":\"10855\"},\"glyph\":{\"id\":\"10858\"},\"hover_glyph\":null,\"muted_glyph\":{\"id\":\"10860\"},\"nonselection_glyph\":{\"id\":\"10859\"},\"selection_glyph\":{\"id\":\"10887\"},\"view\":{\"id\":\"10862\"}},\"id\":\"10861\",\"type\":\"GlyphRenderer\"},{\"attributes\":{\"fill_alpha\":0.5,\"fill_color\":\"red\",\"left\":1577836800000.0,\"level\":\"glyph\",\"line_alpha\":0.5,\"line_color\":\"red\",\"right\":1625097600000.0},\"id\":\"11092\",\"type\":\"BoxAnnotation\"},{\"attributes\":{\"months\":[0,2,4,6,8,10]},\"id\":\"10879\",\"type\":\"MonthsTicker\"},{\"attributes\":{\"line_alpha\":0.1,\"line_color\":\"#30a2da\",\"line_width\":2,\"x\":{\"field\":\"index\"},\"y\":{\"field\":\"value\"}},\"id\":\"10859\",\"type\":\"Line\"},{\"attributes\":{\"months\":[0,4,8]},\"id\":\"10880\",\"type\":\"MonthsTicker\"},{\"attributes\":{},\"id\":\"10852\",\"type\":\"BasicTickFormatter\"},{\"attributes\":{},\"id\":\"10856\",\"type\":\"Selection\"},{\"attributes\":{\"data\":{\"Variable\":[\"M2\",\"M2\",\"M2\",\"M2\",\"M2\",\"M2\",\"M2\",\"M2\",\"M2\",\"M2\",\"M2\",\"M2\",\"M2\",\"M2\",\"M2\",\"M2\",\"M2\",\"M2\",\"M2\",\"M2\",\"M2\",\"M2\",\"M2\",\"M2\",\"M2\",\"M2\",\"M2\",\"M2\",\"M2\",\"M2\",\"M2\",\"M2\",\"M2\",\"M2\",\"M2\",\"M2\",\"M2\",\"M2\",\"M2\",\"M2\",\"M2\",\"M2\",\"M2\",\"M2\",\"M2\",\"M2\",\"M2\",\"M2\",\"M2\",\"M2\",\"M2\",\"M2\",\"M2\",\"M2\",\"M2\",\"M2\",\"M2\",\"M2\",\"M2\",\"M2\",\"M2\",\"M2\",\"M2\",\"M2\",\"M2\",\"M2\",\"M2\",\"M2\",\"M2\",\"M2\",\"M2\",\"M2\",\"M2\",\"M2\",\"M2\",\"M2\",\"M2\",\"M2\",\"M2\",\"M2\",\"M2\",\"M2\",\"M2\",\"M2\",\"M2\",\"M2\",\"M2\",\"M2\",\"M2\",\"M2\",\"M2\",\"M2\",\"M2\",\"M2\",\"M2\",\"M2\",\"M2\",\"M2\",\"M2\",\"M2\",\"M2\",\"M2\",\"M2\",\"M2\",\"M2\",\"M2\",\"M2\",\"M2\",\"M2\",\"M2\",\"M2\",\"M2\",\"M2\",\"M2\",\"M2\",\"M2\",\"M2\",\"M2\",\"M2\",\"M2\",\"M2\",\"M2\",\"M2\",\"M2\",\"M2\",\"M2\",\"M2\",\"M2\",\"M2\",\"M2\",\"M2\",\"M2\",\"M2\",\"M2\",\"M2\",\"M2\",\"M2\",\"M2\",\"M2\",\"M2\",\"M2\",\"M2\",\"M2\",\"M2\",\"M2\",\"M2\",\"M2\",\"M2\",\"M2\",\"M2\",\"M2\",\"M2\",\"M2\",\"M2\",\"M2\",\"M2\",\"M2\",\"M2\",\"M2\",\"M2\",\"M2\",\"M2\",\"M2\",\"M2\",\"M2\",\"M2\"],\"index\":{\"__ndarray__\":\"AAAAHM5dUkIAAADJ9tJSQgAAAHYfSFNCAAAAupG+U0IAAAD+AzVUQgAAABTjqFRCAAAAwQseVUIAAAAFfpRVQgAAAEnwClZCAAAAX89+VkIAAAAM+PNWQgAAAFBqaldCAAAAlNzgV0IAAACqu1RYQgAAAFfkyVhCAAAAm1ZAWUIAAADfyLZZQgAAAIzxK1pCAAAAORqhWkIAAAB9jBdbQgAAAMH+jVtCAAAA190BXEIAAACEBndcQgAAAMh47VxCAAAADOtjXUIAAAAiytddQgAAAM/yTF5CAAAAE2XDXkIAAABX1zlfQgAAAG22rV9CAAAAjW8RYEIAAACvqExgQgAAANHhh2BCAACAJ3bCYEIAAAB+Cv1gQgAAAKBDOGFCAAAAwnxzYUIAAABNbK1hQgAAgKMA6GFCAACAxTkjYkIAAIDncl5iQgAAgHJimGJCAAAAyfbSYkIAAADrLw5jQgAAAA1pSWNCAAAAmFiDY0IAAIDu7L1jQgAAgBAm+WNCAACAMl80ZEIAAACJ825kQgAAgN+HqWRCAACAAcHkZEIAAIAj+h9lQgAAgK7pWWVCAAAABX6UZUIAAAAnt89lQgAAAEnwCmZCAAAA1N9EZkIAAIAqdH9mQgAAgEytumZCAACAbub1ZkIAAID51S9nQgAAAFBqamdCAAAAcqOlZ0IAAACU3OBnQgAAgOpwG2hCAAAAQQVWaEIAAABjPpFoQgAAAIV3zGhCAAAAEGcGaUIAAIBm+0BpQgAAgIg0fGlCAACAqm23aUIAAIA1XfFpQgAAAIzxK2pCAAAAripnakIAAADQY6JqQgAAAFtT3GpCAACAsecWa0IAAIDTIFJrQgAAgPVZjWtCAAAATO7Ha0IAAICiggJsQgAAgMS7PWxCAACA5vR4bEIAAIBx5LJsQgAAAMh47WxCAAAA6rEobUIAAAAM62NtQgAAAJfanW1CAACA7W7YbUIAAIAPqBNuQgAAgDHhTm5CAACAvNCIbkIAAAATZcNuQgAAADWe/m5CAAAAV9c5b0IAAICta3RvQgAAAAQAr29CAAAAJjnqb0IAAAAkuRJwQgAAgOmwL3BCAADAFPtMcEIAAMCll2pwQgAAwDY0iHBCAABA/CulcEIAAIAndsJwQgAAgLgS4HBCAACASa/9cEIAAAAPpxpxQgAAQDrxN3FCAABAy41VcUIAAEBcKnNxQgAAgId0kHFCAADAsr6tcUIAAMBDW8txQgAAwNT36HFCAABAmu8FckIAAIDFOSNyQgAAgFbWQHJCAACA53JeckIAAACtantyQgAAQNi0mHJCAABAaVG2ckIAAED67dNyQgAAwL/l8HJCAAAA6y8Oc0IAAAB8zCtzQgAAAA1pSXNCAABAOLNmc0IAAIBj/YNzQgAAgPSZoXNCAACAhTa/c0IAAABLLtxzQgAAQHZ4+XNCAABABxUXdEIAAECYsTR0QgAAwF2pUXRCAAAAifNudEIAAAAakIx0QgAAAKssqnRCAACAcCTHdEIAAMCbbuR0QgAAwCwLAnVCAADAvacfdUIAAADp8Tx1QgAAQBQ8WnVCAABApdh3dUIAAEA2dZV1QgAAwPtssnVCAAAAJ7fPdUIAAAC4U+11QgAAAEnwCnZCAACADugndkIAAMA5MkV2QgAAwMrOYnZCAADAW2uAdkIAAEAhY512QgAAgEytunZCAACA3UnYdkIAAIBu5vV2QgAAwJkwE3dCAAAAxXowd0IAAABWF053QgAAAOeza3dCAACArKuId0I=\",\"dtype\":\"float64\",\"order\":\"little\",\"shape\":[166]},\"value\":{\"__ndarray__\":\"zczMzMwql0DNzMzMzHiXQAAAAAAAJphAMzMzMzPDmECamZmZmRuZQM3MzMzM7JlAmpmZmZlHmkAzMzMzM+eaQJqZmZmZqZtAmpmZmZkvnEAAAAAAAJ6cQM3MzMzMNp1AmpmZmZmdnkBmZmZmZrKfQJqZmZmZIaBAZmZmZmZmoEBmZmZmZrSgQGZmZmZmH6FAAAAAAABfoUDNzMzMzKWhQM3MzMzMOKJAzczMzMyOokAAAAAAAPuiQAAAAAAASKNAMzMzMzOMo0CamZmZmfujQDMzMzMzhaRAzczMzMz+pEDNzMzMzG+lQGZmZmZmn6VAAAAAAAC2pUCamZmZmf2lQM3MzMzMPqZAZmZmZma9pkBmZmZmZganQJqZmZmZKqdAZmZmZmZfp0AAAAAAAHynQM3MzMzM2KdAMzMzMzNUqECamZmZmb2oQDMzMzMzA6lAAAAAAAAxqUCamZmZmXapQGZmZmZmr6lAzczMzMwIqkAzMzMzMziqQDMzMzMzQKpAZmZmZmZqqkBmZmZmZo+qQM3MzMzMg6pAmpmZmZm/qkAzMzMzM7aqQJqZmZmZpqpAAAAAAADkqkBmZmZmZgGrQM3MzMzMJatAmpmZmZkyq0BmZmZmZkCrQJqZmZmZOKtAzczMzMxIq0BmZmZmZlarQM3MzMzM3qtAzczMzMw6rEDNzMzMzH+sQJqZmZmZ46xAZmZmZmYyrUDNzMzMzHmtQGZmZmZm9a1AmpmZmZlKrkBmZmZmZqiuQGZmZmZmMa9AMzMzMzOxr0CamZmZmSywQGZmZmZmbLBAZmZmZmbUsEDNzMzMTDOxQGZmZmZmbbFAMzMzMzO3sUAzMzMzM/CxQGZmZmbmOrJAzczMzMyeskAAAAAAALayQDMzMzOzBbNAzczMzMxvs0BmZmZm5g+0QDMzMzMzU7RAzczMzMzYtEBmZmZm5k21QAAAAACAd7VAMzMzMzPVtUCamZmZmUS2QAAAAACArLZAzczMzMwKt0CamZmZmZq3QJqZmZmZr7dAAAAAAIC7t0CamZmZGS+4QGZmZmbmi7hAZmZmZubkuECamZmZGRi5QDMzMzOzN7lAmpmZmRmJuUCamZmZGe65QJqZmZmZQ7pAmpmZmZmPukDNzMzMzOW6QM3MzMzMULtAAAAAAIDEu0AAAAAAgD68QM3MzMzMi7xAmpmZmRn4vEDNzMzMzFC9QDMzMzMzEr5AMzMzMzNevkAzMzMzMx+/QGZmZmamKcBAmpmZmdlawEBmZmZm5n7AQAAAAADAi8BAAAAAAECFwEBmZmZm5qvAQDMzMzOz1cBAZmZmZuYWwUCamZmZmTvBQDMzMzNzlsFAAAAAAIAywkAAAAAAwK3CQM3MzMzMA8NAAAAAAABTw0AAAAAAwKXDQGZmZmZmCsRAzczMzIx4xECamZmZ2bDEQDMzMzMz9sRAzczMzAxkxUAzMzMz86PFQM3MzMyM/8VAMzMzM7NWxkDNzMzMDJXGQDMzMzOz8cZAzczMzIxNx0AzMzMz84vHQAAAAABA0sdAMzMzM/NdyEAAAAAAwM7IQAAAAAAAL8lAzczMzMyYyUBmZmZmpvfJQJqZmZmZWspAzczMzAyeykCamZmZ2eXKQM3MzMwMGstAAAAAAMBay0AzMzMzs6fLQJqZmZnZz8tAZmZmZmY3zECamZmZWXbMQM3MzMwMB81AmpmZmVmazUAAAAAAABnOQJqZmZm5pNBAAAAAAADk0UBmZmZmxk/SQAAAAAAg8dJAmpmZmfml00A=\",\"dtype\":\"float64\",\"order\":\"little\",\"shape\":[166]}},\"selected\":{\"id\":\"10889\"},\"selection_policy\":{\"id\":\"10919\"}},\"id\":\"10888\",\"type\":\"ColumnDataSource\"},{\"attributes\":{\"margin\":[5,5,5,5],\"name\":\"HSpacer15172\",\"sizing_mode\":\"stretch_width\"},\"id\":\"10814\",\"type\":\"Spacer\"},{\"attributes\":{\"months\":[0,6]},\"id\":\"10881\",\"type\":\"MonthsTicker\"},{\"attributes\":{},\"id\":\"10826\",\"type\":\"LinearScale\"},{\"attributes\":{\"axis_label\":\"\",\"formatter\":{\"id\":\"10852\"},\"major_label_policy\":{\"id\":\"10854\"},\"ticker\":{\"id\":\"10833\"}},\"id\":\"10832\",\"type\":\"LinearAxis\"},{\"attributes\":{\"click_policy\":\"mute\",\"items\":[{\"id\":\"10886\"},{\"id\":\"10920\"}],\"location\":[0,0]},\"id\":\"10885\",\"type\":\"Legend\"},{\"attributes\":{\"axis\":{\"id\":\"10828\"},\"grid_line_color\":null,\"ticker\":null},\"id\":\"10831\",\"type\":\"Grid\"},{\"attributes\":{},\"id\":\"10849\",\"type\":\"DatetimeTickFormatter\"},{\"attributes\":{\"mantissas\":[1,2,5],\"max_interval\":500.0,\"num_minor_ticks\":0},\"id\":\"10871\",\"type\":\"AdaptiveTicker\"},{\"attributes\":{},\"id\":\"10882\",\"type\":\"YearsTicker\"},{\"attributes\":{},\"id\":\"10884\",\"type\":\"UnionRenderers\"},{\"attributes\":{\"margin\":[5,5,5,5],\"name\":\"HSpacer15173\",\"sizing_mode\":\"stretch_width\"},\"id\":\"11335\",\"type\":\"Spacer\"},{\"attributes\":{},\"id\":\"10833\",\"type\":\"BasicTicker\"},{\"attributes\":{\"line_alpha\":0.2,\"line_color\":\"#30a2da\",\"line_width\":2,\"x\":{\"field\":\"index\"},\"y\":{\"field\":\"value\"}},\"id\":\"10860\",\"type\":\"Line\"},{\"attributes\":{\"axis\":{\"id\":\"10832\"},\"dimension\":1,\"grid_line_color\":null,\"ticker\":null},\"id\":\"10835\",\"type\":\"Grid\"},{\"attributes\":{},\"id\":\"10851\",\"type\":\"AllLabels\"},{\"attributes\":{},\"id\":\"10854\",\"type\":\"AllLabels\"},{\"attributes\":{},\"id\":\"11126\",\"type\":\"UnionRenderers\"},{\"attributes\":{\"label\":{\"value\":\"Real GDP\"},\"renderers\":[{\"id\":\"10861\"}]},\"id\":\"10886\",\"type\":\"LegendItem\"},{\"attributes\":{},\"id\":\"10919\",\"type\":\"UnionRenderers\"},{\"attributes\":{},\"id\":\"10836\",\"type\":\"SaveTool\"},{\"attributes\":{\"source\":{\"id\":\"10855\"}},\"id\":\"10862\",\"type\":\"CDSView\"},{\"attributes\":{},\"id\":\"10837\",\"type\":\"PanTool\"},{\"attributes\":{},\"id\":\"10840\",\"type\":\"ResetTool\"},{\"attributes\":{\"line_color\":\"#30a2da\",\"line_width\":2,\"x\":{\"field\":\"index\"},\"y\":{\"field\":\"value\"}},\"id\":\"10887\",\"type\":\"Line\"},{\"attributes\":{\"source\":{\"id\":\"10888\"}},\"id\":\"10895\",\"type\":\"CDSView\"},{\"attributes\":{},\"id\":\"10838\",\"type\":\"WheelZoomTool\"},{\"attributes\":{\"line_alpha\":0.2,\"line_color\":\"#fc4f30\",\"line_width\":2,\"x\":{\"field\":\"index\"},\"y\":{\"field\":\"value\"}},\"id\":\"10893\",\"type\":\"Line\"},{\"attributes\":{\"text_align\":{\"value\":\"center\"},\"text_baseline\":{\"value\":\"middle\"},\"text_color\":{\"value\":\"black\"},\"text_font_size\":{\"value\":\"12Pt\"},\"x\":{\"field\":\"x\"},\"y\":{\"field\":\"y\"}},\"id\":\"11096\",\"type\":\"Text\"},{\"attributes\":{},\"id\":\"10824\",\"type\":\"LinearScale\"},{\"attributes\":{\"callback\":null,\"formatters\":{\"@{index}\":\"datetime\"},\"renderers\":[{\"id\":\"10861\"},{\"id\":\"10894\"}],\"tags\":[\"hv_created\"],\"tooltips\":[[\"Variable\",\"@{Variable}\"],[\"index\",\"@{index}{%F %T}\"],[\"value\",\"@{value}\"]]},\"id\":\"10817\",\"type\":\"HoverTool\"},{\"attributes\":{\"line_color\":\"#fc4f30\",\"line_width\":2,\"x\":{\"field\":\"index\"},\"y\":{\"field\":\"value\"}},\"id\":\"10891\",\"type\":\"Line\"},{\"attributes\":{\"source\":{\"id\":\"11093\"}},\"id\":\"11099\",\"type\":\"CDSView\"},{\"attributes\":{\"overlay\":{\"id\":\"10841\"}},\"id\":\"10839\",\"type\":\"BoxZoomTool\"},{\"attributes\":{\"data\":{\"text\":[\"Global Pandemic Starts\"],\"x\":[1577836800000.0],\"y\":[21000]},\"selected\":{\"id\":\"11094\"},\"selection_policy\":{\"id\":\"11126\"}},\"id\":\"11093\",\"type\":\"ColumnDataSource\"},{\"attributes\":{\"data_source\":{\"id\":\"11093\"},\"glyph\":{\"id\":\"11096\"},\"hover_glyph\":null,\"muted_glyph\":null,\"nonselection_glyph\":{\"id\":\"11097\"},\"selection_glyph\":{\"id\":\"11100\"},\"view\":{\"id\":\"11099\"}},\"id\":\"11098\",\"type\":\"GlyphRenderer\"},{\"attributes\":{},\"id\":\"10889\",\"type\":\"Selection\"},{\"attributes\":{},\"id\":\"11094\",\"type\":\"Selection\"},{\"attributes\":{\"children\":[{\"id\":\"10814\"},{\"id\":\"10819\"},{\"id\":\"11335\"}],\"margin\":[0,0,0,0],\"name\":\"Row15168\",\"tags\":[\"embedded\"]},\"id\":\"10813\",\"type\":\"Row\"},{\"attributes\":{\"end\":1617235200000.0,\"reset_end\":1617235200000.0,\"reset_start\":315532800000.0,\"start\":315532800000.0,\"tags\":[[[\"index\",\"index\",null]]]},\"id\":\"10815\",\"type\":\"Range1d\"},{\"attributes\":{\"data_source\":{\"id\":\"10888\"},\"glyph\":{\"id\":\"10891\"},\"hover_glyph\":null,\"muted_glyph\":{\"id\":\"10893\"},\"nonselection_glyph\":{\"id\":\"10892\"},\"selection_glyph\":{\"id\":\"10921\"},\"view\":{\"id\":\"10895\"}},\"id\":\"10894\",\"type\":\"GlyphRenderer\"}],\"root_ids\":[\"10813\"]},\"title\":\"Bokeh Application\",\"version\":\"2.3.2\"}};\n",
       "    var render_items = [{\"docid\":\"3ae0d524-829f-489d-ab60-db47945059de\",\"root_ids\":[\"10813\"],\"roots\":{\"10813\":\"ceb202c0-cf64-40b3-b60e-decb40ddce8e\"}}];\n",
       "    root.Bokeh.embed.embed_items_notebook(docs_json, render_items);\n",
       "  }\n",
       "  if (root.Bokeh !== undefined && root.Bokeh.Panel !== undefined && root['Plotly'] !== undefined ) {\n",
       "    embed_document(root);\n",
       "  } else {\n",
       "    var attempts = 0;\n",
       "    var timer = setInterval(function(root) {\n",
       "      if (root.Bokeh !== undefined && root.Bokeh.Panel !== undefined && root['Plotly'] !== undefined) {\n",
       "        clearInterval(timer);\n",
       "        embed_document(root);\n",
       "      } else if (document.readyState == \"complete\") {\n",
       "        attempts++;\n",
       "        if (attempts > 100) {\n",
       "          clearInterval(timer);\n",
       "          console.log(\"Bokeh: ERROR: Unable to run BokehJS code because BokehJS library is missing\");\n",
       "        }\n",
       "      }\n",
       "    }, 10, root)\n",
       "  }\n",
       "})(window);</script>"
      ],
      "text/plain": [
       ":Overlay\n",
       "   .NdOverlay.I :NdOverlay   [Variable]\n",
       "      :Curve   [index]   (value)\n",
       "   .VSpan.I     :VSpan   [x,y]\n",
       "   .Text.I      :Text   [x,y]"
      ]
     },
     "execution_count": 59,
     "metadata": {
      "application/vnd.holoviews_exec.v0+json": {
       "id": "10813"
      }
     },
     "output_type": "execute_result"
    }
   ],
   "source": [
    "pandemic_startLine = hv.VSpan(datetime.datetime(2020, 1, 1),datetime.datetime(2021, 7, 1)).options(color='red')\n",
    "# Test current label\n",
    "pandemic_plot = m2_real_gdp_df.hvplot() * pandemic_startLine * hv.Text(datetime.datetime(2020, 1, 1), 21000, \"Global Pandemic Starts\")\n",
    "pandemic_plot"
   ]
  },
  {
   "cell_type": "code",
   "execution_count": 76,
   "id": "08ad93f1-1bae-416c-b065-26b8d2003731",
   "metadata": {},
   "outputs": [],
   "source": [
    "financialCrisis_startLine = hv.VSpan(datetime.datetime(2007, 6, 1),datetime.datetime(2009, 12, 31)).options(color='red')\n",
    "september11_startLine = hv.VLine(datetime.datetime(2001, 9, 11)).options(color='red')\n",
    "financial_crisis_1980 = hv.VSpan(datetime.datetime(1981, 7, 1), datetime.datetime(1982, 11, 1)).options(color='red')"
   ]
  },
  {
   "cell_type": "code",
   "execution_count": 80,
   "id": "8c40de2d-e0fc-4c4d-835f-0d4a2a0cb96c",
   "metadata": {},
   "outputs": [
    {
     "data": {},
     "metadata": {},
     "output_type": "display_data"
    },
    {
     "data": {
      "application/vnd.holoviews_exec.v0+json": "",
      "text/html": [
       "<div id='23296'>\n",
       "\n",
       "\n",
       "\n",
       "\n",
       "\n",
       "  <div class=\"bk-root\" id=\"0e064311-256d-4afa-9a89-1ba46576266a\" data-root-id=\"23296\"></div>\n",
       "</div>\n",
       "<script type=\"application/javascript\">(function(root) {\n",
       "  function embed_document(root) {\n",
       "    var docs_json = {\"5020f0e7-13fa-48cd-97ab-4a2b6b94ea21\":{\"defs\":[],\"roots\":{\"references\":[{\"attributes\":{\"angle\":{\"value\":0.0},\"text\":{\"field\":\"text\"},\"text_align\":{\"value\":\"right\"},\"text_alpha\":{\"value\":1.0},\"text_baseline\":{\"value\":\"middle\"},\"text_color\":{\"value\":\"black\"},\"text_font_size\":{\"value\":\"12Pt\"},\"text_font_style\":{\"value\":\"normal\"},\"text_line_height\":{\"value\":1.2},\"x\":{\"field\":\"x\"},\"x_offset\":{\"value\":0},\"y\":{\"field\":\"y\"},\"y_offset\":{\"value\":0}},\"id\":\"23583\",\"type\":\"Text\"},{\"attributes\":{\"angle\":{\"value\":0.0},\"text\":{\"field\":\"text\"},\"text_align\":{\"value\":\"right\"},\"text_alpha\":{\"value\":1.0},\"text_baseline\":{\"value\":\"middle\"},\"text_color\":{\"value\":\"black\"},\"text_font_size\":{\"value\":\"12Pt\"},\"text_font_style\":{\"value\":\"normal\"},\"text_line_height\":{\"value\":1.2},\"x\":{\"field\":\"x\"},\"x_offset\":{\"value\":0},\"y\":{\"field\":\"y\"},\"y_offset\":{\"value\":0}},\"id\":\"23605\",\"type\":\"Text\"},{\"attributes\":{},\"id\":\"23365\",\"type\":\"YearsTicker\"},{\"attributes\":{\"margin\":[5,5,5,5],\"name\":\"HSpacer34057\",\"sizing_mode\":\"stretch_width\"},\"id\":\"23905\",\"type\":\"Spacer\"},{\"attributes\":{},\"id\":\"23319\",\"type\":\"SaveTool\"},{\"attributes\":{\"line_color\":\"#30a2da\",\"line_width\":2,\"x\":{\"field\":\"index\"},\"y\":{\"field\":\"value\"}},\"id\":\"23370\",\"type\":\"Line\"},{\"attributes\":{},\"id\":\"23367\",\"type\":\"UnionRenderers\"},{\"attributes\":{},\"id\":\"23320\",\"type\":\"PanTool\"},{\"attributes\":{\"children\":[{\"id\":\"23297\"},{\"id\":\"23302\"},{\"id\":\"23905\"}],\"margin\":[0,0,0,0],\"name\":\"Row34052\",\"tags\":[\"embedded\"]},\"id\":\"23296\",\"type\":\"Row\"},{\"attributes\":{},\"id\":\"23323\",\"type\":\"ResetTool\"},{\"attributes\":{},\"id\":\"23332\",\"type\":\"DatetimeTickFormatter\"},{\"attributes\":{\"text_align\":{\"value\":\"right\"},\"text_alpha\":{\"value\":0.1},\"text_baseline\":{\"value\":\"middle\"},\"text_color\":{\"value\":\"black\"},\"text_font_size\":{\"value\":\"12Pt\"},\"x\":{\"field\":\"x\"},\"y\":{\"field\":\"y\"}},\"id\":\"23602\",\"type\":\"Text\"},{\"attributes\":{},\"id\":\"23321\",\"type\":\"WheelZoomTool\"},{\"attributes\":{},\"id\":\"23599\",\"type\":\"Selection\"},{\"attributes\":{\"text_baseline\":{\"value\":\"middle\"},\"text_color\":{\"value\":\"black\"},\"text_font_size\":{\"value\":\"12Pt\"},\"x\":{\"field\":\"x\"},\"y\":{\"field\":\"y\"}},\"id\":\"23612\",\"type\":\"Text\"},{\"attributes\":{\"text_alpha\":{\"value\":0.1},\"text_baseline\":{\"value\":\"middle\"},\"text_color\":{\"value\":\"black\"},\"text_font_size\":{\"value\":\"12Pt\"},\"x\":{\"field\":\"x\"},\"y\":{\"field\":\"y\"}},\"id\":\"23613\",\"type\":\"Text\"},{\"attributes\":{\"fill_alpha\":0.5,\"fill_color\":\"red\",\"left\":1180656000000.0,\"level\":\"glyph\",\"line_alpha\":0.5,\"line_color\":\"red\",\"right\":1262217600000.0},\"id\":\"23586\",\"type\":\"BoxAnnotation\"},{\"attributes\":{\"overlay\":{\"id\":\"23324\"}},\"id\":\"23322\",\"type\":\"BoxZoomTool\"},{\"attributes\":{\"text_align\":{\"value\":\"right\"},\"text_baseline\":{\"value\":\"middle\"},\"text_color\":{\"value\":\"black\"},\"text_font_size\":{\"value\":\"12Pt\"},\"x\":{\"field\":\"x\"},\"y\":{\"field\":\"y\"}},\"id\":\"23601\",\"type\":\"Text\"},{\"attributes\":{\"margin\":[5,5,5,5],\"name\":\"HSpacer34056\",\"sizing_mode\":\"stretch_width\"},\"id\":\"23297\",\"type\":\"Spacer\"},{\"attributes\":{\"data\":{\"Variable\":[\"Real GDP\",\"Real GDP\",\"Real GDP\",\"Real GDP\",\"Real GDP\",\"Real GDP\",\"Real GDP\",\"Real GDP\",\"Real GDP\",\"Real GDP\",\"Real GDP\",\"Real GDP\",\"Real GDP\",\"Real GDP\",\"Real GDP\",\"Real GDP\",\"Real GDP\",\"Real GDP\",\"Real GDP\",\"Real GDP\",\"Real GDP\",\"Real GDP\",\"Real GDP\",\"Real GDP\",\"Real GDP\",\"Real GDP\",\"Real GDP\",\"Real GDP\",\"Real GDP\",\"Real GDP\",\"Real GDP\",\"Real GDP\",\"Real GDP\",\"Real GDP\",\"Real GDP\",\"Real GDP\",\"Real GDP\",\"Real GDP\",\"Real GDP\",\"Real GDP\",\"Real GDP\",\"Real GDP\",\"Real GDP\",\"Real GDP\",\"Real GDP\",\"Real GDP\",\"Real GDP\",\"Real GDP\",\"Real GDP\",\"Real GDP\",\"Real GDP\",\"Real GDP\",\"Real GDP\",\"Real GDP\",\"Real GDP\",\"Real GDP\",\"Real GDP\",\"Real GDP\",\"Real GDP\",\"Real GDP\",\"Real GDP\",\"Real GDP\",\"Real GDP\",\"Real GDP\",\"Real GDP\",\"Real GDP\",\"Real GDP\",\"Real GDP\",\"Real GDP\",\"Real GDP\",\"Real GDP\",\"Real GDP\",\"Real GDP\",\"Real GDP\",\"Real GDP\",\"Real GDP\",\"Real GDP\",\"Real GDP\",\"Real GDP\",\"Real GDP\",\"Real GDP\",\"Real GDP\",\"Real GDP\",\"Real GDP\",\"Real GDP\",\"Real GDP\",\"Real GDP\",\"Real GDP\",\"Real GDP\",\"Real GDP\",\"Real GDP\",\"Real GDP\",\"Real GDP\",\"Real GDP\",\"Real GDP\",\"Real GDP\",\"Real GDP\",\"Real GDP\",\"Real GDP\",\"Real GDP\",\"Real GDP\",\"Real GDP\",\"Real GDP\",\"Real GDP\",\"Real GDP\",\"Real GDP\",\"Real GDP\",\"Real GDP\",\"Real GDP\",\"Real GDP\",\"Real GDP\",\"Real GDP\",\"Real GDP\",\"Real GDP\",\"Real GDP\",\"Real GDP\",\"Real GDP\",\"Real GDP\",\"Real GDP\",\"Real GDP\",\"Real GDP\",\"Real GDP\",\"Real GDP\",\"Real GDP\",\"Real GDP\",\"Real GDP\",\"Real GDP\",\"Real GDP\",\"Real GDP\",\"Real GDP\",\"Real GDP\",\"Real GDP\",\"Real GDP\",\"Real GDP\",\"Real GDP\",\"Real GDP\",\"Real GDP\",\"Real GDP\",\"Real GDP\",\"Real GDP\",\"Real GDP\",\"Real GDP\",\"Real GDP\",\"Real GDP\",\"Real GDP\",\"Real GDP\",\"Real GDP\",\"Real GDP\",\"Real GDP\",\"Real GDP\",\"Real GDP\",\"Real GDP\",\"Real GDP\",\"Real GDP\",\"Real GDP\",\"Real GDP\",\"Real GDP\",\"Real GDP\",\"Real GDP\",\"Real GDP\",\"Real GDP\",\"Real GDP\",\"Real GDP\",\"Real GDP\",\"Real GDP\",\"Real GDP\"],\"index\":{\"__ndarray__\":\"AAAAHM5dUkIAAADJ9tJSQgAAAHYfSFNCAAAAupG+U0IAAAD+AzVUQgAAABTjqFRCAAAAwQseVUIAAAAFfpRVQgAAAEnwClZCAAAAX89+VkIAAAAM+PNWQgAAAFBqaldCAAAAlNzgV0IAAACqu1RYQgAAAFfkyVhCAAAAm1ZAWUIAAADfyLZZQgAAAIzxK1pCAAAAORqhWkIAAAB9jBdbQgAAAMH+jVtCAAAA190BXEIAAACEBndcQgAAAMh47VxCAAAADOtjXUIAAAAiytddQgAAAM/yTF5CAAAAE2XDXkIAAABX1zlfQgAAAG22rV9CAAAAjW8RYEIAAACvqExgQgAAANHhh2BCAACAJ3bCYEIAAAB+Cv1gQgAAAKBDOGFCAAAAwnxzYUIAAABNbK1hQgAAgKMA6GFCAACAxTkjYkIAAIDncl5iQgAAgHJimGJCAAAAyfbSYkIAAADrLw5jQgAAAA1pSWNCAAAAmFiDY0IAAIDu7L1jQgAAgBAm+WNCAACAMl80ZEIAAACJ825kQgAAgN+HqWRCAACAAcHkZEIAAIAj+h9lQgAAgK7pWWVCAAAABX6UZUIAAAAnt89lQgAAAEnwCmZCAAAA1N9EZkIAAIAqdH9mQgAAgEytumZCAACAbub1ZkIAAID51S9nQgAAAFBqamdCAAAAcqOlZ0IAAACU3OBnQgAAgOpwG2hCAAAAQQVWaEIAAABjPpFoQgAAAIV3zGhCAAAAEGcGaUIAAIBm+0BpQgAAgIg0fGlCAACAqm23aUIAAIA1XfFpQgAAAIzxK2pCAAAAripnakIAAADQY6JqQgAAAFtT3GpCAACAsecWa0IAAIDTIFJrQgAAgPVZjWtCAAAATO7Ha0IAAICiggJsQgAAgMS7PWxCAACA5vR4bEIAAIBx5LJsQgAAAMh47WxCAAAA6rEobUIAAAAM62NtQgAAAJfanW1CAACA7W7YbUIAAIAPqBNuQgAAgDHhTm5CAACAvNCIbkIAAAATZcNuQgAAADWe/m5CAAAAV9c5b0IAAICta3RvQgAAAAQAr29CAAAAJjnqb0IAAAAkuRJwQgAAgOmwL3BCAADAFPtMcEIAAMCll2pwQgAAwDY0iHBCAABA/CulcEIAAIAndsJwQgAAgLgS4HBCAACASa/9cEIAAAAPpxpxQgAAQDrxN3FCAABAy41VcUIAAEBcKnNxQgAAgId0kHFCAADAsr6tcUIAAMBDW8txQgAAwNT36HFCAABAmu8FckIAAIDFOSNyQgAAgFbWQHJCAACA53JeckIAAACtantyQgAAQNi0mHJCAABAaVG2ckIAAED67dNyQgAAwL/l8HJCAAAA6y8Oc0IAAAB8zCtzQgAAAA1pSXNCAABAOLNmc0IAAIBj/YNzQgAAgPSZoXNCAACAhTa/c0IAAABLLtxzQgAAQHZ4+XNCAABABxUXdEIAAECYsTR0QgAAwF2pUXRCAAAAifNudEIAAAAakIx0QgAAAKssqnRCAACAcCTHdEIAAMCbbuR0QgAAwCwLAnVCAADAvacfdUIAAADp8Tx1QgAAQBQ8WnVCAABApdh3dUIAAEA2dZV1QgAAwPtssnVCAAAAJ7fPdUIAAAC4U+11QgAAAEnwCnZCAACADugndkIAAMA5MkV2QgAAwMrOYnZCAADAW2uAdkIAAEAhY512QgAAgEytunZCAACA3UnYdkIAAIBu5vV2QgAAwJkwE3dCAAAAxXowd0IAAABWF053QgAAAOeza3dCAACArKuId0I=\",\"dtype\":\"float64\",\"order\":\"little\",\"shape\":[166]},\"value\":{\"__ndarray__\":\"Gy/dJAa6ukCe76fGCy26QEa28/0UJbpASgwCK+ehukCF61G4fie7QBSuR+H687pARIts55tGu0CWQ4tsh/q6QPhT46U7j7pATDeJQUCuukAlBoGVI5S6QKwcWmTblrpADi2ynY/wukAAAAAAgI27QC/dJAaBGrxAtvP91JiwvEBvEoPAKkC9QOkmMQiMwb1Aj8L1KPwKvkCiRbbzHUq+QPYoXI9Clb5Abef7qTHavkB3vp8az1K/QNejcD1qjr9AYhBYOdTZv0BkO99Pjf6/QOF6FK53JsBABoGVQ6s8wECNl24So1vAQD0K16PQiMBAmpmZmYmtwEC28/3U2PbAQLbz/dRIDcFAcT0K16NGwUBWDi2yjWDBQFTjpZvUm8FAeekmMajJwUDl0CLbaezBQMUgsHJoDsJAYhBYOYQXwkDVeOkmIUrCQHe+nxofW8JAHVpkOz9ewkCmm8QgcDPCQNnO91OjHcJA2/l+asxBwkBvEoPAalnCQH0/NV7KacJAtvP91DiiwkCq8dJN8tXCQOF6FK6XBcNA8tJNYmA4w0DhehSul0DDQB+F61FIXcNAtMh2vu90w0CTGARWrrjDQAaBlUOr6cNAw/UoXL8uxEDn+6nx8kzEQGDl0CJ7iMRAppvEICCbxECBlUOL3KrEQDm0yHbe18RAi2zn+xn8xEDByqFFViTFQJ7vp8abfsVA4XoUrvevxUA5tMh2nunFQOxRuB7VDcZA16NwPaprxkBU46WbdLPGQNv5fmpc5cZAppvEIPAfx0DRItv5vlbHQMUgsHKYocdAkxgEVl4DyEAlBoGVYz3IQGIQWDk0cchAGQRWDv3DyEAX2c73IyzJQEw3iUGgQ8lAWmQ731+5yUC4HoXr8b/JQAAAAAAg58lAppvEIKDRyUBQjZdusvrJQARWDi0S4MlA46WbxHDyyUCuR+F6dCnKQLByaJGtUspAK4cW2d5tykDP91PjtXbKQDvfT423mcpAVg4tso3WykC8dJMYFEnLQJhuEoOwmctAUrgehSvCy0AEVg4tgvnLQCPb+X7qPMxAj8L1KMyGzEA1XrpJ7NfMQCPb+X7a+8xAke18PyU2zUBWDi2ynWDNQAaBlUMLxs1AMzMzM8PYzUAEVg4tQuTNQKrx0k3SJM5AfT81Xno7zkDLoUW242zOQArXo3DNm85AnMQgsJLLzkAX2c73c6vOQOf7qfFi2M5ALbKd78euzkBWDi2yTQPOQM3MzMy8qc1AQmDl0OKczUBCYOXQUrjNQHE9CteTCc5AO99PjQcwzkDy0k1i0HrOQLx0kxgkt85Aw/UoXP/fzkBU46Wb9MzOQKwcWmRrAs9AO99PjVf/zkDl0CLbWVjPQESLbOf7mc9Ac2iR7dy+z0DZzvdTE83PQK5H4XoE1s9ApHA9Cl8O0EA/NV66GRTQQDvfT42vNNBAPQrXozBS0ECHFtnOj0PQQNEi2/kGedBAlkOLbCeq0ECkcD0KT73QQCGwcmgp4NBAAAAAADj50EDsUbgeRQfRQBkEVg6lDdFAKVyPwl0n0UC+nxovpTTRQPCnxksfT9FAcT0K1yNl0UBaZDvfJ3rRQNnO91Mzk9FAObTIdo6z0UBxPQrXK97RQOOlm8QQAdJATDeJQYAn0kCTGARW5j3SQIts5/tRSNJArkfhekxk0kASg8DKoYnSQBKDwMopqtJAcT0K15PA0kBoke18/4HSQOxRuB6N2tBAx0s3iTEg0kASg8DK8VPSQLgehevpm9JABoGVQ4vn0kA=\",\"dtype\":\"float64\",\"order\":\"little\",\"shape\":[166]}},\"selected\":{\"id\":\"23339\"},\"selection_policy\":{\"id\":\"23367\"}},\"id\":\"23338\",\"type\":\"ColumnDataSource\"},{\"attributes\":{\"data\":{\"text\":[\" 1980s Financial Crisis\"],\"x\":[362793600000.0],\"y\":[14000]},\"selected\":{\"id\":\"23610\"},\"selection_policy\":{\"id\":\"23648\"}},\"id\":\"23609\",\"type\":\"ColumnDataSource\"},{\"attributes\":{\"fill_alpha\":0.5,\"fill_color\":\"red\",\"left\":362793600000.0,\"level\":\"glyph\",\"line_alpha\":0.5,\"line_color\":\"red\",\"right\":404956800000.0},\"id\":\"23608\",\"type\":\"BoxAnnotation\"},{\"attributes\":{\"line_color\":\"#30a2da\",\"line_width\":2,\"x\":{\"field\":\"index\"},\"y\":{\"field\":\"value\"}},\"id\":\"23341\",\"type\":\"Line\"},{\"attributes\":{\"data\":{\"text\":[\"Financial Crisis\"],\"x\":[1180656000000.0],\"y\":[19500]},\"selected\":{\"id\":\"23588\"},\"selection_policy\":{\"id\":\"23644\"}},\"id\":\"23587\",\"type\":\"ColumnDataSource\"},{\"attributes\":{\"line_color\":\"#fc4f30\",\"line_width\":2,\"x\":{\"field\":\"index\"},\"y\":{\"field\":\"value\"}},\"id\":\"23404\",\"type\":\"Line\"},{\"attributes\":{\"source\":{\"id\":\"23598\"}},\"id\":\"23604\",\"type\":\"CDSView\"},{\"attributes\":{\"source\":{\"id\":\"23576\"}},\"id\":\"23582\",\"type\":\"CDSView\"},{\"attributes\":{},\"id\":\"23644\",\"type\":\"UnionRenderers\"},{\"attributes\":{\"source\":{\"id\":\"23371\"}},\"id\":\"23378\",\"type\":\"CDSView\"},{\"attributes\":{\"data\":{\"text\":[\"Sept. 11 \"],\"x\":[1000166400000.0],\"y\":[18000]},\"selected\":{\"id\":\"23599\"},\"selection_policy\":{\"id\":\"23646\"}},\"id\":\"23598\",\"type\":\"ColumnDataSource\"},{\"attributes\":{},\"id\":\"23648\",\"type\":\"UnionRenderers\"},{\"attributes\":{\"data_source\":{\"id\":\"23371\"},\"glyph\":{\"id\":\"23374\"},\"hover_glyph\":null,\"muted_glyph\":{\"id\":\"23376\"},\"nonselection_glyph\":{\"id\":\"23375\"},\"selection_glyph\":{\"id\":\"23404\"},\"view\":{\"id\":\"23378\"}},\"id\":\"23377\",\"type\":\"GlyphRenderer\"},{\"attributes\":{},\"id\":\"23610\",\"type\":\"Selection\"},{\"attributes\":{\"data_source\":{\"id\":\"23576\"},\"glyph\":{\"id\":\"23579\"},\"hover_glyph\":null,\"muted_glyph\":null,\"nonselection_glyph\":{\"id\":\"23580\"},\"selection_glyph\":{\"id\":\"23583\"},\"view\":{\"id\":\"23582\"}},\"id\":\"23581\",\"type\":\"GlyphRenderer\"},{\"attributes\":{\"active_multi\":null,\"tools\":[{\"id\":\"23300\"},{\"id\":\"23319\"},{\"id\":\"23320\"},{\"id\":\"23321\"},{\"id\":\"23322\"},{\"id\":\"23323\"}]},\"id\":\"23325\",\"type\":\"Toolbar\"},{\"attributes\":{\"text_align\":{\"value\":\"right\"},\"text_baseline\":{\"value\":\"middle\"},\"text_color\":{\"value\":\"black\"},\"text_font_size\":{\"value\":\"12Pt\"},\"x\":{\"field\":\"x\"},\"y\":{\"field\":\"y\"}},\"id\":\"23579\",\"type\":\"Text\"},{\"attributes\":{},\"id\":\"23307\",\"type\":\"LinearScale\"},{\"attributes\":{\"line_alpha\":0.1,\"line_color\":\"#fc4f30\",\"line_width\":2,\"x\":{\"field\":\"index\"},\"y\":{\"field\":\"value\"}},\"id\":\"23375\",\"type\":\"Line\"},{\"attributes\":{\"data_source\":{\"id\":\"23609\"},\"glyph\":{\"id\":\"23612\"},\"hover_glyph\":null,\"muted_glyph\":null,\"nonselection_glyph\":{\"id\":\"23613\"},\"selection_glyph\":{\"id\":\"23616\"},\"view\":{\"id\":\"23615\"}},\"id\":\"23614\",\"type\":\"GlyphRenderer\"},{\"attributes\":{},\"id\":\"23577\",\"type\":\"Selection\"},{\"attributes\":{\"data\":{\"text\":[\"Global Pandemic\"],\"x\":[1577836800000.0],\"y\":[21000]},\"selected\":{\"id\":\"23577\"},\"selection_policy\":{\"id\":\"23642\"}},\"id\":\"23576\",\"type\":\"ColumnDataSource\"},{\"attributes\":{\"bottom_units\":\"screen\",\"fill_alpha\":0.5,\"fill_color\":\"lightgrey\",\"left_units\":\"screen\",\"level\":\"overlay\",\"line_alpha\":1.0,\"line_color\":\"black\",\"line_dash\":[4,4],\"line_width\":2,\"right_units\":\"screen\",\"syncable\":false,\"top_units\":\"screen\"},\"id\":\"23324\",\"type\":\"BoxAnnotation\"},{\"attributes\":{\"line_alpha\":0.2,\"line_color\":\"#fc4f30\",\"line_width\":2,\"x\":{\"field\":\"index\"},\"y\":{\"field\":\"value\"}},\"id\":\"23376\",\"type\":\"Line\"},{\"attributes\":{\"below\":[{\"id\":\"23311\"}],\"center\":[{\"id\":\"23314\"},{\"id\":\"23318\"}],\"height\":500,\"left\":[{\"id\":\"23315\"}],\"margin\":[5,5,5,5],\"min_border_bottom\":10,\"min_border_left\":10,\"min_border_right\":10,\"min_border_top\":10,\"renderers\":[{\"id\":\"23344\"},{\"id\":\"23377\"},{\"id\":\"23575\"},{\"id\":\"23581\"},{\"id\":\"23586\"},{\"id\":\"23592\"},{\"id\":\"23597\"},{\"id\":\"23603\"},{\"id\":\"23608\"},{\"id\":\"23614\"}],\"right\":[{\"id\":\"23368\"}],\"sizing_mode\":\"fixed\",\"title\":{\"id\":\"23303\"},\"toolbar\":{\"id\":\"23325\"},\"width\":1000,\"x_range\":{\"id\":\"23298\"},\"x_scale\":{\"id\":\"23307\"},\"y_range\":{\"id\":\"23299\"},\"y_scale\":{\"id\":\"23309\"}},\"id\":\"23302\",\"subtype\":\"Figure\",\"type\":\"Plot\"},{\"attributes\":{\"label\":{\"value\":\"Real GDP\"},\"renderers\":[{\"id\":\"23344\"}]},\"id\":\"23369\",\"type\":\"LegendItem\"},{\"attributes\":{\"source\":{\"id\":\"23609\"}},\"id\":\"23615\",\"type\":\"CDSView\"},{\"attributes\":{\"base\":24,\"mantissas\":[1,2,4,6,8,12],\"max_interval\":43200000.0,\"min_interval\":3600000.0,\"num_minor_ticks\":0},\"id\":\"23356\",\"type\":\"AdaptiveTicker\"},{\"attributes\":{\"source\":{\"id\":\"23338\"}},\"id\":\"23345\",\"type\":\"CDSView\"},{\"attributes\":{\"num_minor_ticks\":5,\"tickers\":[{\"id\":\"23354\"},{\"id\":\"23355\"},{\"id\":\"23356\"},{\"id\":\"23357\"},{\"id\":\"23358\"},{\"id\":\"23359\"},{\"id\":\"23360\"},{\"id\":\"23361\"},{\"id\":\"23362\"},{\"id\":\"23363\"},{\"id\":\"23364\"},{\"id\":\"23365\"}]},\"id\":\"23312\",\"type\":\"DatetimeTicker\"},{\"attributes\":{\"text_align\":{\"value\":\"right\"},\"text_alpha\":{\"value\":0.1},\"text_baseline\":{\"value\":\"middle\"},\"text_color\":{\"value\":\"black\"},\"text_font_size\":{\"value\":\"12Pt\"},\"x\":{\"field\":\"x\"},\"y\":{\"field\":\"y\"}},\"id\":\"23580\",\"type\":\"Text\"},{\"attributes\":{\"fill_alpha\":0.5,\"fill_color\":\"red\",\"left\":1577836800000.0,\"level\":\"glyph\",\"line_alpha\":0.5,\"line_color\":\"red\",\"right\":1625097600000.0},\"id\":\"23575\",\"type\":\"BoxAnnotation\"},{\"attributes\":{\"data\":{\"Variable\":[\"M2\",\"M2\",\"M2\",\"M2\",\"M2\",\"M2\",\"M2\",\"M2\",\"M2\",\"M2\",\"M2\",\"M2\",\"M2\",\"M2\",\"M2\",\"M2\",\"M2\",\"M2\",\"M2\",\"M2\",\"M2\",\"M2\",\"M2\",\"M2\",\"M2\",\"M2\",\"M2\",\"M2\",\"M2\",\"M2\",\"M2\",\"M2\",\"M2\",\"M2\",\"M2\",\"M2\",\"M2\",\"M2\",\"M2\",\"M2\",\"M2\",\"M2\",\"M2\",\"M2\",\"M2\",\"M2\",\"M2\",\"M2\",\"M2\",\"M2\",\"M2\",\"M2\",\"M2\",\"M2\",\"M2\",\"M2\",\"M2\",\"M2\",\"M2\",\"M2\",\"M2\",\"M2\",\"M2\",\"M2\",\"M2\",\"M2\",\"M2\",\"M2\",\"M2\",\"M2\",\"M2\",\"M2\",\"M2\",\"M2\",\"M2\",\"M2\",\"M2\",\"M2\",\"M2\",\"M2\",\"M2\",\"M2\",\"M2\",\"M2\",\"M2\",\"M2\",\"M2\",\"M2\",\"M2\",\"M2\",\"M2\",\"M2\",\"M2\",\"M2\",\"M2\",\"M2\",\"M2\",\"M2\",\"M2\",\"M2\",\"M2\",\"M2\",\"M2\",\"M2\",\"M2\",\"M2\",\"M2\",\"M2\",\"M2\",\"M2\",\"M2\",\"M2\",\"M2\",\"M2\",\"M2\",\"M2\",\"M2\",\"M2\",\"M2\",\"M2\",\"M2\",\"M2\",\"M2\",\"M2\",\"M2\",\"M2\",\"M2\",\"M2\",\"M2\",\"M2\",\"M2\",\"M2\",\"M2\",\"M2\",\"M2\",\"M2\",\"M2\",\"M2\",\"M2\",\"M2\",\"M2\",\"M2\",\"M2\",\"M2\",\"M2\",\"M2\",\"M2\",\"M2\",\"M2\",\"M2\",\"M2\",\"M2\",\"M2\",\"M2\",\"M2\",\"M2\",\"M2\",\"M2\",\"M2\",\"M2\",\"M2\",\"M2\",\"M2\",\"M2\",\"M2\",\"M2\"],\"index\":{\"__ndarray__\":\"AAAAHM5dUkIAAADJ9tJSQgAAAHYfSFNCAAAAupG+U0IAAAD+AzVUQgAAABTjqFRCAAAAwQseVUIAAAAFfpRVQgAAAEnwClZCAAAAX89+VkIAAAAM+PNWQgAAAFBqaldCAAAAlNzgV0IAAACqu1RYQgAAAFfkyVhCAAAAm1ZAWUIAAADfyLZZQgAAAIzxK1pCAAAAORqhWkIAAAB9jBdbQgAAAMH+jVtCAAAA190BXEIAAACEBndcQgAAAMh47VxCAAAADOtjXUIAAAAiytddQgAAAM/yTF5CAAAAE2XDXkIAAABX1zlfQgAAAG22rV9CAAAAjW8RYEIAAACvqExgQgAAANHhh2BCAACAJ3bCYEIAAAB+Cv1gQgAAAKBDOGFCAAAAwnxzYUIAAABNbK1hQgAAgKMA6GFCAACAxTkjYkIAAIDncl5iQgAAgHJimGJCAAAAyfbSYkIAAADrLw5jQgAAAA1pSWNCAAAAmFiDY0IAAIDu7L1jQgAAgBAm+WNCAACAMl80ZEIAAACJ825kQgAAgN+HqWRCAACAAcHkZEIAAIAj+h9lQgAAgK7pWWVCAAAABX6UZUIAAAAnt89lQgAAAEnwCmZCAAAA1N9EZkIAAIAqdH9mQgAAgEytumZCAACAbub1ZkIAAID51S9nQgAAAFBqamdCAAAAcqOlZ0IAAACU3OBnQgAAgOpwG2hCAAAAQQVWaEIAAABjPpFoQgAAAIV3zGhCAAAAEGcGaUIAAIBm+0BpQgAAgIg0fGlCAACAqm23aUIAAIA1XfFpQgAAAIzxK2pCAAAAripnakIAAADQY6JqQgAAAFtT3GpCAACAsecWa0IAAIDTIFJrQgAAgPVZjWtCAAAATO7Ha0IAAICiggJsQgAAgMS7PWxCAACA5vR4bEIAAIBx5LJsQgAAAMh47WxCAAAA6rEobUIAAAAM62NtQgAAAJfanW1CAACA7W7YbUIAAIAPqBNuQgAAgDHhTm5CAACAvNCIbkIAAAATZcNuQgAAADWe/m5CAAAAV9c5b0IAAICta3RvQgAAAAQAr29CAAAAJjnqb0IAAAAkuRJwQgAAgOmwL3BCAADAFPtMcEIAAMCll2pwQgAAwDY0iHBCAABA/CulcEIAAIAndsJwQgAAgLgS4HBCAACASa/9cEIAAAAPpxpxQgAAQDrxN3FCAABAy41VcUIAAEBcKnNxQgAAgId0kHFCAADAsr6tcUIAAMBDW8txQgAAwNT36HFCAABAmu8FckIAAIDFOSNyQgAAgFbWQHJCAACA53JeckIAAACtantyQgAAQNi0mHJCAABAaVG2ckIAAED67dNyQgAAwL/l8HJCAAAA6y8Oc0IAAAB8zCtzQgAAAA1pSXNCAABAOLNmc0IAAIBj/YNzQgAAgPSZoXNCAACAhTa/c0IAAABLLtxzQgAAQHZ4+XNCAABABxUXdEIAAECYsTR0QgAAwF2pUXRCAAAAifNudEIAAAAakIx0QgAAAKssqnRCAACAcCTHdEIAAMCbbuR0QgAAwCwLAnVCAADAvacfdUIAAADp8Tx1QgAAQBQ8WnVCAABApdh3dUIAAEA2dZV1QgAAwPtssnVCAAAAJ7fPdUIAAAC4U+11QgAAAEnwCnZCAACADugndkIAAMA5MkV2QgAAwMrOYnZCAADAW2uAdkIAAEAhY512QgAAgEytunZCAACA3UnYdkIAAIBu5vV2QgAAwJkwE3dCAAAAxXowd0IAAABWF053QgAAAOeza3dCAACArKuId0I=\",\"dtype\":\"float64\",\"order\":\"little\",\"shape\":[166]},\"value\":{\"__ndarray__\":\"zczMzMwql0DNzMzMzHiXQAAAAAAAJphAMzMzMzPDmECamZmZmRuZQM3MzMzM7JlAmpmZmZlHmkAzMzMzM+eaQJqZmZmZqZtAmpmZmZkvnEAAAAAAAJ6cQM3MzMzMNp1AmpmZmZmdnkBmZmZmZrKfQJqZmZmZIaBAZmZmZmZmoEBmZmZmZrSgQGZmZmZmH6FAAAAAAABfoUDNzMzMzKWhQM3MzMzMOKJAzczMzMyOokAAAAAAAPuiQAAAAAAASKNAMzMzMzOMo0CamZmZmfujQDMzMzMzhaRAzczMzMz+pEDNzMzMzG+lQGZmZmZmn6VAAAAAAAC2pUCamZmZmf2lQM3MzMzMPqZAZmZmZma9pkBmZmZmZganQJqZmZmZKqdAZmZmZmZfp0AAAAAAAHynQM3MzMzM2KdAMzMzMzNUqECamZmZmb2oQDMzMzMzA6lAAAAAAAAxqUCamZmZmXapQGZmZmZmr6lAzczMzMwIqkAzMzMzMziqQDMzMzMzQKpAZmZmZmZqqkBmZmZmZo+qQM3MzMzMg6pAmpmZmZm/qkAzMzMzM7aqQJqZmZmZpqpAAAAAAADkqkBmZmZmZgGrQM3MzMzMJatAmpmZmZkyq0BmZmZmZkCrQJqZmZmZOKtAzczMzMxIq0BmZmZmZlarQM3MzMzM3qtAzczMzMw6rEDNzMzMzH+sQJqZmZmZ46xAZmZmZmYyrUDNzMzMzHmtQGZmZmZm9a1AmpmZmZlKrkBmZmZmZqiuQGZmZmZmMa9AMzMzMzOxr0CamZmZmSywQGZmZmZmbLBAZmZmZmbUsEDNzMzMTDOxQGZmZmZmbbFAMzMzMzO3sUAzMzMzM/CxQGZmZmbmOrJAzczMzMyeskAAAAAAALayQDMzMzOzBbNAzczMzMxvs0BmZmZm5g+0QDMzMzMzU7RAzczMzMzYtEBmZmZm5k21QAAAAACAd7VAMzMzMzPVtUCamZmZmUS2QAAAAACArLZAzczMzMwKt0CamZmZmZq3QJqZmZmZr7dAAAAAAIC7t0CamZmZGS+4QGZmZmbmi7hAZmZmZubkuECamZmZGRi5QDMzMzOzN7lAmpmZmRmJuUCamZmZGe65QJqZmZmZQ7pAmpmZmZmPukDNzMzMzOW6QM3MzMzMULtAAAAAAIDEu0AAAAAAgD68QM3MzMzMi7xAmpmZmRn4vEDNzMzMzFC9QDMzMzMzEr5AMzMzMzNevkAzMzMzMx+/QGZmZmamKcBAmpmZmdlawEBmZmZm5n7AQAAAAADAi8BAAAAAAECFwEBmZmZm5qvAQDMzMzOz1cBAZmZmZuYWwUCamZmZmTvBQDMzMzNzlsFAAAAAAIAywkAAAAAAwK3CQM3MzMzMA8NAAAAAAABTw0AAAAAAwKXDQGZmZmZmCsRAzczMzIx4xECamZmZ2bDEQDMzMzMz9sRAzczMzAxkxUAzMzMz86PFQM3MzMyM/8VAMzMzM7NWxkDNzMzMDJXGQDMzMzOz8cZAzczMzIxNx0AzMzMz84vHQAAAAABA0sdAMzMzM/NdyEAAAAAAwM7IQAAAAAAAL8lAzczMzMyYyUBmZmZmpvfJQJqZmZmZWspAzczMzAyeykCamZmZ2eXKQM3MzMwMGstAAAAAAMBay0AzMzMzs6fLQJqZmZnZz8tAZmZmZmY3zECamZmZWXbMQM3MzMwMB81AmpmZmVmazUAAAAAAABnOQJqZmZm5pNBAAAAAAADk0UBmZmZmxk/SQAAAAAAg8dJAmpmZmfml00A=\",\"dtype\":\"float64\",\"order\":\"little\",\"shape\":[166]}},\"selected\":{\"id\":\"23372\"},\"selection_policy\":{\"id\":\"23402\"}},\"id\":\"23371\",\"type\":\"ColumnDataSource\"},{\"attributes\":{\"angle\":{\"value\":0.0},\"text\":{\"field\":\"text\"},\"text_align\":{\"value\":\"left\"},\"text_alpha\":{\"value\":1.0},\"text_baseline\":{\"value\":\"middle\"},\"text_color\":{\"value\":\"black\"},\"text_font_size\":{\"value\":\"12Pt\"},\"text_font_style\":{\"value\":\"normal\"},\"text_line_height\":{\"value\":1.2},\"x\":{\"field\":\"x\"},\"x_offset\":{\"value\":0},\"y\":{\"field\":\"y\"},\"y_offset\":{\"value\":0}},\"id\":\"23616\",\"type\":\"Text\"},{\"attributes\":{\"label\":{\"value\":\"M2\"},\"renderers\":[{\"id\":\"23377\"}]},\"id\":\"23403\",\"type\":\"LegendItem\"},{\"attributes\":{},\"id\":\"23337\",\"type\":\"AllLabels\"},{\"attributes\":{\"text_align\":{\"value\":\"center\"},\"text_alpha\":{\"value\":0.1},\"text_baseline\":{\"value\":\"middle\"},\"text_color\":{\"value\":\"black\"},\"text_font_size\":{\"value\":\"12Pt\"},\"x\":{\"field\":\"x\"},\"y\":{\"field\":\"y\"}},\"id\":\"23591\",\"type\":\"Text\"},{\"attributes\":{\"dimension\":\"height\",\"level\":\"glyph\",\"line_color\":\"red\",\"line_width\":3,\"location\":1000166400000},\"id\":\"23597\",\"type\":\"Span\"},{\"attributes\":{},\"id\":\"23339\",\"type\":\"Selection\"},{\"attributes\":{\"axis_label\":\"\",\"formatter\":{\"id\":\"23332\"},\"major_label_policy\":{\"id\":\"23334\"},\"ticker\":{\"id\":\"23312\"}},\"id\":\"23311\",\"type\":\"DatetimeAxis\"},{\"attributes\":{\"line_alpha\":0.2,\"line_color\":\"#30a2da\",\"line_width\":2,\"x\":{\"field\":\"index\"},\"y\":{\"field\":\"value\"}},\"id\":\"23343\",\"type\":\"Line\"},{\"attributes\":{\"mantissas\":[1,2,5],\"max_interval\":500.0,\"num_minor_ticks\":0},\"id\":\"23354\",\"type\":\"AdaptiveTicker\"},{\"attributes\":{\"days\":[1,2,3,4,5,6,7,8,9,10,11,12,13,14,15,16,17,18,19,20,21,22,23,24,25,26,27,28,29,30,31]},\"id\":\"23357\",\"type\":\"DaysTicker\"},{\"attributes\":{},\"id\":\"23588\",\"type\":\"Selection\"},{\"attributes\":{},\"id\":\"23335\",\"type\":\"BasicTickFormatter\"},{\"attributes\":{\"base\":60,\"mantissas\":[1,2,5,10,15,20,30],\"max_interval\":1800000.0,\"min_interval\":1000.0,\"num_minor_ticks\":0},\"id\":\"23355\",\"type\":\"AdaptiveTicker\"},{\"attributes\":{},\"id\":\"23372\",\"type\":\"Selection\"},{\"attributes\":{},\"id\":\"23646\",\"type\":\"UnionRenderers\"},{\"attributes\":{\"text_color\":\"black\",\"text_font_size\":\"12pt\"},\"id\":\"23303\",\"type\":\"Title\"},{\"attributes\":{\"end\":21983.620000000003,\"reset_end\":21983.620000000003,\"reset_start\":-381.0200000000002,\"start\":-381.0200000000002,\"tags\":[[[\"value\",\"value\",null]]]},\"id\":\"23299\",\"type\":\"Range1d\"},{\"attributes\":{\"days\":[1,4,7,10,13,16,19,22,25,28]},\"id\":\"23358\",\"type\":\"DaysTicker\"},{\"attributes\":{},\"id\":\"23642\",\"type\":\"UnionRenderers\"},{\"attributes\":{\"text_align\":{\"value\":\"center\"},\"text_baseline\":{\"value\":\"middle\"},\"text_color\":{\"value\":\"black\"},\"text_font_size\":{\"value\":\"12Pt\"},\"x\":{\"field\":\"x\"},\"y\":{\"field\":\"y\"}},\"id\":\"23590\",\"type\":\"Text\"},{\"attributes\":{\"months\":[0,1,2,3,4,5,6,7,8,9,10,11]},\"id\":\"23361\",\"type\":\"MonthsTicker\"},{\"attributes\":{},\"id\":\"23309\",\"type\":\"LinearScale\"},{\"attributes\":{\"line_alpha\":0.1,\"line_color\":\"#30a2da\",\"line_width\":2,\"x\":{\"field\":\"index\"},\"y\":{\"field\":\"value\"}},\"id\":\"23342\",\"type\":\"Line\"},{\"attributes\":{\"days\":[1,8,15,22]},\"id\":\"23359\",\"type\":\"DaysTicker\"},{\"attributes\":{\"data_source\":{\"id\":\"23587\"},\"glyph\":{\"id\":\"23590\"},\"hover_glyph\":null,\"muted_glyph\":null,\"nonselection_glyph\":{\"id\":\"23591\"},\"selection_glyph\":{\"id\":\"23594\"},\"view\":{\"id\":\"23593\"}},\"id\":\"23592\",\"type\":\"GlyphRenderer\"},{\"attributes\":{\"axis_label\":\"\",\"formatter\":{\"id\":\"23335\"},\"major_label_policy\":{\"id\":\"23337\"},\"ticker\":{\"id\":\"23316\"}},\"id\":\"23315\",\"type\":\"LinearAxis\"},{\"attributes\":{\"days\":[1,15]},\"id\":\"23360\",\"type\":\"DaysTicker\"},{\"attributes\":{\"axis\":{\"id\":\"23311\"},\"grid_line_color\":null,\"ticker\":null},\"id\":\"23314\",\"type\":\"Grid\"},{\"attributes\":{\"data_source\":{\"id\":\"23598\"},\"glyph\":{\"id\":\"23601\"},\"hover_glyph\":null,\"muted_glyph\":null,\"nonselection_glyph\":{\"id\":\"23602\"},\"selection_glyph\":{\"id\":\"23605\"},\"view\":{\"id\":\"23604\"}},\"id\":\"23603\",\"type\":\"GlyphRenderer\"},{\"attributes\":{\"months\":[0,6]},\"id\":\"23364\",\"type\":\"MonthsTicker\"},{\"attributes\":{\"source\":{\"id\":\"23587\"}},\"id\":\"23593\",\"type\":\"CDSView\"},{\"attributes\":{},\"id\":\"23402\",\"type\":\"UnionRenderers\"},{\"attributes\":{},\"id\":\"23316\",\"type\":\"BasicTicker\"},{\"attributes\":{\"months\":[0,2,4,6,8,10]},\"id\":\"23362\",\"type\":\"MonthsTicker\"},{\"attributes\":{\"axis\":{\"id\":\"23315\"},\"dimension\":1,\"grid_line_color\":null,\"ticker\":null},\"id\":\"23318\",\"type\":\"Grid\"},{\"attributes\":{\"angle\":{\"value\":0.0},\"text\":{\"field\":\"text\"},\"text_align\":{\"value\":\"center\"},\"text_alpha\":{\"value\":1.0},\"text_baseline\":{\"value\":\"middle\"},\"text_color\":{\"value\":\"black\"},\"text_font_size\":{\"value\":\"12Pt\"},\"text_font_style\":{\"value\":\"normal\"},\"text_line_height\":{\"value\":1.2},\"x\":{\"field\":\"x\"},\"x_offset\":{\"value\":0},\"y\":{\"field\":\"y\"},\"y_offset\":{\"value\":0}},\"id\":\"23594\",\"type\":\"Text\"},{\"attributes\":{\"months\":[0,4,8]},\"id\":\"23363\",\"type\":\"MonthsTicker\"},{\"attributes\":{},\"id\":\"23334\",\"type\":\"AllLabels\"},{\"attributes\":{\"click_policy\":\"mute\",\"items\":[{\"id\":\"23369\"},{\"id\":\"23403\"}],\"location\":[0,0]},\"id\":\"23368\",\"type\":\"Legend\"},{\"attributes\":{\"data_source\":{\"id\":\"23338\"},\"glyph\":{\"id\":\"23341\"},\"hover_glyph\":null,\"muted_glyph\":{\"id\":\"23343\"},\"nonselection_glyph\":{\"id\":\"23342\"},\"selection_glyph\":{\"id\":\"23370\"},\"view\":{\"id\":\"23345\"}},\"id\":\"23344\",\"type\":\"GlyphRenderer\"},{\"attributes\":{\"end\":1617235200000.0,\"reset_end\":1617235200000.0,\"reset_start\":315532800000.0,\"start\":315532800000.0,\"tags\":[[[\"index\",\"index\",null]]]},\"id\":\"23298\",\"type\":\"Range1d\"},{\"attributes\":{\"line_color\":\"#fc4f30\",\"line_width\":2,\"x\":{\"field\":\"index\"},\"y\":{\"field\":\"value\"}},\"id\":\"23374\",\"type\":\"Line\"},{\"attributes\":{\"callback\":null,\"formatters\":{\"@{index}\":\"datetime\"},\"renderers\":[{\"id\":\"23344\"},{\"id\":\"23377\"}],\"tags\":[\"hv_created\"],\"tooltips\":[[\"Variable\",\"@{Variable}\"],[\"index\",\"@{index}{%F %T}\"],[\"value\",\"@{value}\"]]},\"id\":\"23300\",\"type\":\"HoverTool\"}],\"root_ids\":[\"23296\"]},\"title\":\"Bokeh Application\",\"version\":\"2.3.2\"}};\n",
       "    var render_items = [{\"docid\":\"5020f0e7-13fa-48cd-97ab-4a2b6b94ea21\",\"root_ids\":[\"23296\"],\"roots\":{\"23296\":\"0e064311-256d-4afa-9a89-1ba46576266a\"}}];\n",
       "    root.Bokeh.embed.embed_items_notebook(docs_json, render_items);\n",
       "  }\n",
       "  if (root.Bokeh !== undefined && root.Bokeh.Panel !== undefined && root['Plotly'] !== undefined ) {\n",
       "    embed_document(root);\n",
       "  } else {\n",
       "    var attempts = 0;\n",
       "    var timer = setInterval(function(root) {\n",
       "      if (root.Bokeh !== undefined && root.Bokeh.Panel !== undefined && root['Plotly'] !== undefined) {\n",
       "        clearInterval(timer);\n",
       "        embed_document(root);\n",
       "      } else if (document.readyState == \"complete\") {\n",
       "        attempts++;\n",
       "        if (attempts > 100) {\n",
       "          clearInterval(timer);\n",
       "          console.log(\"Bokeh: ERROR: Unable to run BokehJS code because BokehJS library is missing\");\n",
       "        }\n",
       "      }\n",
       "    }, 10, root)\n",
       "  }\n",
       "})(window);</script>"
      ],
      "text/plain": [
       ":Overlay\n",
       "   .NdOverlay.I :NdOverlay   [Variable]\n",
       "      :Curve   [index]   (value)\n",
       "   .VSpan.I     :VSpan   [x,y]\n",
       "   .Text.I      :Text   [x,y]\n",
       "   .VSpan.II    :VSpan   [x,y]\n",
       "   .Text.II     :Text   [x,y]\n",
       "   .VLine.I     :VLine   [x,y]\n",
       "   .Text.III    :Text   [x,y]\n",
       "   .VSpan.III   :VSpan   [x,y]\n",
       "   .Text.IV     :Text   [x,y]"
      ]
     },
     "execution_count": 80,
     "metadata": {
      "application/vnd.holoviews_exec.v0+json": {
       "id": "23296"
      }
     },
     "output_type": "execute_result"
    }
   ],
   "source": [
    "labeled_plot = m2_real_gdp_df.hvplot(width=1000, height=500) * pandemic_startLine * hv.Text(datetime.datetime(2020, 1, 1), 21000, \"Global Pandemic\", halign='right') * \\\n",
    "financialCrisis_startLine * hv.Text(datetime.datetime(2007, 6, 1), 19500, \"Financial Crisis\", halign='center') * \\\n",
    "september11_startLine * hv.Text(datetime.datetime(2001, 9, 11), 18000, \"Sept. 11 \", halign='right') * \\\n",
    "financial_crisis_1980 * hv.Text(datetime.datetime(1981, 7, 1), 14000, \" 1980s Financial Crisis\",halign='left')\n",
    "labeled_plot"
   ]
  },
  {
   "cell_type": "code",
   "execution_count": null,
   "id": "9242b050-d85b-419f-b841-be1228a3c975",
   "metadata": {},
   "outputs": [],
   "source": []
  }
 ],
 "metadata": {
  "kernelspec": {
   "display_name": "Python [conda env:alpacaenv]",
   "language": "python",
   "name": "conda-env-alpacaenv-py"
  },
  "language_info": {
   "codemirror_mode": {
    "name": "ipython",
    "version": 3
   },
   "file_extension": ".py",
   "mimetype": "text/x-python",
   "name": "python",
   "nbconvert_exporter": "python",
   "pygments_lexer": "ipython3",
   "version": "3.7.10"
  }
 },
 "nbformat": 4,
 "nbformat_minor": 5
}
