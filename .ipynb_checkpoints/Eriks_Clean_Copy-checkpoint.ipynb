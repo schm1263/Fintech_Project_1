{
 "cells": [
  {
   "cell_type": "markdown",
   "id": "fbf151ea-d6c6-472d-a7c3-aaf1b5eea7bd",
   "metadata": {},
   "source": [
    "# Setup:"
   ]
  },
  {
   "cell_type": "code",
   "execution_count": 60,
   "id": "d7469fae-68e3-4796-8d74-b8bf5da0f882",
   "metadata": {
    "tags": []
   },
   "outputs": [
    {
     "data": {
      "text/plain": [
       "<matplotlib.colors.ListedColormap at 0x1e951d88408>"
      ]
     },
     "execution_count": 60,
     "metadata": {},
     "output_type": "execute_result"
    }
   ],
   "source": [
    "# Initial imports\n",
    "\n",
    "import numpy as np\n",
    "import seaborn as sns\n",
    "import requests\n",
    "from dotenv import load_dotenv\n",
    "import os\n",
    "from fredapi import Fred\n",
    "\n",
    "import panel as pn\n",
    "pn.extension('plotly')\n",
    "import plotly.express as px\n",
    "import pandas as pd\n",
    "import hvplot.pandas\n",
    "import holoviews as hv\n",
    "from holoviews import opts\n",
    "import matplotlib.pyplot as plt\n",
    "import datetime\n",
    "\n",
    "sns.color_palette(\"viridis\", as_cmap=True)"
   ]
  },
  {
   "cell_type": "code",
   "execution_count": 2,
   "id": "bddcddcf-0213-4e26-aef1-c675307552ca",
   "metadata": {},
   "outputs": [
    {
     "data": {
      "text/plain": [
       "True"
      ]
     },
     "execution_count": 2,
     "metadata": {},
     "output_type": "execute_result"
    }
   ],
   "source": [
    "load_dotenv()"
   ]
  },
  {
   "cell_type": "code",
   "execution_count": 3,
   "id": "95c3e892-767d-467b-b3fd-08e08617502a",
   "metadata": {},
   "outputs": [],
   "source": [
    "api_key=os.getenv(\"FRED_API_KEY\")"
   ]
  },
  {
   "cell_type": "code",
   "execution_count": 4,
   "id": "9afa95b1-7956-4063-862b-89fdcd82c7fc",
   "metadata": {},
   "outputs": [
    {
     "data": {
      "text/plain": [
       "str"
      ]
     },
     "execution_count": 4,
     "metadata": {},
     "output_type": "execute_result"
    }
   ],
   "source": [
    "# Use the type function to confirm the retrieval of the API key\n",
    "type(api_key)"
   ]
  },
  {
   "cell_type": "markdown",
   "id": "d5167e6e-2c13-4de0-a56d-87b915eda32c",
   "metadata": {},
   "source": [
    "# Importing Data:\n",
    "- Import data from the APIs"
   ]
  },
  {
   "cell_type": "code",
   "execution_count": 5,
   "id": "3ed131ac-f498-46ba-86bf-d09e461a31fd",
   "metadata": {},
   "outputs": [],
   "source": [
    "fred = Fred(api_key)"
   ]
  },
  {
   "cell_type": "markdown",
   "id": "ff12a4b8-ca79-4480-8699-1abd54e46725",
   "metadata": {},
   "source": [
    "### M2 Data:"
   ]
  },
  {
   "cell_type": "code",
   "execution_count": 6,
   "id": "7d83d1aa-c355-4340-9b37-d5c1a6836bb8",
   "metadata": {},
   "outputs": [
    {
     "data": {
      "text/plain": [
       "1959-01-01    286.6\n",
       "1959-02-01    287.7\n",
       "1959-03-01    289.2\n",
       "1959-04-01    290.1\n",
       "1959-05-01    292.2\n",
       "dtype: float64"
      ]
     },
     "execution_count": 6,
     "metadata": {},
     "output_type": "execute_result"
    }
   ],
   "source": [
    "# Pull M2 data from January 1, 1980 - July 31, 2021,  Clean data, & put into a data frame\n",
    "# M2: In Billions of Dollars, Calculated Monthly\n",
    "m2_data = fred.get_series('M2SL')\n",
    "m2_data.head()"
   ]
  },
  {
   "cell_type": "markdown",
   "id": "ed3877e2-5a04-4113-8d16-e24abf424ac5",
   "metadata": {},
   "source": [
    "### Import Real GDP:"
   ]
  },
  {
   "cell_type": "code",
   "execution_count": 7,
   "id": "1b4463dc-3bc8-4092-b34a-2a50be053d71",
   "metadata": {},
   "outputs": [
    {
     "data": {
      "text/plain": [
       "1947-01-01    2034.450\n",
       "1947-04-01    2029.024\n",
       "1947-07-01    2024.834\n",
       "1947-10-01    2056.508\n",
       "1948-01-01    2087.442\n",
       "dtype: float64"
      ]
     },
     "execution_count": 7,
     "metadata": {},
     "output_type": "execute_result"
    }
   ],
   "source": [
    "# Real GDP: In Billions of Dollars, Calculated Quarterly\n",
    "real_GDP_data = fred.get_series('GDPC1')\n",
    "real_GDP_data.head()"
   ]
  },
  {
   "cell_type": "markdown",
   "id": "6112b35b-88b2-451f-92e2-b83ac89df9b6",
   "metadata": {},
   "source": [
    "### Import Real Personal Income data"
   ]
  },
  {
   "cell_type": "code",
   "execution_count": 8,
   "id": "cf2b34c5-bd97-4682-a286-6b15661d227a",
   "metadata": {
    "tags": []
   },
   "outputs": [
    {
     "data": {
      "text/plain": [
       "1959-01-01    2442.158\n",
       "1959-02-01    2451.778\n",
       "1959-03-01    2467.594\n",
       "1959-04-01    2483.671\n",
       "1959-05-01    2498.026\n",
       "dtype: float64"
      ]
     },
     "execution_count": 8,
     "metadata": {},
     "output_type": "execute_result"
    }
   ],
   "source": [
    "# Personal Income: In Billions of Dollars, Calculated Quarterly\n",
    "personal_inc_data = fred.get_series('RPI')\n",
    "personal_inc_data.head()"
   ]
  },
  {
   "cell_type": "code",
   "execution_count": null,
   "id": "cd77f99e-7f5f-4f12-9e20-a8947b6b88c3",
   "metadata": {},
   "outputs": [],
   "source": []
  },
  {
   "cell_type": "markdown",
   "id": "7957fc6a-eb54-4097-90a6-804ef1dc6d19",
   "metadata": {},
   "source": [
    "# Create DataFrame"
   ]
  },
  {
   "cell_type": "code",
   "execution_count": 9,
   "id": "fd32ce0a-1b19-4efe-8491-6564ad54768b",
   "metadata": {},
   "outputs": [
    {
     "data": {
      "text/html": [
       "<div>\n",
       "<style scoped>\n",
       "    .dataframe tbody tr th:only-of-type {\n",
       "        vertical-align: middle;\n",
       "    }\n",
       "\n",
       "    .dataframe tbody tr th {\n",
       "        vertical-align: top;\n",
       "    }\n",
       "\n",
       "    .dataframe thead th {\n",
       "        text-align: right;\n",
       "    }\n",
       "</style>\n",
       "<table border=\"1\" class=\"dataframe\">\n",
       "  <thead>\n",
       "    <tr style=\"text-align: right;\">\n",
       "      <th></th>\n",
       "      <th>0</th>\n",
       "      <th>1</th>\n",
       "      <th>2</th>\n",
       "    </tr>\n",
       "  </thead>\n",
       "  <tbody>\n",
       "    <tr>\n",
       "      <th>1947-01-01</th>\n",
       "      <td>NaN</td>\n",
       "      <td>NaN</td>\n",
       "      <td>2034.450</td>\n",
       "    </tr>\n",
       "    <tr>\n",
       "      <th>1947-04-01</th>\n",
       "      <td>NaN</td>\n",
       "      <td>NaN</td>\n",
       "      <td>2029.024</td>\n",
       "    </tr>\n",
       "    <tr>\n",
       "      <th>1947-07-01</th>\n",
       "      <td>NaN</td>\n",
       "      <td>NaN</td>\n",
       "      <td>2024.834</td>\n",
       "    </tr>\n",
       "    <tr>\n",
       "      <th>1947-10-01</th>\n",
       "      <td>NaN</td>\n",
       "      <td>NaN</td>\n",
       "      <td>2056.508</td>\n",
       "    </tr>\n",
       "    <tr>\n",
       "      <th>1948-01-01</th>\n",
       "      <td>NaN</td>\n",
       "      <td>NaN</td>\n",
       "      <td>2087.442</td>\n",
       "    </tr>\n",
       "  </tbody>\n",
       "</table>\n",
       "</div>"
      ],
      "text/plain": [
       "             0   1         2\n",
       "1947-01-01 NaN NaN  2034.450\n",
       "1947-04-01 NaN NaN  2029.024\n",
       "1947-07-01 NaN NaN  2024.834\n",
       "1947-10-01 NaN NaN  2056.508\n",
       "1948-01-01 NaN NaN  2087.442"
      ]
     },
     "execution_count": 9,
     "metadata": {},
     "output_type": "execute_result"
    }
   ],
   "source": [
    "#) Concatenate Data:\n",
    "all_data = pd.concat([m2_data, personal_inc_data, real_GDP_data], axis=1, join='outer'\n",
    "all_data.head()"
   ]
  },
  {
   "cell_type": "code",
   "execution_count": 10,
   "id": "024e3ab9-608e-44d1-8174-1ec3cc829192",
   "metadata": {
    "tags": []
   },
   "outputs": [
    {
     "data": {
      "text/html": [
       "<div>\n",
       "<style scoped>\n",
       "    .dataframe tbody tr th:only-of-type {\n",
       "        vertical-align: middle;\n",
       "    }\n",
       "\n",
       "    .dataframe tbody tr th {\n",
       "        vertical-align: top;\n",
       "    }\n",
       "\n",
       "    .dataframe thead th {\n",
       "        text-align: right;\n",
       "    }\n",
       "</style>\n",
       "<table border=\"1\" class=\"dataframe\">\n",
       "  <thead>\n",
       "    <tr style=\"text-align: right;\">\n",
       "      <th></th>\n",
       "      <th>M2</th>\n",
       "      <th>Personal Income</th>\n",
       "      <th>Real GDP</th>\n",
       "    </tr>\n",
       "  </thead>\n",
       "  <tbody>\n",
       "    <tr>\n",
       "      <th>1947-01-01</th>\n",
       "      <td>NaN</td>\n",
       "      <td>NaN</td>\n",
       "      <td>2034.450</td>\n",
       "    </tr>\n",
       "    <tr>\n",
       "      <th>1947-04-01</th>\n",
       "      <td>NaN</td>\n",
       "      <td>NaN</td>\n",
       "      <td>2029.024</td>\n",
       "    </tr>\n",
       "    <tr>\n",
       "      <th>1947-07-01</th>\n",
       "      <td>NaN</td>\n",
       "      <td>NaN</td>\n",
       "      <td>2024.834</td>\n",
       "    </tr>\n",
       "    <tr>\n",
       "      <th>1947-10-01</th>\n",
       "      <td>NaN</td>\n",
       "      <td>NaN</td>\n",
       "      <td>2056.508</td>\n",
       "    </tr>\n",
       "    <tr>\n",
       "      <th>1948-01-01</th>\n",
       "      <td>NaN</td>\n",
       "      <td>NaN</td>\n",
       "      <td>2087.442</td>\n",
       "    </tr>\n",
       "  </tbody>\n",
       "</table>\n",
       "</div>"
      ],
      "text/plain": [
       "            M2  Personal Income  Real GDP\n",
       "1947-01-01 NaN              NaN  2034.450\n",
       "1947-04-01 NaN              NaN  2029.024\n",
       "1947-07-01 NaN              NaN  2024.834\n",
       "1947-10-01 NaN              NaN  2056.508\n",
       "1948-01-01 NaN              NaN  2087.442"
      ]
     },
     "execution_count": 10,
     "metadata": {},
     "output_type": "execute_result"
    }
   ],
   "source": [
    "all_data.rename(columns={0:'M2', 1:'Personal Income', 2:'Real GDP'}, inplace=True)\n",
    "all_data.head()"
   ]
  },
  {
   "cell_type": "code",
   "execution_count": 11,
   "id": "818e49ba-8027-4087-a574-62412ac75814",
   "metadata": {},
   "outputs": [
    {
     "data": {
      "text/html": [
       "<div>\n",
       "<style scoped>\n",
       "    .dataframe tbody tr th:only-of-type {\n",
       "        vertical-align: middle;\n",
       "    }\n",
       "\n",
       "    .dataframe tbody tr th {\n",
       "        vertical-align: top;\n",
       "    }\n",
       "\n",
       "    .dataframe thead th {\n",
       "        text-align: right;\n",
       "    }\n",
       "</style>\n",
       "<table border=\"1\" class=\"dataframe\">\n",
       "  <thead>\n",
       "    <tr style=\"text-align: right;\">\n",
       "      <th></th>\n",
       "      <th>M2</th>\n",
       "      <th>Personal Income</th>\n",
       "      <th>Real GDP</th>\n",
       "    </tr>\n",
       "  </thead>\n",
       "  <tbody>\n",
       "    <tr>\n",
       "      <th>2021-02-01</th>\n",
       "      <td>19667.9</td>\n",
       "      <td>17678.432</td>\n",
       "      <td>NaN</td>\n",
       "    </tr>\n",
       "    <tr>\n",
       "      <th>2021-03-01</th>\n",
       "      <td>19914.0</td>\n",
       "      <td>21267.506</td>\n",
       "      <td>NaN</td>\n",
       "    </tr>\n",
       "    <tr>\n",
       "      <th>2021-04-01</th>\n",
       "      <td>20119.9</td>\n",
       "      <td>18263.434</td>\n",
       "      <td>19358.176</td>\n",
       "    </tr>\n",
       "    <tr>\n",
       "      <th>2021-05-01</th>\n",
       "      <td>20371.9</td>\n",
       "      <td>17767.022</td>\n",
       "      <td>NaN</td>\n",
       "    </tr>\n",
       "    <tr>\n",
       "      <th>2021-06-01</th>\n",
       "      <td>20388.9</td>\n",
       "      <td>17698.928</td>\n",
       "      <td>NaN</td>\n",
       "    </tr>\n",
       "  </tbody>\n",
       "</table>\n",
       "</div>"
      ],
      "text/plain": [
       "                 M2  Personal Income   Real GDP\n",
       "2021-02-01  19667.9        17678.432        NaN\n",
       "2021-03-01  19914.0        21267.506        NaN\n",
       "2021-04-01  20119.9        18263.434  19358.176\n",
       "2021-05-01  20371.9        17767.022        NaN\n",
       "2021-06-01  20388.9        17698.928        NaN"
      ]
     },
     "execution_count": 11,
     "metadata": {},
     "output_type": "execute_result"
    }
   ],
   "source": [
    "all_data.tail()"
   ]
  },
  {
   "cell_type": "code",
   "execution_count": 12,
   "id": "65d30801-134c-4300-9eaf-ebae20e3ec9e",
   "metadata": {},
   "outputs": [
    {
     "data": {
      "text/plain": [
       "M2                  48\n",
       "Personal Income     48\n",
       "Real GDP           500\n",
       "dtype: int64"
      ]
     },
     "execution_count": 12,
     "metadata": {},
     "output_type": "execute_result"
    }
   ],
   "source": [
    "# NOTE: 'Real GDP' is only quarterly & will have null values until we fill those in.\n",
    "all_data.isnull().sum()"
   ]
  },
  {
   "cell_type": "code",
   "execution_count": 13,
   "id": "55deee2f-7823-45f2-bdf0-5544e6e7526a",
   "metadata": {},
   "outputs": [
    {
     "data": {
      "text/html": [
       "<div>\n",
       "<style scoped>\n",
       "    .dataframe tbody tr th:only-of-type {\n",
       "        vertical-align: middle;\n",
       "    }\n",
       "\n",
       "    .dataframe tbody tr th {\n",
       "        vertical-align: top;\n",
       "    }\n",
       "\n",
       "    .dataframe thead th {\n",
       "        text-align: right;\n",
       "    }\n",
       "</style>\n",
       "<table border=\"1\" class=\"dataframe\">\n",
       "  <thead>\n",
       "    <tr style=\"text-align: right;\">\n",
       "      <th></th>\n",
       "      <th>M2</th>\n",
       "      <th>Personal Income</th>\n",
       "      <th>Real GDP</th>\n",
       "    </tr>\n",
       "  </thead>\n",
       "  <tbody>\n",
       "    <tr>\n",
       "      <th>2000-09-01</th>\n",
       "      <td>4853.8</td>\n",
       "      <td>11193.727</td>\n",
       "      <td>NaN</td>\n",
       "    </tr>\n",
       "    <tr>\n",
       "      <th>1983-02-01</th>\n",
       "      <td>1996.8</td>\n",
       "      <td>5938.408</td>\n",
       "      <td>NaN</td>\n",
       "    </tr>\n",
       "    <tr>\n",
       "      <th>1990-06-01</th>\n",
       "      <td>3213.7</td>\n",
       "      <td>7810.631</td>\n",
       "      <td>NaN</td>\n",
       "    </tr>\n",
       "    <tr>\n",
       "      <th>1990-09-01</th>\n",
       "      <td>3254.6</td>\n",
       "      <td>7782.070</td>\n",
       "      <td>NaN</td>\n",
       "    </tr>\n",
       "    <tr>\n",
       "      <th>2007-07-01</th>\n",
       "      <td>7307.8</td>\n",
       "      <td>13135.377</td>\n",
       "      <td>15671.605</td>\n",
       "    </tr>\n",
       "    <tr>\n",
       "      <th>2013-01-01</th>\n",
       "      <td>10481.1</td>\n",
       "      <td>13887.401</td>\n",
       "      <td>16441.485</td>\n",
       "    </tr>\n",
       "    <tr>\n",
       "      <th>2015-08-01</th>\n",
       "      <td>12104.6</td>\n",
       "      <td>15236.666</td>\n",
       "      <td>NaN</td>\n",
       "    </tr>\n",
       "  </tbody>\n",
       "</table>\n",
       "</div>"
      ],
      "text/plain": [
       "                 M2  Personal Income   Real GDP\n",
       "2000-09-01   4853.8        11193.727        NaN\n",
       "1983-02-01   1996.8         5938.408        NaN\n",
       "1990-06-01   3213.7         7810.631        NaN\n",
       "1990-09-01   3254.6         7782.070        NaN\n",
       "2007-07-01   7307.8        13135.377  15671.605\n",
       "2013-01-01  10481.1        13887.401  16441.485\n",
       "2015-08-01  12104.6        15236.666        NaN"
      ]
     },
     "execution_count": 13,
     "metadata": {},
     "output_type": "execute_result"
    }
   ],
   "source": [
    "# Adjust to desired time period:\n",
    "all_current_data = all_data['1980-01-01':'2021-07-31']\n",
    "all_current_data.sample(7)"
   ]
  },
  {
   "cell_type": "markdown",
   "id": "27ab2c19-d002-48b1-aebf-07b91647602a",
   "metadata": {},
   "source": [
    "### Use Interpolate to fill missing values in Real GDP:\n",
    "In order to plot Real GDP with the other monthly values, we needed to fill in the missing monthly values."
   ]
  },
  {
   "cell_type": "code",
   "execution_count": 14,
   "id": "5fc8fe7b-1fb8-49d5-bec1-20b23178fecb",
   "metadata": {},
   "outputs": [
    {
     "data": {
      "text/plain": [
       "1980-01-01    6842.024\n",
       "1980-02-01    6842.024\n",
       "1980-03-01    6842.024\n",
       "1980-04-01    6701.046\n",
       "1980-05-01    6701.046\n",
       "1980-06-01    6701.046\n",
       "1980-07-01    6693.082\n",
       "Name: Real GDP, dtype: float64"
      ]
     },
     "execution_count": 14,
     "metadata": {},
     "output_type": "execute_result"
    }
   ],
   "source": [
    "interpolated_GDPdata = all_current_data['Real GDP'].interpolate(method='pad')\n",
    "interpolated_GDPdata.head(7)"
   ]
  },
  {
   "cell_type": "code",
   "execution_count": 15,
   "id": "dfeabcc8-2ed6-4cc1-af92-9781b7abaa2a",
   "metadata": {},
   "outputs": [
    {
     "name": "stderr",
     "output_type": "stream",
     "text": [
      "C:\\Users\\erikl\\anaconda3\\envs\\alpacaenv\\lib\\site-packages\\ipykernel_launcher.py:1: SettingWithCopyWarning: \n",
      "A value is trying to be set on a copy of a slice from a DataFrame.\n",
      "Try using .loc[row_indexer,col_indexer] = value instead\n",
      "\n",
      "See the caveats in the documentation: http://pandas.pydata.org/pandas-docs/stable/indexing.html#indexing-view-versus-copy\n",
      "  \"\"\"Entry point for launching an IPython kernel.\n"
     ]
    }
   ],
   "source": [
    "all_current_data['Real GDP'] = interpolated_GDPdata"
   ]
  },
  {
   "cell_type": "code",
   "execution_count": 71,
   "id": "1b198b5d-a368-417f-bd0d-58159065f824",
   "metadata": {},
   "outputs": [
    {
     "data": {
      "text/html": [
       "<div>\n",
       "<style scoped>\n",
       "    .dataframe tbody tr th:only-of-type {\n",
       "        vertical-align: middle;\n",
       "    }\n",
       "\n",
       "    .dataframe tbody tr th {\n",
       "        vertical-align: top;\n",
       "    }\n",
       "\n",
       "    .dataframe thead th {\n",
       "        text-align: right;\n",
       "    }\n",
       "</style>\n",
       "<table border=\"1\" class=\"dataframe\">\n",
       "  <thead>\n",
       "    <tr style=\"text-align: right;\">\n",
       "      <th></th>\n",
       "      <th>M2</th>\n",
       "      <th>Personal Income</th>\n",
       "      <th>Real GDP</th>\n",
       "    </tr>\n",
       "  </thead>\n",
       "  <tbody>\n",
       "    <tr>\n",
       "      <th>1980-01-01</th>\n",
       "      <td>1482.7</td>\n",
       "      <td>5647.002</td>\n",
       "      <td>6842.024</td>\n",
       "    </tr>\n",
       "    <tr>\n",
       "      <th>1980-02-01</th>\n",
       "      <td>1494.6</td>\n",
       "      <td>5620.681</td>\n",
       "      <td>6842.024</td>\n",
       "    </tr>\n",
       "    <tr>\n",
       "      <th>1980-03-01</th>\n",
       "      <td>1499.8</td>\n",
       "      <td>5590.815</td>\n",
       "      <td>6842.024</td>\n",
       "    </tr>\n",
       "    <tr>\n",
       "      <th>1980-04-01</th>\n",
       "      <td>1502.2</td>\n",
       "      <td>5584.107</td>\n",
       "      <td>6701.046</td>\n",
       "    </tr>\n",
       "    <tr>\n",
       "      <th>1980-05-01</th>\n",
       "      <td>1512.3</td>\n",
       "      <td>5567.006</td>\n",
       "      <td>6701.046</td>\n",
       "    </tr>\n",
       "    <tr>\n",
       "      <th>1980-06-01</th>\n",
       "      <td>1529.2</td>\n",
       "      <td>5580.753</td>\n",
       "      <td>6701.046</td>\n",
       "    </tr>\n",
       "    <tr>\n",
       "      <th>1980-07-01</th>\n",
       "      <td>1545.5</td>\n",
       "      <td>5622.970</td>\n",
       "      <td>6693.082</td>\n",
       "    </tr>\n",
       "  </tbody>\n",
       "</table>\n",
       "</div>"
      ],
      "text/plain": [
       "                M2  Personal Income  Real GDP\n",
       "1980-01-01  1482.7         5647.002  6842.024\n",
       "1980-02-01  1494.6         5620.681  6842.024\n",
       "1980-03-01  1499.8         5590.815  6842.024\n",
       "1980-04-01  1502.2         5584.107  6701.046\n",
       "1980-05-01  1512.3         5567.006  6701.046\n",
       "1980-06-01  1529.2         5580.753  6701.046\n",
       "1980-07-01  1545.5         5622.970  6693.082"
      ]
     },
     "execution_count": 71,
     "metadata": {},
     "output_type": "execute_result"
    }
   ],
   "source": [
    "all_current_data.head(7)"
   ]
  },
  {
   "cell_type": "code",
   "execution_count": 17,
   "id": "6a06de06-25a1-417e-b4ba-bdafebf8cc2e",
   "metadata": {},
   "outputs": [
    {
     "data": {
      "text/plain": [
       "M2                 0\n",
       "Personal Income    0\n",
       "Real GDP           0\n",
       "dtype: int64"
      ]
     },
     "execution_count": 17,
     "metadata": {},
     "output_type": "execute_result"
    }
   ],
   "source": [
    "# Check for Null values:\n",
    "# NOTE: 'Real GDP' is only quarterly & will have null values until we fill those in.\n",
    "all_current_data.isnull().sum()"
   ]
  },
  {
   "cell_type": "markdown",
   "id": "93a2b1cb-04d5-409b-a0a4-1713f6ea50c2",
   "metadata": {},
   "source": [
    "# Export DataFrame to CSV:"
   ]
  },
  {
   "cell_type": "code",
   "execution_count": 73,
   "id": "4c9f06d9-c97d-4dba-b1e6-87937cdca514",
   "metadata": {},
   "outputs": [],
   "source": [
    "all_current_data.to_csv('Resources/el-M2_PersonalIncome_GDP', header=True)"
   ]
  },
  {
   "cell_type": "markdown",
   "id": "77b57396-1811-48d4-a4dd-3a0dcd7ca1a5",
   "metadata": {},
   "source": [
    "# Visualizations:"
   ]
  },
  {
   "cell_type": "markdown",
   "id": "929b0f78-132d-438d-852b-70dea9febf4d",
   "metadata": {},
   "source": [
    "## Create Correlation Visualization:"
   ]
  },
  {
   "cell_type": "markdown",
   "id": "d85f3fd1-78ed-4488-bcf9-5d36f14054cc",
   "metadata": {},
   "source": [
    "### Check correlation of original charts:"
   ]
  },
  {
   "cell_type": "code",
   "execution_count": 19,
   "id": "b93d8f6a-889b-4c48-a434-4d4a330ab3c9",
   "metadata": {},
   "outputs": [
    {
     "data": {
      "text/html": [
       "<div>\n",
       "<style scoped>\n",
       "    .dataframe tbody tr th:only-of-type {\n",
       "        vertical-align: middle;\n",
       "    }\n",
       "\n",
       "    .dataframe tbody tr th {\n",
       "        vertical-align: top;\n",
       "    }\n",
       "\n",
       "    .dataframe thead th {\n",
       "        text-align: right;\n",
       "    }\n",
       "</style>\n",
       "<table border=\"1\" class=\"dataframe\">\n",
       "  <thead>\n",
       "    <tr style=\"text-align: right;\">\n",
       "      <th></th>\n",
       "      <th>M2</th>\n",
       "      <th>Personal Income</th>\n",
       "      <th>Real GDP</th>\n",
       "    </tr>\n",
       "  </thead>\n",
       "  <tbody>\n",
       "    <tr>\n",
       "      <th>M2</th>\n",
       "      <td>1.000000</td>\n",
       "      <td>0.955377</td>\n",
       "      <td>0.921634</td>\n",
       "    </tr>\n",
       "    <tr>\n",
       "      <th>Personal Income</th>\n",
       "      <td>0.955377</td>\n",
       "      <td>1.000000</td>\n",
       "      <td>0.990938</td>\n",
       "    </tr>\n",
       "    <tr>\n",
       "      <th>Real GDP</th>\n",
       "      <td>0.921634</td>\n",
       "      <td>0.990938</td>\n",
       "      <td>1.000000</td>\n",
       "    </tr>\n",
       "  </tbody>\n",
       "</table>\n",
       "</div>"
      ],
      "text/plain": [
       "                       M2  Personal Income  Real GDP\n",
       "M2               1.000000         0.955377  0.921634\n",
       "Personal Income  0.955377         1.000000  0.990938\n",
       "Real GDP         0.921634         0.990938  1.000000"
      ]
     },
     "execution_count": 19,
     "metadata": {},
     "output_type": "execute_result"
    }
   ],
   "source": [
    "all_current_data_corr = all_current_data.corr()\n",
    "all_current_data_corr"
   ]
  },
  {
   "cell_type": "code",
   "execution_count": 20,
   "id": "1a4e4365-aa5f-4bed-97b1-0fba64f9743d",
   "metadata": {},
   "outputs": [
    {
     "data": {
      "text/plain": [
       "<matplotlib.axes._subplots.AxesSubplot at 0x1e958ee5348>"
      ]
     },
     "execution_count": 20,
     "metadata": {},
     "output_type": "execute_result"
    },
    {
     "data": {
      "image/png": "[encoded data removed]",
      "text/plain": [
       "<Figure size 432x288 with 2 Axes>"
      ]
     },
     "metadata": {
      "needs_background": "light"
     },
     "output_type": "display_data"
    }
   ],
   "source": [
    "current_data_corr_heatmap = sns.heatmap(all_current_data_corr, annot=True, vmin=-1, vmax=1)\n",
    "current_data_corr_heatmap"
   ]
  },
  {
   "cell_type": "markdown",
   "id": "e66d4d93-d19d-448e-a94f-1b6df745030d",
   "metadata": {
    "tags": []
   },
   "source": [
    "## Make Line Plot, for entire timeframe\n",
    "- Make Line Plot\n",
    "- Include Marker for Important Dates"
   ]
  },
  {
   "cell_type": "markdown",
   "id": "8a122d89-45aa-464b-baa7-87f9a5cbb265",
   "metadata": {},
   "source": [
    "## Make Line PLot with Markers for each event:\n",
    "- Pandemic: Jan. 1 2020 - 7.31.2021\n",
    "- Financial Crisis: June 2007 - Dec. 31, 2009\n",
    "- September 11: September 11, 2001"
   ]
  },
  {
   "cell_type": "markdown",
   "id": "3d358de7-b61a-41fe-bc6c-c92d20a00a64",
   "metadata": {},
   "source": [
    "### Get Documentation on VLine:\n",
    "hv.help(hv.VLine)"
   ]
  },
  {
   "cell_type": "code",
   "execution_count": 21,
   "id": "2f9d0cf0-f4c5-466b-aced-32cb7262cc7c",
   "metadata": {
    "tags": []
   },
   "outputs": [],
   "source": [
    "pandemic_startLine = hv.VSpan(datetime.datetime(2020, 1, 1),datetime.datetime(2021, 7, 1)).options(color='gray')"
   ]
  },
  {
   "cell_type": "code",
   "execution_count": 22,
   "id": "08ad93f1-1bae-416c-b065-26b8d2003731",
   "metadata": {},
   "outputs": [],
   "source": [
    "financialCrisis_startLine = hv.VSpan(datetime.datetime(2007, 6, 1),datetime.datetime(2009, 12, 31)).options(color='gray')\n",
    "september11_startLine = hv.VLine(datetime.datetime(2001, 9, 11)).options(color='gray')\n",
    "financial_crisis_1980 = hv.VSpan(datetime.datetime(1981, 7, 1), datetime.datetime(1982, 11, 1)).options(color='gray')"
   ]
  },
  {
   "cell_type": "code",
   "execution_count": 23,
   "id": "8c40de2d-e0fc-4c4d-835f-0d4a2a0cb96c",
   "metadata": {},
   "outputs": [
    {
     "data": {},
     "metadata": {},
     "output_type": "display_data"
    },
    {
     "data": {
      "application/vnd.holoviews_exec.v0+json": "",
      "text/html": [
       "<div id='1002'>\n",
       "\n",
       "\n",
       "\n",
       "\n",
       "\n",
       "  <div class=\"bk-root\" id=\"aac29d55-6e91-4c0f-8e9b-9859bdbea32e\" data-root-id=\"1002\"></div>\n",
       "</div>\n",
       "<script type=\"application/javascript\">(function(root) {\n",
       "  function embed_document(root) {\n",
       "    var docs_json = {\"d4fc1ef4-e328-4263-8117-5390a02eb4a1\":{\"defs\":[],\"roots\":{\"references\":[{\"attributes\":{},\"id\":\"1016\",\"type\":\"LinearScale\"},{\"attributes\":{\"line_alpha\":0.2,\"line_color\":\"#30a2da\",\"line_width\":2,\"x\":{\"field\":\"index\"},\"y\":{\"field\":\"value\"}},\"id\":\"1050\",\"type\":\"Line\"},{\"attributes\":{\"months\":[0,6]},\"id\":\"1070\",\"type\":\"MonthsTicker\"},{\"attributes\":{\"click_policy\":\"mute\",\"items\":[{\"id\":\"1076\"},{\"id\":\"1110\"},{\"id\":\"1146\"}],\"location\":[0,0]},\"id\":\"1075\",\"type\":\"Legend\"},{\"attributes\":{\"num_minor_ticks\":5,\"tickers\":[{\"id\":\"1060\"},{\"id\":\"1061\"},{\"id\":\"1062\"},{\"id\":\"1063\"},{\"id\":\"1064\"},{\"id\":\"1065\"},{\"id\":\"1066\"},{\"id\":\"1067\"},{\"id\":\"1068\"},{\"id\":\"1069\"},{\"id\":\"1070\"},{\"id\":\"1071\"}]},\"id\":\"1019\",\"type\":\"DatetimeTicker\"},{\"attributes\":{\"text_color\":\"black\",\"text_font_size\":\"12pt\"},\"id\":\"1010\",\"type\":\"Title\"},{\"attributes\":{\"label\":{\"value\":\"Real GDP\"},\"renderers\":[{\"id\":\"1118\"}]},\"id\":\"1146\",\"type\":\"LegendItem\"},{\"attributes\":{},\"id\":\"1071\",\"type\":\"YearsTicker\"},{\"attributes\":{},\"id\":\"1072\",\"type\":\"UnionRenderers\"},{\"attributes\":{\"angle\":{\"value\":0.0},\"text\":{\"field\":\"text\"},\"text_align\":{\"value\":\"left\"},\"text_alpha\":{\"value\":1.0},\"text_baseline\":{\"value\":\"middle\"},\"text_color\":{\"value\":\"black\"},\"text_font_size\":{\"value\":\"12Pt\"},\"text_font_style\":{\"value\":\"normal\"},\"text_line_height\":{\"value\":1.2},\"x\":{\"field\":\"x\"},\"x_offset\":{\"value\":0},\"y\":{\"field\":\"y\"},\"y_offset\":{\"value\":0}},\"id\":\"1373\",\"type\":\"Text\"},{\"attributes\":{\"line_color\":\"#30a2da\",\"line_width\":2,\"x\":{\"field\":\"index\"},\"y\":{\"field\":\"value\"}},\"id\":\"1048\",\"type\":\"Line\"},{\"attributes\":{\"axis_label\":\"\",\"formatter\":{\"id\":\"1039\"},\"major_label_policy\":{\"id\":\"1041\"},\"ticker\":{\"id\":\"1019\"}},\"id\":\"1018\",\"type\":\"DatetimeAxis\"},{\"attributes\":{\"data\":{\"text\":[\"Global Pandemic\"],\"x\":[1577836800000.0],\"y\":[21000]},\"selected\":{\"id\":\"1334\"},\"selection_policy\":{\"id\":\"1399\"}},\"id\":\"1333\",\"type\":\"ColumnDataSource\"},{\"attributes\":{},\"id\":\"1023\",\"type\":\"BasicTicker\"},{\"attributes\":{\"axis\":{\"id\":\"1018\"},\"grid_line_color\":null,\"ticker\":null},\"id\":\"1021\",\"type\":\"Grid\"},{\"attributes\":{\"line_alpha\":0.1,\"line_color\":\"#30a2da\",\"line_width\":2,\"x\":{\"field\":\"index\"},\"y\":{\"field\":\"value\"}},\"id\":\"1049\",\"type\":\"Line\"},{\"attributes\":{},\"id\":\"1113\",\"type\":\"Selection\"},{\"attributes\":{\"days\":[1,8,15,22]},\"id\":\"1065\",\"type\":\"DaysTicker\"},{\"attributes\":{\"fill_alpha\":0.5,\"fill_color\":\"gray\",\"left\":1577836800000.0,\"level\":\"glyph\",\"line_alpha\":0.5,\"line_color\":\"gray\",\"right\":1625097600000.0},\"id\":\"1332\",\"type\":\"BoxAnnotation\"},{\"attributes\":{\"label\":{\"value\":\"M2\"},\"renderers\":[{\"id\":\"1051\"}]},\"id\":\"1076\",\"type\":\"LegendItem\"},{\"attributes\":{\"data_source\":{\"id\":\"1333\"},\"glyph\":{\"id\":\"1336\"},\"hover_glyph\":null,\"muted_glyph\":null,\"nonselection_glyph\":{\"id\":\"1337\"},\"selection_glyph\":{\"id\":\"1340\"},\"view\":{\"id\":\"1339\"}},\"id\":\"1338\",\"type\":\"GlyphRenderer\"},{\"attributes\":{\"axis\":{\"id\":\"1022\"},\"dimension\":1,\"grid_line_color\":null,\"ticker\":null},\"id\":\"1025\",\"type\":\"Grid\"},{\"attributes\":{\"children\":[{\"id\":\"1003\"},{\"id\":\"1009\"},{\"id\":\"1680\"}],\"margin\":[0,0,0,0],\"name\":\"Row01800\",\"tags\":[\"embedded\"]},\"id\":\"1002\",\"type\":\"Row\"},{\"attributes\":{\"end\":1622505600000.0,\"reset_end\":1622505600000.0,\"reset_start\":315532800000.0,\"start\":315532800000.0,\"tags\":[[[\"index\",\"index\",null]]]},\"id\":\"1004\",\"type\":\"Range1d\"},{\"attributes\":{\"text_align\":{\"value\":\"right\"},\"text_baseline\":{\"value\":\"middle\"},\"text_color\":{\"value\":\"black\"},\"text_font_size\":{\"value\":\"12Pt\"},\"x\":{\"field\":\"x\"},\"y\":{\"field\":\"y\"}},\"id\":\"1336\",\"type\":\"Text\"},{\"attributes\":{\"days\":[1,15]},\"id\":\"1066\",\"type\":\"DaysTicker\"},{\"attributes\":{\"below\":[{\"id\":\"1018\"}],\"center\":[{\"id\":\"1021\"},{\"id\":\"1025\"}],\"height\":500,\"left\":[{\"id\":\"1022\"}],\"margin\":[5,5,5,5],\"min_border_bottom\":10,\"min_border_left\":10,\"min_border_right\":10,\"min_border_top\":10,\"renderers\":[{\"id\":\"1051\"},{\"id\":\"1084\"},{\"id\":\"1118\"},{\"id\":\"1332\"},{\"id\":\"1338\"},{\"id\":\"1343\"},{\"id\":\"1349\"},{\"id\":\"1354\"},{\"id\":\"1360\"},{\"id\":\"1365\"},{\"id\":\"1371\"}],\"right\":[{\"id\":\"1075\"}],\"sizing_mode\":\"fixed\",\"title\":{\"id\":\"1010\"},\"toolbar\":{\"id\":\"1032\"},\"width\":1000,\"x_range\":{\"id\":\"1004\"},\"x_scale\":{\"id\":\"1014\"},\"y_range\":{\"id\":\"1005\"},\"y_scale\":{\"id\":\"1016\"}},\"id\":\"1009\",\"subtype\":\"Figure\",\"type\":\"Plot\"},{\"attributes\":{\"data\":{\"text\":[\" 1980s Financial Crisis\"],\"x\":[362793600000.0],\"y\":[14000]},\"selected\":{\"id\":\"1367\"},\"selection_policy\":{\"id\":\"1405\"}},\"id\":\"1366\",\"type\":\"ColumnDataSource\"},{\"attributes\":{\"line_color\":\"#30a2da\",\"line_width\":2,\"x\":{\"field\":\"index\"},\"y\":{\"field\":\"value\"}},\"id\":\"1077\",\"type\":\"Line\"},{\"attributes\":{\"line_color\":\"#fc4f30\",\"line_width\":2,\"x\":{\"field\":\"index\"},\"y\":{\"field\":\"value\"}},\"id\":\"1111\",\"type\":\"Line\"},{\"attributes\":{\"angle\":{\"value\":0.0},\"text\":{\"field\":\"text\"},\"text_align\":{\"value\":\"right\"},\"text_alpha\":{\"value\":1.0},\"text_baseline\":{\"value\":\"middle\"},\"text_color\":{\"value\":\"black\"},\"text_font_size\":{\"value\":\"12Pt\"},\"text_font_style\":{\"value\":\"normal\"},\"text_line_height\":{\"value\":1.2},\"x\":{\"field\":\"x\"},\"x_offset\":{\"value\":0},\"y\":{\"field\":\"y\"},\"y_offset\":{\"value\":0}},\"id\":\"1340\",\"type\":\"Text\"},{\"attributes\":{\"text_align\":{\"value\":\"right\"},\"text_alpha\":{\"value\":0.1},\"text_baseline\":{\"value\":\"middle\"},\"text_color\":{\"value\":\"black\"},\"text_font_size\":{\"value\":\"12Pt\"},\"x\":{\"field\":\"x\"},\"y\":{\"field\":\"y\"}},\"id\":\"1359\",\"type\":\"Text\"},{\"attributes\":{\"line_color\":\"#e5ae38\",\"line_width\":2,\"x\":{\"field\":\"index\"},\"y\":{\"field\":\"value\"}},\"id\":\"1147\",\"type\":\"Line\"},{\"attributes\":{\"data_source\":{\"id\":\"1355\"},\"glyph\":{\"id\":\"1358\"},\"hover_glyph\":null,\"muted_glyph\":null,\"nonselection_glyph\":{\"id\":\"1359\"},\"selection_glyph\":{\"id\":\"1362\"},\"view\":{\"id\":\"1361\"}},\"id\":\"1360\",\"type\":\"GlyphRenderer\"},{\"attributes\":{\"days\":[1,4,7,10,13,16,19,22,25,28]},\"id\":\"1064\",\"type\":\"DaysTicker\"},{\"attributes\":{\"active_multi\":null,\"tools\":[{\"id\":\"1006\"},{\"id\":\"1026\"},{\"id\":\"1027\"},{\"id\":\"1028\"},{\"id\":\"1029\"},{\"id\":\"1030\"}]},\"id\":\"1032\",\"type\":\"Toolbar\"},{\"attributes\":{},\"id\":\"1042\",\"type\":\"BasicTickFormatter\"},{\"attributes\":{\"text_alpha\":{\"value\":0.1},\"text_baseline\":{\"value\":\"middle\"},\"text_color\":{\"value\":\"black\"},\"text_font_size\":{\"value\":\"12Pt\"},\"x\":{\"field\":\"x\"},\"y\":{\"field\":\"y\"}},\"id\":\"1370\",\"type\":\"Text\"},{\"attributes\":{\"fill_alpha\":0.5,\"fill_color\":\"gray\",\"left\":1180656000000.0,\"level\":\"glyph\",\"line_alpha\":0.5,\"line_color\":\"gray\",\"right\":1262217600000.0},\"id\":\"1343\",\"type\":\"BoxAnnotation\"},{\"attributes\":{},\"id\":\"1026\",\"type\":\"SaveTool\"},{\"attributes\":{},\"id\":\"1027\",\"type\":\"PanTool\"},{\"attributes\":{\"data_source\":{\"id\":\"1045\"},\"glyph\":{\"id\":\"1048\"},\"hover_glyph\":null,\"muted_glyph\":{\"id\":\"1050\"},\"nonselection_glyph\":{\"id\":\"1049\"},\"selection_glyph\":{\"id\":\"1077\"},\"view\":{\"id\":\"1052\"}},\"id\":\"1051\",\"type\":\"GlyphRenderer\"},{\"attributes\":{},\"id\":\"1030\",\"type\":\"ResetTool\"},{\"attributes\":{\"days\":[1,2,3,4,5,6,7,8,9,10,11,12,13,14,15,16,17,18,19,20,21,22,23,24,25,26,27,28,29,30,31]},\"id\":\"1063\",\"type\":\"DaysTicker\"},{\"attributes\":{\"source\":{\"id\":\"1112\"}},\"id\":\"1119\",\"type\":\"CDSView\"},{\"attributes\":{\"source\":{\"id\":\"1333\"}},\"id\":\"1339\",\"type\":\"CDSView\"},{\"attributes\":{},\"id\":\"1028\",\"type\":\"WheelZoomTool\"},{\"attributes\":{\"line_color\":\"#fc4f30\",\"line_width\":2,\"x\":{\"field\":\"index\"},\"y\":{\"field\":\"value\"}},\"id\":\"1081\",\"type\":\"Line\"},{\"attributes\":{\"base\":60,\"mantissas\":[1,2,5,10,15,20,30],\"max_interval\":1800000.0,\"min_interval\":1000.0,\"num_minor_ticks\":0},\"id\":\"1061\",\"type\":\"AdaptiveTicker\"},{\"attributes\":{\"source\":{\"id\":\"1355\"}},\"id\":\"1361\",\"type\":\"CDSView\"},{\"attributes\":{\"end\":23245.9866,\"reset_end\":23245.9866,\"reset_start\":-495.78060000000005,\"start\":-495.78060000000005,\"tags\":[[[\"value\",\"value\",null]]]},\"id\":\"1005\",\"type\":\"Range1d\"},{\"attributes\":{\"overlay\":{\"id\":\"1031\"}},\"id\":\"1029\",\"type\":\"BoxZoomTool\"},{\"attributes\":{},\"id\":\"1143\",\"type\":\"UnionRenderers\"},{\"attributes\":{\"line_alpha\":0.1,\"line_color\":\"#e5ae38\",\"line_width\":2,\"x\":{\"field\":\"index\"},\"y\":{\"field\":\"value\"}},\"id\":\"1116\",\"type\":\"Line\"},{\"attributes\":{\"base\":24,\"mantissas\":[1,2,4,6,8,12],\"max_interval\":43200000.0,\"min_interval\":3600000.0,\"num_minor_ticks\":0},\"id\":\"1062\",\"type\":\"AdaptiveTicker\"},{\"attributes\":{\"dimension\":\"height\",\"level\":\"glyph\",\"line_color\":\"gray\",\"line_width\":3,\"location\":1000166400000},\"id\":\"1354\",\"type\":\"Span\"},{\"attributes\":{\"data\":{\"text\":[\"Sept. 11 \"],\"x\":[1000166400000.0],\"y\":[18000]},\"selected\":{\"id\":\"1356\"},\"selection_policy\":{\"id\":\"1403\"}},\"id\":\"1355\",\"type\":\"ColumnDataSource\"},{\"attributes\":{\"data_source\":{\"id\":\"1112\"},\"glyph\":{\"id\":\"1115\"},\"hover_glyph\":null,\"muted_glyph\":{\"id\":\"1117\"},\"nonselection_glyph\":{\"id\":\"1116\"},\"selection_glyph\":{\"id\":\"1147\"},\"view\":{\"id\":\"1119\"}},\"id\":\"1118\",\"type\":\"GlyphRenderer\"},{\"attributes\":{\"data\":{\"Variable\":[\"Personal Income\",\"Personal Income\",\"Personal Income\",\"Personal Income\",\"Personal Income\",\"Personal Income\",\"Personal Income\",\"Personal Income\",\"Personal Income\",\"Personal Income\",\"Personal Income\",\"Personal Income\",\"Personal Income\",\"Personal Income\",\"Personal Income\",\"Personal Income\",\"Personal Income\",\"Personal Income\",\"Personal Income\",\"Personal Income\",\"Personal Income\",\"Personal Income\",\"Personal Income\",\"Personal Income\",\"Personal Income\",\"Personal Income\",\"Personal Income\",\"Personal Income\",\"Personal Income\",\"Personal Income\",\"Personal Income\",\"Personal Income\",\"Personal Income\",\"Personal Income\",\"Personal Income\",\"Personal Income\",\"Personal Income\",\"Personal Income\",\"Personal Income\",\"Personal Income\",\"Personal Income\",\"Personal Income\",\"Personal Income\",\"Personal Income\",\"Personal Income\",\"Personal Income\",\"Personal Income\",\"Personal Income\",\"Personal Income\",\"Personal Income\",\"Personal Income\",\"Personal Income\",\"Personal Income\",\"Personal Income\",\"Personal Income\",\"Personal Income\",\"Personal Income\",\"Personal Income\",\"Personal Income\",\"Personal Income\",\"Personal Income\",\"Personal Income\",\"Personal Income\",\"Personal Income\",\"Personal Income\",\"Personal Income\",\"Personal Income\",\"Personal Income\",\"Personal Income\",\"Personal Income\",\"Personal Income\",\"Personal Income\",\"Personal Income\",\"Personal Income\",\"Personal Income\",\"Personal Income\",\"Personal Income\",\"Personal Income\",\"Personal Income\",\"Personal Income\",\"Personal Income\",\"Personal Income\",\"Personal Income\",\"Personal Income\",\"Personal Income\",\"Personal Income\",\"Personal Income\",\"Personal Income\",\"Personal Income\",\"Personal Income\",\"Personal Income\",\"Personal Income\",\"Personal Income\",\"Personal Income\",\"Personal Income\",\"Personal Income\",\"Personal Income\",\"Personal Income\",\"Personal Income\",\"Personal Income\",\"Personal Income\",\"Personal Income\",\"Personal Income\",\"Personal Income\",\"Personal Income\",\"Personal Income\",\"Personal Income\",\"Personal Income\",\"Personal Income\",\"Personal Income\",\"Personal Income\",\"Personal Income\",\"Personal Income\",\"Personal Income\",\"Personal Income\",\"Personal Income\",\"Personal Income\",\"Personal Income\",\"Personal Income\",\"Personal Income\",\"Personal Income\",\"Personal Income\",\"Personal Income\",\"Personal Income\",\"Personal Income\",\"Personal Income\",\"Personal Income\",\"Personal Income\",\"Personal Income\",\"Personal Income\",\"Personal Income\",\"Personal Income\",\"Personal Income\",\"Personal Income\",\"Personal Income\",\"Personal Income\",\"Personal Income\",\"Personal Income\",\"Personal Income\",\"Personal Income\",\"Personal Income\",\"Personal Income\",\"Personal Income\",\"Personal Income\",\"Personal Income\",\"Personal Income\",\"Personal Income\",\"Personal Income\",\"Personal Income\",\"Personal Income\",\"Personal Income\",\"Personal Income\",\"Personal Income\",\"Personal Income\",\"Personal Income\",\"Personal Income\",\"Personal Income\",\"Personal Income\",\"Personal Income\",\"Personal Income\",\"Personal Income\",\"Personal Income\",\"Personal Income\",\"Personal Income\",\"Personal Income\",\"Personal Income\",\"Personal Income\",\"Personal Income\",\"Personal Income\",\"Personal Income\",\"Personal Income\",\"Personal Income\",\"Personal Income\",\"Personal Income\",\"Personal Income\",\"Personal Income\",\"Personal Income\",\"Personal Income\",\"Personal Income\",\"Personal Income\",\"Personal Income\",\"Personal Income\",\"Personal Income\",\"Personal Income\",\"Personal Income\",\"Personal Income\",\"Personal Income\",\"Personal Income\",\"Personal Income\",\"Personal Income\",\"Personal Income\",\"Personal Income\",\"Personal Income\",\"Personal Income\",\"Personal Income\",\"Personal Income\",\"Personal Income\",\"Personal Income\",\"Personal Income\",\"Personal Income\",\"Personal Income\",\"Personal Income\",\"Personal Income\",\"Personal Income\",\"Personal Income\",\"Personal Income\",\"Personal Income\",\"Personal Income\",\"Personal Income\",\"Personal Income\",\"Personal Income\",\"Personal Income\",\"Personal Income\",\"Personal Income\",\"Personal Income\",\"Personal Income\",\"Personal Income\",\"Personal Income\",\"Personal Income\",\"Personal Income\",\"Personal Income\",\"Personal Income\",\"Personal Income\",\"Personal Income\",\"Personal Income\",\"Personal Income\",\"Personal Income\",\"Personal Income\",\"Personal Income\",\"Personal Income\",\"Personal Income\",\"Personal Income\",\"Personal Income\",\"Personal Income\",\"Personal Income\",\"Personal Income\",\"Personal Income\",\"Personal Income\",\"Personal Income\",\"Personal Income\",\"Personal Income\",\"Personal Income\",\"Personal Income\",\"Personal Income\",\"Personal Income\",\"Personal Income\",\"Personal Income\",\"Personal Income\",\"Personal Income\",\"Personal Income\",\"Personal Income\",\"Personal Income\",\"Personal Income\",\"Personal Income\",\"Personal Income\",\"Personal Income\",\"Personal Income\",\"Personal Income\",\"Personal Income\",\"Personal Income\",\"Personal Income\",\"Personal Income\",\"Personal Income\",\"Personal Income\",\"Personal Income\",\"Personal Income\",\"Personal Income\",\"Personal Income\",\"Personal Income\",\"Personal Income\",\"Personal Income\",\"Personal Income\",\"Personal Income\",\"Personal Income\",\"Personal Income\",\"Personal Income\",\"Personal Income\",\"Personal Income\",\"Personal Income\",\"Personal Income\",\"Personal Income\",\"Personal Income\",\"Personal Income\",\"Personal Income\",\"Personal Income\",\"Personal Income\",\"Personal Income\",\"Personal Income\",\"Personal Income\",\"Personal Income\",\"Personal Income\",\"Personal Income\",\"Personal Income\",\"Personal Income\",\"Personal Income\",\"Personal Income\",\"Personal Income\",\"Personal Income\",\"Personal Income\",\"Personal Income\",\"Personal Income\",\"Personal Income\",\"Personal Income\",\"Personal Income\",\"Personal Income\",\"Personal Income\",\"Personal Income\",\"Personal Income\",\"Personal Income\",\"Personal Income\",\"Personal Income\",\"Personal Income\",\"Personal Income\",\"Personal Income\",\"Personal Income\",\"Personal Income\",\"Personal Income\",\"Personal Income\",\"Personal Income\",\"Personal Income\",\"Personal Income\",\"Personal Income\",\"Personal Income\",\"Personal Income\",\"Personal Income\",\"Personal Income\",\"Personal Income\",\"Personal Income\",\"Personal Income\",\"Personal Income\",\"Personal Income\",\"Personal Income\",\"Personal Income\",\"Personal Income\",\"Personal Income\",\"Personal Income\",\"Personal Income\",\"Personal Income\",\"Personal Income\",\"Personal Income\",\"Personal Income\",\"Personal Income\",\"Personal Income\",\"Personal Income\",\"Personal Income\",\"Personal Income\",\"Personal Income\",\"Personal Income\",\"Personal Income\",\"Personal Income\",\"Personal Income\",\"Personal Income\",\"Personal Income\",\"Personal Income\",\"Personal Income\",\"Personal Income\",\"Personal Income\",\"Personal Income\",\"Personal Income\",\"Personal Income\",\"Personal Income\",\"Personal Income\",\"Personal Income\",\"Personal Income\",\"Personal Income\",\"Personal Income\",\"Personal Income\",\"Personal Income\",\"Personal Income\",\"Personal Income\",\"Personal Income\",\"Personal Income\",\"Personal Income\",\"Personal Income\",\"Personal Income\",\"Personal Income\",\"Personal Income\",\"Personal Income\",\"Personal Income\",\"Personal Income\",\"Personal Income\",\"Personal Income\",\"Personal Income\",\"Personal Income\",\"Personal Income\",\"Personal Income\",\"Personal Income\",\"Personal Income\",\"Personal Income\",\"Personal Income\",\"Personal Income\",\"Personal Income\",\"Personal Income\",\"Personal Income\",\"Personal Income\",\"Personal Income\",\"Personal Income\",\"Personal Income\",\"Personal Income\",\"Personal Income\",\"Personal Income\",\"Personal Income\",\"Personal Income\",\"Personal Income\",\"Personal Income\",\"Personal Income\",\"Personal Income\",\"Personal Income\",\"Personal Income\",\"Personal Income\",\"Personal Income\",\"Personal Income\",\"Personal Income\",\"Personal Income\",\"Personal Income\",\"Personal Income\",\"Personal Income\",\"Personal Income\",\"Personal Income\",\"Personal Income\",\"Personal Income\",\"Personal Income\",\"Personal Income\",\"Personal Income\",\"Personal Income\",\"Personal Income\",\"Personal Income\",\"Personal Income\",\"Personal Income\",\"Personal Income\",\"Personal Income\",\"Personal Income\",\"Personal Income\",\"Personal Income\",\"Personal Income\",\"Personal Income\",\"Personal Income\",\"Personal Income\",\"Personal Income\",\"Personal Income\",\"Personal Income\",\"Personal Income\",\"Personal Income\",\"Personal Income\",\"Personal Income\",\"Personal Income\",\"Personal Income\",\"Personal Income\",\"Personal Income\",\"Personal Income\",\"Personal Income\",\"Personal Income\",\"Personal Income\",\"Personal Income\",\"Personal Income\",\"Personal Income\",\"Personal Income\",\"Personal Income\",\"Personal Income\",\"Personal Income\",\"Personal Income\",\"Personal Income\",\"Personal Income\",\"Personal Income\",\"Personal Income\",\"Personal Income\",\"Personal Income\",\"Personal Income\",\"Personal Income\",\"Personal Income\",\"Personal Income\",\"Personal Income\",\"Personal Income\",\"Personal Income\",\"Personal Income\",\"Personal Income\",\"Personal Income\",\"Personal Income\",\"Personal Income\",\"Personal Income\",\"Personal Income\",\"Personal Income\",\"Personal Income\",\"Personal Income\",\"Personal Income\",\"Personal Income\",\"Personal Income\",\"Personal Income\",\"Personal Income\",\"Personal Income\",\"Personal Income\",\"Personal Income\",\"Personal Income\",\"Personal Income\",\"Personal Income\",\"Personal Income\",\"Personal Income\",\"Personal Income\"],\"index\":{\"__ndarray__\":\"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\",\"dtype\":\"float64\",\"order\":\"little\",\"shape\":[498]},\"value\":{\"__ndarray__\":\"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\",\"dtype\":\"float64\",\"order\":\"little\",\"shape\":[498]}},\"selected\":{\"id\":\"1079\"},\"selection_policy\":{\"id\":\"1107\"}},\"id\":\"1078\",\"type\":\"ColumnDataSource\"},{\"attributes\":{\"text_align\":{\"value\":\"right\"},\"text_alpha\":{\"value\":0.1},\"text_baseline\":{\"value\":\"middle\"},\"text_color\":{\"value\":\"black\"},\"text_font_size\":{\"value\":\"12Pt\"},\"x\":{\"field\":\"x\"},\"y\":{\"field\":\"y\"}},\"id\":\"1337\",\"type\":\"Text\"},{\"attributes\":{\"source\":{\"id\":\"1078\"}},\"id\":\"1085\",\"type\":\"CDSView\"},{\"attributes\":{\"text_align\":{\"value\":\"right\"},\"text_baseline\":{\"value\":\"middle\"},\"text_color\":{\"value\":\"black\"},\"text_font_size\":{\"value\":\"12Pt\"},\"x\":{\"field\":\"x\"},\"y\":{\"field\":\"y\"}},\"id\":\"1358\",\"type\":\"Text\"},{\"attributes\":{\"fill_alpha\":0.5,\"fill_color\":\"gray\",\"left\":362793600000.0,\"level\":\"glyph\",\"line_alpha\":0.5,\"line_color\":\"gray\",\"right\":404956800000.0},\"id\":\"1365\",\"type\":\"BoxAnnotation\"},{\"attributes\":{\"line_alpha\":0.2,\"line_color\":\"#fc4f30\",\"line_width\":2,\"x\":{\"field\":\"index\"},\"y\":{\"field\":\"value\"}},\"id\":\"1083\",\"type\":\"Line\"},{\"attributes\":{},\"id\":\"1041\",\"type\":\"AllLabels\"},{\"attributes\":{\"data_source\":{\"id\":\"1366\"},\"glyph\":{\"id\":\"1369\"},\"hover_glyph\":null,\"muted_glyph\":null,\"nonselection_glyph\":{\"id\":\"1370\"},\"selection_glyph\":{\"id\":\"1373\"},\"view\":{\"id\":\"1372\"}},\"id\":\"1371\",\"type\":\"GlyphRenderer\"},{\"attributes\":{},\"id\":\"1039\",\"type\":\"DatetimeTickFormatter\"},{\"attributes\":{\"source\":{\"id\":\"1344\"}},\"id\":\"1350\",\"type\":\"CDSView\"},{\"attributes\":{\"data_source\":{\"id\":\"1078\"},\"glyph\":{\"id\":\"1081\"},\"hover_glyph\":null,\"muted_glyph\":{\"id\":\"1083\"},\"nonselection_glyph\":{\"id\":\"1082\"},\"selection_glyph\":{\"id\":\"1111\"},\"view\":{\"id\":\"1085\"}},\"id\":\"1084\",\"type\":\"GlyphRenderer\"},{\"attributes\":{\"line_alpha\":0.2,\"line_color\":\"#e5ae38\",\"line_width\":2,\"x\":{\"field\":\"index\"},\"y\":{\"field\":\"value\"}},\"id\":\"1117\",\"type\":\"Line\"},{\"attributes\":{\"margin\":[5,5,5,5],\"name\":\"HSpacer01805\",\"sizing_mode\":\"stretch_width\"},\"id\":\"1680\",\"type\":\"Spacer\"},{\"attributes\":{\"axis_label\":\"\",\"formatter\":{\"id\":\"1042\"},\"major_label_policy\":{\"id\":\"1044\"},\"ticker\":{\"id\":\"1023\"}},\"id\":\"1022\",\"type\":\"LinearAxis\"},{\"attributes\":{},\"id\":\"1403\",\"type\":\"UnionRenderers\"},{\"attributes\":{},\"id\":\"1044\",\"type\":\"AllLabels\"},{\"attributes\":{\"text_align\":{\"value\":\"center\"},\"text_alpha\":{\"value\":0.1},\"text_baseline\":{\"value\":\"middle\"},\"text_color\":{\"value\":\"black\"},\"text_font_size\":{\"value\":\"12Pt\"},\"x\":{\"field\":\"x\"},\"y\":{\"field\":\"y\"}},\"id\":\"1348\",\"type\":\"Text\"},{\"attributes\":{\"margin\":[5,5,5,5],\"name\":\"HSpacer01804\",\"sizing_mode\":\"stretch_width\"},\"id\":\"1003\",\"type\":\"Spacer\"},{\"attributes\":{\"line_alpha\":0.1,\"line_color\":\"#fc4f30\",\"line_width\":2,\"x\":{\"field\":\"index\"},\"y\":{\"field\":\"value\"}},\"id\":\"1082\",\"type\":\"Line\"},{\"attributes\":{\"months\":[0,2,4,6,8,10]},\"id\":\"1068\",\"type\":\"MonthsTicker\"},{\"attributes\":{\"label\":{\"value\":\"Personal Income\"},\"renderers\":[{\"id\":\"1084\"}]},\"id\":\"1110\",\"type\":\"LegendItem\"},{\"attributes\":{\"line_color\":\"#e5ae38\",\"line_width\":2,\"x\":{\"field\":\"index\"},\"y\":{\"field\":\"value\"}},\"id\":\"1115\",\"type\":\"Line\"},{\"attributes\":{},\"id\":\"1107\",\"type\":\"UnionRenderers\"},{\"attributes\":{\"bottom_units\":\"screen\",\"fill_alpha\":0.5,\"fill_color\":\"lightgrey\",\"left_units\":\"screen\",\"level\":\"overlay\",\"line_alpha\":1.0,\"line_color\":\"black\",\"line_dash\":[4,4],\"line_width\":2,\"right_units\":\"screen\",\"syncable\":false,\"top_units\":\"screen\"},\"id\":\"1031\",\"type\":\"BoxAnnotation\"},{\"attributes\":{\"data\":{\"Variable\":[\"Real GDP\",\"Real GDP\",\"Real GDP\",\"Real GDP\",\"Real GDP\",\"Real GDP\",\"Real GDP\",\"Real GDP\",\"Real GDP\",\"Real GDP\",\"Real GDP\",\"Real GDP\",\"Real GDP\",\"Real GDP\",\"Real GDP\",\"Real GDP\",\"Real GDP\",\"Real GDP\",\"Real GDP\",\"Real GDP\",\"Real GDP\",\"Real GDP\",\"Real GDP\",\"Real GDP\",\"Real GDP\",\"Real GDP\",\"Real GDP\",\"Real GDP\",\"Real GDP\",\"Real GDP\",\"Real GDP\",\"Real GDP\",\"Real GDP\",\"Real GDP\",\"Real GDP\",\"Real GDP\",\"Real GDP\",\"Real GDP\",\"Real GDP\",\"Real GDP\",\"Real GDP\",\"Real GDP\",\"Real GDP\",\"Real GDP\",\"Real GDP\",\"Real GDP\",\"Real GDP\",\"Real GDP\",\"Real GDP\",\"Real GDP\",\"Real GDP\",\"Real GDP\",\"Real GDP\",\"Real GDP\",\"Real GDP\",\"Real GDP\",\"Real GDP\",\"Real GDP\",\"Real GDP\",\"Real GDP\",\"Real GDP\",\"Real GDP\",\"Real GDP\",\"Real GDP\",\"Real GDP\",\"Real GDP\",\"Real GDP\",\"Real GDP\",\"Real GDP\",\"Real GDP\",\"Real GDP\",\"Real GDP\",\"Real GDP\",\"Real GDP\",\"Real GDP\",\"Real GDP\",\"Real GDP\",\"Real GDP\",\"Real GDP\",\"Real GDP\",\"Real GDP\",\"Real GDP\",\"Real GDP\",\"Real GDP\",\"Real GDP\",\"Real GDP\",\"Real GDP\",\"Real GDP\",\"Real GDP\",\"Real GDP\",\"Real GDP\",\"Real GDP\",\"Real GDP\",\"Real GDP\",\"Real GDP\",\"Real GDP\",\"Real GDP\",\"Real GDP\",\"Real GDP\",\"Real GDP\",\"Real GDP\",\"Real GDP\",\"Real GDP\",\"Real GDP\",\"Real GDP\",\"Real GDP\",\"Real GDP\",\"Real GDP\",\"Real GDP\",\"Real GDP\",\"Real GDP\",\"Real GDP\",\"Real GDP\",\"Real GDP\",\"Real GDP\",\"Real GDP\",\"Real GDP\",\"Real GDP\",\"Real GDP\",\"Real GDP\",\"Real GDP\",\"Real GDP\",\"Real GDP\",\"Real GDP\",\"Real GDP\",\"Real GDP\",\"Real GDP\",\"Real GDP\",\"Real GDP\",\"Real GDP\",\"Real GDP\",\"Real GDP\",\"Real GDP\",\"Real GDP\",\"Real GDP\",\"Real GDP\",\"Real GDP\",\"Real GDP\",\"Real GDP\",\"Real GDP\",\"Real GDP\",\"Real GDP\",\"Real GDP\",\"Real GDP\",\"Real GDP\",\"Real GDP\",\"Real GDP\",\"Real GDP\",\"Real GDP\",\"Real GDP\",\"Real GDP\",\"Real GDP\",\"Real GDP\",\"Real GDP\",\"Real GDP\",\"Real GDP\",\"Real GDP\",\"Real GDP\",\"Real GDP\",\"Real GDP\",\"Real GDP\",\"Real GDP\",\"Real GDP\",\"Real GDP\",\"Real GDP\",\"Real GDP\",\"Real GDP\",\"Real GDP\",\"Real GDP\",\"Real GDP\",\"Real GDP\",\"Real GDP\",\"Real GDP\",\"Real GDP\",\"Real GDP\",\"Real GDP\",\"Real GDP\",\"Real GDP\",\"Real GDP\",\"Real GDP\",\"Real GDP\",\"Real GDP\",\"Real GDP\",\"Real GDP\",\"Real GDP\",\"Real GDP\",\"Real GDP\",\"Real GDP\",\"Real GDP\",\"Real GDP\",\"Real GDP\",\"Real GDP\",\"Real GDP\",\"Real GDP\",\"Real GDP\",\"Real GDP\",\"Real GDP\",\"Real GDP\",\"Real GDP\",\"Real GDP\",\"Real GDP\",\"Real GDP\",\"Real GDP\",\"Real GDP\",\"Real GDP\",\"Real GDP\",\"Real GDP\",\"Real GDP\",\"Real GDP\",\"Real GDP\",\"Real GDP\",\"Real GDP\",\"Real GDP\",\"Real GDP\",\"Real GDP\",\"Real GDP\",\"Real GDP\",\"Real GDP\",\"Real GDP\",\"Real GDP\",\"Real GDP\",\"Real GDP\",\"Real GDP\",\"Real GDP\",\"Real GDP\",\"Real GDP\",\"Real GDP\",\"Real GDP\",\"Real GDP\",\"Real GDP\",\"Real GDP\",\"Real GDP\",\"Real GDP\",\"Real GDP\",\"Real GDP\",\"Real GDP\",\"Real GDP\",\"Real GDP\",\"Real GDP\",\"Real GDP\",\"Real GDP\",\"Real GDP\",\"Real GDP\",\"Real GDP\",\"Real GDP\",\"Real GDP\",\"Real GDP\",\"Real GDP\",\"Real GDP\",\"Real GDP\",\"Real GDP\",\"Real GDP\",\"Real GDP\",\"Real GDP\",\"Real GDP\",\"Real GDP\",\"Real GDP\",\"Real GDP\",\"Real GDP\",\"Real GDP\",\"Real GDP\",\"Real GDP\",\"Real GDP\",\"Real GDP\",\"Real GDP\",\"Real GDP\",\"Real GDP\",\"Real GDP\",\"Real GDP\",\"Real GDP\",\"Real GDP\",\"Real GDP\",\"Real GDP\",\"Real GDP\",\"Real GDP\",\"Real GDP\",\"Real GDP\",\"Real GDP\",\"Real GDP\",\"Real GDP\",\"Real GDP\",\"Real GDP\",\"Real GDP\",\"Real GDP\",\"Real GDP\",\"Real GDP\",\"Real GDP\",\"Real GDP\",\"Real GDP\",\"Real GDP\",\"Real GDP\",\"Real GDP\",\"Real GDP\",\"Real GDP\",\"Real GDP\",\"Real GDP\",\"Real GDP\",\"Real GDP\",\"Real GDP\",\"Real GDP\",\"Real GDP\",\"Real GDP\",\"Real GDP\",\"Real GDP\",\"Real GDP\",\"Real GDP\",\"Real GDP\",\"Real GDP\",\"Real GDP\",\"Real GDP\",\"Real GDP\",\"Real GDP\",\"Real GDP\",\"Real GDP\",\"Real GDP\",\"Real GDP\",\"Real GDP\",\"Real GDP\",\"Real GDP\",\"Real GDP\",\"Real GDP\",\"Real GDP\",\"Real GDP\",\"Real GDP\",\"Real GDP\",\"Real GDP\",\"Real GDP\",\"Real GDP\",\"Real GDP\",\"Real GDP\",\"Real GDP\",\"Real GDP\",\"Real GDP\",\"Real GDP\",\"Real GDP\",\"Real GDP\",\"Real GDP\",\"Real GDP\",\"Real GDP\",\"Real GDP\",\"Real GDP\",\"Real GDP\",\"Real GDP\",\"Real GDP\",\"Real GDP\",\"Real GDP\",\"Real GDP\",\"Real GDP\",\"Real GDP\",\"Real GDP\",\"Real GDP\",\"Real GDP\",\"Real GDP\",\"Real GDP\",\"Real GDP\",\"Real GDP\",\"Real GDP\",\"Real GDP\",\"Real GDP\",\"Real GDP\",\"Real GDP\",\"Real GDP\",\"Real GDP\",\"Real GDP\",\"Real GDP\",\"Real GDP\",\"Real GDP\",\"Real GDP\",\"Real GDP\",\"Real GDP\",\"Real GDP\",\"Real GDP\",\"Real GDP\",\"Real GDP\",\"Real GDP\",\"Real GDP\",\"Real GDP\",\"Real GDP\",\"Real GDP\",\"Real GDP\",\"Real GDP\",\"Real GDP\",\"Real GDP\",\"Real GDP\",\"Real GDP\",\"Real GDP\",\"Real GDP\",\"Real GDP\",\"Real GDP\",\"Real GDP\",\"Real GDP\",\"Real GDP\",\"Real GDP\",\"Real GDP\",\"Real GDP\",\"Real GDP\",\"Real GDP\",\"Real GDP\",\"Real GDP\",\"Real GDP\",\"Real GDP\",\"Real GDP\",\"Real GDP\",\"Real GDP\",\"Real GDP\",\"Real GDP\",\"Real GDP\",\"Real GDP\",\"Real GDP\",\"Real GDP\",\"Real GDP\",\"Real GDP\",\"Real GDP\",\"Real GDP\",\"Real GDP\",\"Real GDP\",\"Real GDP\",\"Real GDP\",\"Real GDP\",\"Real GDP\",\"Real GDP\",\"Real GDP\",\"Real GDP\",\"Real GDP\",\"Real GDP\",\"Real GDP\",\"Real GDP\",\"Real GDP\",\"Real GDP\",\"Real GDP\",\"Real GDP\",\"Real GDP\",\"Real GDP\",\"Real GDP\",\"Real GDP\",\"Real GDP\",\"Real GDP\",\"Real GDP\",\"Real GDP\",\"Real GDP\",\"Real GDP\",\"Real GDP\",\"Real GDP\",\"Real GDP\",\"Real GDP\",\"Real GDP\",\"Real GDP\",\"Real GDP\",\"Real GDP\",\"Real GDP\",\"Real GDP\",\"Real GDP\",\"Real GDP\",\"Real GDP\",\"Real GDP\",\"Real GDP\",\"Real GDP\",\"Real GDP\",\"Real GDP\",\"Real GDP\",\"Real GDP\",\"Real GDP\",\"Real GDP\",\"Real GDP\",\"Real GDP\",\"Real GDP\",\"Real GDP\",\"Real GDP\",\"Real GDP\",\"Real GDP\",\"Real GDP\",\"Real GDP\",\"Real GDP\",\"Real GDP\",\"Real GDP\",\"Real GDP\",\"Real GDP\",\"Real GDP\",\"Real GDP\",\"Real GDP\",\"Real GDP\",\"Real GDP\",\"Real GDP\",\"Real GDP\",\"Real GDP\",\"Real GDP\",\"Real GDP\",\"Real GDP\",\"Real GDP\",\"Real GDP\",\"Real GDP\",\"Real GDP\",\"Real GDP\",\"Real GDP\",\"Real GDP\",\"Real GDP\",\"Real GDP\",\"Real GDP\"],\"index\":{\"__ndarray__\":\"AAAAHM5dUkIAAABlt4VSQgAAAIANq1JCAAAAyfbSUkIAAAB7lvlSQgAAAMR/IVNCAAAAdh9IU0IAAAC/CHBTQgAAAAjyl1NCAAAAupG+U0IAAAADe+ZTQgAAALUaDVRCAAAA/gM1VEIAAABH7VxUQgAAAMv5gFRCAAAAFOOoVEIAAADGgs9UQgAAAA9s91RCAAAAwQseVUIAAAAK9UVVQgAAAFPebVVCAAAABX6UVUIAAABOZ7xVQgAAAAAH41VCAAAASfAKVkIAAACS2TJWQgAAABbmVlZCAAAAX89+VkIAAAARb6VWQgAAAFpYzVZCAAAADPjzVkIAAABV4RtXQgAAAJ7KQ1dCAAAAUGpqV0IAAACZU5JXQgAAAEvzuFdCAAAAlNzgV0IAAADdxQhYQgAAAGHSLFhCAAAAqrtUWEIAAABcW3tYQgAAAKVEo1hCAAAAV+TJWEIAAACgzfFYQgAAAOm2GVlCAAAAm1ZAWUIAAADkP2hZQgAAAJbfjllCAAAA38i2WUIAAAAost5ZQgAAAEMIBFpCAAAAjPErWkIAAAA+kVJaQgAAAId6elpCAAAAORqhWkIAAACCA8laQgAAAMvs8FpCAAAAfYwXW0IAAADGdT9bQgAAAHgVZltCAAAAwf6NW0IAAAAK6LVbQgAAAI702VtCAAAA190BXEIAAACJfShcQgAAANJmUFxCAAAAhAZ3XEIAAADN755cQgAAABbZxlxCAAAAyHjtXEIAAAARYhVdQgAAAMMBPF1CAAAADOtjXUIAAABV1ItdQgAAANngr11CAAAAIsrXXUIAAADUaf5dQgAAAB1TJl5CAAAAz/JMXkIAAAAY3HReQgAAAGHFnF5CAAAAE2XDXkIAAABcTuteQgAAAA7uEV9CAAAAV9c5X0IAAACgwGFfQgAAACTNhV9CAAAAbbatX0IAAAAfVtRfQgAAAGg//F9CAAAAjW8RYEIAAIAxZCVgQgAAANZYOWBCAAAAr6hMYEIAAIBTnWBgQgAAgCztc2BCAAAA0eGHYEIAAIB11ptgQgAAAIOBrmBCAACAJ3bCYEIAAIAAxtVgQgAAAKW66WBCAAAAfgr9YEIAAIAi/xBhQgAAAMfzJGFCAAAAoEM4YUIAAIBEOExhQgAAgB2IX2FCAAAAwnxzYUIAAIBmcYdhQgAAgKh3mWFCAAAATWytYUIAAAAmvMBhQgAAgMqw1GFCAACAowDoYUIAAABI9fthQgAAgOzpD2JCAACAxTkjYkIAAABqLjdiQgAAAEN+SmJCAACA53JeYkIAAACMZ3JiQgAAAM5thGJCAACAcmKYYkIAAIBLsqtiQgAAAPCmv2JCAAAAyfbSYkIAAIBt6+ZiQgAAABLg+mJCAAAA6y8OY0IAAICPJCJjQgAAgGh0NWNCAAAADWlJY0IAAICxXV1jQgAAgPNjb2NCAAAAmFiDY0IAAABxqJZjQgAAgBWdqmNCAACA7uy9Y0IAAACT4dFjQgAAgDfW5WNCAACAECb5Y0IAAAC1Gg1kQgAAAI5qIGRCAACAMl80ZEIAAADXU0hkQgAAgOT+WmRCAAAAifNuZEIAAABiQ4JkQgAAgAY4lmRCAACA34epZEIAAACEfL1kQgAAgChx0WRCAACAAcHkZEIAAACmtfhkQgAAAH8FDGVCAACAI/ofZUIAAADI7jNlQgAAAAr1RWVCAACArulZZUIAAICHOW1lQgAAACwugWVCAAAABX6UZUIAAICpcqhlQgAAAE5nvGVCAAAAJ7fPZUIAAIDLq+NlQgAAgKT79mVCAAAASfAKZkIAAIDt5B5mQgAAgC/rMGZCAAAA1N9EZkIAAACtL1hmQgAAgFEkbGZCAACAKnR/ZkIAAADPaJNmQgAAgHNdp2ZCAACATK26ZkIAAADxoc5mQgAAAMrx4WZCAACAbub1ZkIAAAAT2wlnQgAAAFXhG2dCAACA+dUvZ0IAAIDSJUNnQgAAAHcaV2dCAAAAUGpqZ0IAAID0Xn5nQgAAAJlTkmdCAAAAcqOlZ0IAAIAWmLlnQgAAgO/nzGdCAAAAlNzgZ0IAAIA40fRnQgAAAEZ8B2hCAACA6nAbaEIAAIDDwC5oQgAAAGi1QmhCAAAAQQVWaEIAAIDl+WloQgAAAIrufWhCAAAAYz6RaEIAAIAHM6VoQgAAgOCCuGhCAAAAhXfMaEIAAIApbOBoQgAAgGty8mhCAAAAEGcGaUIAAADpthlpQgAAgI2rLWlCAACAZvtAaUIAAAAL8FRpQgAAgK/kaGlCAACAiDR8aUIAAAAtKZBpQgAAAAZ5o2lCAACAqm23aUIAAABPYstpQgAAAJFo3WlCAACANV3xaUIAAIAOrQRqQgAAALOhGGpCAAAAjPErakIAAIAw5j9qQgAAANXaU2pCAAAAripnakIAAIBSH3tqQgAAgCtvjmpCAAAA0GOiakIAAIB0WLZqQgAAgLZeyGpCAAAAW1PcakIAAAA0o+9qQgAAgNiXA2tCAACAsecWa0IAAABW3CprQgAAgPrQPmtCAACA0yBSa0IAAAB4FWZrQgAAAFFleWtCAACA9VmNa0IAAACaTqFrQgAAgKf5s2tCAAAATO7Ha0IAAAAlPttrQgAAgMky72tCAACAooICbEIAAABHdxZsQgAAgOtrKmxCAACAxLs9bEIAAABpsFFsQgAAAEIAZWxCAACA5vR4bEIAAACL6YxsQgAAAM3vnmxCAACAceSybEIAAIBKNMZsQgAAAO8o2mxCAAAAyHjtbEIAAIBsbQFtQgAAABFiFW1CAAAA6rEobUIAAICOpjxtQgAAgGf2T21CAAAADOtjbUIAAICw33dtQgAAgPLliW1CAAAAl9qdbUIAAABwKrFtQgAAgBQfxW1CAACA7W7YbUIAAACSY+xtQgAAgDZYAG5CAACAD6gTbkIAAAC0nCduQgAAAI3sOm5CAACAMeFObkIAAADW1WJuQgAAABjcdG5CAACAvNCIbkIAAICVIJxuQgAAADoVsG5CAAAAE2XDbkIAAIC3WdduQgAAAFxO625CAAAANZ7+bkIAAIDZkhJvQgAAgLLiJW9CAAAAV9c5b0IAAID7y01vQgAAAAl3YG9CAACArWt0b0IAAICGu4dvQgAAACuwm29CAAAABACvb0IAAICo9MJvQgAAAE3p1m9CAAAAJjnqb0IAAIDKLf5vQgAAwNG+CHBCAAAAJLkScEIAAEB2sxxwQgAAQJe2JXBCAACA6bAvcEIAAADWWDlwQgAAQChTQ3BCAADAFPtMcEIAAABn9VZwQgAAQLnvYHBCAADApZdqcEIAAAD4kXRwQgAAgOQ5fnBCAADANjSIcEIAAACJLpJwQgAAAKoxm3BCAABA/CulcEIAAMDo065wQgAAADvOuHBCAACAJ3bCcEIAAMB5cMxwQgAAAMxq1nBCAACAuBLgcEIAAMAKDepwQgAAQPe083BCAACASa/9cEIAAMCbqQdxQgAAwLysEHFCAAAAD6cacUIAAID7TiRxQgAAwE1JLnFCAABAOvE3cUIAAICM60FxQgAAwN7lS3FCAABAy41VcUIAAIAdiF9xQgAAAAowaXFCAABAXCpzcUIAAICuJH1xQgAAQDV6hnFCAACAh3SQcUIAAAB0HJpxQgAAQMYWpHFCAADAsr6tcUIAAAAFubdxQgAAQFezwXFCAADAQ1vLcUIAAACWVdVxQgAAgIL93nFCAADA1PfocUIAAAAn8vJxQgAAAEj1+3FCAABAmu8FckIAAMCGlw9yQgAAANmRGXJCAACAxTkjckIAAMAXNC1yQgAAAGouN3JCAACAVtZAckIAAMCo0EpyQgAAQJV4VHJCAACA53JeckIAAMA5bWhyQgAAwFpwcXJCAAAArWp7ckIAAICZEoVyQgAAwOsMj3JCAABA2LSYckIAAIAqr6JyQgAAwHyprHJCAABAaVG2ckIAAIC7S8ByQgAAAKjzyXJCAABA+u3TckIAAIBM6N1yQgAAgG3r5nJCAADAv+XwckIAAECsjfpyQgAAgP6HBHNCAAAA6y8Oc0IAAEA9KhhzQgAAgI8kInNCAAAAfMwrc0IAAEDOxjVzQgAAwLpuP3NCAAAADWlJc0IAAEBfY1NzQgAAAOa4XHNCAABAOLNmc0IAAMAkW3BzQgAAAHdVenNCAACAY/2Dc0IAAMC1941zQgAAAAjyl3NCAACA9Jmhc0IAAMBGlKtzQgAAQDM8tXNCAACAhTa/c0IAAMDXMMlzQgAAwPgz0nNCAAAASy7cc0IAAIA31uVzQgAAwInQ73NCAABAdnj5c0IAAIDIcgN0QgAAwBptDXRCAABABxUXdEIAAIBZDyF0QgAAAEa3KnRCAABAmLE0dEIAAIDqqz50QgAAgAuvR3RCAADAXalRdEIAAEBKUVt0QgAAgJxLZXRCAAAAifNudEIAAEDb7Xh0QgAAgC3ognRCAAAAGpCMdEIAAEBsipZ0QgAAwFgyoHRCAAAAqyyqdEIAAED9JrR0QgAAQB4qvXRCAACAcCTHdEIAAABdzNB0QgAAQK/G2nRCAADAm27kdEIAAADuaO50QgAAQEBj+HRCAADALAsCdUIAAAB/BQx1QgAAgGutFXVCAADAvacfdUIAAAAQoil1QgAAwJb3MnVCAAAA6fE8dUIAAIDVmUZ1QgAAwCeUUHVCAABAFDxadUIAAIBmNmR1QgAAwLgwbnVCAABApdh3dUIAAID30oF1QgAAAOR6i3VCAABANnWVdUIAAICIb591QgAAgKlyqHVCAADA+2yydUIAAEDoFLx1QgAAgDoPxnVCAAAAJ7fPdUIAAEB5sdl1QgAAgMur43VCAAAAuFPtdUIAAEAKTvd1QgAAwPb1AHZCAAAASfAKdkIAAECb6hR2QgAAQLztHXZCAACADugndkIAAAD7jzF2QgAAQE2KO3ZCAADAOTJFdkIAAACMLE92QgAAQN4mWXZCAADAys5idkIAAAAdyWx2QgAAgAlxdnZCAADAW2uAdkIAAACuZYp2QgAAAM9ok3ZCAABAIWOddkIAAMANC6d2QgAAAGAFsXZCAACATK26dkIAAMCep8R2QgAAAPGhznZCAACA3UnYdkIAAMAvROJ2QgAAQBzs63ZCAACAbub1dkIAAMDA4P92QgAAgEc2CXdCAADAmTATd0IAAECG2Bx3QgAAgNjSJndCAAAAxXowd0IAAEAXdTp3QgAAgGlvRHdCAAAAVhdOd0IAAECoEVh3QgAAwJS5YXdCAAAA57Nrd0IAAEA5rnV3QgAAQFqxfndCAACArKuId0IAAACZU5J3QgAAQOtNnHdC\",\"dtype\":\"float64\",\"order\":\"little\",\"shape\":[498]},\"value\":{\"__ndarray__\":\"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\",\"dtype\":\"float64\",\"order\":\"little\",\"shape\":[498]}},\"selected\":{\"id\":\"1113\"},\"selection_policy\":{\"id\":\"1143\"}},\"id\":\"1112\",\"type\":\"ColumnDataSource\"},{\"attributes\":{\"angle\":{\"value\":0.0},\"text\":{\"field\":\"text\"},\"text_align\":{\"value\":\"right\"},\"text_alpha\":{\"value\":1.0},\"text_baseline\":{\"value\":\"middle\"},\"text_color\":{\"value\":\"black\"},\"text_font_size\":{\"value\":\"12Pt\"},\"text_font_style\":{\"value\":\"normal\"},\"text_line_height\":{\"value\":1.2},\"x\":{\"field\":\"x\"},\"x_offset\":{\"value\":0},\"y\":{\"field\":\"y\"},\"y_offset\":{\"value\":0}},\"id\":\"1362\",\"type\":\"Text\"},{\"attributes\":{\"data_source\":{\"id\":\"1344\"},\"glyph\":{\"id\":\"1347\"},\"hover_glyph\":null,\"muted_glyph\":null,\"nonselection_glyph\":{\"id\":\"1348\"},\"selection_glyph\":{\"id\":\"1351\"},\"view\":{\"id\":\"1350\"}},\"id\":\"1349\",\"type\":\"GlyphRenderer\"},{\"attributes\":{\"text_baseline\":{\"value\":\"middle\"},\"text_color\":{\"value\":\"black\"},\"text_font_size\":{\"value\":\"12Pt\"},\"x\":{\"field\":\"x\"},\"y\":{\"field\":\"y\"}},\"id\":\"1369\",\"type\":\"Text\"},{\"attributes\":{\"callback\":null,\"formatters\":{\"@{index}\":\"datetime\"},\"renderers\":[{\"id\":\"1051\"},{\"id\":\"1084\"},{\"id\":\"1118\"}],\"tags\":[\"hv_created\"],\"tooltips\":[[\"Variable\",\"@{Variable}\"],[\"index\",\"@{index}{%F %T}\"],[\"value\",\"@{value}\"]]},\"id\":\"1006\",\"type\":\"HoverTool\"},{\"attributes\":{\"data\":{\"Variable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index\":{\"__ndarray__\":\"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\",\"dtype\":\"float64\",\"order\":\"little\",\"shape\":[498]},\"value\":{\"__ndarray__\":\"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\",\"dtype\":\"float64\",\"order\":\"little\",\"shape\":[498]}},\"selected\":{\"id\":\"1046\"},\"selection_policy\":{\"id\":\"1072\"}},\"id\":\"1045\",\"type\":\"ColumnDataSource\"},{\"attributes\":{},\"id\":\"1367\",\"type\":\"Selection\"},{\"attributes\":{\"source\":{\"id\":\"1045\"}},\"id\":\"1052\",\"type\":\"CDSView\"},{\"attributes\":{\"mantissas\":[1,2,5],\"max_interval\":500.0,\"num_minor_ticks\":0},\"id\":\"1060\",\"type\":\"AdaptiveTicker\"},{\"attributes\":{},\"id\":\"1405\",\"type\":\"UnionRenderers\"},{\"attributes\":{},\"id\":\"1356\",\"type\":\"Selection\"},{\"attributes\":{},\"id\":\"1345\",\"type\":\"Selection\"},{\"attributes\":{\"text_align\":{\"value\":\"center\"},\"text_baseline\":{\"value\":\"middle\"},\"text_color\":{\"value\":\"black\"},\"text_font_size\":{\"value\":\"12Pt\"},\"x\":{\"field\":\"x\"},\"y\":{\"field\":\"y\"}},\"id\":\"1347\",\"type\":\"Text\"},{\"attributes\":{},\"id\":\"1046\",\"type\":\"Selection\"},{\"attributes\":{\"months\":[0,1,2,3,4,5,6,7,8,9,10,11]},\"id\":\"1067\",\"type\":\"MonthsTicker\"},{\"attributes\":{\"data\":{\"text\":[\"Financial Crisis\"],\"x\":[1180656000000.0],\"y\":[19500]},\"selected\":{\"id\":\"1345\"},\"selection_policy\":{\"id\":\"1401\"}},\"id\":\"1344\",\"type\":\"ColumnDataSource\"},{\"attributes\":{},\"id\":\"1399\",\"type\":\"UnionRenderers\"},{\"attributes\":{},\"id\":\"1401\",\"type\":\"UnionRenderers\"},{\"attributes\":{\"source\":{\"id\":\"1366\"}},\"id\":\"1372\",\"type\":\"CDSView\"},{\"attributes\":{\"months\":[0,4,8]},\"id\":\"1069\",\"type\":\"MonthsTicker\"},{\"attributes\":{},\"id\":\"1334\",\"type\":\"Selection\"},{\"attributes\":{},\"id\":\"1014\",\"type\":\"LinearScale\"},{\"attributes\":{\"angle\":{\"value\":0.0},\"text\":{\"field\":\"text\"},\"text_align\":{\"value\":\"center\"},\"text_alpha\":{\"value\":1.0},\"text_baseline\":{\"value\":\"middle\"},\"text_color\":{\"value\":\"black\"},\"text_font_size\":{\"value\":\"12Pt\"},\"text_font_style\":{\"value\":\"normal\"},\"text_line_height\":{\"value\":1.2},\"x\":{\"field\":\"x\"},\"x_offset\":{\"value\":0},\"y\":{\"field\":\"y\"},\"y_offset\":{\"value\":0}},\"id\":\"1351\",\"type\":\"Text\"},{\"attributes\":{},\"id\":\"1079\",\"type\":\"Selection\"}],\"root_ids\":[\"1002\"]},\"title\":\"Bokeh Application\",\"version\":\"2.3.2\"}};\n",
       "    var render_items = [{\"docid\":\"d4fc1ef4-e328-4263-8117-5390a02eb4a1\",\"root_ids\":[\"1002\"],\"roots\":{\"1002\":\"aac29d55-6e91-4c0f-8e9b-9859bdbea32e\"}}];\n",
       "    root.Bokeh.embed.embed_items_notebook(docs_json, render_items);\n",
       "  }\n",
       "  if (root.Bokeh !== undefined && root.Bokeh.Panel !== undefined && root['Plotly'] !== undefined ) {\n",
       "    embed_document(root);\n",
       "  } else {\n",
       "    var attempts = 0;\n",
       "    var timer = setInterval(function(root) {\n",
       "      if (root.Bokeh !== undefined && root.Bokeh.Panel !== undefined && root['Plotly'] !== undefined) {\n",
       "        clearInterval(timer);\n",
       "        embed_document(root);\n",
       "      } else if (document.readyState == \"complete\") {\n",
       "        attempts++;\n",
       "        if (attempts > 100) {\n",
       "          clearInterval(timer);\n",
       "          console.log(\"Bokeh: ERROR: Unable to run BokehJS code because BokehJS library is missing\");\n",
       "        }\n",
       "      }\n",
       "    }, 10, root)\n",
       "  }\n",
       "})(window);</script>"
      ],
      "text/plain": [
       ":Overlay\n",
       "   .NdOverlay.I :NdOverlay   [Variable]\n",
       "      :Curve   [index]   (value)\n",
       "   .VSpan.I     :VSpan   [x,y]\n",
       "   .Text.I      :Text   [x,y]\n",
       "   .VSpan.II    :VSpan   [x,y]\n",
       "   .Text.II     :Text   [x,y]\n",
       "   .VLine.I     :VLine   [x,y]\n",
       "   .Text.III    :Text   [x,y]\n",
       "   .VSpan.III   :VSpan   [x,y]\n",
       "   .Text.IV     :Text   [x,y]"
      ]
     },
     "execution_count": 23,
     "metadata": {
      "application/vnd.holoviews_exec.v0+json": {
       "id": "1002"
      }
     },
     "output_type": "execute_result"
    }
   ],
   "source": [
    "labeled_plot = all_current_data.hvplot(width=1000, height=500) * pandemic_startLine * hv.Text(datetime.datetime(2020, 1, 1), 21000, \"Global Pandemic\", halign='right') * \\\n",
    "financialCrisis_startLine * hv.Text(datetime.datetime(2007, 6, 1), 19500, \"Financial Crisis\", halign='center') * \\\n",
    "september11_startLine * hv.Text(datetime.datetime(2001, 9, 11), 18000, \"Sept. 11 \", halign='right') * \\\n",
    "financial_crisis_1980 * hv.Text(datetime.datetime(1981, 7, 1), 14000, \" 1980s Financial Crisis\",halign='left')\n",
    "labeled_plot"
   ]
  },
  {
   "cell_type": "code",
   "execution_count": null,
   "id": "9242b050-d85b-419f-b841-be1228a3c975",
   "metadata": {},
   "outputs": [],
   "source": []
  },
  {
   "cell_type": "code",
   "execution_count": null,
   "id": "cfc1d590-587e-46af-9e47-47bbfcf15cc1",
   "metadata": {},
   "outputs": [],
   "source": []
  },
  {
   "cell_type": "markdown",
   "id": "8d059302-eaa3-4a54-97eb-0811da1925dd",
   "metadata": {},
   "source": [
    "<hr>"
   ]
  },
  {
   "cell_type": "markdown",
   "id": "a34e04be-8038-445c-b62f-6a113a0ce2ce",
   "metadata": {},
   "source": [
    "# Calculating z-score"
   ]
  },
  {
   "cell_type": "code",
   "execution_count": null,
   "id": "252138cb-b97a-4582-8628-06aec119c8ef",
   "metadata": {},
   "outputs": [],
   "source": []
  },
  {
   "cell_type": "code",
   "execution_count": 24,
   "id": "cef6a139-5fa1-4f62-9369-41f4373a013f",
   "metadata": {
    "tags": []
   },
   "outputs": [
    {
     "data": {
      "text/html": [
       "<div>\n",
       "<style scoped>\n",
       "    .dataframe tbody tr th:only-of-type {\n",
       "        vertical-align: middle;\n",
       "    }\n",
       "\n",
       "    .dataframe tbody tr th {\n",
       "        vertical-align: top;\n",
       "    }\n",
       "\n",
       "    .dataframe thead th {\n",
       "        text-align: right;\n",
       "    }\n",
       "</style>\n",
       "<table border=\"1\" class=\"dataframe\">\n",
       "  <thead>\n",
       "    <tr style=\"text-align: right;\">\n",
       "      <th></th>\n",
       "      <th>M2</th>\n",
       "      <th>Personal Income</th>\n",
       "      <th>Real GDP</th>\n",
       "    </tr>\n",
       "  </thead>\n",
       "  <tbody>\n",
       "    <tr>\n",
       "      <th>1980-01-01</th>\n",
       "      <td>1482.7</td>\n",
       "      <td>5647.002</td>\n",
       "      <td>6842.024</td>\n",
       "    </tr>\n",
       "    <tr>\n",
       "      <th>1980-02-01</th>\n",
       "      <td>1494.6</td>\n",
       "      <td>5620.681</td>\n",
       "      <td>6842.024</td>\n",
       "    </tr>\n",
       "    <tr>\n",
       "      <th>1980-03-01</th>\n",
       "      <td>1499.8</td>\n",
       "      <td>5590.815</td>\n",
       "      <td>6842.024</td>\n",
       "    </tr>\n",
       "    <tr>\n",
       "      <th>1980-04-01</th>\n",
       "      <td>1502.2</td>\n",
       "      <td>5584.107</td>\n",
       "      <td>6701.046</td>\n",
       "    </tr>\n",
       "    <tr>\n",
       "      <th>1980-05-01</th>\n",
       "      <td>1512.3</td>\n",
       "      <td>5567.006</td>\n",
       "      <td>6701.046</td>\n",
       "    </tr>\n",
       "  </tbody>\n",
       "</table>\n",
       "</div>"
      ],
      "text/plain": [
       "                M2  Personal Income  Real GDP\n",
       "1980-01-01  1482.7         5647.002  6842.024\n",
       "1980-02-01  1494.6         5620.681  6842.024\n",
       "1980-03-01  1499.8         5590.815  6842.024\n",
       "1980-04-01  1502.2         5584.107  6701.046\n",
       "1980-05-01  1512.3         5567.006  6701.046"
      ]
     },
     "execution_count": 24,
     "metadata": {},
     "output_type": "execute_result"
    }
   ],
   "source": [
    "# Create a copy of current DataFrame to build a new DataFrame for Z-Score:\n",
    "zScore_df = all_current_data.copy(deep=True)\n",
    "zScore_df.head()"
   ]
  },
  {
   "cell_type": "code",
   "execution_count": 25,
   "id": "deb850e4-ec41-403d-8be0-035039f74872",
   "metadata": {},
   "outputs": [],
   "source": [
    "zScore_df['GDP_zscore'] = (zScore_df['Real GDP'] - zScore_df['Real GDP'].mean()) / zScore_df['Real GDP'].std()"
   ]
  },
  {
   "cell_type": "code",
   "execution_count": 26,
   "id": "86c16b0e-cc1d-41c1-aeeb-a25c64a27b61",
   "metadata": {},
   "outputs": [
    {
     "data": {
      "text/html": [
       "<div>\n",
       "<style scoped>\n",
       "    .dataframe tbody tr th:only-of-type {\n",
       "        vertical-align: middle;\n",
       "    }\n",
       "\n",
       "    .dataframe tbody tr th {\n",
       "        vertical-align: top;\n",
       "    }\n",
       "\n",
       "    .dataframe thead th {\n",
       "        text-align: right;\n",
       "    }\n",
       "</style>\n",
       "<table border=\"1\" class=\"dataframe\">\n",
       "  <thead>\n",
       "    <tr style=\"text-align: right;\">\n",
       "      <th></th>\n",
       "      <th>M2</th>\n",
       "      <th>Personal Income</th>\n",
       "      <th>Real GDP</th>\n",
       "      <th>GDP_zscore</th>\n",
       "    </tr>\n",
       "  </thead>\n",
       "  <tbody>\n",
       "    <tr>\n",
       "      <th>1980-01-01</th>\n",
       "      <td>1482.7</td>\n",
       "      <td>5647.002</td>\n",
       "      <td>6842.024</td>\n",
       "      <td>-1.542464</td>\n",
       "    </tr>\n",
       "    <tr>\n",
       "      <th>1980-02-01</th>\n",
       "      <td>1494.6</td>\n",
       "      <td>5620.681</td>\n",
       "      <td>6842.024</td>\n",
       "      <td>-1.542464</td>\n",
       "    </tr>\n",
       "    <tr>\n",
       "      <th>1980-03-01</th>\n",
       "      <td>1499.8</td>\n",
       "      <td>5590.815</td>\n",
       "      <td>6842.024</td>\n",
       "      <td>-1.542464</td>\n",
       "    </tr>\n",
       "    <tr>\n",
       "      <th>1980-04-01</th>\n",
       "      <td>1502.2</td>\n",
       "      <td>5584.107</td>\n",
       "      <td>6701.046</td>\n",
       "      <td>-1.579201</td>\n",
       "    </tr>\n",
       "    <tr>\n",
       "      <th>1980-05-01</th>\n",
       "      <td>1512.3</td>\n",
       "      <td>5567.006</td>\n",
       "      <td>6701.046</td>\n",
       "      <td>-1.579201</td>\n",
       "    </tr>\n",
       "  </tbody>\n",
       "</table>\n",
       "</div>"
      ],
      "text/plain": [
       "                M2  Personal Income  Real GDP  GDP_zscore\n",
       "1980-01-01  1482.7         5647.002  6842.024   -1.542464\n",
       "1980-02-01  1494.6         5620.681  6842.024   -1.542464\n",
       "1980-03-01  1499.8         5590.815  6842.024   -1.542464\n",
       "1980-04-01  1502.2         5584.107  6701.046   -1.579201\n",
       "1980-05-01  1512.3         5567.006  6701.046   -1.579201"
      ]
     },
     "execution_count": 26,
     "metadata": {},
     "output_type": "execute_result"
    }
   ],
   "source": [
    "zScore_df.head()"
   ]
  },
  {
   "cell_type": "code",
   "execution_count": 27,
   "id": "71ab697b-a85e-4cc8-b3a8-b00e656690bb",
   "metadata": {},
   "outputs": [
    {
     "data": {
      "text/html": [
       "<div>\n",
       "<style scoped>\n",
       "    .dataframe tbody tr th:only-of-type {\n",
       "        vertical-align: middle;\n",
       "    }\n",
       "\n",
       "    .dataframe tbody tr th {\n",
       "        vertical-align: top;\n",
       "    }\n",
       "\n",
       "    .dataframe thead th {\n",
       "        text-align: right;\n",
       "    }\n",
       "</style>\n",
       "<table border=\"1\" class=\"dataframe\">\n",
       "  <thead>\n",
       "    <tr style=\"text-align: right;\">\n",
       "      <th></th>\n",
       "      <th>M2</th>\n",
       "      <th>Personal Income</th>\n",
       "      <th>Real GDP</th>\n",
       "      <th>GDP_zscore</th>\n",
       "      <th>Income_zscore</th>\n",
       "      <th>M2_zscore</th>\n",
       "    </tr>\n",
       "  </thead>\n",
       "  <tbody>\n",
       "    <tr>\n",
       "      <th>1980-01-01</th>\n",
       "      <td>1482.7</td>\n",
       "      <td>5647.002</td>\n",
       "      <td>6842.024</td>\n",
       "      <td>-1.542464</td>\n",
       "      <td>-1.479470</td>\n",
       "      <td>-1.139019</td>\n",
       "    </tr>\n",
       "    <tr>\n",
       "      <th>1980-02-01</th>\n",
       "      <td>1494.6</td>\n",
       "      <td>5620.681</td>\n",
       "      <td>6842.024</td>\n",
       "      <td>-1.542464</td>\n",
       "      <td>-1.486926</td>\n",
       "      <td>-1.136319</td>\n",
       "    </tr>\n",
       "    <tr>\n",
       "      <th>1980-03-01</th>\n",
       "      <td>1499.8</td>\n",
       "      <td>5590.815</td>\n",
       "      <td>6842.024</td>\n",
       "      <td>-1.542464</td>\n",
       "      <td>-1.495386</td>\n",
       "      <td>-1.135139</td>\n",
       "    </tr>\n",
       "    <tr>\n",
       "      <th>1980-04-01</th>\n",
       "      <td>1502.2</td>\n",
       "      <td>5584.107</td>\n",
       "      <td>6701.046</td>\n",
       "      <td>-1.579201</td>\n",
       "      <td>-1.497286</td>\n",
       "      <td>-1.134595</td>\n",
       "    </tr>\n",
       "    <tr>\n",
       "      <th>1980-05-01</th>\n",
       "      <td>1512.3</td>\n",
       "      <td>5567.006</td>\n",
       "      <td>6701.046</td>\n",
       "      <td>-1.579201</td>\n",
       "      <td>-1.502130</td>\n",
       "      <td>-1.132303</td>\n",
       "    </tr>\n",
       "  </tbody>\n",
       "</table>\n",
       "</div>"
      ],
      "text/plain": [
       "                M2  Personal Income  Real GDP  GDP_zscore  Income_zscore  \\\n",
       "1980-01-01  1482.7         5647.002  6842.024   -1.542464      -1.479470   \n",
       "1980-02-01  1494.6         5620.681  6842.024   -1.542464      -1.486926   \n",
       "1980-03-01  1499.8         5590.815  6842.024   -1.542464      -1.495386   \n",
       "1980-04-01  1502.2         5584.107  6701.046   -1.579201      -1.497286   \n",
       "1980-05-01  1512.3         5567.006  6701.046   -1.579201      -1.502130   \n",
       "\n",
       "            M2_zscore  \n",
       "1980-01-01  -1.139019  \n",
       "1980-02-01  -1.136319  \n",
       "1980-03-01  -1.135139  \n",
       "1980-04-01  -1.134595  \n",
       "1980-05-01  -1.132303  "
      ]
     },
     "execution_count": 27,
     "metadata": {},
     "output_type": "execute_result"
    }
   ],
   "source": [
    "zScore_df['Income_zscore'] = (zScore_df['Personal Income'] - zScore_df['Personal Income'].mean()) / zScore_df['Personal Income'].std()\n",
    "zScore_df['M2_zscore'] = (zScore_df['M2'] - zScore_df['M2'].mean()) / zScore_df['M2'].std()\n",
    "zScore_df.head()"
   ]
  },
  {
   "cell_type": "code",
   "execution_count": 28,
   "id": "0603aa94-72fc-43ed-a674-c10a85018d2d",
   "metadata": {},
   "outputs": [
    {
     "data": {
      "text/html": [
       "<div>\n",
       "<style scoped>\n",
       "    .dataframe tbody tr th:only-of-type {\n",
       "        vertical-align: middle;\n",
       "    }\n",
       "\n",
       "    .dataframe tbody tr th {\n",
       "        vertical-align: top;\n",
       "    }\n",
       "\n",
       "    .dataframe thead th {\n",
       "        text-align: right;\n",
       "    }\n",
       "</style>\n",
       "<table border=\"1\" class=\"dataframe\">\n",
       "  <thead>\n",
       "    <tr style=\"text-align: right;\">\n",
       "      <th></th>\n",
       "      <th>GDP_zscore</th>\n",
       "      <th>Income_zscore</th>\n",
       "      <th>M2_zscore</th>\n",
       "    </tr>\n",
       "  </thead>\n",
       "  <tbody>\n",
       "    <tr>\n",
       "      <th>1980-01-01</th>\n",
       "      <td>-1.542464</td>\n",
       "      <td>-1.479470</td>\n",
       "      <td>-1.139019</td>\n",
       "    </tr>\n",
       "    <tr>\n",
       "      <th>1980-02-01</th>\n",
       "      <td>-1.542464</td>\n",
       "      <td>-1.486926</td>\n",
       "      <td>-1.136319</td>\n",
       "    </tr>\n",
       "    <tr>\n",
       "      <th>1980-03-01</th>\n",
       "      <td>-1.542464</td>\n",
       "      <td>-1.495386</td>\n",
       "      <td>-1.135139</td>\n",
       "    </tr>\n",
       "    <tr>\n",
       "      <th>1980-04-01</th>\n",
       "      <td>-1.579201</td>\n",
       "      <td>-1.497286</td>\n",
       "      <td>-1.134595</td>\n",
       "    </tr>\n",
       "    <tr>\n",
       "      <th>1980-05-01</th>\n",
       "      <td>-1.579201</td>\n",
       "      <td>-1.502130</td>\n",
       "      <td>-1.132303</td>\n",
       "    </tr>\n",
       "  </tbody>\n",
       "</table>\n",
       "</div>"
      ],
      "text/plain": [
       "            GDP_zscore  Income_zscore  M2_zscore\n",
       "1980-01-01   -1.542464      -1.479470  -1.139019\n",
       "1980-02-01   -1.542464      -1.486926  -1.136319\n",
       "1980-03-01   -1.542464      -1.495386  -1.135139\n",
       "1980-04-01   -1.579201      -1.497286  -1.134595\n",
       "1980-05-01   -1.579201      -1.502130  -1.132303"
      ]
     },
     "execution_count": 28,
     "metadata": {},
     "output_type": "execute_result"
    }
   ],
   "source": [
    "# Create DataFrame only containing z-Scores:\n",
    "zScore_df.drop(columns = ['M2', 'Personal Income', 'Real GDP'], inplace = True)\n",
    "zScore_df.head()"
   ]
  },
  {
   "cell_type": "code",
   "execution_count": 29,
   "id": "6c63a4c5-35c8-4dca-93af-27fa51269077",
   "metadata": {},
   "outputs": [
    {
     "data": {
      "text/html": [
       "<div>\n",
       "<style scoped>\n",
       "    .dataframe tbody tr th:only-of-type {\n",
       "        vertical-align: middle;\n",
       "    }\n",
       "\n",
       "    .dataframe tbody tr th {\n",
       "        vertical-align: top;\n",
       "    }\n",
       "\n",
       "    .dataframe thead th {\n",
       "        text-align: right;\n",
       "    }\n",
       "</style>\n",
       "<table border=\"1\" class=\"dataframe\">\n",
       "  <thead>\n",
       "    <tr style=\"text-align: right;\">\n",
       "      <th></th>\n",
       "      <th>GDP_zscore</th>\n",
       "      <th>Income_zscore</th>\n",
       "      <th>M2_zscore</th>\n",
       "    </tr>\n",
       "  </thead>\n",
       "  <tbody>\n",
       "    <tr>\n",
       "      <th>1982-06-01</th>\n",
       "      <td>-1.545531</td>\n",
       "      <td>-1.411144</td>\n",
       "      <td>-1.061135</td>\n",
       "    </tr>\n",
       "    <tr>\n",
       "      <th>1981-08-01</th>\n",
       "      <td>-1.505829</td>\n",
       "      <td>-1.411486</td>\n",
       "      <td>-1.091013</td>\n",
       "    </tr>\n",
       "    <tr>\n",
       "      <th>1994-06-01</th>\n",
       "      <td>-0.632630</td>\n",
       "      <td>-0.685431</td>\n",
       "      <td>-0.686007</td>\n",
       "    </tr>\n",
       "    <tr>\n",
       "      <th>2002-10-01</th>\n",
       "      <td>0.205401</td>\n",
       "      <td>0.143389</td>\n",
       "      <td>-0.182108</td>\n",
       "    </tr>\n",
       "    <tr>\n",
       "      <th>2012-09-01</th>\n",
       "      <td>0.917516</td>\n",
       "      <td>0.879678</td>\n",
       "      <td>0.838077</td>\n",
       "    </tr>\n",
       "    <tr>\n",
       "      <th>1991-07-01</th>\n",
       "      <td>-0.877233</td>\n",
       "      <td>-0.876889</td>\n",
       "      <td>-0.714002</td>\n",
       "    </tr>\n",
       "    <tr>\n",
       "      <th>1983-05-01</th>\n",
       "      <td>-1.487356</td>\n",
       "      <td>-1.379128</td>\n",
       "      <td>-1.011881</td>\n",
       "    </tr>\n",
       "  </tbody>\n",
       "</table>\n",
       "</div>"
      ],
      "text/plain": [
       "            GDP_zscore  Income_zscore  M2_zscore\n",
       "1982-06-01   -1.545531      -1.411144  -1.061135\n",
       "1981-08-01   -1.505829      -1.411486  -1.091013\n",
       "1994-06-01   -0.632630      -0.685431  -0.686007\n",
       "2002-10-01    0.205401       0.143389  -0.182108\n",
       "2012-09-01    0.917516       0.879678   0.838077\n",
       "1991-07-01   -0.877233      -0.876889  -0.714002\n",
       "1983-05-01   -1.487356      -1.379128  -1.011881"
      ]
     },
     "execution_count": 29,
     "metadata": {},
     "output_type": "execute_result"
    }
   ],
   "source": [
    "zScore_df.sample(7)"
   ]
  },
  {
   "cell_type": "markdown",
   "id": "08970d60-4c7c-48f3-b4bb-c0f6c38739b6",
   "metadata": {},
   "source": [
    "### Plot z-Score correlation:"
   ]
  },
  {
   "cell_type": "code",
   "execution_count": 30,
   "id": "62474a5c-e05b-4c13-877e-49b30cef6a8f",
   "metadata": {},
   "outputs": [
    {
     "data": {
      "text/html": [
       "<div>\n",
       "<style scoped>\n",
       "    .dataframe tbody tr th:only-of-type {\n",
       "        vertical-align: middle;\n",
       "    }\n",
       "\n",
       "    .dataframe tbody tr th {\n",
       "        vertical-align: top;\n",
       "    }\n",
       "\n",
       "    .dataframe thead th {\n",
       "        text-align: right;\n",
       "    }\n",
       "</style>\n",
       "<table border=\"1\" class=\"dataframe\">\n",
       "  <thead>\n",
       "    <tr style=\"text-align: right;\">\n",
       "      <th></th>\n",
       "      <th>GDP_zscore</th>\n",
       "      <th>Income_zscore</th>\n",
       "      <th>M2_zscore</th>\n",
       "    </tr>\n",
       "  </thead>\n",
       "  <tbody>\n",
       "    <tr>\n",
       "      <th>GDP_zscore</th>\n",
       "      <td>1.000000</td>\n",
       "      <td>0.990938</td>\n",
       "      <td>0.921634</td>\n",
       "    </tr>\n",
       "    <tr>\n",
       "      <th>Income_zscore</th>\n",
       "      <td>0.990938</td>\n",
       "      <td>1.000000</td>\n",
       "      <td>0.955377</td>\n",
       "    </tr>\n",
       "    <tr>\n",
       "      <th>M2_zscore</th>\n",
       "      <td>0.921634</td>\n",
       "      <td>0.955377</td>\n",
       "      <td>1.000000</td>\n",
       "    </tr>\n",
       "  </tbody>\n",
       "</table>\n",
       "</div>"
      ],
      "text/plain": [
       "               GDP_zscore  Income_zscore  M2_zscore\n",
       "GDP_zscore       1.000000       0.990938   0.921634\n",
       "Income_zscore    0.990938       1.000000   0.955377\n",
       "M2_zscore        0.921634       0.955377   1.000000"
      ]
     },
     "execution_count": 30,
     "metadata": {},
     "output_type": "execute_result"
    }
   ],
   "source": [
    "zScore_df_data = zScore_df.corr()\n",
    "zScore_df_data"
   ]
  },
  {
   "cell_type": "markdown",
   "id": "158116b4-af2d-4283-8ed5-9a27ab0a8db4",
   "metadata": {},
   "source": [
    "# Plot Rolling 3 year z-score data:"
   ]
  },
  {
   "cell_type": "code",
   "execution_count": 75,
   "id": "6c7e7ac2-be95-44bd-9c42-3bc78573a772",
   "metadata": {},
   "outputs": [
    {
     "data": {
      "text/html": [
       "<div>\n",
       "<style scoped>\n",
       "    .dataframe tbody tr th:only-of-type {\n",
       "        vertical-align: middle;\n",
       "    }\n",
       "\n",
       "    .dataframe tbody tr th {\n",
       "        vertical-align: top;\n",
       "    }\n",
       "\n",
       "    .dataframe thead th {\n",
       "        text-align: right;\n",
       "    }\n",
       "</style>\n",
       "<table border=\"1\" class=\"dataframe\">\n",
       "  <thead>\n",
       "    <tr style=\"text-align: right;\">\n",
       "      <th></th>\n",
       "      <th>M2</th>\n",
       "      <th>Personal Income</th>\n",
       "      <th>Real GDP</th>\n",
       "    </tr>\n",
       "  </thead>\n",
       "  <tbody>\n",
       "    <tr>\n",
       "      <th>1980-01-01</th>\n",
       "      <td>1482.7</td>\n",
       "      <td>5647.002</td>\n",
       "      <td>6842.024</td>\n",
       "    </tr>\n",
       "    <tr>\n",
       "      <th>1980-02-01</th>\n",
       "      <td>1494.6</td>\n",
       "      <td>5620.681</td>\n",
       "      <td>6842.024</td>\n",
       "    </tr>\n",
       "    <tr>\n",
       "      <th>1980-03-01</th>\n",
       "      <td>1499.8</td>\n",
       "      <td>5590.815</td>\n",
       "      <td>6842.024</td>\n",
       "    </tr>\n",
       "    <tr>\n",
       "      <th>1980-04-01</th>\n",
       "      <td>1502.2</td>\n",
       "      <td>5584.107</td>\n",
       "      <td>6701.046</td>\n",
       "    </tr>\n",
       "    <tr>\n",
       "      <th>1980-05-01</th>\n",
       "      <td>1512.3</td>\n",
       "      <td>5567.006</td>\n",
       "      <td>6701.046</td>\n",
       "    </tr>\n",
       "  </tbody>\n",
       "</table>\n",
       "</div>"
      ],
      "text/plain": [
       "                M2  Personal Income  Real GDP\n",
       "1980-01-01  1482.7         5647.002  6842.024\n",
       "1980-02-01  1494.6         5620.681  6842.024\n",
       "1980-03-01  1499.8         5590.815  6842.024\n",
       "1980-04-01  1502.2         5584.107  6701.046\n",
       "1980-05-01  1512.3         5567.006  6701.046"
      ]
     },
     "execution_count": 75,
     "metadata": {},
     "output_type": "execute_result"
    }
   ],
   "source": [
    "rolling_zScore = all_current_data.copy(deep=True)\n",
    "rolling_zScore.head()"
   ]
  },
  {
   "cell_type": "markdown",
   "id": "3c83b860-f711-4562-a37b-529c55913b0d",
   "metadata": {},
   "source": [
    "### Export DataFrame to CSV for Rolling 3 year Z-Score:"
   ]
  },
  {
   "cell_type": "code",
   "execution_count": 77,
   "id": "6cf36210-210b-4635-bbdc-700644f6ac50",
   "metadata": {},
   "outputs": [],
   "source": [
    "rolling_zScore.to_csv('Resources/el-Rolling_Zscore-M2_PersonalIncome_GDP', header=True)"
   ]
  },
  {
   "cell_type": "code",
   "execution_count": 78,
   "id": "bb204dfd-8262-4ab6-8763-18880ebce2b3",
   "metadata": {},
   "outputs": [
    {
     "data": {
      "text/html": [
       "<div>\n",
       "<style scoped>\n",
       "    .dataframe tbody tr th:only-of-type {\n",
       "        vertical-align: middle;\n",
       "    }\n",
       "\n",
       "    .dataframe tbody tr th {\n",
       "        vertical-align: top;\n",
       "    }\n",
       "\n",
       "    .dataframe thead th {\n",
       "        text-align: right;\n",
       "    }\n",
       "</style>\n",
       "<table border=\"1\" class=\"dataframe\">\n",
       "  <thead>\n",
       "    <tr style=\"text-align: right;\">\n",
       "      <th></th>\n",
       "      <th>M2</th>\n",
       "      <th>Personal Income</th>\n",
       "      <th>Real GDP</th>\n",
       "      <th>M2 Z-Score</th>\n",
       "      <th>Personal Inc Z-Score</th>\n",
       "      <th>GDP Z-Score</th>\n",
       "    </tr>\n",
       "  </thead>\n",
       "  <tbody>\n",
       "    <tr>\n",
       "      <th>2021-02-01</th>\n",
       "      <td>19667.9</td>\n",
       "      <td>17678.432</td>\n",
       "      <td>19055.655</td>\n",
       "      <td>1.981255</td>\n",
       "      <td>0.871821</td>\n",
       "      <td>0.706607</td>\n",
       "    </tr>\n",
       "    <tr>\n",
       "      <th>2021-03-01</th>\n",
       "      <td>19914.0</td>\n",
       "      <td>21267.506</td>\n",
       "      <td>19055.655</td>\n",
       "      <td>1.936298</td>\n",
       "      <td>4.078065</td>\n",
       "      <td>0.670133</td>\n",
       "    </tr>\n",
       "    <tr>\n",
       "      <th>2021-04-01</th>\n",
       "      <td>20119.9</td>\n",
       "      <td>18263.434</td>\n",
       "      <td>19358.176</td>\n",
       "      <td>1.878282</td>\n",
       "      <td>1.020808</td>\n",
       "      <td>1.216372</td>\n",
       "    </tr>\n",
       "    <tr>\n",
       "      <th>2021-05-01</th>\n",
       "      <td>20371.9</td>\n",
       "      <td>17767.022</td>\n",
       "      <td>19358.176</td>\n",
       "      <td>1.845022</td>\n",
       "      <td>0.489767</td>\n",
       "      <td>1.152396</td>\n",
       "    </tr>\n",
       "    <tr>\n",
       "      <th>2021-06-01</th>\n",
       "      <td>20388.9</td>\n",
       "      <td>17698.928</td>\n",
       "      <td>19358.176</td>\n",
       "      <td>1.720977</td>\n",
       "      <td>0.387040</td>\n",
       "      <td>1.092961</td>\n",
       "    </tr>\n",
       "  </tbody>\n",
       "</table>\n",
       "</div>"
      ],
      "text/plain": [
       "                 M2  Personal Income   Real GDP  M2 Z-Score  \\\n",
       "2021-02-01  19667.9        17678.432  19055.655    1.981255   \n",
       "2021-03-01  19914.0        21267.506  19055.655    1.936298   \n",
       "2021-04-01  20119.9        18263.434  19358.176    1.878282   \n",
       "2021-05-01  20371.9        17767.022  19358.176    1.845022   \n",
       "2021-06-01  20388.9        17698.928  19358.176    1.720977   \n",
       "\n",
       "            Personal Inc Z-Score  GDP Z-Score  \n",
       "2021-02-01              0.871821     0.706607  \n",
       "2021-03-01              4.078065     0.670133  \n",
       "2021-04-01              1.020808     1.216372  \n",
       "2021-05-01              0.489767     1.152396  \n",
       "2021-06-01              0.387040     1.092961  "
      ]
     },
     "execution_count": 78,
     "metadata": {},
     "output_type": "execute_result"
    }
   ],
   "source": [
    "rolling_zScore['M2 Z-Score'] = \\\n",
    "(rolling_zScore['M2'] - rolling_zScore['M2'].rolling(window=36).mean()) / rolling_zScore['M2'].rolling(window=36).std()\n",
    "rolling_zScore['Personal Inc Z-Score'] = \\\n",
    "(rolling_zScore['Personal Income'] - rolling_zScore['Personal Income'].rolling(window=36).mean()) / rolling_zScore['Personal Income'].rolling(window=36).std()\n",
    "rolling_zScore['GDP Z-Score'] = \\\n",
    "(rolling_zScore['Real GDP'] - rolling_zScore['Real GDP'].rolling(window=36).mean()) / rolling_zScore['Real GDP'].rolling(window=36).std()\n",
    "rolling_zScore.tail()"
   ]
  },
  {
   "cell_type": "code",
   "execution_count": 79,
   "id": "96365099-7845-47fd-a634-c019c80582a5",
   "metadata": {},
   "outputs": [
    {
     "data": {
      "text/html": [
       "<div>\n",
       "<style scoped>\n",
       "    .dataframe tbody tr th:only-of-type {\n",
       "        vertical-align: middle;\n",
       "    }\n",
       "\n",
       "    .dataframe tbody tr th {\n",
       "        vertical-align: top;\n",
       "    }\n",
       "\n",
       "    .dataframe thead th {\n",
       "        text-align: right;\n",
       "    }\n",
       "</style>\n",
       "<table border=\"1\" class=\"dataframe\">\n",
       "  <thead>\n",
       "    <tr style=\"text-align: right;\">\n",
       "      <th></th>\n",
       "      <th>M2 Z-Score</th>\n",
       "      <th>Personal Inc Z-Score</th>\n",
       "      <th>GDP Z-Score</th>\n",
       "    </tr>\n",
       "  </thead>\n",
       "  <tbody>\n",
       "    <tr>\n",
       "      <th>2021-02-01</th>\n",
       "      <td>1.981255</td>\n",
       "      <td>0.871821</td>\n",
       "      <td>0.706607</td>\n",
       "    </tr>\n",
       "    <tr>\n",
       "      <th>2021-03-01</th>\n",
       "      <td>1.936298</td>\n",
       "      <td>4.078065</td>\n",
       "      <td>0.670133</td>\n",
       "    </tr>\n",
       "    <tr>\n",
       "      <th>2021-04-01</th>\n",
       "      <td>1.878282</td>\n",
       "      <td>1.020808</td>\n",
       "      <td>1.216372</td>\n",
       "    </tr>\n",
       "    <tr>\n",
       "      <th>2021-05-01</th>\n",
       "      <td>1.845022</td>\n",
       "      <td>0.489767</td>\n",
       "      <td>1.152396</td>\n",
       "    </tr>\n",
       "    <tr>\n",
       "      <th>2021-06-01</th>\n",
       "      <td>1.720977</td>\n",
       "      <td>0.387040</td>\n",
       "      <td>1.092961</td>\n",
       "    </tr>\n",
       "  </tbody>\n",
       "</table>\n",
       "</div>"
      ],
      "text/plain": [
       "            M2 Z-Score  Personal Inc Z-Score  GDP Z-Score\n",
       "2021-02-01    1.981255              0.871821     0.706607\n",
       "2021-03-01    1.936298              4.078065     0.670133\n",
       "2021-04-01    1.878282              1.020808     1.216372\n",
       "2021-05-01    1.845022              0.489767     1.152396\n",
       "2021-06-01    1.720977              0.387040     1.092961"
      ]
     },
     "execution_count": 79,
     "metadata": {},
     "output_type": "execute_result"
    }
   ],
   "source": [
    "rolling_zScore.drop(columns=['M2', 'Personal Income','Real GDP'], inplace = True)\n",
    "rolling_zScore.tail()"
   ]
  },
  {
   "cell_type": "code",
   "execution_count": null,
   "id": "cef8d629-f64e-4bb4-b750-76601590d758",
   "metadata": {},
   "outputs": [],
   "source": []
  },
  {
   "cell_type": "markdown",
   "id": "8a04b7a0-09ba-4c53-a7f3-b6e13265a9f6",
   "metadata": {},
   "source": [
    "## Show Correlation of features over a Rolling 3 year period:"
   ]
  },
  {
   "cell_type": "code",
   "execution_count": 80,
   "id": "0b0868af-1fe3-41d4-b97c-51d1d5687494",
   "metadata": {},
   "outputs": [
    {
     "data": {
      "text/html": [
       "<div>\n",
       "<style scoped>\n",
       "    .dataframe tbody tr th:only-of-type {\n",
       "        vertical-align: middle;\n",
       "    }\n",
       "\n",
       "    .dataframe tbody tr th {\n",
       "        vertical-align: top;\n",
       "    }\n",
       "\n",
       "    .dataframe thead th {\n",
       "        text-align: right;\n",
       "    }\n",
       "</style>\n",
       "<table border=\"1\" class=\"dataframe\">\n",
       "  <thead>\n",
       "    <tr style=\"text-align: right;\">\n",
       "      <th></th>\n",
       "      <th>M2 Z-Score</th>\n",
       "      <th>Personal Inc Z-Score</th>\n",
       "      <th>GDP Z-Score</th>\n",
       "    </tr>\n",
       "  </thead>\n",
       "  <tbody>\n",
       "    <tr>\n",
       "      <th>M2 Z-Score</th>\n",
       "      <td>1.000000</td>\n",
       "      <td>0.064021</td>\n",
       "      <td>-0.364696</td>\n",
       "    </tr>\n",
       "    <tr>\n",
       "      <th>Personal Inc Z-Score</th>\n",
       "      <td>0.064021</td>\n",
       "      <td>1.000000</td>\n",
       "      <td>0.564691</td>\n",
       "    </tr>\n",
       "    <tr>\n",
       "      <th>GDP Z-Score</th>\n",
       "      <td>-0.364696</td>\n",
       "      <td>0.564691</td>\n",
       "      <td>1.000000</td>\n",
       "    </tr>\n",
       "  </tbody>\n",
       "</table>\n",
       "</div>"
      ],
      "text/plain": [
       "                      M2 Z-Score  Personal Inc Z-Score  GDP Z-Score\n",
       "M2 Z-Score              1.000000              0.064021    -0.364696\n",
       "Personal Inc Z-Score    0.064021              1.000000     0.564691\n",
       "GDP Z-Score            -0.364696              0.564691     1.000000"
      ]
     },
     "execution_count": 80,
     "metadata": {},
     "output_type": "execute_result"
    }
   ],
   "source": [
    "rolling_zScore_corr = rolling_zScore.corr()\n",
    "rolling_zScore_corr"
   ]
  },
  {
   "cell_type": "code",
   "execution_count": 81,
   "id": "aabeab8b-33d8-4de4-8df1-57fcbef2502a",
   "metadata": {},
   "outputs": [
    {
     "data": {},
     "metadata": {},
     "output_type": "display_data"
    },
    {
     "data": {
      "application/vnd.holoviews_exec.v0+json": "",
      "text/html": [
       "<div id='6650'>\n",
       "\n",
       "\n",
       "\n",
       "\n",
       "\n",
       "  <div class=\"bk-root\" id=\"9e0dc723-64ca-4d52-af98-3969eb0d447c\" data-root-id=\"6650\"></div>\n",
       "</div>\n",
       "<script type=\"application/javascript\">(function(root) {\n",
       "  function embed_document(root) {\n",
       "    var docs_json = {\"9af7605f-01af-4c94-8f40-ef1faf5f3312\":{\"defs\":[],\"roots\":{\"references\":[{\"attributes\":{\"bar_line_color\":\"black\",\"color_mapper\":{\"id\":\"6683\"},\"label_standoff\":8,\"location\":[0,0],\"major_label_policy\":{\"id\":\"6704\"},\"major_tick_line_color\":\"black\",\"ticker\":{\"id\":\"6692\"}},\"id\":\"6693\",\"type\":\"ColorBar\"},{\"attributes\":{},\"id\":\"6674\",\"type\":\"ResetTool\"},{\"attributes\":{},\"id\":\"6685\",\"type\":\"Selection\"},{\"attributes\":{},\"id\":\"6668\",\"type\":\"CategoricalTicker\"},{\"attributes\":{\"active_multi\":null,\"tools\":[{\"id\":\"6654\"},{\"id\":\"6670\"},{\"id\":\"6671\"},{\"id\":\"6672\"},{\"id\":\"6673\"},{\"id\":\"6674\"}]},\"id\":\"6676\",\"type\":\"Toolbar\"},{\"attributes\":{\"fill_color\":{\"field\":\"zvalues\",\"transform\":{\"id\":\"6683\"}},\"height\":{\"value\":1},\"line_alpha\":{\"value\":0},\"line_color\":{\"value\":\"#1f77b4\"},\"width\":{\"value\":1},\"x\":{\"field\":\"columns\"},\"y\":{\"field\":\"index\"}},\"id\":\"6689\",\"type\":\"Rect\"},{\"attributes\":{\"text\":\"Z-Score Correlation of Money Supply, Real GDP, and Real Personal Income\",\"text_color\":\"black\",\"text_font_size\":\"12pt\"},\"id\":\"6656\",\"type\":\"Title\"},{\"attributes\":{},\"id\":\"6665\",\"type\":\"CategoricalTicker\"},{\"attributes\":{\"axis\":{\"id\":\"6664\"},\"grid_line_color\":null,\"ticker\":null},\"id\":\"6666\",\"type\":\"Grid\"},{\"attributes\":{},\"id\":\"6692\",\"type\":\"BasicTicker\"},{\"attributes\":{},\"id\":\"6660\",\"type\":\"CategoricalScale\"},{\"attributes\":{\"axis_label\":\"\",\"formatter\":{\"id\":\"6699\"},\"major_label_policy\":{\"id\":\"6697\"},\"ticker\":{\"id\":\"6668\"}},\"id\":\"6667\",\"type\":\"CategoricalAxis\"},{\"attributes\":{\"data\":{\"columns\":[\"M2 Z-Score\",\"M2 Z-Score\",\"M2 Z-Score\",\"Personal Inc Z-Score\",\"Personal Inc Z-Score\",\"Personal Inc Z-Score\",\"GDP Z-Score\",\"GDP Z-Score\",\"GDP Z-Score\"],\"index\":[\"M2 Z-Score\",\"Personal Inc Z-Score\",\"GDP Z-Score\",\"M2 Z-Score\",\"Personal Inc Z-Score\",\"GDP Z-Score\",\"M2 Z-Score\",\"Personal Inc Z-Score\",\"GDP Z-Score\"],\"value\":[\"1\",\"0.064021\",\"-0.3647\",\"0.064021\",\"1\",\"0.56469\",\"-0.3647\",\"0.56469\",\"1\"],\"zvalues\":{\"__ndarray__\":\"AAAAAAAA8D/3oidmtWOwP8lttxgsV9e/96InZrVjsD8AAAAAAADwP8RbjVTyEeI/yW23GCxX17/EW41U8hHiPwAAAAAAAPA/\",\"dtype\":\"float64\",\"order\":\"little\",\"shape\":[9]}},\"selected\":{\"id\":\"6685\"},\"selection_policy\":{\"id\":\"6708\"}},\"id\":\"6684\",\"type\":\"ColumnDataSource\"},{\"attributes\":{},\"id\":\"6696\",\"type\":\"CategoricalTickFormatter\"},{\"attributes\":{\"axis\":{\"id\":\"6667\"},\"dimension\":1,\"grid_line_color\":null,\"ticker\":null},\"id\":\"6669\",\"type\":\"Grid\"},{\"attributes\":{\"high\":1.0,\"low\":-0.3646955720302825,\"nan_color\":\"white\",\"palette\":[\"#b3fef5\",\"#b0fef5\",\"#adfdf5\",\"#a9fcf5\",\"#a6fbf6\",\"#a3faf6\",\"#a0faf6\",\"#9df9f6\",\"#9af8f6\",\"#97f7f6\",\"#93f7f6\",\"#90f6f6\",\"#8df5f6\",\"#8af4f7\",\"#87f3f7\",\"#83f2f7\",\"#80f2f7\",\"#7df1f7\",\"#79f0f7\",\"#76eff7\",\"#73eef7\",\"#6fedf8\",\"#6cecf8\",\"#68ecf8\",\"#65ebf8\",\"#61eaf8\",\"#5ee9f8\",\"#5ae8f8\",\"#57e7f8\",\"#53e6f8\",\"#50e5f9\",\"#4ce4f9\",\"#49e3f9\",\"#45e2f9\",\"#42e1f9\",\"#3ee0f9\",\"#3bdff9\",\"#38def9\",\"#35ddf9\",\"#32dcf9\",\"#30dbfa\",\"#2ed9fa\",\"#2dd8fa\",\"#2cd7fa\",\"#2bd6fa\",\"#2bd5fa\",\"#2ad3fa\",\"#2ad2fa\",\"#29d1fa\",\"#29d0fb\",\"#29cffb\",\"#28cdfb\",\"#28ccfb\",\"#28cbfb\",\"#28cafb\",\"#28c8fb\",\"#28c7fb\",\"#29c6fb\",\"#29c5fb\",\"#29c4fb\",\"#29c2fb\",\"#2ac1fb\",\"#2ac0fb\",\"#2bbffb\",\"#2bbdfc\",\"#2cbcfc\",\"#2dbbfc\",\"#2db9fc\",\"#2eb8fc\",\"#2fb7fc\",\"#2fb6fc\",\"#30b4fc\",\"#31b3fc\",\"#32b2fc\",\"#32b0fc\",\"#33affc\",\"#33aefc\",\"#34adfc\",\"#34abfc\",\"#34aafc\",\"#35a9fc\",\"#35a8fc\",\"#35a6fc\",\"#35a5fc\",\"#35a4fc\",\"#35a3fc\",\"#35a1fc\",\"#35a0fc\",\"#359ffc\",\"#359dfc\",\"#359cfc\",\"#359bfc\",\"#349afd\",\"#3498fd\",\"#3497fd\",\"#3396fd\",\"#3395fd\",\"#3293fd\",\"#3292fd\",\"#3191fd\",\"#3090fd\",\"#308ffd\",\"#2f8dfd\",\"#2f8cfd\",\"#2e8bfd\",\"#2e8afd\",\"#2d88fd\",\"#2d87fd\",\"#2c86fd\",\"#2c84fd\",\"#2c83fd\",\"#2c82fd\",\"#2b81fd\",\"#2b7ffd\",\"#2b7efd\",\"#2b7dfd\",\"#2b7bfd\",\"#2b7afd\",\"#2b79fd\",\"#2b77fd\",\"#2b76fd\",\"#2b75fd\",\"#2b73fd\",\"#2c72fd\",\"#2c71fd\",\"#2c6ffd\",\"#2c6efd\",\"#2d6cfd\",\"#2d6bfd\",\"#2d6afc\",\"#2e68fc\",\"#2e67fc\",\"#2e65fc\",\"#2e64fc\",\"#2f62fc\",\"#2f61fc\",\"#2f5ffc\",\"#2f5efc\",\"#2f5dfc\",\"#2f5bfc\",\"#2f5afc\",\"#2f58fb\",\"#2f57fb\",\"#2f55fb\",\"#2f53fb\",\"#2f52fb\",\"#2f50fb\",\"#2f4ffb\",\"#2f4dfb\",\"#2e4cfb\",\"#2e4afb\",\"#2e48fb\",\"#2e47fa\",\"#2d45fa\",\"#2d43fa\",\"#2d42fa\",\"#2d40fa\",\"#2c3efa\",\"#2c3dfa\",\"#2b3bf9\",\"#2b39f9\",\"#2a37f9\",\"#2a36f8\",\"#2934f8\",\"#2832f7\",\"#2831f7\",\"#272ff6\",\"#262ef5\",\"#252cf5\",\"#252af4\",\"#2429f3\",\"#2327f2\",\"#2226f1\",\"#2124f0\",\"#2023ef\",\"#1f22ee\",\"#1e20ed\",\"#1d1feb\",\"#1c1eea\",\"#1b1ce9\",\"#1a1be7\",\"#181ae6\",\"#1719e5\",\"#1618e3\",\"#1417e1\",\"#1316e0\",\"#1215de\",\"#1014dc\",\"#0f13db\",\"#0e12d9\",\"#0d11d7\",\"#0c10d5\",\"#0b0fd3\",\"#0a0ed1\",\"#090dd0\",\"#080dce\",\"#080ccc\",\"#070bca\",\"#070ac8\",\"#0709c6\",\"#0708c4\",\"#0707c2\",\"#0707bf\",\"#0806bd\",\"#0806bb\",\"#0905b9\",\"#0904b7\",\"#0a04b5\",\"#0a04b2\",\"#0b03b0\",\"#0c03ae\",\"#0d02ab\",\"#0e02a9\",\"#0e02a7\",\"#0f02a4\",\"#0f01a2\",\"#1001a0\",\"#10019d\",\"#10019b\",\"#100199\",\"#100197\",\"#100194\",\"#0f0192\",\"#0f0190\",\"#0f018e\",\"#0e018b\",\"#0e0189\",\"#0d0187\",\"#0d0185\",\"#0c0183\",\"#0b0181\",\"#0b017e\",\"#0a017c\",\"#09017a\",\"#090178\",\"#080276\",\"#070274\",\"#060272\",\"#060270\",\"#05026e\",\"#04026c\",\"#030269\",\"#030267\",\"#020265\",\"#010263\",\"#010261\",\"#00025f\",\"#00025d\",\"#00025b\",\"#000259\",\"#000257\",\"#000255\",\"#000154\",\"#000152\",\"#000150\",\"#00004e\"]},\"id\":\"6683\",\"type\":\"LinearColorMapper\"},{\"attributes\":{\"below\":[{\"id\":\"6664\"}],\"center\":[{\"id\":\"6666\"},{\"id\":\"6669\"}],\"height\":500,\"left\":[{\"id\":\"6667\"}],\"margin\":[5,5,5,5],\"min_border_bottom\":10,\"min_border_left\":10,\"min_border_right\":10,\"min_border_top\":10,\"renderers\":[{\"id\":\"6690\"}],\"right\":[{\"id\":\"6693\"}],\"sizing_mode\":\"fixed\",\"title\":{\"id\":\"6656\"},\"toolbar\":{\"id\":\"6676\"},\"width\":1000,\"x_range\":{\"id\":\"6652\"},\"x_scale\":{\"id\":\"6660\"},\"y_range\":{\"id\":\"6653\"},\"y_scale\":{\"id\":\"6662\"}},\"id\":\"6655\",\"subtype\":\"Figure\",\"type\":\"Plot\"},{\"attributes\":{\"callback\":null,\"renderers\":[{\"id\":\"6690\"}],\"tags\":[\"hv_created\"],\"tooltips\":[[\"columns\",\"@{columns}\"],[\"index\",\"@{index}\"],[\"value\",\"@{value}\"]]},\"id\":\"6654\",\"type\":\"HoverTool\"},{\"attributes\":{\"bottom_units\":\"screen\",\"fill_alpha\":0.5,\"fill_color\":\"lightgrey\",\"left_units\":\"screen\",\"level\":\"overlay\",\"line_alpha\":1.0,\"line_color\":\"black\",\"line_dash\":[4,4],\"line_width\":2,\"right_units\":\"screen\",\"syncable\":false,\"top_units\":\"screen\"},\"id\":\"6675\",\"type\":\"BoxAnnotation\"},{\"attributes\":{},\"id\":\"6699\",\"type\":\"CategoricalTickFormatter\"},{\"attributes\":{\"source\":{\"id\":\"6684\"}},\"id\":\"6691\",\"type\":\"CDSView\"},{\"attributes\":{\"factors\":[\"M2 Z-Score\",\"Personal Inc Z-Score\",\"GDP Z-Score\"],\"tags\":[[[\"index\",\"index\",null]]]},\"id\":\"6653\",\"type\":\"FactorRange\"},{\"attributes\":{},\"id\":\"6662\",\"type\":\"CategoricalScale\"},{\"attributes\":{\"fill_alpha\":{\"value\":0.1},\"fill_color\":{\"field\":\"zvalues\",\"transform\":{\"id\":\"6683\"}},\"height\":{\"value\":1},\"line_alpha\":{\"value\":0},\"line_color\":{\"value\":\"#1f77b4\"},\"width\":{\"value\":1},\"x\":{\"field\":\"columns\"},\"y\":{\"field\":\"index\"}},\"id\":\"6688\",\"type\":\"Rect\"},{\"attributes\":{\"children\":[{\"id\":\"6651\"},{\"id\":\"6655\"},{\"id\":\"6722\"}],\"margin\":[0,0,0,0],\"name\":\"Row09554\",\"tags\":[\"embedded\"]},\"id\":\"6650\",\"type\":\"Row\"},{\"attributes\":{},\"id\":\"6670\",\"type\":\"SaveTool\"},{\"attributes\":{},\"id\":\"6697\",\"type\":\"AllLabels\"},{\"attributes\":{},\"id\":\"6671\",\"type\":\"PanTool\"},{\"attributes\":{},\"id\":\"6704\",\"type\":\"NoOverlap\"},{\"attributes\":{\"margin\":[5,5,5,5],\"name\":\"HSpacer09558\",\"sizing_mode\":\"stretch_width\"},\"id\":\"6651\",\"type\":\"Spacer\"},{\"attributes\":{},\"id\":\"6672\",\"type\":\"WheelZoomTool\"},{\"attributes\":{},\"id\":\"6694\",\"type\":\"AllLabels\"},{\"attributes\":{\"data_source\":{\"id\":\"6684\"},\"glyph\":{\"id\":\"6687\"},\"hover_glyph\":null,\"muted_glyph\":null,\"nonselection_glyph\":{\"id\":\"6688\"},\"selection_glyph\":{\"id\":\"6689\"},\"view\":{\"id\":\"6691\"}},\"id\":\"6690\",\"type\":\"GlyphRenderer\"},{\"attributes\":{\"overlay\":{\"id\":\"6675\"}},\"id\":\"6673\",\"type\":\"BoxZoomTool\"},{\"attributes\":{\"factors\":[\"M2 Z-Score\",\"Personal Inc Z-Score\",\"GDP Z-Score\"],\"tags\":[[[\"columns\",\"columns\",null]]]},\"id\":\"6652\",\"type\":\"FactorRange\"},{\"attributes\":{\"fill_color\":{\"field\":\"zvalues\",\"transform\":{\"id\":\"6683\"}},\"height\":{\"value\":1},\"line_alpha\":{\"value\":0},\"line_color\":{\"value\":\"#1f77b4\"},\"width\":{\"value\":1},\"x\":{\"field\":\"columns\"},\"y\":{\"field\":\"index\"}},\"id\":\"6687\",\"type\":\"Rect\"},{\"attributes\":{},\"id\":\"6708\",\"type\":\"UnionRenderers\"},{\"attributes\":{\"axis_label\":\"\",\"formatter\":{\"id\":\"6696\"},\"major_label_policy\":{\"id\":\"6694\"},\"ticker\":{\"id\":\"6665\"}},\"id\":\"6664\",\"type\":\"CategoricalAxis\"},{\"attributes\":{\"margin\":[5,5,5,5],\"name\":\"HSpacer09559\",\"sizing_mode\":\"stretch_width\"},\"id\":\"6722\",\"type\":\"Spacer\"}],\"root_ids\":[\"6650\"]},\"title\":\"Bokeh Application\",\"version\":\"2.3.2\"}};\n",
       "    var render_items = [{\"docid\":\"9af7605f-01af-4c94-8f40-ef1faf5f3312\",\"root_ids\":[\"6650\"],\"roots\":{\"6650\":\"9e0dc723-64ca-4d52-af98-3969eb0d447c\"}}];\n",
       "    root.Bokeh.embed.embed_items_notebook(docs_json, render_items);\n",
       "  }\n",
       "  if (root.Bokeh !== undefined && root.Bokeh.Panel !== undefined && root['Plotly'] !== undefined ) {\n",
       "    embed_document(root);\n",
       "  } else {\n",
       "    var attempts = 0;\n",
       "    var timer = setInterval(function(root) {\n",
       "      if (root.Bokeh !== undefined && root.Bokeh.Panel !== undefined && root['Plotly'] !== undefined) {\n",
       "        clearInterval(timer);\n",
       "        embed_document(root);\n",
       "      } else if (document.readyState == \"complete\") {\n",
       "        attempts++;\n",
       "        if (attempts > 100) {\n",
       "          clearInterval(timer);\n",
       "          console.log(\"Bokeh: ERROR: Unable to run BokehJS code because BokehJS library is missing\");\n",
       "        }\n",
       "      }\n",
       "    }, 10, root)\n",
       "  }\n",
       "})(window);</script>"
      ],
      "text/plain": [
       ":HeatMap   [columns,index]   (value)"
      ]
     },
     "execution_count": 81,
     "metadata": {
      "application/vnd.holoviews_exec.v0+json": {
       "id": "6650"
      }
     },
     "output_type": "execute_result"
    }
   ],
   "source": [
    "rolling_zScore_corr.hvplot.heatmap(title=\"Z-Score Correlation of Money Supply, Real GDP, and Real Personal Income\", width=1000, height = 500)"
   ]
  },
  {
   "cell_type": "code",
   "execution_count": 90,
   "id": "969c7dfe-ad90-4c23-b092-bf9df536a8b1",
   "metadata": {
    "tags": []
   },
   "outputs": [
    {
     "data": {
      "image/png": "[encoded data removed]",
      "text/plain": [
       "<Figure size 432x288 with 2 Axes>"
      ]
     },
     "metadata": {
      "needs_background": "light"
     },
     "output_type": "display_data"
    }
   ],
   "source": [
    "# Display the correlation matrix\n",
    "# rolling_zScore_corr_chart = sns.heatmap(rolling_zScore_corr, annot=True, vmin=-1, vmax=1)\n",
    "# rolling_zScore_corr_chart.plot()\n",
    "plt.clf()\n",
    "z_Score_Corr_chart = sns.heatmap(rolling_zScore_corr, annot=True, vmin=-1, vmax=1)\n",
    "z_Score_Corr_chart.set_yticklabels(z_Score_Corr_chart.get_yticklabels())\n",
    "# z_Score_Corr_chart\n",
    "plt.savefig('Resources/el-Correlation_of_M2_GDP_Income')"
   ]
  },
  {
   "cell_type": "code",
   "execution_count": 69,
   "id": "c18286a5-6761-446c-8d38-e89b7ad48eb8",
   "metadata": {},
   "outputs": [
    {
     "data": {
      "text/plain": [
       "Text(0.5, 1.0, 'Z-Score Correlation of Money Supply, Real GDP, and Real Personal Income')"
      ]
     },
     "execution_count": 69,
     "metadata": {},
     "output_type": "execute_result"
    },
    {
     "data": {
      "image/png": "[encoded data removed]",
      "text/plain": [
       "<Figure size 432x288 with 2 Axes>"
      ]
     },
     "metadata": {
      "needs_background": "light"
     },
     "output_type": "display_data"
    }
   ],
   "source": [
    "# Display the correlation matrix\n",
    "plt.clf()\n",
    "# sns.color_palette(\"mako\", as_cmap=True)\n",
    "sns.heatmap(rolling_zScore_corr, cmap='YlGnBu') \n",
    "plt.title(\"Z-Score Correlation of Money Supply, Real GDP, and Real Personal Income\")\n",
    "\n",
    "# plt.tight_layout()\n",
    "# plt.savefig('Resources/el_Correlation_of_M2_GDP_Income')"
   ]
  },
  {
   "cell_type": "markdown",
   "id": "46cfabdb-85e9-4b8f-8d92-9c076207840b",
   "metadata": {
    "tags": []
   },
   "source": [
    "# Plot of Rolling 3 Year \"z-score\", z-score enables a fair comparison between the different features."
   ]
  },
  {
   "cell_type": "code",
   "execution_count": 96,
   "id": "e8bcb54c-9ae2-43a3-b8ac-277061319f46",
   "metadata": {},
   "outputs": [
    {
     "data": {},
     "metadata": {},
     "output_type": "display_data"
    },
    {
     "data": {
      "application/vnd.holoviews_exec.v0+json": "",
      "text/html": [
       "<div id='8209'>\n",
       "\n",
       "\n",
       "\n",
       "\n",
       "\n",
       "  <div class=\"bk-root\" id=\"869e00a2-6cfb-44f1-aaf2-71b141a63a02\" data-root-id=\"8209\"></div>\n",
       "</div>\n",
       "<script type=\"application/javascript\">(function(root) {\n",
       "  function embed_document(root) {\n",
       "    var docs_json = {\"a9a9c758-5a6d-4beb-935a-744878a64c65\":{\"defs\":[],\"roots\":{\"references\":[{\"attributes\":{\"angle\":{\"value\":0.0},\"text\":{\"field\":\"text\"},\"text_align\":{\"value\":\"right\"},\"text_alpha\":{\"value\":1.0},\"text_baseline\":{\"value\":\"middle\"},\"text_color\":{\"value\":\"black\"},\"text_font_size\":{\"value\":\"12Pt\"},\"text_font_style\":{\"value\":\"normal\"},\"text_line_height\":{\"value\":1.2},\"x\":{\"field\":\"x\"},\"x_offset\":{\"value\":0},\"y\":{\"field\":\"y\"},\"y_offset\":{\"value\":0}},\"id\":\"8569\",\"type\":\"Text\"},{\"attributes\":{\"data_source\":{\"id\":\"8551\"},\"glyph\":{\"id\":\"8554\"},\"hover_glyph\":null,\"muted_glyph\":null,\"nonselection_glyph\":{\"id\":\"8555\"},\"selection_glyph\":{\"id\":\"8558\"},\"view\":{\"id\":\"8557\"}},\"id\":\"8556\",\"type\":\"GlyphRenderer\"},{\"attributes\":{\"source\":{\"id\":\"8562\"}},\"id\":\"8568\",\"type\":\"CDSView\"},{\"attributes\":{},\"id\":\"8230\",\"type\":\"BasicTicker\"},{\"attributes\":{},\"id\":\"8249\",\"type\":\"BasicTickFormatter\"},{\"attributes\":{\"end\":5.283424505836,\"reset_end\":5.283424505836,\"reset_start\":-4.002434398923214,\"start\":-4.002434398923214,\"tags\":[[[\"value\",\"value\",null]]]},\"id\":\"8212\",\"type\":\"Range1d\"},{\"attributes\":{\"dimension\":\"height\",\"level\":\"glyph\",\"line_color\":\"gray\",\"line_width\":3,\"location\":1000166400000},\"id\":\"8561\",\"type\":\"Span\"},{\"attributes\":{},\"id\":\"8314\",\"type\":\"UnionRenderers\"},{\"attributes\":{\"data_source\":{\"id\":\"8562\"},\"glyph\":{\"id\":\"8565\"},\"hover_glyph\":null,\"muted_glyph\":null,\"nonselection_glyph\":{\"id\":\"8566\"},\"selection_glyph\":{\"id\":\"8569\"},\"view\":{\"id\":\"8568\"}},\"id\":\"8567\",\"type\":\"GlyphRenderer\"},{\"attributes\":{\"data\":{\"text\":[\"Global Pandemic\"],\"x\":[1577836800000.0],\"y\":[4]},\"selected\":{\"id\":\"8541\"},\"selection_policy\":{\"id\":\"8606\"}},\"id\":\"8540\",\"type\":\"ColumnDataSource\"},{\"attributes\":{},\"id\":\"8237\",\"type\":\"ResetTool\"},{\"attributes\":{\"base\":60,\"mantissas\":[1,2,5,10,15,20,30],\"max_interval\":1800000.0,\"min_interval\":1000.0,\"num_minor_ticks\":0},\"id\":\"8268\",\"type\":\"AdaptiveTicker\"},{\"attributes\":{\"bottom_units\":\"screen\",\"fill_alpha\":0.5,\"fill_color\":\"lightgrey\",\"left_units\":\"screen\",\"level\":\"overlay\",\"line_alpha\":1.0,\"line_color\":\"black\",\"line_dash\":[4,4],\"line_width\":2,\"right_units\":\"screen\",\"syncable\":false,\"top_units\":\"screen\"},\"id\":\"8238\",\"type\":\"BoxAnnotation\"},{\"attributes\":{\"data_source\":{\"id\":\"8573\"},\"glyph\":{\"id\":\"8576\"},\"hover_glyph\":null,\"muted_glyph\":null,\"nonselection_glyph\":{\"id\":\"8577\"},\"selection_glyph\":{\"id\":\"8580\"},\"view\":{\"id\":\"8579\"}},\"id\":\"8578\",\"type\":\"GlyphRenderer\"},{\"attributes\":{\"margin\":[5,5,5,5],\"name\":\"HSpacer11684\",\"sizing_mode\":\"stretch_width\"},\"id\":\"8210\",\"type\":\"Spacer\"},{\"attributes\":{\"source\":{\"id\":\"8551\"}},\"id\":\"8557\",\"type\":\"CDSView\"},{\"attributes\":{},\"id\":\"8235\",\"type\":\"WheelZoomTool\"},{\"attributes\":{\"days\":[1,2,3,4,5,6,7,8,9,10,11,12,13,14,15,16,17,18,19,20,21,22,23,24,25,26,27,28,29,30,31]},\"id\":\"8270\",\"type\":\"DaysTicker\"},{\"attributes\":{},\"id\":\"8320\",\"type\":\"Selection\"},{\"attributes\":{\"base\":24,\"mantissas\":[1,2,4,6,8,12],\"max_interval\":43200000.0,\"min_interval\":3600000.0,\"num_minor_ticks\":0},\"id\":\"8269\",\"type\":\"AdaptiveTicker\"},{\"attributes\":{},\"id\":\"8563\",\"type\":\"Selection\"},{\"attributes\":{\"text_align\":{\"value\":\"right\"},\"text_alpha\":{\"value\":0.1},\"text_baseline\":{\"value\":\"middle\"},\"text_color\":{\"value\":\"black\"},\"text_font_size\":{\"value\":\"12Pt\"},\"x\":{\"field\":\"x\"},\"y\":{\"field\":\"y\"}},\"id\":\"8566\",\"type\":\"Text\"},{\"attributes\":{\"data\":{\"text\":[\" 1980s Financial Crisis\"],\"x\":[362793600000.0],\"y\":[-1]},\"selected\":{\"id\":\"8574\"},\"selection_policy\":{\"id\":\"8612\"}},\"id\":\"8573\",\"type\":\"ColumnDataSource\"},{\"attributes\":{},\"id\":\"8221\",\"type\":\"LinearScale\"},{\"attributes\":{\"angle\":{\"value\":0.0},\"text\":{\"field\":\"text\"},\"text_align\":{\"value\":\"right\"},\"text_alpha\":{\"value\":1.0},\"text_baseline\":{\"value\":\"middle\"},\"text_color\":{\"value\":\"black\"},\"text_font_size\":{\"value\":\"12Pt\"},\"text_font_style\":{\"value\":\"normal\"},\"text_line_height\":{\"value\":1.2},\"x\":{\"field\":\"x\"},\"x_offset\":{\"value\":0},\"y\":{\"field\":\"y\"},\"y_offset\":{\"value\":0}},\"id\":\"8547\",\"type\":\"Text\"},{\"attributes\":{\"line_color\":\"#e5ae38\",\"line_width\":2,\"x\":{\"field\":\"index\"},\"y\":{\"field\":\"value\"}},\"id\":\"8354\",\"type\":\"Line\"},{\"attributes\":{\"source\":{\"id\":\"8252\"}},\"id\":\"8259\",\"type\":\"CDSView\"},{\"attributes\":{},\"id\":\"8286\",\"type\":\"Selection\"},{\"attributes\":{\"click_policy\":\"mute\",\"items\":[{\"id\":\"8283\"},{\"id\":\"8317\"},{\"id\":\"8353\"}],\"location\":[0,0]},\"id\":\"8282\",\"type\":\"Legend\"},{\"attributes\":{\"axis\":{\"id\":\"8225\"},\"grid_line_color\":null,\"ticker\":null},\"id\":\"8228\",\"type\":\"Grid\"},{\"attributes\":{\"line_alpha\":0.2,\"line_color\":\"#30a2da\",\"line_width\":2,\"x\":{\"field\":\"index\"},\"y\":{\"field\":\"value\"}},\"id\":\"8257\",\"type\":\"Line\"},{\"attributes\":{\"text_align\":{\"value\":\"center\"},\"text_alpha\":{\"value\":0.1},\"text_baseline\":{\"value\":\"middle\"},\"text_color\":{\"value\":\"black\"},\"text_font_size\":{\"value\":\"12Pt\"},\"x\":{\"field\":\"x\"},\"y\":{\"field\":\"y\"}},\"id\":\"8555\",\"type\":\"Text\"},{\"attributes\":{\"below\":[{\"id\":\"8225\"}],\"center\":[{\"id\":\"8228\"},{\"id\":\"8232\"}],\"height\":500,\"left\":[{\"id\":\"8229\"}],\"margin\":[5,5,5,5],\"min_border_bottom\":10,\"min_border_left\":10,\"min_border_right\":10,\"min_border_top\":10,\"renderers\":[{\"id\":\"8258\"},{\"id\":\"8291\"},{\"id\":\"8325\"},{\"id\":\"8539\"},{\"id\":\"8545\"},{\"id\":\"8550\"},{\"id\":\"8556\"},{\"id\":\"8561\"},{\"id\":\"8567\"},{\"id\":\"8572\"},{\"id\":\"8578\"}],\"right\":[{\"id\":\"8282\"}],\"sizing_mode\":\"fixed\",\"title\":{\"id\":\"8217\"},\"toolbar\":{\"id\":\"8239\"},\"width\":1000,\"x_range\":{\"id\":\"8211\"},\"x_scale\":{\"id\":\"8221\"},\"y_range\":{\"id\":\"8212\"},\"y_scale\":{\"id\":\"8223\"}},\"id\":\"8216\",\"subtype\":\"Figure\",\"type\":\"Plot\"},{\"attributes\":{\"source\":{\"id\":\"8319\"}},\"id\":\"8326\",\"type\":\"CDSView\"},{\"attributes\":{},\"id\":\"8279\",\"type\":\"UnionRenderers\"},{\"attributes\":{\"line_alpha\":0.2,\"line_color\":\"#fc4f30\",\"line_width\":2,\"x\":{\"field\":\"index\"},\"y\":{\"field\":\"value\"}},\"id\":\"8290\",\"type\":\"Line\"},{\"attributes\":{},\"id\":\"8234\",\"type\":\"PanTool\"},{\"attributes\":{},\"id\":\"8251\",\"type\":\"AllLabels\"},{\"attributes\":{\"mantissas\":[1,2,5],\"max_interval\":500.0,\"num_minor_ticks\":0},\"id\":\"8267\",\"type\":\"AdaptiveTicker\"},{\"attributes\":{\"data\":{\"Variable\":[\"GDP Z-Score\",\"GDP Z-Score\",\"GDP Z-Score\",\"GDP Z-Score\",\"GDP Z-Score\",\"GDP Z-Score\",\"GDP Z-Score\",\"GDP Z-Score\",\"GDP Z-Score\",\"GDP Z-Score\",\"GDP Z-Score\",\"GDP Z-Score\",\"GDP Z-Score\",\"GDP Z-Score\",\"GDP Z-Score\",\"GDP Z-Score\",\"GDP Z-Score\",\"GDP Z-Score\",\"GDP Z-Score\",\"GDP Z-Score\",\"GDP Z-Score\",\"GDP Z-Score\",\"GDP Z-Score\",\"GDP Z-Score\",\"GDP Z-Score\",\"GDP Z-Score\",\"GDP Z-Score\",\"GDP Z-Score\",\"GDP Z-Score\",\"GDP Z-Score\",\"GDP Z-Score\",\"GDP Z-Score\",\"GDP Z-Score\",\"GDP Z-Score\",\"GDP Z-Score\",\"GDP Z-Score\",\"GDP Z-Score\",\"GDP Z-Score\",\"GDP Z-Score\",\"GDP Z-Score\",\"GDP Z-Score\",\"GDP Z-Score\",\"GDP Z-Score\",\"GDP Z-Score\",\"GDP Z-Score\",\"GDP Z-Score\",\"GDP Z-Score\",\"GDP Z-Score\",\"GDP Z-Score\",\"GDP Z-Score\",\"GDP Z-Score\",\"GDP Z-Score\",\"GDP Z-Score\",\"GDP Z-Score\",\"GDP Z-Score\",\"GDP Z-Score\",\"GDP Z-Score\",\"GDP Z-Score\",\"GDP Z-Score\",\"GDP Z-Score\",\"GDP Z-Score\",\"GDP Z-Score\",\"GDP Z-Score\",\"GDP Z-Score\",\"GDP Z-Score\",\"GDP Z-Score\",\"GDP Z-Score\",\"GDP Z-Score\",\"GDP Z-Score\",\"GDP Z-Score\",\"GDP Z-Score\",\"GDP Z-Score\",\"GDP Z-Score\",\"GDP Z-Score\",\"GDP Z-Score\",\"GDP Z-Score\",\"GDP Z-Score\",\"GDP Z-Score\",\"GDP Z-Score\",\"GDP Z-Score\",\"GDP Z-Score\",\"GDP Z-Score\",\"GDP Z-Score\",\"GDP Z-Score\",\"GDP Z-Score\",\"GDP Z-Score\",\"GDP Z-Score\",\"GDP Z-Score\",\"GDP Z-Score\",\"GDP Z-Score\",\"GDP Z-Score\",\"GDP Z-Score\",\"GDP Z-Score\",\"GDP Z-Score\",\"GDP Z-Score\",\"GDP Z-Score\",\"GDP Z-Score\",\"GDP Z-Score\",\"GDP Z-Score\",\"GDP Z-Score\",\"GDP Z-Score\",\"GDP Z-Score\",\"GDP Z-Score\",\"GDP Z-Score\",\"GDP Z-Score\",\"GDP Z-Score\",\"GDP Z-Score\",\"GDP Z-Score\",\"GDP Z-Score\",\"GDP Z-Score\",\"GDP Z-Score\",\"GDP Z-Score\",\"GDP Z-Score\",\"GDP Z-Score\",\"GDP Z-Score\",\"GDP Z-Score\",\"GDP Z-Score\",\"GDP Z-Score\",\"GDP Z-Score\",\"GDP Z-Score\",\"GDP Z-Score\",\"GDP Z-Score\",\"GDP Z-Score\",\"GDP Z-Score\",\"GDP Z-Score\",\"GDP Z-Score\",\"GDP Z-Score\",\"GDP Z-Score\",\"GDP Z-Score\",\"GDP Z-Score\",\"GDP Z-Score\",\"GDP Z-Score\",\"GDP Z-Score\",\"GDP Z-Score\",\"GDP Z-Score\",\"GDP Z-Score\",\"GDP Z-Score\",\"GDP Z-Score\",\"GDP Z-Score\",\"GDP Z-Score\",\"GDP Z-Score\",\"GDP Z-Score\",\"GDP Z-Score\",\"GDP Z-Score\",\"GDP Z-Score\",\"GDP Z-Score\",\"GDP Z-Score\",\"GDP Z-Score\",\"GDP Z-Score\",\"GDP Z-Score\",\"GDP Z-Score\",\"GDP Z-Score\",\"GDP Z-Score\",\"GDP Z-Score\",\"GDP Z-Score\",\"GDP Z-Score\",\"GDP Z-Score\",\"GDP Z-Score\",\"GDP Z-Score\",\"GDP Z-Score\",\"GDP Z-Score\",\"GDP Z-Score\",\"GDP Z-Score\",\"GDP Z-Score\",\"GDP Z-Score\",\"GDP Z-Score\",\"GDP Z-Score\",\"GDP Z-Score\",\"GDP Z-Score\",\"GDP Z-Score\",\"GDP Z-Score\",\"GDP Z-Score\",\"GDP Z-Score\",\"GDP Z-Score\",\"GDP Z-Score\",\"GDP Z-Score\",\"GDP Z-Score\",\"GDP Z-Score\",\"GDP Z-Score\",\"GDP Z-Score\",\"GDP Z-Score\",\"GDP Z-Score\",\"GDP Z-Score\",\"GDP Z-Score\",\"GDP Z-Score\",\"GDP Z-Score\",\"GDP Z-Score\",\"GDP Z-Score\",\"GDP Z-Score\",\"GDP Z-Score\",\"GDP Z-Score\",\"GDP Z-Score\",\"GDP Z-Score\",\"GDP Z-Score\",\"GDP Z-Score\",\"GDP Z-Score\",\"GDP Z-Score\",\"GDP Z-Score\",\"GDP Z-Score\",\"GDP Z-Score\",\"GDP Z-Score\",\"GDP Z-Score\",\"GDP Z-Score\",\"GDP Z-Score\",\"GDP Z-Score\",\"GDP Z-Score\",\"GDP Z-Score\",\"GDP Z-Score\",\"GDP Z-Score\",\"GDP Z-Score\",\"GDP Z-Score\",\"GDP Z-Score\",\"GDP Z-Score\",\"GDP Z-Score\",\"GDP Z-Score\",\"GDP Z-Score\",\"GDP Z-Score\",\"GDP Z-Score\",\"GDP Z-Score\",\"GDP Z-Score\",\"GDP Z-Score\",\"GDP Z-Score\",\"GDP Z-Score\",\"GDP Z-Score\",\"GDP Z-Score\",\"GDP Z-Score\",\"GDP Z-Score\",\"GDP Z-Score\",\"GDP Z-Score\",\"GDP Z-Score\",\"GDP Z-Score\",\"GDP Z-Score\",\"GDP Z-Score\",\"GDP Z-Score\",\"GDP Z-Score\",\"GDP Z-Score\",\"GDP Z-Score\",\"GDP Z-Score\",\"GDP Z-Score\",\"GDP Z-Score\",\"GDP Z-Score\",\"GDP Z-Score\",\"GDP Z-Score\",\"GDP Z-Score\",\"GDP Z-Score\",\"GDP Z-Score\",\"GDP Z-Score\",\"GDP Z-Score\",\"GDP Z-Score\",\"GDP Z-Score\",\"GDP Z-Score\",\"GDP Z-Score\",\"GDP Z-Score\",\"GDP Z-Score\",\"GDP Z-Score\",\"GDP Z-Score\",\"GDP Z-Score\",\"GDP Z-Score\",\"GDP Z-Score\",\"GDP Z-Score\",\"GDP Z-Score\",\"GDP Z-Score\",\"GDP Z-Score\",\"GDP Z-Score\",\"GDP Z-Score\",\"GDP Z-Score\",\"GDP Z-Score\",\"GDP Z-Score\",\"GDP Z-Score\",\"GDP Z-Score\",\"GDP Z-Score\",\"GDP Z-Score\",\"GDP Z-Score\",\"GDP Z-Score\",\"GDP Z-Score\",\"GDP Z-Score\",\"GDP Z-Score\",\"GDP Z-Score\",\"GDP Z-Score\",\"GDP Z-Score\",\"GDP Z-Score\",\"GDP Z-Score\",\"GDP Z-Score\",\"GDP Z-Score\",\"GDP Z-Score\",\"GDP Z-Score\",\"GDP Z-Score\",\"GDP Z-Score\",\"GDP Z-Score\",\"GDP Z-Score\",\"GDP Z-Score\",\"GDP Z-Score\",\"GDP Z-Score\",\"GDP Z-Score\",\"GDP Z-Score\",\"GDP Z-Score\",\"GDP Z-Score\",\"GDP Z-Score\",\"GDP Z-Score\",\"GDP Z-Score\",\"GDP Z-Score\",\"GDP Z-Score\",\"GDP Z-Score\",\"GDP Z-Score\",\"GDP Z-Score\",\"GDP Z-Score\",\"GDP Z-Score\",\"GDP Z-Score\",\"GDP Z-Score\",\"GDP Z-Score\",\"GDP Z-Score\",\"GDP Z-Score\",\"GDP Z-Score\",\"GDP Z-Score\",\"GDP Z-Score\",\"GDP Z-Score\",\"GDP Z-Score\",\"GDP Z-Score\",\"GDP Z-Score\",\"GDP Z-Score\",\"GDP Z-Score\",\"GDP Z-Score\",\"GDP Z-Score\",\"GDP Z-Score\",\"GDP Z-Score\",\"GDP Z-Score\",\"GDP Z-Score\",\"GDP Z-Score\",\"GDP Z-Score\",\"GDP Z-Score\",\"GDP Z-Score\",\"GDP Z-Score\",\"GDP Z-Score\",\"GDP Z-Score\",\"GDP Z-Score\",\"GDP Z-Score\",\"GDP Z-Score\",\"GDP Z-Score\",\"GDP Z-Score\",\"GDP Z-Score\",\"GDP Z-Score\",\"GDP Z-Score\",\"GDP Z-Score\",\"GDP Z-Score\",\"GDP Z-Score\",\"GDP Z-Score\",\"GDP Z-Score\",\"GDP Z-Score\",\"GDP Z-Score\",\"GDP Z-Score\",\"GDP Z-Score\",\"GDP Z-Score\",\"GDP Z-Score\",\"GDP Z-Score\",\"GDP Z-Score\",\"GDP Z-Score\",\"GDP Z-Score\",\"GDP Z-Score\",\"GDP Z-Score\",\"GDP Z-Score\",\"GDP Z-Score\",\"GDP Z-Score\",\"GDP Z-Score\",\"GDP Z-Score\",\"GDP Z-Score\",\"GDP Z-Score\",\"GDP Z-Score\",\"GDP Z-Score\",\"GDP Z-Score\",\"GDP Z-Score\",\"GDP Z-Score\",\"GDP Z-Score\",\"GDP Z-Score\",\"GDP Z-Score\",\"GDP Z-Score\",\"GDP Z-Score\",\"GDP Z-Score\",\"GDP Z-Score\",\"GDP Z-Score\",\"GDP Z-Score\",\"GDP Z-Score\",\"GDP Z-Score\",\"GDP Z-Score\",\"GDP Z-Score\",\"GDP Z-Score\",\"GDP Z-Score\",\"GDP Z-Score\",\"GDP Z-Score\",\"GDP Z-Score\",\"GDP Z-Score\",\"GDP Z-Score\",\"GDP Z-Score\",\"GDP Z-Score\",\"GDP Z-Score\",\"GDP Z-Score\",\"GDP Z-Score\",\"GDP Z-Score\",\"GDP Z-Score\",\"GDP Z-Score\",\"GDP Z-Score\",\"GDP Z-Score\",\"GDP Z-Score\",\"GDP Z-Score\",\"GDP Z-Score\",\"GDP Z-Score\",\"GDP Z-Score\",\"GDP Z-Score\",\"GDP Z-Score\",\"GDP Z-Score\",\"GDP Z-Score\",\"GDP Z-Score\",\"GDP Z-Score\",\"GDP Z-Score\",\"GDP Z-Score\",\"GDP Z-Score\",\"GDP Z-Score\",\"GDP Z-Score\",\"GDP Z-Score\",\"GDP Z-Score\",\"GDP Z-Score\",\"GDP Z-Score\",\"GDP Z-Score\",\"GDP Z-Score\",\"GDP Z-Score\",\"GDP Z-Score\",\"GDP Z-Score\",\"GDP Z-Score\",\"GDP Z-Score\",\"GDP Z-Score\",\"GDP Z-Score\",\"GDP Z-Score\",\"GDP Z-Score\",\"GDP Z-Score\",\"GDP Z-Score\",\"GDP Z-Score\",\"GDP Z-Score\",\"GDP Z-Score\",\"GDP Z-Score\",\"GDP Z-Score\",\"GDP Z-Score\",\"GDP Z-Score\",\"GDP Z-Score\",\"GDP Z-Score\",\"GDP Z-Score\",\"GDP Z-Score\",\"GDP Z-Score\",\"GDP Z-Score\",\"GDP Z-Score\",\"GDP Z-Score\",\"GDP Z-Score\",\"GDP Z-Score\",\"GDP Z-Score\",\"GDP Z-Score\",\"GDP Z-Score\",\"GDP Z-Score\",\"GDP Z-Score\",\"GDP Z-Score\",\"GDP Z-Score\",\"GDP Z-Score\",\"GDP Z-Score\",\"GDP Z-Score\",\"GDP Z-Score\",\"GDP Z-Score\",\"GDP Z-Score\",\"GDP Z-Score\",\"GDP Z-Score\",\"GDP Z-Score\",\"GDP Z-Score\",\"GDP Z-Score\",\"GDP Z-Score\",\"GDP Z-Score\",\"GDP Z-Score\",\"GDP Z-Score\",\"GDP Z-Score\",\"GDP Z-Score\",\"GDP Z-Score\",\"GDP Z-Score\",\"GDP Z-Score\",\"GDP Z-Score\",\"GDP Z-Score\",\"GDP Z-Score\",\"GDP Z-Score\",\"GDP Z-Score\",\"GDP Z-Score\",\"GDP Z-Score\",\"GDP Z-Score\",\"GDP Z-Score\",\"GDP Z-Score\",\"GDP Z-Score\",\"GDP Z-Score\",\"GDP Z-Score\",\"GDP Z-Score\",\"GDP Z-Score\",\"GDP Z-Score\",\"GDP Z-Score\",\"GDP Z-Score\",\"GDP Z-Score\",\"GDP Z-Score\"],\"index\":{\"__ndarray__\":\"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\",\"dtype\":\"float64\",\"order\":\"little\",\"shape\":[498]},\"value\":{\"__ndarray__\":\"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\",\"dtype\":\"float64\",\"order\":\"little\",\"shape\":[498]}},\"selected\":{\"id\":\"8320\"},\"selection_policy\":{\"id\":\"8350\"}},\"id\":\"8319\",\"type\":\"ColumnDataSource\"},{\"attributes\":{\"months\":[0,1,2,3,4,5,6,7,8,9,10,11]},\"id\":\"8274\",\"type\":\"MonthsTicker\"},{\"attributes\":{},\"id\":\"8541\",\"type\":\"Selection\"},{\"attributes\":{\"num_minor_ticks\":5,\"tickers\":[{\"id\":\"8267\"},{\"id\":\"8268\"},{\"id\":\"8269\"},{\"id\":\"8270\"},{\"id\":\"8271\"},{\"id\":\"8272\"},{\"id\":\"8273\"},{\"id\":\"8274\"},{\"id\":\"8275\"},{\"id\":\"8276\"},{\"id\":\"8277\"},{\"id\":\"8278\"}]},\"id\":\"8226\",\"type\":\"DatetimeTicker\"},{\"attributes\":{\"months\":[0,2,4,6,8,10]},\"id\":\"8275\",\"type\":\"MonthsTicker\"},{\"attributes\":{\"text_align\":{\"value\":\"center\"},\"text_baseline\":{\"value\":\"middle\"},\"text_color\":{\"value\":\"black\"},\"text_font_size\":{\"value\":\"12Pt\"},\"x\":{\"field\":\"x\"},\"y\":{\"field\":\"y\"}},\"id\":\"8554\",\"type\":\"Text\"},{\"attributes\":{\"data_source\":{\"id\":\"8540\"},\"glyph\":{\"id\":\"8543\"},\"hover_glyph\":null,\"muted_glyph\":null,\"nonselection_glyph\":{\"id\":\"8544\"},\"selection_glyph\":{\"id\":\"8547\"},\"view\":{\"id\":\"8546\"}},\"id\":\"8545\",\"type\":\"GlyphRenderer\"},{\"attributes\":{},\"id\":\"8223\",\"type\":\"LinearScale\"},{\"attributes\":{\"text_alpha\":{\"value\":0.1},\"text_baseline\":{\"value\":\"middle\"},\"text_color\":{\"value\":\"black\"},\"text_font_size\":{\"value\":\"12Pt\"},\"x\":{\"field\":\"x\"},\"y\":{\"field\":\"y\"}},\"id\":\"8577\",\"type\":\"Text\"},{\"attributes\":{\"text_align\":{\"value\":\"right\"},\"text_alpha\":{\"value\":0.1},\"text_baseline\":{\"value\":\"middle\"},\"text_color\":{\"value\":\"black\"},\"text_font_size\":{\"value\":\"12Pt\"},\"x\":{\"field\":\"x\"},\"y\":{\"field\":\"y\"}},\"id\":\"8544\",\"type\":\"Text\"},{\"attributes\":{\"angle\":{\"value\":0.0},\"text\":{\"field\":\"text\"},\"text_align\":{\"value\":\"center\"},\"text_alpha\":{\"value\":1.0},\"text_baseline\":{\"value\":\"middle\"},\"text_color\":{\"value\":\"black\"},\"text_font_size\":{\"value\":\"12Pt\"},\"text_font_style\":{\"value\":\"normal\"},\"text_line_height\":{\"value\":1.2},\"x\":{\"field\":\"x\"},\"x_offset\":{\"value\":0},\"y\":{\"field\":\"y\"},\"y_offset\":{\"value\":0}},\"id\":\"8558\",\"type\":\"Text\"},{\"attributes\":{\"text\":\"Rolling 3 Year Z-Score\",\"text_color\":\"black\",\"text_font_size\":\"12pt\"},\"id\":\"8217\",\"type\":\"Title\"},{\"attributes\":{\"axis_label\":\"\",\"formatter\":{\"id\":\"8249\"},\"major_label_policy\":{\"id\":\"8251\"},\"ticker\":{\"id\":\"8230\"}},\"id\":\"8229\",\"type\":\"LinearAxis\"},{\"attributes\":{\"days\":[1,15]},\"id\":\"8273\",\"type\":\"DaysTicker\"},{\"attributes\":{},\"id\":\"8253\",\"type\":\"Selection\"},{\"attributes\":{},\"id\":\"8608\",\"type\":\"UnionRenderers\"},{\"attributes\":{\"days\":[1,8,15,22]},\"id\":\"8272\",\"type\":\"DaysTicker\"},{\"attributes\":{},\"id\":\"8233\",\"type\":\"SaveTool\"},{\"attributes\":{\"angle\":{\"value\":0.0},\"text\":{\"field\":\"text\"},\"text_align\":{\"value\":\"left\"},\"text_alpha\":{\"value\":1.0},\"text_baseline\":{\"value\":\"middle\"},\"text_color\":{\"value\":\"black\"},\"text_font_size\":{\"value\":\"12Pt\"},\"text_font_style\":{\"value\":\"normal\"},\"text_line_height\":{\"value\":1.2},\"x\":{\"field\":\"x\"},\"x_offset\":{\"value\":0},\"y\":{\"field\":\"y\"},\"y_offset\":{\"value\":0}},\"id\":\"8580\",\"type\":\"Text\"},{\"attributes\":{\"end\":1622505600000.0,\"reset_end\":1622505600000.0,\"reset_start\":315532800000.0,\"start\":315532800000.0,\"tags\":[[[\"index\",\"index\",null]]]},\"id\":\"8211\",\"type\":\"Range1d\"},{\"attributes\":{\"text_baseline\":{\"value\":\"middle\"},\"text_color\":{\"value\":\"black\"},\"text_font_size\":{\"value\":\"12Pt\"},\"x\":{\"field\":\"x\"},\"y\":{\"field\":\"y\"}},\"id\":\"8576\",\"type\":\"Text\"},{\"attributes\":{\"overlay\":{\"id\":\"8238\"}},\"id\":\"8236\",\"type\":\"BoxZoomTool\"},{\"attributes\":{},\"id\":\"8278\",\"type\":\"YearsTicker\"},{\"attributes\":{\"data\":{\"Variable\":[\"Personal Inc Z-Score\",\"Personal Inc Z-Score\",\"Personal Inc Z-Score\",\"Personal Inc Z-Score\",\"Personal Inc Z-Score\",\"Personal Inc Z-Score\",\"Personal Inc Z-Score\",\"Personal Inc Z-Score\",\"Personal Inc Z-Score\",\"Personal Inc Z-Score\",\"Personal Inc Z-Score\",\"Personal Inc Z-Score\",\"Personal Inc Z-Score\",\"Personal Inc Z-Score\",\"Personal Inc Z-Score\",\"Personal Inc Z-Score\",\"Personal Inc Z-Score\",\"Personal Inc Z-Score\",\"Personal Inc Z-Score\",\"Personal Inc Z-Score\",\"Personal Inc Z-Score\",\"Personal Inc Z-Score\",\"Personal Inc Z-Score\",\"Personal Inc Z-Score\",\"Personal Inc Z-Score\",\"Personal Inc Z-Score\",\"Personal Inc Z-Score\",\"Personal Inc Z-Score\",\"Personal Inc Z-Score\",\"Personal Inc Z-Score\",\"Personal Inc Z-Score\",\"Personal Inc Z-Score\",\"Personal Inc Z-Score\",\"Personal Inc Z-Score\",\"Personal Inc Z-Score\",\"Personal Inc Z-Score\",\"Personal Inc Z-Score\",\"Personal Inc Z-Score\",\"Personal Inc Z-Score\",\"Personal Inc Z-Score\",\"Personal Inc Z-Score\",\"Personal Inc Z-Score\",\"Personal Inc Z-Score\",\"Personal Inc Z-Score\",\"Personal Inc Z-Score\",\"Personal Inc Z-Score\",\"Personal Inc Z-Score\",\"Personal Inc Z-Score\",\"Personal Inc Z-Score\",\"Personal Inc Z-Score\",\"Personal Inc Z-Score\",\"Personal Inc Z-Score\",\"Personal Inc Z-Score\",\"Personal Inc Z-Score\",\"Personal Inc Z-Score\",\"Personal Inc Z-Score\",\"Personal Inc Z-Score\",\"Personal Inc Z-Score\",\"Personal Inc Z-Score\",\"Personal Inc Z-Score\",\"Personal Inc Z-Score\",\"Personal Inc Z-Score\",\"Personal Inc Z-Score\",\"Personal Inc Z-Score\",\"Personal Inc Z-Score\",\"Personal Inc Z-Score\",\"Personal Inc Z-Score\",\"Personal Inc Z-Score\",\"Personal Inc Z-Score\",\"Personal Inc Z-Score\",\"Personal Inc Z-Score\",\"Personal Inc Z-Score\",\"Personal Inc Z-Score\",\"Personal Inc Z-Score\",\"Personal Inc Z-Score\",\"Personal Inc Z-Score\",\"Personal Inc Z-Score\",\"Personal Inc Z-Score\",\"Personal Inc Z-Score\",\"Personal Inc Z-Score\",\"Personal Inc Z-Score\",\"Personal Inc Z-Score\",\"Personal Inc Z-Score\",\"Personal Inc Z-Score\",\"Personal Inc Z-Score\",\"Personal Inc Z-Score\",\"Personal Inc Z-Score\",\"Personal Inc Z-Score\",\"Personal Inc Z-Score\",\"Personal Inc Z-Score\",\"Personal Inc Z-Score\",\"Personal Inc Z-Score\",\"Personal Inc Z-Score\",\"Personal Inc Z-Score\",\"Personal Inc Z-Score\",\"Personal Inc Z-Score\",\"Personal Inc Z-Score\",\"Personal Inc Z-Score\",\"Personal Inc Z-Score\",\"Personal Inc Z-Score\",\"Personal Inc Z-Score\",\"Personal Inc Z-Score\",\"Personal Inc Z-Score\",\"Personal Inc Z-Score\",\"Personal Inc Z-Score\",\"Personal Inc Z-Score\",\"Personal Inc Z-Score\",\"Personal Inc Z-Score\",\"Personal Inc Z-Score\",\"Personal Inc Z-Score\",\"Personal Inc Z-Score\",\"Personal Inc Z-Score\",\"Personal Inc Z-Score\",\"Personal Inc Z-Score\",\"Personal Inc Z-Score\",\"Personal Inc Z-Score\",\"Personal Inc Z-Score\",\"Personal Inc Z-Score\",\"Personal Inc Z-Score\",\"Personal Inc Z-Score\",\"Personal Inc Z-Score\",\"Personal Inc Z-Score\",\"Personal Inc Z-Score\",\"Personal Inc Z-Score\",\"Personal Inc Z-Score\",\"Personal Inc Z-Score\",\"Personal Inc Z-Score\",\"Personal Inc Z-Score\",\"Personal Inc Z-Score\",\"Personal Inc Z-Score\",\"Personal Inc Z-Score\",\"Personal Inc Z-Score\",\"Personal Inc Z-Score\",\"Personal Inc Z-Score\",\"Personal Inc Z-Score\",\"Personal Inc Z-Score\",\"Personal Inc Z-Score\",\"Personal Inc Z-Score\",\"Personal Inc Z-Score\",\"Personal Inc Z-Score\",\"Personal Inc Z-Score\",\"Personal Inc Z-Score\",\"Personal Inc Z-Score\",\"Personal Inc Z-Score\",\"Personal Inc Z-Score\",\"Personal Inc Z-Score\",\"Personal Inc Z-Score\",\"Personal Inc Z-Score\",\"Personal Inc Z-Score\",\"Personal Inc Z-Score\",\"Personal Inc Z-Score\",\"Personal Inc Z-Score\",\"Personal Inc Z-Score\",\"Personal Inc Z-Score\",\"Personal Inc Z-Score\",\"Personal Inc Z-Score\",\"Personal Inc Z-Score\",\"Personal Inc Z-Score\",\"Personal Inc Z-Score\",\"Personal Inc Z-Score\",\"Personal Inc Z-Score\",\"Personal Inc Z-Score\",\"Personal Inc Z-Score\",\"Personal Inc Z-Score\",\"Personal Inc Z-Score\",\"Personal Inc Z-Score\",\"Personal Inc Z-Score\",\"Personal Inc Z-Score\",\"Personal Inc Z-Score\",\"Personal Inc Z-Score\",\"Personal Inc Z-Score\",\"Personal Inc Z-Score\",\"Personal Inc Z-Score\",\"Personal Inc Z-Score\",\"Personal Inc Z-Score\",\"Personal Inc Z-Score\",\"Personal Inc Z-Score\",\"Personal Inc Z-Score\",\"Personal Inc Z-Score\",\"Personal Inc Z-Score\",\"Personal Inc Z-Score\",\"Personal Inc Z-Score\",\"Personal Inc Z-Score\",\"Personal Inc Z-Score\",\"Personal Inc Z-Score\",\"Personal Inc Z-Score\",\"Personal Inc Z-Score\",\"Personal Inc Z-Score\",\"Personal Inc Z-Score\",\"Personal Inc Z-Score\",\"Personal Inc Z-Score\",\"Personal Inc Z-Score\",\"Personal Inc Z-Score\",\"Personal Inc Z-Score\",\"Personal Inc Z-Score\",\"Personal Inc Z-Score\",\"Personal Inc Z-Score\",\"Personal Inc Z-Score\",\"Personal Inc Z-Score\",\"Personal Inc Z-Score\",\"Personal Inc Z-Score\",\"Personal Inc Z-Score\",\"Personal Inc Z-Score\",\"Personal Inc Z-Score\",\"Personal Inc Z-Score\",\"Personal Inc Z-Score\",\"Personal Inc Z-Score\",\"Personal Inc Z-Score\",\"Personal Inc Z-Score\",\"Personal Inc Z-Score\",\"Personal Inc Z-Score\",\"Personal Inc Z-Score\",\"Personal Inc Z-Score\",\"Personal Inc Z-Score\",\"Personal Inc Z-Score\",\"Personal Inc Z-Score\",\"Personal Inc Z-Score\",\"Personal Inc Z-Score\",\"Personal Inc Z-Score\",\"Personal Inc Z-Score\",\"Personal Inc Z-Score\",\"Personal Inc Z-Score\",\"Personal Inc Z-Score\",\"Personal Inc Z-Score\",\"Personal Inc Z-Score\",\"Personal Inc Z-Score\",\"Personal Inc Z-Score\",\"Personal Inc Z-Score\",\"Personal Inc Z-Score\",\"Personal Inc Z-Score\",\"Personal Inc Z-Score\",\"Personal Inc Z-Score\",\"Personal Inc Z-Score\",\"Personal Inc Z-Score\",\"Personal Inc Z-Score\",\"Personal Inc Z-Score\",\"Personal Inc Z-Score\",\"Personal Inc Z-Score\",\"Personal Inc Z-Score\",\"Personal Inc Z-Score\",\"Personal Inc Z-Score\",\"Personal Inc Z-Score\",\"Personal Inc Z-Score\",\"Personal Inc Z-Score\",\"Personal Inc Z-Score\",\"Personal Inc Z-Score\",\"Personal Inc Z-Score\",\"Personal Inc Z-Score\",\"Personal Inc Z-Score\",\"Personal Inc Z-Score\",\"Personal Inc Z-Score\",\"Personal Inc Z-Score\",\"Personal Inc Z-Score\",\"Personal Inc Z-Score\",\"Personal Inc Z-Score\",\"Personal Inc Z-Score\",\"Personal Inc Z-Score\",\"Personal Inc Z-Score\",\"Personal Inc Z-Score\",\"Personal Inc Z-Score\",\"Personal Inc Z-Score\",\"Personal Inc Z-Score\",\"Personal Inc Z-Score\",\"Personal Inc Z-Score\",\"Personal Inc Z-Score\",\"Personal Inc Z-Score\",\"Personal Inc Z-Score\",\"Personal Inc Z-Score\",\"Personal Inc Z-Score\",\"Personal Inc Z-Score\",\"Personal Inc Z-Score\",\"Personal Inc Z-Score\",\"Personal Inc Z-Score\",\"Personal Inc Z-Score\",\"Personal Inc Z-Score\",\"Personal Inc Z-Score\",\"Personal Inc Z-Score\",\"Personal Inc Z-Score\",\"Personal Inc Z-Score\",\"Personal Inc Z-Score\",\"Personal Inc Z-Score\",\"Personal Inc Z-Score\",\"Personal Inc Z-Score\",\"Personal Inc Z-Score\",\"Personal Inc Z-Score\",\"Personal Inc Z-Score\",\"Personal Inc Z-Score\",\"Personal Inc Z-Score\",\"Personal Inc Z-Score\",\"Personal Inc Z-Score\",\"Personal Inc Z-Score\",\"Personal Inc Z-Score\",\"Personal Inc Z-Score\",\"Personal Inc Z-Score\",\"Personal Inc Z-Score\",\"Personal Inc Z-Score\",\"Personal Inc Z-Score\",\"Personal Inc Z-Score\",\"Personal Inc Z-Score\",\"Personal Inc Z-Score\",\"Personal Inc Z-Score\",\"Personal Inc Z-Score\",\"Personal Inc Z-Score\",\"Personal Inc Z-Score\",\"Personal Inc Z-Score\",\"Personal Inc Z-Score\",\"Personal Inc Z-Score\",\"Personal Inc Z-Score\",\"Personal Inc Z-Score\",\"Personal Inc Z-Score\",\"Personal Inc Z-Score\",\"Personal Inc Z-Score\",\"Personal Inc Z-Score\",\"Personal Inc Z-Score\",\"Personal Inc Z-Score\",\"Personal Inc Z-Score\",\"Personal Inc Z-Score\",\"Personal Inc Z-Score\",\"Personal Inc Z-Score\",\"Personal Inc Z-Score\",\"Personal Inc Z-Score\",\"Personal Inc Z-Score\",\"Personal Inc Z-Score\",\"Personal Inc Z-Score\",\"Personal Inc Z-Score\",\"Personal Inc Z-Score\",\"Personal Inc Z-Score\",\"Personal Inc Z-Score\",\"Personal Inc Z-Score\",\"Personal Inc Z-Score\",\"Personal Inc Z-Score\",\"Personal Inc Z-Score\",\"Personal Inc Z-Score\",\"Personal Inc Z-Score\",\"Personal Inc Z-Score\",\"Personal Inc Z-Score\",\"Personal Inc Z-Score\",\"Personal Inc Z-Score\",\"Personal Inc Z-Score\",\"Personal Inc Z-Score\",\"Personal Inc Z-Score\",\"Personal Inc Z-Score\",\"Personal Inc Z-Score\",\"Personal Inc Z-Score\",\"Personal Inc Z-Score\",\"Personal Inc Z-Score\",\"Personal Inc Z-Score\",\"Personal Inc Z-Score\",\"Personal Inc Z-Score\",\"Personal Inc Z-Score\",\"Personal Inc Z-Score\",\"Personal Inc Z-Score\",\"Personal Inc Z-Score\",\"Personal Inc Z-Score\",\"Personal Inc Z-Score\",\"Personal Inc Z-Score\",\"Personal Inc Z-Score\",\"Personal Inc Z-Score\",\"Personal Inc Z-Score\",\"Personal Inc Z-Score\",\"Personal Inc Z-Score\",\"Personal Inc Z-Score\",\"Personal Inc Z-Score\",\"Personal Inc Z-Score\",\"Personal Inc Z-Score\",\"Personal Inc Z-Score\",\"Personal Inc Z-Score\",\"Personal Inc Z-Score\",\"Personal Inc Z-Score\",\"Personal Inc Z-Score\",\"Personal Inc Z-Score\",\"Personal Inc Z-Score\",\"Personal Inc Z-Score\",\"Personal Inc Z-Score\",\"Personal Inc Z-Score\",\"Personal Inc Z-Score\",\"Personal Inc Z-Score\",\"Personal Inc Z-Score\",\"Personal Inc Z-Score\",\"Personal Inc Z-Score\",\"Personal Inc Z-Score\",\"Personal Inc Z-Score\",\"Personal Inc Z-Score\",\"Personal Inc Z-Score\",\"Personal Inc Z-Score\",\"Personal Inc Z-Score\",\"Personal Inc Z-Score\",\"Personal Inc Z-Score\",\"Personal Inc Z-Score\",\"Personal Inc Z-Score\",\"Personal Inc Z-Score\",\"Personal Inc Z-Score\",\"Personal Inc Z-Score\",\"Personal Inc Z-Score\",\"Personal Inc Z-Score\",\"Personal Inc Z-Score\",\"Personal Inc Z-Score\",\"Personal Inc Z-Score\",\"Personal Inc Z-Score\",\"Personal Inc Z-Score\",\"Personal Inc Z-Score\",\"Personal Inc Z-Score\",\"Personal Inc Z-Score\",\"Personal Inc Z-Score\",\"Personal Inc Z-Score\",\"Personal Inc Z-Score\",\"Personal Inc Z-Score\",\"Personal Inc Z-Score\",\"Personal Inc Z-Score\",\"Personal Inc Z-Score\",\"Personal Inc Z-Score\",\"Personal Inc Z-Score\",\"Personal Inc Z-Score\",\"Personal Inc Z-Score\",\"Personal Inc Z-Score\",\"Personal Inc Z-Score\",\"Personal Inc Z-Score\",\"Personal Inc Z-Score\",\"Personal Inc Z-Score\",\"Personal Inc Z-Score\",\"Personal Inc Z-Score\",\"Personal Inc Z-Score\",\"Personal Inc Z-Score\",\"Personal Inc Z-Score\",\"Personal Inc Z-Score\",\"Personal Inc Z-Score\",\"Personal Inc Z-Score\",\"Personal Inc Z-Score\",\"Personal Inc Z-Score\",\"Personal Inc Z-Score\",\"Personal Inc Z-Score\",\"Personal Inc Z-Score\",\"Personal Inc Z-Score\",\"Personal Inc Z-Score\",\"Personal Inc Z-Score\",\"Personal Inc Z-Score\",\"Personal Inc Z-Score\",\"Personal Inc Z-Score\",\"Personal Inc Z-Score\",\"Personal Inc Z-Score\",\"Personal Inc Z-Score\",\"Personal Inc Z-Score\",\"Personal Inc Z-Score\",\"Personal Inc Z-Score\",\"Personal Inc Z-Score\",\"Personal Inc Z-Score\",\"Personal Inc Z-Score\",\"Personal Inc Z-Score\",\"Personal Inc Z-Score\",\"Personal Inc Z-Score\",\"Personal Inc Z-Score\",\"Personal Inc Z-Score\",\"Personal Inc Z-Score\",\"Personal Inc Z-Score\",\"Personal Inc Z-Score\",\"Personal Inc Z-Score\",\"Personal Inc Z-Score\",\"Personal Inc Z-Score\",\"Personal Inc Z-Score\",\"Personal Inc Z-Score\",\"Personal Inc Z-Score\",\"Personal Inc Z-Score\",\"Personal Inc Z-Score\",\"Personal Inc Z-Score\",\"Personal Inc Z-Score\",\"Personal Inc Z-Score\",\"Personal Inc Z-Score\",\"Personal Inc Z-Score\",\"Personal Inc Z-Score\",\"Personal Inc Z-Score\",\"Personal Inc Z-Score\",\"Personal Inc Z-Score\",\"Personal Inc Z-Score\",\"Personal Inc Z-Score\",\"Personal Inc Z-Score\",\"Personal Inc Z-Score\",\"Personal Inc Z-Score\",\"Personal Inc Z-Score\",\"Personal Inc Z-Score\",\"Personal Inc Z-Score\",\"Personal Inc Z-Score\",\"Personal Inc Z-Score\",\"Personal Inc Z-Score\",\"Personal Inc Z-Score\",\"Personal Inc Z-Score\",\"Personal Inc Z-Score\",\"Personal Inc Z-Score\",\"Personal Inc Z-Score\",\"Personal Inc Z-Score\",\"Personal Inc Z-Score\",\"Personal Inc Z-Score\",\"Personal Inc Z-Score\",\"Personal Inc Z-Score\",\"Personal Inc Z-Score\",\"Personal Inc Z-Score\",\"Personal Inc Z-Score\",\"Personal Inc Z-Score\",\"Personal Inc Z-Score\"],\"index\":{\"__ndarray__\":\"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\",\"dtype\":\"float64\",\"order\":\"little\",\"shape\":[498]},\"value\":{\"__ndarray__\":\"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\",\"dtype\":\"float64\",\"order\":\"little\",\"shape\":[498]}},\"selected\":{\"id\":\"8286\"},\"selection_policy\":{\"id\":\"8314\"}},\"id\":\"8285\",\"type\":\"ColumnDataSource\"},{\"attributes\":{\"days\":[1,4,7,10,13,16,19,22,25,28]},\"id\":\"8271\",\"type\":\"DaysTicker\"},{\"attributes\":{},\"id\":\"8350\",\"type\":\"UnionRenderers\"},{\"attributes\":{\"line_alpha\":0.1,\"line_color\":\"#fc4f30\",\"line_width\":2,\"x\":{\"field\":\"index\"},\"y\":{\"field\":\"value\"}},\"id\":\"8289\",\"type\":\"Line\"},{\"attributes\":{\"active_multi\":null,\"tools\":[{\"id\":\"8213\"},{\"id\":\"8233\"},{\"id\":\"8234\"},{\"id\":\"8235\"},{\"id\":\"8236\"},{\"id\":\"8237\"}]},\"id\":\"8239\",\"type\":\"Toolbar\"},{\"attributes\":{\"line_color\":\"#fc4f30\",\"line_width\":2,\"x\":{\"field\":\"index\"},\"y\":{\"field\":\"value\"}},\"id\":\"8318\",\"type\":\"Line\"},{\"attributes\":{},\"id\":\"8606\",\"type\":\"UnionRenderers\"},{\"attributes\":{\"line_color\":\"#30a2da\",\"line_width\":2,\"x\":{\"field\":\"index\"},\"y\":{\"field\":\"value\"}},\"id\":\"8284\",\"type\":\"Line\"},{\"attributes\":{\"label\":{\"value\":\"Personal Inc Z-Score\"},\"renderers\":[{\"id\":\"8291\"}]},\"id\":\"8317\",\"type\":\"LegendItem\"},{\"attributes\":{\"source\":{\"id\":\"8540\"}},\"id\":\"8546\",\"type\":\"CDSView\"},{\"attributes\":{\"source\":{\"id\":\"8573\"}},\"id\":\"8579\",\"type\":\"CDSView\"},{\"attributes\":{\"text_align\":{\"value\":\"right\"},\"text_baseline\":{\"value\":\"middle\"},\"text_color\":{\"value\":\"black\"},\"text_font_size\":{\"value\":\"12Pt\"},\"x\":{\"field\":\"x\"},\"y\":{\"field\":\"y\"}},\"id\":\"8565\",\"type\":\"Text\"},{\"attributes\":{\"data\":{\"text\":[\"Sept. 11 \"],\"x\":[1000166400000.0],\"y\":[0]},\"selected\":{\"id\":\"8563\"},\"selection_policy\":{\"id\":\"8610\"}},\"id\":\"8562\",\"type\":\"ColumnDataSource\"},{\"attributes\":{\"line_alpha\":0.1,\"line_color\":\"#30a2da\",\"line_width\":2,\"x\":{\"field\":\"index\"},\"y\":{\"field\":\"value\"}},\"id\":\"8256\",\"type\":\"Line\"},{\"attributes\":{},\"id\":\"8248\",\"type\":\"AllLabels\"},{\"attributes\":{\"source\":{\"id\":\"8285\"}},\"id\":\"8292\",\"type\":\"CDSView\"},{\"attributes\":{\"data\":{\"text\":[\"Financial Crisis\"],\"x\":[1180656000000.0],\"y\":[3]},\"selected\":{\"id\":\"8552\"},\"selection_policy\":{\"id\":\"8608\"}},\"id\":\"8551\",\"type\":\"ColumnDataSource\"},{\"attributes\":{\"axis_label\":\"\",\"formatter\":{\"id\":\"8246\"},\"major_label_policy\":{\"id\":\"8248\"},\"ticker\":{\"id\":\"8226\"}},\"id\":\"8225\",\"type\":\"DatetimeAxis\"},{\"attributes\":{\"fill_alpha\":0.5,\"fill_color\":\"gray\",\"left\":1180656000000.0,\"level\":\"glyph\",\"line_alpha\":0.5,\"line_color\":\"gray\",\"right\":1262217600000.0},\"id\":\"8550\",\"type\":\"BoxAnnotation\"},{\"attributes\":{},\"id\":\"8246\",\"type\":\"DatetimeTickFormatter\"},{\"attributes\":{\"data\":{\"Variable\":[\"M2 Z-Score\",\"M2 Z-Score\",\"M2 Z-Score\",\"M2 Z-Score\",\"M2 Z-Score\",\"M2 Z-Score\",\"M2 Z-Score\",\"M2 Z-Score\",\"M2 Z-Score\",\"M2 Z-Score\",\"M2 Z-Score\",\"M2 Z-Score\",\"M2 Z-Score\",\"M2 Z-Score\",\"M2 Z-Score\",\"M2 Z-Score\",\"M2 Z-Score\",\"M2 Z-Score\",\"M2 Z-Score\",\"M2 Z-Score\",\"M2 Z-Score\",\"M2 Z-Score\",\"M2 Z-Score\",\"M2 Z-Score\",\"M2 Z-Score\",\"M2 Z-Score\",\"M2 Z-Score\",\"M2 Z-Score\",\"M2 Z-Score\",\"M2 Z-Score\",\"M2 Z-Score\",\"M2 Z-Score\",\"M2 Z-Score\",\"M2 Z-Score\",\"M2 Z-Score\",\"M2 Z-Score\",\"M2 Z-Score\",\"M2 Z-Score\",\"M2 Z-Score\",\"M2 Z-Score\",\"M2 Z-Score\",\"M2 Z-Score\",\"M2 Z-Score\",\"M2 Z-Score\",\"M2 Z-Score\",\"M2 Z-Score\",\"M2 Z-Score\",\"M2 Z-Score\",\"M2 Z-Score\",\"M2 Z-Score\",\"M2 Z-Score\",\"M2 Z-Score\",\"M2 Z-Score\",\"M2 Z-Score\",\"M2 Z-Score\",\"M2 Z-Score\",\"M2 Z-Score\",\"M2 Z-Score\",\"M2 Z-Score\",\"M2 Z-Score\",\"M2 Z-Score\",\"M2 Z-Score\",\"M2 Z-Score\",\"M2 Z-Score\",\"M2 Z-Score\",\"M2 Z-Score\",\"M2 Z-Score\",\"M2 Z-Score\",\"M2 Z-Score\",\"M2 Z-Score\",\"M2 Z-Score\",\"M2 Z-Score\",\"M2 Z-Score\",\"M2 Z-Score\",\"M2 Z-Score\",\"M2 Z-Score\",\"M2 Z-Score\",\"M2 Z-Score\",\"M2 Z-Score\",\"M2 Z-Score\",\"M2 Z-Score\",\"M2 Z-Score\",\"M2 Z-Score\",\"M2 Z-Score\",\"M2 Z-Score\",\"M2 Z-Score\",\"M2 Z-Score\",\"M2 Z-Score\",\"M2 Z-Score\",\"M2 Z-Score\",\"M2 Z-Score\",\"M2 Z-Score\",\"M2 Z-Score\",\"M2 Z-Score\",\"M2 Z-Score\",\"M2 Z-Score\",\"M2 Z-Score\",\"M2 Z-Score\",\"M2 Z-Score\",\"M2 Z-Score\",\"M2 Z-Score\",\"M2 Z-Score\",\"M2 Z-Score\",\"M2 Z-Score\",\"M2 Z-Score\",\"M2 Z-Score\",\"M2 Z-Score\",\"M2 Z-Score\",\"M2 Z-Score\",\"M2 Z-Score\",\"M2 Z-Score\",\"M2 Z-Score\",\"M2 Z-Score\",\"M2 Z-Score\",\"M2 Z-Score\",\"M2 Z-Score\",\"M2 Z-Score\",\"M2 Z-Score\",\"M2 Z-Score\",\"M2 Z-Score\",\"M2 Z-Score\",\"M2 Z-Score\",\"M2 Z-Score\",\"M2 Z-Score\",\"M2 Z-Score\",\"M2 Z-Score\",\"M2 Z-Score\",\"M2 Z-Score\",\"M2 Z-Score\",\"M2 Z-Score\",\"M2 Z-Score\",\"M2 Z-Score\",\"M2 Z-Score\",\"M2 Z-Score\",\"M2 Z-Score\",\"M2 Z-Score\",\"M2 Z-Score\",\"M2 Z-Score\",\"M2 Z-Score\",\"M2 Z-Score\",\"M2 Z-Score\",\"M2 Z-Score\",\"M2 Z-Score\",\"M2 Z-Score\",\"M2 Z-Score\",\"M2 Z-Score\",\"M2 Z-Score\",\"M2 Z-Score\",\"M2 Z-Score\",\"M2 Z-Score\",\"M2 Z-Score\",\"M2 Z-Score\",\"M2 Z-Score\",\"M2 Z-Score\",\"M2 Z-Score\",\"M2 Z-Score\",\"M2 Z-Score\",\"M2 Z-Score\",\"M2 Z-Score\",\"M2 Z-Score\",\"M2 Z-Score\",\"M2 Z-Score\",\"M2 Z-Score\",\"M2 Z-Score\",\"M2 Z-Score\",\"M2 Z-Score\",\"M2 Z-Score\",\"M2 Z-Score\",\"M2 Z-Score\",\"M2 Z-Score\",\"M2 Z-Score\",\"M2 Z-Score\",\"M2 Z-Score\",\"M2 Z-Score\",\"M2 Z-Score\",\"M2 Z-Score\",\"M2 Z-Score\",\"M2 Z-Score\",\"M2 Z-Score\",\"M2 Z-Score\",\"M2 Z-Score\",\"M2 Z-Score\",\"M2 Z-Score\",\"M2 Z-Score\",\"M2 Z-Score\",\"M2 Z-Score\",\"M2 Z-Score\",\"M2 Z-Score\",\"M2 Z-Score\",\"M2 Z-Score\",\"M2 Z-Score\",\"M2 Z-Score\",\"M2 Z-Score\",\"M2 Z-Score\",\"M2 Z-Score\",\"M2 Z-Score\",\"M2 Z-Score\",\"M2 Z-Score\",\"M2 Z-Score\",\"M2 Z-Score\",\"M2 Z-Score\",\"M2 Z-Score\",\"M2 Z-Score\",\"M2 Z-Score\",\"M2 Z-Score\",\"M2 Z-Score\",\"M2 Z-Score\",\"M2 Z-Score\",\"M2 Z-Score\",\"M2 Z-Score\",\"M2 Z-Score\",\"M2 Z-Score\",\"M2 Z-Score\",\"M2 Z-Score\",\"M2 Z-Score\",\"M2 Z-Score\",\"M2 Z-Score\",\"M2 Z-Score\",\"M2 Z-Score\",\"M2 Z-Score\",\"M2 Z-Score\",\"M2 Z-Score\",\"M2 Z-Score\",\"M2 Z-Score\",\"M2 Z-Score\",\"M2 Z-Score\",\"M2 Z-Score\",\"M2 Z-Score\",\"M2 Z-Score\",\"M2 Z-Score\",\"M2 Z-Score\",\"M2 Z-Score\",\"M2 Z-Score\",\"M2 Z-Score\",\"M2 Z-Score\",\"M2 Z-Score\",\"M2 Z-Score\",\"M2 Z-Score\",\"M2 Z-Score\",\"M2 Z-Score\",\"M2 Z-Score\",\"M2 Z-Score\",\"M2 Z-Score\",\"M2 Z-Score\",\"M2 Z-Score\",\"M2 Z-Score\",\"M2 Z-Score\",\"M2 Z-Score\",\"M2 Z-Score\",\"M2 Z-Score\",\"M2 Z-Score\",\"M2 Z-Score\",\"M2 Z-Score\",\"M2 Z-Score\",\"M2 Z-Score\",\"M2 Z-Score\",\"M2 Z-Score\",\"M2 Z-Score\",\"M2 Z-Score\",\"M2 Z-Score\",\"M2 Z-Score\",\"M2 Z-Score\",\"M2 Z-Score\",\"M2 Z-Score\",\"M2 Z-Score\",\"M2 Z-Score\",\"M2 Z-Score\",\"M2 Z-Score\",\"M2 Z-Score\",\"M2 Z-Score\",\"M2 Z-Score\",\"M2 Z-Score\",\"M2 Z-Score\",\"M2 Z-Score\",\"M2 Z-Score\",\"M2 Z-Score\",\"M2 Z-Score\",\"M2 Z-Score\",\"M2 Z-Score\",\"M2 Z-Score\",\"M2 Z-Score\",\"M2 Z-Score\",\"M2 Z-Score\",\"M2 Z-Score\",\"M2 Z-Score\",\"M2 Z-Score\",\"M2 Z-Score\",\"M2 Z-Score\",\"M2 Z-Score\",\"M2 Z-Score\",\"M2 Z-Score\",\"M2 Z-Score\",\"M2 Z-Score\",\"M2 Z-Score\",\"M2 Z-Score\",\"M2 Z-Score\",\"M2 Z-Score\",\"M2 Z-Score\",\"M2 Z-Score\",\"M2 Z-Score\",\"M2 Z-Score\",\"M2 Z-Score\",\"M2 Z-Score\",\"M2 Z-Score\",\"M2 Z-Score\",\"M2 Z-Score\",\"M2 Z-Score\",\"M2 Z-Score\",\"M2 Z-Score\",\"M2 Z-Score\",\"M2 Z-Score\",\"M2 Z-Score\",\"M2 Z-Score\",\"M2 Z-Score\",\"M2 Z-Score\",\"M2 Z-Score\",\"M2 Z-Score\",\"M2 Z-Score\",\"M2 Z-Score\",\"M2 Z-Score\",\"M2 Z-Score\",\"M2 Z-Score\",\"M2 Z-Score\",\"M2 Z-Score\",\"M2 Z-Score\",\"M2 Z-Score\",\"M2 Z-Score\",\"M2 Z-Score\",\"M2 Z-Score\",\"M2 Z-Score\",\"M2 Z-Score\",\"M2 Z-Score\",\"M2 Z-Score\",\"M2 Z-Score\",\"M2 Z-Score\",\"M2 Z-Score\",\"M2 Z-Score\",\"M2 Z-Score\",\"M2 Z-Score\",\"M2 Z-Score\",\"M2 Z-Score\",\"M2 Z-Score\",\"M2 Z-Score\",\"M2 Z-Score\",\"M2 Z-Score\",\"M2 Z-Score\",\"M2 Z-Score\",\"M2 Z-Score\",\"M2 Z-Score\",\"M2 Z-Score\",\"M2 Z-Score\",\"M2 Z-Score\",\"M2 Z-Score\",\"M2 Z-Score\",\"M2 Z-Score\",\"M2 Z-Score\",\"M2 Z-Score\",\"M2 Z-Score\",\"M2 Z-Score\",\"M2 Z-Score\",\"M2 Z-Score\",\"M2 Z-Score\",\"M2 Z-Score\",\"M2 Z-Score\",\"M2 Z-Score\",\"M2 Z-Score\",\"M2 Z-Score\",\"M2 Z-Score\",\"M2 Z-Score\",\"M2 Z-Score\",\"M2 Z-Score\",\"M2 Z-Score\",\"M2 Z-Score\",\"M2 Z-Score\",\"M2 Z-Score\",\"M2 Z-Score\",\"M2 Z-Score\",\"M2 Z-Score\",\"M2 Z-Score\",\"M2 Z-Score\",\"M2 Z-Score\",\"M2 Z-Score\",\"M2 Z-Score\",\"M2 Z-Score\",\"M2 Z-Score\",\"M2 Z-Score\",\"M2 Z-Score\",\"M2 Z-Score\",\"M2 Z-Score\",\"M2 Z-Score\",\"M2 Z-Score\",\"M2 Z-Score\",\"M2 Z-Score\",\"M2 Z-Score\",\"M2 Z-Score\",\"M2 Z-Score\",\"M2 Z-Score\",\"M2 Z-Score\",\"M2 Z-Score\",\"M2 Z-Score\",\"M2 Z-Score\",\"M2 Z-Score\",\"M2 Z-Score\",\"M2 Z-Score\",\"M2 Z-Score\",\"M2 Z-Score\",\"M2 Z-Score\",\"M2 Z-Score\",\"M2 Z-Score\",\"M2 Z-Score\",\"M2 Z-Score\",\"M2 Z-Score\",\"M2 Z-Score\",\"M2 Z-Score\",\"M2 Z-Score\",\"M2 Z-Score\",\"M2 Z-Score\",\"M2 Z-Score\",\"M2 Z-Score\",\"M2 Z-Score\",\"M2 Z-Score\",\"M2 Z-Score\",\"M2 Z-Score\",\"M2 Z-Score\",\"M2 Z-Score\",\"M2 Z-Score\",\"M2 Z-Score\",\"M2 Z-Score\",\"M2 Z-Score\",\"M2 Z-Score\",\"M2 Z-Score\",\"M2 Z-Score\",\"M2 Z-Score\",\"M2 Z-Score\",\"M2 Z-Score\",\"M2 Z-Score\",\"M2 Z-Score\",\"M2 Z-Score\",\"M2 Z-Score\",\"M2 Z-Score\",\"M2 Z-Score\",\"M2 Z-Score\",\"M2 Z-Score\",\"M2 Z-Score\",\"M2 Z-Score\",\"M2 Z-Score\",\"M2 Z-Score\",\"M2 Z-Score\",\"M2 Z-Score\",\"M2 Z-Score\",\"M2 Z-Score\",\"M2 Z-Score\",\"M2 Z-Score\",\"M2 Z-Score\",\"M2 Z-Score\",\"M2 Z-Score\",\"M2 Z-Score\",\"M2 Z-Score\",\"M2 Z-Score\",\"M2 Z-Score\",\"M2 Z-Score\",\"M2 Z-Score\",\"M2 Z-Score\",\"M2 Z-Score\",\"M2 Z-Score\",\"M2 Z-Score\",\"M2 Z-Score\",\"M2 Z-Score\",\"M2 Z-Score\",\"M2 Z-Score\",\"M2 Z-Score\",\"M2 Z-Score\",\"M2 Z-Score\",\"M2 Z-Score\",\"M2 Z-Score\",\"M2 Z-Score\",\"M2 Z-Score\",\"M2 Z-Score\",\"M2 Z-Score\",\"M2 Z-Score\",\"M2 Z-Score\",\"M2 Z-Score\",\"M2 Z-Score\",\"M2 Z-Score\",\"M2 Z-Score\",\"M2 Z-Score\",\"M2 Z-Score\",\"M2 Z-Score\",\"M2 Z-Score\",\"M2 Z-Score\",\"M2 Z-Score\",\"M2 Z-Score\",\"M2 Z-Score\",\"M2 Z-Score\",\"M2 Z-Score\",\"M2 Z-Score\",\"M2 Z-Score\",\"M2 Z-Score\"],\"index\":{\"__ndarray__\":\"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\",\"dtype\":\"float64\",\"order\":\"little\",\"shape\":[498]},\"value\":{\"__ndarray__\":\"AAAAAAAA+H8AAAAAAAD4fwAAAAAAAPh/AAAAAAAA+H8AAAAAAAD4fwAAAAAAAPh/AAAAAAAA+H8AAAAAAAD4fwAAAAAAAPh/AAAAAAAA+H8AAAAAAAD4fwAAAAAAAPh/AAAAAAAA+H8AAAAAAAD4fwAAAAAAAPh/AAAAAAAA+H8AAAAAAAD4fwAAAAAAAPh/AAAAAAAA+H8AAAAAAAD4fwAAAAAAAPh/AAAAAAAA+H8AAAAAAAD4fwAAAAAAAPh/AAAAAAAA+H8AAAAAAAD4fwAAAAAAAPh/AAAAAAAA+H8AAAAAAAD4fwAAAAAAAPh/AAAAAAAA+H8AAAAAAAD4fwAAAAAAAPh/AAAAAAAA+H8AAAAAAAD4f6MHqHjW3Ps/lpKBOBYLAECNQc0gXOQAQKY0pYXUnABAAn0Hu+ciAEASuvCNkon/P4djPyEEdf4/aVw1WfSO/T9lt/vdy4r8P4Go3zQkovs/BhJ52rVu+z/M8tybV/v6P/bhDaHqb/o/2SpGytpG+j+1YKp/OZj6P7x9/iHklfo/vlLm0z17+j/Cjkt79Q76P9eSE5UIlvk/Guoayezy+D++4iL8B0H4PyB/VUZ1QPg/OVFU0klM+D9BaVwXLwv5P0QDH4lT6vk/CLzp7a7F+j8+GWawCjb7P86PDc3szfo/E3AmxMwv+j/PsWNjYRL6PyzBPw6vxPo/BNZz8ybv+j8H/qrJf+n6P3IF1cjvwPo/FWSiP4qa+j+ffinedl36P/1vHjPJkPo/Uq6xDVop+j9gbC8b38L5P3qvjbDVO/o/H2F8y3AM+z+Yu5aM2fH7P5kmoa1eH/w/6jRx5spi/D+qBdJjJXj8Px4qdKK4qfw/ZmKAMrqo/D8tQtRMzSv8P51VT+ujyvw/JXsvDa5v/D/owXO2Dxj7P2ROMVojGfo/J5jD9bHU+T/z5T5fW+L4P42UfsfLwfc/xzF+H2n79j9GZT+NFbn2P7xu76EXs/Y/k5Y8dRwS9z+NcQKdvW32P6+iQtuvH/Y/5dN+4D0R9z/iBt9nix/4P2ZS3Yza3/g/p8bUKMuU+T8NZ2cyGdD5P3ajOriFufk//c06TphO+T8rsXJpPo/4P2Dt6rhQ6fc/VFCnuK6y9z+oSLFNhTf4P4++bNVLC/g/o/HjVgV99z9TnPZjyLf2P7I2A5/ay/Y/Iq6hFA289j/jXS4eoZD2PxMMGmkzuvc/yLGCTGnT+T9qRpEazWr7P5wFxt21Tfw/+D6A+ulu/T9Wu6xrvxP+P036sGzmdf4/uZ7D6+Mh/j+NucguxKL9P1/h/CHaCP0/PpBLblWH/D8Rk2uNzrz6PxuWat0LvPo/LRuy61aF+j/LJ7TCxhP7P9eJmvvDC/s/3xkxVLoj+j+Eg/qDZjn5P4lLBVaZGPk/rDhCGiaz+T/5l8/fAEr6P78YGpqc0/o/Sxmw/dV6+j9CNmpJayX6P2AacQZ/pPk/US00jhau+D/7R61EiUD3P9TgOFi6FPY/trWNRxyd9T8ltsmITTP1P6l7tRDs/vQ/1jZHMCgj9T/0GuF6z432P0iWt6vOJvY/Dtw38unS9D8oA6hXSgv0P6QpH7pNu/I/spLAo6Q98j/qO3If1nHyP7ptWlQWx/M/3m3Y4Klz9T+2cQOGsDP1PwFjks+ZG/Q/jDG7sblN8j8IYi3gPbTwP2pslIVR9u4/lFK2lI+Q7T9VmaZ/2kP0P57bfknsEvU/sTJf97B59D/ZvcWnWuj0P0aAZ02RIPY/T3tyKz7s9j+ftWvZrKH6P/njRalKmfs/uhms+Gkb+z8rGaWA0Y36P4nQkM3jAvs/xEXkCZQ1+j/EvabMFD/8P4H4hncdr/Y/1WaHL1q6+D+zieHHbKr2Pzu81Wxi5vU/JblBEpRU9D8i1RUMjbP0P518RN68iPM/8WdhSGk39T9q7ZWVfQbzP90P9Z/AifI/mqbMc/YZ9T8/E7TXdG7+P/H7GoUDBANAw+o0Voe6BEAzDCHRPygGQIHK3Tt7mQVAdL79geuvBEDg/foWW1QDQC1iF5NTmwJArdp0yrDyAkBUaYJL1rACQOqelQ6JewNA1NU2wxG4AkALXmkkYgUCQI4KEJvjfAFApSJngUgnAUB1JJeCtkIAQIPtwzR9V/8/sfAkMDCp/z8Wt/9fjREAQEyT84lXRABAZfQKi3Pd/z8cnUmgIcP+P0JWDTtaI/4/E467mBSv/T+OsnCgy9b8P7fMlMpQmfw/+3s8e5Ry/D8AMU9n+sb9P/3jCJ6+Of0/81QxcBwV/T8Wxvwerzr9P9SL//+5/Pw/fQJD2602/T+GwAT3Vjn+P9D3z2kZhP4/2TYKBOzN/j9cpOxYd9H+P17hG+iMZP4/Qf0X/bj3/T9SXWITU+j9PyEYHQhL0P4/9Nudq9aX/z9ZRt2j1QkAQCOI0X2QyP8/DF46keVc/z/GMh4v66n+Pz5FPiIkBP0/8w7DPp7r/D8OawDwdZH8P0PZNDlJFPw/4aMxbvP0+z837n2VO0b7P8ER4z8tnvo/m6xF73t3+j8qdkUuuQv6P6K9ah1DIPo/fowbQck7+j9mWDiijoT5P7x3t44M2vk/PlM2NlWH+z+vMKsm9Vn5P64irsvNC/k/bsQqVZXI+D87gH1u+hv5P24raLg12/k/pU1DT7x1+T++2UB8j9b4PwHlLuujNPo/73XpWSXK+z9Ln4XmA3z8P+RuXP13Iv4/Ih/jbgXT/z+ynSPSF7n9P+fnQwYfKv4/BTl++acB/j+GzX5Y7gv+P25DfZcP5ABAW+Kg+2Lg/j+c4bMou/H+P5tGZEM1Wv8/X8F+eoMm/j8eMl86nnz9P5X7N1B5KPw/1pPQlHt3+j9JSN7VdhX6P7tqdoqcsPk/iOYe3AQU+j8F5hyUeGn6P2Tr/m739Pk/34Z6A0dk+j9jKG9DNQH7P6bC+mi+Wvo/C5vTroE5+j+M0TVKREj6P27xeTL/s/k/ecwsg5HL+T9fschgh9/6PyfIjcqP6fo/UgD5sZZf+z9s9VtxRjz8P/Q2o0Rhmvk/GdGFY78C+D+pxpLUPzL3P48GEpSUJPY/FkCyrEWX9T+Qgm48UnP2P03dgylkHPc/PQ843r3u9z//EN5yHG76P5ualhp3Tvk/8IF2w57V+D9M1/F6ggP5P7ZaXL5UZfk/pSM/wKeK+T+PXS7Uj5H5P9YTtlofJ/k/KGcmubYz+D/2wI25c3H3Px7dyKHh0vY/wQhnSAWc9j/ft1v0i6D2P39g9Z77g/c/9QLkoL1T+D+V9Negsyb5PyjMPZhrD/o/H12Puhve+j+sp6GSoYn6P+vf4vrp3fo/1keQkNEO/D8diXfHFg78P/TOG3wLg/s/20d01vFN/D+U6qSo5x37PxfQuJLizPs/lqV/S1p5/D9WVWYZe1T8P5apFtdQFvw/Uo/8UvoY/T9QXbGce0D9P/mSFHOq4P0/nK/kSlkx/j9sFg6owkv9P6ntfxzRXP0/rnovgaw8/z8q0XG7Ncr9P4wxFMzbfP0/TriYkUkU/T++yRDDp8T+P5lq+GH9iP0/hOrcIBM7/D+kuyy37o77P5TNUsbELfs/2Jj68ZcC+z9l7KFfwfr8P7vlOqzj5P0/VZi+zFvC/T9NWB40rXD8PzE9pyBcevs/cQZThVO8+z9kU9eiwbv6P97/Y2TF7Ps/NZpU1HtR/j+wu+xJm0D+P1ggQszSNwFA8uz5srZBAUBx3z+bO20AQI23zzYsSgBAqgqmFQNm/j8yXOfu8S7+P+Ozc8jvivw/ClMEItT0+j/wP9vwpmX5P8oYdMu0/vc/4tKG2WSJ9z+aCEThBjn3P5t+hcxc3vU/rbMS+4ya8z+FJ2JB0j70P9h/DFjwM/M/x6JxS6hJ8z/fT8SGnTj0PxZxBTJ68vM/V6l0FBlo8z9UmIn9Tkv0Px1j6fnZhPQ/48QVQCV59T/+AjkE42r1P+4tD60b3vU/qgcS8Uf59T/JohUS3cn3P1f7g9CiM/k/egIS5B7F+j+eWEDfgbr8P7sG4bY83f4/5NQ6XyktAkBe+4kFCNgEQGY4i4yZqwNAttocAR7DAkA0k173iD8CQEXFtZrkhwFAYfNKTe1CAUCt/JnDOr0AQI9UBc70FwBAmXAwf1g4/z+moNqjDxn+PyYI9wUknf0/zvDBbSL//D8QOGja8oL8P7cPt0C2g/w/JnCGyXMf/D8poJc8Br/7P+Ny97zD8fw/q8Wl9Q2m+z+8TPnnfzP6P70qo8ykI/o/fPd5BJRl+T/d6fFCgdb4P4c8IsAKovg/kM0Zf2Jb+D8ieyDWsUr4P5Y0WjBsNPg/BRFZRAh9+T/caqES4ln4P9VtNPPTtPg/cuA/gKnl+D+/aO2BS+/5P4EMME8Psvk/2ahVDbXZ+T+X1EhZ4136P51Ejh8If/o/FJrbuUuh+j9qrAlbuuX5P+3soD3yY/k/8b1//eam+T/DmwzonUb5P9qh8SX7BPo/WGl7QNRx+j+Ei6ubRDr8P/Au0f0iIPs/stNjmfyy+j8Sn9g7nR76PxP8TtI39vk/JJgUnPfv+T/7M2HGAuj5P+goo/2z/fk/Le7TaMuo+T8UE3pkS4f6P6WjBR+6qvo/J1R1Wd57/D+PQHcw6t78P2utmarbwvw/ooH3wGwN/T+b4BaL5/v8P6Y//fXJ6fw/Dup+NSWm/D95OK5xPOH8P0MmsxwInPw/qNB+1YCT/D/3w4+7W6D8P4co0IN04Ps/FEBrMh74+z9ux5HteOP7P78UeiOHyfs/HL2C3D1x+z9h6Oi0aPX6PwxAEJYOB/o/zTn1/zXQ+T8bRtDfL3v5P4Au3EKNDfk/3bhxnTrp+D8tsCtgHWv4P+DAfXiDWvg/aG4ZKcCH9z+X538BWkX3P/zHyn5bYvc/Hw2giqnx9j/GcFRzd173P39yHoSxr/c/awilc8RR9z9RfCuGRVf3P03GxOJjIfc/x/qeurhv9j+OhBzAZxX2P/ttOXCYcfg/oX7D/pZN+T8kFa5GxmT5P0SsefexnPk/cv0us3yC+T8ARcVhEzT7P4nTgZblPf0//L3Xvke6/T+nrCIT/z7+PzHKUGa6C/8/kjR30alGAED9EqF9h3kAQLgqZwO1UwBAPTwf5EU4AECYUnZ1FL7/P5SFluhrnQRAcBfcJM8VC0BBCS1ucUkMQObA/gBUWAlA6bfxUbmUBkC81fcsfTgEQPimj7OYKQNAmMiWxFj0AUCFfRNkITkBQO5STbkwcQBAh00YUQEhAEDSQ4pdOLP/P7qIaBQU+/4/aAfhXnEN/j+OXRhTNYX9P4JcuV8fifs/\",\"dtype\":\"float64\",\"order\":\"little\",\"shape\":[498]}},\"selected\":{\"id\":\"8253\"},\"selection_policy\":{\"id\":\"8279\"}},\"id\":\"8252\",\"type\":\"ColumnDataSource\"},{\"attributes\":{},\"id\":\"8552\",\"type\":\"Selection\"},{\"attributes\":{\"data_source\":{\"id\":\"8285\"},\"glyph\":{\"id\":\"8288\"},\"hover_glyph\":null,\"muted_glyph\":{\"id\":\"8290\"},\"nonselection_glyph\":{\"id\":\"8289\"},\"selection_glyph\":{\"id\":\"8318\"},\"view\":{\"id\":\"8292\"}},\"id\":\"8291\",\"type\":\"GlyphRenderer\"},{\"attributes\":{},\"id\":\"8612\",\"type\":\"UnionRenderers\"},{\"attributes\":{\"text_align\":{\"value\":\"right\"},\"text_baseline\":{\"value\":\"middle\"},\"text_color\":{\"value\":\"black\"},\"text_font_size\":{\"value\":\"12Pt\"},\"x\":{\"field\":\"x\"},\"y\":{\"field\":\"y\"}},\"id\":\"8543\",\"type\":\"Text\"},{\"attributes\":{\"line_alpha\":0.1,\"line_color\":\"#e5ae38\",\"line_width\":2,\"x\":{\"field\":\"index\"},\"y\":{\"field\":\"value\"}},\"id\":\"8323\",\"type\":\"Line\"},{\"attributes\":{\"line_alpha\":0.2,\"line_color\":\"#e5ae38\",\"line_width\":2,\"x\":{\"field\":\"index\"},\"y\":{\"field\":\"value\"}},\"id\":\"8324\",\"type\":\"Line\"},{\"attributes\":{},\"id\":\"8610\",\"type\":\"UnionRenderers\"},{\"attributes\":{\"label\":{\"value\":\"M2 Z-Score\"},\"renderers\":[{\"id\":\"8258\"}]},\"id\":\"8283\",\"type\":\"LegendItem\"},{\"attributes\":{\"line_color\":\"#30a2da\",\"line_width\":2,\"x\":{\"field\":\"index\"},\"y\":{\"field\":\"value\"}},\"id\":\"8255\",\"type\":\"Line\"},{\"attributes\":{\"data_source\":{\"id\":\"8319\"},\"glyph\":{\"id\":\"8322\"},\"hover_glyph\":null,\"muted_glyph\":{\"id\":\"8324\"},\"nonselection_glyph\":{\"id\":\"8323\"},\"selection_glyph\":{\"id\":\"8354\"},\"view\":{\"id\":\"8326\"}},\"id\":\"8325\",\"type\":\"GlyphRenderer\"},{\"attributes\":{\"callback\":null,\"formatters\":{\"@{index}\":\"datetime\"},\"renderers\":[{\"id\":\"8258\"},{\"id\":\"8291\"},{\"id\":\"8325\"}],\"tags\":[\"hv_created\"],\"tooltips\":[[\"Variable\",\"@{Variable}\"],[\"index\",\"@{index}{%F %T}\"],[\"value\",\"@{value}\"]]},\"id\":\"8213\",\"type\":\"HoverTool\"},{\"attributes\":{\"data_source\":{\"id\":\"8252\"},\"glyph\":{\"id\":\"8255\"},\"hover_glyph\":null,\"muted_glyph\":{\"id\":\"8257\"},\"nonselection_glyph\":{\"id\":\"8256\"},\"selection_glyph\":{\"id\":\"8284\"},\"view\":{\"id\":\"8259\"}},\"id\":\"8258\",\"type\":\"GlyphRenderer\"},{\"attributes\":{\"months\":[0,6]},\"id\":\"8277\",\"type\":\"MonthsTicker\"},{\"attributes\":{\"fill_alpha\":0.5,\"fill_color\":\"gray\",\"left\":1577836800000.0,\"level\":\"glyph\",\"line_alpha\":0.5,\"line_color\":\"gray\",\"right\":1625097600000.0},\"id\":\"8539\",\"type\":\"BoxAnnotation\"},{\"attributes\":{\"line_color\":\"#fc4f30\",\"line_width\":2,\"x\":{\"field\":\"index\"},\"y\":{\"field\":\"value\"}},\"id\":\"8288\",\"type\":\"Line\"},{\"attributes\":{\"margin\":[5,5,5,5],\"name\":\"HSpacer11685\",\"sizing_mode\":\"stretch_width\"},\"id\":\"8887\",\"type\":\"Spacer\"},{\"attributes\":{\"fill_alpha\":0.5,\"fill_color\":\"gray\",\"left\":362793600000.0,\"level\":\"glyph\",\"line_alpha\":0.5,\"line_color\":\"gray\",\"right\":404956800000.0},\"id\":\"8572\",\"type\":\"BoxAnnotation\"},{\"attributes\":{\"axis\":{\"id\":\"8229\"},\"dimension\":1,\"grid_line_color\":null,\"ticker\":null},\"id\":\"8232\",\"type\":\"Grid\"},{\"attributes\":{\"line_color\":\"#e5ae38\",\"line_width\":2,\"x\":{\"field\":\"index\"},\"y\":{\"field\":\"value\"}},\"id\":\"8322\",\"type\":\"Line\"},{\"attributes\":{},\"id\":\"8574\",\"type\":\"Selection\"},{\"attributes\":{\"children\":[{\"id\":\"8210\"},{\"id\":\"8216\"},{\"id\":\"8887\"}],\"margin\":[0,0,0,0],\"name\":\"Row11680\",\"tags\":[\"embedded\"]},\"id\":\"8209\",\"type\":\"Row\"},{\"attributes\":{\"label\":{\"value\":\"GDP Z-Score\"},\"renderers\":[{\"id\":\"8325\"}]},\"id\":\"8353\",\"type\":\"LegendItem\"},{\"attributes\":{\"months\":[0,4,8]},\"id\":\"8276\",\"type\":\"MonthsTicker\"}],\"root_ids\":[\"8209\"]},\"title\":\"Bokeh Application\",\"version\":\"2.3.2\"}};\n",
       "    var render_items = [{\"docid\":\"a9a9c758-5a6d-4beb-935a-744878a64c65\",\"root_ids\":[\"8209\"],\"roots\":{\"8209\":\"869e00a2-6cfb-44f1-aaf2-71b141a63a02\"}}];\n",
       "    root.Bokeh.embed.embed_items_notebook(docs_json, render_items);\n",
       "  }\n",
       "  if (root.Bokeh !== undefined && root.Bokeh.Panel !== undefined && root['Plotly'] !== undefined ) {\n",
       "    embed_document(root);\n",
       "  } else {\n",
       "    var attempts = 0;\n",
       "    var timer = setInterval(function(root) {\n",
       "      if (root.Bokeh !== undefined && root.Bokeh.Panel !== undefined && root['Plotly'] !== undefined) {\n",
       "        clearInterval(timer);\n",
       "        embed_document(root);\n",
       "      } else if (document.readyState == \"complete\") {\n",
       "        attempts++;\n",
       "        if (attempts > 100) {\n",
       "          clearInterval(timer);\n",
       "          console.log(\"Bokeh: ERROR: Unable to run BokehJS code because BokehJS library is missing\");\n",
       "        }\n",
       "      }\n",
       "    }, 10, root)\n",
       "  }\n",
       "})(window);</script>"
      ],
      "text/plain": [
       ":Overlay\n",
       "   .NdOverlay.I :NdOverlay   [Variable]\n",
       "      :Curve   [index]   (value)\n",
       "   .VSpan.I     :VSpan   [x,y]\n",
       "   .Text.I      :Text   [x,y]\n",
       "   .VSpan.II    :VSpan   [x,y]\n",
       "   .Text.II     :Text   [x,y]\n",
       "   .VLine.I     :VLine   [x,y]\n",
       "   .Text.III    :Text   [x,y]\n",
       "   .VSpan.III   :VSpan   [x,y]\n",
       "   .Text.IV     :Text   [x,y]"
      ]
     },
     "execution_count": 96,
     "metadata": {
      "application/vnd.holoviews_exec.v0+json": {
       "id": "8209"
      }
     },
     "output_type": "execute_result"
    }
   ],
   "source": [
    "rolling_zScore_plot = rolling_zScore.hvplot(width=1000, height=500, title=\"Rolling 3 Year Z-Score\") * pandemic_startLine * hv.Text(datetime.datetime(2020, 1, 1), 4, \"Global Pandemic\", halign='right') * \\\n",
    "financialCrisis_startLine * hv.Text(datetime.datetime(2007, 6, 1), 3, \"Financial Crisis\", halign='center') * \\\n",
    "september11_startLine * hv.Text(datetime.datetime(2001, 9, 11), 0, \"Sept. 11 \", halign='right') * \\\n",
    "financial_crisis_1980 * hv.Text(datetime.datetime(1981, 7, 1), -1, \" 1980s Financial Crisis\",halign='left')\n",
    "rolling_zScore_plot"
   ]
  },
  {
   "cell_type": "code",
   "execution_count": null,
   "id": "1fc59ac9-a34e-4a3f-8810-0c4c7a53e7cd",
   "metadata": {},
   "outputs": [],
   "source": []
  },
  {
   "cell_type": "code",
   "execution_count": null,
   "id": "7f1fcf16-4cb9-4831-a37a-acffcfff8af6",
   "metadata": {},
   "outputs": [],
   "source": []
  },
  {
   "cell_type": "code",
   "execution_count": null,
   "id": "a536b874-a7ca-44b0-b0c0-1681add0253f",
   "metadata": {},
   "outputs": [],
   "source": []
  },
  {
   "cell_type": "markdown",
   "id": "81defde1-5f61-4e4e-90fd-2b16f09ff325",
   "metadata": {},
   "source": [
    "<hr>"
   ]
  },
  {
   "cell_type": "markdown",
   "id": "ce6a4d01-ad7d-429f-aec8-f0d09d03e454",
   "metadata": {},
   "source": [
    "## Make focused Line PLot for each event: Add Markers.\n",
    "- Pandemic: Jan. 1 2020 - 7.31.2021\n",
    "- Financial Crisis: June 2007 - Dec. 31, 2009\n",
    "- September 11: September 11, 2001"
   ]
  },
  {
   "cell_type": "markdown",
   "id": "b278fdd1-a0e3-4ac8-ae3b-f8379d042c36",
   "metadata": {},
   "source": [
    "all_current_data['M2'].hvplot()*all_current_data['Personal Income'].hvplot() * all_current_data['Real GDP'].hvplot()"
   ]
  },
  {
   "cell_type": "markdown",
   "id": "5781b476-0a1e-4be8-90bf-1962467f1fad",
   "metadata": {},
   "source": [
    "labeled_all_data = all_current_data.hvplot(width=1000, height=500) * pandemic_startLine * hv.Text(datetime.datetime(2020, 1, 1), 21000, \"Global Pandemic\", halign='right') * \\\n",
    "financialCrisis_startLine * hv.Text(datetime.datetime(2007, 6, 1), 19500, \"Financial Crisis\", halign='center') * \\\n",
    "september11_startLine * hv.Text(datetime.datetime(2001, 9, 11), 18000, \"Sept. 11 \", halign='right') * \\\n",
    "financial_crisis_1980 * hv.Text(datetime.datetime(1981, 7, 1), 14000, \" 1980s Financial Crisis\",halign='left')\n",
    "labeled_all_data"
   ]
  },
  {
   "cell_type": "code",
   "execution_count": null,
   "id": "57c343e5-4b77-4ec9-9ea2-e430b6ae5a3b",
   "metadata": {},
   "outputs": [],
   "source": []
  },
  {
   "cell_type": "code",
   "execution_count": null,
   "id": "0ee4e4e1-507d-4086-acab-b06a9168b883",
   "metadata": {},
   "outputs": [],
   "source": []
  },
  {
   "cell_type": "markdown",
   "id": "e9bd67dd-93d6-4e09-a28f-bb701c673262",
   "metadata": {},
   "source": [
    "# Analyzing the Year of Sept. 11:"
   ]
  },
  {
   "cell_type": "code",
   "execution_count": 37,
   "id": "d98ef922-0f7d-4c8b-9da3-2ee8072c68ca",
   "metadata": {},
   "outputs": [
    {
     "data": {
      "text/html": [
       "<div>\n",
       "<style scoped>\n",
       "    .dataframe tbody tr th:only-of-type {\n",
       "        vertical-align: middle;\n",
       "    }\n",
       "\n",
       "    .dataframe tbody tr th {\n",
       "        vertical-align: top;\n",
       "    }\n",
       "\n",
       "    .dataframe thead th {\n",
       "        text-align: right;\n",
       "    }\n",
       "</style>\n",
       "<table border=\"1\" class=\"dataframe\">\n",
       "  <thead>\n",
       "    <tr style=\"text-align: right;\">\n",
       "      <th></th>\n",
       "      <th>M2</th>\n",
       "      <th>Personal Income</th>\n",
       "      <th>Real GDP</th>\n",
       "    </tr>\n",
       "  </thead>\n",
       "  <tbody>\n",
       "    <tr>\n",
       "      <th>2001-01-01</th>\n",
       "      <td>4975.8</td>\n",
       "      <td>11323.538</td>\n",
       "      <td>13219.251</td>\n",
       "    </tr>\n",
       "    <tr>\n",
       "      <th>2001-02-01</th>\n",
       "      <td>5014.1</td>\n",
       "      <td>11350.432</td>\n",
       "      <td>13219.251</td>\n",
       "    </tr>\n",
       "    <tr>\n",
       "      <th>2001-03-01</th>\n",
       "      <td>5071.9</td>\n",
       "      <td>11387.620</td>\n",
       "      <td>13219.251</td>\n",
       "    </tr>\n",
       "    <tr>\n",
       "      <th>2001-04-01</th>\n",
       "      <td>5135.9</td>\n",
       "      <td>11358.418</td>\n",
       "      <td>13301.394</td>\n",
       "    </tr>\n",
       "    <tr>\n",
       "      <th>2001-05-01</th>\n",
       "      <td>5132.9</td>\n",
       "      <td>11324.681</td>\n",
       "      <td>13301.394</td>\n",
       "    </tr>\n",
       "  </tbody>\n",
       "</table>\n",
       "</div>"
      ],
      "text/plain": [
       "                M2  Personal Income   Real GDP\n",
       "2001-01-01  4975.8        11323.538  13219.251\n",
       "2001-02-01  5014.1        11350.432  13219.251\n",
       "2001-03-01  5071.9        11387.620  13219.251\n",
       "2001-04-01  5135.9        11358.418  13301.394\n",
       "2001-05-01  5132.9        11324.681  13301.394"
      ]
     },
     "execution_count": 37,
     "metadata": {},
     "output_type": "execute_result"
    }
   ],
   "source": [
    "# Get relavent data set:\n",
    "sept11_data = all_data['2001-01-01':'2001-12-31']\n",
    "sept11_data.head()"
   ]
  },
  {
   "cell_type": "markdown",
   "id": "512ba236-e77d-4a42-933e-9efcef9fe2d4",
   "metadata": {},
   "source": [
    "### Show Correlation for Time Period:"
   ]
  },
  {
   "cell_type": "code",
   "execution_count": 38,
   "id": "7b7994e0-4f10-4d08-a517-6b97a02df233",
   "metadata": {},
   "outputs": [
    {
     "data": {
      "text/html": [
       "<div>\n",
       "<style scoped>\n",
       "    .dataframe tbody tr th:only-of-type {\n",
       "        vertical-align: middle;\n",
       "    }\n",
       "\n",
       "    .dataframe tbody tr th {\n",
       "        vertical-align: top;\n",
       "    }\n",
       "\n",
       "    .dataframe thead th {\n",
       "        text-align: right;\n",
       "    }\n",
       "</style>\n",
       "<table border=\"1\" class=\"dataframe\">\n",
       "  <thead>\n",
       "    <tr style=\"text-align: right;\">\n",
       "      <th></th>\n",
       "      <th>M2</th>\n",
       "      <th>Personal Income</th>\n",
       "      <th>Real GDP</th>\n",
       "    </tr>\n",
       "  </thead>\n",
       "  <tbody>\n",
       "    <tr>\n",
       "      <th>M2</th>\n",
       "      <td>1.000000</td>\n",
       "      <td>-0.757493</td>\n",
       "      <td>0.492875</td>\n",
       "    </tr>\n",
       "    <tr>\n",
       "      <th>Personal Income</th>\n",
       "      <td>-0.757493</td>\n",
       "      <td>1.000000</td>\n",
       "      <td>-0.370786</td>\n",
       "    </tr>\n",
       "    <tr>\n",
       "      <th>Real GDP</th>\n",
       "      <td>0.492875</td>\n",
       "      <td>-0.370786</td>\n",
       "      <td>1.000000</td>\n",
       "    </tr>\n",
       "  </tbody>\n",
       "</table>\n",
       "</div>"
      ],
      "text/plain": [
       "                       M2  Personal Income  Real GDP\n",
       "M2               1.000000        -0.757493  0.492875\n",
       "Personal Income -0.757493         1.000000 -0.370786\n",
       "Real GDP         0.492875        -0.370786  1.000000"
      ]
     },
     "execution_count": 38,
     "metadata": {},
     "output_type": "execute_result"
    }
   ],
   "source": [
    "# Find Correlation\n",
    "sept11_corr_chart = sept11_data.corr()\n",
    "sept11_corr_chart"
   ]
  },
  {
   "cell_type": "code",
   "execution_count": 39,
   "id": "442db67a-d6a7-43ed-924e-75334264cf15",
   "metadata": {},
   "outputs": [
    {
     "data": {
      "text/plain": [
       "[]"
      ]
     },
     "execution_count": 39,
     "metadata": {},
     "output_type": "execute_result"
    },
    {
     "data": {
      "image/png": "[encoded data removed]",
      "text/plain": [
       "<Figure size 432x288 with 2 Axes>"
      ]
     },
     "metadata": {
      "needs_background": "light"
     },
     "output_type": "display_data"
    }
   ],
   "source": [
    "# Display the correlation matrix\n",
    "sept11_corr_chart = sns.heatmap(sept11_corr_chart, annot=True, vmin=-1, vmax=1)\n",
    "sept11_corr_chart.set_title(\"Year of Sept. 11, Correlation\")\n",
    "sept11_corr_chart.plot()"
   ]
  },
  {
   "cell_type": "markdown",
   "id": "4f9fb4bd-c60b-4d9c-a48b-28abe50555ed",
   "metadata": {},
   "source": [
    "### Show Line Plot for Time Period:"
   ]
  },
  {
   "cell_type": "code",
   "execution_count": 40,
   "id": "e64baed1-361a-4ce7-ae33-b0e8f6a0bdf9",
   "metadata": {},
   "outputs": [
    {
     "data": {},
     "metadata": {},
     "output_type": "display_data"
    },
    {
     "data": {
      "application/vnd.holoviews_exec.v0+json": "",
      "text/html": [
       "<div id='2702'>\n",
       "\n",
       "\n",
       "\n",
       "\n",
       "\n",
       "  <div class=\"bk-root\" id=\"e29d607c-8092-4071-a6be-34173f0db8bd\" data-root-id=\"2702\"></div>\n",
       "</div>\n",
       "<script type=\"application/javascript\">(function(root) {\n",
       "  function embed_document(root) {\n",
       "    var docs_json = {\"e2e4bad9-57ff-4d2e-b020-1566952f5b19\":{\"defs\":[],\"roots\":{\"references\":[{\"attributes\":{\"months\":[0,2,4,6,8,10]},\"id\":\"2768\",\"type\":\"MonthsTicker\"},{\"attributes\":{\"data_source\":{\"id\":\"2778\"},\"glyph\":{\"id\":\"2781\"},\"hover_glyph\":null,\"muted_glyph\":{\"id\":\"2783\"},\"nonselection_glyph\":{\"id\":\"2782\"},\"selection_glyph\":{\"id\":\"2811\"},\"view\":{\"id\":\"2785\"}},\"id\":\"2784\",\"type\":\"GlyphRenderer\"},{\"attributes\":{\"active_multi\":null,\"tools\":[{\"id\":\"2706\"},{\"id\":\"2726\"},{\"id\":\"2727\"},{\"id\":\"2728\"},{\"id\":\"2729\"},{\"id\":\"2730\"}]},\"id\":\"2732\",\"type\":\"Toolbar\"},{\"attributes\":{\"angle\":{\"value\":0.0},\"text\":{\"field\":\"text\"},\"text_align\":{\"value\":\"right\"},\"text_alpha\":{\"value\":1.0},\"text_baseline\":{\"value\":\"middle\"},\"text_color\":{\"value\":\"black\"},\"text_font_size\":{\"value\":\"12Pt\"},\"text_font_style\":{\"value\":\"normal\"},\"text_line_height\":{\"value\":1.2},\"x\":{\"field\":\"x\"},\"x_offset\":{\"value\":0},\"y\":{\"field\":\"y\"},\"y_offset\":{\"value\":0}},\"id\":\"3040\",\"type\":\"Text\"},{\"attributes\":{\"months\":[0,4,8]},\"id\":\"2769\",\"type\":\"MonthsTicker\"},{\"attributes\":{\"end\":1007164800000.0,\"reset_end\":1007164800000.0,\"reset_start\":978307200000.0,\"start\":978307200000.0,\"tags\":[[[\"index\",\"index\",null]]]},\"id\":\"2704\",\"type\":\"Range1d\"},{\"attributes\":{\"line_alpha\":0.2,\"line_color\":\"#fc4f30\",\"line_width\":2,\"x\":{\"field\":\"index\"},\"y\":{\"field\":\"value\"}},\"id\":\"2783\",\"type\":\"Line\"},{\"attributes\":{\"months\":[0,6]},\"id\":\"2770\",\"type\":\"MonthsTicker\"},{\"attributes\":{},\"id\":\"2726\",\"type\":\"SaveTool\"},{\"attributes\":{},\"id\":\"2727\",\"type\":\"PanTool\"},{\"attributes\":{},\"id\":\"2730\",\"type\":\"ResetTool\"},{\"attributes\":{\"children\":[{\"id\":\"2703\"},{\"id\":\"2709\"},{\"id\":\"3293\"}],\"margin\":[0,0,0,0],\"name\":\"Row04535\",\"tags\":[\"embedded\"]},\"id\":\"2702\",\"type\":\"Row\"},{\"attributes\":{},\"id\":\"2746\",\"type\":\"Selection\"},{\"attributes\":{},\"id\":\"2728\",\"type\":\"WheelZoomTool\"},{\"attributes\":{\"data_source\":{\"id\":\"3033\"},\"glyph\":{\"id\":\"3036\"},\"hover_glyph\":null,\"muted_glyph\":null,\"nonselection_glyph\":{\"id\":\"3037\"},\"selection_glyph\":{\"id\":\"3040\"},\"view\":{\"id\":\"3039\"}},\"id\":\"3038\",\"type\":\"GlyphRenderer\"},{\"attributes\":{\"margin\":[5,5,5,5],\"name\":\"HSpacer04539\",\"sizing_mode\":\"stretch_width\"},\"id\":\"2703\",\"type\":\"Spacer\"},{\"attributes\":{\"overlay\":{\"id\":\"2731\"}},\"id\":\"2729\",\"type\":\"BoxZoomTool\"},{\"attributes\":{\"source\":{\"id\":\"2778\"}},\"id\":\"2785\",\"type\":\"CDSView\"},{\"attributes\":{\"source\":{\"id\":\"3033\"}},\"id\":\"3039\",\"type\":\"CDSView\"},{\"attributes\":{},\"id\":\"2741\",\"type\":\"AllLabels\"},{\"attributes\":{\"source\":{\"id\":\"2812\"}},\"id\":\"2819\",\"type\":\"CDSView\"},{\"attributes\":{\"label\":{\"value\":\"Personal Income\"},\"renderers\":[{\"id\":\"2784\"}]},\"id\":\"2810\",\"type\":\"LegendItem\"},{\"attributes\":{\"end\":14133.9534,\"reset_end\":14133.9534,\"reset_start\":4143.2406,\"start\":4143.2406,\"tags\":[[[\"value\",\"value\",null]]]},\"id\":\"2705\",\"type\":\"Range1d\"},{\"attributes\":{\"days\":[1,4,7,10,13,16,19,22,25,28]},\"id\":\"2764\",\"type\":\"DaysTicker\"},{\"attributes\":{},\"id\":\"2813\",\"type\":\"Selection\"},{\"attributes\":{\"line_color\":\"#30a2da\",\"line_width\":2,\"x\":{\"field\":\"index\"},\"y\":{\"field\":\"value\"}},\"id\":\"2748\",\"type\":\"Line\"},{\"attributes\":{\"dimension\":\"height\",\"level\":\"glyph\",\"line_color\":\"gray\",\"line_width\":3,\"location\":1000166400000},\"id\":\"3032\",\"type\":\"Span\"},{\"attributes\":{\"base\":60,\"mantissas\":[1,2,5,10,15,20,30],\"max_interval\":1800000.0,\"min_interval\":1000.0,\"num_minor_ticks\":0},\"id\":\"2761\",\"type\":\"AdaptiveTicker\"},{\"attributes\":{\"base\":24,\"mantissas\":[1,2,4,6,8,12],\"max_interval\":43200000.0,\"min_interval\":3600000.0,\"num_minor_ticks\":0},\"id\":\"2762\",\"type\":\"AdaptiveTicker\"},{\"attributes\":{\"days\":[1,2,3,4,5,6,7,8,9,10,11,12,13,14,15,16,17,18,19,20,21,22,23,24,25,26,27,28,29,30,31]},\"id\":\"2763\",\"type\":\"DaysTicker\"},{\"attributes\":{\"below\":[{\"id\":\"2718\"}],\"center\":[{\"id\":\"2721\"},{\"id\":\"2725\"}],\"height\":500,\"left\":[{\"id\":\"2722\"}],\"margin\":[5,5,5,5],\"min_border_bottom\":10,\"min_border_left\":10,\"min_border_right\":10,\"min_border_top\":10,\"renderers\":[{\"id\":\"2751\"},{\"id\":\"2784\"},{\"id\":\"2818\"},{\"id\":\"3032\"},{\"id\":\"3038\"}],\"right\":[{\"id\":\"2775\"}],\"sizing_mode\":\"fixed\",\"title\":{\"id\":\"2710\"},\"toolbar\":{\"id\":\"2732\"},\"width\":1000,\"x_range\":{\"id\":\"2704\"},\"x_scale\":{\"id\":\"2714\"},\"y_range\":{\"id\":\"2705\"},\"y_scale\":{\"id\":\"2716\"}},\"id\":\"2709\",\"subtype\":\"Figure\",\"type\":\"Plot\"},{\"attributes\":{\"data\":{\"Variable\":[\"Real GDP\",\"Real GDP\",\"Real GDP\",\"Real GDP\",\"Real GDP\",\"Real GDP\",\"Real GDP\",\"Real GDP\",\"Real GDP\",\"Real GDP\",\"Real GDP\",\"Real GDP\"],\"index\":{\"__ndarray__\":\"AACA5vR4bEIAAACL6YxsQgAAAM3vnmxCAACAceSybEIAAIBKNMZsQgAAAO8o2mxCAAAAyHjtbEIAAIBsbQFtQgAAABFiFW1CAAAA6rEobUIAAICOpjxtQgAAgGf2T21C\",\"dtype\":\"float64\",\"order\":\"little\",\"shape\":[12]},\"value\":{\"__ndarray__\":\"ppvEIKDRyUCmm8QgoNHJQKabxCCg0clAUI2XbrL6yUBQjZdusvrJQFCNl26y+slABFYOLRLgyUAEVg4tEuDJQARWDi0S4MlA46WbxHDyyUDjpZvEcPLJQOOlm8Rw8slA\",\"dtype\":\"float64\",\"order\":\"little\",\"shape\":[12]}},\"selected\":{\"id\":\"2813\"},\"selection_policy\":{\"id\":\"2843\"}},\"id\":\"2812\",\"type\":\"ColumnDataSource\"},{\"attributes\":{\"bottom_units\":\"screen\",\"fill_alpha\":0.5,\"fill_color\":\"lightgrey\",\"left_units\":\"screen\",\"level\":\"overlay\",\"line_alpha\":1.0,\"line_color\":\"black\",\"line_dash\":[4,4],\"line_width\":2,\"right_units\":\"screen\",\"syncable\":false,\"top_units\":\"screen\"},\"id\":\"2731\",\"type\":\"BoxAnnotation\"},{\"attributes\":{\"text_align\":{\"value\":\"right\"},\"text_baseline\":{\"value\":\"middle\"},\"text_color\":{\"value\":\"black\"},\"text_font_size\":{\"value\":\"12Pt\"},\"x\":{\"field\":\"x\"},\"y\":{\"field\":\"y\"}},\"id\":\"3036\",\"type\":\"Text\"},{\"attributes\":{},\"id\":\"2771\",\"type\":\"YearsTicker\"},{\"attributes\":{},\"id\":\"2714\",\"type\":\"LinearScale\"},{\"attributes\":{\"num_minor_ticks\":5,\"tickers\":[{\"id\":\"2760\"},{\"id\":\"2761\"},{\"id\":\"2762\"},{\"id\":\"2763\"},{\"id\":\"2764\"},{\"id\":\"2765\"},{\"id\":\"2766\"},{\"id\":\"2767\"},{\"id\":\"2768\"},{\"id\":\"2769\"},{\"id\":\"2770\"},{\"id\":\"2771\"}]},\"id\":\"2719\",\"type\":\"DatetimeTicker\"},{\"attributes\":{},\"id\":\"2772\",\"type\":\"UnionRenderers\"},{\"attributes\":{\"click_policy\":\"mute\",\"items\":[{\"id\":\"2776\"},{\"id\":\"2810\"},{\"id\":\"2846\"}],\"location\":[0,0]},\"id\":\"2775\",\"type\":\"Legend\"},{\"attributes\":{\"line_alpha\":0.2,\"line_color\":\"#e5ae38\",\"line_width\":2,\"x\":{\"field\":\"index\"},\"y\":{\"field\":\"value\"}},\"id\":\"2817\",\"type\":\"Line\"},{\"attributes\":{},\"id\":\"2807\",\"type\":\"UnionRenderers\"},{\"attributes\":{\"margin\":[5,5,5,5],\"name\":\"HSpacer04540\",\"sizing_mode\":\"stretch_width\"},\"id\":\"3293\",\"type\":\"Spacer\"},{\"attributes\":{\"label\":{\"value\":\"M2\"},\"renderers\":[{\"id\":\"2751\"}]},\"id\":\"2776\",\"type\":\"LegendItem\"},{\"attributes\":{\"callback\":null,\"formatters\":{\"@{index}\":\"datetime\"},\"renderers\":[{\"id\":\"2751\"},{\"id\":\"2784\"},{\"id\":\"2818\"}],\"tags\":[\"hv_created\"],\"tooltips\":[[\"Variable\",\"@{Variable}\"],[\"index\",\"@{index}{%F %T}\"],[\"value\",\"@{value}\"]]},\"id\":\"2706\",\"type\":\"HoverTool\"},{\"attributes\":{},\"id\":\"2716\",\"type\":\"LinearScale\"},{\"attributes\":{\"label\":{\"value\":\"Real GDP\"},\"renderers\":[{\"id\":\"2818\"}]},\"id\":\"2846\",\"type\":\"LegendItem\"},{\"attributes\":{},\"id\":\"3034\",\"type\":\"Selection\"},{\"attributes\":{\"line_color\":\"#e5ae38\",\"line_width\":2,\"x\":{\"field\":\"index\"},\"y\":{\"field\":\"value\"}},\"id\":\"2847\",\"type\":\"Line\"},{\"attributes\":{},\"id\":\"2742\",\"type\":\"BasicTickFormatter\"},{\"attributes\":{},\"id\":\"2739\",\"type\":\"DatetimeTickFormatter\"},{\"attributes\":{\"text\":\"Year of Sept. 11, in Billions\",\"text_color\":\"black\",\"text_font_size\":\"12pt\"},\"id\":\"2710\",\"type\":\"Title\"},{\"attributes\":{\"line_color\":\"#30a2da\",\"line_width\":2,\"x\":{\"field\":\"index\"},\"y\":{\"field\":\"value\"}},\"id\":\"2777\",\"type\":\"Line\"},{\"attributes\":{},\"id\":\"2843\",\"type\":\"UnionRenderers\"},{\"attributes\":{\"axis_label\":\"\",\"formatter\":{\"id\":\"2739\"},\"major_label_policy\":{\"id\":\"2741\"},\"ticker\":{\"id\":\"2719\"}},\"id\":\"2718\",\"type\":\"DatetimeAxis\"},{\"attributes\":{\"line_color\":\"#e5ae38\",\"line_width\":2,\"x\":{\"field\":\"index\"},\"y\":{\"field\":\"value\"}},\"id\":\"2815\",\"type\":\"Line\"},{\"attributes\":{\"text_align\":{\"value\":\"right\"},\"text_alpha\":{\"value\":0.1},\"text_baseline\":{\"value\":\"middle\"},\"text_color\":{\"value\":\"black\"},\"text_font_size\":{\"value\":\"12Pt\"},\"x\":{\"field\":\"x\"},\"y\":{\"field\":\"y\"}},\"id\":\"3037\",\"type\":\"Text\"},{\"attributes\":{\"axis_label\":\"\",\"formatter\":{\"id\":\"2742\"},\"major_label_policy\":{\"id\":\"2744\"},\"ticker\":{\"id\":\"2723\"}},\"id\":\"2722\",\"type\":\"LinearAxis\"},{\"attributes\":{},\"id\":\"2779\",\"type\":\"Selection\"},{\"attributes\":{\"axis\":{\"id\":\"2718\"},\"grid_line_color\":null,\"ticker\":null},\"id\":\"2721\",\"type\":\"Grid\"},{\"attributes\":{\"line_alpha\":0.1,\"line_color\":\"#e5ae38\",\"line_width\":2,\"x\":{\"field\":\"index\"},\"y\":{\"field\":\"value\"}},\"id\":\"2816\",\"type\":\"Line\"},{\"attributes\":{},\"id\":\"3066\",\"type\":\"UnionRenderers\"},{\"attributes\":{},\"id\":\"2723\",\"type\":\"BasicTicker\"},{\"attributes\":{\"line_alpha\":0.1,\"line_color\":\"#30a2da\",\"line_width\":2,\"x\":{\"field\":\"index\"},\"y\":{\"field\":\"value\"}},\"id\":\"2749\",\"type\":\"Line\"},{\"attributes\":{\"mantissas\":[1,2,5],\"max_interval\":500.0,\"num_minor_ticks\":0},\"id\":\"2760\",\"type\":\"AdaptiveTicker\"},{\"attributes\":{\"axis\":{\"id\":\"2722\"},\"dimension\":1,\"grid_line_color\":null,\"ticker\":null},\"id\":\"2725\",\"type\":\"Grid\"},{\"attributes\":{\"line_color\":\"#fc4f30\",\"line_width\":2,\"x\":{\"field\":\"index\"},\"y\":{\"field\":\"value\"}},\"id\":\"2781\",\"type\":\"Line\"},{\"attributes\":{\"data_source\":{\"id\":\"2745\"},\"glyph\":{\"id\":\"2748\"},\"hover_glyph\":null,\"muted_glyph\":{\"id\":\"2750\"},\"nonselection_glyph\":{\"id\":\"2749\"},\"selection_glyph\":{\"id\":\"2777\"},\"view\":{\"id\":\"2752\"}},\"id\":\"2751\",\"type\":\"GlyphRenderer\"},{\"attributes\":{\"data\":{\"Variable\":[\"Personal Income\",\"Personal Income\",\"Personal Income\",\"Personal Income\",\"Personal Income\",\"Personal Income\",\"Personal Income\",\"Personal Income\",\"Personal Income\",\"Personal Income\",\"Personal Income\",\"Personal Income\"],\"index\":{\"__ndarray__\":\"AACA5vR4bEIAAACL6YxsQgAAAM3vnmxCAACAceSybEIAAIBKNMZsQgAAAO8o2mxCAAAAyHjtbEIAAIBsbQFtQgAAABFiFW1CAAAA6rEobUIAAICOpjxtQgAAgGf2T21C\",\"dtype\":\"float64\",\"order\":\"little\",\"shape\":[12]},\"value\":{\"__ndarray__\":\"oBov3cQdxkDwp8ZLNyvGQMP1KFzPPcZA3SQGgTUvxkBKDAIrVx7GQNEi2/muFcZAFK5H4ZoUxkD4U+OlOwzGQLByaJHtDsZA6SYxCAwDxkBvEoPAWgXGQA4tsp3/DcZA\",\"dtype\":\"float64\",\"order\":\"little\",\"shape\":[12]}},\"selected\":{\"id\":\"2779\"},\"selection_policy\":{\"id\":\"2807\"}},\"id\":\"2778\",\"type\":\"ColumnDataSource\"},{\"attributes\":{\"line_color\":\"#fc4f30\",\"line_width\":2,\"x\":{\"field\":\"index\"},\"y\":{\"field\":\"value\"}},\"id\":\"2811\",\"type\":\"Line\"},{\"attributes\":{},\"id\":\"2744\",\"type\":\"AllLabels\"},{\"attributes\":{\"months\":[0,1,2,3,4,5,6,7,8,9,10,11]},\"id\":\"2767\",\"type\":\"MonthsTicker\"},{\"attributes\":{\"days\":[1,8,15,22]},\"id\":\"2765\",\"type\":\"DaysTicker\"},{\"attributes\":{\"data_source\":{\"id\":\"2812\"},\"glyph\":{\"id\":\"2815\"},\"hover_glyph\":null,\"muted_glyph\":{\"id\":\"2817\"},\"nonselection_glyph\":{\"id\":\"2816\"},\"selection_glyph\":{\"id\":\"2847\"},\"view\":{\"id\":\"2819\"}},\"id\":\"2818\",\"type\":\"GlyphRenderer\"},{\"attributes\":{\"source\":{\"id\":\"2745\"}},\"id\":\"2752\",\"type\":\"CDSView\"},{\"attributes\":{\"line_alpha\":0.1,\"line_color\":\"#fc4f30\",\"line_width\":2,\"x\":{\"field\":\"index\"},\"y\":{\"field\":\"value\"}},\"id\":\"2782\",\"type\":\"Line\"},{\"attributes\":{\"days\":[1,15]},\"id\":\"2766\",\"type\":\"DaysTicker\"},{\"attributes\":{\"data\":{\"text\":[\"Sept. 11 \"],\"x\":[1000166400000.0],\"y\":[11000]},\"selected\":{\"id\":\"3034\"},\"selection_policy\":{\"id\":\"3066\"}},\"id\":\"3033\",\"type\":\"ColumnDataSource\"},{\"attributes\":{\"data\":{\"Variable\":[\"M2\",\"M2\",\"M2\",\"M2\",\"M2\",\"M2\",\"M2\",\"M2\",\"M2\",\"M2\",\"M2\",\"M2\"],\"index\":{\"__ndarray__\":\"AACA5vR4bEIAAACL6YxsQgAAAM3vnmxCAACAceSybEIAAIBKNMZsQgAAAO8o2mxCAAAAyHjtbEIAAIBsbQFtQgAAABFiFW1CAAAA6rEobUIAAICOpjxtQgAAgGf2T21C\",\"dtype\":\"float64\",\"order\":\"little\",\"shape\":[12]},\"value\":{\"__ndarray__\":\"zczMzMxvs0CamZmZGZazQGZmZmbmz7NAZmZmZuYPtEBmZmZm5gy0QDMzMzMzNbRAMzMzMzNTtECamZmZGXW0QDMzMzMz5LRAzczMzMzYtEBmZmZmZgS1QAAAAACAObVA\",\"dtype\":\"float64\",\"order\":\"little\",\"shape\":[12]}},\"selected\":{\"id\":\"2746\"},\"selection_policy\":{\"id\":\"2772\"}},\"id\":\"2745\",\"type\":\"ColumnDataSource\"},{\"attributes\":{\"line_alpha\":0.2,\"line_color\":\"#30a2da\",\"line_width\":2,\"x\":{\"field\":\"index\"},\"y\":{\"field\":\"value\"}},\"id\":\"2750\",\"type\":\"Line\"}],\"root_ids\":[\"2702\"]},\"title\":\"Bokeh Application\",\"version\":\"2.3.2\"}};\n",
       "    var render_items = [{\"docid\":\"e2e4bad9-57ff-4d2e-b020-1566952f5b19\",\"root_ids\":[\"2702\"],\"roots\":{\"2702\":\"e29d607c-8092-4071-a6be-34173f0db8bd\"}}];\n",
       "    root.Bokeh.embed.embed_items_notebook(docs_json, render_items);\n",
       "  }\n",
       "  if (root.Bokeh !== undefined && root.Bokeh.Panel !== undefined && root['Plotly'] !== undefined ) {\n",
       "    embed_document(root);\n",
       "  } else {\n",
       "    var attempts = 0;\n",
       "    var timer = setInterval(function(root) {\n",
       "      if (root.Bokeh !== undefined && root.Bokeh.Panel !== undefined && root['Plotly'] !== undefined) {\n",
       "        clearInterval(timer);\n",
       "        embed_document(root);\n",
       "      } else if (document.readyState == \"complete\") {\n",
       "        attempts++;\n",
       "        if (attempts > 100) {\n",
       "          clearInterval(timer);\n",
       "          console.log(\"Bokeh: ERROR: Unable to run BokehJS code because BokehJS library is missing\");\n",
       "        }\n",
       "      }\n",
       "    }, 10, root)\n",
       "  }\n",
       "})(window);</script>"
      ],
      "text/plain": [
       ":Overlay\n",
       "   .NdOverlay.I :NdOverlay   [Variable]\n",
       "      :Curve   [index]   (value)\n",
       "   .VLine.I     :VLine   [x,y]\n",
       "   .Text.I      :Text   [x,y]"
      ]
     },
     "execution_count": 40,
     "metadata": {
      "application/vnd.holoviews_exec.v0+json": {
       "id": "2702"
      }
     },
     "output_type": "execute_result"
    }
   ],
   "source": [
    "sept11_plot = sept11_data.hvplot(width=1000, height=500, title=\"Year of Sept. 11, in Billions\") * september11_startLine * hv.Text(datetime.datetime(2001, 9, 11), 11000, \"Sept. 11 \", halign='right')\n",
    "sept11_plot"
   ]
  },
  {
   "cell_type": "markdown",
   "id": "258add62-6401-4fc7-b1fd-a4f50b7aa0f4",
   "metadata": {},
   "source": [
    "### Display Rolling 3 Year Z-Score for this period:"
   ]
  },
  {
   "cell_type": "code",
   "execution_count": 41,
   "id": "fb86b79b-7ff4-4da7-977d-c5a0c5232113",
   "metadata": {},
   "outputs": [
    {
     "data": {
      "text/html": [
       "<div>\n",
       "<style scoped>\n",
       "    .dataframe tbody tr th:only-of-type {\n",
       "        vertical-align: middle;\n",
       "    }\n",
       "\n",
       "    .dataframe tbody tr th {\n",
       "        vertical-align: top;\n",
       "    }\n",
       "\n",
       "    .dataframe thead th {\n",
       "        text-align: right;\n",
       "    }\n",
       "</style>\n",
       "<table border=\"1\" class=\"dataframe\">\n",
       "  <thead>\n",
       "    <tr style=\"text-align: right;\">\n",
       "      <th></th>\n",
       "      <th>rollingM2_zscore</th>\n",
       "      <th>rollingInc_zscore</th>\n",
       "      <th>rollingGDP_zscore</th>\n",
       "    </tr>\n",
       "  </thead>\n",
       "  <tbody>\n",
       "    <tr>\n",
       "      <th>2001-01-01</th>\n",
       "      <td>1.736852</td>\n",
       "      <td>1.693162</td>\n",
       "      <td>1.223014</td>\n",
       "    </tr>\n",
       "    <tr>\n",
       "      <th>2001-02-01</th>\n",
       "      <td>1.780277</td>\n",
       "      <td>1.660027</td>\n",
       "      <td>1.169164</td>\n",
       "    </tr>\n",
       "    <tr>\n",
       "      <th>2001-03-01</th>\n",
       "      <td>1.883415</td>\n",
       "      <td>1.649405</td>\n",
       "      <td>1.121718</td>\n",
       "    </tr>\n",
       "    <tr>\n",
       "      <th>2001-04-01</th>\n",
       "      <td>1.989019</td>\n",
       "      <td>1.497113</td>\n",
       "      <td>1.248326</td>\n",
       "    </tr>\n",
       "    <tr>\n",
       "      <th>2001-05-01</th>\n",
       "      <td>1.857689</td>\n",
       "      <td>1.346198</td>\n",
       "      <td>1.198917</td>\n",
       "    </tr>\n",
       "  </tbody>\n",
       "</table>\n",
       "</div>"
      ],
      "text/plain": [
       "            rollingM2_zscore  rollingInc_zscore  rollingGDP_zscore\n",
       "2001-01-01          1.736852           1.693162           1.223014\n",
       "2001-02-01          1.780277           1.660027           1.169164\n",
       "2001-03-01          1.883415           1.649405           1.121718\n",
       "2001-04-01          1.989019           1.497113           1.248326\n",
       "2001-05-01          1.857689           1.346198           1.198917"
      ]
     },
     "execution_count": 41,
     "metadata": {},
     "output_type": "execute_result"
    }
   ],
   "source": [
    "sept11_zscorePlot_data = rolling_zScore['2001-01-01':'2001-12-31']\n",
    "sept11_zscorePlot_data.head()"
   ]
  },
  {
   "cell_type": "code",
   "execution_count": 52,
   "id": "8e2eff77-fc50-4d7f-a69f-cdf55941189d",
   "metadata": {},
   "outputs": [
    {
     "data": {},
     "metadata": {},
     "output_type": "display_data"
    },
    {
     "data": {
      "application/vnd.holoviews_exec.v0+json": "",
      "text/html": [
       "<div id='5530'>\n",
       "\n",
       "\n",
       "\n",
       "\n",
       "\n",
       "  <div class=\"bk-root\" id=\"91e596d7-98fe-4a45-af40-373c6d0111d6\" data-root-id=\"5530\"></div>\n",
       "</div>\n",
       "<script type=\"application/javascript\">(function(root) {\n",
       "  function embed_document(root) {\n",
       "    var docs_json = {\"f5a1d0bd-35a3-4509-a77e-d94ea52eb81e\":{\"defs\":[],\"roots\":{\"references\":[{\"attributes\":{\"line_alpha\":0.1,\"line_color\":\"#fc4f30\",\"line_width\":2,\"x\":{\"field\":\"index\"},\"y\":{\"field\":\"value\"}},\"id\":\"5610\",\"type\":\"Line\"},{\"attributes\":{},\"id\":\"5555\",\"type\":\"PanTool\"},{\"attributes\":{\"end\":1007164800000.0,\"reset_end\":1007164800000.0,\"reset_start\":978307200000.0,\"start\":978307200000.0,\"tags\":[[[\"index\",\"index\",null]]]},\"id\":\"5532\",\"type\":\"Range1d\"},{\"attributes\":{},\"id\":\"5558\",\"type\":\"ResetTool\"},{\"attributes\":{\"data_source\":{\"id\":\"5606\"},\"glyph\":{\"id\":\"5609\"},\"hover_glyph\":null,\"muted_glyph\":{\"id\":\"5611\"},\"nonselection_glyph\":{\"id\":\"5610\"},\"selection_glyph\":{\"id\":\"5639\"},\"view\":{\"id\":\"5613\"}},\"id\":\"5612\",\"type\":\"GlyphRenderer\"},{\"attributes\":{},\"id\":\"5556\",\"type\":\"WheelZoomTool\"},{\"attributes\":{\"months\":[0,4,8]},\"id\":\"5597\",\"type\":\"MonthsTicker\"},{\"attributes\":{\"children\":[{\"id\":\"5531\"},{\"id\":\"5537\"},{\"id\":\"6121\"}],\"margin\":[0,0,0,0],\"name\":\"Row08257\",\"tags\":[\"embedded\"]},\"id\":\"5530\",\"type\":\"Row\"},{\"attributes\":{\"source\":{\"id\":\"5640\"}},\"id\":\"5647\",\"type\":\"CDSView\"},{\"attributes\":{\"overlay\":{\"id\":\"5559\"}},\"id\":\"5557\",\"type\":\"BoxZoomTool\"},{\"attributes\":{\"months\":[0,6]},\"id\":\"5598\",\"type\":\"MonthsTicker\"},{\"attributes\":{},\"id\":\"5569\",\"type\":\"AllLabels\"},{\"attributes\":{\"angle\":{\"value\":0.0},\"text\":{\"field\":\"text\"},\"text_align\":{\"value\":\"right\"},\"text_alpha\":{\"value\":1.0},\"text_baseline\":{\"value\":\"middle\"},\"text_color\":{\"value\":\"black\"},\"text_font_size\":{\"value\":\"12Pt\"},\"text_font_style\":{\"value\":\"normal\"},\"text_line_height\":{\"value\":1.2},\"x\":{\"field\":\"x\"},\"x_offset\":{\"value\":0},\"y\":{\"field\":\"y\"},\"y_offset\":{\"value\":0}},\"id\":\"5868\",\"type\":\"Text\"},{\"attributes\":{\"data_source\":{\"id\":\"5640\"},\"glyph\":{\"id\":\"5643\"},\"hover_glyph\":null,\"muted_glyph\":{\"id\":\"5645\"},\"nonselection_glyph\":{\"id\":\"5644\"},\"selection_glyph\":{\"id\":\"5675\"},\"view\":{\"id\":\"5647\"}},\"id\":\"5646\",\"type\":\"GlyphRenderer\"},{\"attributes\":{\"line_alpha\":0.2,\"line_color\":\"#fc4f30\",\"line_width\":2,\"x\":{\"field\":\"index\"},\"y\":{\"field\":\"value\"}},\"id\":\"5611\",\"type\":\"Line\"},{\"attributes\":{\"margin\":[5,5,5,5],\"name\":\"HSpacer08261\",\"sizing_mode\":\"stretch_width\"},\"id\":\"5531\",\"type\":\"Spacer\"},{\"attributes\":{\"months\":[0,2,4,6,8,10]},\"id\":\"5596\",\"type\":\"MonthsTicker\"},{\"attributes\":{\"source\":{\"id\":\"5606\"}},\"id\":\"5613\",\"type\":\"CDSView\"},{\"attributes\":{},\"id\":\"5894\",\"type\":\"UnionRenderers\"},{\"attributes\":{},\"id\":\"5635\",\"type\":\"UnionRenderers\"},{\"attributes\":{},\"id\":\"5570\",\"type\":\"BasicTickFormatter\"},{\"attributes\":{\"days\":[1,8,15,22]},\"id\":\"5593\",\"type\":\"DaysTicker\"},{\"attributes\":{\"days\":[1,4,7,10,13,16,19,22,25,28]},\"id\":\"5592\",\"type\":\"DaysTicker\"},{\"attributes\":{\"days\":[1,2,3,4,5,6,7,8,9,10,11,12,13,14,15,16,17,18,19,20,21,22,23,24,25,26,27,28,29,30,31]},\"id\":\"5591\",\"type\":\"DaysTicker\"},{\"attributes\":{\"source\":{\"id\":\"5861\"}},\"id\":\"5867\",\"type\":\"CDSView\"},{\"attributes\":{\"data\":{\"Variable\":[\"rollingM2_zscore\",\"rollingM2_zscore\",\"rollingM2_zscore\",\"rollingM2_zscore\",\"rollingM2_zscore\",\"rollingM2_zscore\",\"rollingM2_zscore\",\"rollingM2_zscore\",\"rollingM2_zscore\",\"rollingM2_zscore\",\"rollingM2_zscore\",\"rollingM2_zscore\"],\"index\":{\"__ndarray__\":\"AACA5vR4bEIAAACL6YxsQgAAAM3vnmxCAACAceSybEIAAIBKNMZsQgAAAO8o2mxCAAAAyHjtbEIAAIBsbQFtQgAAABFiFW1CAAAA6rEobUIAAICOpjxtQgAAgGf2T21C\",\"dtype\":\"float64\",\"order\":\"little\",\"shape\":[12]},\"value\":{\"__ndarray__\":\"73XpWSXK+z9Ln4XmA3z8P+RuXP13Iv4/Ih/jbgXT/z+ynSPSF7n9P+fnQwYfKv4/BTl++acB/j+GzX5Y7gv+P25DfZcP5ABAW+Kg+2Lg/j+c4bMou/H+P5tGZEM1Wv8/\",\"dtype\":\"float64\",\"order\":\"little\",\"shape\":[12]}},\"selected\":{\"id\":\"5574\"},\"selection_policy\":{\"id\":\"5600\"}},\"id\":\"5573\",\"type\":\"ColumnDataSource\"},{\"attributes\":{\"below\":[{\"id\":\"5546\"}],\"center\":[{\"id\":\"5549\"},{\"id\":\"5553\"}],\"height\":500,\"left\":[{\"id\":\"5550\"}],\"margin\":[5,5,5,5],\"min_border_bottom\":10,\"min_border_left\":10,\"min_border_right\":10,\"min_border_top\":10,\"renderers\":[{\"id\":\"5579\"},{\"id\":\"5612\"},{\"id\":\"5646\"},{\"id\":\"5860\"},{\"id\":\"5866\"}],\"right\":[{\"id\":\"5603\"}],\"sizing_mode\":\"fixed\",\"title\":{\"id\":\"5538\"},\"toolbar\":{\"id\":\"5560\"},\"width\":1000,\"x_range\":{\"id\":\"5532\"},\"x_scale\":{\"id\":\"5542\"},\"y_range\":{\"id\":\"5533\"},\"y_scale\":{\"id\":\"5544\"}},\"id\":\"5537\",\"subtype\":\"Figure\",\"type\":\"Plot\"},{\"attributes\":{\"base\":24,\"mantissas\":[1,2,4,6,8,12],\"max_interval\":43200000.0,\"min_interval\":3600000.0,\"num_minor_ticks\":0},\"id\":\"5590\",\"type\":\"AdaptiveTicker\"},{\"attributes\":{},\"id\":\"5599\",\"type\":\"YearsTicker\"},{\"attributes\":{\"bottom_units\":\"screen\",\"fill_alpha\":0.5,\"fill_color\":\"lightgrey\",\"left_units\":\"screen\",\"level\":\"overlay\",\"line_alpha\":1.0,\"line_color\":\"black\",\"line_dash\":[4,4],\"line_width\":2,\"right_units\":\"screen\",\"syncable\":false,\"top_units\":\"screen\"},\"id\":\"5559\",\"type\":\"BoxAnnotation\"},{\"attributes\":{},\"id\":\"5607\",\"type\":\"Selection\"},{\"attributes\":{\"num_minor_ticks\":5,\"tickers\":[{\"id\":\"5588\"},{\"id\":\"5589\"},{\"id\":\"5590\"},{\"id\":\"5591\"},{\"id\":\"5592\"},{\"id\":\"5593\"},{\"id\":\"5594\"},{\"id\":\"5595\"},{\"id\":\"5596\"},{\"id\":\"5597\"},{\"id\":\"5598\"},{\"id\":\"5599\"}]},\"id\":\"5547\",\"type\":\"DatetimeTicker\"},{\"attributes\":{\"active_multi\":null,\"tools\":[{\"id\":\"5534\"},{\"id\":\"5554\"},{\"id\":\"5555\"},{\"id\":\"5556\"},{\"id\":\"5557\"},{\"id\":\"5558\"}]},\"id\":\"5560\",\"type\":\"Toolbar\"},{\"attributes\":{\"margin\":[5,5,5,5],\"name\":\"HSpacer08262\",\"sizing_mode\":\"stretch_width\"},\"id\":\"6121\",\"type\":\"Spacer\"},{\"attributes\":{\"axis_label\":\"\",\"formatter\":{\"id\":\"5567\"},\"major_label_policy\":{\"id\":\"5569\"},\"ticker\":{\"id\":\"5547\"}},\"id\":\"5546\",\"type\":\"DatetimeAxis\"},{\"attributes\":{},\"id\":\"5600\",\"type\":\"UnionRenderers\"},{\"attributes\":{\"data\":{\"Variable\":[\"rollingGDP_zscore\",\"rollingGDP_zscore\",\"rollingGDP_zscore\",\"rollingGDP_zscore\",\"rollingGDP_zscore\",\"rollingGDP_zscore\",\"rollingGDP_zscore\",\"rollingGDP_zscore\",\"rollingGDP_zscore\",\"rollingGDP_zscore\",\"rollingGDP_zscore\",\"rollingGDP_zscore\"],\"index\":{\"__ndarray__\":\"AACA5vR4bEIAAACL6YxsQgAAAM3vnmxCAACAceSybEIAAIBKNMZsQgAAAO8o2mxCAAAAyHjtbEIAAIBsbQFtQgAAABFiFW1CAAAA6rEobUIAAICOpjxtQgAAgGf2T21C\",\"dtype\":\"float64\",\"order\":\"little\",\"shape\":[12]},\"value\":{\"__ndarray__\":\"H3t/P3eR8z8TviGZ5bTyP5+AQBWP8vE/ucx4cST58z/Ot5+Jwy7zP77tCz0mhfI/6Daq92tw7z+rOQoPHS7uP1AgzoFWG+0/+sMCKwsB7z9gFKGbxLvtP/SQfZoFo+w/\",\"dtype\":\"float64\",\"order\":\"little\",\"shape\":[12]}},\"selected\":{\"id\":\"5641\"},\"selection_policy\":{\"id\":\"5671\"}},\"id\":\"5640\",\"type\":\"ColumnDataSource\"},{\"attributes\":{\"click_policy\":\"mute\",\"items\":[{\"id\":\"5604\"},{\"id\":\"5638\"},{\"id\":\"5674\"}],\"location\":[0,0]},\"id\":\"5603\",\"type\":\"Legend\"},{\"attributes\":{},\"id\":\"5554\",\"type\":\"SaveTool\"},{\"attributes\":{\"data\":{\"Variable\":[\"rollingInc_zscore\",\"rollingInc_zscore\",\"rollingInc_zscore\",\"rollingInc_zscore\",\"rollingInc_zscore\",\"rollingInc_zscore\",\"rollingInc_zscore\",\"rollingInc_zscore\",\"rollingInc_zscore\",\"rollingInc_zscore\",\"rollingInc_zscore\",\"rollingInc_zscore\"],\"index\":{\"__ndarray__\":\"AACA5vR4bEIAAACL6YxsQgAAAM3vnmxCAACAceSybEIAAIBKNMZsQgAAAO8o2mxCAAAAyHjtbEIAAIBsbQFtQgAAABFiFW1CAAAA6rEobUIAAICOpjxtQgAAgGf2T21C\",\"dtype\":\"float64\",\"order\":\"little\",\"shape\":[12]},\"value\":{\"__ndarray__\":\"PAl4MTEX+z83ea33d4/6P2nSfer2Y/o/myf1piz09z/EgSpBB4r1P4eDU1uF1/M/asc0ahjQ8j+XkWKCHknxP4mZAxc2q/A/xjGDrkbf7T/r8GMPm8XsP9aj3O50z+w/\",\"dtype\":\"float64\",\"order\":\"little\",\"shape\":[12]}},\"selected\":{\"id\":\"5607\"},\"selection_policy\":{\"id\":\"5635\"}},\"id\":\"5606\",\"type\":\"ColumnDataSource\"},{\"attributes\":{\"line_alpha\":0.1,\"line_color\":\"#30a2da\",\"line_width\":2,\"x\":{\"field\":\"index\"},\"y\":{\"field\":\"value\"}},\"id\":\"5577\",\"type\":\"Line\"},{\"attributes\":{\"label\":{\"value\":\"rollingM2_zscore\"},\"renderers\":[{\"id\":\"5579\"}]},\"id\":\"5604\",\"type\":\"LegendItem\"},{\"attributes\":{\"text\":\"Rolling 3 Year Z-Score\",\"text_color\":\"black\",\"text_font_size\":\"12pt\"},\"id\":\"5538\",\"type\":\"Title\"},{\"attributes\":{\"days\":[1,15]},\"id\":\"5594\",\"type\":\"DaysTicker\"},{\"attributes\":{},\"id\":\"5862\",\"type\":\"Selection\"},{\"attributes\":{},\"id\":\"5542\",\"type\":\"LinearScale\"},{\"attributes\":{\"line_color\":\"#e5ae38\",\"line_width\":2,\"x\":{\"field\":\"index\"},\"y\":{\"field\":\"value\"}},\"id\":\"5675\",\"type\":\"Line\"},{\"attributes\":{},\"id\":\"5544\",\"type\":\"LinearScale\"},{\"attributes\":{\"label\":{\"value\":\"rollingInc_zscore\"},\"renderers\":[{\"id\":\"5612\"}]},\"id\":\"5638\",\"type\":\"LegendItem\"},{\"attributes\":{},\"id\":\"5574\",\"type\":\"Selection\"},{\"attributes\":{\"axis_label\":\"\",\"formatter\":{\"id\":\"5570\"},\"major_label_policy\":{\"id\":\"5572\"},\"ticker\":{\"id\":\"5551\"}},\"id\":\"5550\",\"type\":\"LinearAxis\"},{\"attributes\":{\"base\":60,\"mantissas\":[1,2,5,10,15,20,30],\"max_interval\":1800000.0,\"min_interval\":1000.0,\"num_minor_ticks\":0},\"id\":\"5589\",\"type\":\"AdaptiveTicker\"},{\"attributes\":{\"axis\":{\"id\":\"5546\"},\"grid_line_color\":null,\"ticker\":null},\"id\":\"5549\",\"type\":\"Grid\"},{\"attributes\":{\"line_color\":\"#30a2da\",\"line_width\":2,\"x\":{\"field\":\"index\"},\"y\":{\"field\":\"value\"}},\"id\":\"5605\",\"type\":\"Line\"},{\"attributes\":{},\"id\":\"5551\",\"type\":\"BasicTicker\"},{\"attributes\":{\"line_alpha\":0.2,\"line_color\":\"#e5ae38\",\"line_width\":2,\"x\":{\"field\":\"index\"},\"y\":{\"field\":\"value\"}},\"id\":\"5645\",\"type\":\"Line\"},{\"attributes\":{\"axis\":{\"id\":\"5550\"},\"dimension\":1,\"grid_line_color\":null,\"ticker\":null},\"id\":\"5553\",\"type\":\"Grid\"},{\"attributes\":{\"text_align\":{\"value\":\"right\"},\"text_alpha\":{\"value\":0.1},\"text_baseline\":{\"value\":\"middle\"},\"text_color\":{\"value\":\"black\"},\"text_font_size\":{\"value\":\"12Pt\"},\"x\":{\"field\":\"x\"},\"y\":{\"field\":\"y\"}},\"id\":\"5865\",\"type\":\"Text\"},{\"attributes\":{\"callback\":null,\"formatters\":{\"@{index}\":\"datetime\"},\"renderers\":[{\"id\":\"5579\"},{\"id\":\"5612\"},{\"id\":\"5646\"}],\"tags\":[\"hv_created\"],\"tooltips\":[[\"Variable\",\"@{Variable}\"],[\"index\",\"@{index}{%F %T}\"],[\"value\",\"@{value}\"]]},\"id\":\"5534\",\"type\":\"HoverTool\"},{\"attributes\":{},\"id\":\"5671\",\"type\":\"UnionRenderers\"},{\"attributes\":{},\"id\":\"5567\",\"type\":\"DatetimeTickFormatter\"},{\"attributes\":{},\"id\":\"5572\",\"type\":\"AllLabels\"},{\"attributes\":{\"months\":[0,1,2,3,4,5,6,7,8,9,10,11]},\"id\":\"5595\",\"type\":\"MonthsTicker\"},{\"attributes\":{\"text_align\":{\"value\":\"right\"},\"text_baseline\":{\"value\":\"middle\"},\"text_color\":{\"value\":\"black\"},\"text_font_size\":{\"value\":\"12Pt\"},\"x\":{\"field\":\"x\"},\"y\":{\"field\":\"y\"}},\"id\":\"5864\",\"type\":\"Text\"},{\"attributes\":{\"data\":{\"text\":[\"Sept. 11 \"],\"x\":[1000166400000.0],\"y\":[1.6]},\"selected\":{\"id\":\"5862\"},\"selection_policy\":{\"id\":\"5894\"}},\"id\":\"5861\",\"type\":\"ColumnDataSource\"},{\"attributes\":{\"label\":{\"value\":\"rollingGDP_zscore\"},\"renderers\":[{\"id\":\"5646\"}]},\"id\":\"5674\",\"type\":\"LegendItem\"},{\"attributes\":{\"line_alpha\":0.2,\"line_color\":\"#30a2da\",\"line_width\":2,\"x\":{\"field\":\"index\"},\"y\":{\"field\":\"value\"}},\"id\":\"5578\",\"type\":\"Line\"},{\"attributes\":{\"line_color\":\"#fc4f30\",\"line_width\":2,\"x\":{\"field\":\"index\"},\"y\":{\"field\":\"value\"}},\"id\":\"5609\",\"type\":\"Line\"},{\"attributes\":{\"mantissas\":[1,2,5],\"max_interval\":500.0,\"num_minor_ticks\":0},\"id\":\"5588\",\"type\":\"AdaptiveTicker\"},{\"attributes\":{\"line_color\":\"#30a2da\",\"line_width\":2,\"x\":{\"field\":\"index\"},\"y\":{\"field\":\"value\"}},\"id\":\"5576\",\"type\":\"Line\"},{\"attributes\":{\"source\":{\"id\":\"5573\"}},\"id\":\"5580\",\"type\":\"CDSView\"},{\"attributes\":{\"line_color\":\"#fc4f30\",\"line_width\":2,\"x\":{\"field\":\"index\"},\"y\":{\"field\":\"value\"}},\"id\":\"5639\",\"type\":\"Line\"},{\"attributes\":{\"line_color\":\"#e5ae38\",\"line_width\":2,\"x\":{\"field\":\"index\"},\"y\":{\"field\":\"value\"}},\"id\":\"5643\",\"type\":\"Line\"},{\"attributes\":{\"data_source\":{\"id\":\"5573\"},\"glyph\":{\"id\":\"5576\"},\"hover_glyph\":null,\"muted_glyph\":{\"id\":\"5578\"},\"nonselection_glyph\":{\"id\":\"5577\"},\"selection_glyph\":{\"id\":\"5605\"},\"view\":{\"id\":\"5580\"}},\"id\":\"5579\",\"type\":\"GlyphRenderer\"},{\"attributes\":{\"data_source\":{\"id\":\"5861\"},\"glyph\":{\"id\":\"5864\"},\"hover_glyph\":null,\"muted_glyph\":null,\"nonselection_glyph\":{\"id\":\"5865\"},\"selection_glyph\":{\"id\":\"5868\"},\"view\":{\"id\":\"5867\"}},\"id\":\"5866\",\"type\":\"GlyphRenderer\"},{\"attributes\":{\"end\":2.2330036370156616,\"reset_end\":2.2330036370156616,\"reset_start\":0.7732543597814037,\"start\":0.7732543597814037,\"tags\":[[[\"value\",\"value\",null]]]},\"id\":\"5533\",\"type\":\"Range1d\"},{\"attributes\":{\"line_alpha\":0.1,\"line_color\":\"#e5ae38\",\"line_width\":2,\"x\":{\"field\":\"index\"},\"y\":{\"field\":\"value\"}},\"id\":\"5644\",\"type\":\"Line\"},{\"attributes\":{},\"id\":\"5641\",\"type\":\"Selection\"},{\"attributes\":{\"dimension\":\"height\",\"level\":\"glyph\",\"line_color\":\"gray\",\"line_width\":3,\"location\":1000166400000},\"id\":\"5860\",\"type\":\"Span\"}],\"root_ids\":[\"5530\"]},\"title\":\"Bokeh Application\",\"version\":\"2.3.2\"}};\n",
       "    var render_items = [{\"docid\":\"f5a1d0bd-35a3-4509-a77e-d94ea52eb81e\",\"root_ids\":[\"5530\"],\"roots\":{\"5530\":\"91e596d7-98fe-4a45-af40-373c6d0111d6\"}}];\n",
       "    root.Bokeh.embed.embed_items_notebook(docs_json, render_items);\n",
       "  }\n",
       "  if (root.Bokeh !== undefined && root.Bokeh.Panel !== undefined && root['Plotly'] !== undefined ) {\n",
       "    embed_document(root);\n",
       "  } else {\n",
       "    var attempts = 0;\n",
       "    var timer = setInterval(function(root) {\n",
       "      if (root.Bokeh !== undefined && root.Bokeh.Panel !== undefined && root['Plotly'] !== undefined) {\n",
       "        clearInterval(timer);\n",
       "        embed_document(root);\n",
       "      } else if (document.readyState == \"complete\") {\n",
       "        attempts++;\n",
       "        if (attempts > 100) {\n",
       "          clearInterval(timer);\n",
       "          console.log(\"Bokeh: ERROR: Unable to run BokehJS code because BokehJS library is missing\");\n",
       "        }\n",
       "      }\n",
       "    }, 10, root)\n",
       "  }\n",
       "})(window);</script>"
      ],
      "text/plain": [
       ":Overlay\n",
       "   .NdOverlay.I :NdOverlay   [Variable]\n",
       "      :Curve   [index]   (value)\n",
       "   .VLine.I     :VLine   [x,y]\n",
       "   .Text.I      :Text   [x,y]"
      ]
     },
     "execution_count": 52,
     "metadata": {
      "application/vnd.holoviews_exec.v0+json": {
       "id": "5530"
      }
     },
     "output_type": "execute_result"
    }
   ],
   "source": [
    "sept11_zscorePlot = sept11_zscorePlot_data.hvplot(width=1000, height=500, title=\"Rolling 3 Year Z-Score\") * \\\n",
    "september11_startLine * hv.Text(datetime.datetime(2001, 9, 11), 1.6, \"Sept. 11 \", halign='right')\n",
    "sept11_zscorePlot"
   ]
  },
  {
   "cell_type": "code",
   "execution_count": null,
   "id": "53edfea6-0be0-4e08-8f3e-7b85328da470",
   "metadata": {},
   "outputs": [],
   "source": []
  },
  {
   "cell_type": "markdown",
   "id": "8d4f5e2f-4836-4125-a551-c2c87c00d491",
   "metadata": {},
   "source": [
    "# Analyzing the Financial Crisis:\n",
    "- Financial Crisis: June 2007 - Dec. 31, 2009"
   ]
  },
  {
   "cell_type": "code",
   "execution_count": 43,
   "id": "b0b7bd0e-3b6e-4a60-8007-779eeebb7359",
   "metadata": {},
   "outputs": [
    {
     "data": {
      "text/html": [
       "<div>\n",
       "<style scoped>\n",
       "    .dataframe tbody tr th:only-of-type {\n",
       "        vertical-align: middle;\n",
       "    }\n",
       "\n",
       "    .dataframe tbody tr th {\n",
       "        vertical-align: top;\n",
       "    }\n",
       "\n",
       "    .dataframe thead th {\n",
       "        text-align: right;\n",
       "    }\n",
       "</style>\n",
       "<table border=\"1\" class=\"dataframe\">\n",
       "  <thead>\n",
       "    <tr style=\"text-align: right;\">\n",
       "      <th></th>\n",
       "      <th>M2</th>\n",
       "      <th>Personal Income</th>\n",
       "      <th>Real GDP</th>\n",
       "    </tr>\n",
       "  </thead>\n",
       "  <tbody>\n",
       "    <tr>\n",
       "      <th>2007-06-01</th>\n",
       "      <td>7277.5</td>\n",
       "      <td>13126.842</td>\n",
       "      <td>15577.779</td>\n",
       "    </tr>\n",
       "    <tr>\n",
       "      <th>2007-07-01</th>\n",
       "      <td>7307.8</td>\n",
       "      <td>13135.377</td>\n",
       "      <td>15671.605</td>\n",
       "    </tr>\n",
       "    <tr>\n",
       "      <th>2007-08-01</th>\n",
       "      <td>7384.2</td>\n",
       "      <td>13136.139</td>\n",
       "      <td>15671.605</td>\n",
       "    </tr>\n",
       "    <tr>\n",
       "      <th>2007-09-01</th>\n",
       "      <td>7402.5</td>\n",
       "      <td>13156.905</td>\n",
       "      <td>15671.605</td>\n",
       "    </tr>\n",
       "    <tr>\n",
       "      <th>2007-10-01</th>\n",
       "      <td>7416.1</td>\n",
       "      <td>13145.838</td>\n",
       "      <td>15767.146</td>\n",
       "    </tr>\n",
       "  </tbody>\n",
       "</table>\n",
       "</div>"
      ],
      "text/plain": [
       "                M2  Personal Income   Real GDP\n",
       "2007-06-01  7277.5        13126.842  15577.779\n",
       "2007-07-01  7307.8        13135.377  15671.605\n",
       "2007-08-01  7384.2        13136.139  15671.605\n",
       "2007-09-01  7402.5        13156.905  15671.605\n",
       "2007-10-01  7416.1        13145.838  15767.146"
      ]
     },
     "execution_count": 43,
     "metadata": {},
     "output_type": "execute_result"
    }
   ],
   "source": [
    "# Get relavent data set:\n",
    "financial_crisis_data = all_data['2007-06-01':'2009-12-31']\n",
    "financial_crisis_data.head()"
   ]
  },
  {
   "cell_type": "code",
   "execution_count": 44,
   "id": "3801b0b3-691d-4d5b-9661-228c07eb7d1c",
   "metadata": {},
   "outputs": [
    {
     "data": {
      "text/html": [
       "<div>\n",
       "<style scoped>\n",
       "    .dataframe tbody tr th:only-of-type {\n",
       "        vertical-align: middle;\n",
       "    }\n",
       "\n",
       "    .dataframe tbody tr th {\n",
       "        vertical-align: top;\n",
       "    }\n",
       "\n",
       "    .dataframe thead th {\n",
       "        text-align: right;\n",
       "    }\n",
       "</style>\n",
       "<table border=\"1\" class=\"dataframe\">\n",
       "  <thead>\n",
       "    <tr style=\"text-align: right;\">\n",
       "      <th></th>\n",
       "      <th>M2</th>\n",
       "      <th>Personal Income</th>\n",
       "      <th>Real GDP</th>\n",
       "    </tr>\n",
       "  </thead>\n",
       "  <tbody>\n",
       "    <tr>\n",
       "      <th>M2</th>\n",
       "      <td>1.000000</td>\n",
       "      <td>-0.702618</td>\n",
       "      <td>-0.866976</td>\n",
       "    </tr>\n",
       "    <tr>\n",
       "      <th>Personal Income</th>\n",
       "      <td>-0.702618</td>\n",
       "      <td>1.000000</td>\n",
       "      <td>0.711313</td>\n",
       "    </tr>\n",
       "    <tr>\n",
       "      <th>Real GDP</th>\n",
       "      <td>-0.866976</td>\n",
       "      <td>0.711313</td>\n",
       "      <td>1.000000</td>\n",
       "    </tr>\n",
       "  </tbody>\n",
       "</table>\n",
       "</div>"
      ],
      "text/plain": [
       "                       M2  Personal Income  Real GDP\n",
       "M2               1.000000        -0.702618 -0.866976\n",
       "Personal Income -0.702618         1.000000  0.711313\n",
       "Real GDP        -0.866976         0.711313  1.000000"
      ]
     },
     "execution_count": 44,
     "metadata": {},
     "output_type": "execute_result"
    }
   ],
   "source": [
    "# Find Correlation\n",
    "financial_crisis_corr = financial_crisis_data.corr()\n",
    "financial_crisis_corr"
   ]
  },
  {
   "cell_type": "code",
   "execution_count": 45,
   "id": "b637a6f2-5e59-4e68-b99b-2bfa6af00496",
   "metadata": {},
   "outputs": [
    {
     "data": {
      "text/plain": [
       "[]"
      ]
     },
     "execution_count": 45,
     "metadata": {},
     "output_type": "execute_result"
    },
    {
     "data": {
      "image/png": "[encoded data removed]",
      "text/plain": [
       "<Figure size 432x288 with 2 Axes>"
      ]
     },
     "metadata": {
      "needs_background": "light"
     },
     "output_type": "display_data"
    }
   ],
   "source": [
    "# Display the correlation matrix\n",
    "financial_crisis_corr_chart = sns.heatmap(financial_crisis_corr, annot=True, vmin=-1, vmax=1)\n",
    "financial_crisis_corr_chart.plot()"
   ]
  },
  {
   "cell_type": "code",
   "execution_count": 46,
   "id": "e724e111-994e-4a9b-b614-73ba9ff9ee44",
   "metadata": {},
   "outputs": [
    {
     "data": {},
     "metadata": {},
     "output_type": "display_data"
    },
    {
     "data": {
      "application/vnd.holoviews_exec.v0+json": "",
      "text/html": [
       "<div id='4285'>\n",
       "\n",
       "\n",
       "\n",
       "\n",
       "\n",
       "  <div class=\"bk-root\" id=\"719bef86-96c0-4991-9a4b-1b8dc395b91d\" data-root-id=\"4285\"></div>\n",
       "</div>\n",
       "<script type=\"application/javascript\">(function(root) {\n",
       "  function embed_document(root) {\n",
       "    var docs_json = {\"f8525d6a-41cb-479c-a1f9-e556c498ba04\":{\"defs\":[],\"roots\":{\"references\":[{\"attributes\":{},\"id\":\"4306\",\"type\":\"BasicTicker\"},{\"attributes\":{\"months\":[0,1,2,3,4,5,6,7,8,9,10,11]},\"id\":\"4350\",\"type\":\"MonthsTicker\"},{\"attributes\":{\"months\":[0,6]},\"id\":\"4353\",\"type\":\"MonthsTicker\"},{\"attributes\":{\"axis_label\":\"\",\"formatter\":{\"id\":\"4325\"},\"major_label_policy\":{\"id\":\"4327\"},\"ticker\":{\"id\":\"4306\"}},\"id\":\"4305\",\"type\":\"LinearAxis\"},{\"attributes\":{\"months\":[0,4,8]},\"id\":\"4352\",\"type\":\"MonthsTicker\"},{\"attributes\":{\"axis\":{\"id\":\"4305\"},\"dimension\":1,\"grid_line_color\":null,\"ticker\":null},\"id\":\"4308\",\"type\":\"Grid\"},{\"attributes\":{\"end\":16644.3003,\"reset_end\":16644.3003,\"reset_start\":6425.9727,\"start\":6425.9727,\"tags\":[[[\"value\",\"value\",null]]]},\"id\":\"4288\",\"type\":\"Range1d\"},{\"attributes\":{\"click_policy\":\"mute\",\"items\":[{\"id\":\"4359\"},{\"id\":\"4393\"},{\"id\":\"4429\"}],\"location\":[0,0],\"title\":\"Variable\"},\"id\":\"4358\",\"type\":\"Legend\"},{\"attributes\":{\"source\":{\"id\":\"4328\"}},\"id\":\"4335\",\"type\":\"CDSView\"},{\"attributes\":{},\"id\":\"4354\",\"type\":\"YearsTicker\"},{\"attributes\":{},\"id\":\"4355\",\"type\":\"UnionRenderers\"},{\"attributes\":{\"data_source\":{\"id\":\"4328\"},\"glyph\":{\"id\":\"4331\"},\"hover_glyph\":null,\"muted_glyph\":{\"id\":\"4333\"},\"nonselection_glyph\":{\"id\":\"4332\"},\"selection_glyph\":{\"id\":\"4360\"},\"view\":{\"id\":\"4335\"}},\"id\":\"4334\",\"type\":\"GlyphRenderer\"},{\"attributes\":{\"data\":{\"Variable\":[\"M2\",\"M2\",\"M2\",\"M2\",\"M2\",\"M2\",\"M2\",\"M2\",\"M2\",\"M2\",\"M2\",\"M2\",\"M2\",\"M2\",\"M2\",\"M2\",\"M2\",\"M2\",\"M2\",\"M2\",\"M2\",\"M2\",\"M2\",\"M2\",\"M2\",\"M2\",\"M2\",\"M2\",\"M2\",\"M2\",\"M2\"],\"index\":{\"__ndarray__\":\"AADATUkucUIAAEA68TdxQgAAgIzrQXFCAADA3uVLcUIAAEDLjVVxQgAAgB2IX3FCAAAACjBpcUIAAEBcKnNxQgAAgK4kfXFCAABANXqGcUIAAICHdJBxQgAAAHQcmnFCAABAxhakcUIAAMCyvq1xQgAAAAW5t3FCAABAV7PBcUIAAMBDW8txQgAAAJZV1XFCAACAgv3ecUIAAMDU9+hxQgAAACfy8nFCAAAASPX7cUIAAECa7wVyQgAAwIaXD3JCAAAA2ZEZckIAAIDFOSNyQgAAwBc0LXJCAAAAai43ckIAAIBW1kByQgAAwKjQSnJCAABAlXhUckI=\",\"dtype\":\"float64\",\"order\":\"little\",\"shape\":[31]},\"value\":{\"__ndarray__\":\"AAAAAIBtvEDNzMzMzIu8QDMzMzMz2LxAAAAAAIDqvECamZmZGfi8QAAAAAAAEb1AmpmZmRkvvUDNzMzMzFC9QAAAAACApb1AzczMzEznvUAzMzMzMxK+QM3MzMxMHr5AzczMzMwvvkAzMzMzM16+QDMzMzMzbb5AmpmZmRmzvkAzMzMzMx+/QGZmZmbmUb9AzczMzAwBwEBmZmZmpinAQAAAAABAOMBAMzMzMzNZwECamZmZ2VrAQDMzMzOzd8BAMzMzM3N8wEBmZmZm5n7AQDMzMzOzfsBAzczMzEx+wEAAAAAAwIvAQM3MzMzMmsBAMzMzMzOYwEA=\",\"dtype\":\"float64\",\"order\":\"little\",\"shape\":[31]}},\"selected\":{\"id\":\"4329\"},\"selection_policy\":{\"id\":\"4355\"}},\"id\":\"4328\",\"type\":\"ColumnDataSource\"},{\"attributes\":{\"active_multi\":null,\"tools\":[{\"id\":\"4289\"},{\"id\":\"4309\"},{\"id\":\"4310\"},{\"id\":\"4311\"},{\"id\":\"4312\"},{\"id\":\"4313\"}]},\"id\":\"4315\",\"type\":\"Toolbar\"},{\"attributes\":{\"days\":[1,4,7,10,13,16,19,22,25,28]},\"id\":\"4347\",\"type\":\"DaysTicker\"},{\"attributes\":{\"days\":[1,8,15,22]},\"id\":\"4348\",\"type\":\"DaysTicker\"},{\"attributes\":{},\"id\":\"4396\",\"type\":\"Selection\"},{\"attributes\":{\"line_color\":\"#e5ae38\",\"line_width\":2,\"x\":{\"field\":\"index\"},\"y\":{\"field\":\"value\"}},\"id\":\"4430\",\"type\":\"Line\"},{\"attributes\":{},\"id\":\"4309\",\"type\":\"SaveTool\"},{\"attributes\":{\"num_minor_ticks\":5,\"tickers\":[{\"id\":\"4343\"},{\"id\":\"4344\"},{\"id\":\"4345\"},{\"id\":\"4346\"},{\"id\":\"4347\"},{\"id\":\"4348\"},{\"id\":\"4349\"},{\"id\":\"4350\"},{\"id\":\"4351\"},{\"id\":\"4352\"},{\"id\":\"4353\"},{\"id\":\"4354\"}]},\"id\":\"4302\",\"type\":\"DatetimeTicker\"},{\"attributes\":{\"label\":{\"value\":\"M2\"},\"renderers\":[{\"id\":\"4334\"}]},\"id\":\"4359\",\"type\":\"LegendItem\"},{\"attributes\":{},\"id\":\"4310\",\"type\":\"PanTool\"},{\"attributes\":{\"days\":[1,15]},\"id\":\"4349\",\"type\":\"DaysTicker\"},{\"attributes\":{},\"id\":\"4313\",\"type\":\"ResetTool\"},{\"attributes\":{\"line_alpha\":0.1,\"line_color\":\"#30a2da\",\"line_width\":2,\"x\":{\"field\":\"index\"},\"y\":{\"field\":\"value\"}},\"id\":\"4332\",\"type\":\"Line\"},{\"attributes\":{},\"id\":\"4311\",\"type\":\"WheelZoomTool\"},{\"attributes\":{\"line_alpha\":0.2,\"line_color\":\"#30a2da\",\"line_width\":2,\"x\":{\"field\":\"index\"},\"y\":{\"field\":\"value\"}},\"id\":\"4333\",\"type\":\"Line\"},{\"attributes\":{\"overlay\":{\"id\":\"4314\"}},\"id\":\"4312\",\"type\":\"BoxZoomTool\"},{\"attributes\":{\"line_alpha\":0.2,\"line_color\":\"#e5ae38\",\"line_width\":2,\"x\":{\"field\":\"index\"},\"y\":{\"field\":\"value\"}},\"id\":\"4400\",\"type\":\"Line\"},{\"attributes\":{\"line_color\":\"#fc4f30\",\"line_width\":2,\"x\":{\"field\":\"index\"},\"y\":{\"field\":\"value\"}},\"id\":\"4394\",\"type\":\"Line\"},{\"attributes\":{\"margin\":[5,5,5,5],\"name\":\"HSpacer06767\",\"sizing_mode\":\"stretch_width\"},\"id\":\"4286\",\"type\":\"Spacer\"},{\"attributes\":{\"line_color\":\"#30a2da\",\"line_width\":2,\"x\":{\"field\":\"index\"},\"y\":{\"field\":\"value\"}},\"id\":\"4360\",\"type\":\"Line\"},{\"attributes\":{\"axis\":{\"id\":\"4301\"},\"grid_line_color\":null,\"ticker\":null},\"id\":\"4304\",\"type\":\"Grid\"},{\"attributes\":{},\"id\":\"4325\",\"type\":\"BasicTickFormatter\"},{\"attributes\":{},\"id\":\"4362\",\"type\":\"Selection\"},{\"attributes\":{\"line_color\":\"#fc4f30\",\"line_width\":2,\"x\":{\"field\":\"index\"},\"y\":{\"field\":\"value\"}},\"id\":\"4364\",\"type\":\"Line\"},{\"attributes\":{\"line_color\":\"#e5ae38\",\"line_width\":2,\"x\":{\"field\":\"index\"},\"y\":{\"field\":\"value\"}},\"id\":\"4398\",\"type\":\"Line\"},{\"attributes\":{\"mantissas\":[1,2,5],\"max_interval\":500.0,\"num_minor_ticks\":0},\"id\":\"4343\",\"type\":\"AdaptiveTicker\"},{\"attributes\":{\"base\":24,\"mantissas\":[1,2,4,6,8,12],\"max_interval\":43200000.0,\"min_interval\":3600000.0,\"num_minor_ticks\":0},\"id\":\"4345\",\"type\":\"AdaptiveTicker\"},{\"attributes\":{\"days\":[1,2,3,4,5,6,7,8,9,10,11,12,13,14,15,16,17,18,19,20,21,22,23,24,25,26,27,28,29,30,31]},\"id\":\"4346\",\"type\":\"DaysTicker\"},{\"attributes\":{\"source\":{\"id\":\"4395\"}},\"id\":\"4402\",\"type\":\"CDSView\"},{\"attributes\":{},\"id\":\"4324\",\"type\":\"AllLabels\"},{\"attributes\":{\"base\":60,\"mantissas\":[1,2,5,10,15,20,30],\"max_interval\":1800000.0,\"min_interval\":1000.0,\"num_minor_ticks\":0},\"id\":\"4344\",\"type\":\"AdaptiveTicker\"},{\"attributes\":{\"data\":{\"Variable\":[\"Real GDP\",\"Real GDP\",\"Real GDP\",\"Real GDP\",\"Real GDP\",\"Real GDP\",\"Real GDP\",\"Real GDP\",\"Real GDP\",\"Real GDP\",\"Real GDP\",\"Real GDP\",\"Real GDP\",\"Real GDP\",\"Real GDP\",\"Real GDP\",\"Real GDP\",\"Real GDP\",\"Real GDP\",\"Real GDP\",\"Real GDP\",\"Real GDP\",\"Real GDP\",\"Real GDP\",\"Real GDP\",\"Real GDP\",\"Real GDP\",\"Real GDP\",\"Real GDP\",\"Real GDP\",\"Real GDP\"],\"index\":{\"__ndarray__\":\"AADATUkucUIAAEA68TdxQgAAgIzrQXFCAADA3uVLcUIAAEDLjVVxQgAAgB2IX3FCAAAACjBpcUIAAEBcKnNxQgAAgK4kfXFCAABANXqGcUIAAICHdJBxQgAAAHQcmnFCAABAxhakcUIAAMCyvq1xQgAAAAW5t3FCAABAV7PBcUIAAMBDW8txQgAAAJZV1XFCAACAgv3ecUIAAMDU9+hxQgAAACfy8nFCAAAASPX7cUIAAECa7wVyQgAAwIaXD3JCAAAA2ZEZckIAAIDFOSNyQgAAwBc0LXJCAAAAai43ckIAAIBW1kByQgAAwKjQSnJCAABAlXhUckI=\",\"dtype\":\"float64\",\"order\":\"little\",\"shape\":[31]},\"value\":{\"__ndarray__\":\"y6FFtuNszkAK16NwzZvOQArXo3DNm85ACtejcM2bzkCcxCCwksvOQJzEILCSy85AnMQgsJLLzkAX2c73c6vOQBfZzvdzq85AF9nO93OrzkDn+6nxYtjOQOf7qfFi2M5A5/up8WLYzkAtsp3vx67OQC2yne/Hrs5ALbKd78euzkBWDi2yTQPOQFYOLbJNA85AVg4tsk0DzkDNzMzMvKnNQM3MzMy8qc1AzczMzLypzUBCYOXQ4pzNQEJg5dDinM1AQmDl0OKczUBCYOXQUrjNQEJg5dBSuM1AQmDl0FK4zUBxPQrXkwnOQHE9CteTCc5AcT0K15MJzkA=\",\"dtype\":\"float64\",\"order\":\"little\",\"shape\":[31]}},\"selected\":{\"id\":\"4396\"},\"selection_policy\":{\"id\":\"4426\"}},\"id\":\"4395\",\"type\":\"ColumnDataSource\"},{\"attributes\":{\"bottom_units\":\"screen\",\"fill_alpha\":0.5,\"fill_color\":\"lightgrey\",\"left_units\":\"screen\",\"level\":\"overlay\",\"line_alpha\":1.0,\"line_color\":\"black\",\"line_dash\":[4,4],\"line_width\":2,\"right_units\":\"screen\",\"syncable\":false,\"top_units\":\"screen\"},\"id\":\"4314\",\"type\":\"BoxAnnotation\"},{\"attributes\":{\"source\":{\"id\":\"4361\"}},\"id\":\"4368\",\"type\":\"CDSView\"},{\"attributes\":{},\"id\":\"4426\",\"type\":\"UnionRenderers\"},{\"attributes\":{\"line_alpha\":0.2,\"line_color\":\"#fc4f30\",\"line_width\":2,\"x\":{\"field\":\"index\"},\"y\":{\"field\":\"value\"}},\"id\":\"4366\",\"type\":\"Line\"},{\"attributes\":{},\"id\":\"4322\",\"type\":\"DatetimeTickFormatter\"},{\"attributes\":{},\"id\":\"4299\",\"type\":\"LinearScale\"},{\"attributes\":{\"below\":[{\"id\":\"4301\"}],\"center\":[{\"id\":\"4304\"},{\"id\":\"4308\"}],\"height\":500,\"left\":[{\"id\":\"4305\"}],\"margin\":[5,5,5,5],\"min_border_bottom\":10,\"min_border_left\":10,\"min_border_right\":10,\"min_border_top\":10,\"renderers\":[{\"id\":\"4334\"},{\"id\":\"4367\"},{\"id\":\"4401\"}],\"right\":[{\"id\":\"4358\"}],\"sizing_mode\":\"fixed\",\"title\":{\"id\":\"4293\"},\"toolbar\":{\"id\":\"4315\"},\"width\":1000,\"x_range\":{\"id\":\"4287\"},\"x_scale\":{\"id\":\"4297\"},\"y_range\":{\"id\":\"4288\"},\"y_scale\":{\"id\":\"4299\"}},\"id\":\"4292\",\"subtype\":\"Figure\",\"type\":\"Plot\"},{\"attributes\":{\"data\":{\"Variable\":[\"Personal Income\",\"Personal Income\",\"Personal Income\",\"Personal Income\",\"Personal Income\",\"Personal Income\",\"Personal Income\",\"Personal Income\",\"Personal Income\",\"Personal Income\",\"Personal Income\",\"Personal Income\",\"Personal Income\",\"Personal Income\",\"Personal Income\",\"Personal Income\",\"Personal Income\",\"Personal Income\",\"Personal Income\",\"Personal Income\",\"Personal Income\",\"Personal Income\",\"Personal Income\",\"Personal Income\",\"Personal Income\",\"Personal Income\",\"Personal Income\",\"Personal Income\",\"Personal Income\",\"Personal Income\",\"Personal Income\"],\"index\":{\"__ndarray__\":\"AADATUkucUIAAEA68TdxQgAAgIzrQXFCAADA3uVLcUIAAEDLjVVxQgAAgB2IX3FCAAAACjBpcUIAAEBcKnNxQgAAgK4kfXFCAABANXqGcUIAAICHdJBxQgAAAHQcmnFCAABAxhakcUIAAMCyvq1xQgAAAAW5t3FCAABAV7PBcUIAAMBDW8txQgAAAJZV1XFCAACAgv3ecUIAAMDU9+hxQgAAACfy8nFCAAAASPX7cUIAAECa7wVyQgAAwIaXD3JCAAAA2ZEZckIAAIDFOSNyQgAAwBc0LXJCAAAAai43ckIAAIBW1kByQgAAwKjQSnJCAABAlXhUckI=\",\"dtype\":\"float64\",\"order\":\"little\",\"shape\":[31]},\"value\":{\"__ndarray__\":\"nu+nxmujyUBMN4lBsKfJQBKDwMoRqMlAcT0K13OyyUAGgZVD66zJQDeJQWD1p8lAsHJokd2/yUDwp8ZLR8DJQEjhehQOwslARrbz/cTGyUD2KFyPMrPJQEa28/2Ex8pARrbz/dQhykBMN4lBkLTJQE5iEFjpiclAqMZLN1mNyUB56SYxyLjJQESLbOcr5slAWDm0yGa5yUBkO99PDXnJQKRwPQoXK8lABFYOLXIYyUA730+NxyPJQAAAAABAdslARrbz/XQGyUAbL90kpu7IQI/C9Shc48hA30+Nl77zyEAv3SQGQeDIQMl2vp+68chAPQrXo/APyUA=\",\"dtype\":\"float64\",\"order\":\"little\",\"shape\":[31]}},\"selected\":{\"id\":\"4362\"},\"selection_policy\":{\"id\":\"4390\"}},\"id\":\"4361\",\"type\":\"ColumnDataSource\"},{\"attributes\":{\"data_source\":{\"id\":\"4361\"},\"glyph\":{\"id\":\"4364\"},\"hover_glyph\":null,\"muted_glyph\":{\"id\":\"4366\"},\"nonselection_glyph\":{\"id\":\"4365\"},\"selection_glyph\":{\"id\":\"4394\"},\"view\":{\"id\":\"4368\"}},\"id\":\"4367\",\"type\":\"GlyphRenderer\"},{\"attributes\":{\"data_source\":{\"id\":\"4395\"},\"glyph\":{\"id\":\"4398\"},\"hover_glyph\":null,\"muted_glyph\":{\"id\":\"4400\"},\"nonselection_glyph\":{\"id\":\"4399\"},\"selection_glyph\":{\"id\":\"4430\"},\"view\":{\"id\":\"4402\"}},\"id\":\"4401\",\"type\":\"GlyphRenderer\"},{\"attributes\":{\"line_alpha\":0.1,\"line_color\":\"#e5ae38\",\"line_width\":2,\"x\":{\"field\":\"index\"},\"y\":{\"field\":\"value\"}},\"id\":\"4399\",\"type\":\"Line\"},{\"attributes\":{\"line_color\":\"#30a2da\",\"line_width\":2,\"x\":{\"field\":\"index\"},\"y\":{\"field\":\"value\"}},\"id\":\"4331\",\"type\":\"Line\"},{\"attributes\":{\"line_alpha\":0.1,\"line_color\":\"#fc4f30\",\"line_width\":2,\"x\":{\"field\":\"index\"},\"y\":{\"field\":\"value\"}},\"id\":\"4365\",\"type\":\"Line\"},{\"attributes\":{},\"id\":\"4327\",\"type\":\"AllLabels\"},{\"attributes\":{},\"id\":\"4329\",\"type\":\"Selection\"},{\"attributes\":{\"label\":{\"value\":\"Real GDP\"},\"renderers\":[{\"id\":\"4401\"}]},\"id\":\"4429\",\"type\":\"LegendItem\"},{\"attributes\":{\"callback\":null,\"formatters\":{\"@{index}\":\"datetime\"},\"renderers\":[{\"id\":\"4334\"},{\"id\":\"4367\"},{\"id\":\"4401\"}],\"tags\":[\"hv_created\"],\"tooltips\":[[\"Variable\",\"@{Variable}\"],[\"index\",\"@{index}{%F %T}\"],[\"value\",\"@{value}\"]]},\"id\":\"4289\",\"type\":\"HoverTool\"},{\"attributes\":{\"text\":\"Financial Crisis\",\"text_color\":\"black\",\"text_font_size\":\"12pt\"},\"id\":\"4293\",\"type\":\"Title\"},{\"attributes\":{\"margin\":[5,5,5,5],\"name\":\"HSpacer06768\",\"sizing_mode\":\"stretch_width\"},\"id\":\"4665\",\"type\":\"Spacer\"},{\"attributes\":{},\"id\":\"4297\",\"type\":\"LinearScale\"},{\"attributes\":{\"end\":1259625600000.0,\"reset_end\":1259625600000.0,\"reset_start\":1180656000000.0,\"start\":1180656000000.0,\"tags\":[[[\"index\",\"index\",null]]]},\"id\":\"4287\",\"type\":\"Range1d\"},{\"attributes\":{},\"id\":\"4390\",\"type\":\"UnionRenderers\"},{\"attributes\":{\"children\":[{\"id\":\"4286\"},{\"id\":\"4292\"},{\"id\":\"4665\"}],\"margin\":[0,0,0,0],\"name\":\"Row06763\",\"tags\":[\"embedded\"]},\"id\":\"4285\",\"type\":\"Row\"},{\"attributes\":{\"axis_label\":\"\",\"formatter\":{\"id\":\"4322\"},\"major_label_policy\":{\"id\":\"4324\"},\"ticker\":{\"id\":\"4302\"}},\"id\":\"4301\",\"type\":\"DatetimeAxis\"},{\"attributes\":{\"months\":[0,2,4,6,8,10]},\"id\":\"4351\",\"type\":\"MonthsTicker\"},{\"attributes\":{\"label\":{\"value\":\"Personal Income\"},\"renderers\":[{\"id\":\"4367\"}]},\"id\":\"4393\",\"type\":\"LegendItem\"}],\"root_ids\":[\"4285\"]},\"title\":\"Bokeh Application\",\"version\":\"2.3.2\"}};\n",
       "    var render_items = [{\"docid\":\"f8525d6a-41cb-479c-a1f9-e556c498ba04\",\"root_ids\":[\"4285\"],\"roots\":{\"4285\":\"719bef86-96c0-4991-9a4b-1b8dc395b91d\"}}];\n",
       "    root.Bokeh.embed.embed_items_notebook(docs_json, render_items);\n",
       "  }\n",
       "  if (root.Bokeh !== undefined && root.Bokeh.Panel !== undefined && root['Plotly'] !== undefined ) {\n",
       "    embed_document(root);\n",
       "  } else {\n",
       "    var attempts = 0;\n",
       "    var timer = setInterval(function(root) {\n",
       "      if (root.Bokeh !== undefined && root.Bokeh.Panel !== undefined && root['Plotly'] !== undefined) {\n",
       "        clearInterval(timer);\n",
       "        embed_document(root);\n",
       "      } else if (document.readyState == \"complete\") {\n",
       "        attempts++;\n",
       "        if (attempts > 100) {\n",
       "          clearInterval(timer);\n",
       "          console.log(\"Bokeh: ERROR: Unable to run BokehJS code because BokehJS library is missing\");\n",
       "        }\n",
       "      }\n",
       "    }, 10, root)\n",
       "  }\n",
       "})(window);</script>"
      ],
      "text/plain": [
       ":NdOverlay   [Variable]\n",
       "   :Curve   [index]   (value)"
      ]
     },
     "execution_count": 46,
     "metadata": {
      "application/vnd.holoviews_exec.v0+json": {
       "id": "4285"
      }
     },
     "output_type": "execute_result"
    }
   ],
   "source": [
    "financial_crisis_plot = financial_crisis_data.hvplot(width=1000, height=500, title = 'Financial Crisis')\n",
    "financial_crisis_plot"
   ]
  },
  {
   "cell_type": "markdown",
   "id": "7be7d5be-e20a-459b-8bc9-d88aacc8dd5f",
   "metadata": {},
   "source": [
    "### Plot Z-Score during the Financial Crisis:"
   ]
  },
  {
   "cell_type": "code",
   "execution_count": 91,
   "id": "1082632d-3617-4640-b3d4-767c620ed9fb",
   "metadata": {},
   "outputs": [
    {
     "data": {
      "text/html": [
       "<div>\n",
       "<style scoped>\n",
       "    .dataframe tbody tr th:only-of-type {\n",
       "        vertical-align: middle;\n",
       "    }\n",
       "\n",
       "    .dataframe tbody tr th {\n",
       "        vertical-align: top;\n",
       "    }\n",
       "\n",
       "    .dataframe thead th {\n",
       "        text-align: right;\n",
       "    }\n",
       "</style>\n",
       "<table border=\"1\" class=\"dataframe\">\n",
       "  <thead>\n",
       "    <tr style=\"text-align: right;\">\n",
       "      <th></th>\n",
       "      <th>M2 Z-Score</th>\n",
       "      <th>Personal Inc Z-Score</th>\n",
       "      <th>GDP Z-Score</th>\n",
       "    </tr>\n",
       "  </thead>\n",
       "  <tbody>\n",
       "    <tr>\n",
       "      <th>2007-06-01</th>\n",
       "      <td>1.842983</td>\n",
       "      <td>1.544584</td>\n",
       "      <td>1.412917</td>\n",
       "    </tr>\n",
       "    <tr>\n",
       "      <th>2007-07-01</th>\n",
       "      <td>1.817453</td>\n",
       "      <td>1.481273</td>\n",
       "      <td>1.600045</td>\n",
       "    </tr>\n",
       "    <tr>\n",
       "      <th>2007-08-01</th>\n",
       "      <td>1.923012</td>\n",
       "      <td>1.404425</td>\n",
       "      <td>1.533351</td>\n",
       "    </tr>\n",
       "    <tr>\n",
       "      <th>2007-09-01</th>\n",
       "      <td>1.845945</td>\n",
       "      <td>1.380718</td>\n",
       "      <td>1.480194</td>\n",
       "    </tr>\n",
       "    <tr>\n",
       "      <th>2007-10-01</th>\n",
       "      <td>1.764423</td>\n",
       "      <td>1.287467</td>\n",
       "      <td>1.678950</td>\n",
       "    </tr>\n",
       "  </tbody>\n",
       "</table>\n",
       "</div>"
      ],
      "text/plain": [
       "            M2 Z-Score  Personal Inc Z-Score  GDP Z-Score\n",
       "2007-06-01    1.842983              1.544584     1.412917\n",
       "2007-07-01    1.817453              1.481273     1.600045\n",
       "2007-08-01    1.923012              1.404425     1.533351\n",
       "2007-09-01    1.845945              1.380718     1.480194\n",
       "2007-10-01    1.764423              1.287467     1.678950"
      ]
     },
     "execution_count": 91,
     "metadata": {},
     "output_type": "execute_result"
    }
   ],
   "source": [
    "Financial_Crisis_zscorePlot_data = rolling_zScore['2007-06-01':'2009-12-31']\n",
    "Financial_Crisis_zscorePlot_data.head()"
   ]
  },
  {
   "cell_type": "code",
   "execution_count": 93,
   "id": "68f43220-a019-47aa-b501-8c7d24fc7653",
   "metadata": {
    "tags": []
   },
   "outputs": [
    {
     "data": {},
     "metadata": {},
     "output_type": "display_data"
    },
    {
     "data": {
      "application/vnd.holoviews_exec.v0+json": "",
      "text/html": [
       "<div id='7512'>\n",
       "\n",
       "\n",
       "\n",
       "\n",
       "\n",
       "  <div class=\"bk-root\" id=\"1173a908-9d3d-4d97-953d-3ba0e5bd5bdc\" data-root-id=\"7512\"></div>\n",
       "</div>\n",
       "<script type=\"application/javascript\">(function(root) {\n",
       "  function embed_document(root) {\n",
       "    var docs_json = {\"38fe3816-3602-43ae-a5ed-32b4c175efa0\":{\"defs\":[],\"roots\":{\"references\":[{\"attributes\":{\"data\":{\"Variable\":[\"M2 Z-Score\",\"M2 Z-Score\",\"M2 Z-Score\",\"M2 Z-Score\",\"M2 Z-Score\",\"M2 Z-Score\",\"M2 Z-Score\",\"M2 Z-Score\",\"M2 Z-Score\",\"M2 Z-Score\",\"M2 Z-Score\",\"M2 Z-Score\",\"M2 Z-Score\",\"M2 Z-Score\",\"M2 Z-Score\",\"M2 Z-Score\",\"M2 Z-Score\",\"M2 Z-Score\",\"M2 Z-Score\",\"M2 Z-Score\",\"M2 Z-Score\",\"M2 Z-Score\",\"M2 Z-Score\",\"M2 Z-Score\",\"M2 Z-Score\",\"M2 Z-Score\",\"M2 Z-Score\",\"M2 Z-Score\",\"M2 Z-Score\",\"M2 Z-Score\",\"M2 Z-Score\"],\"index\":{\"__ndarray__\":\"AADATUkucUIAAEA68TdxQgAAgIzrQXFCAADA3uVLcUIAAEDLjVVxQgAAgB2IX3FCAAAACjBpcUIAAEBcKnNxQgAAgK4kfXFCAABANXqGcUIAAICHdJBxQgAAAHQcmnFCAABAxhakcUIAAMCyvq1xQgAAAAW5t3FCAABAV7PBcUIAAMBDW8txQgAAAJZV1XFCAACAgv3ecUIAAMDU9+hxQgAAACfy8nFCAAAASPX7cUIAAECa7wVyQgAAwIaXD3JCAAAA2ZEZckIAAIDFOSNyQgAAwBc0LXJCAAAAai43ckIAAIBW1kByQgAAwKjQSnJCAABAlXhUckI=\",\"dtype\":\"float64\",\"order\":\"little\",\"shape\":[31]},\"value\":{\"__ndarray__\":\"jDEUzNt8/T9OuJiRSRT9P77JEMOnxP4/mWr4Yf2I/T+E6twgEzv8P6S7LLfujvs/lM1SxsQt+z/YmPrxlwL7P2XsoV/B+vw/u+U6rOPk/T9VmL7MW8L9P01YHjStcPw/MT2nIFx6+z9xBlOFU7z7P2RT16LBu/o/3v9jZMXs+z81mlTUe1H+P7C77EmbQP4/WCBCzNI3AUDy7PmytkEBQHHfP5s7bQBAjbfPNixKAECqCqYVA2b+PzJc5+7xLv4/47NzyO+K/D8KUwQi1PT6P/A/2/CmZfk/yhh0y7T+9z/i0obZZIn3P5oIROEGOfc/m36FzFze9T8=\",\"dtype\":\"float64\",\"order\":\"little\",\"shape\":[31]}},\"selected\":{\"id\":\"7556\"},\"selection_policy\":{\"id\":\"7582\"}},\"id\":\"7555\",\"type\":\"ColumnDataSource\"},{\"attributes\":{\"mantissas\":[1,2,5],\"max_interval\":500.0,\"num_minor_ticks\":0},\"id\":\"7570\",\"type\":\"AdaptiveTicker\"},{\"attributes\":{},\"id\":\"7589\",\"type\":\"Selection\"},{\"attributes\":{\"margin\":[5,5,5,5],\"name\":\"HSpacer10669\",\"sizing_mode\":\"stretch_width\"},\"id\":\"7513\",\"type\":\"Spacer\"},{\"attributes\":{\"end\":2.761424834628768,\"reset_end\":2.761424834628768,\"reset_start\":-2.1785806345233985,\"start\":-2.1785806345233985,\"tags\":[[[\"value\",\"value\",null]]]},\"id\":\"7515\",\"type\":\"Range1d\"},{\"attributes\":{\"line_color\":\"#e5ae38\",\"line_width\":2,\"x\":{\"field\":\"index\"},\"y\":{\"field\":\"value\"}},\"id\":\"7657\",\"type\":\"Line\"},{\"attributes\":{\"line_alpha\":0.2,\"line_color\":\"#e5ae38\",\"line_width\":2,\"x\":{\"field\":\"index\"},\"y\":{\"field\":\"value\"}},\"id\":\"7627\",\"type\":\"Line\"},{\"attributes\":{},\"id\":\"7582\",\"type\":\"UnionRenderers\"},{\"attributes\":{\"bottom_units\":\"screen\",\"fill_alpha\":0.5,\"fill_color\":\"lightgrey\",\"left_units\":\"screen\",\"level\":\"overlay\",\"line_alpha\":1.0,\"line_color\":\"black\",\"line_dash\":[4,4],\"line_width\":2,\"right_units\":\"screen\",\"syncable\":false,\"top_units\":\"screen\"},\"id\":\"7541\",\"type\":\"BoxAnnotation\"},{\"attributes\":{\"line_alpha\":0.1,\"line_color\":\"#fc4f30\",\"line_width\":2,\"x\":{\"field\":\"index\"},\"y\":{\"field\":\"value\"}},\"id\":\"7592\",\"type\":\"Line\"},{\"attributes\":{\"data_source\":{\"id\":\"7622\"},\"glyph\":{\"id\":\"7625\"},\"hover_glyph\":null,\"muted_glyph\":{\"id\":\"7627\"},\"nonselection_glyph\":{\"id\":\"7626\"},\"selection_glyph\":{\"id\":\"7657\"},\"view\":{\"id\":\"7629\"}},\"id\":\"7628\",\"type\":\"GlyphRenderer\"},{\"attributes\":{},\"id\":\"7536\",\"type\":\"SaveTool\"},{\"attributes\":{},\"id\":\"7537\",\"type\":\"PanTool\"},{\"attributes\":{},\"id\":\"7554\",\"type\":\"AllLabels\"},{\"attributes\":{\"line_color\":\"#30a2da\",\"line_width\":2,\"x\":{\"field\":\"index\"},\"y\":{\"field\":\"value\"}},\"id\":\"7558\",\"type\":\"Line\"},{\"attributes\":{},\"id\":\"7653\",\"type\":\"UnionRenderers\"},{\"attributes\":{\"source\":{\"id\":\"7622\"}},\"id\":\"7629\",\"type\":\"CDSView\"},{\"attributes\":{},\"id\":\"7556\",\"type\":\"Selection\"},{\"attributes\":{\"days\":[1,2,3,4,5,6,7,8,9,10,11,12,13,14,15,16,17,18,19,20,21,22,23,24,25,26,27,28,29,30,31]},\"id\":\"7573\",\"type\":\"DaysTicker\"},{\"attributes\":{\"end\":1259625600000.0,\"reset_end\":1259625600000.0,\"reset_start\":1180656000000.0,\"start\":1180656000000.0,\"tags\":[[[\"index\",\"index\",null]]]},\"id\":\"7514\",\"type\":\"Range1d\"},{\"attributes\":{\"label\":{\"value\":\"Personal Inc Z-Score\"},\"renderers\":[{\"id\":\"7594\"}]},\"id\":\"7620\",\"type\":\"LegendItem\"},{\"attributes\":{\"base\":24,\"mantissas\":[1,2,4,6,8,12],\"max_interval\":43200000.0,\"min_interval\":3600000.0,\"num_minor_ticks\":0},\"id\":\"7572\",\"type\":\"AdaptiveTicker\"},{\"attributes\":{\"below\":[{\"id\":\"7528\"}],\"center\":[{\"id\":\"7531\"},{\"id\":\"7535\"}],\"height\":500,\"left\":[{\"id\":\"7532\"}],\"margin\":[5,5,5,5],\"min_border_bottom\":10,\"min_border_left\":10,\"min_border_right\":10,\"min_border_top\":10,\"renderers\":[{\"id\":\"7561\"},{\"id\":\"7594\"},{\"id\":\"7628\"},{\"id\":\"7842\"}],\"right\":[{\"id\":\"7585\"}],\"sizing_mode\":\"fixed\",\"title\":{\"id\":\"7520\"},\"toolbar\":{\"id\":\"7542\"},\"width\":1000,\"x_range\":{\"id\":\"7514\"},\"x_scale\":{\"id\":\"7524\"},\"y_range\":{\"id\":\"7515\"},\"y_scale\":{\"id\":\"7526\"}},\"id\":\"7519\",\"subtype\":\"Figure\",\"type\":\"Plot\"},{\"attributes\":{\"line_alpha\":0.2,\"line_color\":\"#fc4f30\",\"line_width\":2,\"x\":{\"field\":\"index\"},\"y\":{\"field\":\"value\"}},\"id\":\"7593\",\"type\":\"Line\"},{\"attributes\":{\"base\":60,\"mantissas\":[1,2,5,10,15,20,30],\"max_interval\":1800000.0,\"min_interval\":1000.0,\"num_minor_ticks\":0},\"id\":\"7571\",\"type\":\"AdaptiveTicker\"},{\"attributes\":{\"data_source\":{\"id\":\"7588\"},\"glyph\":{\"id\":\"7591\"},\"hover_glyph\":null,\"muted_glyph\":{\"id\":\"7593\"},\"nonselection_glyph\":{\"id\":\"7592\"},\"selection_glyph\":{\"id\":\"7621\"},\"view\":{\"id\":\"7595\"}},\"id\":\"7594\",\"type\":\"GlyphRenderer\"},{\"attributes\":{\"line_color\":\"#fc4f30\",\"line_width\":2,\"x\":{\"field\":\"index\"},\"y\":{\"field\":\"value\"}},\"id\":\"7591\",\"type\":\"Line\"},{\"attributes\":{\"days\":[1,4,7,10,13,16,19,22,25,28]},\"id\":\"7574\",\"type\":\"DaysTicker\"},{\"attributes\":{},\"id\":\"7549\",\"type\":\"DatetimeTickFormatter\"},{\"attributes\":{\"data\":{\"Variable\":[\"Personal Inc Z-Score\",\"Personal Inc Z-Score\",\"Personal Inc Z-Score\",\"Personal Inc Z-Score\",\"Personal Inc Z-Score\",\"Personal Inc Z-Score\",\"Personal Inc Z-Score\",\"Personal Inc Z-Score\",\"Personal Inc Z-Score\",\"Personal Inc Z-Score\",\"Personal Inc Z-Score\",\"Personal Inc Z-Score\",\"Personal Inc Z-Score\",\"Personal Inc Z-Score\",\"Personal Inc Z-Score\",\"Personal Inc Z-Score\",\"Personal Inc Z-Score\",\"Personal Inc Z-Score\",\"Personal Inc Z-Score\",\"Personal Inc Z-Score\",\"Personal Inc Z-Score\",\"Personal Inc Z-Score\",\"Personal Inc Z-Score\",\"Personal Inc Z-Score\",\"Personal Inc Z-Score\",\"Personal Inc Z-Score\",\"Personal Inc Z-Score\",\"Personal Inc Z-Score\",\"Personal Inc Z-Score\",\"Personal Inc Z-Score\",\"Personal Inc Z-Score\"],\"index\":{\"__ndarray__\":\"AADATUkucUIAAEA68TdxQgAAgIzrQXFCAADA3uVLcUIAAEDLjVVxQgAAgB2IX3FCAAAACjBpcUIAAEBcKnNxQgAAgK4kfXFCAABANXqGcUIAAICHdJBxQgAAAHQcmnFCAABAxhakcUIAAMCyvq1xQgAAAAW5t3FCAABAV7PBcUIAAMBDW8txQgAAAJZV1XFCAACAgv3ecUIAAMDU9+hxQgAAACfy8nFCAAAASPX7cUIAAECa7wVyQgAAwIaXD3JCAAAA2ZEZckIAAIDFOSNyQgAAwBc0LXJCAAAAai43ckIAAIBW1kByQgAAwKjQSnJCAABAlXhUckI=\",\"dtype\":\"float64\",\"order\":\"little\",\"shape\":[31]},\"value\":{\"__ndarray__\":\"vv3jz522+D8m7lxBS7P3P08mJqiGePY/G2OqMGwX9j/4qXjMdpn0PyN9NmQLU/M/tZAPJ7AQ9D8sf6iYqTTzP965jAbjivI/62WwEJ0p8j8yLNi1EHnvP8Nce8VNzAJAEAQo0NEB9j+3Tbm4xxnnPw6VX478bNs/OGO1gp7u2T85dt7+2R/lP7Mgawd2oe4/BQ1H05N34j8BnS465ouGv2NP3O2VFei/+SiIYVni7r/3A+QPRQHtv2XFiRb7SsW/HEcu5wFp9b/4iBJeY+P5vwffVBpHRfy/Oo2tyMaC+b8yc/9C/eX7v9i6t+bVGPi/RoqYn0qH8r8=\",\"dtype\":\"float64\",\"order\":\"little\",\"shape\":[31]}},\"selected\":{\"id\":\"7589\"},\"selection_policy\":{\"id\":\"7617\"}},\"id\":\"7588\",\"type\":\"ColumnDataSource\"},{\"attributes\":{},\"id\":\"7538\",\"type\":\"WheelZoomTool\"},{\"attributes\":{\"months\":[0,1,2,3,4,5,6,7,8,9,10,11]},\"id\":\"7577\",\"type\":\"MonthsTicker\"},{\"attributes\":{},\"id\":\"7552\",\"type\":\"BasicTickFormatter\"},{\"attributes\":{\"source\":{\"id\":\"7588\"}},\"id\":\"7595\",\"type\":\"CDSView\"},{\"attributes\":{},\"id\":\"7540\",\"type\":\"ResetTool\"},{\"attributes\":{\"num_minor_ticks\":5,\"tickers\":[{\"id\":\"7570\"},{\"id\":\"7571\"},{\"id\":\"7572\"},{\"id\":\"7573\"},{\"id\":\"7574\"},{\"id\":\"7575\"},{\"id\":\"7576\"},{\"id\":\"7577\"},{\"id\":\"7578\"},{\"id\":\"7579\"},{\"id\":\"7580\"},{\"id\":\"7581\"}]},\"id\":\"7529\",\"type\":\"DatetimeTicker\"},{\"attributes\":{\"days\":[1,8,15,22]},\"id\":\"7575\",\"type\":\"DaysTicker\"},{\"attributes\":{\"overlay\":{\"id\":\"7541\"}},\"id\":\"7539\",\"type\":\"BoxZoomTool\"},{\"attributes\":{\"days\":[1,15]},\"id\":\"7576\",\"type\":\"DaysTicker\"},{\"attributes\":{},\"id\":\"7581\",\"type\":\"YearsTicker\"},{\"attributes\":{\"axis\":{\"id\":\"7532\"},\"dimension\":1,\"grid_line_color\":null,\"ticker\":null},\"id\":\"7535\",\"type\":\"Grid\"},{\"attributes\":{\"data\":{\"Variable\":[\"GDP Z-Score\",\"GDP Z-Score\",\"GDP Z-Score\",\"GDP Z-Score\",\"GDP Z-Score\",\"GDP Z-Score\",\"GDP Z-Score\",\"GDP Z-Score\",\"GDP Z-Score\",\"GDP Z-Score\",\"GDP Z-Score\",\"GDP Z-Score\",\"GDP Z-Score\",\"GDP Z-Score\",\"GDP Z-Score\",\"GDP Z-Score\",\"GDP Z-Score\",\"GDP Z-Score\",\"GDP Z-Score\",\"GDP Z-Score\",\"GDP Z-Score\",\"GDP Z-Score\",\"GDP Z-Score\",\"GDP Z-Score\",\"GDP Z-Score\",\"GDP Z-Score\",\"GDP Z-Score\",\"GDP Z-Score\",\"GDP Z-Score\",\"GDP Z-Score\",\"GDP Z-Score\"],\"index\":{\"__ndarray__\":\"AADATUkucUIAAEA68TdxQgAAgIzrQXFCAADA3uVLcUIAAEDLjVVxQgAAgB2IX3FCAAAACjBpcUIAAEBcKnNxQgAAgK4kfXFCAABANXqGcUIAAICHdJBxQgAAAHQcmnFCAABAxhakcUIAAMCyvq1xQgAAAAW5t3FCAABAV7PBcUIAAMBDW8txQgAAAJZV1XFCAACAgv3ecUIAAMDU9+hxQgAAACfy8nFCAAAASPX7cUIAAECa7wVyQgAAwIaXD3JCAAAA2ZEZckIAAIDFOSNyQgAAwBc0LXJCAAAAai43ckIAAIBW1kByQgAAwKjQSnJCAABAlXhUckI=\",\"dtype\":\"float64\",\"order\":\"little\",\"shape\":[31]},\"value\":{\"__ndarray__\":\"JAdEtU6b9j9BvE0+yZn5PwPMPD6biPg/kZwbC+Cu9z8MeqEI+9z6P3ULZ+tSp/k/CsPq68us+D+oCTqWCmz0P9OTGCc+i/M/PFmg8oPI8j+W9QPTKaP2Pxie6L5NwvU/zUHHEYMN9T81EN/JPdPuP6DRREhpj+0/WZhaU+R37D9BytmypIbkvwylIJnHNue/ORXUxMxy6r8Ych5wxXL7v+EDv9Xu+fq/7XTBPpSF+r/zbLfDxZv7v3iq9LqXuvq/4I4blFXo+b/Scqqlw2T1v63Gfpxg8vS/8vQiSVCE9L+l+326j6/hvzgKeHiLa+G/g9dVQSoo4b8=\",\"dtype\":\"float64\",\"order\":\"little\",\"shape\":[31]}},\"selected\":{\"id\":\"7623\"},\"selection_policy\":{\"id\":\"7653\"}},\"id\":\"7622\",\"type\":\"ColumnDataSource\"},{\"attributes\":{\"months\":[0,2,4,6,8,10]},\"id\":\"7578\",\"type\":\"MonthsTicker\"},{\"attributes\":{\"months\":[0,4,8]},\"id\":\"7579\",\"type\":\"MonthsTicker\"},{\"attributes\":{\"months\":[0,6]},\"id\":\"7580\",\"type\":\"MonthsTicker\"},{\"attributes\":{\"line_color\":\"#30a2da\",\"line_width\":2,\"x\":{\"field\":\"index\"},\"y\":{\"field\":\"value\"}},\"id\":\"7587\",\"type\":\"Line\"},{\"attributes\":{\"fill_alpha\":0.5,\"fill_color\":\"gray\",\"left\":362793600000.0,\"level\":\"glyph\",\"line_alpha\":0.5,\"line_color\":\"gray\",\"right\":404956800000.0},\"id\":\"7842\",\"type\":\"BoxAnnotation\"},{\"attributes\":{\"label\":{\"value\":\"GDP Z-Score\"},\"renderers\":[{\"id\":\"7628\"}]},\"id\":\"7656\",\"type\":\"LegendItem\"},{\"attributes\":{\"line_color\":\"#e5ae38\",\"line_width\":2,\"x\":{\"field\":\"index\"},\"y\":{\"field\":\"value\"}},\"id\":\"7625\",\"type\":\"Line\"},{\"attributes\":{\"margin\":[5,5,5,5],\"name\":\"HSpacer10670\",\"sizing_mode\":\"stretch_width\"},\"id\":\"8077\",\"type\":\"Spacer\"},{\"attributes\":{\"axis_label\":\"\",\"formatter\":{\"id\":\"7549\"},\"major_label_policy\":{\"id\":\"7551\"},\"ticker\":{\"id\":\"7529\"}},\"id\":\"7528\",\"type\":\"DatetimeAxis\"},{\"attributes\":{\"active_multi\":null,\"tools\":[{\"id\":\"7516\"},{\"id\":\"7536\"},{\"id\":\"7537\"},{\"id\":\"7538\"},{\"id\":\"7539\"},{\"id\":\"7540\"}]},\"id\":\"7542\",\"type\":\"Toolbar\"},{\"attributes\":{\"label\":{\"value\":\"M2 Z-Score\"},\"renderers\":[{\"id\":\"7561\"}]},\"id\":\"7586\",\"type\":\"LegendItem\"},{\"attributes\":{\"line_alpha\":0.1,\"line_color\":\"#30a2da\",\"line_width\":2,\"x\":{\"field\":\"index\"},\"y\":{\"field\":\"value\"}},\"id\":\"7559\",\"type\":\"Line\"},{\"attributes\":{},\"id\":\"7551\",\"type\":\"AllLabels\"},{\"attributes\":{\"text\":\"Financial Crisis from June 2007 to Dec. 2009\",\"text_color\":\"black\",\"text_font_size\":\"12pt\"},\"id\":\"7520\",\"type\":\"Title\"},{\"attributes\":{},\"id\":\"7524\",\"type\":\"LinearScale\"},{\"attributes\":{\"line_color\":\"#fc4f30\",\"line_width\":2,\"x\":{\"field\":\"index\"},\"y\":{\"field\":\"value\"}},\"id\":\"7621\",\"type\":\"Line\"},{\"attributes\":{},\"id\":\"7526\",\"type\":\"LinearScale\"},{\"attributes\":{\"axis_label\":\"\",\"formatter\":{\"id\":\"7552\"},\"major_label_policy\":{\"id\":\"7554\"},\"ticker\":{\"id\":\"7533\"}},\"id\":\"7532\",\"type\":\"LinearAxis\"},{\"attributes\":{},\"id\":\"7617\",\"type\":\"UnionRenderers\"},{\"attributes\":{\"axis\":{\"id\":\"7528\"},\"grid_line_color\":null,\"ticker\":null},\"id\":\"7531\",\"type\":\"Grid\"},{\"attributes\":{\"callback\":null,\"formatters\":{\"@{index}\":\"datetime\"},\"renderers\":[{\"id\":\"7561\"},{\"id\":\"7594\"},{\"id\":\"7628\"}],\"tags\":[\"hv_created\"],\"tooltips\":[[\"Variable\",\"@{Variable}\"],[\"index\",\"@{index}{%F %T}\"],[\"value\",\"@{value}\"]]},\"id\":\"7516\",\"type\":\"HoverTool\"},{\"attributes\":{},\"id\":\"7623\",\"type\":\"Selection\"},{\"attributes\":{\"click_policy\":\"mute\",\"items\":[{\"id\":\"7586\"},{\"id\":\"7620\"},{\"id\":\"7656\"}],\"location\":[0,0]},\"id\":\"7585\",\"type\":\"Legend\"},{\"attributes\":{},\"id\":\"7533\",\"type\":\"BasicTicker\"},{\"attributes\":{\"line_alpha\":0.2,\"line_color\":\"#30a2da\",\"line_width\":2,\"x\":{\"field\":\"index\"},\"y\":{\"field\":\"value\"}},\"id\":\"7560\",\"type\":\"Line\"},{\"attributes\":{\"data_source\":{\"id\":\"7555\"},\"glyph\":{\"id\":\"7558\"},\"hover_glyph\":null,\"muted_glyph\":{\"id\":\"7560\"},\"nonselection_glyph\":{\"id\":\"7559\"},\"selection_glyph\":{\"id\":\"7587\"},\"view\":{\"id\":\"7562\"}},\"id\":\"7561\",\"type\":\"GlyphRenderer\"},{\"attributes\":{\"line_alpha\":0.1,\"line_color\":\"#e5ae38\",\"line_width\":2,\"x\":{\"field\":\"index\"},\"y\":{\"field\":\"value\"}},\"id\":\"7626\",\"type\":\"Line\"},{\"attributes\":{\"source\":{\"id\":\"7555\"}},\"id\":\"7562\",\"type\":\"CDSView\"},{\"attributes\":{\"children\":[{\"id\":\"7513\"},{\"id\":\"7519\"},{\"id\":\"8077\"}],\"margin\":[0,0,0,0],\"name\":\"Row10665\",\"tags\":[\"embedded\"]},\"id\":\"7512\",\"type\":\"Row\"}],\"root_ids\":[\"7512\"]},\"title\":\"Bokeh Application\",\"version\":\"2.3.2\"}};\n",
       "    var render_items = [{\"docid\":\"38fe3816-3602-43ae-a5ed-32b4c175efa0\",\"root_ids\":[\"7512\"],\"roots\":{\"7512\":\"1173a908-9d3d-4d97-953d-3ba0e5bd5bdc\"}}];\n",
       "    root.Bokeh.embed.embed_items_notebook(docs_json, render_items);\n",
       "  }\n",
       "  if (root.Bokeh !== undefined && root.Bokeh.Panel !== undefined && root['Plotly'] !== undefined ) {\n",
       "    embed_document(root);\n",
       "  } else {\n",
       "    var attempts = 0;\n",
       "    var timer = setInterval(function(root) {\n",
       "      if (root.Bokeh !== undefined && root.Bokeh.Panel !== undefined && root['Plotly'] !== undefined) {\n",
       "        clearInterval(timer);\n",
       "        embed_document(root);\n",
       "      } else if (document.readyState == \"complete\") {\n",
       "        attempts++;\n",
       "        if (attempts > 100) {\n",
       "          clearInterval(timer);\n",
       "          console.log(\"Bokeh: ERROR: Unable to run BokehJS code because BokehJS library is missing\");\n",
       "        }\n",
       "      }\n",
       "    }, 10, root)\n",
       "  }\n",
       "})(window);</script>"
      ],
      "text/plain": [
       ":Overlay\n",
       "   .NdOverlay.I :NdOverlay   [Variable]\n",
       "      :Curve   [index]   (value)\n",
       "   .VSpan.I     :VSpan   [x,y]"
      ]
     },
     "execution_count": 93,
     "metadata": {
      "application/vnd.holoviews_exec.v0+json": {
       "id": "7512"
      }
     },
     "output_type": "execute_result"
    }
   ],
   "source": [
    "# Plot z score: \n",
    "financial_Crisis_zscorePlot = Financial_Crisis_zscorePlot_data.hvplot(width=1000, height=500, title=\"Financial Crisis from June 2007 to Dec. 2009\") * \\\n",
    "financial_crisis_1980\n",
    "financial_Crisis_zscorePlot"
   ]
  },
  {
   "cell_type": "markdown",
   "id": "41720f0a-d170-49a0-a7a7-2c5eff71d698",
   "metadata": {},
   "source": [
    "# "
   ]
  },
  {
   "cell_type": "code",
   "execution_count": null,
   "id": "52882f02-fdfd-471e-a619-729eff94f959",
   "metadata": {},
   "outputs": [],
   "source": []
  },
  {
   "cell_type": "markdown",
   "id": "04316312-45fd-453d-af5e-53a41c0bf93f",
   "metadata": {},
   "source": [
    "# Analyzing the Pandemic:\n",
    "- Pandemic: Jan. 1 2020 - 7.31.2021"
   ]
  },
  {
   "cell_type": "code",
   "execution_count": 94,
   "id": "8ac9d788-24e9-4fe8-83f9-f8c022ece8bf",
   "metadata": {},
   "outputs": [
    {
     "data": {
      "text/html": [
       "<div>\n",
       "<style scoped>\n",
       "    .dataframe tbody tr th:only-of-type {\n",
       "        vertical-align: middle;\n",
       "    }\n",
       "\n",
       "    .dataframe tbody tr th {\n",
       "        vertical-align: top;\n",
       "    }\n",
       "\n",
       "    .dataframe thead th {\n",
       "        text-align: right;\n",
       "    }\n",
       "</style>\n",
       "<table border=\"1\" class=\"dataframe\">\n",
       "  <thead>\n",
       "    <tr style=\"text-align: right;\">\n",
       "      <th></th>\n",
       "      <th>M2</th>\n",
       "      <th>Personal Income</th>\n",
       "      <th>Real GDP</th>\n",
       "    </tr>\n",
       "  </thead>\n",
       "  <tbody>\n",
       "    <tr>\n",
       "      <th>2020-01-01</th>\n",
       "      <td>15410.0</td>\n",
       "      <td>17003.206</td>\n",
       "      <td>18951.992</td>\n",
       "    </tr>\n",
       "    <tr>\n",
       "      <th>2020-02-01</th>\n",
       "      <td>15473.4</td>\n",
       "      <td>17111.944</td>\n",
       "      <td>18951.992</td>\n",
       "    </tr>\n",
       "    <tr>\n",
       "      <th>2020-03-01</th>\n",
       "      <td>16014.3</td>\n",
       "      <td>16828.473</td>\n",
       "      <td>18951.992</td>\n",
       "    </tr>\n",
       "    <tr>\n",
       "      <th>2020-04-01</th>\n",
       "      <td>17042.9</td>\n",
       "      <td>19028.423</td>\n",
       "      <td>17258.205</td>\n",
       "    </tr>\n",
       "    <tr>\n",
       "      <th>2020-05-01</th>\n",
       "      <td>17893.0</td>\n",
       "      <td>18232.325</td>\n",
       "      <td>17258.205</td>\n",
       "    </tr>\n",
       "  </tbody>\n",
       "</table>\n",
       "</div>"
      ],
      "text/plain": [
       "                 M2  Personal Income   Real GDP\n",
       "2020-01-01  15410.0        17003.206  18951.992\n",
       "2020-02-01  15473.4        17111.944  18951.992\n",
       "2020-03-01  16014.3        16828.473  18951.992\n",
       "2020-04-01  17042.9        19028.423  17258.205\n",
       "2020-05-01  17893.0        18232.325  17258.205"
      ]
     },
     "execution_count": 94,
     "metadata": {},
     "output_type": "execute_result"
    }
   ],
   "source": [
    "# Get relavent data set:\n",
    "pandemic_data = all_data['2020-01-01':'2021-07-31']\n",
    "pandemic_data.head()"
   ]
  },
  {
   "cell_type": "code",
   "execution_count": 97,
   "id": "142b786d-1f58-4455-bdfc-dd096a82745d",
   "metadata": {},
   "outputs": [
    {
     "data": {
      "text/html": [
       "<div>\n",
       "<style scoped>\n",
       "    .dataframe tbody tr th:only-of-type {\n",
       "        vertical-align: middle;\n",
       "    }\n",
       "\n",
       "    .dataframe tbody tr th {\n",
       "        vertical-align: top;\n",
       "    }\n",
       "\n",
       "    .dataframe thead th {\n",
       "        text-align: right;\n",
       "    }\n",
       "</style>\n",
       "<table border=\"1\" class=\"dataframe\">\n",
       "  <thead>\n",
       "    <tr style=\"text-align: right;\">\n",
       "      <th></th>\n",
       "      <th>M2</th>\n",
       "      <th>Personal Income</th>\n",
       "      <th>Real GDP</th>\n",
       "    </tr>\n",
       "  </thead>\n",
       "  <tbody>\n",
       "    <tr>\n",
       "      <th>M2</th>\n",
       "      <td>1.000000</td>\n",
       "      <td>0.399887</td>\n",
       "      <td>0.331100</td>\n",
       "    </tr>\n",
       "    <tr>\n",
       "      <th>Personal Income</th>\n",
       "      <td>0.399887</td>\n",
       "      <td>1.000000</td>\n",
       "      <td>-0.109934</td>\n",
       "    </tr>\n",
       "    <tr>\n",
       "      <th>Real GDP</th>\n",
       "      <td>0.331100</td>\n",
       "      <td>-0.109934</td>\n",
       "      <td>1.000000</td>\n",
       "    </tr>\n",
       "  </tbody>\n",
       "</table>\n",
       "</div>"
      ],
      "text/plain": [
       "                       M2  Personal Income  Real GDP\n",
       "M2               1.000000         0.399887  0.331100\n",
       "Personal Income  0.399887         1.000000 -0.109934\n",
       "Real GDP         0.331100        -0.109934  1.000000"
      ]
     },
     "execution_count": 97,
     "metadata": {},
     "output_type": "execute_result"
    }
   ],
   "source": [
    "# Find Correlation\n",
    "pandemic_corr = pandemic_data.corr()\n",
    "pandemic_corr"
   ]
  },
  {
   "cell_type": "code",
   "execution_count": 98,
   "id": "4856ea0c-64a8-49d6-b4e5-81cb743c5f11",
   "metadata": {},
   "outputs": [
    {
     "data": {
      "text/plain": [
       "[]"
      ]
     },
     "execution_count": 98,
     "metadata": {},
     "output_type": "execute_result"
    },
    {
     "data": {
      "image/png": "[encoded data removed]",
      "text/plain": [
       "<Figure size 432x288 with 2 Axes>"
      ]
     },
     "metadata": {
      "needs_background": "light"
     },
     "output_type": "display_data"
    }
   ],
   "source": [
    "# Display the correlation matrix\n",
    "pandemic_corr_chart = sns.heatmap(pandemic_corr, annot=True, vmin=-1, vmax=1)\n",
    "pandemic_corr_chart.plot()"
   ]
  },
  {
   "cell_type": "markdown",
   "id": "ba5822d2-99ea-4162-b6a8-e16ccdec5b42",
   "metadata": {},
   "source": [
    "### Plot Z-Score during the Pandemic:"
   ]
  },
  {
   "cell_type": "code",
   "execution_count": 99,
   "id": "1fff623e-5717-4bae-8128-7aff5aff634e",
   "metadata": {},
   "outputs": [
    {
     "data": {
      "text/html": [
       "<div>\n",
       "<style scoped>\n",
       "    .dataframe tbody tr th:only-of-type {\n",
       "        vertical-align: middle;\n",
       "    }\n",
       "\n",
       "    .dataframe tbody tr th {\n",
       "        vertical-align: top;\n",
       "    }\n",
       "\n",
       "    .dataframe thead th {\n",
       "        text-align: right;\n",
       "    }\n",
       "</style>\n",
       "<table border=\"1\" class=\"dataframe\">\n",
       "  <thead>\n",
       "    <tr style=\"text-align: right;\">\n",
       "      <th></th>\n",
       "      <th>M2 Z-Score</th>\n",
       "      <th>Personal Inc Z-Score</th>\n",
       "      <th>GDP Z-Score</th>\n",
       "    </tr>\n",
       "  </thead>\n",
       "  <tbody>\n",
       "    <tr>\n",
       "      <th>2020-01-01</th>\n",
       "      <td>2.027477</td>\n",
       "      <td>1.670352</td>\n",
       "      <td>0.861078</td>\n",
       "    </tr>\n",
       "    <tr>\n",
       "      <th>2020-02-01</th>\n",
       "      <td>1.983906</td>\n",
       "      <td>1.845664</td>\n",
       "      <td>0.818220</td>\n",
       "    </tr>\n",
       "    <tr>\n",
       "      <th>2020-03-01</th>\n",
       "      <td>2.576866</td>\n",
       "      <td>1.053287</td>\n",
       "      <td>0.778073</td>\n",
       "    </tr>\n",
       "    <tr>\n",
       "      <th>2020-04-01</th>\n",
       "      <td>3.385649</td>\n",
       "      <td>4.509603</td>\n",
       "      <td>-3.228613</td>\n",
       "    </tr>\n",
       "    <tr>\n",
       "      <th>2020-05-01</th>\n",
       "      <td>3.535861</td>\n",
       "      <td>2.681860</td>\n",
       "      <td>-2.866874</td>\n",
       "    </tr>\n",
       "  </tbody>\n",
       "</table>\n",
       "</div>"
      ],
      "text/plain": [
       "            M2 Z-Score  Personal Inc Z-Score  GDP Z-Score\n",
       "2020-01-01    2.027477              1.670352     0.861078\n",
       "2020-02-01    1.983906              1.845664     0.818220\n",
       "2020-03-01    2.576866              1.053287     0.778073\n",
       "2020-04-01    3.385649              4.509603    -3.228613\n",
       "2020-05-01    3.535861              2.681860    -2.866874"
      ]
     },
     "execution_count": 99,
     "metadata": {},
     "output_type": "execute_result"
    }
   ],
   "source": [
    "pandemic_zscorePlot_data = rolling_zScore['2020-01-01':'2021-07-31']\n",
    "pandemic_zscorePlot_data.head()"
   ]
  },
  {
   "cell_type": "code",
   "execution_count": 100,
   "id": "69941d1b-cdec-420e-be57-bbdcdebdfbc6",
   "metadata": {},
   "outputs": [
    {
     "data": {},
     "metadata": {},
     "output_type": "display_data"
    },
    {
     "data": {
      "application/vnd.holoviews_exec.v0+json": "",
      "text/html": [
       "<div id='9059'>\n",
       "\n",
       "\n",
       "\n",
       "\n",
       "\n",
       "  <div class=\"bk-root\" id=\"97bbff63-b4e3-409f-bbaf-4d329859d607\" data-root-id=\"9059\"></div>\n",
       "</div>\n",
       "<script type=\"application/javascript\">(function(root) {\n",
       "  function embed_document(root) {\n",
       "    var docs_json = {\"8c4b08a0-1ade-4b1f-9ac0-c02bcd82dfeb\":{\"defs\":[],\"roots\":{\"references\":[{\"attributes\":{\"line_color\":\"#e5ae38\",\"line_width\":2,\"x\":{\"field\":\"index\"},\"y\":{\"field\":\"value\"}},\"id\":\"9172\",\"type\":\"Line\"},{\"attributes\":{},\"id\":\"9164\",\"type\":\"UnionRenderers\"},{\"attributes\":{\"months\":[0,4,8]},\"id\":\"9126\",\"type\":\"MonthsTicker\"},{\"attributes\":{\"label\":{\"value\":\"GDP Z-Score\"},\"renderers\":[{\"id\":\"9175\"}]},\"id\":\"9203\",\"type\":\"LegendItem\"},{\"attributes\":{\"data\":{\"Variable\":[\"Personal Inc Z-Score\",\"Personal Inc Z-Score\",\"Personal Inc Z-Score\",\"Personal Inc Z-Score\",\"Personal Inc Z-Score\",\"Personal Inc Z-Score\",\"Personal Inc Z-Score\",\"Personal Inc Z-Score\",\"Personal Inc Z-Score\",\"Personal Inc Z-Score\",\"Personal Inc Z-Score\",\"Personal Inc Z-Score\",\"Personal Inc Z-Score\",\"Personal Inc Z-Score\",\"Personal Inc Z-Score\",\"Personal Inc Z-Score\",\"Personal Inc Z-Score\",\"Personal Inc Z-Score\"],\"index\":{\"__ndarray__\":\"AACAbub1dkIAAMDA4P92QgAAgEc2CXdCAADAmTATd0IAAECG2Bx3QgAAgNjSJndCAAAAxXowd0IAAEAXdTp3QgAAgGlvRHdCAAAAVhdOd0IAAECoEVh3QgAAwJS5YXdCAAAA57Nrd0IAAEA5rnV3QgAAQFqxfndCAACArKuId0IAAACZU5J3QgAAQOtNnHdC\",\"dtype\":\"float64\",\"order\":\"little\",\"shape\":[18]},\"value\":{\"__ndarray__\":\"/o1ZpMK5+j84KI6n1of9P1Er8bVD2vA/X7vAWdUJEkAKOCTMcnQFQHQSushBpQBA0yj0nJB0AECRsBiACfTxP8Ra0TRYOPM/U0oXi8gc8T+U5rwGblroP6C17N90H+k/rhpPW8zfBkAXh8EP9uXrP/dxzFnwTxBAqHc7cjpV8D/Z6DuIV1jfPzX5FGVBxdg/\",\"dtype\":\"float64\",\"order\":\"little\",\"shape\":[18]}},\"selected\":{\"id\":\"9136\"},\"selection_policy\":{\"id\":\"9164\"}},\"id\":\"9135\",\"type\":\"ColumnDataSource\"},{\"attributes\":{\"num_minor_ticks\":5,\"tickers\":[{\"id\":\"9117\"},{\"id\":\"9118\"},{\"id\":\"9119\"},{\"id\":\"9120\"},{\"id\":\"9121\"},{\"id\":\"9122\"},{\"id\":\"9123\"},{\"id\":\"9124\"},{\"id\":\"9125\"},{\"id\":\"9126\"},{\"id\":\"9127\"},{\"id\":\"9128\"}]},\"id\":\"9076\",\"type\":\"DatetimeTicker\"},{\"attributes\":{},\"id\":\"9073\",\"type\":\"LinearScale\"},{\"attributes\":{},\"id\":\"9129\",\"type\":\"UnionRenderers\"},{\"attributes\":{\"click_policy\":\"mute\",\"items\":[{\"id\":\"9133\"},{\"id\":\"9167\"},{\"id\":\"9203\"}],\"location\":[0,0],\"title\":\"Variable\"},\"id\":\"9132\",\"type\":\"Legend\"},{\"attributes\":{\"text\":\"Global Pandemic from January 2020 to July 2021\",\"text_color\":\"black\",\"text_font_size\":\"12pt\"},\"id\":\"9067\",\"type\":\"Title\"},{\"attributes\":{\"mantissas\":[1,2,5],\"max_interval\":500.0,\"num_minor_ticks\":0},\"id\":\"9117\",\"type\":\"AdaptiveTicker\"},{\"attributes\":{},\"id\":\"9071\",\"type\":\"LinearScale\"},{\"attributes\":{\"axis_label\":\"\",\"formatter\":{\"id\":\"9096\"},\"major_label_policy\":{\"id\":\"9098\"},\"ticker\":{\"id\":\"9076\"}},\"id\":\"9075\",\"type\":\"DatetimeAxis\"},{\"attributes\":{\"base\":60,\"mantissas\":[1,2,5,10,15,20,30],\"max_interval\":1800000.0,\"min_interval\":1000.0,\"num_minor_ticks\":0},\"id\":\"9118\",\"type\":\"AdaptiveTicker\"},{\"attributes\":{\"months\":[0,1,2,3,4,5,6,7,8,9,10,11]},\"id\":\"9124\",\"type\":\"MonthsTicker\"},{\"attributes\":{\"axis_label\":\"\",\"formatter\":{\"id\":\"9099\"},\"major_label_policy\":{\"id\":\"9101\"},\"ticker\":{\"id\":\"9080\"}},\"id\":\"9079\",\"type\":\"LinearAxis\"},{\"attributes\":{\"months\":[0,6]},\"id\":\"9127\",\"type\":\"MonthsTicker\"},{\"attributes\":{\"axis\":{\"id\":\"9075\"},\"grid_line_color\":null,\"ticker\":null},\"id\":\"9078\",\"type\":\"Grid\"},{\"attributes\":{\"data_source\":{\"id\":\"9102\"},\"glyph\":{\"id\":\"9105\"},\"hover_glyph\":null,\"muted_glyph\":{\"id\":\"9107\"},\"nonselection_glyph\":{\"id\":\"9106\"},\"selection_glyph\":{\"id\":\"9134\"},\"view\":{\"id\":\"9109\"}},\"id\":\"9108\",\"type\":\"GlyphRenderer\"},{\"attributes\":{\"line_alpha\":0.1,\"line_color\":\"#30a2da\",\"line_width\":2,\"x\":{\"field\":\"index\"},\"y\":{\"field\":\"value\"}},\"id\":\"9106\",\"type\":\"Line\"},{\"attributes\":{},\"id\":\"9080\",\"type\":\"BasicTicker\"},{\"attributes\":{\"months\":[0,2,4,6,8,10]},\"id\":\"9125\",\"type\":\"MonthsTicker\"},{\"attributes\":{\"axis\":{\"id\":\"9079\"},\"dimension\":1,\"grid_line_color\":null,\"ticker\":null},\"id\":\"9082\",\"type\":\"Grid\"},{\"attributes\":{\"data_source\":{\"id\":\"9135\"},\"glyph\":{\"id\":\"9138\"},\"hover_glyph\":null,\"muted_glyph\":{\"id\":\"9140\"},\"nonselection_glyph\":{\"id\":\"9139\"},\"selection_glyph\":{\"id\":\"9168\"},\"view\":{\"id\":\"9142\"}},\"id\":\"9141\",\"type\":\"GlyphRenderer\"},{\"attributes\":{\"data\":{\"Variable\":[\"M2 Z-Score\",\"M2 Z-Score\",\"M2 Z-Score\",\"M2 Z-Score\",\"M2 Z-Score\",\"M2 Z-Score\",\"M2 Z-Score\",\"M2 Z-Score\",\"M2 Z-Score\",\"M2 Z-Score\",\"M2 Z-Score\",\"M2 Z-Score\",\"M2 Z-Score\",\"M2 Z-Score\",\"M2 Z-Score\",\"M2 Z-Score\",\"M2 Z-Score\",\"M2 Z-Score\"],\"index\":{\"__ndarray__\":\"AACAbub1dkIAAMDA4P92QgAAgEc2CXdCAADAmTATd0IAAECG2Bx3QgAAgNjSJndCAAAAxXowd0IAAEAXdTp3QgAAgGlvRHdCAAAAVhdOd0IAAECoEVh3QgAAwJS5YXdCAAAA57Nrd0IAAEA5rnV3QgAAQFqxfndCAACArKuId0IAAACZU5J3QgAAQOtNnHdC\",\"dtype\":\"float64\",\"order\":\"little\",\"shape\":[18]},\"value\":{\"__ndarray__\":\"PTwf5EU4AECYUnZ1FL7/P5SFluhrnQRAcBfcJM8VC0BBCS1ucUkMQObA/gBUWAlA6bfxUbmUBkC81fcsfTgEQPimj7OYKQNAmMiWxFj0AUCFfRNkITkBQO5STbkwcQBAh00YUQEhAEDSQ4pdOLP/P7qIaBQU+/4/aAfhXnEN/j+OXRhTNYX9P4JcuV8fifs/\",\"dtype\":\"float64\",\"order\":\"little\",\"shape\":[18]}},\"selected\":{\"id\":\"9103\"},\"selection_policy\":{\"id\":\"9129\"}},\"id\":\"9102\",\"type\":\"ColumnDataSource\"},{\"attributes\":{\"base\":24,\"mantissas\":[1,2,4,6,8,12],\"max_interval\":43200000.0,\"min_interval\":3600000.0,\"num_minor_ticks\":0},\"id\":\"9119\",\"type\":\"AdaptiveTicker\"},{\"attributes\":{},\"id\":\"9136\",\"type\":\"Selection\"},{\"attributes\":{\"line_color\":\"#30a2da\",\"line_width\":2,\"x\":{\"field\":\"index\"},\"y\":{\"field\":\"value\"}},\"id\":\"9134\",\"type\":\"Line\"},{\"attributes\":{\"margin\":[5,5,5,5],\"name\":\"HSpacer13029\",\"sizing_mode\":\"stretch_width\"},\"id\":\"9439\",\"type\":\"Spacer\"},{\"attributes\":{\"end\":1622505600000.0,\"reset_end\":1622505600000.0,\"reset_start\":1577836800000.0,\"start\":1577836800000.0,\"tags\":[[[\"index\",\"index\",null]]]},\"id\":\"9061\",\"type\":\"Range1d\"},{\"attributes\":{},\"id\":\"9101\",\"type\":\"AllLabels\"},{\"attributes\":{\"line_alpha\":0.2,\"line_color\":\"#30a2da\",\"line_width\":2,\"x\":{\"field\":\"index\"},\"y\":{\"field\":\"value\"}},\"id\":\"9107\",\"type\":\"Line\"},{\"attributes\":{},\"id\":\"9103\",\"type\":\"Selection\"},{\"attributes\":{\"active_multi\":null,\"tools\":[{\"id\":\"9063\"},{\"id\":\"9083\"},{\"id\":\"9084\"},{\"id\":\"9085\"},{\"id\":\"9086\"},{\"id\":\"9087\"}]},\"id\":\"9089\",\"type\":\"Toolbar\"},{\"attributes\":{\"line_color\":\"#e5ae38\",\"line_width\":2,\"x\":{\"field\":\"index\"},\"y\":{\"field\":\"value\"}},\"id\":\"9204\",\"type\":\"Line\"},{\"attributes\":{},\"id\":\"9083\",\"type\":\"SaveTool\"},{\"attributes\":{},\"id\":\"9084\",\"type\":\"PanTool\"},{\"attributes\":{\"line_color\":\"#fc4f30\",\"line_width\":2,\"x\":{\"field\":\"index\"},\"y\":{\"field\":\"value\"}},\"id\":\"9168\",\"type\":\"Line\"},{\"attributes\":{},\"id\":\"9087\",\"type\":\"ResetTool\"},{\"attributes\":{\"source\":{\"id\":\"9102\"}},\"id\":\"9109\",\"type\":\"CDSView\"},{\"attributes\":{},\"id\":\"9085\",\"type\":\"WheelZoomTool\"},{\"attributes\":{\"line_color\":\"#30a2da\",\"line_width\":2,\"x\":{\"field\":\"index\"},\"y\":{\"field\":\"value\"}},\"id\":\"9105\",\"type\":\"Line\"},{\"attributes\":{\"line_alpha\":0.1,\"line_color\":\"#fc4f30\",\"line_width\":2,\"x\":{\"field\":\"index\"},\"y\":{\"field\":\"value\"}},\"id\":\"9139\",\"type\":\"Line\"},{\"attributes\":{},\"id\":\"9128\",\"type\":\"YearsTicker\"},{\"attributes\":{\"overlay\":{\"id\":\"9088\"}},\"id\":\"9086\",\"type\":\"BoxZoomTool\"},{\"attributes\":{\"label\":{\"value\":\"Personal Inc Z-Score\"},\"renderers\":[{\"id\":\"9141\"}]},\"id\":\"9167\",\"type\":\"LegendItem\"},{\"attributes\":{\"children\":[{\"id\":\"9060\"},{\"id\":\"9066\"},{\"id\":\"9439\"}],\"margin\":[0,0,0,0],\"name\":\"Row13024\",\"tags\":[\"embedded\"]},\"id\":\"9059\",\"type\":\"Row\"},{\"attributes\":{\"label\":{\"value\":\"M2 Z-Score\"},\"renderers\":[{\"id\":\"9108\"}]},\"id\":\"9133\",\"type\":\"LegendItem\"},{\"attributes\":{\"source\":{\"id\":\"9169\"}},\"id\":\"9176\",\"type\":\"CDSView\"},{\"attributes\":{},\"id\":\"9170\",\"type\":\"Selection\"},{\"attributes\":{\"margin\":[5,5,5,5],\"name\":\"HSpacer13028\",\"sizing_mode\":\"stretch_width\"},\"id\":\"9060\",\"type\":\"Spacer\"},{\"attributes\":{},\"id\":\"9200\",\"type\":\"UnionRenderers\"},{\"attributes\":{\"days\":[1,8,15,22]},\"id\":\"9122\",\"type\":\"DaysTicker\"},{\"attributes\":{},\"id\":\"9098\",\"type\":\"AllLabels\"},{\"attributes\":{\"days\":[1,15]},\"id\":\"9123\",\"type\":\"DaysTicker\"},{\"attributes\":{\"below\":[{\"id\":\"9075\"}],\"center\":[{\"id\":\"9078\"},{\"id\":\"9082\"}],\"height\":500,\"left\":[{\"id\":\"9079\"}],\"margin\":[5,5,5,5],\"min_border_bottom\":10,\"min_border_left\":10,\"min_border_right\":10,\"min_border_top\":10,\"renderers\":[{\"id\":\"9108\"},{\"id\":\"9141\"},{\"id\":\"9175\"}],\"right\":[{\"id\":\"9132\"}],\"sizing_mode\":\"fixed\",\"title\":{\"id\":\"9067\"},\"toolbar\":{\"id\":\"9089\"},\"width\":1000,\"x_range\":{\"id\":\"9061\"},\"x_scale\":{\"id\":\"9071\"},\"y_range\":{\"id\":\"9062\"},\"y_scale\":{\"id\":\"9073\"}},\"id\":\"9066\",\"subtype\":\"Figure\",\"type\":\"Plot\"},{\"attributes\":{\"data\":{\"Variable\":[\"GDP Z-Score\",\"GDP Z-Score\",\"GDP Z-Score\",\"GDP Z-Score\",\"GDP Z-Score\",\"GDP Z-Score\",\"GDP Z-Score\",\"GDP Z-Score\",\"GDP Z-Score\",\"GDP Z-Score\",\"GDP Z-Score\",\"GDP Z-Score\",\"GDP Z-Score\",\"GDP Z-Score\",\"GDP Z-Score\",\"GDP Z-Score\",\"GDP Z-Score\",\"GDP Z-Score\"],\"index\":{\"__ndarray__\":\"AACAbub1dkIAAMDA4P92QgAAgEc2CXdCAADAmTATd0IAAECG2Bx3QgAAgNjSJndCAAAAxXowd0IAAEAXdTp3QgAAgGlvRHdCAAAAVhdOd0IAAECoEVh3QgAAwJS5YXdCAAAA57Nrd0IAAEA5rnV3QgAAQFqxfndCAACArKuId0IAAACZU5J3QgAAQOtNnHdC\",\"dtype\":\"float64\",\"order\":\"little\",\"shape\":[18]},\"value\":{\"__ndarray__\":\"UxNe5fKN6z+IZFCi3C7qP/oTtJH45eg/tfHD9TLUCcAJvQWYW+8GwFmLqp8jwwTAG1MzRbZZub8c+9b5qtK/v79yQMUOQMO/Z6s+XGXrzj85kZZRAbfLP2Pzlo0+fMg/eln+AFfQ5z8hA3tchZzmP1AOnuS5ceU/Y/7gqUJ28z84rofRNnDyPx4rdjDEfPE/\",\"dtype\":\"float64\",\"order\":\"little\",\"shape\":[18]}},\"selected\":{\"id\":\"9170\"},\"selection_policy\":{\"id\":\"9200\"}},\"id\":\"9169\",\"type\":\"ColumnDataSource\"},{\"attributes\":{},\"id\":\"9096\",\"type\":\"DatetimeTickFormatter\"},{\"attributes\":{\"days\":[1,2,3,4,5,6,7,8,9,10,11,12,13,14,15,16,17,18,19,20,21,22,23,24,25,26,27,28,29,30,31]},\"id\":\"9120\",\"type\":\"DaysTicker\"},{\"attributes\":{},\"id\":\"9099\",\"type\":\"BasicTickFormatter\"},{\"attributes\":{\"line_color\":\"#fc4f30\",\"line_width\":2,\"x\":{\"field\":\"index\"},\"y\":{\"field\":\"value\"}},\"id\":\"9138\",\"type\":\"Line\"},{\"attributes\":{\"line_alpha\":0.1,\"line_color\":\"#e5ae38\",\"line_width\":2,\"x\":{\"field\":\"index\"},\"y\":{\"field\":\"value\"}},\"id\":\"9173\",\"type\":\"Line\"},{\"attributes\":{\"days\":[1,4,7,10,13,16,19,22,25,28]},\"id\":\"9121\",\"type\":\"DaysTicker\"},{\"attributes\":{\"source\":{\"id\":\"9135\"}},\"id\":\"9142\",\"type\":\"CDSView\"},{\"attributes\":{\"end\":5.283424505836,\"reset_end\":5.283424505836,\"reset_start\":-4.002434398923214,\"start\":-4.002434398923214,\"tags\":[[[\"value\",\"value\",null]]]},\"id\":\"9062\",\"type\":\"Range1d\"},{\"attributes\":{\"line_alpha\":0.2,\"line_color\":\"#fc4f30\",\"line_width\":2,\"x\":{\"field\":\"index\"},\"y\":{\"field\":\"value\"}},\"id\":\"9140\",\"type\":\"Line\"},{\"attributes\":{\"bottom_units\":\"screen\",\"fill_alpha\":0.5,\"fill_color\":\"lightgrey\",\"left_units\":\"screen\",\"level\":\"overlay\",\"line_alpha\":1.0,\"line_color\":\"black\",\"line_dash\":[4,4],\"line_width\":2,\"right_units\":\"screen\",\"syncable\":false,\"top_units\":\"screen\"},\"id\":\"9088\",\"type\":\"BoxAnnotation\"},{\"attributes\":{\"data_source\":{\"id\":\"9169\"},\"glyph\":{\"id\":\"9172\"},\"hover_glyph\":null,\"muted_glyph\":{\"id\":\"9174\"},\"nonselection_glyph\":{\"id\":\"9173\"},\"selection_glyph\":{\"id\":\"9204\"},\"view\":{\"id\":\"9176\"}},\"id\":\"9175\",\"type\":\"GlyphRenderer\"},{\"attributes\":{\"line_alpha\":0.2,\"line_color\":\"#e5ae38\",\"line_width\":2,\"x\":{\"field\":\"index\"},\"y\":{\"field\":\"value\"}},\"id\":\"9174\",\"type\":\"Line\"},{\"attributes\":{\"callback\":null,\"formatters\":{\"@{index}\":\"datetime\"},\"renderers\":[{\"id\":\"9108\"},{\"id\":\"9141\"},{\"id\":\"9175\"}],\"tags\":[\"hv_created\"],\"tooltips\":[[\"Variable\",\"@{Variable}\"],[\"index\",\"@{index}{%F %T}\"],[\"value\",\"@{value}\"]]},\"id\":\"9063\",\"type\":\"HoverTool\"}],\"root_ids\":[\"9059\"]},\"title\":\"Bokeh Application\",\"version\":\"2.3.2\"}};\n",
       "    var render_items = [{\"docid\":\"8c4b08a0-1ade-4b1f-9ac0-c02bcd82dfeb\",\"root_ids\":[\"9059\"],\"roots\":{\"9059\":\"97bbff63-b4e3-409f-bbaf-4d329859d607\"}}];\n",
       "    root.Bokeh.embed.embed_items_notebook(docs_json, render_items);\n",
       "  }\n",
       "  if (root.Bokeh !== undefined && root.Bokeh.Panel !== undefined && root['Plotly'] !== undefined ) {\n",
       "    embed_document(root);\n",
       "  } else {\n",
       "    var attempts = 0;\n",
       "    var timer = setInterval(function(root) {\n",
       "      if (root.Bokeh !== undefined && root.Bokeh.Panel !== undefined && root['Plotly'] !== undefined) {\n",
       "        clearInterval(timer);\n",
       "        embed_document(root);\n",
       "      } else if (document.readyState == \"complete\") {\n",
       "        attempts++;\n",
       "        if (attempts > 100) {\n",
       "          clearInterval(timer);\n",
       "          console.log(\"Bokeh: ERROR: Unable to run BokehJS code because BokehJS library is missing\");\n",
       "        }\n",
       "      }\n",
       "    }, 10, root)\n",
       "  }\n",
       "})(window);</script>"
      ],
      "text/plain": [
       ":NdOverlay   [Variable]\n",
       "   :Curve   [index]   (value)"
      ]
     },
     "execution_count": 100,
     "metadata": {
      "application/vnd.holoviews_exec.v0+json": {
       "id": "9059"
      }
     },
     "output_type": "execute_result"
    }
   ],
   "source": [
    "# Plot z score: \n",
    "pandemic_zscorePlot = pandemic_zscorePlot_data.hvplot(width=1000, height=500, title=\"Global Pandemic from January 2020 to July 2021\")\n",
    "pandemic_zscorePlot"
   ]
  },
  {
   "cell_type": "code",
   "execution_count": null,
   "id": "4529740e-f673-48ac-9096-68b55340f6a8",
   "metadata": {},
   "outputs": [],
   "source": []
  },
  {
   "cell_type": "code",
   "execution_count": null,
   "id": "deddaac6-3a74-40e7-aec8-399f7645794b",
   "metadata": {},
   "outputs": [],
   "source": []
  },
  {
   "cell_type": "code",
   "execution_count": null,
   "id": "5f23fd51-a84b-4962-8a62-6f432ca0abfd",
   "metadata": {},
   "outputs": [],
   "source": []
  },
  {
   "cell_type": "code",
   "execution_count": null,
   "id": "4c4496cc-3792-4cdd-bae2-70e63ea1df98",
   "metadata": {},
   "outputs": [],
   "source": []
  },
  {
   "cell_type": "markdown",
   "id": "c8d2b8b5-11c0-4fba-80c5-d4b217b45fdf",
   "metadata": {},
   "source": [
    "<hr>"
   ]
  },
  {
   "cell_type": "markdown",
   "id": "7feb0866-12d8-4451-a03a-f3727112a367",
   "metadata": {},
   "source": [
    "# Trying to reshape data for a groupby function to create a dropdown with the line plot."
   ]
  },
  {
   "cell_type": "code",
   "execution_count": 48,
   "id": "b5748762-5e93-4e00-97f5-328809a6bbf6",
   "metadata": {},
   "outputs": [
    {
     "data": {
      "text/html": [
       "<div>\n",
       "<style scoped>\n",
       "    .dataframe tbody tr th:only-of-type {\n",
       "        vertical-align: middle;\n",
       "    }\n",
       "\n",
       "    .dataframe tbody tr th {\n",
       "        vertical-align: top;\n",
       "    }\n",
       "\n",
       "    .dataframe thead th {\n",
       "        text-align: right;\n",
       "    }\n",
       "</style>\n",
       "<table border=\"1\" class=\"dataframe\">\n",
       "  <thead>\n",
       "    <tr style=\"text-align: right;\">\n",
       "      <th></th>\n",
       "      <th>M2</th>\n",
       "      <th>Personal Income</th>\n",
       "      <th>Real GDP</th>\n",
       "    </tr>\n",
       "  </thead>\n",
       "  <tbody>\n",
       "    <tr>\n",
       "      <th>1980-01-01</th>\n",
       "      <td>1482.7</td>\n",
       "      <td>5647.002</td>\n",
       "      <td>6842.024</td>\n",
       "    </tr>\n",
       "    <tr>\n",
       "      <th>1980-02-01</th>\n",
       "      <td>1494.6</td>\n",
       "      <td>5620.681</td>\n",
       "      <td>6842.024</td>\n",
       "    </tr>\n",
       "    <tr>\n",
       "      <th>1980-03-01</th>\n",
       "      <td>1499.8</td>\n",
       "      <td>5590.815</td>\n",
       "      <td>6842.024</td>\n",
       "    </tr>\n",
       "    <tr>\n",
       "      <th>1980-04-01</th>\n",
       "      <td>1502.2</td>\n",
       "      <td>5584.107</td>\n",
       "      <td>6701.046</td>\n",
       "    </tr>\n",
       "    <tr>\n",
       "      <th>1980-05-01</th>\n",
       "      <td>1512.3</td>\n",
       "      <td>5567.006</td>\n",
       "      <td>6701.046</td>\n",
       "    </tr>\n",
       "  </tbody>\n",
       "</table>\n",
       "</div>"
      ],
      "text/plain": [
       "                M2  Personal Income  Real GDP\n",
       "1980-01-01  1482.7         5647.002  6842.024\n",
       "1980-02-01  1494.6         5620.681  6842.024\n",
       "1980-03-01  1499.8         5590.815  6842.024\n",
       "1980-04-01  1502.2         5584.107  6701.046\n",
       "1980-05-01  1512.3         5567.006  6701.046"
      ]
     },
     "execution_count": 48,
     "metadata": {},
     "output_type": "execute_result"
    }
   ],
   "source": [
    "all_current_data.head()"
   ]
  },
  {
   "cell_type": "code",
   "execution_count": 49,
   "id": "4a96592c-ac49-4f9c-830c-de0799b8dbd6",
   "metadata": {},
   "outputs": [
    {
     "data": {
      "text/html": [
       "<div>\n",
       "<style scoped>\n",
       "    .dataframe tbody tr th:only-of-type {\n",
       "        vertical-align: middle;\n",
       "    }\n",
       "\n",
       "    .dataframe tbody tr th {\n",
       "        vertical-align: top;\n",
       "    }\n",
       "\n",
       "    .dataframe thead th {\n",
       "        text-align: right;\n",
       "    }\n",
       "</style>\n",
       "<table border=\"1\" class=\"dataframe\">\n",
       "  <thead>\n",
       "    <tr style=\"text-align: right;\">\n",
       "      <th></th>\n",
       "      <th>1980-01-01 00:00:00</th>\n",
       "      <th>1980-02-01 00:00:00</th>\n",
       "      <th>1980-03-01 00:00:00</th>\n",
       "      <th>1980-04-01 00:00:00</th>\n",
       "      <th>1980-05-01 00:00:00</th>\n",
       "      <th>1980-06-01 00:00:00</th>\n",
       "      <th>1980-07-01 00:00:00</th>\n",
       "      <th>1980-08-01 00:00:00</th>\n",
       "      <th>1980-09-01 00:00:00</th>\n",
       "      <th>1980-10-01 00:00:00</th>\n",
       "      <th>...</th>\n",
       "      <th>2020-09-01 00:00:00</th>\n",
       "      <th>2020-10-01 00:00:00</th>\n",
       "      <th>2020-11-01 00:00:00</th>\n",
       "      <th>2020-12-01 00:00:00</th>\n",
       "      <th>2021-01-01 00:00:00</th>\n",
       "      <th>2021-02-01 00:00:00</th>\n",
       "      <th>2021-03-01 00:00:00</th>\n",
       "      <th>2021-04-01 00:00:00</th>\n",
       "      <th>2021-05-01 00:00:00</th>\n",
       "      <th>2021-06-01 00:00:00</th>\n",
       "    </tr>\n",
       "  </thead>\n",
       "  <tbody>\n",
       "    <tr>\n",
       "      <th>M2</th>\n",
       "      <td>1482.700</td>\n",
       "      <td>1494.600</td>\n",
       "      <td>1499.800</td>\n",
       "      <td>1502.200</td>\n",
       "      <td>1512.300</td>\n",
       "      <td>1529.200</td>\n",
       "      <td>1545.500</td>\n",
       "      <td>1561.500</td>\n",
       "      <td>1574.000</td>\n",
       "      <td>1584.800</td>\n",
       "      <td>...</td>\n",
       "      <td>18605.000</td>\n",
       "      <td>18751.100</td>\n",
       "      <td>18960.200</td>\n",
       "      <td>19131.400</td>\n",
       "      <td>19396.500</td>\n",
       "      <td>19667.900</td>\n",
       "      <td>19914.000</td>\n",
       "      <td>20119.900</td>\n",
       "      <td>20371.900</td>\n",
       "      <td>20388.900</td>\n",
       "    </tr>\n",
       "    <tr>\n",
       "      <th>Personal Income</th>\n",
       "      <td>5647.002</td>\n",
       "      <td>5620.681</td>\n",
       "      <td>5590.815</td>\n",
       "      <td>5584.107</td>\n",
       "      <td>5567.006</td>\n",
       "      <td>5580.753</td>\n",
       "      <td>5622.970</td>\n",
       "      <td>5635.319</td>\n",
       "      <td>5660.268</td>\n",
       "      <td>5709.690</td>\n",
       "      <td>...</td>\n",
       "      <td>17608.769</td>\n",
       "      <td>17560.994</td>\n",
       "      <td>17385.231</td>\n",
       "      <td>17432.051</td>\n",
       "      <td>19103.244</td>\n",
       "      <td>17678.432</td>\n",
       "      <td>21267.506</td>\n",
       "      <td>18263.434</td>\n",
       "      <td>17767.022</td>\n",
       "      <td>17698.928</td>\n",
       "    </tr>\n",
       "    <tr>\n",
       "      <th>Real GDP</th>\n",
       "      <td>6842.024</td>\n",
       "      <td>6842.024</td>\n",
       "      <td>6842.024</td>\n",
       "      <td>6701.046</td>\n",
       "      <td>6701.046</td>\n",
       "      <td>6701.046</td>\n",
       "      <td>6693.082</td>\n",
       "      <td>6693.082</td>\n",
       "      <td>6693.082</td>\n",
       "      <td>6817.903</td>\n",
       "      <td>...</td>\n",
       "      <td>18560.774</td>\n",
       "      <td>18767.778</td>\n",
       "      <td>18767.778</td>\n",
       "      <td>18767.778</td>\n",
       "      <td>19055.655</td>\n",
       "      <td>19055.655</td>\n",
       "      <td>19055.655</td>\n",
       "      <td>19358.176</td>\n",
       "      <td>19358.176</td>\n",
       "      <td>19358.176</td>\n",
       "    </tr>\n",
       "  </tbody>\n",
       "</table>\n",
       "<p>3 rows × 498 columns</p>\n",
       "</div>"
      ],
      "text/plain": [
       "                 1980-01-01  1980-02-01  1980-03-01  1980-04-01  1980-05-01  \\\n",
       "M2                 1482.700    1494.600    1499.800    1502.200    1512.300   \n",
       "Personal Income    5647.002    5620.681    5590.815    5584.107    5567.006   \n",
       "Real GDP           6842.024    6842.024    6842.024    6701.046    6701.046   \n",
       "\n",
       "                 1980-06-01  1980-07-01  1980-08-01  1980-09-01  1980-10-01  \\\n",
       "M2                 1529.200    1545.500    1561.500    1574.000    1584.800   \n",
       "Personal Income    5580.753    5622.970    5635.319    5660.268    5709.690   \n",
       "Real GDP           6701.046    6693.082    6693.082    6693.082    6817.903   \n",
       "\n",
       "                 ...  2020-09-01  2020-10-01  2020-11-01  2020-12-01  \\\n",
       "M2               ...   18605.000   18751.100   18960.200   19131.400   \n",
       "Personal Income  ...   17608.769   17560.994   17385.231   17432.051   \n",
       "Real GDP         ...   18560.774   18767.778   18767.778   18767.778   \n",
       "\n",
       "                 2021-01-01  2021-02-01  2021-03-01  2021-04-01  2021-05-01  \\\n",
       "M2                19396.500   19667.900   19914.000   20119.900   20371.900   \n",
       "Personal Income   19103.244   17678.432   21267.506   18263.434   17767.022   \n",
       "Real GDP          19055.655   19055.655   19055.655   19358.176   19358.176   \n",
       "\n",
       "                 2021-06-01  \n",
       "M2                20388.900  \n",
       "Personal Income   17698.928  \n",
       "Real GDP          19358.176  \n",
       "\n",
       "[3 rows x 498 columns]"
      ]
     },
     "execution_count": 49,
     "metadata": {},
     "output_type": "execute_result"
    }
   ],
   "source": [
    "data_transposed = all_current_data.transpose()\n",
    "data_transposed"
   ]
  },
  {
   "cell_type": "code",
   "execution_count": 50,
   "id": "1c7bca6f-871f-41a7-885e-8138c685b008",
   "metadata": {},
   "outputs": [
    {
     "ename": "KeyError",
     "evalue": "\"['level_0'] not found in axis\"",
     "output_type": "error",
     "traceback": [
      "\u001b[1;31m---------------------------------------------------------------------------\u001b[0m",
      "\u001b[1;31mKeyError\u001b[0m                                  Traceback (most recent call last)",
      "\u001b[1;32m<ipython-input-50-57375d16ad60>\u001b[0m in \u001b[0;36m<module>\u001b[1;34m\u001b[0m\n\u001b[0;32m      1\u001b[0m \u001b[1;31m# Make date index a column:\u001b[0m\u001b[1;33m\u001b[0m\u001b[1;33m\u001b[0m\u001b[1;33m\u001b[0m\u001b[0m\n\u001b[0;32m      2\u001b[0m \u001b[0mall_data_reindexed\u001b[0m \u001b[1;33m=\u001b[0m \u001b[0mall_current_data\u001b[0m\u001b[1;33m.\u001b[0m\u001b[0mreset_index\u001b[0m\u001b[1;33m(\u001b[0m\u001b[1;33m)\u001b[0m\u001b[1;33m\u001b[0m\u001b[1;33m\u001b[0m\u001b[0m\n\u001b[1;32m----> 3\u001b[1;33m \u001b[0mall_data_reindexed\u001b[0m\u001b[1;33m.\u001b[0m\u001b[0mdrop\u001b[0m\u001b[1;33m(\u001b[0m\u001b[0mcolumns\u001b[0m\u001b[1;33m=\u001b[0m\u001b[1;33m[\u001b[0m\u001b[1;34m'level_0'\u001b[0m\u001b[1;33m]\u001b[0m\u001b[1;33m,\u001b[0m \u001b[0minplace\u001b[0m\u001b[1;33m=\u001b[0m\u001b[1;32mTrue\u001b[0m\u001b[1;33m)\u001b[0m\u001b[1;33m\u001b[0m\u001b[1;33m\u001b[0m\u001b[0m\n\u001b[0m\u001b[0;32m      4\u001b[0m \u001b[0mall_data_reindexed\u001b[0m\u001b[1;33m.\u001b[0m\u001b[0mrename\u001b[0m\u001b[1;33m(\u001b[0m\u001b[0mcolumns\u001b[0m\u001b[1;33m=\u001b[0m\u001b[1;33m{\u001b[0m\u001b[1;34m'index'\u001b[0m\u001b[1;33m:\u001b[0m\u001b[1;34m'Date'\u001b[0m\u001b[1;33m}\u001b[0m\u001b[1;33m,\u001b[0m \u001b[0minplace\u001b[0m\u001b[1;33m=\u001b[0m\u001b[1;32mTrue\u001b[0m\u001b[1;33m)\u001b[0m\u001b[1;33m\u001b[0m\u001b[1;33m\u001b[0m\u001b[0m\n\u001b[0;32m      5\u001b[0m \u001b[0mall_data_reindexed\u001b[0m\u001b[1;33m.\u001b[0m\u001b[0mhead\u001b[0m\u001b[1;33m(\u001b[0m\u001b[1;33m)\u001b[0m\u001b[1;33m\u001b[0m\u001b[1;33m\u001b[0m\u001b[0m\n",
      "\u001b[1;32m~\\anaconda3\\envs\\alpacaenv\\lib\\site-packages\\pandas\\core\\frame.py\u001b[0m in \u001b[0;36mdrop\u001b[1;34m(self, labels, axis, index, columns, level, inplace, errors)\u001b[0m\n\u001b[0;32m   3938\u001b[0m                                            \u001b[0mindex\u001b[0m\u001b[1;33m=\u001b[0m\u001b[0mindex\u001b[0m\u001b[1;33m,\u001b[0m \u001b[0mcolumns\u001b[0m\u001b[1;33m=\u001b[0m\u001b[0mcolumns\u001b[0m\u001b[1;33m,\u001b[0m\u001b[1;33m\u001b[0m\u001b[1;33m\u001b[0m\u001b[0m\n\u001b[0;32m   3939\u001b[0m                                            \u001b[0mlevel\u001b[0m\u001b[1;33m=\u001b[0m\u001b[0mlevel\u001b[0m\u001b[1;33m,\u001b[0m \u001b[0minplace\u001b[0m\u001b[1;33m=\u001b[0m\u001b[0minplace\u001b[0m\u001b[1;33m,\u001b[0m\u001b[1;33m\u001b[0m\u001b[1;33m\u001b[0m\u001b[0m\n\u001b[1;32m-> 3940\u001b[1;33m                                            errors=errors)\n\u001b[0m\u001b[0;32m   3941\u001b[0m \u001b[1;33m\u001b[0m\u001b[0m\n\u001b[0;32m   3942\u001b[0m     @rewrite_axis_style_signature('mapper', [('copy', True),\n",
      "\u001b[1;32m~\\anaconda3\\envs\\alpacaenv\\lib\\site-packages\\pandas\\core\\generic.py\u001b[0m in \u001b[0;36mdrop\u001b[1;34m(self, labels, axis, index, columns, level, inplace, errors)\u001b[0m\n\u001b[0;32m   3778\u001b[0m         \u001b[1;32mfor\u001b[0m \u001b[0maxis\u001b[0m\u001b[1;33m,\u001b[0m \u001b[0mlabels\u001b[0m \u001b[1;32min\u001b[0m \u001b[0maxes\u001b[0m\u001b[1;33m.\u001b[0m\u001b[0mitems\u001b[0m\u001b[1;33m(\u001b[0m\u001b[1;33m)\u001b[0m\u001b[1;33m:\u001b[0m\u001b[1;33m\u001b[0m\u001b[1;33m\u001b[0m\u001b[0m\n\u001b[0;32m   3779\u001b[0m             \u001b[1;32mif\u001b[0m \u001b[0mlabels\u001b[0m \u001b[1;32mis\u001b[0m \u001b[1;32mnot\u001b[0m \u001b[1;32mNone\u001b[0m\u001b[1;33m:\u001b[0m\u001b[1;33m\u001b[0m\u001b[1;33m\u001b[0m\u001b[0m\n\u001b[1;32m-> 3780\u001b[1;33m                 \u001b[0mobj\u001b[0m \u001b[1;33m=\u001b[0m \u001b[0mobj\u001b[0m\u001b[1;33m.\u001b[0m\u001b[0m_drop_axis\u001b[0m\u001b[1;33m(\u001b[0m\u001b[0mlabels\u001b[0m\u001b[1;33m,\u001b[0m \u001b[0maxis\u001b[0m\u001b[1;33m,\u001b[0m \u001b[0mlevel\u001b[0m\u001b[1;33m=\u001b[0m\u001b[0mlevel\u001b[0m\u001b[1;33m,\u001b[0m \u001b[0merrors\u001b[0m\u001b[1;33m=\u001b[0m\u001b[0merrors\u001b[0m\u001b[1;33m)\u001b[0m\u001b[1;33m\u001b[0m\u001b[1;33m\u001b[0m\u001b[0m\n\u001b[0m\u001b[0;32m   3781\u001b[0m \u001b[1;33m\u001b[0m\u001b[0m\n\u001b[0;32m   3782\u001b[0m         \u001b[1;32mif\u001b[0m \u001b[0minplace\u001b[0m\u001b[1;33m:\u001b[0m\u001b[1;33m\u001b[0m\u001b[1;33m\u001b[0m\u001b[0m\n",
      "\u001b[1;32m~\\anaconda3\\envs\\alpacaenv\\lib\\site-packages\\pandas\\core\\generic.py\u001b[0m in \u001b[0;36m_drop_axis\u001b[1;34m(self, labels, axis, level, errors)\u001b[0m\n\u001b[0;32m   3810\u001b[0m                 \u001b[0mnew_axis\u001b[0m \u001b[1;33m=\u001b[0m \u001b[0maxis\u001b[0m\u001b[1;33m.\u001b[0m\u001b[0mdrop\u001b[0m\u001b[1;33m(\u001b[0m\u001b[0mlabels\u001b[0m\u001b[1;33m,\u001b[0m \u001b[0mlevel\u001b[0m\u001b[1;33m=\u001b[0m\u001b[0mlevel\u001b[0m\u001b[1;33m,\u001b[0m \u001b[0merrors\u001b[0m\u001b[1;33m=\u001b[0m\u001b[0merrors\u001b[0m\u001b[1;33m)\u001b[0m\u001b[1;33m\u001b[0m\u001b[1;33m\u001b[0m\u001b[0m\n\u001b[0;32m   3811\u001b[0m             \u001b[1;32melse\u001b[0m\u001b[1;33m:\u001b[0m\u001b[1;33m\u001b[0m\u001b[1;33m\u001b[0m\u001b[0m\n\u001b[1;32m-> 3812\u001b[1;33m                 \u001b[0mnew_axis\u001b[0m \u001b[1;33m=\u001b[0m \u001b[0maxis\u001b[0m\u001b[1;33m.\u001b[0m\u001b[0mdrop\u001b[0m\u001b[1;33m(\u001b[0m\u001b[0mlabels\u001b[0m\u001b[1;33m,\u001b[0m \u001b[0merrors\u001b[0m\u001b[1;33m=\u001b[0m\u001b[0merrors\u001b[0m\u001b[1;33m)\u001b[0m\u001b[1;33m\u001b[0m\u001b[1;33m\u001b[0m\u001b[0m\n\u001b[0m\u001b[0;32m   3813\u001b[0m             \u001b[0mresult\u001b[0m \u001b[1;33m=\u001b[0m \u001b[0mself\u001b[0m\u001b[1;33m.\u001b[0m\u001b[0mreindex\u001b[0m\u001b[1;33m(\u001b[0m\u001b[1;33m**\u001b[0m\u001b[1;33m{\u001b[0m\u001b[0maxis_name\u001b[0m\u001b[1;33m:\u001b[0m \u001b[0mnew_axis\u001b[0m\u001b[1;33m}\u001b[0m\u001b[1;33m)\u001b[0m\u001b[1;33m\u001b[0m\u001b[1;33m\u001b[0m\u001b[0m\n\u001b[0;32m   3814\u001b[0m \u001b[1;33m\u001b[0m\u001b[0m\n",
      "\u001b[1;32m~\\anaconda3\\envs\\alpacaenv\\lib\\site-packages\\pandas\\core\\indexes\\base.py\u001b[0m in \u001b[0;36mdrop\u001b[1;34m(self, labels, errors)\u001b[0m\n\u001b[0;32m   4963\u001b[0m             \u001b[1;32mif\u001b[0m \u001b[0merrors\u001b[0m \u001b[1;33m!=\u001b[0m \u001b[1;34m'ignore'\u001b[0m\u001b[1;33m:\u001b[0m\u001b[1;33m\u001b[0m\u001b[1;33m\u001b[0m\u001b[0m\n\u001b[0;32m   4964\u001b[0m                 raise KeyError(\n\u001b[1;32m-> 4965\u001b[1;33m                     '{} not found in axis'.format(labels[mask]))\n\u001b[0m\u001b[0;32m   4966\u001b[0m             \u001b[0mindexer\u001b[0m \u001b[1;33m=\u001b[0m \u001b[0mindexer\u001b[0m\u001b[1;33m[\u001b[0m\u001b[1;33m~\u001b[0m\u001b[0mmask\u001b[0m\u001b[1;33m]\u001b[0m\u001b[1;33m\u001b[0m\u001b[1;33m\u001b[0m\u001b[0m\n\u001b[0;32m   4967\u001b[0m         \u001b[1;32mreturn\u001b[0m \u001b[0mself\u001b[0m\u001b[1;33m.\u001b[0m\u001b[0mdelete\u001b[0m\u001b[1;33m(\u001b[0m\u001b[0mindexer\u001b[0m\u001b[1;33m)\u001b[0m\u001b[1;33m\u001b[0m\u001b[1;33m\u001b[0m\u001b[0m\n",
      "\u001b[1;31mKeyError\u001b[0m: \"['level_0'] not found in axis\""
     ]
    }
   ],
   "source": [
    "# Make date index a column:\n",
    "all_data_reindexed = all_current_data.reset_index()\n",
    "all_data_reindexed.drop(columns=['level_0'], inplace=True)\n",
    "all_data_reindexed.rename(columns={'index':'Date'}, inplace=True)\n",
    "all_data_reindexed.head()"
   ]
  },
  {
   "cell_type": "code",
   "execution_count": null,
   "id": "0db95862-da60-483e-aae2-c7e24f87562b",
   "metadata": {},
   "outputs": [],
   "source": [
    "allIndexed_data = all_data_reindexed.set_index(['Date','M2','Personal Income','Real GDP'])\n",
    "allIndexed_data.head()"
   ]
  },
  {
   "cell_type": "code",
   "execution_count": null,
   "id": "dac7a322-6526-43bb-af28-20dc0e995c05",
   "metadata": {
    "tags": []
   },
   "outputs": [],
   "source": [
    "# Create Plotting Function:\n",
    "def create_plot():\n",
    "    return all_data_reindexed.hvplot(\n",
    "        x= 'Date', \n",
    "        y='gross_rent', \n",
    "        xlabel='Year', \n",
    "        ylabel='Price per SqFt.', \n",
    "        rot=45, \n",
    "        groupby = 'neighborhood',\n",
    "        title=\"Average Gross Rent by Neighborhood\"\n",
    ").opts(yformatter=\"%.0f\")\n",
    "\n",
    "# Create Interaction between widget & function:\n",
    "pn.interact(create_plot)"
   ]
  }
 ],
 "metadata": {
  "kernelspec": {
   "display_name": "Python [conda env:alpacaenv]",
   "language": "python",
   "name": "conda-env-alpacaenv-py"
  },
  "language_info": {
   "codemirror_mode": {
    "name": "ipython",
    "version": 3
   },
   "file_extension": ".py",
   "mimetype": "text/x-python",
   "name": "python",
   "nbconvert_exporter": "python",
   "pygments_lexer": "ipython3",
   "version": "3.7.10"
  }
 },
 "nbformat": 4,
 "nbformat_minor": 5
}
