{
 "cells": [
  {
   "cell_type": "code",
   "execution_count": 1,
   "id": "a6d12b33",
   "metadata": {},
   "outputs": [
    {
     "name": "stdout",
     "output_type": "stream",
     "text": [
      "Requirement already satisfied: Historic-Crypto in c:\\users\\prade\\anaconda3\\envs\\pyvizenv\\lib\\site-packages (0.1.4)Note: you may need to restart the kernel to use updated packages.\n",
      "Requirement already satisfied: pandas in c:\\users\\prade\\anaconda3\\envs\\pyvizenv\\lib\\site-packages (from Historic-Crypto) (1.1.5)\n",
      "Requirement already satisfied: requests in c:\\users\\prade\\anaconda3\\envs\\pyvizenv\\lib\\site-packages (from Historic-Crypto) (2.25.1)\n",
      "Requirement already satisfied: tqdm in c:\\users\\prade\\anaconda3\\envs\\pyvizenv\\lib\\site-packages (from Historic-Crypto) (4.59.0)\n",
      "Requirement already satisfied: python-dateutil>=2.7.3 in c:\\users\\prade\\anaconda3\\envs\\pyvizenv\\lib\\site-packages (from pandas->Historic-Crypto) (2.8.1)\n",
      "Requirement already satisfied: pytz>=2017.2 in c:\\users\\prade\\anaconda3\\envs\\pyvizenv\\lib\\site-packages (from pandas->Historic-Crypto) (2021.1)\n",
      "Requirement already satisfied: numpy>=1.15.4 in c:\\users\\prade\\anaconda3\\envs\\pyvizenv\\lib\\site-packages (from pandas->Historic-Crypto) (1.21.1)\n",
      "Requirement already satisfied: six>=1.5 in c:\\users\\prade\\anaconda3\\envs\\pyvizenv\\lib\\site-packages (from python-dateutil>=2.7.3->pandas->Historic-Crypto) (1.15.0)\n",
      "Requirement already satisfied: chardet<5,>=3.0.2 in c:\\users\\prade\\anaconda3\\envs\\pyvizenv\\lib\\site-packages (from requests->Historic-Crypto) (4.0.0)\n",
      "Requirement already satisfied: idna<3,>=2.5 in c:\\users\\prade\\anaconda3\\envs\\pyvizenv\\lib\\site-packages (from requests->Historic-Crypto) (2.10)\n",
      "Requirement already satisfied: urllib3<1.27,>=1.21.1 in c:\\users\\prade\\anaconda3\\envs\\pyvizenv\\lib\\site-packages (from requests->Historic-Crypto) (1.26.4)\n",
      "\n",
      "Requirement already satisfied: certifi>=2017.4.17 in c:\\users\\prade\\anaconda3\\envs\\pyvizenv\\lib\\site-packages (from requests->Historic-Crypto) (2020.6.20)\n"
     ]
    }
   ],
   "source": [
    "pip install Historic-Crypto\n"
   ]
  },
  {
   "cell_type": "code",
   "execution_count": 3,
   "id": "741d089f",
   "metadata": {},
   "outputs": [],
   "source": [
    "from Historic_Crypto import HistoricalData\n",
    "from Historic_Crypto import Cryptocurrencies\n",
    "from Historic_Crypto import LiveCryptoData"
   ]
  },
  {
   "cell_type": "code",
   "execution_count": 4,
   "id": "8662ebdb",
   "metadata": {},
   "outputs": [
    {
     "name": "stdout",
     "output_type": "stream",
     "text": [
      "Connected to the CoinBase Pro API.\n"
     ]
    }
   ],
   "source": [
    "Cryptocurrencies().find_crypto_pairs()"
   ]
  },
  {
   "cell_type": "code",
   "execution_count": 7,
   "id": "76f31797",
   "metadata": {},
   "outputs": [],
   "source": [
    "import pandas as pd\n",
    "import pandas_datareader.data as pdr\n",
    "import datetime as dt"
   ]
  },
  {
   "cell_type": "code",
   "execution_count": 8,
   "id": "212ee563",
   "metadata": {},
   "outputs": [],
   "source": [
    "start = dt.datetime(2010,1,1)\n",
    "end = dt.datetime(2021,7,31)\n",
    "df = pdr.DataReader('BTC-USD','yahoo',start,end)"
   ]
  },
  {
   "cell_type": "code",
   "execution_count": 9,
   "id": "9aedf45d",
   "metadata": {},
   "outputs": [
    {
     "data": {
      "text/html": [
       "<div>\n",
       "<style scoped>\n",
       "    .dataframe tbody tr th:only-of-type {\n",
       "        vertical-align: middle;\n",
       "    }\n",
       "\n",
       "    .dataframe tbody tr th {\n",
       "        vertical-align: top;\n",
       "    }\n",
       "\n",
       "    .dataframe thead th {\n",
       "        text-align: right;\n",
       "    }\n",
       "</style>\n",
       "<table border=\"1\" class=\"dataframe\">\n",
       "  <thead>\n",
       "    <tr style=\"text-align: right;\">\n",
       "      <th></th>\n",
       "      <th>High</th>\n",
       "      <th>Low</th>\n",
       "      <th>Open</th>\n",
       "      <th>Close</th>\n",
       "      <th>Volume</th>\n",
       "      <th>Adj Close</th>\n",
       "    </tr>\n",
       "    <tr>\n",
       "      <th>Date</th>\n",
       "      <th></th>\n",
       "      <th></th>\n",
       "      <th></th>\n",
       "      <th></th>\n",
       "      <th></th>\n",
       "      <th></th>\n",
       "    </tr>\n",
       "  </thead>\n",
       "  <tbody>\n",
       "    <tr>\n",
       "      <th>2014-09-16</th>\n",
       "      <td>468.174011</td>\n",
       "      <td>452.421997</td>\n",
       "      <td>465.864014</td>\n",
       "      <td>457.334015</td>\n",
       "      <td>2.105680e+07</td>\n",
       "      <td>457.334015</td>\n",
       "    </tr>\n",
       "    <tr>\n",
       "      <th>2014-09-17</th>\n",
       "      <td>456.859985</td>\n",
       "      <td>413.104004</td>\n",
       "      <td>456.859985</td>\n",
       "      <td>424.440002</td>\n",
       "      <td>3.448320e+07</td>\n",
       "      <td>424.440002</td>\n",
       "    </tr>\n",
       "    <tr>\n",
       "      <th>2014-09-18</th>\n",
       "      <td>427.834991</td>\n",
       "      <td>384.532013</td>\n",
       "      <td>424.102997</td>\n",
       "      <td>394.795990</td>\n",
       "      <td>3.791970e+07</td>\n",
       "      <td>394.795990</td>\n",
       "    </tr>\n",
       "    <tr>\n",
       "      <th>2014-09-19</th>\n",
       "      <td>423.295990</td>\n",
       "      <td>389.882996</td>\n",
       "      <td>394.673004</td>\n",
       "      <td>408.903992</td>\n",
       "      <td>3.686360e+07</td>\n",
       "      <td>408.903992</td>\n",
       "    </tr>\n",
       "    <tr>\n",
       "      <th>2014-09-20</th>\n",
       "      <td>412.425995</td>\n",
       "      <td>393.181000</td>\n",
       "      <td>408.084991</td>\n",
       "      <td>398.821014</td>\n",
       "      <td>2.658010e+07</td>\n",
       "      <td>398.821014</td>\n",
       "    </tr>\n",
       "    <tr>\n",
       "      <th>...</th>\n",
       "      <td>...</td>\n",
       "      <td>...</td>\n",
       "      <td>...</td>\n",
       "      <td>...</td>\n",
       "      <td>...</td>\n",
       "      <td>...</td>\n",
       "    </tr>\n",
       "    <tr>\n",
       "      <th>2021-07-27</th>\n",
       "      <td>40816.070312</td>\n",
       "      <td>38862.437500</td>\n",
       "      <td>39503.187500</td>\n",
       "      <td>39995.906250</td>\n",
       "      <td>3.870240e+10</td>\n",
       "      <td>39995.906250</td>\n",
       "    </tr>\n",
       "    <tr>\n",
       "      <th>2021-07-28</th>\n",
       "      <td>40593.070312</td>\n",
       "      <td>39352.058594</td>\n",
       "      <td>39995.453125</td>\n",
       "      <td>40008.421875</td>\n",
       "      <td>2.716715e+10</td>\n",
       "      <td>40008.421875</td>\n",
       "    </tr>\n",
       "    <tr>\n",
       "      <th>2021-07-29</th>\n",
       "      <td>42235.546875</td>\n",
       "      <td>38397.355469</td>\n",
       "      <td>40027.484375</td>\n",
       "      <td>42235.546875</td>\n",
       "      <td>3.307278e+10</td>\n",
       "      <td>42235.546875</td>\n",
       "    </tr>\n",
       "    <tr>\n",
       "      <th>2021-07-30</th>\n",
       "      <td>42231.449219</td>\n",
       "      <td>41110.832031</td>\n",
       "      <td>42196.304688</td>\n",
       "      <td>41626.195312</td>\n",
       "      <td>2.580285e+10</td>\n",
       "      <td>41626.195312</td>\n",
       "    </tr>\n",
       "    <tr>\n",
       "      <th>2021-07-31</th>\n",
       "      <td>42541.679688</td>\n",
       "      <td>39540.941406</td>\n",
       "      <td>41460.843750</td>\n",
       "      <td>39974.894531</td>\n",
       "      <td>2.668844e+10</td>\n",
       "      <td>39974.894531</td>\n",
       "    </tr>\n",
       "  </tbody>\n",
       "</table>\n",
       "<p>2507 rows × 6 columns</p>\n",
       "</div>"
      ],
      "text/plain": [
       "                    High           Low          Open         Close  \\\n",
       "Date                                                                 \n",
       "2014-09-16    468.174011    452.421997    465.864014    457.334015   \n",
       "2014-09-17    456.859985    413.104004    456.859985    424.440002   \n",
       "2014-09-18    427.834991    384.532013    424.102997    394.795990   \n",
       "2014-09-19    423.295990    389.882996    394.673004    408.903992   \n",
       "2014-09-20    412.425995    393.181000    408.084991    398.821014   \n",
       "...                  ...           ...           ...           ...   \n",
       "2021-07-27  40816.070312  38862.437500  39503.187500  39995.906250   \n",
       "2021-07-28  40593.070312  39352.058594  39995.453125  40008.421875   \n",
       "2021-07-29  42235.546875  38397.355469  40027.484375  42235.546875   \n",
       "2021-07-30  42231.449219  41110.832031  42196.304688  41626.195312   \n",
       "2021-07-31  42541.679688  39540.941406  41460.843750  39974.894531   \n",
       "\n",
       "                  Volume     Adj Close  \n",
       "Date                                    \n",
       "2014-09-16  2.105680e+07    457.334015  \n",
       "2014-09-17  3.448320e+07    424.440002  \n",
       "2014-09-18  3.791970e+07    394.795990  \n",
       "2014-09-19  3.686360e+07    408.903992  \n",
       "2014-09-20  2.658010e+07    398.821014  \n",
       "...                  ...           ...  \n",
       "2021-07-27  3.870240e+10  39995.906250  \n",
       "2021-07-28  2.716715e+10  40008.421875  \n",
       "2021-07-29  3.307278e+10  42235.546875  \n",
       "2021-07-30  2.580285e+10  41626.195312  \n",
       "2021-07-31  2.668844e+10  39974.894531  \n",
       "\n",
       "[2507 rows x 6 columns]"
      ]
     },
     "execution_count": 9,
     "metadata": {},
     "output_type": "execute_result"
    }
   ],
   "source": [
    "df"
   ]
  },
  {
   "cell_type": "code",
   "execution_count": null,
   "id": "308170ed",
   "metadata": {},
   "outputs": [],
   "source": []
  }
 ],
 "metadata": {
  "kernelspec": {
   "display_name": "Python [conda env:pyvizenv] *",
   "language": "python",
   "name": "conda-env-pyvizenv-py"
  },
  "language_info": {
   "codemirror_mode": {
    "name": "ipython",
    "version": 3
   },
   "file_extension": ".py",
   "mimetype": "text/x-python",
   "name": "python",
   "nbconvert_exporter": "python",
   "pygments_lexer": "ipython3",
   "version": "3.7.10"
  }
 },
 "nbformat": 4,
 "nbformat_minor": 5
}
